{
 "cells": [
  {
   "cell_type": "code",
   "execution_count": 28,
   "metadata": {},
   "outputs": [],
   "source": [
    "import pandas as pd\n",
    "\n",
    "# Load the CSV file into a DataFrame\n",
    "df = pd.read_csv('Student Profiles Wrangled.csv')"
   ]
  },
  {
   "cell_type": "code",
   "execution_count": 29,
   "metadata": {},
   "outputs": [
    {
     "data": {
      "text/html": [
       "<div>\n",
       "<style scoped>\n",
       "    .dataframe tbody tr th:only-of-type {\n",
       "        vertical-align: middle;\n",
       "    }\n",
       "\n",
       "    .dataframe tbody tr th {\n",
       "        vertical-align: top;\n",
       "    }\n",
       "\n",
       "    .dataframe thead th {\n",
       "        text-align: right;\n",
       "    }\n",
       "</style>\n",
       "<table border=\"1\" class=\"dataframe\">\n",
       "  <thead>\n",
       "    <tr style=\"text-align: right;\">\n",
       "      <th></th>\n",
       "      <th>STUDENT ID</th>\n",
       "      <th>SALUTATION</th>\n",
       "      <th>GENDER</th>\n",
       "      <th>NATIONALITY</th>\n",
       "      <th>DOB</th>\n",
       "      <th>HIGHEST QUALIFICATION</th>\n",
       "      <th>NAME OF QUALIFICATION AND INSTITUTION</th>\n",
       "      <th>DATE ATTAINED HIGHEST QUALIFICATION</th>\n",
       "      <th>DESIGNATION</th>\n",
       "      <th>INTAKE NO</th>\n",
       "      <th>...</th>\n",
       "      <th>FULL-TIME OR PART-TIME</th>\n",
       "      <th>COURSE FUNDING</th>\n",
       "      <th>REGISTRATION FEE</th>\n",
       "      <th>PAYMENT MODE</th>\n",
       "      <th>COURSE FEE</th>\n",
       "      <th>GPA</th>\n",
       "      <th>CITIZENSHIP_STATUS</th>\n",
       "      <th>date_diff</th>\n",
       "      <th>COURSE</th>\n",
       "      <th>Age</th>\n",
       "    </tr>\n",
       "  </thead>\n",
       "  <tbody>\n",
       "    <tr>\n",
       "      <th>0</th>\n",
       "      <td>2020/1101-013/001</td>\n",
       "      <td>Ms</td>\n",
       "      <td>F</td>\n",
       "      <td>Singaporean</td>\n",
       "      <td>1978-04-03</td>\n",
       "      <td>Certificate</td>\n",
       "      <td>Certificate in Office Skills, ITE</td>\n",
       "      <td>2016-11-06</td>\n",
       "      <td>Snr Associate, Client Services</td>\n",
       "      <td>13th</td>\n",
       "      <td>...</td>\n",
       "      <td>Part-Time</td>\n",
       "      <td>Subsidiesed</td>\n",
       "      <td>107</td>\n",
       "      <td>NETS</td>\n",
       "      <td>1712</td>\n",
       "      <td>3.0</td>\n",
       "      <td>L</td>\n",
       "      <td>456</td>\n",
       "      <td>1101</td>\n",
       "      <td>46</td>\n",
       "    </tr>\n",
       "    <tr>\n",
       "      <th>1</th>\n",
       "      <td>2020/1101-013/002</td>\n",
       "      <td>Ms</td>\n",
       "      <td>F</td>\n",
       "      <td>Singaporean</td>\n",
       "      <td>1966-03-23</td>\n",
       "      <td>Certificate</td>\n",
       "      <td>WSQ Higher Certificate in Human Resources, WPL...</td>\n",
       "      <td>2018-02-06</td>\n",
       "      <td>Admin Officer</td>\n",
       "      <td>13th</td>\n",
       "      <td>...</td>\n",
       "      <td>Part-Time</td>\n",
       "      <td>Individual</td>\n",
       "      <td>107</td>\n",
       "      <td>NETS</td>\n",
       "      <td>1712</td>\n",
       "      <td>2.5</td>\n",
       "      <td>L</td>\n",
       "      <td>456</td>\n",
       "      <td>1101</td>\n",
       "      <td>58</td>\n",
       "    </tr>\n",
       "    <tr>\n",
       "      <th>2</th>\n",
       "      <td>2020/1101-013/003</td>\n",
       "      <td>Ms</td>\n",
       "      <td>F</td>\n",
       "      <td>Singaporean</td>\n",
       "      <td>1988-04-12</td>\n",
       "      <td>Certificate</td>\n",
       "      <td>Nitec in Service Skills (Office), ITE</td>\n",
       "      <td>2016-11-06</td>\n",
       "      <td>Admin Assistant</td>\n",
       "      <td>13th</td>\n",
       "      <td>...</td>\n",
       "      <td>Part-Time</td>\n",
       "      <td>Sponsored</td>\n",
       "      <td>107</td>\n",
       "      <td>Bank Transfer</td>\n",
       "      <td>1712</td>\n",
       "      <td>2.0</td>\n",
       "      <td>L</td>\n",
       "      <td>456</td>\n",
       "      <td>1101</td>\n",
       "      <td>36</td>\n",
       "    </tr>\n",
       "    <tr>\n",
       "      <th>3</th>\n",
       "      <td>2020/1101-014/004</td>\n",
       "      <td>Ms</td>\n",
       "      <td>F</td>\n",
       "      <td>Singaporean</td>\n",
       "      <td>1991-11-27</td>\n",
       "      <td>Degree</td>\n",
       "      <td>Bachelor Science (Facilities &amp; Events Manageme...</td>\n",
       "      <td>2017-06-10</td>\n",
       "      <td>HR Administrator</td>\n",
       "      <td>14th</td>\n",
       "      <td>...</td>\n",
       "      <td>Part-Time</td>\n",
       "      <td>Subsidiesed</td>\n",
       "      <td>107</td>\n",
       "      <td>NETS</td>\n",
       "      <td>1212</td>\n",
       "      <td>2.5</td>\n",
       "      <td>L</td>\n",
       "      <td>456</td>\n",
       "      <td>1101</td>\n",
       "      <td>32</td>\n",
       "    </tr>\n",
       "    <tr>\n",
       "      <th>4</th>\n",
       "      <td>2020/1101-014/005</td>\n",
       "      <td>Ms</td>\n",
       "      <td>F</td>\n",
       "      <td>Singaporean</td>\n",
       "      <td>1985-04-23</td>\n",
       "      <td>Diploma</td>\n",
       "      <td>Diploma in Procurement and Supply Management, ...</td>\n",
       "      <td>2016-08-10</td>\n",
       "      <td>Purchasing Executive</td>\n",
       "      <td>14th</td>\n",
       "      <td>...</td>\n",
       "      <td>Part-Time</td>\n",
       "      <td>Subsidiesed</td>\n",
       "      <td>107</td>\n",
       "      <td>NETS</td>\n",
       "      <td>1712</td>\n",
       "      <td>2.4</td>\n",
       "      <td>L</td>\n",
       "      <td>456</td>\n",
       "      <td>1101</td>\n",
       "      <td>39</td>\n",
       "    </tr>\n",
       "    <tr>\n",
       "      <th>...</th>\n",
       "      <td>...</td>\n",
       "      <td>...</td>\n",
       "      <td>...</td>\n",
       "      <td>...</td>\n",
       "      <td>...</td>\n",
       "      <td>...</td>\n",
       "      <td>...</td>\n",
       "      <td>...</td>\n",
       "      <td>...</td>\n",
       "      <td>...</td>\n",
       "      <td>...</td>\n",
       "      <td>...</td>\n",
       "      <td>...</td>\n",
       "      <td>...</td>\n",
       "      <td>...</td>\n",
       "      <td>...</td>\n",
       "      <td>...</td>\n",
       "      <td>...</td>\n",
       "      <td>...</td>\n",
       "      <td>...</td>\n",
       "      <td>...</td>\n",
       "    </tr>\n",
       "    <tr>\n",
       "      <th>239</th>\n",
       "      <td>2019/5113-007/005</td>\n",
       "      <td>Ms</td>\n",
       "      <td>F</td>\n",
       "      <td>Singaporean</td>\n",
       "      <td>1973-01-10</td>\n",
       "      <td>Degree</td>\n",
       "      <td>Bachelor of Commerce (Accounting and Finance)/...</td>\n",
       "      <td>2017-11-05</td>\n",
       "      <td>Head, Registry &amp; Corp Admin</td>\n",
       "      <td>7th</td>\n",
       "      <td>...</td>\n",
       "      <td>Part-Time</td>\n",
       "      <td>Individual</td>\n",
       "      <td>107</td>\n",
       "      <td>Bank Transfer</td>\n",
       "      <td>5803</td>\n",
       "      <td>2.9</td>\n",
       "      <td>L</td>\n",
       "      <td>183</td>\n",
       "      <td>5113</td>\n",
       "      <td>51</td>\n",
       "    </tr>\n",
       "    <tr>\n",
       "      <th>240</th>\n",
       "      <td>2019/5113-007/006</td>\n",
       "      <td>Ms</td>\n",
       "      <td>F</td>\n",
       "      <td>Permanent Resident</td>\n",
       "      <td>1982-09-30</td>\n",
       "      <td>Degree</td>\n",
       "      <td>Bachelor of Economics (Accounting)/\\nUniversit...</td>\n",
       "      <td>2016-05-05</td>\n",
       "      <td>Finance Officer</td>\n",
       "      <td>7th</td>\n",
       "      <td>...</td>\n",
       "      <td>Part-Time</td>\n",
       "      <td>Individual</td>\n",
       "      <td>107</td>\n",
       "      <td>Bank Transfer</td>\n",
       "      <td>5803</td>\n",
       "      <td>2.0</td>\n",
       "      <td>L</td>\n",
       "      <td>183</td>\n",
       "      <td>5113</td>\n",
       "      <td>41</td>\n",
       "    </tr>\n",
       "    <tr>\n",
       "      <th>241</th>\n",
       "      <td>2019/5113-006/003</td>\n",
       "      <td>Ms</td>\n",
       "      <td>F</td>\n",
       "      <td>Singaporean</td>\n",
       "      <td>1990-06-03</td>\n",
       "      <td>Degree</td>\n",
       "      <td>Bachelor of Science in Hotel Administration (H...</td>\n",
       "      <td>2015-06-08</td>\n",
       "      <td>HR Assistant</td>\n",
       "      <td>6th</td>\n",
       "      <td>...</td>\n",
       "      <td>Part-Time</td>\n",
       "      <td>Individual</td>\n",
       "      <td>107</td>\n",
       "      <td>Bank Transfer</td>\n",
       "      <td>5803</td>\n",
       "      <td>2.8</td>\n",
       "      <td>L</td>\n",
       "      <td>183</td>\n",
       "      <td>5113</td>\n",
       "      <td>34</td>\n",
       "    </tr>\n",
       "    <tr>\n",
       "      <th>242</th>\n",
       "      <td>2019/5113-005/001</td>\n",
       "      <td>Ms</td>\n",
       "      <td>F</td>\n",
       "      <td>Singaporean</td>\n",
       "      <td>1981-11-14</td>\n",
       "      <td>Degree</td>\n",
       "      <td>Bachelor of Arts with Second Class Honours (Lo...</td>\n",
       "      <td>2014-08-04</td>\n",
       "      <td>Household Goods Coordinator</td>\n",
       "      <td>5th</td>\n",
       "      <td>...</td>\n",
       "      <td>Part-Time</td>\n",
       "      <td>Individual</td>\n",
       "      <td>107</td>\n",
       "      <td>Bank Transfer</td>\n",
       "      <td>5803</td>\n",
       "      <td>1.9</td>\n",
       "      <td>L</td>\n",
       "      <td>180</td>\n",
       "      <td>5113</td>\n",
       "      <td>42</td>\n",
       "    </tr>\n",
       "    <tr>\n",
       "      <th>243</th>\n",
       "      <td>2019/5113-005/002</td>\n",
       "      <td>Ms</td>\n",
       "      <td>F</td>\n",
       "      <td>Singaporean</td>\n",
       "      <td>1983-01-28</td>\n",
       "      <td>Degree</td>\n",
       "      <td>Bachelor of Business (Business Administration)...</td>\n",
       "      <td>2016-10-04</td>\n",
       "      <td>Assistant Director, Human Resources</td>\n",
       "      <td>5th</td>\n",
       "      <td>...</td>\n",
       "      <td>Part-Time</td>\n",
       "      <td>Individual</td>\n",
       "      <td>107</td>\n",
       "      <td>Bank Transfer</td>\n",
       "      <td>5803</td>\n",
       "      <td>2.9</td>\n",
       "      <td>L</td>\n",
       "      <td>180</td>\n",
       "      <td>5113</td>\n",
       "      <td>41</td>\n",
       "    </tr>\n",
       "  </tbody>\n",
       "</table>\n",
       "<p>244 rows × 22 columns</p>\n",
       "</div>"
      ],
      "text/plain": [
       "            STUDENT ID SALUTATION GENDER         NATIONALITY         DOB  \\\n",
       "0    2020/1101-013/001         Ms      F         Singaporean  1978-04-03   \n",
       "1    2020/1101-013/002         Ms      F         Singaporean  1966-03-23   \n",
       "2    2020/1101-013/003         Ms      F         Singaporean  1988-04-12   \n",
       "3    2020/1101-014/004         Ms      F         Singaporean  1991-11-27   \n",
       "4    2020/1101-014/005         Ms      F         Singaporean  1985-04-23   \n",
       "..                 ...        ...    ...                 ...         ...   \n",
       "239  2019/5113-007/005         Ms      F         Singaporean  1973-01-10   \n",
       "240  2019/5113-007/006         Ms      F  Permanent Resident  1982-09-30   \n",
       "241  2019/5113-006/003         Ms      F         Singaporean  1990-06-03   \n",
       "242  2019/5113-005/001         Ms      F         Singaporean  1981-11-14   \n",
       "243  2019/5113-005/002         Ms      F         Singaporean  1983-01-28   \n",
       "\n",
       "    HIGHEST QUALIFICATION              NAME OF QUALIFICATION AND INSTITUTION  \\\n",
       "0             Certificate                  Certificate in Office Skills, ITE   \n",
       "1             Certificate  WSQ Higher Certificate in Human Resources, WPL...   \n",
       "2             Certificate              Nitec in Service Skills (Office), ITE   \n",
       "3                  Degree  Bachelor Science (Facilities & Events Manageme...   \n",
       "4                 Diploma  Diploma in Procurement and Supply Management, ...   \n",
       "..                    ...                                                ...   \n",
       "239                Degree  Bachelor of Commerce (Accounting and Finance)/...   \n",
       "240                Degree  Bachelor of Economics (Accounting)/\\nUniversit...   \n",
       "241                Degree  Bachelor of Science in Hotel Administration (H...   \n",
       "242                Degree  Bachelor of Arts with Second Class Honours (Lo...   \n",
       "243                Degree  Bachelor of Business (Business Administration)...   \n",
       "\n",
       "    DATE ATTAINED HIGHEST QUALIFICATION                          DESIGNATION  \\\n",
       "0                            2016-11-06       Snr Associate, Client Services   \n",
       "1                            2018-02-06                        Admin Officer   \n",
       "2                            2016-11-06                      Admin Assistant   \n",
       "3                            2017-06-10                     HR Administrator   \n",
       "4                            2016-08-10                 Purchasing Executive   \n",
       "..                                  ...                                  ...   \n",
       "239                          2017-11-05          Head, Registry & Corp Admin   \n",
       "240                          2016-05-05                      Finance Officer   \n",
       "241                          2015-06-08                         HR Assistant   \n",
       "242                          2014-08-04          Household Goods Coordinator   \n",
       "243                          2016-10-04  Assistant Director, Human Resources   \n",
       "\n",
       "    INTAKE NO  ... FULL-TIME OR PART-TIME COURSE FUNDING REGISTRATION FEE  \\\n",
       "0        13th  ...              Part-Time    Subsidiesed              107   \n",
       "1        13th  ...              Part-Time     Individual              107   \n",
       "2        13th  ...              Part-Time      Sponsored              107   \n",
       "3        14th  ...              Part-Time    Subsidiesed              107   \n",
       "4        14th  ...              Part-Time    Subsidiesed              107   \n",
       "..        ...  ...                    ...            ...              ...   \n",
       "239       7th  ...              Part-Time     Individual              107   \n",
       "240       7th  ...              Part-Time     Individual              107   \n",
       "241       6th  ...              Part-Time     Individual              107   \n",
       "242       5th  ...              Part-Time     Individual              107   \n",
       "243       5th  ...              Part-Time     Individual              107   \n",
       "\n",
       "      PAYMENT MODE  COURSE FEE  GPA  CITIZENSHIP_STATUS  date_diff COURSE  Age  \n",
       "0             NETS        1712  3.0                   L        456   1101   46  \n",
       "1             NETS        1712  2.5                   L        456   1101   58  \n",
       "2    Bank Transfer        1712  2.0                   L        456   1101   36  \n",
       "3             NETS        1212  2.5                   L        456   1101   32  \n",
       "4             NETS        1712  2.4                   L        456   1101   39  \n",
       "..             ...         ...  ...                 ...        ...    ...  ...  \n",
       "239  Bank Transfer        5803  2.9                   L        183   5113   51  \n",
       "240  Bank Transfer        5803  2.0                   L        183   5113   41  \n",
       "241  Bank Transfer        5803  2.8                   L        183   5113   34  \n",
       "242  Bank Transfer        5803  1.9                   L        180   5113   42  \n",
       "243  Bank Transfer        5803  2.9                   L        180   5113   41  \n",
       "\n",
       "[244 rows x 22 columns]"
      ]
     },
     "execution_count": 29,
     "metadata": {},
     "output_type": "execute_result"
    }
   ],
   "source": [
    "df"
   ]
  },
  {
   "cell_type": "code",
   "execution_count": 30,
   "metadata": {},
   "outputs": [],
   "source": [
    "data = df.sort_values('DATE ATTAINED HIGHEST QUALIFICATION')"
   ]
  },
  {
   "cell_type": "code",
   "execution_count": 31,
   "metadata": {},
   "outputs": [
    {
     "data": {
      "application/vnd.plotly.v1+json": {
       "config": {
        "plotlyServerURL": "https://plot.ly"
       },
       "data": [
        {
         "hovertemplate": "DOB=%{x}<br>COURSE FEE=%{y}<extra></extra>",
         "legendgroup": "",
         "line": {
          "color": "#636efa",
          "dash": "solid"
         },
         "marker": {
          "symbol": "circle"
         },
         "mode": "lines",
         "name": "",
         "orientation": "v",
         "showlegend": false,
         "type": "scatter",
         "x": [
          "1978-04-03",
          "1966-03-23",
          "1988-04-12",
          "1991-11-27",
          "1985-04-23",
          "1981-03-15",
          "1994-01-21",
          "1975-09-07",
          "1977-09-06",
          "1991-05-12",
          "1983-07-19",
          "1989-02-10",
          "1996-05-03",
          "1994-08-27",
          "1980-01-27",
          "1995-04-16",
          "1983-06-18",
          "1989-06-01",
          "1981-09-13",
          "1979-07-26",
          "1990-01-02",
          "1976-04-20",
          "1983-11-25",
          "1968-10-17",
          "1979-10-22",
          "1980-06-29",
          "1976-05-25",
          "1983-11-30",
          "1992-08-07",
          "1988-02-11",
          "1990-01-31",
          "1973-04-20",
          "1991-09-03",
          "1990-06-17",
          "1990-04-01",
          "1986-10-09",
          "1997-03-08",
          "1970-02-08",
          "1973-08-03",
          "1994-11-13",
          "1983-10-02",
          "1969-02-16",
          "1992-04-18",
          "1978-06-16",
          "1987-10-19",
          "1973-04-30",
          "1977-12-06",
          "1976-04-27",
          "1986-05-02",
          "1980-03-01",
          "1993-02-12",
          "1974-06-11",
          "1989-05-27",
          "1992-04-18",
          "1992-09-22",
          "1988-10-18",
          "2001-11-12",
          "1969-12-18",
          "1987-12-11",
          "1984-02-13",
          "1987-07-13",
          "1994-07-15",
          "1984-08-07",
          "1987-08-09",
          "1981-06-19",
          "1999-09-28",
          "1967-10-19",
          "1995-10-04",
          "1999-05-24",
          "2001-12-04",
          "1987-10-21",
          "1994-08-04",
          "1986-02-18",
          "1979-09-11",
          "1994-12-24",
          "1976-05-25",
          "1998-04-23",
          "1986-12-23",
          "1992-09-12",
          "1998-10-10",
          "1983-11-30",
          "1987-07-14",
          "1978-11-30",
          "1998-11-05",
          "1993-01-20",
          "1976-11-04",
          "1973-10-09",
          "1988-12-27",
          "1992-11-11",
          "1985-09-11",
          "1989-08-26",
          "1980-12-17",
          "1992-11-24",
          "1990-02-26",
          "1991-07-16",
          "1969-10-15",
          "1994-07-07",
          "1968-10-17",
          "1996-05-05",
          "1970-06-24",
          "1994-02-14",
          "1989-02-12",
          "1984-05-12",
          "1977-02-13",
          "1971-07-11",
          "1961-01-04",
          "2000-05-12",
          "1977-08-27",
          "1992-02-09",
          "1992-06-09",
          "1988-01-17",
          "1987-09-13",
          "1988-01-20",
          "1991-02-16",
          "1972-09-06",
          "1987-04-12",
          "1998-12-28",
          "1973-12-07",
          "1978-12-10",
          "1980-03-16",
          "1990-09-21",
          "1983-12-01",
          "1974-01-23",
          "1978-05-22",
          "1993-04-02",
          "1985-10-23",
          "1983-11-18",
          "1969-10-02",
          "1992-07-22",
          "1982-07-25",
          "1962-11-30",
          "1967-10-19",
          "1971-05-07",
          "1983-03-22",
          "1979-11-11",
          "1992-04-29",
          "1987-11-08",
          "1993-10-07",
          "1988-04-07",
          "1989-07-24",
          "1981-06-01",
          "1984-08-04",
          "1993-07-18",
          "1993-11-12",
          "1981-10-12",
          "1984-02-10",
          "1973-04-11",
          "1983-11-03",
          "1982-07-21",
          "1965-05-08",
          "1972-01-13",
          "1977-03-13",
          "1986-10-16",
          "1982-05-20",
          "1983-11-28",
          "1973-10-13",
          "1985-02-28",
          "1993-04-23",
          "1967-09-16",
          "1974-02-07",
          "1992-09-03",
          "1977-10-16",
          "1989-02-22",
          "1984-02-24",
          "1979-07-06",
          "1983-07-18",
          "1992-01-12",
          "1981-08-18",
          "1984-03-23",
          "1991-03-12",
          "1967-03-17",
          "1984-01-15",
          "1994-04-10",
          "1965-02-12",
          "1965-05-09",
          "1983-09-05",
          "1983-05-12",
          "1978-09-27",
          "1981-10-08",
          "1986-11-27",
          "1990-04-18",
          "1991-10-21",
          "1981-08-06",
          "1987-06-09",
          "1984-10-31",
          "1988-08-16",
          "1984-03-14",
          "1970-08-16",
          "1989-03-20",
          "1981-08-06",
          "1994-02-06",
          "1982-02-24",
          "1991-07-05",
          "1985-07-16",
          "1992-03-21",
          "1991-08-01",
          "1984-10-31",
          "1983-03-29",
          "1984-02-16",
          "1983-07-17",
          "1983-01-22",
          "1982-10-17",
          "1986-03-27",
          "1989-06-08",
          "1974-07-08",
          "1985-07-09",
          "1975-09-23",
          "1983-01-09",
          "1984-01-26",
          "1977-11-04",
          "1969-10-31",
          "1993-04-10",
          "1972-11-14",
          "1985-12-03",
          "1985-06-22",
          "1977-09-08",
          "1982-01-06",
          "1992-12-10",
          "1974-04-29",
          "1981-10-19",
          "1989-03-19",
          "1998-11-28",
          "1991-01-14",
          "1978-08-18",
          "1984-05-12",
          "1984-04-06",
          "1991-11-18",
          "1977-03-01",
          "1990-07-27",
          "1993-07-11",
          "1993-01-09",
          "1992-02-01",
          "1986-01-17",
          "1996-10-21",
          "1981-11-02",
          "1979-07-17",
          "1980-06-11",
          "1990-09-22",
          "1985-09-02",
          "1973-01-10",
          "1982-09-30",
          "1990-06-03",
          "1981-11-14",
          "1983-01-28"
         ],
         "xaxis": "x",
         "y": [
          1712,
          1712,
          1712,
          1212,
          1712,
          1604,
          1712,
          1712,
          1712,
          1712,
          1712,
          1712,
          1604,
          1604,
          1712,
          1604,
          1712,
          1604,
          1712,
          1712,
          1712,
          1712,
          1604,
          1212,
          1712,
          1604,
          1712,
          1604,
          1712,
          1712,
          1712,
          1712,
          1712,
          1604,
          1712,
          1712,
          1712,
          1712,
          1712,
          1712,
          1712,
          1604,
          1212,
          1212,
          1604,
          1712,
          1712,
          1712,
          1712,
          1712,
          2996,
          2996,
          2696,
          2996,
          2696,
          1496,
          1996,
          1496,
          2496,
          1996,
          1996,
          1996,
          2996,
          2996,
          2696,
          2996,
          2996,
          2696,
          2996,
          2996,
          2496,
          2996,
          2996,
          2996,
          2696,
          2996,
          2996,
          2996,
          2996,
          2996,
          2696,
          2996,
          2996,
          2996,
          1388,
          1415,
          1415,
          1415,
          1388,
          1388,
          1388,
          1495,
          1388,
          1388,
          1388,
          1388,
          1388,
          888,
          1495,
          1388,
          1388,
          1308,
          1495,
          1495,
          1415,
          1388,
          1388,
          1388,
          1388,
          1388,
          1388,
          888,
          1495,
          1388,
          1388,
          1308,
          1495,
          1495,
          1415,
          1388,
          1388,
          1388,
          1388,
          1388,
          1388,
          888,
          1495,
          1388,
          1388,
          1308,
          1495,
          1495,
          1415,
          1388,
          1388,
          1388,
          1388,
          1388,
          1388,
          888,
          1495,
          1388,
          1388,
          1308,
          1495,
          1495,
          1415,
          1388,
          1388,
          1388,
          1388,
          1388,
          1388,
          888,
          1495,
          1388,
          1388,
          1308,
          1495,
          1495,
          1415,
          1388,
          1388,
          1388,
          1388,
          1388,
          1388,
          888,
          1495,
          1388,
          1388,
          1308,
          1495,
          1495,
          1415,
          1388,
          1388,
          1388,
          1388,
          1388,
          1388,
          1388,
          1388,
          1388,
          1388,
          5803,
          5803,
          5803,
          5803,
          5803,
          5803,
          5803,
          5803,
          5803,
          5803,
          5803,
          5803,
          5803,
          5803,
          5803,
          5803,
          5803,
          5803,
          5803,
          5803,
          5803,
          5803,
          5803,
          5803,
          5803,
          5803,
          5803,
          5803,
          5803,
          5803,
          5803,
          5803,
          5803,
          5803,
          5803,
          5803,
          5803,
          5803,
          5803,
          5803,
          5803,
          5803,
          5803,
          5803,
          5803,
          5803,
          5803,
          5803,
          5803,
          5803,
          5803,
          5803,
          5803,
          5803,
          5803,
          5803,
          5803,
          5803,
          5803
         ],
         "yaxis": "y"
        }
       ],
       "layout": {
        "legend": {
         "tracegroupgap": 0
        },
        "margin": {
         "t": 60
        },
        "template": {
         "data": {
          "bar": [
           {
            "error_x": {
             "color": "#2a3f5f"
            },
            "error_y": {
             "color": "#2a3f5f"
            },
            "marker": {
             "line": {
              "color": "#E5ECF6",
              "width": 0.5
             },
             "pattern": {
              "fillmode": "overlay",
              "size": 10,
              "solidity": 0.2
             }
            },
            "type": "bar"
           }
          ],
          "barpolar": [
           {
            "marker": {
             "line": {
              "color": "#E5ECF6",
              "width": 0.5
             },
             "pattern": {
              "fillmode": "overlay",
              "size": 10,
              "solidity": 0.2
             }
            },
            "type": "barpolar"
           }
          ],
          "carpet": [
           {
            "aaxis": {
             "endlinecolor": "#2a3f5f",
             "gridcolor": "white",
             "linecolor": "white",
             "minorgridcolor": "white",
             "startlinecolor": "#2a3f5f"
            },
            "baxis": {
             "endlinecolor": "#2a3f5f",
             "gridcolor": "white",
             "linecolor": "white",
             "minorgridcolor": "white",
             "startlinecolor": "#2a3f5f"
            },
            "type": "carpet"
           }
          ],
          "choropleth": [
           {
            "colorbar": {
             "outlinewidth": 0,
             "ticks": ""
            },
            "type": "choropleth"
           }
          ],
          "contour": [
           {
            "colorbar": {
             "outlinewidth": 0,
             "ticks": ""
            },
            "colorscale": [
             [
              0,
              "#0d0887"
             ],
             [
              0.1111111111111111,
              "#46039f"
             ],
             [
              0.2222222222222222,
              "#7201a8"
             ],
             [
              0.3333333333333333,
              "#9c179e"
             ],
             [
              0.4444444444444444,
              "#bd3786"
             ],
             [
              0.5555555555555556,
              "#d8576b"
             ],
             [
              0.6666666666666666,
              "#ed7953"
             ],
             [
              0.7777777777777778,
              "#fb9f3a"
             ],
             [
              0.8888888888888888,
              "#fdca26"
             ],
             [
              1,
              "#f0f921"
             ]
            ],
            "type": "contour"
           }
          ],
          "contourcarpet": [
           {
            "colorbar": {
             "outlinewidth": 0,
             "ticks": ""
            },
            "type": "contourcarpet"
           }
          ],
          "heatmap": [
           {
            "colorbar": {
             "outlinewidth": 0,
             "ticks": ""
            },
            "colorscale": [
             [
              0,
              "#0d0887"
             ],
             [
              0.1111111111111111,
              "#46039f"
             ],
             [
              0.2222222222222222,
              "#7201a8"
             ],
             [
              0.3333333333333333,
              "#9c179e"
             ],
             [
              0.4444444444444444,
              "#bd3786"
             ],
             [
              0.5555555555555556,
              "#d8576b"
             ],
             [
              0.6666666666666666,
              "#ed7953"
             ],
             [
              0.7777777777777778,
              "#fb9f3a"
             ],
             [
              0.8888888888888888,
              "#fdca26"
             ],
             [
              1,
              "#f0f921"
             ]
            ],
            "type": "heatmap"
           }
          ],
          "heatmapgl": [
           {
            "colorbar": {
             "outlinewidth": 0,
             "ticks": ""
            },
            "colorscale": [
             [
              0,
              "#0d0887"
             ],
             [
              0.1111111111111111,
              "#46039f"
             ],
             [
              0.2222222222222222,
              "#7201a8"
             ],
             [
              0.3333333333333333,
              "#9c179e"
             ],
             [
              0.4444444444444444,
              "#bd3786"
             ],
             [
              0.5555555555555556,
              "#d8576b"
             ],
             [
              0.6666666666666666,
              "#ed7953"
             ],
             [
              0.7777777777777778,
              "#fb9f3a"
             ],
             [
              0.8888888888888888,
              "#fdca26"
             ],
             [
              1,
              "#f0f921"
             ]
            ],
            "type": "heatmapgl"
           }
          ],
          "histogram": [
           {
            "marker": {
             "pattern": {
              "fillmode": "overlay",
              "size": 10,
              "solidity": 0.2
             }
            },
            "type": "histogram"
           }
          ],
          "histogram2d": [
           {
            "colorbar": {
             "outlinewidth": 0,
             "ticks": ""
            },
            "colorscale": [
             [
              0,
              "#0d0887"
             ],
             [
              0.1111111111111111,
              "#46039f"
             ],
             [
              0.2222222222222222,
              "#7201a8"
             ],
             [
              0.3333333333333333,
              "#9c179e"
             ],
             [
              0.4444444444444444,
              "#bd3786"
             ],
             [
              0.5555555555555556,
              "#d8576b"
             ],
             [
              0.6666666666666666,
              "#ed7953"
             ],
             [
              0.7777777777777778,
              "#fb9f3a"
             ],
             [
              0.8888888888888888,
              "#fdca26"
             ],
             [
              1,
              "#f0f921"
             ]
            ],
            "type": "histogram2d"
           }
          ],
          "histogram2dcontour": [
           {
            "colorbar": {
             "outlinewidth": 0,
             "ticks": ""
            },
            "colorscale": [
             [
              0,
              "#0d0887"
             ],
             [
              0.1111111111111111,
              "#46039f"
             ],
             [
              0.2222222222222222,
              "#7201a8"
             ],
             [
              0.3333333333333333,
              "#9c179e"
             ],
             [
              0.4444444444444444,
              "#bd3786"
             ],
             [
              0.5555555555555556,
              "#d8576b"
             ],
             [
              0.6666666666666666,
              "#ed7953"
             ],
             [
              0.7777777777777778,
              "#fb9f3a"
             ],
             [
              0.8888888888888888,
              "#fdca26"
             ],
             [
              1,
              "#f0f921"
             ]
            ],
            "type": "histogram2dcontour"
           }
          ],
          "mesh3d": [
           {
            "colorbar": {
             "outlinewidth": 0,
             "ticks": ""
            },
            "type": "mesh3d"
           }
          ],
          "parcoords": [
           {
            "line": {
             "colorbar": {
              "outlinewidth": 0,
              "ticks": ""
             }
            },
            "type": "parcoords"
           }
          ],
          "pie": [
           {
            "automargin": true,
            "type": "pie"
           }
          ],
          "scatter": [
           {
            "fillpattern": {
             "fillmode": "overlay",
             "size": 10,
             "solidity": 0.2
            },
            "type": "scatter"
           }
          ],
          "scatter3d": [
           {
            "line": {
             "colorbar": {
              "outlinewidth": 0,
              "ticks": ""
             }
            },
            "marker": {
             "colorbar": {
              "outlinewidth": 0,
              "ticks": ""
             }
            },
            "type": "scatter3d"
           }
          ],
          "scattercarpet": [
           {
            "marker": {
             "colorbar": {
              "outlinewidth": 0,
              "ticks": ""
             }
            },
            "type": "scattercarpet"
           }
          ],
          "scattergeo": [
           {
            "marker": {
             "colorbar": {
              "outlinewidth": 0,
              "ticks": ""
             }
            },
            "type": "scattergeo"
           }
          ],
          "scattergl": [
           {
            "marker": {
             "colorbar": {
              "outlinewidth": 0,
              "ticks": ""
             }
            },
            "type": "scattergl"
           }
          ],
          "scattermapbox": [
           {
            "marker": {
             "colorbar": {
              "outlinewidth": 0,
              "ticks": ""
             }
            },
            "type": "scattermapbox"
           }
          ],
          "scatterpolar": [
           {
            "marker": {
             "colorbar": {
              "outlinewidth": 0,
              "ticks": ""
             }
            },
            "type": "scatterpolar"
           }
          ],
          "scatterpolargl": [
           {
            "marker": {
             "colorbar": {
              "outlinewidth": 0,
              "ticks": ""
             }
            },
            "type": "scatterpolargl"
           }
          ],
          "scatterternary": [
           {
            "marker": {
             "colorbar": {
              "outlinewidth": 0,
              "ticks": ""
             }
            },
            "type": "scatterternary"
           }
          ],
          "surface": [
           {
            "colorbar": {
             "outlinewidth": 0,
             "ticks": ""
            },
            "colorscale": [
             [
              0,
              "#0d0887"
             ],
             [
              0.1111111111111111,
              "#46039f"
             ],
             [
              0.2222222222222222,
              "#7201a8"
             ],
             [
              0.3333333333333333,
              "#9c179e"
             ],
             [
              0.4444444444444444,
              "#bd3786"
             ],
             [
              0.5555555555555556,
              "#d8576b"
             ],
             [
              0.6666666666666666,
              "#ed7953"
             ],
             [
              0.7777777777777778,
              "#fb9f3a"
             ],
             [
              0.8888888888888888,
              "#fdca26"
             ],
             [
              1,
              "#f0f921"
             ]
            ],
            "type": "surface"
           }
          ],
          "table": [
           {
            "cells": {
             "fill": {
              "color": "#EBF0F8"
             },
             "line": {
              "color": "white"
             }
            },
            "header": {
             "fill": {
              "color": "#C8D4E3"
             },
             "line": {
              "color": "white"
             }
            },
            "type": "table"
           }
          ]
         },
         "layout": {
          "annotationdefaults": {
           "arrowcolor": "#2a3f5f",
           "arrowhead": 0,
           "arrowwidth": 1
          },
          "autotypenumbers": "strict",
          "coloraxis": {
           "colorbar": {
            "outlinewidth": 0,
            "ticks": ""
           }
          },
          "colorscale": {
           "diverging": [
            [
             0,
             "#8e0152"
            ],
            [
             0.1,
             "#c51b7d"
            ],
            [
             0.2,
             "#de77ae"
            ],
            [
             0.3,
             "#f1b6da"
            ],
            [
             0.4,
             "#fde0ef"
            ],
            [
             0.5,
             "#f7f7f7"
            ],
            [
             0.6,
             "#e6f5d0"
            ],
            [
             0.7,
             "#b8e186"
            ],
            [
             0.8,
             "#7fbc41"
            ],
            [
             0.9,
             "#4d9221"
            ],
            [
             1,
             "#276419"
            ]
           ],
           "sequential": [
            [
             0,
             "#0d0887"
            ],
            [
             0.1111111111111111,
             "#46039f"
            ],
            [
             0.2222222222222222,
             "#7201a8"
            ],
            [
             0.3333333333333333,
             "#9c179e"
            ],
            [
             0.4444444444444444,
             "#bd3786"
            ],
            [
             0.5555555555555556,
             "#d8576b"
            ],
            [
             0.6666666666666666,
             "#ed7953"
            ],
            [
             0.7777777777777778,
             "#fb9f3a"
            ],
            [
             0.8888888888888888,
             "#fdca26"
            ],
            [
             1,
             "#f0f921"
            ]
           ],
           "sequentialminus": [
            [
             0,
             "#0d0887"
            ],
            [
             0.1111111111111111,
             "#46039f"
            ],
            [
             0.2222222222222222,
             "#7201a8"
            ],
            [
             0.3333333333333333,
             "#9c179e"
            ],
            [
             0.4444444444444444,
             "#bd3786"
            ],
            [
             0.5555555555555556,
             "#d8576b"
            ],
            [
             0.6666666666666666,
             "#ed7953"
            ],
            [
             0.7777777777777778,
             "#fb9f3a"
            ],
            [
             0.8888888888888888,
             "#fdca26"
            ],
            [
             1,
             "#f0f921"
            ]
           ]
          },
          "colorway": [
           "#636efa",
           "#EF553B",
           "#00cc96",
           "#ab63fa",
           "#FFA15A",
           "#19d3f3",
           "#FF6692",
           "#B6E880",
           "#FF97FF",
           "#FECB52"
          ],
          "font": {
           "color": "#2a3f5f"
          },
          "geo": {
           "bgcolor": "white",
           "lakecolor": "white",
           "landcolor": "#E5ECF6",
           "showlakes": true,
           "showland": true,
           "subunitcolor": "white"
          },
          "hoverlabel": {
           "align": "left"
          },
          "hovermode": "closest",
          "mapbox": {
           "style": "light"
          },
          "paper_bgcolor": "white",
          "plot_bgcolor": "#E5ECF6",
          "polar": {
           "angularaxis": {
            "gridcolor": "white",
            "linecolor": "white",
            "ticks": ""
           },
           "bgcolor": "#E5ECF6",
           "radialaxis": {
            "gridcolor": "white",
            "linecolor": "white",
            "ticks": ""
           }
          },
          "scene": {
           "xaxis": {
            "backgroundcolor": "#E5ECF6",
            "gridcolor": "white",
            "gridwidth": 2,
            "linecolor": "white",
            "showbackground": true,
            "ticks": "",
            "zerolinecolor": "white"
           },
           "yaxis": {
            "backgroundcolor": "#E5ECF6",
            "gridcolor": "white",
            "gridwidth": 2,
            "linecolor": "white",
            "showbackground": true,
            "ticks": "",
            "zerolinecolor": "white"
           },
           "zaxis": {
            "backgroundcolor": "#E5ECF6",
            "gridcolor": "white",
            "gridwidth": 2,
            "linecolor": "white",
            "showbackground": true,
            "ticks": "",
            "zerolinecolor": "white"
           }
          },
          "shapedefaults": {
           "line": {
            "color": "#2a3f5f"
           }
          },
          "ternary": {
           "aaxis": {
            "gridcolor": "white",
            "linecolor": "white",
            "ticks": ""
           },
           "baxis": {
            "gridcolor": "white",
            "linecolor": "white",
            "ticks": ""
           },
           "bgcolor": "#E5ECF6",
           "caxis": {
            "gridcolor": "white",
            "linecolor": "white",
            "ticks": ""
           }
          },
          "title": {
           "x": 0.05
          },
          "xaxis": {
           "automargin": true,
           "gridcolor": "white",
           "linecolor": "white",
           "ticks": "",
           "title": {
            "standoff": 15
           },
           "zerolinecolor": "white",
           "zerolinewidth": 2
          },
          "yaxis": {
           "automargin": true,
           "gridcolor": "white",
           "linecolor": "white",
           "ticks": "",
           "title": {
            "standoff": 15
           },
           "zerolinecolor": "white",
           "zerolinewidth": 2
          }
         }
        },
        "xaxis": {
         "anchor": "y",
         "domain": [
          0,
          1
         ],
         "title": {
          "text": "DOB"
         }
        },
        "yaxis": {
         "anchor": "x",
         "domain": [
          0,
          1
         ],
         "title": {
          "text": "COURSE FEE"
         }
        }
       }
      }
     },
     "metadata": {},
     "output_type": "display_data"
    }
   ],
   "source": [
    "# Using plotly.express\n",
    "import plotly.express as px\n",
    "\n",
    "fig = px.line(df, x='DOB', y=\"COURSE FEE\")\n",
    "fig.show()"
   ]
  },
  {
   "cell_type": "code",
   "execution_count": 32,
   "metadata": {},
   "outputs": [
    {
     "data": {
      "application/vnd.plotly.v1+json": {
       "config": {
        "plotlyServerURL": "https://plot.ly"
       },
       "data": [
        {
         "alignmentgroup": "True",
         "hovertemplate": "GENDER=%{x}<br>count=%{y}<extra></extra>",
         "legendgroup": "",
         "marker": {
          "color": "#636efa",
          "pattern": {
           "shape": ""
          }
         },
         "name": "",
         "offsetgroup": "",
         "orientation": "v",
         "showlegend": false,
         "textposition": "auto",
         "type": "bar",
         "x": [
          "F",
          "F",
          "F",
          "F",
          "F",
          "F",
          "F",
          "F",
          "F",
          "F",
          "F",
          "F",
          "F",
          "F",
          "F",
          "F",
          "M",
          "F",
          "F",
          "F",
          "M",
          "M",
          "F",
          "F",
          "F",
          "M",
          "F",
          "F",
          "F",
          "F",
          "F",
          "F",
          "F",
          "M",
          "F",
          "F",
          "F",
          "F",
          "F",
          "F",
          "F",
          "F",
          "F",
          "F",
          "M",
          "F",
          "F",
          "F",
          "F",
          "F",
          "F",
          "M",
          "F",
          "F",
          "F",
          "F",
          "F",
          "F",
          "M",
          "F",
          "F",
          "F",
          "M",
          "F",
          "F",
          "F",
          "F",
          "F",
          "F",
          "F",
          "F",
          "F",
          "F",
          "F",
          "F",
          "F",
          "F",
          "F",
          "F",
          "F",
          "F",
          "F",
          "F",
          "F",
          "F",
          "F",
          "F",
          "F",
          "F",
          "F",
          "F",
          "F",
          "F",
          "F",
          "F",
          "F",
          "F",
          "M",
          "F",
          "F",
          "F",
          "F",
          "F",
          "F",
          "F",
          "F",
          "F",
          "M",
          "F",
          "M",
          "F",
          "F",
          "F",
          "F",
          "F",
          "F",
          "F",
          "F",
          "F",
          "F",
          "F",
          "F",
          "F",
          "F",
          "M",
          "F",
          "F",
          "F",
          "F",
          "M",
          "F",
          "F",
          "F",
          "F",
          "F",
          "F",
          "F",
          "F",
          "F",
          "M",
          "F",
          "F",
          "F",
          "F",
          "M",
          "F",
          "F",
          "F",
          "F",
          "F",
          "F",
          "F",
          "F",
          "F",
          "F",
          "M",
          "M",
          "M",
          "F",
          "F",
          "F",
          "F",
          "F",
          "F",
          "F",
          "F",
          "M",
          "F",
          "F",
          "F",
          "F",
          "F",
          "F",
          "F",
          "F",
          "F",
          "F",
          "F",
          "M",
          "F",
          "F",
          "M",
          "F",
          "F",
          "F",
          "F",
          "F",
          "M",
          "F",
          "F",
          "F",
          "M",
          "F",
          "M",
          "F",
          "F",
          "F",
          "F",
          "F",
          "F",
          "F",
          "F",
          "F",
          "F",
          "F",
          "F",
          "F",
          "F",
          "F",
          "F",
          "F",
          "F",
          "F",
          "F",
          "F",
          "M",
          "F",
          "M",
          "F",
          "F",
          "F",
          "F",
          "F",
          "F",
          "M",
          "M",
          "F",
          "F",
          "F",
          "F",
          "F",
          "F",
          "F",
          "F",
          "F",
          "F",
          "F",
          "F",
          "F",
          "F",
          "F",
          "F",
          "F",
          "F"
         ],
         "xaxis": "x",
         "y": [
          1,
          1,
          1,
          1,
          1,
          1,
          1,
          1,
          1,
          1,
          1,
          1,
          1,
          1,
          1,
          1,
          1,
          1,
          1,
          1,
          1,
          1,
          1,
          1,
          1,
          1,
          1,
          1,
          1,
          1,
          1,
          1,
          1,
          1,
          1,
          1,
          1,
          1,
          1,
          1,
          1,
          1,
          1,
          1,
          1,
          1,
          1,
          1,
          1,
          1,
          1,
          1,
          1,
          1,
          1,
          1,
          1,
          1,
          1,
          1,
          1,
          1,
          1,
          1,
          1,
          1,
          1,
          1,
          1,
          1,
          1,
          1,
          1,
          1,
          1,
          1,
          1,
          1,
          1,
          1,
          1,
          1,
          1,
          1,
          1,
          1,
          1,
          1,
          1,
          1,
          1,
          1,
          1,
          1,
          1,
          1,
          1,
          1,
          1,
          1,
          1,
          1,
          1,
          1,
          1,
          1,
          1,
          1,
          1,
          1,
          1,
          1,
          1,
          1,
          1,
          1,
          1,
          1,
          1,
          1,
          1,
          1,
          1,
          1,
          1,
          1,
          1,
          1,
          1,
          1,
          1,
          1,
          1,
          1,
          1,
          1,
          1,
          1,
          1,
          1,
          1,
          1,
          1,
          1,
          1,
          1,
          1,
          1,
          1,
          1,
          1,
          1,
          1,
          1,
          1,
          1,
          1,
          1,
          1,
          1,
          1,
          1,
          1,
          1,
          1,
          1,
          1,
          1,
          1,
          1,
          1,
          1,
          1,
          1,
          1,
          1,
          1,
          1,
          1,
          1,
          1,
          1,
          1,
          1,
          1,
          1,
          1,
          1,
          1,
          1,
          1,
          1,
          1,
          1,
          1,
          1,
          1,
          1,
          1,
          1,
          1,
          1,
          1,
          1,
          1,
          1,
          1,
          1,
          1,
          1,
          1,
          1,
          1,
          1,
          1,
          1,
          1,
          1,
          1,
          1,
          1,
          1,
          1,
          1,
          1,
          1,
          1,
          1,
          1,
          1,
          1,
          1,
          1,
          1,
          1,
          1,
          1,
          1,
          1,
          1,
          1,
          1,
          1,
          1
         ],
         "yaxis": "y"
        }
       ],
       "layout": {
        "barmode": "relative",
        "legend": {
         "tracegroupgap": 0
        },
        "template": {
         "data": {
          "bar": [
           {
            "error_x": {
             "color": "#2a3f5f"
            },
            "error_y": {
             "color": "#2a3f5f"
            },
            "marker": {
             "line": {
              "color": "#E5ECF6",
              "width": 0.5
             },
             "pattern": {
              "fillmode": "overlay",
              "size": 10,
              "solidity": 0.2
             }
            },
            "type": "bar"
           }
          ],
          "barpolar": [
           {
            "marker": {
             "line": {
              "color": "#E5ECF6",
              "width": 0.5
             },
             "pattern": {
              "fillmode": "overlay",
              "size": 10,
              "solidity": 0.2
             }
            },
            "type": "barpolar"
           }
          ],
          "carpet": [
           {
            "aaxis": {
             "endlinecolor": "#2a3f5f",
             "gridcolor": "white",
             "linecolor": "white",
             "minorgridcolor": "white",
             "startlinecolor": "#2a3f5f"
            },
            "baxis": {
             "endlinecolor": "#2a3f5f",
             "gridcolor": "white",
             "linecolor": "white",
             "minorgridcolor": "white",
             "startlinecolor": "#2a3f5f"
            },
            "type": "carpet"
           }
          ],
          "choropleth": [
           {
            "colorbar": {
             "outlinewidth": 0,
             "ticks": ""
            },
            "type": "choropleth"
           }
          ],
          "contour": [
           {
            "colorbar": {
             "outlinewidth": 0,
             "ticks": ""
            },
            "colorscale": [
             [
              0,
              "#0d0887"
             ],
             [
              0.1111111111111111,
              "#46039f"
             ],
             [
              0.2222222222222222,
              "#7201a8"
             ],
             [
              0.3333333333333333,
              "#9c179e"
             ],
             [
              0.4444444444444444,
              "#bd3786"
             ],
             [
              0.5555555555555556,
              "#d8576b"
             ],
             [
              0.6666666666666666,
              "#ed7953"
             ],
             [
              0.7777777777777778,
              "#fb9f3a"
             ],
             [
              0.8888888888888888,
              "#fdca26"
             ],
             [
              1,
              "#f0f921"
             ]
            ],
            "type": "contour"
           }
          ],
          "contourcarpet": [
           {
            "colorbar": {
             "outlinewidth": 0,
             "ticks": ""
            },
            "type": "contourcarpet"
           }
          ],
          "heatmap": [
           {
            "colorbar": {
             "outlinewidth": 0,
             "ticks": ""
            },
            "colorscale": [
             [
              0,
              "#0d0887"
             ],
             [
              0.1111111111111111,
              "#46039f"
             ],
             [
              0.2222222222222222,
              "#7201a8"
             ],
             [
              0.3333333333333333,
              "#9c179e"
             ],
             [
              0.4444444444444444,
              "#bd3786"
             ],
             [
              0.5555555555555556,
              "#d8576b"
             ],
             [
              0.6666666666666666,
              "#ed7953"
             ],
             [
              0.7777777777777778,
              "#fb9f3a"
             ],
             [
              0.8888888888888888,
              "#fdca26"
             ],
             [
              1,
              "#f0f921"
             ]
            ],
            "type": "heatmap"
           }
          ],
          "heatmapgl": [
           {
            "colorbar": {
             "outlinewidth": 0,
             "ticks": ""
            },
            "colorscale": [
             [
              0,
              "#0d0887"
             ],
             [
              0.1111111111111111,
              "#46039f"
             ],
             [
              0.2222222222222222,
              "#7201a8"
             ],
             [
              0.3333333333333333,
              "#9c179e"
             ],
             [
              0.4444444444444444,
              "#bd3786"
             ],
             [
              0.5555555555555556,
              "#d8576b"
             ],
             [
              0.6666666666666666,
              "#ed7953"
             ],
             [
              0.7777777777777778,
              "#fb9f3a"
             ],
             [
              0.8888888888888888,
              "#fdca26"
             ],
             [
              1,
              "#f0f921"
             ]
            ],
            "type": "heatmapgl"
           }
          ],
          "histogram": [
           {
            "marker": {
             "pattern": {
              "fillmode": "overlay",
              "size": 10,
              "solidity": 0.2
             }
            },
            "type": "histogram"
           }
          ],
          "histogram2d": [
           {
            "colorbar": {
             "outlinewidth": 0,
             "ticks": ""
            },
            "colorscale": [
             [
              0,
              "#0d0887"
             ],
             [
              0.1111111111111111,
              "#46039f"
             ],
             [
              0.2222222222222222,
              "#7201a8"
             ],
             [
              0.3333333333333333,
              "#9c179e"
             ],
             [
              0.4444444444444444,
              "#bd3786"
             ],
             [
              0.5555555555555556,
              "#d8576b"
             ],
             [
              0.6666666666666666,
              "#ed7953"
             ],
             [
              0.7777777777777778,
              "#fb9f3a"
             ],
             [
              0.8888888888888888,
              "#fdca26"
             ],
             [
              1,
              "#f0f921"
             ]
            ],
            "type": "histogram2d"
           }
          ],
          "histogram2dcontour": [
           {
            "colorbar": {
             "outlinewidth": 0,
             "ticks": ""
            },
            "colorscale": [
             [
              0,
              "#0d0887"
             ],
             [
              0.1111111111111111,
              "#46039f"
             ],
             [
              0.2222222222222222,
              "#7201a8"
             ],
             [
              0.3333333333333333,
              "#9c179e"
             ],
             [
              0.4444444444444444,
              "#bd3786"
             ],
             [
              0.5555555555555556,
              "#d8576b"
             ],
             [
              0.6666666666666666,
              "#ed7953"
             ],
             [
              0.7777777777777778,
              "#fb9f3a"
             ],
             [
              0.8888888888888888,
              "#fdca26"
             ],
             [
              1,
              "#f0f921"
             ]
            ],
            "type": "histogram2dcontour"
           }
          ],
          "mesh3d": [
           {
            "colorbar": {
             "outlinewidth": 0,
             "ticks": ""
            },
            "type": "mesh3d"
           }
          ],
          "parcoords": [
           {
            "line": {
             "colorbar": {
              "outlinewidth": 0,
              "ticks": ""
             }
            },
            "type": "parcoords"
           }
          ],
          "pie": [
           {
            "automargin": true,
            "type": "pie"
           }
          ],
          "scatter": [
           {
            "fillpattern": {
             "fillmode": "overlay",
             "size": 10,
             "solidity": 0.2
            },
            "type": "scatter"
           }
          ],
          "scatter3d": [
           {
            "line": {
             "colorbar": {
              "outlinewidth": 0,
              "ticks": ""
             }
            },
            "marker": {
             "colorbar": {
              "outlinewidth": 0,
              "ticks": ""
             }
            },
            "type": "scatter3d"
           }
          ],
          "scattercarpet": [
           {
            "marker": {
             "colorbar": {
              "outlinewidth": 0,
              "ticks": ""
             }
            },
            "type": "scattercarpet"
           }
          ],
          "scattergeo": [
           {
            "marker": {
             "colorbar": {
              "outlinewidth": 0,
              "ticks": ""
             }
            },
            "type": "scattergeo"
           }
          ],
          "scattergl": [
           {
            "marker": {
             "colorbar": {
              "outlinewidth": 0,
              "ticks": ""
             }
            },
            "type": "scattergl"
           }
          ],
          "scattermapbox": [
           {
            "marker": {
             "colorbar": {
              "outlinewidth": 0,
              "ticks": ""
             }
            },
            "type": "scattermapbox"
           }
          ],
          "scatterpolar": [
           {
            "marker": {
             "colorbar": {
              "outlinewidth": 0,
              "ticks": ""
             }
            },
            "type": "scatterpolar"
           }
          ],
          "scatterpolargl": [
           {
            "marker": {
             "colorbar": {
              "outlinewidth": 0,
              "ticks": ""
             }
            },
            "type": "scatterpolargl"
           }
          ],
          "scatterternary": [
           {
            "marker": {
             "colorbar": {
              "outlinewidth": 0,
              "ticks": ""
             }
            },
            "type": "scatterternary"
           }
          ],
          "surface": [
           {
            "colorbar": {
             "outlinewidth": 0,
             "ticks": ""
            },
            "colorscale": [
             [
              0,
              "#0d0887"
             ],
             [
              0.1111111111111111,
              "#46039f"
             ],
             [
              0.2222222222222222,
              "#7201a8"
             ],
             [
              0.3333333333333333,
              "#9c179e"
             ],
             [
              0.4444444444444444,
              "#bd3786"
             ],
             [
              0.5555555555555556,
              "#d8576b"
             ],
             [
              0.6666666666666666,
              "#ed7953"
             ],
             [
              0.7777777777777778,
              "#fb9f3a"
             ],
             [
              0.8888888888888888,
              "#fdca26"
             ],
             [
              1,
              "#f0f921"
             ]
            ],
            "type": "surface"
           }
          ],
          "table": [
           {
            "cells": {
             "fill": {
              "color": "#EBF0F8"
             },
             "line": {
              "color": "white"
             }
            },
            "header": {
             "fill": {
              "color": "#C8D4E3"
             },
             "line": {
              "color": "white"
             }
            },
            "type": "table"
           }
          ]
         },
         "layout": {
          "annotationdefaults": {
           "arrowcolor": "#2a3f5f",
           "arrowhead": 0,
           "arrowwidth": 1
          },
          "autotypenumbers": "strict",
          "coloraxis": {
           "colorbar": {
            "outlinewidth": 0,
            "ticks": ""
           }
          },
          "colorscale": {
           "diverging": [
            [
             0,
             "#8e0152"
            ],
            [
             0.1,
             "#c51b7d"
            ],
            [
             0.2,
             "#de77ae"
            ],
            [
             0.3,
             "#f1b6da"
            ],
            [
             0.4,
             "#fde0ef"
            ],
            [
             0.5,
             "#f7f7f7"
            ],
            [
             0.6,
             "#e6f5d0"
            ],
            [
             0.7,
             "#b8e186"
            ],
            [
             0.8,
             "#7fbc41"
            ],
            [
             0.9,
             "#4d9221"
            ],
            [
             1,
             "#276419"
            ]
           ],
           "sequential": [
            [
             0,
             "#0d0887"
            ],
            [
             0.1111111111111111,
             "#46039f"
            ],
            [
             0.2222222222222222,
             "#7201a8"
            ],
            [
             0.3333333333333333,
             "#9c179e"
            ],
            [
             0.4444444444444444,
             "#bd3786"
            ],
            [
             0.5555555555555556,
             "#d8576b"
            ],
            [
             0.6666666666666666,
             "#ed7953"
            ],
            [
             0.7777777777777778,
             "#fb9f3a"
            ],
            [
             0.8888888888888888,
             "#fdca26"
            ],
            [
             1,
             "#f0f921"
            ]
           ],
           "sequentialminus": [
            [
             0,
             "#0d0887"
            ],
            [
             0.1111111111111111,
             "#46039f"
            ],
            [
             0.2222222222222222,
             "#7201a8"
            ],
            [
             0.3333333333333333,
             "#9c179e"
            ],
            [
             0.4444444444444444,
             "#bd3786"
            ],
            [
             0.5555555555555556,
             "#d8576b"
            ],
            [
             0.6666666666666666,
             "#ed7953"
            ],
            [
             0.7777777777777778,
             "#fb9f3a"
            ],
            [
             0.8888888888888888,
             "#fdca26"
            ],
            [
             1,
             "#f0f921"
            ]
           ]
          },
          "colorway": [
           "#636efa",
           "#EF553B",
           "#00cc96",
           "#ab63fa",
           "#FFA15A",
           "#19d3f3",
           "#FF6692",
           "#B6E880",
           "#FF97FF",
           "#FECB52"
          ],
          "font": {
           "color": "#2a3f5f"
          },
          "geo": {
           "bgcolor": "white",
           "lakecolor": "white",
           "landcolor": "#E5ECF6",
           "showlakes": true,
           "showland": true,
           "subunitcolor": "white"
          },
          "hoverlabel": {
           "align": "left"
          },
          "hovermode": "closest",
          "mapbox": {
           "style": "light"
          },
          "paper_bgcolor": "white",
          "plot_bgcolor": "#E5ECF6",
          "polar": {
           "angularaxis": {
            "gridcolor": "white",
            "linecolor": "white",
            "ticks": ""
           },
           "bgcolor": "#E5ECF6",
           "radialaxis": {
            "gridcolor": "white",
            "linecolor": "white",
            "ticks": ""
           }
          },
          "scene": {
           "xaxis": {
            "backgroundcolor": "#E5ECF6",
            "gridcolor": "white",
            "gridwidth": 2,
            "linecolor": "white",
            "showbackground": true,
            "ticks": "",
            "zerolinecolor": "white"
           },
           "yaxis": {
            "backgroundcolor": "#E5ECF6",
            "gridcolor": "white",
            "gridwidth": 2,
            "linecolor": "white",
            "showbackground": true,
            "ticks": "",
            "zerolinecolor": "white"
           },
           "zaxis": {
            "backgroundcolor": "#E5ECF6",
            "gridcolor": "white",
            "gridwidth": 2,
            "linecolor": "white",
            "showbackground": true,
            "ticks": "",
            "zerolinecolor": "white"
           }
          },
          "shapedefaults": {
           "line": {
            "color": "#2a3f5f"
           }
          },
          "ternary": {
           "aaxis": {
            "gridcolor": "white",
            "linecolor": "white",
            "ticks": ""
           },
           "baxis": {
            "gridcolor": "white",
            "linecolor": "white",
            "ticks": ""
           },
           "bgcolor": "#E5ECF6",
           "caxis": {
            "gridcolor": "white",
            "linecolor": "white",
            "ticks": ""
           }
          },
          "title": {
           "x": 0.05
          },
          "xaxis": {
           "automargin": true,
           "gridcolor": "white",
           "linecolor": "white",
           "ticks": "",
           "title": {
            "standoff": 15
           },
           "zerolinecolor": "white",
           "zerolinewidth": 2
          },
          "yaxis": {
           "automargin": true,
           "gridcolor": "white",
           "linecolor": "white",
           "ticks": "",
           "title": {
            "standoff": 15
           },
           "zerolinecolor": "white",
           "zerolinewidth": 2
          }
         }
        },
        "title": {
         "text": "Gender Distribution"
        },
        "xaxis": {
         "anchor": "y",
         "domain": [
          0,
          1
         ],
         "title": {
          "text": "GENDER"
         }
        },
        "yaxis": {
         "anchor": "x",
         "domain": [
          0,
          1
         ],
         "title": {
          "text": "count"
         }
        }
       }
      }
     },
     "metadata": {},
     "output_type": "display_data"
    },
    {
     "data": {
      "application/vnd.plotly.v1+json": {
       "config": {
        "plotlyServerURL": "https://plot.ly"
       },
       "data": [
        {
         "alignmentgroup": "True",
         "bingroup": "x",
         "hovertemplate": "Age=%{x}<br>count=%{y}<extra></extra>",
         "legendgroup": "",
         "marker": {
          "color": "#636efa",
          "pattern": {
           "shape": ""
          }
         },
         "name": "",
         "offsetgroup": "",
         "orientation": "v",
         "showlegend": false,
         "type": "histogram",
         "x": [
          42,
          61,
          55,
          22,
          44,
          34,
          40,
          44,
          56,
          30,
          48,
          38,
          34,
          54,
          47,
          50,
          29,
          36,
          40,
          40,
          46,
          39,
          51,
          59,
          46,
          34,
          33,
          31,
          29,
          32,
          39,
          39,
          34,
          46,
          51,
          54,
          32,
          34,
          32,
          44,
          45,
          36,
          42,
          39,
          38,
          43,
          40,
          30,
          41,
          54,
          41,
          42,
          41,
          57,
          34,
          44,
          53,
          41,
          38,
          37,
          40,
          51,
          44,
          48,
          38,
          37,
          39,
          43,
          50,
          31,
          33,
          39,
          51,
          40,
          40,
          42,
          41,
          41,
          27,
          52,
          46,
          36,
          32,
          44,
          40,
          30,
          30,
          35,
          44,
          36,
          46,
          43,
          40,
          30,
          50,
          37,
          42,
          37,
          41,
          36,
          56,
          59,
          25,
          50,
          53,
          40,
          39,
          32,
          32,
          38,
          30,
          38,
          40,
          35,
          38,
          28,
          54,
          40,
          31,
          40,
          56,
          40,
          50,
          46,
          42,
          35,
          32,
          31,
          40,
          42,
          31,
          34,
          35,
          31,
          28,
          31,
          33,
          24,
          37,
          54,
          36,
          40,
          33,
          24,
          25,
          45,
          47,
          40,
          51,
          31,
          25,
          32,
          48,
          27,
          31,
          41,
          40,
          36,
          51,
          45,
          32,
          37,
          41,
          42,
          34,
          50,
          36,
          42,
          58,
          48,
          41,
          29,
          30,
          31,
          35,
          30,
          29,
          48,
          32,
          40,
          33,
          47,
          35,
          25,
          40,
          48,
          40,
          26,
          45,
          42,
          40,
          32,
          40,
          34,
          37,
          38,
          44,
          50,
          33,
          50,
          36,
          38,
          42,
          36,
          31,
          36,
          46,
          30,
          41,
          59,
          46,
          55,
          35,
          43,
          31,
          28,
          29,
          33,
          37,
          44,
          47,
          44,
          32,
          31,
          39,
          45,
          32,
          54,
          63,
          50,
          31,
          31,
          22,
          35,
          35,
          35,
          35,
          42,
          33,
          55,
          53,
          46,
          32,
          25
         ],
         "xaxis": "x",
         "yaxis": "y"
        }
       ],
       "layout": {
        "barmode": "relative",
        "legend": {
         "tracegroupgap": 0
        },
        "template": {
         "data": {
          "bar": [
           {
            "error_x": {
             "color": "#2a3f5f"
            },
            "error_y": {
             "color": "#2a3f5f"
            },
            "marker": {
             "line": {
              "color": "#E5ECF6",
              "width": 0.5
             },
             "pattern": {
              "fillmode": "overlay",
              "size": 10,
              "solidity": 0.2
             }
            },
            "type": "bar"
           }
          ],
          "barpolar": [
           {
            "marker": {
             "line": {
              "color": "#E5ECF6",
              "width": 0.5
             },
             "pattern": {
              "fillmode": "overlay",
              "size": 10,
              "solidity": 0.2
             }
            },
            "type": "barpolar"
           }
          ],
          "carpet": [
           {
            "aaxis": {
             "endlinecolor": "#2a3f5f",
             "gridcolor": "white",
             "linecolor": "white",
             "minorgridcolor": "white",
             "startlinecolor": "#2a3f5f"
            },
            "baxis": {
             "endlinecolor": "#2a3f5f",
             "gridcolor": "white",
             "linecolor": "white",
             "minorgridcolor": "white",
             "startlinecolor": "#2a3f5f"
            },
            "type": "carpet"
           }
          ],
          "choropleth": [
           {
            "colorbar": {
             "outlinewidth": 0,
             "ticks": ""
            },
            "type": "choropleth"
           }
          ],
          "contour": [
           {
            "colorbar": {
             "outlinewidth": 0,
             "ticks": ""
            },
            "colorscale": [
             [
              0,
              "#0d0887"
             ],
             [
              0.1111111111111111,
              "#46039f"
             ],
             [
              0.2222222222222222,
              "#7201a8"
             ],
             [
              0.3333333333333333,
              "#9c179e"
             ],
             [
              0.4444444444444444,
              "#bd3786"
             ],
             [
              0.5555555555555556,
              "#d8576b"
             ],
             [
              0.6666666666666666,
              "#ed7953"
             ],
             [
              0.7777777777777778,
              "#fb9f3a"
             ],
             [
              0.8888888888888888,
              "#fdca26"
             ],
             [
              1,
              "#f0f921"
             ]
            ],
            "type": "contour"
           }
          ],
          "contourcarpet": [
           {
            "colorbar": {
             "outlinewidth": 0,
             "ticks": ""
            },
            "type": "contourcarpet"
           }
          ],
          "heatmap": [
           {
            "colorbar": {
             "outlinewidth": 0,
             "ticks": ""
            },
            "colorscale": [
             [
              0,
              "#0d0887"
             ],
             [
              0.1111111111111111,
              "#46039f"
             ],
             [
              0.2222222222222222,
              "#7201a8"
             ],
             [
              0.3333333333333333,
              "#9c179e"
             ],
             [
              0.4444444444444444,
              "#bd3786"
             ],
             [
              0.5555555555555556,
              "#d8576b"
             ],
             [
              0.6666666666666666,
              "#ed7953"
             ],
             [
              0.7777777777777778,
              "#fb9f3a"
             ],
             [
              0.8888888888888888,
              "#fdca26"
             ],
             [
              1,
              "#f0f921"
             ]
            ],
            "type": "heatmap"
           }
          ],
          "heatmapgl": [
           {
            "colorbar": {
             "outlinewidth": 0,
             "ticks": ""
            },
            "colorscale": [
             [
              0,
              "#0d0887"
             ],
             [
              0.1111111111111111,
              "#46039f"
             ],
             [
              0.2222222222222222,
              "#7201a8"
             ],
             [
              0.3333333333333333,
              "#9c179e"
             ],
             [
              0.4444444444444444,
              "#bd3786"
             ],
             [
              0.5555555555555556,
              "#d8576b"
             ],
             [
              0.6666666666666666,
              "#ed7953"
             ],
             [
              0.7777777777777778,
              "#fb9f3a"
             ],
             [
              0.8888888888888888,
              "#fdca26"
             ],
             [
              1,
              "#f0f921"
             ]
            ],
            "type": "heatmapgl"
           }
          ],
          "histogram": [
           {
            "marker": {
             "pattern": {
              "fillmode": "overlay",
              "size": 10,
              "solidity": 0.2
             }
            },
            "type": "histogram"
           }
          ],
          "histogram2d": [
           {
            "colorbar": {
             "outlinewidth": 0,
             "ticks": ""
            },
            "colorscale": [
             [
              0,
              "#0d0887"
             ],
             [
              0.1111111111111111,
              "#46039f"
             ],
             [
              0.2222222222222222,
              "#7201a8"
             ],
             [
              0.3333333333333333,
              "#9c179e"
             ],
             [
              0.4444444444444444,
              "#bd3786"
             ],
             [
              0.5555555555555556,
              "#d8576b"
             ],
             [
              0.6666666666666666,
              "#ed7953"
             ],
             [
              0.7777777777777778,
              "#fb9f3a"
             ],
             [
              0.8888888888888888,
              "#fdca26"
             ],
             [
              1,
              "#f0f921"
             ]
            ],
            "type": "histogram2d"
           }
          ],
          "histogram2dcontour": [
           {
            "colorbar": {
             "outlinewidth": 0,
             "ticks": ""
            },
            "colorscale": [
             [
              0,
              "#0d0887"
             ],
             [
              0.1111111111111111,
              "#46039f"
             ],
             [
              0.2222222222222222,
              "#7201a8"
             ],
             [
              0.3333333333333333,
              "#9c179e"
             ],
             [
              0.4444444444444444,
              "#bd3786"
             ],
             [
              0.5555555555555556,
              "#d8576b"
             ],
             [
              0.6666666666666666,
              "#ed7953"
             ],
             [
              0.7777777777777778,
              "#fb9f3a"
             ],
             [
              0.8888888888888888,
              "#fdca26"
             ],
             [
              1,
              "#f0f921"
             ]
            ],
            "type": "histogram2dcontour"
           }
          ],
          "mesh3d": [
           {
            "colorbar": {
             "outlinewidth": 0,
             "ticks": ""
            },
            "type": "mesh3d"
           }
          ],
          "parcoords": [
           {
            "line": {
             "colorbar": {
              "outlinewidth": 0,
              "ticks": ""
             }
            },
            "type": "parcoords"
           }
          ],
          "pie": [
           {
            "automargin": true,
            "type": "pie"
           }
          ],
          "scatter": [
           {
            "fillpattern": {
             "fillmode": "overlay",
             "size": 10,
             "solidity": 0.2
            },
            "type": "scatter"
           }
          ],
          "scatter3d": [
           {
            "line": {
             "colorbar": {
              "outlinewidth": 0,
              "ticks": ""
             }
            },
            "marker": {
             "colorbar": {
              "outlinewidth": 0,
              "ticks": ""
             }
            },
            "type": "scatter3d"
           }
          ],
          "scattercarpet": [
           {
            "marker": {
             "colorbar": {
              "outlinewidth": 0,
              "ticks": ""
             }
            },
            "type": "scattercarpet"
           }
          ],
          "scattergeo": [
           {
            "marker": {
             "colorbar": {
              "outlinewidth": 0,
              "ticks": ""
             }
            },
            "type": "scattergeo"
           }
          ],
          "scattergl": [
           {
            "marker": {
             "colorbar": {
              "outlinewidth": 0,
              "ticks": ""
             }
            },
            "type": "scattergl"
           }
          ],
          "scattermapbox": [
           {
            "marker": {
             "colorbar": {
              "outlinewidth": 0,
              "ticks": ""
             }
            },
            "type": "scattermapbox"
           }
          ],
          "scatterpolar": [
           {
            "marker": {
             "colorbar": {
              "outlinewidth": 0,
              "ticks": ""
             }
            },
            "type": "scatterpolar"
           }
          ],
          "scatterpolargl": [
           {
            "marker": {
             "colorbar": {
              "outlinewidth": 0,
              "ticks": ""
             }
            },
            "type": "scatterpolargl"
           }
          ],
          "scatterternary": [
           {
            "marker": {
             "colorbar": {
              "outlinewidth": 0,
              "ticks": ""
             }
            },
            "type": "scatterternary"
           }
          ],
          "surface": [
           {
            "colorbar": {
             "outlinewidth": 0,
             "ticks": ""
            },
            "colorscale": [
             [
              0,
              "#0d0887"
             ],
             [
              0.1111111111111111,
              "#46039f"
             ],
             [
              0.2222222222222222,
              "#7201a8"
             ],
             [
              0.3333333333333333,
              "#9c179e"
             ],
             [
              0.4444444444444444,
              "#bd3786"
             ],
             [
              0.5555555555555556,
              "#d8576b"
             ],
             [
              0.6666666666666666,
              "#ed7953"
             ],
             [
              0.7777777777777778,
              "#fb9f3a"
             ],
             [
              0.8888888888888888,
              "#fdca26"
             ],
             [
              1,
              "#f0f921"
             ]
            ],
            "type": "surface"
           }
          ],
          "table": [
           {
            "cells": {
             "fill": {
              "color": "#EBF0F8"
             },
             "line": {
              "color": "white"
             }
            },
            "header": {
             "fill": {
              "color": "#C8D4E3"
             },
             "line": {
              "color": "white"
             }
            },
            "type": "table"
           }
          ]
         },
         "layout": {
          "annotationdefaults": {
           "arrowcolor": "#2a3f5f",
           "arrowhead": 0,
           "arrowwidth": 1
          },
          "autotypenumbers": "strict",
          "coloraxis": {
           "colorbar": {
            "outlinewidth": 0,
            "ticks": ""
           }
          },
          "colorscale": {
           "diverging": [
            [
             0,
             "#8e0152"
            ],
            [
             0.1,
             "#c51b7d"
            ],
            [
             0.2,
             "#de77ae"
            ],
            [
             0.3,
             "#f1b6da"
            ],
            [
             0.4,
             "#fde0ef"
            ],
            [
             0.5,
             "#f7f7f7"
            ],
            [
             0.6,
             "#e6f5d0"
            ],
            [
             0.7,
             "#b8e186"
            ],
            [
             0.8,
             "#7fbc41"
            ],
            [
             0.9,
             "#4d9221"
            ],
            [
             1,
             "#276419"
            ]
           ],
           "sequential": [
            [
             0,
             "#0d0887"
            ],
            [
             0.1111111111111111,
             "#46039f"
            ],
            [
             0.2222222222222222,
             "#7201a8"
            ],
            [
             0.3333333333333333,
             "#9c179e"
            ],
            [
             0.4444444444444444,
             "#bd3786"
            ],
            [
             0.5555555555555556,
             "#d8576b"
            ],
            [
             0.6666666666666666,
             "#ed7953"
            ],
            [
             0.7777777777777778,
             "#fb9f3a"
            ],
            [
             0.8888888888888888,
             "#fdca26"
            ],
            [
             1,
             "#f0f921"
            ]
           ],
           "sequentialminus": [
            [
             0,
             "#0d0887"
            ],
            [
             0.1111111111111111,
             "#46039f"
            ],
            [
             0.2222222222222222,
             "#7201a8"
            ],
            [
             0.3333333333333333,
             "#9c179e"
            ],
            [
             0.4444444444444444,
             "#bd3786"
            ],
            [
             0.5555555555555556,
             "#d8576b"
            ],
            [
             0.6666666666666666,
             "#ed7953"
            ],
            [
             0.7777777777777778,
             "#fb9f3a"
            ],
            [
             0.8888888888888888,
             "#fdca26"
            ],
            [
             1,
             "#f0f921"
            ]
           ]
          },
          "colorway": [
           "#636efa",
           "#EF553B",
           "#00cc96",
           "#ab63fa",
           "#FFA15A",
           "#19d3f3",
           "#FF6692",
           "#B6E880",
           "#FF97FF",
           "#FECB52"
          ],
          "font": {
           "color": "#2a3f5f"
          },
          "geo": {
           "bgcolor": "white",
           "lakecolor": "white",
           "landcolor": "#E5ECF6",
           "showlakes": true,
           "showland": true,
           "subunitcolor": "white"
          },
          "hoverlabel": {
           "align": "left"
          },
          "hovermode": "closest",
          "mapbox": {
           "style": "light"
          },
          "paper_bgcolor": "white",
          "plot_bgcolor": "#E5ECF6",
          "polar": {
           "angularaxis": {
            "gridcolor": "white",
            "linecolor": "white",
            "ticks": ""
           },
           "bgcolor": "#E5ECF6",
           "radialaxis": {
            "gridcolor": "white",
            "linecolor": "white",
            "ticks": ""
           }
          },
          "scene": {
           "xaxis": {
            "backgroundcolor": "#E5ECF6",
            "gridcolor": "white",
            "gridwidth": 2,
            "linecolor": "white",
            "showbackground": true,
            "ticks": "",
            "zerolinecolor": "white"
           },
           "yaxis": {
            "backgroundcolor": "#E5ECF6",
            "gridcolor": "white",
            "gridwidth": 2,
            "linecolor": "white",
            "showbackground": true,
            "ticks": "",
            "zerolinecolor": "white"
           },
           "zaxis": {
            "backgroundcolor": "#E5ECF6",
            "gridcolor": "white",
            "gridwidth": 2,
            "linecolor": "white",
            "showbackground": true,
            "ticks": "",
            "zerolinecolor": "white"
           }
          },
          "shapedefaults": {
           "line": {
            "color": "#2a3f5f"
           }
          },
          "ternary": {
           "aaxis": {
            "gridcolor": "white",
            "linecolor": "white",
            "ticks": ""
           },
           "baxis": {
            "gridcolor": "white",
            "linecolor": "white",
            "ticks": ""
           },
           "bgcolor": "#E5ECF6",
           "caxis": {
            "gridcolor": "white",
            "linecolor": "white",
            "ticks": ""
           }
          },
          "title": {
           "x": 0.05
          },
          "xaxis": {
           "automargin": true,
           "gridcolor": "white",
           "linecolor": "white",
           "ticks": "",
           "title": {
            "standoff": 15
           },
           "zerolinecolor": "white",
           "zerolinewidth": 2
          },
          "yaxis": {
           "automargin": true,
           "gridcolor": "white",
           "linecolor": "white",
           "ticks": "",
           "title": {
            "standoff": 15
           },
           "zerolinecolor": "white",
           "zerolinewidth": 2
          }
         }
        },
        "title": {
         "text": "Age Distribution"
        },
        "xaxis": {
         "anchor": "y",
         "domain": [
          0,
          1
         ],
         "title": {
          "text": "Age"
         }
        },
        "yaxis": {
         "anchor": "x",
         "domain": [
          0,
          1
         ],
         "title": {
          "text": "count"
         }
        }
       }
      }
     },
     "metadata": {},
     "output_type": "display_data"
    },
    {
     "data": {
      "application/vnd.plotly.v1+json": {
       "config": {
        "plotlyServerURL": "https://plot.ly"
       },
       "data": [
        {
         "domain": {
          "x": [
           0,
           1
          ],
          "y": [
           0,
           1
          ]
         },
         "hovertemplate": "HIGHEST QUALIFICATION=%{label}<extra></extra>",
         "labels": [
          "Degree",
          "Degree",
          "Certificate",
          "Certificate",
          "Master",
          "Degree",
          "Diploma",
          "Certificate",
          "Certificate",
          "Degree",
          "Certificate",
          "Degree",
          "Degree",
          "Degree",
          "Degree",
          "Diploma",
          "Certificate",
          "Diploma",
          "Diploma",
          "Diploma",
          "Degree",
          "Diploma",
          "Diploma",
          "Diploma",
          "Degree",
          "Diploma",
          "Degree",
          "Degree",
          "Diploma",
          "Degree",
          "Diploma",
          "Master",
          "Certificate",
          "Certificate",
          "Certificate",
          "Diploma",
          "Certificate",
          "Degree",
          "Certificate",
          "Certificate",
          "Degree",
          "Certificate",
          "Diploma",
          "Degree",
          "Degree",
          "Diploma",
          "Diploma",
          "Diploma",
          "Degree",
          "Diploma",
          "Diploma",
          "Degree",
          "Diploma",
          "Certificate",
          "No Qualifications",
          "Certificate",
          "Degree",
          "Diploma",
          "Master",
          "Diploma",
          "Master",
          "Certificate",
          "Degree",
          "Certificate",
          "Certificate",
          "Certificate",
          "Diploma",
          "Certificate",
          "Degree",
          "Degree",
          "Diploma",
          "Degree",
          "Certificate",
          "Degree",
          "Certificate",
          "Degree",
          "Degree",
          "Diploma",
          "Degree",
          "Degree",
          "Certificate",
          "Certificate",
          "Certificate",
          "Master",
          "Diploma",
          "Degree",
          "Degree",
          "Degree",
          "Certificate",
          "Diploma",
          "Diploma",
          "Diploma",
          "Degree",
          "Degree",
          "Certificate",
          "Degree",
          "Diploma",
          "Degree",
          "Degree",
          "Diploma",
          "Certificate",
          "Certificate",
          "Certificate",
          "Degree",
          "Graduate Diploma",
          "Diploma",
          "Degree",
          "Degree",
          "Degree",
          "Degree",
          "Degree",
          "Degree",
          "Degree",
          "Diploma",
          "Certificate",
          "Certificate",
          "Certificate",
          "Degree",
          "Certificate",
          "Degree",
          "Certificate",
          "Certificate",
          "Degree",
          "Degree",
          "Diploma",
          "Degree",
          "Degree",
          "Degree",
          "Certificate",
          "Degree",
          "Degree",
          "Certificate",
          "Degree",
          "Degree",
          "Certificate",
          "Degree",
          "Degree",
          "Certificate",
          "Degree",
          "Degree",
          "Certificate",
          "Degree",
          "Degree",
          "Certificate",
          "Certificate",
          "Degree",
          "Diploma",
          "Degree",
          "Degree",
          "Certificate",
          "Certificate",
          "Degree",
          "Degree",
          "Diploma",
          "Certificate",
          "Degree",
          "Master",
          "Degree",
          "Diploma",
          "Diploma",
          "Diploma",
          "Degree",
          "Certificate",
          "Certificate",
          "Certificate",
          "Degree",
          "Degree",
          "Degree",
          "Certificate",
          "Diploma",
          "Degree",
          "Diploma",
          "Master",
          "Degree",
          "Certificate",
          "Degree",
          "Diploma",
          "Certificate",
          "Degree",
          "Degree",
          "Master",
          "Master",
          "Diploma",
          "Certificate",
          "Diploma",
          "Degree",
          "Certificate",
          "Certificate",
          "Certificate",
          "Degree",
          "Diploma",
          "Degree",
          "Degree",
          "Degree",
          "Degree",
          "Diploma",
          "Certificate",
          "Certificate",
          "Degree",
          "Diploma",
          "Degree",
          "Degree",
          "Master",
          "Degree",
          "Degree",
          "Certificate",
          "Certificate",
          "Diploma",
          "Degree",
          "Diploma",
          "Degree",
          "Certificate",
          "Degree",
          "Degree",
          "Certificate",
          "Diploma",
          "Diploma",
          "Degree",
          "Certificate",
          "Diploma",
          "Diploma",
          "Master",
          "Certificate",
          "Degree",
          "Degree",
          "Master",
          "Degree",
          "Diploma",
          "Certificate",
          "Diploma",
          "Degree",
          "Degree",
          "Certificate",
          "Diploma",
          "Degree",
          "Certificate",
          "Degree",
          "Degree",
          "Degree",
          "Certificate",
          "Master",
          "Diploma",
          "Certificate",
          "Degree"
         ],
         "legendgroup": "",
         "name": "",
         "showlegend": true,
         "type": "pie"
        }
       ],
       "layout": {
        "legend": {
         "tracegroupgap": 0
        },
        "template": {
         "data": {
          "bar": [
           {
            "error_x": {
             "color": "#2a3f5f"
            },
            "error_y": {
             "color": "#2a3f5f"
            },
            "marker": {
             "line": {
              "color": "#E5ECF6",
              "width": 0.5
             },
             "pattern": {
              "fillmode": "overlay",
              "size": 10,
              "solidity": 0.2
             }
            },
            "type": "bar"
           }
          ],
          "barpolar": [
           {
            "marker": {
             "line": {
              "color": "#E5ECF6",
              "width": 0.5
             },
             "pattern": {
              "fillmode": "overlay",
              "size": 10,
              "solidity": 0.2
             }
            },
            "type": "barpolar"
           }
          ],
          "carpet": [
           {
            "aaxis": {
             "endlinecolor": "#2a3f5f",
             "gridcolor": "white",
             "linecolor": "white",
             "minorgridcolor": "white",
             "startlinecolor": "#2a3f5f"
            },
            "baxis": {
             "endlinecolor": "#2a3f5f",
             "gridcolor": "white",
             "linecolor": "white",
             "minorgridcolor": "white",
             "startlinecolor": "#2a3f5f"
            },
            "type": "carpet"
           }
          ],
          "choropleth": [
           {
            "colorbar": {
             "outlinewidth": 0,
             "ticks": ""
            },
            "type": "choropleth"
           }
          ],
          "contour": [
           {
            "colorbar": {
             "outlinewidth": 0,
             "ticks": ""
            },
            "colorscale": [
             [
              0,
              "#0d0887"
             ],
             [
              0.1111111111111111,
              "#46039f"
             ],
             [
              0.2222222222222222,
              "#7201a8"
             ],
             [
              0.3333333333333333,
              "#9c179e"
             ],
             [
              0.4444444444444444,
              "#bd3786"
             ],
             [
              0.5555555555555556,
              "#d8576b"
             ],
             [
              0.6666666666666666,
              "#ed7953"
             ],
             [
              0.7777777777777778,
              "#fb9f3a"
             ],
             [
              0.8888888888888888,
              "#fdca26"
             ],
             [
              1,
              "#f0f921"
             ]
            ],
            "type": "contour"
           }
          ],
          "contourcarpet": [
           {
            "colorbar": {
             "outlinewidth": 0,
             "ticks": ""
            },
            "type": "contourcarpet"
           }
          ],
          "heatmap": [
           {
            "colorbar": {
             "outlinewidth": 0,
             "ticks": ""
            },
            "colorscale": [
             [
              0,
              "#0d0887"
             ],
             [
              0.1111111111111111,
              "#46039f"
             ],
             [
              0.2222222222222222,
              "#7201a8"
             ],
             [
              0.3333333333333333,
              "#9c179e"
             ],
             [
              0.4444444444444444,
              "#bd3786"
             ],
             [
              0.5555555555555556,
              "#d8576b"
             ],
             [
              0.6666666666666666,
              "#ed7953"
             ],
             [
              0.7777777777777778,
              "#fb9f3a"
             ],
             [
              0.8888888888888888,
              "#fdca26"
             ],
             [
              1,
              "#f0f921"
             ]
            ],
            "type": "heatmap"
           }
          ],
          "heatmapgl": [
           {
            "colorbar": {
             "outlinewidth": 0,
             "ticks": ""
            },
            "colorscale": [
             [
              0,
              "#0d0887"
             ],
             [
              0.1111111111111111,
              "#46039f"
             ],
             [
              0.2222222222222222,
              "#7201a8"
             ],
             [
              0.3333333333333333,
              "#9c179e"
             ],
             [
              0.4444444444444444,
              "#bd3786"
             ],
             [
              0.5555555555555556,
              "#d8576b"
             ],
             [
              0.6666666666666666,
              "#ed7953"
             ],
             [
              0.7777777777777778,
              "#fb9f3a"
             ],
             [
              0.8888888888888888,
              "#fdca26"
             ],
             [
              1,
              "#f0f921"
             ]
            ],
            "type": "heatmapgl"
           }
          ],
          "histogram": [
           {
            "marker": {
             "pattern": {
              "fillmode": "overlay",
              "size": 10,
              "solidity": 0.2
             }
            },
            "type": "histogram"
           }
          ],
          "histogram2d": [
           {
            "colorbar": {
             "outlinewidth": 0,
             "ticks": ""
            },
            "colorscale": [
             [
              0,
              "#0d0887"
             ],
             [
              0.1111111111111111,
              "#46039f"
             ],
             [
              0.2222222222222222,
              "#7201a8"
             ],
             [
              0.3333333333333333,
              "#9c179e"
             ],
             [
              0.4444444444444444,
              "#bd3786"
             ],
             [
              0.5555555555555556,
              "#d8576b"
             ],
             [
              0.6666666666666666,
              "#ed7953"
             ],
             [
              0.7777777777777778,
              "#fb9f3a"
             ],
             [
              0.8888888888888888,
              "#fdca26"
             ],
             [
              1,
              "#f0f921"
             ]
            ],
            "type": "histogram2d"
           }
          ],
          "histogram2dcontour": [
           {
            "colorbar": {
             "outlinewidth": 0,
             "ticks": ""
            },
            "colorscale": [
             [
              0,
              "#0d0887"
             ],
             [
              0.1111111111111111,
              "#46039f"
             ],
             [
              0.2222222222222222,
              "#7201a8"
             ],
             [
              0.3333333333333333,
              "#9c179e"
             ],
             [
              0.4444444444444444,
              "#bd3786"
             ],
             [
              0.5555555555555556,
              "#d8576b"
             ],
             [
              0.6666666666666666,
              "#ed7953"
             ],
             [
              0.7777777777777778,
              "#fb9f3a"
             ],
             [
              0.8888888888888888,
              "#fdca26"
             ],
             [
              1,
              "#f0f921"
             ]
            ],
            "type": "histogram2dcontour"
           }
          ],
          "mesh3d": [
           {
            "colorbar": {
             "outlinewidth": 0,
             "ticks": ""
            },
            "type": "mesh3d"
           }
          ],
          "parcoords": [
           {
            "line": {
             "colorbar": {
              "outlinewidth": 0,
              "ticks": ""
             }
            },
            "type": "parcoords"
           }
          ],
          "pie": [
           {
            "automargin": true,
            "type": "pie"
           }
          ],
          "scatter": [
           {
            "fillpattern": {
             "fillmode": "overlay",
             "size": 10,
             "solidity": 0.2
            },
            "type": "scatter"
           }
          ],
          "scatter3d": [
           {
            "line": {
             "colorbar": {
              "outlinewidth": 0,
              "ticks": ""
             }
            },
            "marker": {
             "colorbar": {
              "outlinewidth": 0,
              "ticks": ""
             }
            },
            "type": "scatter3d"
           }
          ],
          "scattercarpet": [
           {
            "marker": {
             "colorbar": {
              "outlinewidth": 0,
              "ticks": ""
             }
            },
            "type": "scattercarpet"
           }
          ],
          "scattergeo": [
           {
            "marker": {
             "colorbar": {
              "outlinewidth": 0,
              "ticks": ""
             }
            },
            "type": "scattergeo"
           }
          ],
          "scattergl": [
           {
            "marker": {
             "colorbar": {
              "outlinewidth": 0,
              "ticks": ""
             }
            },
            "type": "scattergl"
           }
          ],
          "scattermapbox": [
           {
            "marker": {
             "colorbar": {
              "outlinewidth": 0,
              "ticks": ""
             }
            },
            "type": "scattermapbox"
           }
          ],
          "scatterpolar": [
           {
            "marker": {
             "colorbar": {
              "outlinewidth": 0,
              "ticks": ""
             }
            },
            "type": "scatterpolar"
           }
          ],
          "scatterpolargl": [
           {
            "marker": {
             "colorbar": {
              "outlinewidth": 0,
              "ticks": ""
             }
            },
            "type": "scatterpolargl"
           }
          ],
          "scatterternary": [
           {
            "marker": {
             "colorbar": {
              "outlinewidth": 0,
              "ticks": ""
             }
            },
            "type": "scatterternary"
           }
          ],
          "surface": [
           {
            "colorbar": {
             "outlinewidth": 0,
             "ticks": ""
            },
            "colorscale": [
             [
              0,
              "#0d0887"
             ],
             [
              0.1111111111111111,
              "#46039f"
             ],
             [
              0.2222222222222222,
              "#7201a8"
             ],
             [
              0.3333333333333333,
              "#9c179e"
             ],
             [
              0.4444444444444444,
              "#bd3786"
             ],
             [
              0.5555555555555556,
              "#d8576b"
             ],
             [
              0.6666666666666666,
              "#ed7953"
             ],
             [
              0.7777777777777778,
              "#fb9f3a"
             ],
             [
              0.8888888888888888,
              "#fdca26"
             ],
             [
              1,
              "#f0f921"
             ]
            ],
            "type": "surface"
           }
          ],
          "table": [
           {
            "cells": {
             "fill": {
              "color": "#EBF0F8"
             },
             "line": {
              "color": "white"
             }
            },
            "header": {
             "fill": {
              "color": "#C8D4E3"
             },
             "line": {
              "color": "white"
             }
            },
            "type": "table"
           }
          ]
         },
         "layout": {
          "annotationdefaults": {
           "arrowcolor": "#2a3f5f",
           "arrowhead": 0,
           "arrowwidth": 1
          },
          "autotypenumbers": "strict",
          "coloraxis": {
           "colorbar": {
            "outlinewidth": 0,
            "ticks": ""
           }
          },
          "colorscale": {
           "diverging": [
            [
             0,
             "#8e0152"
            ],
            [
             0.1,
             "#c51b7d"
            ],
            [
             0.2,
             "#de77ae"
            ],
            [
             0.3,
             "#f1b6da"
            ],
            [
             0.4,
             "#fde0ef"
            ],
            [
             0.5,
             "#f7f7f7"
            ],
            [
             0.6,
             "#e6f5d0"
            ],
            [
             0.7,
             "#b8e186"
            ],
            [
             0.8,
             "#7fbc41"
            ],
            [
             0.9,
             "#4d9221"
            ],
            [
             1,
             "#276419"
            ]
           ],
           "sequential": [
            [
             0,
             "#0d0887"
            ],
            [
             0.1111111111111111,
             "#46039f"
            ],
            [
             0.2222222222222222,
             "#7201a8"
            ],
            [
             0.3333333333333333,
             "#9c179e"
            ],
            [
             0.4444444444444444,
             "#bd3786"
            ],
            [
             0.5555555555555556,
             "#d8576b"
            ],
            [
             0.6666666666666666,
             "#ed7953"
            ],
            [
             0.7777777777777778,
             "#fb9f3a"
            ],
            [
             0.8888888888888888,
             "#fdca26"
            ],
            [
             1,
             "#f0f921"
            ]
           ],
           "sequentialminus": [
            [
             0,
             "#0d0887"
            ],
            [
             0.1111111111111111,
             "#46039f"
            ],
            [
             0.2222222222222222,
             "#7201a8"
            ],
            [
             0.3333333333333333,
             "#9c179e"
            ],
            [
             0.4444444444444444,
             "#bd3786"
            ],
            [
             0.5555555555555556,
             "#d8576b"
            ],
            [
             0.6666666666666666,
             "#ed7953"
            ],
            [
             0.7777777777777778,
             "#fb9f3a"
            ],
            [
             0.8888888888888888,
             "#fdca26"
            ],
            [
             1,
             "#f0f921"
            ]
           ]
          },
          "colorway": [
           "#636efa",
           "#EF553B",
           "#00cc96",
           "#ab63fa",
           "#FFA15A",
           "#19d3f3",
           "#FF6692",
           "#B6E880",
           "#FF97FF",
           "#FECB52"
          ],
          "font": {
           "color": "#2a3f5f"
          },
          "geo": {
           "bgcolor": "white",
           "lakecolor": "white",
           "landcolor": "#E5ECF6",
           "showlakes": true,
           "showland": true,
           "subunitcolor": "white"
          },
          "hoverlabel": {
           "align": "left"
          },
          "hovermode": "closest",
          "mapbox": {
           "style": "light"
          },
          "paper_bgcolor": "white",
          "plot_bgcolor": "#E5ECF6",
          "polar": {
           "angularaxis": {
            "gridcolor": "white",
            "linecolor": "white",
            "ticks": ""
           },
           "bgcolor": "#E5ECF6",
           "radialaxis": {
            "gridcolor": "white",
            "linecolor": "white",
            "ticks": ""
           }
          },
          "scene": {
           "xaxis": {
            "backgroundcolor": "#E5ECF6",
            "gridcolor": "white",
            "gridwidth": 2,
            "linecolor": "white",
            "showbackground": true,
            "ticks": "",
            "zerolinecolor": "white"
           },
           "yaxis": {
            "backgroundcolor": "#E5ECF6",
            "gridcolor": "white",
            "gridwidth": 2,
            "linecolor": "white",
            "showbackground": true,
            "ticks": "",
            "zerolinecolor": "white"
           },
           "zaxis": {
            "backgroundcolor": "#E5ECF6",
            "gridcolor": "white",
            "gridwidth": 2,
            "linecolor": "white",
            "showbackground": true,
            "ticks": "",
            "zerolinecolor": "white"
           }
          },
          "shapedefaults": {
           "line": {
            "color": "#2a3f5f"
           }
          },
          "ternary": {
           "aaxis": {
            "gridcolor": "white",
            "linecolor": "white",
            "ticks": ""
           },
           "baxis": {
            "gridcolor": "white",
            "linecolor": "white",
            "ticks": ""
           },
           "bgcolor": "#E5ECF6",
           "caxis": {
            "gridcolor": "white",
            "linecolor": "white",
            "ticks": ""
           }
          },
          "title": {
           "x": 0.05
          },
          "xaxis": {
           "automargin": true,
           "gridcolor": "white",
           "linecolor": "white",
           "ticks": "",
           "title": {
            "standoff": 15
           },
           "zerolinecolor": "white",
           "zerolinewidth": 2
          },
          "yaxis": {
           "automargin": true,
           "gridcolor": "white",
           "linecolor": "white",
           "ticks": "",
           "title": {
            "standoff": 15
           },
           "zerolinecolor": "white",
           "zerolinewidth": 2
          }
         }
        },
        "title": {
         "text": "Highest Qualification Distribution"
        }
       }
      }
     },
     "metadata": {},
     "output_type": "display_data"
    },
    {
     "data": {
      "application/vnd.plotly.v1+json": {
       "config": {
        "plotlyServerURL": "https://plot.ly"
       },
       "data": [
        {
         "hovertemplate": "INTAKE NO=%{x}<br>STUDENT ID=%{y}<extra></extra>",
         "legendgroup": "",
         "line": {
          "color": "#636efa",
          "dash": "solid"
         },
         "marker": {
          "symbol": "circle"
         },
         "mode": "lines+markers",
         "name": "",
         "orientation": "v",
         "showlegend": false,
         "type": "scatter",
         "x": [
          "5th",
          "63th",
          "8th",
          "107th",
          "8th",
          "6th",
          "7th",
          "8th",
          "63th",
          "64th",
          "8th",
          "6th",
          "7th",
          "63th",
          "65th",
          "65th",
          "108th",
          "64th",
          "64th",
          "10th",
          "5th",
          "6th",
          "6th",
          "66th",
          "7th",
          "10th",
          "65th",
          "5th",
          "10th",
          "65th",
          "65th",
          "67th",
          "67th",
          "12th",
          "10th",
          "10th",
          "10th",
          "10th",
          "63th",
          "63th",
          "65th",
          "107th",
          "66th",
          "106th",
          "7th",
          "64th",
          "65th",
          "66th",
          "7th",
          "7th",
          "64th",
          "9th",
          "63th",
          "66th",
          "64th",
          "7th",
          "63th",
          "63th",
          "8th",
          "65th",
          "65th",
          "64th",
          "9th",
          "12th",
          "108th",
          "10th",
          "14th",
          "14th",
          "8th",
          "65th",
          "15th",
          "64th",
          "11th",
          "9th",
          "109th",
          "5th",
          "5th",
          "7th",
          "9th",
          "65th",
          "13th",
          "13th",
          "11th",
          "8th",
          "11th",
          "69th",
          "12th",
          "17th",
          "108th",
          "11th",
          "65th",
          "107th",
          "66th",
          "64th",
          "10th",
          "112th",
          "65th",
          "70th",
          "66th",
          "64th",
          "65th",
          "65th",
          "109th",
          "12th",
          "69th",
          "69th",
          "8th",
          "11th",
          "11th",
          "70th",
          "64th",
          "9th",
          "65th",
          "68th",
          "68th",
          "107th",
          "111th",
          "12th",
          "9th",
          "112th",
          "63th",
          "70th",
          "70th",
          "70th",
          "12th",
          "12th",
          "14th",
          "68th",
          "70th",
          "64th",
          "10th",
          "68th",
          "12th",
          "68th",
          "16th",
          "7th",
          "70th",
          "107th",
          "67th",
          "69th",
          "106th",
          "7th",
          "8th",
          "70th",
          "109th",
          "66th",
          "69th",
          "16th",
          "7th",
          "110th",
          "70th",
          "67th",
          "15th",
          "10th",
          "63th",
          "8th",
          "11th",
          "70th",
          "70th",
          "70th",
          "70th",
          "67th",
          "17th",
          "7th",
          "10th",
          "65th",
          "70th",
          "12th",
          "13th",
          "7th",
          "10th",
          "108th",
          "14th",
          "65th",
          "111th",
          "69th",
          "17th",
          "108th",
          "9th",
          "9th",
          "10th",
          "10th",
          "65th",
          "107th",
          "66th",
          "7th",
          "9th",
          "109th",
          "109th",
          "67th",
          "64th",
          "10th",
          "65th",
          "68th",
          "109th",
          "12th",
          "12th",
          "110th",
          "11th",
          "70th",
          "10th",
          "11th",
          "65th",
          "70th",
          "111th",
          "111th",
          "11th",
          "112th",
          "8th",
          "66th",
          "15th",
          "11th",
          "8th",
          "68th",
          "109th",
          "69th",
          "17th",
          "11th",
          "109th",
          "17th",
          "68th",
          "70th",
          "111th",
          "9th",
          "10th",
          "11th",
          "68th",
          "69th",
          "69th",
          "68th",
          "68th",
          "70th",
          "111th",
          "111th",
          "12th",
          "69th",
          "16th",
          "11th",
          "70th",
          "69th",
          "12th",
          "70th",
          "70th",
          "12th"
         ],
         "xaxis": "x",
         "y": [
          "2019/5113-005/001",
          "2019/2102-063/004",
          "2019/1101-008/006",
          "2019/2101-107/008",
          "2019/1101-008/007",
          "2019/5113-006/003",
          "2019/1101-007/005",
          "2019/1101-008/008",
          "2019/2101-107/005",
          "2019/2102-064/017",
          "2019/1101-008/009",
          "2019/5112-006/005",
          "2019/1101-007/003",
          "2019/2102-063/001",
          "2019/2102-065/025",
          "2019/2102-065/033",
          "2019/2101-108/010",
          "2019/2102-064/012",
          "2019/2102-064/021",
          "2019/1101-010/024",
          "2019/5112-005/001",
          "2019/5112-006/006",
          "2019/5112-006/004",
          "2019/2102-066/047",
          "2019/5112-007/010",
          "2019/1101-010/013",
          "2019/2102-065/043",
          "2019/5112-005/003",
          "2019/1101-010/023",
          "2019/2102-065/040",
          "2019/2102-065/030",
          "2019/2102-067/058",
          "2019/2102-067/054",
          "2019/1101-012/030",
          "2019/1101-010/014",
          "2019/1101-010/021",
          "2019/1101-010/015",
          "2019/1101-010/017",
          "2019/2102-063/009",
          "2019/2102-063/008",
          "2019/2102-065/038",
          "2019/2101-107/009",
          "2019/2102-066/052",
          "2019/2101-106/001",
          "2019/5113-007/004",
          "2019/2102-064/014",
          "2019/2102-065/028",
          "2019/2102-066/046",
          "2019/5113-007/006",
          "2019/5112-007/011",
          "2019/2102-064/022",
          "2020/5113-009/005",
          "2019/2102-063/007",
          "2019/2102-066/044",
          "2019/2102-064/013",
          "2019/1101-007/002",
          "2019/2102-063/006",
          "2019/2102-063/003",
          "2019/5112-008/015",
          "2019/2102-065/026",
          "2019/2102-065/037",
          "2019/2102-064/020",
          "2020/5113-009/006",
          "2019/1101-012/031",
          "2019/2101-108/011",
          "2019/1101-010/019",
          "2020/1101-014/005",
          "2020/1101-014/006",
          "2019/5112-008/017",
          "2019/2102-065/034",
          "2020/1101-015/011",
          "2019/2102-064/015",
          "2019/1101-011/029",
          "2020/5112-009/001",
          "2019/2101-109/019",
          "2019/5112-005/002",
          "2019/5113-005/002",
          "2019/5112-007/008",
          "2020/5113-009/004",
          "2019/2102-065/024",
          "2020/1101-013/001",
          "2020/1101-013/003",
          "2019/1101-011/026",
          "2019/5113-008/007",
          "2020/5113-011/012",
          "2020/2102-069/013",
          "2020/5112-012/015",
          "2020/1101-017/019",
          "2019/2101-108/012",
          "2019/1101-011/028",
          "2019/2102-065/035",
          "2019/2101-107/003",
          "2019/2102-066/049",
          "2019/2102-064/011",
          "2019/1101-010/022",
          "2020/2101-112/011",
          "2019/2102-065/041",
          "2020/2102-070/032",
          "2019/2102-066/050",
          "2019/2102-064/010",
          "2019/2102-065/032",
          "2019/2102-065/023",
          "2019/2101-109/023",
          "2020/5113-012/015",
          "2020/2102-069/021",
          "2020/2102-069/019",
          "2019/5112-008/018",
          "2020/5112-011/009",
          "2020/5113-011/014",
          "2020/2102-070/042",
          "2019/2102-064/016",
          "2020/5113-009/003",
          "2019/2102-065/039",
          "2020/2102-068/004",
          "2020/2102-068/006",
          "2019/2101-107/006",
          "2020/2101-111/008",
          "2020/5112-012/011",
          "2019/1101-009/011",
          "2020/2101-112/010",
          "2019/2102-063/005",
          "2020/2102-070/043",
          "2020/2102-070/039",
          "2020/2102-070/040",
          "2020/5112-012/014",
          "2020/5113-012/017",
          "2020/1101-014/004",
          "2020/2102-068/005",
          "2020/2102-070/038",
          "2019/2102-064/018",
          "2020/5113-010/009",
          "2020/2102-068/007",
          "2020/5112-012/010",
          "2020/2102-068/001",
          "2020/1101-016/014",
          "2019/5112-007/012",
          "2020/2102-070/037",
          "2019/2101-107/004",
          "2019/2102-067/057",
          "2020/2102-069/012",
          "2019/2101-106/002",
          "2019/5112-007/009",
          "2019/5113-008/008",
          "2020/2102-070/023",
          "2019/2101-109/018",
          "2019/2102-066/051",
          "2020/2102-069/020",
          "2020/1101-016/012",
          "2019/5113-007/005",
          "2020/2101-110/001",
          "2020/2102-070/033",
          "2019/2102-067/055",
          "2020/1101-015/009",
          "2019/1101-010/020",
          "2019/2102-063/002",
          "2019/5112-008/013",
          "2020/5113-011/013",
          "2020/2102-070/029",
          "2020/2102-070/031",
          "2020/2102-070/035",
          "2020/2102-070/025",
          "2019/2102-067/053",
          "2020/1101-017/018",
          "2019/1101-007/001",
          "2019/1101-010/016",
          "2019/2102-065/029",
          "2020/2102-070/028",
          "2020/5113-012/016",
          "2020/1101-013/002",
          "2019/1101-007/004",
          "2020/5112-010/005",
          "2019/2101-108/013",
          "2020/1101-014/008",
          "2019/2102-065/031",
          "2020/2101-111/006",
          "2020/2102-069/017",
          "2020/1101-017/017",
          "2019/2101-108/014",
          "2020/5113-009/002",
          "2020/5112-009/002",
          "2020/5113-010/008",
          "2020/5113-010/007",
          "2019/2102-065/036",
          "2019/2101-107/007",
          "2019/2102-066/045",
          "2019/5112-007/007",
          "2019/1101-009/010",
          "2019/2101-109/015",
          "2019/2101-109/022",
          "2019/2102-067/056",
          "2019/2102-064/019",
          "2020/5112-010/003",
          "2019/2102-065/042",
          "2020/2102-068/010",
          "2019/2101-109/016",
          "2019/1101-012/032",
          "2019/1101-012/033",
          "2020/2101-110/002",
          "2020/5112-011/007",
          "2020/2102-070/034",
          "2019/1101-010/012",
          "2020/5112-011/008",
          "2019/2102-065/027",
          "2020/2102-070/027",
          "2020/2101-111/005",
          "2020/2101-111/009",
          "2019/1101-011/027",
          "2020/2101-112/012",
          "2019/5112-008/014",
          "2019/2102-066/048",
          "2020/1101-015/010",
          "2019/1101-011/025",
          "2019/5112-008/016",
          "2020/2102-068/008",
          "2019/2101-109/017",
          "2020/2102-069/015",
          "2020/1101-017/015",
          "2020/5113-011/010",
          "2019/2101-109/021",
          "2020/1101-017/016",
          "2020/2102-068/002",
          "2020/2102-070/036",
          "2020/2101-111/004",
          "2020/5113-009/001",
          "2020/5112-010/004",
          "2020/5113-011/011",
          "2020/2102-068/011",
          "2020/2102-069/016",
          "2020/2102-069/022",
          "2020/2102-068/003",
          "2020/2102-068/009",
          "2020/2102-070/041",
          "2020/2101-111/007",
          "2020/2101-111/003",
          "2020/5112-012/013",
          "2020/2102-069/018",
          "2020/1101-016/013",
          "2020/5112-011/006",
          "2020/2102-070/030",
          "2020/2102-069/014",
          "2020/5112-012/012",
          "2020/2102-070/024",
          "2020/2102-070/026",
          "2020/5113-012/018"
         ],
         "yaxis": "y"
        }
       ],
       "layout": {
        "legend": {
         "tracegroupgap": 0
        },
        "template": {
         "data": {
          "bar": [
           {
            "error_x": {
             "color": "#2a3f5f"
            },
            "error_y": {
             "color": "#2a3f5f"
            },
            "marker": {
             "line": {
              "color": "#E5ECF6",
              "width": 0.5
             },
             "pattern": {
              "fillmode": "overlay",
              "size": 10,
              "solidity": 0.2
             }
            },
            "type": "bar"
           }
          ],
          "barpolar": [
           {
            "marker": {
             "line": {
              "color": "#E5ECF6",
              "width": 0.5
             },
             "pattern": {
              "fillmode": "overlay",
              "size": 10,
              "solidity": 0.2
             }
            },
            "type": "barpolar"
           }
          ],
          "carpet": [
           {
            "aaxis": {
             "endlinecolor": "#2a3f5f",
             "gridcolor": "white",
             "linecolor": "white",
             "minorgridcolor": "white",
             "startlinecolor": "#2a3f5f"
            },
            "baxis": {
             "endlinecolor": "#2a3f5f",
             "gridcolor": "white",
             "linecolor": "white",
             "minorgridcolor": "white",
             "startlinecolor": "#2a3f5f"
            },
            "type": "carpet"
           }
          ],
          "choropleth": [
           {
            "colorbar": {
             "outlinewidth": 0,
             "ticks": ""
            },
            "type": "choropleth"
           }
          ],
          "contour": [
           {
            "colorbar": {
             "outlinewidth": 0,
             "ticks": ""
            },
            "colorscale": [
             [
              0,
              "#0d0887"
             ],
             [
              0.1111111111111111,
              "#46039f"
             ],
             [
              0.2222222222222222,
              "#7201a8"
             ],
             [
              0.3333333333333333,
              "#9c179e"
             ],
             [
              0.4444444444444444,
              "#bd3786"
             ],
             [
              0.5555555555555556,
              "#d8576b"
             ],
             [
              0.6666666666666666,
              "#ed7953"
             ],
             [
              0.7777777777777778,
              "#fb9f3a"
             ],
             [
              0.8888888888888888,
              "#fdca26"
             ],
             [
              1,
              "#f0f921"
             ]
            ],
            "type": "contour"
           }
          ],
          "contourcarpet": [
           {
            "colorbar": {
             "outlinewidth": 0,
             "ticks": ""
            },
            "type": "contourcarpet"
           }
          ],
          "heatmap": [
           {
            "colorbar": {
             "outlinewidth": 0,
             "ticks": ""
            },
            "colorscale": [
             [
              0,
              "#0d0887"
             ],
             [
              0.1111111111111111,
              "#46039f"
             ],
             [
              0.2222222222222222,
              "#7201a8"
             ],
             [
              0.3333333333333333,
              "#9c179e"
             ],
             [
              0.4444444444444444,
              "#bd3786"
             ],
             [
              0.5555555555555556,
              "#d8576b"
             ],
             [
              0.6666666666666666,
              "#ed7953"
             ],
             [
              0.7777777777777778,
              "#fb9f3a"
             ],
             [
              0.8888888888888888,
              "#fdca26"
             ],
             [
              1,
              "#f0f921"
             ]
            ],
            "type": "heatmap"
           }
          ],
          "heatmapgl": [
           {
            "colorbar": {
             "outlinewidth": 0,
             "ticks": ""
            },
            "colorscale": [
             [
              0,
              "#0d0887"
             ],
             [
              0.1111111111111111,
              "#46039f"
             ],
             [
              0.2222222222222222,
              "#7201a8"
             ],
             [
              0.3333333333333333,
              "#9c179e"
             ],
             [
              0.4444444444444444,
              "#bd3786"
             ],
             [
              0.5555555555555556,
              "#d8576b"
             ],
             [
              0.6666666666666666,
              "#ed7953"
             ],
             [
              0.7777777777777778,
              "#fb9f3a"
             ],
             [
              0.8888888888888888,
              "#fdca26"
             ],
             [
              1,
              "#f0f921"
             ]
            ],
            "type": "heatmapgl"
           }
          ],
          "histogram": [
           {
            "marker": {
             "pattern": {
              "fillmode": "overlay",
              "size": 10,
              "solidity": 0.2
             }
            },
            "type": "histogram"
           }
          ],
          "histogram2d": [
           {
            "colorbar": {
             "outlinewidth": 0,
             "ticks": ""
            },
            "colorscale": [
             [
              0,
              "#0d0887"
             ],
             [
              0.1111111111111111,
              "#46039f"
             ],
             [
              0.2222222222222222,
              "#7201a8"
             ],
             [
              0.3333333333333333,
              "#9c179e"
             ],
             [
              0.4444444444444444,
              "#bd3786"
             ],
             [
              0.5555555555555556,
              "#d8576b"
             ],
             [
              0.6666666666666666,
              "#ed7953"
             ],
             [
              0.7777777777777778,
              "#fb9f3a"
             ],
             [
              0.8888888888888888,
              "#fdca26"
             ],
             [
              1,
              "#f0f921"
             ]
            ],
            "type": "histogram2d"
           }
          ],
          "histogram2dcontour": [
           {
            "colorbar": {
             "outlinewidth": 0,
             "ticks": ""
            },
            "colorscale": [
             [
              0,
              "#0d0887"
             ],
             [
              0.1111111111111111,
              "#46039f"
             ],
             [
              0.2222222222222222,
              "#7201a8"
             ],
             [
              0.3333333333333333,
              "#9c179e"
             ],
             [
              0.4444444444444444,
              "#bd3786"
             ],
             [
              0.5555555555555556,
              "#d8576b"
             ],
             [
              0.6666666666666666,
              "#ed7953"
             ],
             [
              0.7777777777777778,
              "#fb9f3a"
             ],
             [
              0.8888888888888888,
              "#fdca26"
             ],
             [
              1,
              "#f0f921"
             ]
            ],
            "type": "histogram2dcontour"
           }
          ],
          "mesh3d": [
           {
            "colorbar": {
             "outlinewidth": 0,
             "ticks": ""
            },
            "type": "mesh3d"
           }
          ],
          "parcoords": [
           {
            "line": {
             "colorbar": {
              "outlinewidth": 0,
              "ticks": ""
             }
            },
            "type": "parcoords"
           }
          ],
          "pie": [
           {
            "automargin": true,
            "type": "pie"
           }
          ],
          "scatter": [
           {
            "fillpattern": {
             "fillmode": "overlay",
             "size": 10,
             "solidity": 0.2
            },
            "type": "scatter"
           }
          ],
          "scatter3d": [
           {
            "line": {
             "colorbar": {
              "outlinewidth": 0,
              "ticks": ""
             }
            },
            "marker": {
             "colorbar": {
              "outlinewidth": 0,
              "ticks": ""
             }
            },
            "type": "scatter3d"
           }
          ],
          "scattercarpet": [
           {
            "marker": {
             "colorbar": {
              "outlinewidth": 0,
              "ticks": ""
             }
            },
            "type": "scattercarpet"
           }
          ],
          "scattergeo": [
           {
            "marker": {
             "colorbar": {
              "outlinewidth": 0,
              "ticks": ""
             }
            },
            "type": "scattergeo"
           }
          ],
          "scattergl": [
           {
            "marker": {
             "colorbar": {
              "outlinewidth": 0,
              "ticks": ""
             }
            },
            "type": "scattergl"
           }
          ],
          "scattermapbox": [
           {
            "marker": {
             "colorbar": {
              "outlinewidth": 0,
              "ticks": ""
             }
            },
            "type": "scattermapbox"
           }
          ],
          "scatterpolar": [
           {
            "marker": {
             "colorbar": {
              "outlinewidth": 0,
              "ticks": ""
             }
            },
            "type": "scatterpolar"
           }
          ],
          "scatterpolargl": [
           {
            "marker": {
             "colorbar": {
              "outlinewidth": 0,
              "ticks": ""
             }
            },
            "type": "scatterpolargl"
           }
          ],
          "scatterternary": [
           {
            "marker": {
             "colorbar": {
              "outlinewidth": 0,
              "ticks": ""
             }
            },
            "type": "scatterternary"
           }
          ],
          "surface": [
           {
            "colorbar": {
             "outlinewidth": 0,
             "ticks": ""
            },
            "colorscale": [
             [
              0,
              "#0d0887"
             ],
             [
              0.1111111111111111,
              "#46039f"
             ],
             [
              0.2222222222222222,
              "#7201a8"
             ],
             [
              0.3333333333333333,
              "#9c179e"
             ],
             [
              0.4444444444444444,
              "#bd3786"
             ],
             [
              0.5555555555555556,
              "#d8576b"
             ],
             [
              0.6666666666666666,
              "#ed7953"
             ],
             [
              0.7777777777777778,
              "#fb9f3a"
             ],
             [
              0.8888888888888888,
              "#fdca26"
             ],
             [
              1,
              "#f0f921"
             ]
            ],
            "type": "surface"
           }
          ],
          "table": [
           {
            "cells": {
             "fill": {
              "color": "#EBF0F8"
             },
             "line": {
              "color": "white"
             }
            },
            "header": {
             "fill": {
              "color": "#C8D4E3"
             },
             "line": {
              "color": "white"
             }
            },
            "type": "table"
           }
          ]
         },
         "layout": {
          "annotationdefaults": {
           "arrowcolor": "#2a3f5f",
           "arrowhead": 0,
           "arrowwidth": 1
          },
          "autotypenumbers": "strict",
          "coloraxis": {
           "colorbar": {
            "outlinewidth": 0,
            "ticks": ""
           }
          },
          "colorscale": {
           "diverging": [
            [
             0,
             "#8e0152"
            ],
            [
             0.1,
             "#c51b7d"
            ],
            [
             0.2,
             "#de77ae"
            ],
            [
             0.3,
             "#f1b6da"
            ],
            [
             0.4,
             "#fde0ef"
            ],
            [
             0.5,
             "#f7f7f7"
            ],
            [
             0.6,
             "#e6f5d0"
            ],
            [
             0.7,
             "#b8e186"
            ],
            [
             0.8,
             "#7fbc41"
            ],
            [
             0.9,
             "#4d9221"
            ],
            [
             1,
             "#276419"
            ]
           ],
           "sequential": [
            [
             0,
             "#0d0887"
            ],
            [
             0.1111111111111111,
             "#46039f"
            ],
            [
             0.2222222222222222,
             "#7201a8"
            ],
            [
             0.3333333333333333,
             "#9c179e"
            ],
            [
             0.4444444444444444,
             "#bd3786"
            ],
            [
             0.5555555555555556,
             "#d8576b"
            ],
            [
             0.6666666666666666,
             "#ed7953"
            ],
            [
             0.7777777777777778,
             "#fb9f3a"
            ],
            [
             0.8888888888888888,
             "#fdca26"
            ],
            [
             1,
             "#f0f921"
            ]
           ],
           "sequentialminus": [
            [
             0,
             "#0d0887"
            ],
            [
             0.1111111111111111,
             "#46039f"
            ],
            [
             0.2222222222222222,
             "#7201a8"
            ],
            [
             0.3333333333333333,
             "#9c179e"
            ],
            [
             0.4444444444444444,
             "#bd3786"
            ],
            [
             0.5555555555555556,
             "#d8576b"
            ],
            [
             0.6666666666666666,
             "#ed7953"
            ],
            [
             0.7777777777777778,
             "#fb9f3a"
            ],
            [
             0.8888888888888888,
             "#fdca26"
            ],
            [
             1,
             "#f0f921"
            ]
           ]
          },
          "colorway": [
           "#636efa",
           "#EF553B",
           "#00cc96",
           "#ab63fa",
           "#FFA15A",
           "#19d3f3",
           "#FF6692",
           "#B6E880",
           "#FF97FF",
           "#FECB52"
          ],
          "font": {
           "color": "#2a3f5f"
          },
          "geo": {
           "bgcolor": "white",
           "lakecolor": "white",
           "landcolor": "#E5ECF6",
           "showlakes": true,
           "showland": true,
           "subunitcolor": "white"
          },
          "hoverlabel": {
           "align": "left"
          },
          "hovermode": "closest",
          "mapbox": {
           "style": "light"
          },
          "paper_bgcolor": "white",
          "plot_bgcolor": "#E5ECF6",
          "polar": {
           "angularaxis": {
            "gridcolor": "white",
            "linecolor": "white",
            "ticks": ""
           },
           "bgcolor": "#E5ECF6",
           "radialaxis": {
            "gridcolor": "white",
            "linecolor": "white",
            "ticks": ""
           }
          },
          "scene": {
           "xaxis": {
            "backgroundcolor": "#E5ECF6",
            "gridcolor": "white",
            "gridwidth": 2,
            "linecolor": "white",
            "showbackground": true,
            "ticks": "",
            "zerolinecolor": "white"
           },
           "yaxis": {
            "backgroundcolor": "#E5ECF6",
            "gridcolor": "white",
            "gridwidth": 2,
            "linecolor": "white",
            "showbackground": true,
            "ticks": "",
            "zerolinecolor": "white"
           },
           "zaxis": {
            "backgroundcolor": "#E5ECF6",
            "gridcolor": "white",
            "gridwidth": 2,
            "linecolor": "white",
            "showbackground": true,
            "ticks": "",
            "zerolinecolor": "white"
           }
          },
          "shapedefaults": {
           "line": {
            "color": "#2a3f5f"
           }
          },
          "ternary": {
           "aaxis": {
            "gridcolor": "white",
            "linecolor": "white",
            "ticks": ""
           },
           "baxis": {
            "gridcolor": "white",
            "linecolor": "white",
            "ticks": ""
           },
           "bgcolor": "#E5ECF6",
           "caxis": {
            "gridcolor": "white",
            "linecolor": "white",
            "ticks": ""
           }
          },
          "title": {
           "x": 0.05
          },
          "xaxis": {
           "automargin": true,
           "gridcolor": "white",
           "linecolor": "white",
           "ticks": "",
           "title": {
            "standoff": 15
           },
           "zerolinecolor": "white",
           "zerolinewidth": 2
          },
          "yaxis": {
           "automargin": true,
           "gridcolor": "white",
           "linecolor": "white",
           "ticks": "",
           "title": {
            "standoff": 15
           },
           "zerolinecolor": "white",
           "zerolinewidth": 2
          }
         }
        },
        "title": {
         "text": "Course Intake Over Time"
        },
        "xaxis": {
         "anchor": "y",
         "domain": [
          0,
          1
         ],
         "title": {
          "text": "INTAKE NO"
         }
        },
        "yaxis": {
         "anchor": "x",
         "domain": [
          0,
          1
         ],
         "title": {
          "text": "STUDENT ID"
         }
        }
       }
      }
     },
     "metadata": {},
     "output_type": "display_data"
    },
    {
     "data": {
      "application/vnd.plotly.v1+json": {
       "config": {
        "plotlyServerURL": "https://plot.ly"
       },
       "data": [
        {
         "alignmentgroup": "True",
         "hovertemplate": "NATIONALITY=%{x}<br>count=%{y}<extra></extra>",
         "legendgroup": "",
         "marker": {
          "color": "#636efa",
          "pattern": {
           "shape": ""
          }
         },
         "name": "",
         "offsetgroup": "",
         "orientation": "v",
         "showlegend": false,
         "textposition": "auto",
         "type": "bar",
         "x": [
          "Singaporean",
          "Permanent Resident",
          "Permanent Resident",
          "Singaporean",
          "Permanent Resident",
          "Singaporean",
          "Singaporean",
          "Singaporean",
          "Singaporean",
          "Singaporean",
          "Singaporean",
          "Singaporean",
          "Foreigner",
          "Singaporean",
          "Permanent Resident",
          "Singaporean",
          "Singaporean",
          "Singaporean",
          "Singaporean",
          "Singaporean",
          "Singaporean",
          "Singaporean",
          "Singaporean",
          "Singaporean",
          "Singaporean",
          "Singaporean",
          "Singaporean",
          "Singaporean",
          "Singaporean",
          "Singaporean",
          "Permanent Resident",
          "Permanent Resident",
          "Singaporean",
          "Singaporean",
          "Singaporean",
          "Singaporean",
          "Singaporean",
          "Singaporean",
          "Singaporean",
          "Singaporean",
          "Singaporean",
          "Singaporean",
          "Singaporean",
          "Permanent Resident",
          "Singaporean",
          "Singaporean",
          "Singaporean",
          "Foreigner",
          "Permanent Resident",
          "Singaporean",
          "Singaporean",
          "Singaporean",
          "Singaporean",
          "Singaporean",
          "Foreigner",
          "Singaporean",
          "Singaporean",
          "Singaporean",
          "Singaporean",
          "Singaporean",
          "Permanent Resident",
          "Singaporean",
          "Singaporean",
          "Singaporean",
          "Foreigner",
          "Foreigner",
          "Singaporean",
          "Permanent Resident",
          "Singaporean",
          "Singaporean",
          "Singaporean",
          "Permanent Resident",
          "Singaporean",
          "Permanent Resident",
          "Singaporean",
          "Singaporean",
          "Singaporean",
          "Singaporean",
          "Singaporean",
          "Singaporean",
          "Singaporean",
          "Singaporean",
          "Singaporean",
          "Singaporean",
          "Singaporean",
          "Singaporean",
          "Singaporean",
          "Singaporean",
          "Singaporean",
          "Permanent Resident",
          "Singaporean",
          "Singaporean",
          "Foreigner",
          "Singaporean",
          "Singaporean",
          "Singaporean",
          "Singaporean",
          "Singaporean",
          "Foreigner",
          "Singaporean",
          "Singaporean",
          "Singaporean",
          "Foreigner",
          "Singaporean",
          "Singaporean",
          "Singaporean",
          "Permanent Resident",
          "Singaporean",
          "Singaporean",
          "Singaporean",
          "Singaporean",
          "Singaporean",
          "Permanent Resident",
          "Singaporean",
          "Singaporean",
          "Singaporean",
          "Singaporean",
          "Singaporean",
          "Foreigner",
          "Singaporean",
          "Singaporean",
          "Singaporean",
          "Singaporean",
          "Singaporean",
          "Singaporean",
          "Singaporean",
          "Singaporean",
          "Permanent Resident",
          "Singaporean",
          "Singaporean",
          "Singaporean",
          "Singaporean",
          "Singaporean",
          "Singaporean",
          "Singaporean",
          "Singaporean",
          "Singaporean",
          "Singaporean",
          "Permanent Resident",
          "Singaporean",
          "Permanent Resident",
          "Foreigner",
          "Singaporean",
          "Foreigner",
          "Singaporean",
          "Foreigner",
          "Singaporean",
          "Singaporean",
          "Singaporean",
          "Singaporean",
          "Foreigner",
          "Singaporean",
          "Singaporean",
          "Singaporean",
          "Singaporean",
          "Singaporean",
          "Singaporean",
          "Singaporean",
          "Singaporean",
          "Singaporean",
          "Permanent Resident",
          "Singaporean",
          "Singaporean",
          "Foreigner",
          "Singaporean",
          "Foreigner",
          "Singaporean",
          "Singaporean",
          "Singaporean",
          "Foreigner",
          "Singaporean",
          "Singaporean",
          "Foreigner",
          "Permanent Resident",
          "Singaporean",
          "Permanent Resident",
          "Singaporean",
          "Singaporean",
          "Singaporean",
          "Singaporean",
          "Foreigner",
          "Singaporean",
          "Foreigner",
          "Singaporean",
          "Singaporean",
          "Foreigner",
          "Singaporean",
          "Singaporean",
          "Singaporean",
          "Foreigner",
          "Singaporean",
          "Singaporean",
          "Permanent Resident",
          "Singaporean",
          "Foreigner",
          "Singaporean",
          "Singaporean",
          "Singaporean",
          "Singaporean",
          "Singaporean",
          "Permanent Resident",
          "Singaporean",
          "Foreigner",
          "Singaporean",
          "Singaporean",
          "Singaporean",
          "Permanent Resident",
          "Singaporean",
          "Singaporean",
          "Singaporean",
          "Singaporean",
          "Singaporean",
          "Foreigner",
          "Singaporean",
          "Foreigner",
          "Singaporean",
          "Singaporean",
          "Singaporean",
          "Singaporean",
          "Singaporean",
          "Singaporean",
          "Foreigner",
          "Singaporean",
          "Singaporean",
          "Permanent Resident",
          "Singaporean",
          "Permanent Resident",
          "Singaporean",
          "Singaporean",
          "Singaporean",
          "Permanent Resident",
          "Singaporean",
          "Singaporean",
          "Singaporean",
          "Singaporean",
          "Permanent Resident",
          "Singaporean",
          "Singaporean",
          "Singaporean",
          "Singaporean",
          "Singaporean",
          "Singaporean",
          "Singaporean",
          "Foreigner"
         ],
         "xaxis": "x",
         "y": [
          1,
          1,
          1,
          1,
          1,
          1,
          1,
          1,
          1,
          1,
          1,
          1,
          1,
          1,
          1,
          1,
          1,
          1,
          1,
          1,
          1,
          1,
          1,
          1,
          1,
          1,
          1,
          1,
          1,
          1,
          1,
          1,
          1,
          1,
          1,
          1,
          1,
          1,
          1,
          1,
          1,
          1,
          1,
          1,
          1,
          1,
          1,
          1,
          1,
          1,
          1,
          1,
          1,
          1,
          1,
          1,
          1,
          1,
          1,
          1,
          1,
          1,
          1,
          1,
          1,
          1,
          1,
          1,
          1,
          1,
          1,
          1,
          1,
          1,
          1,
          1,
          1,
          1,
          1,
          1,
          1,
          1,
          1,
          1,
          1,
          1,
          1,
          1,
          1,
          1,
          1,
          1,
          1,
          1,
          1,
          1,
          1,
          1,
          1,
          1,
          1,
          1,
          1,
          1,
          1,
          1,
          1,
          1,
          1,
          1,
          1,
          1,
          1,
          1,
          1,
          1,
          1,
          1,
          1,
          1,
          1,
          1,
          1,
          1,
          1,
          1,
          1,
          1,
          1,
          1,
          1,
          1,
          1,
          1,
          1,
          1,
          1,
          1,
          1,
          1,
          1,
          1,
          1,
          1,
          1,
          1,
          1,
          1,
          1,
          1,
          1,
          1,
          1,
          1,
          1,
          1,
          1,
          1,
          1,
          1,
          1,
          1,
          1,
          1,
          1,
          1,
          1,
          1,
          1,
          1,
          1,
          1,
          1,
          1,
          1,
          1,
          1,
          1,
          1,
          1,
          1,
          1,
          1,
          1,
          1,
          1,
          1,
          1,
          1,
          1,
          1,
          1,
          1,
          1,
          1,
          1,
          1,
          1,
          1,
          1,
          1,
          1,
          1,
          1,
          1,
          1,
          1,
          1,
          1,
          1,
          1,
          1,
          1,
          1,
          1,
          1,
          1,
          1,
          1,
          1,
          1,
          1,
          1,
          1,
          1,
          1,
          1,
          1,
          1,
          1,
          1,
          1,
          1,
          1,
          1,
          1,
          1,
          1,
          1,
          1,
          1,
          1,
          1,
          1
         ],
         "yaxis": "y"
        }
       ],
       "layout": {
        "barmode": "relative",
        "legend": {
         "tracegroupgap": 0
        },
        "template": {
         "data": {
          "bar": [
           {
            "error_x": {
             "color": "#2a3f5f"
            },
            "error_y": {
             "color": "#2a3f5f"
            },
            "marker": {
             "line": {
              "color": "#E5ECF6",
              "width": 0.5
             },
             "pattern": {
              "fillmode": "overlay",
              "size": 10,
              "solidity": 0.2
             }
            },
            "type": "bar"
           }
          ],
          "barpolar": [
           {
            "marker": {
             "line": {
              "color": "#E5ECF6",
              "width": 0.5
             },
             "pattern": {
              "fillmode": "overlay",
              "size": 10,
              "solidity": 0.2
             }
            },
            "type": "barpolar"
           }
          ],
          "carpet": [
           {
            "aaxis": {
             "endlinecolor": "#2a3f5f",
             "gridcolor": "white",
             "linecolor": "white",
             "minorgridcolor": "white",
             "startlinecolor": "#2a3f5f"
            },
            "baxis": {
             "endlinecolor": "#2a3f5f",
             "gridcolor": "white",
             "linecolor": "white",
             "minorgridcolor": "white",
             "startlinecolor": "#2a3f5f"
            },
            "type": "carpet"
           }
          ],
          "choropleth": [
           {
            "colorbar": {
             "outlinewidth": 0,
             "ticks": ""
            },
            "type": "choropleth"
           }
          ],
          "contour": [
           {
            "colorbar": {
             "outlinewidth": 0,
             "ticks": ""
            },
            "colorscale": [
             [
              0,
              "#0d0887"
             ],
             [
              0.1111111111111111,
              "#46039f"
             ],
             [
              0.2222222222222222,
              "#7201a8"
             ],
             [
              0.3333333333333333,
              "#9c179e"
             ],
             [
              0.4444444444444444,
              "#bd3786"
             ],
             [
              0.5555555555555556,
              "#d8576b"
             ],
             [
              0.6666666666666666,
              "#ed7953"
             ],
             [
              0.7777777777777778,
              "#fb9f3a"
             ],
             [
              0.8888888888888888,
              "#fdca26"
             ],
             [
              1,
              "#f0f921"
             ]
            ],
            "type": "contour"
           }
          ],
          "contourcarpet": [
           {
            "colorbar": {
             "outlinewidth": 0,
             "ticks": ""
            },
            "type": "contourcarpet"
           }
          ],
          "heatmap": [
           {
            "colorbar": {
             "outlinewidth": 0,
             "ticks": ""
            },
            "colorscale": [
             [
              0,
              "#0d0887"
             ],
             [
              0.1111111111111111,
              "#46039f"
             ],
             [
              0.2222222222222222,
              "#7201a8"
             ],
             [
              0.3333333333333333,
              "#9c179e"
             ],
             [
              0.4444444444444444,
              "#bd3786"
             ],
             [
              0.5555555555555556,
              "#d8576b"
             ],
             [
              0.6666666666666666,
              "#ed7953"
             ],
             [
              0.7777777777777778,
              "#fb9f3a"
             ],
             [
              0.8888888888888888,
              "#fdca26"
             ],
             [
              1,
              "#f0f921"
             ]
            ],
            "type": "heatmap"
           }
          ],
          "heatmapgl": [
           {
            "colorbar": {
             "outlinewidth": 0,
             "ticks": ""
            },
            "colorscale": [
             [
              0,
              "#0d0887"
             ],
             [
              0.1111111111111111,
              "#46039f"
             ],
             [
              0.2222222222222222,
              "#7201a8"
             ],
             [
              0.3333333333333333,
              "#9c179e"
             ],
             [
              0.4444444444444444,
              "#bd3786"
             ],
             [
              0.5555555555555556,
              "#d8576b"
             ],
             [
              0.6666666666666666,
              "#ed7953"
             ],
             [
              0.7777777777777778,
              "#fb9f3a"
             ],
             [
              0.8888888888888888,
              "#fdca26"
             ],
             [
              1,
              "#f0f921"
             ]
            ],
            "type": "heatmapgl"
           }
          ],
          "histogram": [
           {
            "marker": {
             "pattern": {
              "fillmode": "overlay",
              "size": 10,
              "solidity": 0.2
             }
            },
            "type": "histogram"
           }
          ],
          "histogram2d": [
           {
            "colorbar": {
             "outlinewidth": 0,
             "ticks": ""
            },
            "colorscale": [
             [
              0,
              "#0d0887"
             ],
             [
              0.1111111111111111,
              "#46039f"
             ],
             [
              0.2222222222222222,
              "#7201a8"
             ],
             [
              0.3333333333333333,
              "#9c179e"
             ],
             [
              0.4444444444444444,
              "#bd3786"
             ],
             [
              0.5555555555555556,
              "#d8576b"
             ],
             [
              0.6666666666666666,
              "#ed7953"
             ],
             [
              0.7777777777777778,
              "#fb9f3a"
             ],
             [
              0.8888888888888888,
              "#fdca26"
             ],
             [
              1,
              "#f0f921"
             ]
            ],
            "type": "histogram2d"
           }
          ],
          "histogram2dcontour": [
           {
            "colorbar": {
             "outlinewidth": 0,
             "ticks": ""
            },
            "colorscale": [
             [
              0,
              "#0d0887"
             ],
             [
              0.1111111111111111,
              "#46039f"
             ],
             [
              0.2222222222222222,
              "#7201a8"
             ],
             [
              0.3333333333333333,
              "#9c179e"
             ],
             [
              0.4444444444444444,
              "#bd3786"
             ],
             [
              0.5555555555555556,
              "#d8576b"
             ],
             [
              0.6666666666666666,
              "#ed7953"
             ],
             [
              0.7777777777777778,
              "#fb9f3a"
             ],
             [
              0.8888888888888888,
              "#fdca26"
             ],
             [
              1,
              "#f0f921"
             ]
            ],
            "type": "histogram2dcontour"
           }
          ],
          "mesh3d": [
           {
            "colorbar": {
             "outlinewidth": 0,
             "ticks": ""
            },
            "type": "mesh3d"
           }
          ],
          "parcoords": [
           {
            "line": {
             "colorbar": {
              "outlinewidth": 0,
              "ticks": ""
             }
            },
            "type": "parcoords"
           }
          ],
          "pie": [
           {
            "automargin": true,
            "type": "pie"
           }
          ],
          "scatter": [
           {
            "fillpattern": {
             "fillmode": "overlay",
             "size": 10,
             "solidity": 0.2
            },
            "type": "scatter"
           }
          ],
          "scatter3d": [
           {
            "line": {
             "colorbar": {
              "outlinewidth": 0,
              "ticks": ""
             }
            },
            "marker": {
             "colorbar": {
              "outlinewidth": 0,
              "ticks": ""
             }
            },
            "type": "scatter3d"
           }
          ],
          "scattercarpet": [
           {
            "marker": {
             "colorbar": {
              "outlinewidth": 0,
              "ticks": ""
             }
            },
            "type": "scattercarpet"
           }
          ],
          "scattergeo": [
           {
            "marker": {
             "colorbar": {
              "outlinewidth": 0,
              "ticks": ""
             }
            },
            "type": "scattergeo"
           }
          ],
          "scattergl": [
           {
            "marker": {
             "colorbar": {
              "outlinewidth": 0,
              "ticks": ""
             }
            },
            "type": "scattergl"
           }
          ],
          "scattermapbox": [
           {
            "marker": {
             "colorbar": {
              "outlinewidth": 0,
              "ticks": ""
             }
            },
            "type": "scattermapbox"
           }
          ],
          "scatterpolar": [
           {
            "marker": {
             "colorbar": {
              "outlinewidth": 0,
              "ticks": ""
             }
            },
            "type": "scatterpolar"
           }
          ],
          "scatterpolargl": [
           {
            "marker": {
             "colorbar": {
              "outlinewidth": 0,
              "ticks": ""
             }
            },
            "type": "scatterpolargl"
           }
          ],
          "scatterternary": [
           {
            "marker": {
             "colorbar": {
              "outlinewidth": 0,
              "ticks": ""
             }
            },
            "type": "scatterternary"
           }
          ],
          "surface": [
           {
            "colorbar": {
             "outlinewidth": 0,
             "ticks": ""
            },
            "colorscale": [
             [
              0,
              "#0d0887"
             ],
             [
              0.1111111111111111,
              "#46039f"
             ],
             [
              0.2222222222222222,
              "#7201a8"
             ],
             [
              0.3333333333333333,
              "#9c179e"
             ],
             [
              0.4444444444444444,
              "#bd3786"
             ],
             [
              0.5555555555555556,
              "#d8576b"
             ],
             [
              0.6666666666666666,
              "#ed7953"
             ],
             [
              0.7777777777777778,
              "#fb9f3a"
             ],
             [
              0.8888888888888888,
              "#fdca26"
             ],
             [
              1,
              "#f0f921"
             ]
            ],
            "type": "surface"
           }
          ],
          "table": [
           {
            "cells": {
             "fill": {
              "color": "#EBF0F8"
             },
             "line": {
              "color": "white"
             }
            },
            "header": {
             "fill": {
              "color": "#C8D4E3"
             },
             "line": {
              "color": "white"
             }
            },
            "type": "table"
           }
          ]
         },
         "layout": {
          "annotationdefaults": {
           "arrowcolor": "#2a3f5f",
           "arrowhead": 0,
           "arrowwidth": 1
          },
          "autotypenumbers": "strict",
          "coloraxis": {
           "colorbar": {
            "outlinewidth": 0,
            "ticks": ""
           }
          },
          "colorscale": {
           "diverging": [
            [
             0,
             "#8e0152"
            ],
            [
             0.1,
             "#c51b7d"
            ],
            [
             0.2,
             "#de77ae"
            ],
            [
             0.3,
             "#f1b6da"
            ],
            [
             0.4,
             "#fde0ef"
            ],
            [
             0.5,
             "#f7f7f7"
            ],
            [
             0.6,
             "#e6f5d0"
            ],
            [
             0.7,
             "#b8e186"
            ],
            [
             0.8,
             "#7fbc41"
            ],
            [
             0.9,
             "#4d9221"
            ],
            [
             1,
             "#276419"
            ]
           ],
           "sequential": [
            [
             0,
             "#0d0887"
            ],
            [
             0.1111111111111111,
             "#46039f"
            ],
            [
             0.2222222222222222,
             "#7201a8"
            ],
            [
             0.3333333333333333,
             "#9c179e"
            ],
            [
             0.4444444444444444,
             "#bd3786"
            ],
            [
             0.5555555555555556,
             "#d8576b"
            ],
            [
             0.6666666666666666,
             "#ed7953"
            ],
            [
             0.7777777777777778,
             "#fb9f3a"
            ],
            [
             0.8888888888888888,
             "#fdca26"
            ],
            [
             1,
             "#f0f921"
            ]
           ],
           "sequentialminus": [
            [
             0,
             "#0d0887"
            ],
            [
             0.1111111111111111,
             "#46039f"
            ],
            [
             0.2222222222222222,
             "#7201a8"
            ],
            [
             0.3333333333333333,
             "#9c179e"
            ],
            [
             0.4444444444444444,
             "#bd3786"
            ],
            [
             0.5555555555555556,
             "#d8576b"
            ],
            [
             0.6666666666666666,
             "#ed7953"
            ],
            [
             0.7777777777777778,
             "#fb9f3a"
            ],
            [
             0.8888888888888888,
             "#fdca26"
            ],
            [
             1,
             "#f0f921"
            ]
           ]
          },
          "colorway": [
           "#636efa",
           "#EF553B",
           "#00cc96",
           "#ab63fa",
           "#FFA15A",
           "#19d3f3",
           "#FF6692",
           "#B6E880",
           "#FF97FF",
           "#FECB52"
          ],
          "font": {
           "color": "#2a3f5f"
          },
          "geo": {
           "bgcolor": "white",
           "lakecolor": "white",
           "landcolor": "#E5ECF6",
           "showlakes": true,
           "showland": true,
           "subunitcolor": "white"
          },
          "hoverlabel": {
           "align": "left"
          },
          "hovermode": "closest",
          "mapbox": {
           "style": "light"
          },
          "paper_bgcolor": "white",
          "plot_bgcolor": "#E5ECF6",
          "polar": {
           "angularaxis": {
            "gridcolor": "white",
            "linecolor": "white",
            "ticks": ""
           },
           "bgcolor": "#E5ECF6",
           "radialaxis": {
            "gridcolor": "white",
            "linecolor": "white",
            "ticks": ""
           }
          },
          "scene": {
           "xaxis": {
            "backgroundcolor": "#E5ECF6",
            "gridcolor": "white",
            "gridwidth": 2,
            "linecolor": "white",
            "showbackground": true,
            "ticks": "",
            "zerolinecolor": "white"
           },
           "yaxis": {
            "backgroundcolor": "#E5ECF6",
            "gridcolor": "white",
            "gridwidth": 2,
            "linecolor": "white",
            "showbackground": true,
            "ticks": "",
            "zerolinecolor": "white"
           },
           "zaxis": {
            "backgroundcolor": "#E5ECF6",
            "gridcolor": "white",
            "gridwidth": 2,
            "linecolor": "white",
            "showbackground": true,
            "ticks": "",
            "zerolinecolor": "white"
           }
          },
          "shapedefaults": {
           "line": {
            "color": "#2a3f5f"
           }
          },
          "ternary": {
           "aaxis": {
            "gridcolor": "white",
            "linecolor": "white",
            "ticks": ""
           },
           "baxis": {
            "gridcolor": "white",
            "linecolor": "white",
            "ticks": ""
           },
           "bgcolor": "#E5ECF6",
           "caxis": {
            "gridcolor": "white",
            "linecolor": "white",
            "ticks": ""
           }
          },
          "title": {
           "x": 0.05
          },
          "xaxis": {
           "automargin": true,
           "gridcolor": "white",
           "linecolor": "white",
           "ticks": "",
           "title": {
            "standoff": 15
           },
           "zerolinecolor": "white",
           "zerolinewidth": 2
          },
          "yaxis": {
           "automargin": true,
           "gridcolor": "white",
           "linecolor": "white",
           "ticks": "",
           "title": {
            "standoff": 15
           },
           "zerolinecolor": "white",
           "zerolinewidth": 2
          }
         }
        },
        "title": {
         "text": "Nationality Breakdown"
        },
        "xaxis": {
         "anchor": "y",
         "domain": [
          0,
          1
         ],
         "title": {
          "text": "NATIONALITY"
         }
        },
        "yaxis": {
         "anchor": "x",
         "domain": [
          0,
          1
         ],
         "title": {
          "text": "count"
         }
        }
       }
      }
     },
     "metadata": {},
     "output_type": "display_data"
    },
    {
     "data": {
      "application/vnd.plotly.v1+json": {
       "config": {
        "plotlyServerURL": "https://plot.ly"
       },
       "data": [
        {
         "alignmentgroup": "True",
         "bingroup": "x",
         "hovertemplate": "GPA=%{x}<br>count=%{y}<extra></extra>",
         "legendgroup": "",
         "marker": {
          "color": "#636efa",
          "pattern": {
           "shape": ""
          }
         },
         "name": "",
         "offsetgroup": "",
         "orientation": "v",
         "showlegend": false,
         "type": "histogram",
         "x": [
          1.9,
          2.6,
          1.8,
          2.8,
          2.7,
          2.8,
          2.2,
          1.7,
          2.4,
          1.5,
          1.8,
          3.1,
          3.1,
          3,
          2.8,
          1.7,
          3,
          3.1,
          2.5,
          1.7,
          1.8,
          2.7,
          2.3,
          2.8,
          2.9,
          1.8,
          1.5,
          2.5,
          3.1,
          3.1,
          3.1,
          2.2,
          1.6,
          2.1,
          1.9,
          3.1,
          2.3,
          2.8,
          2.3,
          2.8,
          1.9,
          1.9,
          2.5,
          3.1,
          2.8,
          3,
          2.2,
          2.5,
          2,
          2.2,
          2.2,
          2.4,
          3.1,
          2,
          2.5,
          3.1,
          2.3,
          2.6,
          2.8,
          2.2,
          2.5,
          3.4,
          1.8,
          3.1,
          3.1,
          3.1,
          2.4,
          1.8,
          2.9,
          2.2,
          3.1,
          2.2,
          2.9,
          1.7,
          2.4,
          2.3,
          2.9,
          3.2,
          2.1,
          2.9,
          3,
          2,
          3,
          3,
          2,
          1.7,
          1.6,
          1.8,
          2.9,
          3,
          2.8,
          3.3,
          3.2,
          2.9,
          2.2,
          2.5,
          2.9,
          1.7,
          3.4,
          3.3,
          2.2,
          3.1,
          3.2,
          2.9,
          1.9,
          2.8,
          2.3,
          2.8,
          3,
          1.5,
          2.2,
          2.8,
          2.3,
          2,
          1.8,
          2.4,
          3,
          1.7,
          3,
          1.5,
          3,
          1.6,
          1.8,
          2.8,
          1.9,
          1.5,
          2.5,
          2.9,
          1.9,
          3.4,
          3.4,
          2.8,
          2.1,
          3.3,
          3.2,
          2.8,
          1.9,
          3.3,
          2.4,
          2.5,
          3,
          2.9,
          3.4,
          3.1,
          2.7,
          2.9,
          3,
          2.6,
          2.9,
          3.4,
          2.4,
          2.5,
          2.5,
          2.2,
          3.9,
          3.2,
          2.6,
          2.8,
          3.3,
          3.1,
          2.4,
          2.8,
          3.3,
          3.2,
          3.7,
          3.2,
          3.1,
          2.6,
          2.5,
          3.6,
          2.8,
          3.9,
          3,
          2.8,
          3.3,
          2.3,
          3.4,
          2.8,
          2.2,
          2.6,
          2.3,
          2.8,
          3.7,
          3,
          3.9,
          3,
          2.9,
          3.7,
          3,
          3,
          3.9,
          3.4,
          3.7,
          3.1,
          3.5,
          3.5,
          3,
          3.4,
          2.2,
          2.9,
          3,
          2.2,
          3.1,
          2.6,
          2.8,
          3.3,
          3.7,
          3.4,
          2.8,
          3.5,
          2.2,
          3.3,
          3.2,
          3.2,
          3,
          3.4,
          3,
          2.9,
          3.9,
          2.9,
          3.2,
          2.8,
          2.4,
          3.7,
          3.2,
          3.7,
          3.8,
          2.6,
          2.6,
          3.8,
          2.8,
          3.6,
          3.3,
          3,
          3.1,
          3.1,
          4,
          3.8,
          3.8,
          3.3,
          3.6,
          3.7,
          3.1,
          4
         ],
         "xaxis": "x",
         "yaxis": "y"
        }
       ],
       "layout": {
        "barmode": "relative",
        "legend": {
         "tracegroupgap": 0
        },
        "template": {
         "data": {
          "bar": [
           {
            "error_x": {
             "color": "#2a3f5f"
            },
            "error_y": {
             "color": "#2a3f5f"
            },
            "marker": {
             "line": {
              "color": "#E5ECF6",
              "width": 0.5
             },
             "pattern": {
              "fillmode": "overlay",
              "size": 10,
              "solidity": 0.2
             }
            },
            "type": "bar"
           }
          ],
          "barpolar": [
           {
            "marker": {
             "line": {
              "color": "#E5ECF6",
              "width": 0.5
             },
             "pattern": {
              "fillmode": "overlay",
              "size": 10,
              "solidity": 0.2
             }
            },
            "type": "barpolar"
           }
          ],
          "carpet": [
           {
            "aaxis": {
             "endlinecolor": "#2a3f5f",
             "gridcolor": "white",
             "linecolor": "white",
             "minorgridcolor": "white",
             "startlinecolor": "#2a3f5f"
            },
            "baxis": {
             "endlinecolor": "#2a3f5f",
             "gridcolor": "white",
             "linecolor": "white",
             "minorgridcolor": "white",
             "startlinecolor": "#2a3f5f"
            },
            "type": "carpet"
           }
          ],
          "choropleth": [
           {
            "colorbar": {
             "outlinewidth": 0,
             "ticks": ""
            },
            "type": "choropleth"
           }
          ],
          "contour": [
           {
            "colorbar": {
             "outlinewidth": 0,
             "ticks": ""
            },
            "colorscale": [
             [
              0,
              "#0d0887"
             ],
             [
              0.1111111111111111,
              "#46039f"
             ],
             [
              0.2222222222222222,
              "#7201a8"
             ],
             [
              0.3333333333333333,
              "#9c179e"
             ],
             [
              0.4444444444444444,
              "#bd3786"
             ],
             [
              0.5555555555555556,
              "#d8576b"
             ],
             [
              0.6666666666666666,
              "#ed7953"
             ],
             [
              0.7777777777777778,
              "#fb9f3a"
             ],
             [
              0.8888888888888888,
              "#fdca26"
             ],
             [
              1,
              "#f0f921"
             ]
            ],
            "type": "contour"
           }
          ],
          "contourcarpet": [
           {
            "colorbar": {
             "outlinewidth": 0,
             "ticks": ""
            },
            "type": "contourcarpet"
           }
          ],
          "heatmap": [
           {
            "colorbar": {
             "outlinewidth": 0,
             "ticks": ""
            },
            "colorscale": [
             [
              0,
              "#0d0887"
             ],
             [
              0.1111111111111111,
              "#46039f"
             ],
             [
              0.2222222222222222,
              "#7201a8"
             ],
             [
              0.3333333333333333,
              "#9c179e"
             ],
             [
              0.4444444444444444,
              "#bd3786"
             ],
             [
              0.5555555555555556,
              "#d8576b"
             ],
             [
              0.6666666666666666,
              "#ed7953"
             ],
             [
              0.7777777777777778,
              "#fb9f3a"
             ],
             [
              0.8888888888888888,
              "#fdca26"
             ],
             [
              1,
              "#f0f921"
             ]
            ],
            "type": "heatmap"
           }
          ],
          "heatmapgl": [
           {
            "colorbar": {
             "outlinewidth": 0,
             "ticks": ""
            },
            "colorscale": [
             [
              0,
              "#0d0887"
             ],
             [
              0.1111111111111111,
              "#46039f"
             ],
             [
              0.2222222222222222,
              "#7201a8"
             ],
             [
              0.3333333333333333,
              "#9c179e"
             ],
             [
              0.4444444444444444,
              "#bd3786"
             ],
             [
              0.5555555555555556,
              "#d8576b"
             ],
             [
              0.6666666666666666,
              "#ed7953"
             ],
             [
              0.7777777777777778,
              "#fb9f3a"
             ],
             [
              0.8888888888888888,
              "#fdca26"
             ],
             [
              1,
              "#f0f921"
             ]
            ],
            "type": "heatmapgl"
           }
          ],
          "histogram": [
           {
            "marker": {
             "pattern": {
              "fillmode": "overlay",
              "size": 10,
              "solidity": 0.2
             }
            },
            "type": "histogram"
           }
          ],
          "histogram2d": [
           {
            "colorbar": {
             "outlinewidth": 0,
             "ticks": ""
            },
            "colorscale": [
             [
              0,
              "#0d0887"
             ],
             [
              0.1111111111111111,
              "#46039f"
             ],
             [
              0.2222222222222222,
              "#7201a8"
             ],
             [
              0.3333333333333333,
              "#9c179e"
             ],
             [
              0.4444444444444444,
              "#bd3786"
             ],
             [
              0.5555555555555556,
              "#d8576b"
             ],
             [
              0.6666666666666666,
              "#ed7953"
             ],
             [
              0.7777777777777778,
              "#fb9f3a"
             ],
             [
              0.8888888888888888,
              "#fdca26"
             ],
             [
              1,
              "#f0f921"
             ]
            ],
            "type": "histogram2d"
           }
          ],
          "histogram2dcontour": [
           {
            "colorbar": {
             "outlinewidth": 0,
             "ticks": ""
            },
            "colorscale": [
             [
              0,
              "#0d0887"
             ],
             [
              0.1111111111111111,
              "#46039f"
             ],
             [
              0.2222222222222222,
              "#7201a8"
             ],
             [
              0.3333333333333333,
              "#9c179e"
             ],
             [
              0.4444444444444444,
              "#bd3786"
             ],
             [
              0.5555555555555556,
              "#d8576b"
             ],
             [
              0.6666666666666666,
              "#ed7953"
             ],
             [
              0.7777777777777778,
              "#fb9f3a"
             ],
             [
              0.8888888888888888,
              "#fdca26"
             ],
             [
              1,
              "#f0f921"
             ]
            ],
            "type": "histogram2dcontour"
           }
          ],
          "mesh3d": [
           {
            "colorbar": {
             "outlinewidth": 0,
             "ticks": ""
            },
            "type": "mesh3d"
           }
          ],
          "parcoords": [
           {
            "line": {
             "colorbar": {
              "outlinewidth": 0,
              "ticks": ""
             }
            },
            "type": "parcoords"
           }
          ],
          "pie": [
           {
            "automargin": true,
            "type": "pie"
           }
          ],
          "scatter": [
           {
            "fillpattern": {
             "fillmode": "overlay",
             "size": 10,
             "solidity": 0.2
            },
            "type": "scatter"
           }
          ],
          "scatter3d": [
           {
            "line": {
             "colorbar": {
              "outlinewidth": 0,
              "ticks": ""
             }
            },
            "marker": {
             "colorbar": {
              "outlinewidth": 0,
              "ticks": ""
             }
            },
            "type": "scatter3d"
           }
          ],
          "scattercarpet": [
           {
            "marker": {
             "colorbar": {
              "outlinewidth": 0,
              "ticks": ""
             }
            },
            "type": "scattercarpet"
           }
          ],
          "scattergeo": [
           {
            "marker": {
             "colorbar": {
              "outlinewidth": 0,
              "ticks": ""
             }
            },
            "type": "scattergeo"
           }
          ],
          "scattergl": [
           {
            "marker": {
             "colorbar": {
              "outlinewidth": 0,
              "ticks": ""
             }
            },
            "type": "scattergl"
           }
          ],
          "scattermapbox": [
           {
            "marker": {
             "colorbar": {
              "outlinewidth": 0,
              "ticks": ""
             }
            },
            "type": "scattermapbox"
           }
          ],
          "scatterpolar": [
           {
            "marker": {
             "colorbar": {
              "outlinewidth": 0,
              "ticks": ""
             }
            },
            "type": "scatterpolar"
           }
          ],
          "scatterpolargl": [
           {
            "marker": {
             "colorbar": {
              "outlinewidth": 0,
              "ticks": ""
             }
            },
            "type": "scatterpolargl"
           }
          ],
          "scatterternary": [
           {
            "marker": {
             "colorbar": {
              "outlinewidth": 0,
              "ticks": ""
             }
            },
            "type": "scatterternary"
           }
          ],
          "surface": [
           {
            "colorbar": {
             "outlinewidth": 0,
             "ticks": ""
            },
            "colorscale": [
             [
              0,
              "#0d0887"
             ],
             [
              0.1111111111111111,
              "#46039f"
             ],
             [
              0.2222222222222222,
              "#7201a8"
             ],
             [
              0.3333333333333333,
              "#9c179e"
             ],
             [
              0.4444444444444444,
              "#bd3786"
             ],
             [
              0.5555555555555556,
              "#d8576b"
             ],
             [
              0.6666666666666666,
              "#ed7953"
             ],
             [
              0.7777777777777778,
              "#fb9f3a"
             ],
             [
              0.8888888888888888,
              "#fdca26"
             ],
             [
              1,
              "#f0f921"
             ]
            ],
            "type": "surface"
           }
          ],
          "table": [
           {
            "cells": {
             "fill": {
              "color": "#EBF0F8"
             },
             "line": {
              "color": "white"
             }
            },
            "header": {
             "fill": {
              "color": "#C8D4E3"
             },
             "line": {
              "color": "white"
             }
            },
            "type": "table"
           }
          ]
         },
         "layout": {
          "annotationdefaults": {
           "arrowcolor": "#2a3f5f",
           "arrowhead": 0,
           "arrowwidth": 1
          },
          "autotypenumbers": "strict",
          "coloraxis": {
           "colorbar": {
            "outlinewidth": 0,
            "ticks": ""
           }
          },
          "colorscale": {
           "diverging": [
            [
             0,
             "#8e0152"
            ],
            [
             0.1,
             "#c51b7d"
            ],
            [
             0.2,
             "#de77ae"
            ],
            [
             0.3,
             "#f1b6da"
            ],
            [
             0.4,
             "#fde0ef"
            ],
            [
             0.5,
             "#f7f7f7"
            ],
            [
             0.6,
             "#e6f5d0"
            ],
            [
             0.7,
             "#b8e186"
            ],
            [
             0.8,
             "#7fbc41"
            ],
            [
             0.9,
             "#4d9221"
            ],
            [
             1,
             "#276419"
            ]
           ],
           "sequential": [
            [
             0,
             "#0d0887"
            ],
            [
             0.1111111111111111,
             "#46039f"
            ],
            [
             0.2222222222222222,
             "#7201a8"
            ],
            [
             0.3333333333333333,
             "#9c179e"
            ],
            [
             0.4444444444444444,
             "#bd3786"
            ],
            [
             0.5555555555555556,
             "#d8576b"
            ],
            [
             0.6666666666666666,
             "#ed7953"
            ],
            [
             0.7777777777777778,
             "#fb9f3a"
            ],
            [
             0.8888888888888888,
             "#fdca26"
            ],
            [
             1,
             "#f0f921"
            ]
           ],
           "sequentialminus": [
            [
             0,
             "#0d0887"
            ],
            [
             0.1111111111111111,
             "#46039f"
            ],
            [
             0.2222222222222222,
             "#7201a8"
            ],
            [
             0.3333333333333333,
             "#9c179e"
            ],
            [
             0.4444444444444444,
             "#bd3786"
            ],
            [
             0.5555555555555556,
             "#d8576b"
            ],
            [
             0.6666666666666666,
             "#ed7953"
            ],
            [
             0.7777777777777778,
             "#fb9f3a"
            ],
            [
             0.8888888888888888,
             "#fdca26"
            ],
            [
             1,
             "#f0f921"
            ]
           ]
          },
          "colorway": [
           "#636efa",
           "#EF553B",
           "#00cc96",
           "#ab63fa",
           "#FFA15A",
           "#19d3f3",
           "#FF6692",
           "#B6E880",
           "#FF97FF",
           "#FECB52"
          ],
          "font": {
           "color": "#2a3f5f"
          },
          "geo": {
           "bgcolor": "white",
           "lakecolor": "white",
           "landcolor": "#E5ECF6",
           "showlakes": true,
           "showland": true,
           "subunitcolor": "white"
          },
          "hoverlabel": {
           "align": "left"
          },
          "hovermode": "closest",
          "mapbox": {
           "style": "light"
          },
          "paper_bgcolor": "white",
          "plot_bgcolor": "#E5ECF6",
          "polar": {
           "angularaxis": {
            "gridcolor": "white",
            "linecolor": "white",
            "ticks": ""
           },
           "bgcolor": "#E5ECF6",
           "radialaxis": {
            "gridcolor": "white",
            "linecolor": "white",
            "ticks": ""
           }
          },
          "scene": {
           "xaxis": {
            "backgroundcolor": "#E5ECF6",
            "gridcolor": "white",
            "gridwidth": 2,
            "linecolor": "white",
            "showbackground": true,
            "ticks": "",
            "zerolinecolor": "white"
           },
           "yaxis": {
            "backgroundcolor": "#E5ECF6",
            "gridcolor": "white",
            "gridwidth": 2,
            "linecolor": "white",
            "showbackground": true,
            "ticks": "",
            "zerolinecolor": "white"
           },
           "zaxis": {
            "backgroundcolor": "#E5ECF6",
            "gridcolor": "white",
            "gridwidth": 2,
            "linecolor": "white",
            "showbackground": true,
            "ticks": "",
            "zerolinecolor": "white"
           }
          },
          "shapedefaults": {
           "line": {
            "color": "#2a3f5f"
           }
          },
          "ternary": {
           "aaxis": {
            "gridcolor": "white",
            "linecolor": "white",
            "ticks": ""
           },
           "baxis": {
            "gridcolor": "white",
            "linecolor": "white",
            "ticks": ""
           },
           "bgcolor": "#E5ECF6",
           "caxis": {
            "gridcolor": "white",
            "linecolor": "white",
            "ticks": ""
           }
          },
          "title": {
           "x": 0.05
          },
          "xaxis": {
           "automargin": true,
           "gridcolor": "white",
           "linecolor": "white",
           "ticks": "",
           "title": {
            "standoff": 15
           },
           "zerolinecolor": "white",
           "zerolinewidth": 2
          },
          "yaxis": {
           "automargin": true,
           "gridcolor": "white",
           "linecolor": "white",
           "ticks": "",
           "title": {
            "standoff": 15
           },
           "zerolinecolor": "white",
           "zerolinewidth": 2
          }
         }
        },
        "title": {
         "text": "GPA Distribution"
        },
        "xaxis": {
         "anchor": "y",
         "domain": [
          0,
          1
         ],
         "title": {
          "text": "GPA"
         }
        },
        "yaxis": {
         "anchor": "x",
         "domain": [
          0,
          1
         ],
         "title": {
          "text": "count"
         }
        }
       }
      }
     },
     "metadata": {},
     "output_type": "display_data"
    },
    {
     "data": {
      "application/vnd.plotly.v1+json": {
       "config": {
        "plotlyServerURL": "https://plot.ly"
       },
       "data": [
        {
         "hovertemplate": "COURSE FEE=%{x}<br>GPA=%{y}<extra></extra>",
         "legendgroup": "",
         "marker": {
          "color": "#636efa",
          "symbol": "circle"
         },
         "mode": "markers",
         "name": "",
         "orientation": "v",
         "showlegend": false,
         "type": "scatter",
         "x": [
          5803,
          1495,
          1212,
          2996,
          1712,
          5803,
          1604,
          1604,
          2996,
          1308,
          1712,
          5803,
          1712,
          1388,
          1388,
          1495,
          2996,
          1388,
          1388,
          1712,
          5803,
          5803,
          5803,
          1495,
          5803,
          1712,
          1388,
          5803,
          1712,
          1388,
          1388,
          1388,
          1388,
          1712,
          1712,
          1712,
          1712,
          1712,
          1388,
          1388,
          1388,
          2496,
          1388,
          2996,
          5803,
          1495,
          1495,
          1495,
          5803,
          5803,
          1388,
          5803,
          1388,
          1388,
          888,
          1712,
          1415,
          1308,
          5803,
          1388,
          1388,
          1415,
          5803,
          1712,
          2996,
          1712,
          1712,
          1604,
          5803,
          1415,
          1712,
          1388,
          1712,
          5803,
          2696,
          5803,
          5803,
          5803,
          5803,
          1388,
          1712,
          1712,
          1212,
          5803,
          5803,
          1388,
          5803,
          1604,
          2996,
          1604,
          1388,
          2696,
          1388,
          1388,
          1712,
          1996,
          888,
          1308,
          1388,
          1388,
          1495,
          1388,
          2996,
          5803,
          1415,
          1495,
          5803,
          5803,
          5803,
          888,
          1388,
          5803,
          1388,
          1415,
          1388,
          2696,
          1496,
          5803,
          1712,
          1996,
          1495,
          1495,
          1388,
          1388,
          5803,
          5803,
          1212,
          1388,
          1388,
          1495,
          5803,
          1388,
          5803,
          1388,
          1604,
          5803,
          1388,
          2996,
          1388,
          1388,
          2996,
          5803,
          5803,
          1388,
          2996,
          1388,
          1495,
          1712,
          5803,
          2996,
          1495,
          1388,
          1712,
          1712,
          1388,
          5803,
          5803,
          1495,
          1388,
          1415,
          1388,
          1388,
          1712,
          1712,
          1604,
          1388,
          888,
          5803,
          1712,
          1712,
          5803,
          2696,
          1712,
          1308,
          1496,
          1388,
          1604,
          2996,
          5803,
          5803,
          5803,
          5803,
          1388,
          2996,
          1308,
          5803,
          1604,
          2996,
          2996,
          1388,
          1495,
          5803,
          1495,
          1388,
          2996,
          1712,
          1712,
          2996,
          5803,
          1495,
          1712,
          5803,
          888,
          1388,
          2696,
          2496,
          1212,
          1996,
          5803,
          1415,
          1712,
          1604,
          5803,
          1495,
          2996,
          1495,
          1604,
          5803,
          2996,
          1712,
          1415,
          1388,
          2996,
          5803,
          5803,
          5803,
          1388,
          1388,
          1388,
          1415,
          1388,
          1388,
          1996,
          2696,
          5803,
          1308,
          1712,
          5803,
          1388,
          888,
          5803,
          1388,
          1388,
          5803
         ],
         "xaxis": "x",
         "y": [
          1.9,
          2.6,
          1.8,
          2.8,
          2.7,
          2.8,
          2.2,
          1.7,
          2.4,
          1.5,
          1.8,
          3.1,
          3.1,
          3,
          2.8,
          1.7,
          3,
          3.1,
          2.5,
          1.7,
          1.8,
          2.7,
          2.3,
          2.8,
          2.9,
          1.8,
          1.5,
          2.5,
          3.1,
          3.1,
          3.1,
          2.2,
          1.6,
          2.1,
          1.9,
          3.1,
          2.3,
          2.8,
          2.3,
          2.8,
          1.9,
          1.9,
          2.5,
          3.1,
          2.8,
          3,
          2.2,
          2.5,
          2,
          2.2,
          2.2,
          2.4,
          3.1,
          2,
          2.5,
          3.1,
          2.3,
          2.6,
          2.8,
          2.2,
          2.5,
          3.4,
          1.8,
          3.1,
          3.1,
          3.1,
          2.4,
          1.8,
          2.9,
          2.2,
          3.1,
          2.2,
          2.9,
          1.7,
          2.4,
          2.3,
          2.9,
          3.2,
          2.1,
          2.9,
          3,
          2,
          3,
          3,
          2,
          1.7,
          1.6,
          1.8,
          2.9,
          3,
          2.8,
          3.3,
          3.2,
          2.9,
          2.2,
          2.5,
          2.9,
          1.7,
          3.4,
          3.3,
          2.2,
          3.1,
          3.2,
          2.9,
          1.9,
          2.8,
          2.3,
          2.8,
          3,
          1.5,
          2.2,
          2.8,
          2.3,
          2,
          1.8,
          2.4,
          3,
          1.7,
          3,
          1.5,
          3,
          1.6,
          1.8,
          2.8,
          1.9,
          1.5,
          2.5,
          2.9,
          1.9,
          3.4,
          3.4,
          2.8,
          2.1,
          3.3,
          3.2,
          2.8,
          1.9,
          3.3,
          2.4,
          2.5,
          3,
          2.9,
          3.4,
          3.1,
          2.7,
          2.9,
          3,
          2.6,
          2.9,
          3.4,
          2.4,
          2.5,
          2.5,
          2.2,
          3.9,
          3.2,
          2.6,
          2.8,
          3.3,
          3.1,
          2.4,
          2.8,
          3.3,
          3.2,
          3.7,
          3.2,
          3.1,
          2.6,
          2.5,
          3.6,
          2.8,
          3.9,
          3,
          2.8,
          3.3,
          2.3,
          3.4,
          2.8,
          2.2,
          2.6,
          2.3,
          2.8,
          3.7,
          3,
          3.9,
          3,
          2.9,
          3.7,
          3,
          3,
          3.9,
          3.4,
          3.7,
          3.1,
          3.5,
          3.5,
          3,
          3.4,
          2.2,
          2.9,
          3,
          2.2,
          3.1,
          2.6,
          2.8,
          3.3,
          3.7,
          3.4,
          2.8,
          3.5,
          2.2,
          3.3,
          3.2,
          3.2,
          3,
          3.4,
          3,
          2.9,
          3.9,
          2.9,
          3.2,
          2.8,
          2.4,
          3.7,
          3.2,
          3.7,
          3.8,
          2.6,
          2.6,
          3.8,
          2.8,
          3.6,
          3.3,
          3,
          3.1,
          3.1,
          4,
          3.8,
          3.8,
          3.3,
          3.6,
          3.7,
          3.1,
          4
         ],
         "yaxis": "y"
        }
       ],
       "layout": {
        "legend": {
         "tracegroupgap": 0
        },
        "template": {
         "data": {
          "bar": [
           {
            "error_x": {
             "color": "#2a3f5f"
            },
            "error_y": {
             "color": "#2a3f5f"
            },
            "marker": {
             "line": {
              "color": "#E5ECF6",
              "width": 0.5
             },
             "pattern": {
              "fillmode": "overlay",
              "size": 10,
              "solidity": 0.2
             }
            },
            "type": "bar"
           }
          ],
          "barpolar": [
           {
            "marker": {
             "line": {
              "color": "#E5ECF6",
              "width": 0.5
             },
             "pattern": {
              "fillmode": "overlay",
              "size": 10,
              "solidity": 0.2
             }
            },
            "type": "barpolar"
           }
          ],
          "carpet": [
           {
            "aaxis": {
             "endlinecolor": "#2a3f5f",
             "gridcolor": "white",
             "linecolor": "white",
             "minorgridcolor": "white",
             "startlinecolor": "#2a3f5f"
            },
            "baxis": {
             "endlinecolor": "#2a3f5f",
             "gridcolor": "white",
             "linecolor": "white",
             "minorgridcolor": "white",
             "startlinecolor": "#2a3f5f"
            },
            "type": "carpet"
           }
          ],
          "choropleth": [
           {
            "colorbar": {
             "outlinewidth": 0,
             "ticks": ""
            },
            "type": "choropleth"
           }
          ],
          "contour": [
           {
            "colorbar": {
             "outlinewidth": 0,
             "ticks": ""
            },
            "colorscale": [
             [
              0,
              "#0d0887"
             ],
             [
              0.1111111111111111,
              "#46039f"
             ],
             [
              0.2222222222222222,
              "#7201a8"
             ],
             [
              0.3333333333333333,
              "#9c179e"
             ],
             [
              0.4444444444444444,
              "#bd3786"
             ],
             [
              0.5555555555555556,
              "#d8576b"
             ],
             [
              0.6666666666666666,
              "#ed7953"
             ],
             [
              0.7777777777777778,
              "#fb9f3a"
             ],
             [
              0.8888888888888888,
              "#fdca26"
             ],
             [
              1,
              "#f0f921"
             ]
            ],
            "type": "contour"
           }
          ],
          "contourcarpet": [
           {
            "colorbar": {
             "outlinewidth": 0,
             "ticks": ""
            },
            "type": "contourcarpet"
           }
          ],
          "heatmap": [
           {
            "colorbar": {
             "outlinewidth": 0,
             "ticks": ""
            },
            "colorscale": [
             [
              0,
              "#0d0887"
             ],
             [
              0.1111111111111111,
              "#46039f"
             ],
             [
              0.2222222222222222,
              "#7201a8"
             ],
             [
              0.3333333333333333,
              "#9c179e"
             ],
             [
              0.4444444444444444,
              "#bd3786"
             ],
             [
              0.5555555555555556,
              "#d8576b"
             ],
             [
              0.6666666666666666,
              "#ed7953"
             ],
             [
              0.7777777777777778,
              "#fb9f3a"
             ],
             [
              0.8888888888888888,
              "#fdca26"
             ],
             [
              1,
              "#f0f921"
             ]
            ],
            "type": "heatmap"
           }
          ],
          "heatmapgl": [
           {
            "colorbar": {
             "outlinewidth": 0,
             "ticks": ""
            },
            "colorscale": [
             [
              0,
              "#0d0887"
             ],
             [
              0.1111111111111111,
              "#46039f"
             ],
             [
              0.2222222222222222,
              "#7201a8"
             ],
             [
              0.3333333333333333,
              "#9c179e"
             ],
             [
              0.4444444444444444,
              "#bd3786"
             ],
             [
              0.5555555555555556,
              "#d8576b"
             ],
             [
              0.6666666666666666,
              "#ed7953"
             ],
             [
              0.7777777777777778,
              "#fb9f3a"
             ],
             [
              0.8888888888888888,
              "#fdca26"
             ],
             [
              1,
              "#f0f921"
             ]
            ],
            "type": "heatmapgl"
           }
          ],
          "histogram": [
           {
            "marker": {
             "pattern": {
              "fillmode": "overlay",
              "size": 10,
              "solidity": 0.2
             }
            },
            "type": "histogram"
           }
          ],
          "histogram2d": [
           {
            "colorbar": {
             "outlinewidth": 0,
             "ticks": ""
            },
            "colorscale": [
             [
              0,
              "#0d0887"
             ],
             [
              0.1111111111111111,
              "#46039f"
             ],
             [
              0.2222222222222222,
              "#7201a8"
             ],
             [
              0.3333333333333333,
              "#9c179e"
             ],
             [
              0.4444444444444444,
              "#bd3786"
             ],
             [
              0.5555555555555556,
              "#d8576b"
             ],
             [
              0.6666666666666666,
              "#ed7953"
             ],
             [
              0.7777777777777778,
              "#fb9f3a"
             ],
             [
              0.8888888888888888,
              "#fdca26"
             ],
             [
              1,
              "#f0f921"
             ]
            ],
            "type": "histogram2d"
           }
          ],
          "histogram2dcontour": [
           {
            "colorbar": {
             "outlinewidth": 0,
             "ticks": ""
            },
            "colorscale": [
             [
              0,
              "#0d0887"
             ],
             [
              0.1111111111111111,
              "#46039f"
             ],
             [
              0.2222222222222222,
              "#7201a8"
             ],
             [
              0.3333333333333333,
              "#9c179e"
             ],
             [
              0.4444444444444444,
              "#bd3786"
             ],
             [
              0.5555555555555556,
              "#d8576b"
             ],
             [
              0.6666666666666666,
              "#ed7953"
             ],
             [
              0.7777777777777778,
              "#fb9f3a"
             ],
             [
              0.8888888888888888,
              "#fdca26"
             ],
             [
              1,
              "#f0f921"
             ]
            ],
            "type": "histogram2dcontour"
           }
          ],
          "mesh3d": [
           {
            "colorbar": {
             "outlinewidth": 0,
             "ticks": ""
            },
            "type": "mesh3d"
           }
          ],
          "parcoords": [
           {
            "line": {
             "colorbar": {
              "outlinewidth": 0,
              "ticks": ""
             }
            },
            "type": "parcoords"
           }
          ],
          "pie": [
           {
            "automargin": true,
            "type": "pie"
           }
          ],
          "scatter": [
           {
            "fillpattern": {
             "fillmode": "overlay",
             "size": 10,
             "solidity": 0.2
            },
            "type": "scatter"
           }
          ],
          "scatter3d": [
           {
            "line": {
             "colorbar": {
              "outlinewidth": 0,
              "ticks": ""
             }
            },
            "marker": {
             "colorbar": {
              "outlinewidth": 0,
              "ticks": ""
             }
            },
            "type": "scatter3d"
           }
          ],
          "scattercarpet": [
           {
            "marker": {
             "colorbar": {
              "outlinewidth": 0,
              "ticks": ""
             }
            },
            "type": "scattercarpet"
           }
          ],
          "scattergeo": [
           {
            "marker": {
             "colorbar": {
              "outlinewidth": 0,
              "ticks": ""
             }
            },
            "type": "scattergeo"
           }
          ],
          "scattergl": [
           {
            "marker": {
             "colorbar": {
              "outlinewidth": 0,
              "ticks": ""
             }
            },
            "type": "scattergl"
           }
          ],
          "scattermapbox": [
           {
            "marker": {
             "colorbar": {
              "outlinewidth": 0,
              "ticks": ""
             }
            },
            "type": "scattermapbox"
           }
          ],
          "scatterpolar": [
           {
            "marker": {
             "colorbar": {
              "outlinewidth": 0,
              "ticks": ""
             }
            },
            "type": "scatterpolar"
           }
          ],
          "scatterpolargl": [
           {
            "marker": {
             "colorbar": {
              "outlinewidth": 0,
              "ticks": ""
             }
            },
            "type": "scatterpolargl"
           }
          ],
          "scatterternary": [
           {
            "marker": {
             "colorbar": {
              "outlinewidth": 0,
              "ticks": ""
             }
            },
            "type": "scatterternary"
           }
          ],
          "surface": [
           {
            "colorbar": {
             "outlinewidth": 0,
             "ticks": ""
            },
            "colorscale": [
             [
              0,
              "#0d0887"
             ],
             [
              0.1111111111111111,
              "#46039f"
             ],
             [
              0.2222222222222222,
              "#7201a8"
             ],
             [
              0.3333333333333333,
              "#9c179e"
             ],
             [
              0.4444444444444444,
              "#bd3786"
             ],
             [
              0.5555555555555556,
              "#d8576b"
             ],
             [
              0.6666666666666666,
              "#ed7953"
             ],
             [
              0.7777777777777778,
              "#fb9f3a"
             ],
             [
              0.8888888888888888,
              "#fdca26"
             ],
             [
              1,
              "#f0f921"
             ]
            ],
            "type": "surface"
           }
          ],
          "table": [
           {
            "cells": {
             "fill": {
              "color": "#EBF0F8"
             },
             "line": {
              "color": "white"
             }
            },
            "header": {
             "fill": {
              "color": "#C8D4E3"
             },
             "line": {
              "color": "white"
             }
            },
            "type": "table"
           }
          ]
         },
         "layout": {
          "annotationdefaults": {
           "arrowcolor": "#2a3f5f",
           "arrowhead": 0,
           "arrowwidth": 1
          },
          "autotypenumbers": "strict",
          "coloraxis": {
           "colorbar": {
            "outlinewidth": 0,
            "ticks": ""
           }
          },
          "colorscale": {
           "diverging": [
            [
             0,
             "#8e0152"
            ],
            [
             0.1,
             "#c51b7d"
            ],
            [
             0.2,
             "#de77ae"
            ],
            [
             0.3,
             "#f1b6da"
            ],
            [
             0.4,
             "#fde0ef"
            ],
            [
             0.5,
             "#f7f7f7"
            ],
            [
             0.6,
             "#e6f5d0"
            ],
            [
             0.7,
             "#b8e186"
            ],
            [
             0.8,
             "#7fbc41"
            ],
            [
             0.9,
             "#4d9221"
            ],
            [
             1,
             "#276419"
            ]
           ],
           "sequential": [
            [
             0,
             "#0d0887"
            ],
            [
             0.1111111111111111,
             "#46039f"
            ],
            [
             0.2222222222222222,
             "#7201a8"
            ],
            [
             0.3333333333333333,
             "#9c179e"
            ],
            [
             0.4444444444444444,
             "#bd3786"
            ],
            [
             0.5555555555555556,
             "#d8576b"
            ],
            [
             0.6666666666666666,
             "#ed7953"
            ],
            [
             0.7777777777777778,
             "#fb9f3a"
            ],
            [
             0.8888888888888888,
             "#fdca26"
            ],
            [
             1,
             "#f0f921"
            ]
           ],
           "sequentialminus": [
            [
             0,
             "#0d0887"
            ],
            [
             0.1111111111111111,
             "#46039f"
            ],
            [
             0.2222222222222222,
             "#7201a8"
            ],
            [
             0.3333333333333333,
             "#9c179e"
            ],
            [
             0.4444444444444444,
             "#bd3786"
            ],
            [
             0.5555555555555556,
             "#d8576b"
            ],
            [
             0.6666666666666666,
             "#ed7953"
            ],
            [
             0.7777777777777778,
             "#fb9f3a"
            ],
            [
             0.8888888888888888,
             "#fdca26"
            ],
            [
             1,
             "#f0f921"
            ]
           ]
          },
          "colorway": [
           "#636efa",
           "#EF553B",
           "#00cc96",
           "#ab63fa",
           "#FFA15A",
           "#19d3f3",
           "#FF6692",
           "#B6E880",
           "#FF97FF",
           "#FECB52"
          ],
          "font": {
           "color": "#2a3f5f"
          },
          "geo": {
           "bgcolor": "white",
           "lakecolor": "white",
           "landcolor": "#E5ECF6",
           "showlakes": true,
           "showland": true,
           "subunitcolor": "white"
          },
          "hoverlabel": {
           "align": "left"
          },
          "hovermode": "closest",
          "mapbox": {
           "style": "light"
          },
          "paper_bgcolor": "white",
          "plot_bgcolor": "#E5ECF6",
          "polar": {
           "angularaxis": {
            "gridcolor": "white",
            "linecolor": "white",
            "ticks": ""
           },
           "bgcolor": "#E5ECF6",
           "radialaxis": {
            "gridcolor": "white",
            "linecolor": "white",
            "ticks": ""
           }
          },
          "scene": {
           "xaxis": {
            "backgroundcolor": "#E5ECF6",
            "gridcolor": "white",
            "gridwidth": 2,
            "linecolor": "white",
            "showbackground": true,
            "ticks": "",
            "zerolinecolor": "white"
           },
           "yaxis": {
            "backgroundcolor": "#E5ECF6",
            "gridcolor": "white",
            "gridwidth": 2,
            "linecolor": "white",
            "showbackground": true,
            "ticks": "",
            "zerolinecolor": "white"
           },
           "zaxis": {
            "backgroundcolor": "#E5ECF6",
            "gridcolor": "white",
            "gridwidth": 2,
            "linecolor": "white",
            "showbackground": true,
            "ticks": "",
            "zerolinecolor": "white"
           }
          },
          "shapedefaults": {
           "line": {
            "color": "#2a3f5f"
           }
          },
          "ternary": {
           "aaxis": {
            "gridcolor": "white",
            "linecolor": "white",
            "ticks": ""
           },
           "baxis": {
            "gridcolor": "white",
            "linecolor": "white",
            "ticks": ""
           },
           "bgcolor": "#E5ECF6",
           "caxis": {
            "gridcolor": "white",
            "linecolor": "white",
            "ticks": ""
           }
          },
          "title": {
           "x": 0.05
          },
          "xaxis": {
           "automargin": true,
           "gridcolor": "white",
           "linecolor": "white",
           "ticks": "",
           "title": {
            "standoff": 15
           },
           "zerolinecolor": "white",
           "zerolinewidth": 2
          },
          "yaxis": {
           "automargin": true,
           "gridcolor": "white",
           "linecolor": "white",
           "ticks": "",
           "title": {
            "standoff": 15
           },
           "zerolinecolor": "white",
           "zerolinewidth": 2
          }
         }
        },
        "title": {
         "text": "Course Fee vs GPA"
        },
        "xaxis": {
         "anchor": "y",
         "domain": [
          0,
          1
         ],
         "title": {
          "text": "COURSE FEE"
         }
        },
        "yaxis": {
         "anchor": "x",
         "domain": [
          0,
          1
         ],
         "title": {
          "text": "GPA"
         }
        }
       }
      }
     },
     "metadata": {},
     "output_type": "display_data"
    },
    {
     "data": {
      "application/vnd.plotly.v1+json": {
       "config": {
        "plotlyServerURL": "https://plot.ly"
       },
       "data": [
        {
         "hovertemplate": "Age=%{x}<br>GPA=%{y}<extra></extra>",
         "legendgroup": "",
         "marker": {
          "color": "#636efa",
          "symbol": "circle"
         },
         "mode": "markers",
         "name": "",
         "orientation": "v",
         "showlegend": false,
         "type": "scatter",
         "x": [
          42,
          61,
          55,
          22,
          44,
          34,
          40,
          44,
          56,
          30,
          48,
          38,
          34,
          54,
          47,
          50,
          29,
          36,
          40,
          40,
          46,
          39,
          51,
          59,
          46,
          34,
          33,
          31,
          29,
          32,
          39,
          39,
          34,
          46,
          51,
          54,
          32,
          34,
          32,
          44,
          45,
          36,
          42,
          39,
          38,
          43,
          40,
          30,
          41,
          54,
          41,
          42,
          41,
          57,
          34,
          44,
          53,
          41,
          38,
          37,
          40,
          51,
          44,
          48,
          38,
          37,
          39,
          43,
          50,
          31,
          33,
          39,
          51,
          40,
          40,
          42,
          41,
          41,
          27,
          52,
          46,
          36,
          32,
          44,
          40,
          30,
          30,
          35,
          44,
          36,
          46,
          43,
          40,
          30,
          50,
          37,
          42,
          37,
          41,
          36,
          56,
          59,
          25,
          50,
          53,
          40,
          39,
          32,
          32,
          38,
          30,
          38,
          40,
          35,
          38,
          28,
          54,
          40,
          31,
          40,
          56,
          40,
          50,
          46,
          42,
          35,
          32,
          31,
          40,
          42,
          31,
          34,
          35,
          31,
          28,
          31,
          33,
          24,
          37,
          54,
          36,
          40,
          33,
          24,
          25,
          45,
          47,
          40,
          51,
          31,
          25,
          32,
          48,
          27,
          31,
          41,
          40,
          36,
          51,
          45,
          32,
          37,
          41,
          42,
          34,
          50,
          36,
          42,
          58,
          48,
          41,
          29,
          30,
          31,
          35,
          30,
          29,
          48,
          32,
          40,
          33,
          47,
          35,
          25,
          40,
          48,
          40,
          26,
          45,
          42,
          40,
          32,
          40,
          34,
          37,
          38,
          44,
          50,
          33,
          50,
          36,
          38,
          42,
          36,
          31,
          36,
          46,
          30,
          41,
          59,
          46,
          55,
          35,
          43,
          31,
          28,
          29,
          33,
          37,
          44,
          47,
          44,
          32,
          31,
          39,
          45,
          32,
          54,
          63,
          50,
          31,
          31,
          22,
          35,
          35,
          35,
          35,
          42,
          33,
          55,
          53,
          46,
          32,
          25
         ],
         "xaxis": "x",
         "y": [
          1.9,
          2.6,
          1.8,
          2.8,
          2.7,
          2.8,
          2.2,
          1.7,
          2.4,
          1.5,
          1.8,
          3.1,
          3.1,
          3,
          2.8,
          1.7,
          3,
          3.1,
          2.5,
          1.7,
          1.8,
          2.7,
          2.3,
          2.8,
          2.9,
          1.8,
          1.5,
          2.5,
          3.1,
          3.1,
          3.1,
          2.2,
          1.6,
          2.1,
          1.9,
          3.1,
          2.3,
          2.8,
          2.3,
          2.8,
          1.9,
          1.9,
          2.5,
          3.1,
          2.8,
          3,
          2.2,
          2.5,
          2,
          2.2,
          2.2,
          2.4,
          3.1,
          2,
          2.5,
          3.1,
          2.3,
          2.6,
          2.8,
          2.2,
          2.5,
          3.4,
          1.8,
          3.1,
          3.1,
          3.1,
          2.4,
          1.8,
          2.9,
          2.2,
          3.1,
          2.2,
          2.9,
          1.7,
          2.4,
          2.3,
          2.9,
          3.2,
          2.1,
          2.9,
          3,
          2,
          3,
          3,
          2,
          1.7,
          1.6,
          1.8,
          2.9,
          3,
          2.8,
          3.3,
          3.2,
          2.9,
          2.2,
          2.5,
          2.9,
          1.7,
          3.4,
          3.3,
          2.2,
          3.1,
          3.2,
          2.9,
          1.9,
          2.8,
          2.3,
          2.8,
          3,
          1.5,
          2.2,
          2.8,
          2.3,
          2,
          1.8,
          2.4,
          3,
          1.7,
          3,
          1.5,
          3,
          1.6,
          1.8,
          2.8,
          1.9,
          1.5,
          2.5,
          2.9,
          1.9,
          3.4,
          3.4,
          2.8,
          2.1,
          3.3,
          3.2,
          2.8,
          1.9,
          3.3,
          2.4,
          2.5,
          3,
          2.9,
          3.4,
          3.1,
          2.7,
          2.9,
          3,
          2.6,
          2.9,
          3.4,
          2.4,
          2.5,
          2.5,
          2.2,
          3.9,
          3.2,
          2.6,
          2.8,
          3.3,
          3.1,
          2.4,
          2.8,
          3.3,
          3.2,
          3.7,
          3.2,
          3.1,
          2.6,
          2.5,
          3.6,
          2.8,
          3.9,
          3,
          2.8,
          3.3,
          2.3,
          3.4,
          2.8,
          2.2,
          2.6,
          2.3,
          2.8,
          3.7,
          3,
          3.9,
          3,
          2.9,
          3.7,
          3,
          3,
          3.9,
          3.4,
          3.7,
          3.1,
          3.5,
          3.5,
          3,
          3.4,
          2.2,
          2.9,
          3,
          2.2,
          3.1,
          2.6,
          2.8,
          3.3,
          3.7,
          3.4,
          2.8,
          3.5,
          2.2,
          3.3,
          3.2,
          3.2,
          3,
          3.4,
          3,
          2.9,
          3.9,
          2.9,
          3.2,
          2.8,
          2.4,
          3.7,
          3.2,
          3.7,
          3.8,
          2.6,
          2.6,
          3.8,
          2.8,
          3.6,
          3.3,
          3,
          3.1,
          3.1,
          4,
          3.8,
          3.8,
          3.3,
          3.6,
          3.7,
          3.1,
          4
         ],
         "yaxis": "y"
        }
       ],
       "layout": {
        "legend": {
         "tracegroupgap": 0
        },
        "template": {
         "data": {
          "bar": [
           {
            "error_x": {
             "color": "#2a3f5f"
            },
            "error_y": {
             "color": "#2a3f5f"
            },
            "marker": {
             "line": {
              "color": "#E5ECF6",
              "width": 0.5
             },
             "pattern": {
              "fillmode": "overlay",
              "size": 10,
              "solidity": 0.2
             }
            },
            "type": "bar"
           }
          ],
          "barpolar": [
           {
            "marker": {
             "line": {
              "color": "#E5ECF6",
              "width": 0.5
             },
             "pattern": {
              "fillmode": "overlay",
              "size": 10,
              "solidity": 0.2
             }
            },
            "type": "barpolar"
           }
          ],
          "carpet": [
           {
            "aaxis": {
             "endlinecolor": "#2a3f5f",
             "gridcolor": "white",
             "linecolor": "white",
             "minorgridcolor": "white",
             "startlinecolor": "#2a3f5f"
            },
            "baxis": {
             "endlinecolor": "#2a3f5f",
             "gridcolor": "white",
             "linecolor": "white",
             "minorgridcolor": "white",
             "startlinecolor": "#2a3f5f"
            },
            "type": "carpet"
           }
          ],
          "choropleth": [
           {
            "colorbar": {
             "outlinewidth": 0,
             "ticks": ""
            },
            "type": "choropleth"
           }
          ],
          "contour": [
           {
            "colorbar": {
             "outlinewidth": 0,
             "ticks": ""
            },
            "colorscale": [
             [
              0,
              "#0d0887"
             ],
             [
              0.1111111111111111,
              "#46039f"
             ],
             [
              0.2222222222222222,
              "#7201a8"
             ],
             [
              0.3333333333333333,
              "#9c179e"
             ],
             [
              0.4444444444444444,
              "#bd3786"
             ],
             [
              0.5555555555555556,
              "#d8576b"
             ],
             [
              0.6666666666666666,
              "#ed7953"
             ],
             [
              0.7777777777777778,
              "#fb9f3a"
             ],
             [
              0.8888888888888888,
              "#fdca26"
             ],
             [
              1,
              "#f0f921"
             ]
            ],
            "type": "contour"
           }
          ],
          "contourcarpet": [
           {
            "colorbar": {
             "outlinewidth": 0,
             "ticks": ""
            },
            "type": "contourcarpet"
           }
          ],
          "heatmap": [
           {
            "colorbar": {
             "outlinewidth": 0,
             "ticks": ""
            },
            "colorscale": [
             [
              0,
              "#0d0887"
             ],
             [
              0.1111111111111111,
              "#46039f"
             ],
             [
              0.2222222222222222,
              "#7201a8"
             ],
             [
              0.3333333333333333,
              "#9c179e"
             ],
             [
              0.4444444444444444,
              "#bd3786"
             ],
             [
              0.5555555555555556,
              "#d8576b"
             ],
             [
              0.6666666666666666,
              "#ed7953"
             ],
             [
              0.7777777777777778,
              "#fb9f3a"
             ],
             [
              0.8888888888888888,
              "#fdca26"
             ],
             [
              1,
              "#f0f921"
             ]
            ],
            "type": "heatmap"
           }
          ],
          "heatmapgl": [
           {
            "colorbar": {
             "outlinewidth": 0,
             "ticks": ""
            },
            "colorscale": [
             [
              0,
              "#0d0887"
             ],
             [
              0.1111111111111111,
              "#46039f"
             ],
             [
              0.2222222222222222,
              "#7201a8"
             ],
             [
              0.3333333333333333,
              "#9c179e"
             ],
             [
              0.4444444444444444,
              "#bd3786"
             ],
             [
              0.5555555555555556,
              "#d8576b"
             ],
             [
              0.6666666666666666,
              "#ed7953"
             ],
             [
              0.7777777777777778,
              "#fb9f3a"
             ],
             [
              0.8888888888888888,
              "#fdca26"
             ],
             [
              1,
              "#f0f921"
             ]
            ],
            "type": "heatmapgl"
           }
          ],
          "histogram": [
           {
            "marker": {
             "pattern": {
              "fillmode": "overlay",
              "size": 10,
              "solidity": 0.2
             }
            },
            "type": "histogram"
           }
          ],
          "histogram2d": [
           {
            "colorbar": {
             "outlinewidth": 0,
             "ticks": ""
            },
            "colorscale": [
             [
              0,
              "#0d0887"
             ],
             [
              0.1111111111111111,
              "#46039f"
             ],
             [
              0.2222222222222222,
              "#7201a8"
             ],
             [
              0.3333333333333333,
              "#9c179e"
             ],
             [
              0.4444444444444444,
              "#bd3786"
             ],
             [
              0.5555555555555556,
              "#d8576b"
             ],
             [
              0.6666666666666666,
              "#ed7953"
             ],
             [
              0.7777777777777778,
              "#fb9f3a"
             ],
             [
              0.8888888888888888,
              "#fdca26"
             ],
             [
              1,
              "#f0f921"
             ]
            ],
            "type": "histogram2d"
           }
          ],
          "histogram2dcontour": [
           {
            "colorbar": {
             "outlinewidth": 0,
             "ticks": ""
            },
            "colorscale": [
             [
              0,
              "#0d0887"
             ],
             [
              0.1111111111111111,
              "#46039f"
             ],
             [
              0.2222222222222222,
              "#7201a8"
             ],
             [
              0.3333333333333333,
              "#9c179e"
             ],
             [
              0.4444444444444444,
              "#bd3786"
             ],
             [
              0.5555555555555556,
              "#d8576b"
             ],
             [
              0.6666666666666666,
              "#ed7953"
             ],
             [
              0.7777777777777778,
              "#fb9f3a"
             ],
             [
              0.8888888888888888,
              "#fdca26"
             ],
             [
              1,
              "#f0f921"
             ]
            ],
            "type": "histogram2dcontour"
           }
          ],
          "mesh3d": [
           {
            "colorbar": {
             "outlinewidth": 0,
             "ticks": ""
            },
            "type": "mesh3d"
           }
          ],
          "parcoords": [
           {
            "line": {
             "colorbar": {
              "outlinewidth": 0,
              "ticks": ""
             }
            },
            "type": "parcoords"
           }
          ],
          "pie": [
           {
            "automargin": true,
            "type": "pie"
           }
          ],
          "scatter": [
           {
            "fillpattern": {
             "fillmode": "overlay",
             "size": 10,
             "solidity": 0.2
            },
            "type": "scatter"
           }
          ],
          "scatter3d": [
           {
            "line": {
             "colorbar": {
              "outlinewidth": 0,
              "ticks": ""
             }
            },
            "marker": {
             "colorbar": {
              "outlinewidth": 0,
              "ticks": ""
             }
            },
            "type": "scatter3d"
           }
          ],
          "scattercarpet": [
           {
            "marker": {
             "colorbar": {
              "outlinewidth": 0,
              "ticks": ""
             }
            },
            "type": "scattercarpet"
           }
          ],
          "scattergeo": [
           {
            "marker": {
             "colorbar": {
              "outlinewidth": 0,
              "ticks": ""
             }
            },
            "type": "scattergeo"
           }
          ],
          "scattergl": [
           {
            "marker": {
             "colorbar": {
              "outlinewidth": 0,
              "ticks": ""
             }
            },
            "type": "scattergl"
           }
          ],
          "scattermapbox": [
           {
            "marker": {
             "colorbar": {
              "outlinewidth": 0,
              "ticks": ""
             }
            },
            "type": "scattermapbox"
           }
          ],
          "scatterpolar": [
           {
            "marker": {
             "colorbar": {
              "outlinewidth": 0,
              "ticks": ""
             }
            },
            "type": "scatterpolar"
           }
          ],
          "scatterpolargl": [
           {
            "marker": {
             "colorbar": {
              "outlinewidth": 0,
              "ticks": ""
             }
            },
            "type": "scatterpolargl"
           }
          ],
          "scatterternary": [
           {
            "marker": {
             "colorbar": {
              "outlinewidth": 0,
              "ticks": ""
             }
            },
            "type": "scatterternary"
           }
          ],
          "surface": [
           {
            "colorbar": {
             "outlinewidth": 0,
             "ticks": ""
            },
            "colorscale": [
             [
              0,
              "#0d0887"
             ],
             [
              0.1111111111111111,
              "#46039f"
             ],
             [
              0.2222222222222222,
              "#7201a8"
             ],
             [
              0.3333333333333333,
              "#9c179e"
             ],
             [
              0.4444444444444444,
              "#bd3786"
             ],
             [
              0.5555555555555556,
              "#d8576b"
             ],
             [
              0.6666666666666666,
              "#ed7953"
             ],
             [
              0.7777777777777778,
              "#fb9f3a"
             ],
             [
              0.8888888888888888,
              "#fdca26"
             ],
             [
              1,
              "#f0f921"
             ]
            ],
            "type": "surface"
           }
          ],
          "table": [
           {
            "cells": {
             "fill": {
              "color": "#EBF0F8"
             },
             "line": {
              "color": "white"
             }
            },
            "header": {
             "fill": {
              "color": "#C8D4E3"
             },
             "line": {
              "color": "white"
             }
            },
            "type": "table"
           }
          ]
         },
         "layout": {
          "annotationdefaults": {
           "arrowcolor": "#2a3f5f",
           "arrowhead": 0,
           "arrowwidth": 1
          },
          "autotypenumbers": "strict",
          "coloraxis": {
           "colorbar": {
            "outlinewidth": 0,
            "ticks": ""
           }
          },
          "colorscale": {
           "diverging": [
            [
             0,
             "#8e0152"
            ],
            [
             0.1,
             "#c51b7d"
            ],
            [
             0.2,
             "#de77ae"
            ],
            [
             0.3,
             "#f1b6da"
            ],
            [
             0.4,
             "#fde0ef"
            ],
            [
             0.5,
             "#f7f7f7"
            ],
            [
             0.6,
             "#e6f5d0"
            ],
            [
             0.7,
             "#b8e186"
            ],
            [
             0.8,
             "#7fbc41"
            ],
            [
             0.9,
             "#4d9221"
            ],
            [
             1,
             "#276419"
            ]
           ],
           "sequential": [
            [
             0,
             "#0d0887"
            ],
            [
             0.1111111111111111,
             "#46039f"
            ],
            [
             0.2222222222222222,
             "#7201a8"
            ],
            [
             0.3333333333333333,
             "#9c179e"
            ],
            [
             0.4444444444444444,
             "#bd3786"
            ],
            [
             0.5555555555555556,
             "#d8576b"
            ],
            [
             0.6666666666666666,
             "#ed7953"
            ],
            [
             0.7777777777777778,
             "#fb9f3a"
            ],
            [
             0.8888888888888888,
             "#fdca26"
            ],
            [
             1,
             "#f0f921"
            ]
           ],
           "sequentialminus": [
            [
             0,
             "#0d0887"
            ],
            [
             0.1111111111111111,
             "#46039f"
            ],
            [
             0.2222222222222222,
             "#7201a8"
            ],
            [
             0.3333333333333333,
             "#9c179e"
            ],
            [
             0.4444444444444444,
             "#bd3786"
            ],
            [
             0.5555555555555556,
             "#d8576b"
            ],
            [
             0.6666666666666666,
             "#ed7953"
            ],
            [
             0.7777777777777778,
             "#fb9f3a"
            ],
            [
             0.8888888888888888,
             "#fdca26"
            ],
            [
             1,
             "#f0f921"
            ]
           ]
          },
          "colorway": [
           "#636efa",
           "#EF553B",
           "#00cc96",
           "#ab63fa",
           "#FFA15A",
           "#19d3f3",
           "#FF6692",
           "#B6E880",
           "#FF97FF",
           "#FECB52"
          ],
          "font": {
           "color": "#2a3f5f"
          },
          "geo": {
           "bgcolor": "white",
           "lakecolor": "white",
           "landcolor": "#E5ECF6",
           "showlakes": true,
           "showland": true,
           "subunitcolor": "white"
          },
          "hoverlabel": {
           "align": "left"
          },
          "hovermode": "closest",
          "mapbox": {
           "style": "light"
          },
          "paper_bgcolor": "white",
          "plot_bgcolor": "#E5ECF6",
          "polar": {
           "angularaxis": {
            "gridcolor": "white",
            "linecolor": "white",
            "ticks": ""
           },
           "bgcolor": "#E5ECF6",
           "radialaxis": {
            "gridcolor": "white",
            "linecolor": "white",
            "ticks": ""
           }
          },
          "scene": {
           "xaxis": {
            "backgroundcolor": "#E5ECF6",
            "gridcolor": "white",
            "gridwidth": 2,
            "linecolor": "white",
            "showbackground": true,
            "ticks": "",
            "zerolinecolor": "white"
           },
           "yaxis": {
            "backgroundcolor": "#E5ECF6",
            "gridcolor": "white",
            "gridwidth": 2,
            "linecolor": "white",
            "showbackground": true,
            "ticks": "",
            "zerolinecolor": "white"
           },
           "zaxis": {
            "backgroundcolor": "#E5ECF6",
            "gridcolor": "white",
            "gridwidth": 2,
            "linecolor": "white",
            "showbackground": true,
            "ticks": "",
            "zerolinecolor": "white"
           }
          },
          "shapedefaults": {
           "line": {
            "color": "#2a3f5f"
           }
          },
          "ternary": {
           "aaxis": {
            "gridcolor": "white",
            "linecolor": "white",
            "ticks": ""
           },
           "baxis": {
            "gridcolor": "white",
            "linecolor": "white",
            "ticks": ""
           },
           "bgcolor": "#E5ECF6",
           "caxis": {
            "gridcolor": "white",
            "linecolor": "white",
            "ticks": ""
           }
          },
          "title": {
           "x": 0.05
          },
          "xaxis": {
           "automargin": true,
           "gridcolor": "white",
           "linecolor": "white",
           "ticks": "",
           "title": {
            "standoff": 15
           },
           "zerolinecolor": "white",
           "zerolinewidth": 2
          },
          "yaxis": {
           "automargin": true,
           "gridcolor": "white",
           "linecolor": "white",
           "ticks": "",
           "title": {
            "standoff": 15
           },
           "zerolinecolor": "white",
           "zerolinewidth": 2
          }
         }
        },
        "title": {
         "text": "Age vs GPA"
        },
        "xaxis": {
         "anchor": "y",
         "domain": [
          0,
          1
         ],
         "title": {
          "text": "Age"
         }
        },
        "yaxis": {
         "anchor": "x",
         "domain": [
          0,
          1
         ],
         "title": {
          "text": "GPA"
         }
        }
       }
      }
     },
     "metadata": {},
     "output_type": "display_data"
    },
    {
     "data": {
      "application/vnd.plotly.v1+json": {
       "config": {
        "plotlyServerURL": "https://plot.ly"
       },
       "data": [
        {
         "alignmentgroup": "True",
         "hovertemplate": "COURSE FUNDING=%{x}<br>count=%{y}<extra></extra>",
         "legendgroup": "",
         "marker": {
          "color": "#636efa",
          "pattern": {
           "shape": ""
          }
         },
         "name": "",
         "offsetgroup": "",
         "orientation": "v",
         "showlegend": false,
         "textposition": "auto",
         "type": "bar",
         "x": [
          "Individual",
          "Individual",
          "Subsidiesed",
          "Individual",
          "Individual",
          "Individual",
          "Sponsored",
          "Sponsored",
          "Individual",
          "Individual",
          "Individual",
          "Individual",
          "Individual",
          "Individual",
          "Individual",
          "Individual",
          "Subsidiesed",
          "Subsidiesed",
          "Subsidiesed",
          "Subsidiesed",
          "Individual",
          "Individual",
          "Individual",
          "Sponsored",
          "Individual",
          "Subsidiesed",
          "Sponsored",
          "Individual",
          "Individual",
          "Sponsored",
          "Sponsored",
          "Individual",
          "Individual",
          "Individual",
          "Sponsored",
          "Subsidiesed",
          "Subsidiesed",
          "Individual",
          "Individual",
          "Individual",
          "Subsidiesed",
          "Subsidiesed",
          "Subsidiesed",
          "Individual",
          "Individual",
          "Subsidiesed",
          "Sponsored",
          "Sponsored",
          "Individual",
          "Individual",
          "Subsidiesed",
          "Individual",
          "Individual",
          "Subsidiesed",
          "Individual",
          "Subsidiesed",
          "Sponsored",
          "Subsidiesed",
          "Individual",
          "Individual",
          "Individual",
          "Subsidiesed",
          "Individual",
          "Individual",
          "Sponsored",
          "Sponsored",
          "Subsidiesed",
          "Sponsored",
          "Individual",
          "Subsidiesed",
          "Individual",
          "Sponsored",
          "Individual",
          "Individual",
          "Sponsored",
          "Individual",
          "Individual",
          "Individual",
          "Individual",
          "Individual",
          "Subsidiesed",
          "Sponsored",
          "Subsidiesed",
          "Individual",
          "Individual",
          "Subsidiesed",
          "Individual",
          "Sponsored",
          "Individual",
          "Sponsored",
          "Sponsored",
          "Sponsored",
          "Individual",
          "Subsidiesed",
          "Subsidiesed",
          "Subsidiesed",
          "Subsidiesed",
          "Subsidiesed",
          "Individual",
          "Individual",
          "Subsidiesed",
          "Sponsored",
          "Individual",
          "Individual",
          "Individual",
          "Individual",
          "Individual",
          "Individual",
          "Individual",
          "Individual",
          "Individual",
          "Individual",
          "Sponsored",
          "Subsidiesed",
          "Subsidiesed",
          "Sponsored",
          "Individual",
          "Individual",
          "Individual",
          "Subsidiesed",
          "Subsidiesed",
          "Subsidiesed",
          "Individual",
          "Subsidiesed",
          "Individual",
          "Individual",
          "Subsidiesed",
          "Individual",
          "Subsidiesed",
          "Sponsored",
          "Individual",
          "Individual",
          "Individual",
          "Subsidiesed",
          "Sponsored",
          "Individual",
          "Subsidiesed",
          "Individual",
          "Sponsored",
          "Sponsored",
          "Individual",
          "Individual",
          "Individual",
          "Sponsored",
          "Individual",
          "Individual",
          "Individual",
          "Individual",
          "Individual",
          "Subsidiesed",
          "Sponsored",
          "Subsidiesed",
          "Subsidiesed",
          "Individual",
          "Subsidiesed",
          "Individual",
          "Individual",
          "Sponsored",
          "Subsidiesed",
          "Subsidiesed",
          "Individual",
          "Subsidiesed",
          "Subsidiesed",
          "Individual",
          "Sponsored",
          "Individual",
          "Subsidiesed",
          "Individual",
          "Individual",
          "Individual",
          "Individual",
          "Sponsored",
          "Individual",
          "Sponsored",
          "Individual",
          "Individual",
          "Sponsored",
          "Individual",
          "Individual",
          "Individual",
          "Individual",
          "Individual",
          "Individual",
          "Individual",
          "Subsidiesed",
          "Individual",
          "Sponsored",
          "Individual",
          "Individual",
          "Individual",
          "Individual",
          "Individual",
          "Individual",
          "Subsidiesed",
          "Sponsored",
          "Subsidiesed",
          "Individual",
          "Individual",
          "Individual",
          "Subsidiesed",
          "Sponsored",
          "Individual",
          "Individual",
          "Sponsored",
          "Sponsored",
          "Subsidiesed",
          "Subsidiesed",
          "Subsidiesed",
          "Individual",
          "Sponsored",
          "Subsidiesed",
          "Sponsored",
          "Individual",
          "Sponsored",
          "Individual",
          "Individual",
          "Sponsored",
          "Individual",
          "Individual",
          "Subsidiesed",
          "Subsidiesed",
          "Individual",
          "Individual",
          "Individual",
          "Individual",
          "Individual",
          "Individual",
          "Sponsored",
          "Sponsored",
          "Subsidiesed",
          "Sponsored",
          "Subsidiesed",
          "Individual",
          "Sponsored",
          "Individual",
          "Sponsored",
          "Subsidiesed",
          "Individual",
          "Subsidiesed",
          "Individual",
          "Individual",
          "Subsidiesed",
          "Sponsored",
          "Individual"
         ],
         "xaxis": "x",
         "y": [
          1,
          1,
          1,
          1,
          1,
          1,
          1,
          1,
          1,
          1,
          1,
          1,
          1,
          1,
          1,
          1,
          1,
          1,
          1,
          1,
          1,
          1,
          1,
          1,
          1,
          1,
          1,
          1,
          1,
          1,
          1,
          1,
          1,
          1,
          1,
          1,
          1,
          1,
          1,
          1,
          1,
          1,
          1,
          1,
          1,
          1,
          1,
          1,
          1,
          1,
          1,
          1,
          1,
          1,
          1,
          1,
          1,
          1,
          1,
          1,
          1,
          1,
          1,
          1,
          1,
          1,
          1,
          1,
          1,
          1,
          1,
          1,
          1,
          1,
          1,
          1,
          1,
          1,
          1,
          1,
          1,
          1,
          1,
          1,
          1,
          1,
          1,
          1,
          1,
          1,
          1,
          1,
          1,
          1,
          1,
          1,
          1,
          1,
          1,
          1,
          1,
          1,
          1,
          1,
          1,
          1,
          1,
          1,
          1,
          1,
          1,
          1,
          1,
          1,
          1,
          1,
          1,
          1,
          1,
          1,
          1,
          1,
          1,
          1,
          1,
          1,
          1,
          1,
          1,
          1,
          1,
          1,
          1,
          1,
          1,
          1,
          1,
          1,
          1,
          1,
          1,
          1,
          1,
          1,
          1,
          1,
          1,
          1,
          1,
          1,
          1,
          1,
          1,
          1,
          1,
          1,
          1,
          1,
          1,
          1,
          1,
          1,
          1,
          1,
          1,
          1,
          1,
          1,
          1,
          1,
          1,
          1,
          1,
          1,
          1,
          1,
          1,
          1,
          1,
          1,
          1,
          1,
          1,
          1,
          1,
          1,
          1,
          1,
          1,
          1,
          1,
          1,
          1,
          1,
          1,
          1,
          1,
          1,
          1,
          1,
          1,
          1,
          1,
          1,
          1,
          1,
          1,
          1,
          1,
          1,
          1,
          1,
          1,
          1,
          1,
          1,
          1,
          1,
          1,
          1,
          1,
          1,
          1,
          1,
          1,
          1,
          1,
          1,
          1,
          1,
          1,
          1,
          1,
          1,
          1,
          1,
          1,
          1,
          1,
          1,
          1,
          1,
          1,
          1
         ],
         "yaxis": "y"
        }
       ],
       "layout": {
        "barmode": "relative",
        "legend": {
         "tracegroupgap": 0
        },
        "template": {
         "data": {
          "bar": [
           {
            "error_x": {
             "color": "#2a3f5f"
            },
            "error_y": {
             "color": "#2a3f5f"
            },
            "marker": {
             "line": {
              "color": "#E5ECF6",
              "width": 0.5
             },
             "pattern": {
              "fillmode": "overlay",
              "size": 10,
              "solidity": 0.2
             }
            },
            "type": "bar"
           }
          ],
          "barpolar": [
           {
            "marker": {
             "line": {
              "color": "#E5ECF6",
              "width": 0.5
             },
             "pattern": {
              "fillmode": "overlay",
              "size": 10,
              "solidity": 0.2
             }
            },
            "type": "barpolar"
           }
          ],
          "carpet": [
           {
            "aaxis": {
             "endlinecolor": "#2a3f5f",
             "gridcolor": "white",
             "linecolor": "white",
             "minorgridcolor": "white",
             "startlinecolor": "#2a3f5f"
            },
            "baxis": {
             "endlinecolor": "#2a3f5f",
             "gridcolor": "white",
             "linecolor": "white",
             "minorgridcolor": "white",
             "startlinecolor": "#2a3f5f"
            },
            "type": "carpet"
           }
          ],
          "choropleth": [
           {
            "colorbar": {
             "outlinewidth": 0,
             "ticks": ""
            },
            "type": "choropleth"
           }
          ],
          "contour": [
           {
            "colorbar": {
             "outlinewidth": 0,
             "ticks": ""
            },
            "colorscale": [
             [
              0,
              "#0d0887"
             ],
             [
              0.1111111111111111,
              "#46039f"
             ],
             [
              0.2222222222222222,
              "#7201a8"
             ],
             [
              0.3333333333333333,
              "#9c179e"
             ],
             [
              0.4444444444444444,
              "#bd3786"
             ],
             [
              0.5555555555555556,
              "#d8576b"
             ],
             [
              0.6666666666666666,
              "#ed7953"
             ],
             [
              0.7777777777777778,
              "#fb9f3a"
             ],
             [
              0.8888888888888888,
              "#fdca26"
             ],
             [
              1,
              "#f0f921"
             ]
            ],
            "type": "contour"
           }
          ],
          "contourcarpet": [
           {
            "colorbar": {
             "outlinewidth": 0,
             "ticks": ""
            },
            "type": "contourcarpet"
           }
          ],
          "heatmap": [
           {
            "colorbar": {
             "outlinewidth": 0,
             "ticks": ""
            },
            "colorscale": [
             [
              0,
              "#0d0887"
             ],
             [
              0.1111111111111111,
              "#46039f"
             ],
             [
              0.2222222222222222,
              "#7201a8"
             ],
             [
              0.3333333333333333,
              "#9c179e"
             ],
             [
              0.4444444444444444,
              "#bd3786"
             ],
             [
              0.5555555555555556,
              "#d8576b"
             ],
             [
              0.6666666666666666,
              "#ed7953"
             ],
             [
              0.7777777777777778,
              "#fb9f3a"
             ],
             [
              0.8888888888888888,
              "#fdca26"
             ],
             [
              1,
              "#f0f921"
             ]
            ],
            "type": "heatmap"
           }
          ],
          "heatmapgl": [
           {
            "colorbar": {
             "outlinewidth": 0,
             "ticks": ""
            },
            "colorscale": [
             [
              0,
              "#0d0887"
             ],
             [
              0.1111111111111111,
              "#46039f"
             ],
             [
              0.2222222222222222,
              "#7201a8"
             ],
             [
              0.3333333333333333,
              "#9c179e"
             ],
             [
              0.4444444444444444,
              "#bd3786"
             ],
             [
              0.5555555555555556,
              "#d8576b"
             ],
             [
              0.6666666666666666,
              "#ed7953"
             ],
             [
              0.7777777777777778,
              "#fb9f3a"
             ],
             [
              0.8888888888888888,
              "#fdca26"
             ],
             [
              1,
              "#f0f921"
             ]
            ],
            "type": "heatmapgl"
           }
          ],
          "histogram": [
           {
            "marker": {
             "pattern": {
              "fillmode": "overlay",
              "size": 10,
              "solidity": 0.2
             }
            },
            "type": "histogram"
           }
          ],
          "histogram2d": [
           {
            "colorbar": {
             "outlinewidth": 0,
             "ticks": ""
            },
            "colorscale": [
             [
              0,
              "#0d0887"
             ],
             [
              0.1111111111111111,
              "#46039f"
             ],
             [
              0.2222222222222222,
              "#7201a8"
             ],
             [
              0.3333333333333333,
              "#9c179e"
             ],
             [
              0.4444444444444444,
              "#bd3786"
             ],
             [
              0.5555555555555556,
              "#d8576b"
             ],
             [
              0.6666666666666666,
              "#ed7953"
             ],
             [
              0.7777777777777778,
              "#fb9f3a"
             ],
             [
              0.8888888888888888,
              "#fdca26"
             ],
             [
              1,
              "#f0f921"
             ]
            ],
            "type": "histogram2d"
           }
          ],
          "histogram2dcontour": [
           {
            "colorbar": {
             "outlinewidth": 0,
             "ticks": ""
            },
            "colorscale": [
             [
              0,
              "#0d0887"
             ],
             [
              0.1111111111111111,
              "#46039f"
             ],
             [
              0.2222222222222222,
              "#7201a8"
             ],
             [
              0.3333333333333333,
              "#9c179e"
             ],
             [
              0.4444444444444444,
              "#bd3786"
             ],
             [
              0.5555555555555556,
              "#d8576b"
             ],
             [
              0.6666666666666666,
              "#ed7953"
             ],
             [
              0.7777777777777778,
              "#fb9f3a"
             ],
             [
              0.8888888888888888,
              "#fdca26"
             ],
             [
              1,
              "#f0f921"
             ]
            ],
            "type": "histogram2dcontour"
           }
          ],
          "mesh3d": [
           {
            "colorbar": {
             "outlinewidth": 0,
             "ticks": ""
            },
            "type": "mesh3d"
           }
          ],
          "parcoords": [
           {
            "line": {
             "colorbar": {
              "outlinewidth": 0,
              "ticks": ""
             }
            },
            "type": "parcoords"
           }
          ],
          "pie": [
           {
            "automargin": true,
            "type": "pie"
           }
          ],
          "scatter": [
           {
            "fillpattern": {
             "fillmode": "overlay",
             "size": 10,
             "solidity": 0.2
            },
            "type": "scatter"
           }
          ],
          "scatter3d": [
           {
            "line": {
             "colorbar": {
              "outlinewidth": 0,
              "ticks": ""
             }
            },
            "marker": {
             "colorbar": {
              "outlinewidth": 0,
              "ticks": ""
             }
            },
            "type": "scatter3d"
           }
          ],
          "scattercarpet": [
           {
            "marker": {
             "colorbar": {
              "outlinewidth": 0,
              "ticks": ""
             }
            },
            "type": "scattercarpet"
           }
          ],
          "scattergeo": [
           {
            "marker": {
             "colorbar": {
              "outlinewidth": 0,
              "ticks": ""
             }
            },
            "type": "scattergeo"
           }
          ],
          "scattergl": [
           {
            "marker": {
             "colorbar": {
              "outlinewidth": 0,
              "ticks": ""
             }
            },
            "type": "scattergl"
           }
          ],
          "scattermapbox": [
           {
            "marker": {
             "colorbar": {
              "outlinewidth": 0,
              "ticks": ""
             }
            },
            "type": "scattermapbox"
           }
          ],
          "scatterpolar": [
           {
            "marker": {
             "colorbar": {
              "outlinewidth": 0,
              "ticks": ""
             }
            },
            "type": "scatterpolar"
           }
          ],
          "scatterpolargl": [
           {
            "marker": {
             "colorbar": {
              "outlinewidth": 0,
              "ticks": ""
             }
            },
            "type": "scatterpolargl"
           }
          ],
          "scatterternary": [
           {
            "marker": {
             "colorbar": {
              "outlinewidth": 0,
              "ticks": ""
             }
            },
            "type": "scatterternary"
           }
          ],
          "surface": [
           {
            "colorbar": {
             "outlinewidth": 0,
             "ticks": ""
            },
            "colorscale": [
             [
              0,
              "#0d0887"
             ],
             [
              0.1111111111111111,
              "#46039f"
             ],
             [
              0.2222222222222222,
              "#7201a8"
             ],
             [
              0.3333333333333333,
              "#9c179e"
             ],
             [
              0.4444444444444444,
              "#bd3786"
             ],
             [
              0.5555555555555556,
              "#d8576b"
             ],
             [
              0.6666666666666666,
              "#ed7953"
             ],
             [
              0.7777777777777778,
              "#fb9f3a"
             ],
             [
              0.8888888888888888,
              "#fdca26"
             ],
             [
              1,
              "#f0f921"
             ]
            ],
            "type": "surface"
           }
          ],
          "table": [
           {
            "cells": {
             "fill": {
              "color": "#EBF0F8"
             },
             "line": {
              "color": "white"
             }
            },
            "header": {
             "fill": {
              "color": "#C8D4E3"
             },
             "line": {
              "color": "white"
             }
            },
            "type": "table"
           }
          ]
         },
         "layout": {
          "annotationdefaults": {
           "arrowcolor": "#2a3f5f",
           "arrowhead": 0,
           "arrowwidth": 1
          },
          "autotypenumbers": "strict",
          "coloraxis": {
           "colorbar": {
            "outlinewidth": 0,
            "ticks": ""
           }
          },
          "colorscale": {
           "diverging": [
            [
             0,
             "#8e0152"
            ],
            [
             0.1,
             "#c51b7d"
            ],
            [
             0.2,
             "#de77ae"
            ],
            [
             0.3,
             "#f1b6da"
            ],
            [
             0.4,
             "#fde0ef"
            ],
            [
             0.5,
             "#f7f7f7"
            ],
            [
             0.6,
             "#e6f5d0"
            ],
            [
             0.7,
             "#b8e186"
            ],
            [
             0.8,
             "#7fbc41"
            ],
            [
             0.9,
             "#4d9221"
            ],
            [
             1,
             "#276419"
            ]
           ],
           "sequential": [
            [
             0,
             "#0d0887"
            ],
            [
             0.1111111111111111,
             "#46039f"
            ],
            [
             0.2222222222222222,
             "#7201a8"
            ],
            [
             0.3333333333333333,
             "#9c179e"
            ],
            [
             0.4444444444444444,
             "#bd3786"
            ],
            [
             0.5555555555555556,
             "#d8576b"
            ],
            [
             0.6666666666666666,
             "#ed7953"
            ],
            [
             0.7777777777777778,
             "#fb9f3a"
            ],
            [
             0.8888888888888888,
             "#fdca26"
            ],
            [
             1,
             "#f0f921"
            ]
           ],
           "sequentialminus": [
            [
             0,
             "#0d0887"
            ],
            [
             0.1111111111111111,
             "#46039f"
            ],
            [
             0.2222222222222222,
             "#7201a8"
            ],
            [
             0.3333333333333333,
             "#9c179e"
            ],
            [
             0.4444444444444444,
             "#bd3786"
            ],
            [
             0.5555555555555556,
             "#d8576b"
            ],
            [
             0.6666666666666666,
             "#ed7953"
            ],
            [
             0.7777777777777778,
             "#fb9f3a"
            ],
            [
             0.8888888888888888,
             "#fdca26"
            ],
            [
             1,
             "#f0f921"
            ]
           ]
          },
          "colorway": [
           "#636efa",
           "#EF553B",
           "#00cc96",
           "#ab63fa",
           "#FFA15A",
           "#19d3f3",
           "#FF6692",
           "#B6E880",
           "#FF97FF",
           "#FECB52"
          ],
          "font": {
           "color": "#2a3f5f"
          },
          "geo": {
           "bgcolor": "white",
           "lakecolor": "white",
           "landcolor": "#E5ECF6",
           "showlakes": true,
           "showland": true,
           "subunitcolor": "white"
          },
          "hoverlabel": {
           "align": "left"
          },
          "hovermode": "closest",
          "mapbox": {
           "style": "light"
          },
          "paper_bgcolor": "white",
          "plot_bgcolor": "#E5ECF6",
          "polar": {
           "angularaxis": {
            "gridcolor": "white",
            "linecolor": "white",
            "ticks": ""
           },
           "bgcolor": "#E5ECF6",
           "radialaxis": {
            "gridcolor": "white",
            "linecolor": "white",
            "ticks": ""
           }
          },
          "scene": {
           "xaxis": {
            "backgroundcolor": "#E5ECF6",
            "gridcolor": "white",
            "gridwidth": 2,
            "linecolor": "white",
            "showbackground": true,
            "ticks": "",
            "zerolinecolor": "white"
           },
           "yaxis": {
            "backgroundcolor": "#E5ECF6",
            "gridcolor": "white",
            "gridwidth": 2,
            "linecolor": "white",
            "showbackground": true,
            "ticks": "",
            "zerolinecolor": "white"
           },
           "zaxis": {
            "backgroundcolor": "#E5ECF6",
            "gridcolor": "white",
            "gridwidth": 2,
            "linecolor": "white",
            "showbackground": true,
            "ticks": "",
            "zerolinecolor": "white"
           }
          },
          "shapedefaults": {
           "line": {
            "color": "#2a3f5f"
           }
          },
          "ternary": {
           "aaxis": {
            "gridcolor": "white",
            "linecolor": "white",
            "ticks": ""
           },
           "baxis": {
            "gridcolor": "white",
            "linecolor": "white",
            "ticks": ""
           },
           "bgcolor": "#E5ECF6",
           "caxis": {
            "gridcolor": "white",
            "linecolor": "white",
            "ticks": ""
           }
          },
          "title": {
           "x": 0.05
          },
          "xaxis": {
           "automargin": true,
           "gridcolor": "white",
           "linecolor": "white",
           "ticks": "",
           "title": {
            "standoff": 15
           },
           "zerolinecolor": "white",
           "zerolinewidth": 2
          },
          "yaxis": {
           "automargin": true,
           "gridcolor": "white",
           "linecolor": "white",
           "ticks": "",
           "title": {
            "standoff": 15
           },
           "zerolinecolor": "white",
           "zerolinewidth": 2
          }
         }
        },
        "title": {
         "text": "Funding Type Distribution"
        },
        "xaxis": {
         "anchor": "y",
         "domain": [
          0,
          1
         ],
         "title": {
          "text": "COURSE FUNDING"
         }
        },
        "yaxis": {
         "anchor": "x",
         "domain": [
          0,
          1
         ],
         "title": {
          "text": "count"
         }
        }
       }
      }
     },
     "metadata": {},
     "output_type": "display_data"
    },
    {
     "data": {
      "application/vnd.plotly.v1+json": {
       "config": {
        "plotlyServerURL": "https://plot.ly"
       },
       "data": [
        {
         "alignmentgroup": "True",
         "hovertemplate": "count=%{x}<br>DESIGNATION=%{y}<extra></extra>",
         "legendgroup": "",
         "marker": {
          "color": "#636efa",
          "pattern": {
           "shape": ""
          }
         },
         "name": "",
         "offsetgroup": "",
         "orientation": "h",
         "showlegend": false,
         "textposition": "auto",
         "type": "bar",
         "x": [
          1,
          1,
          1,
          1,
          1,
          1,
          1,
          1,
          1,
          1,
          1,
          1,
          1,
          1,
          1,
          1,
          1,
          1,
          1,
          1,
          1,
          1,
          1,
          1,
          1,
          1,
          1,
          1,
          1,
          1,
          1,
          1,
          1,
          1,
          1,
          1,
          1,
          1,
          1,
          1,
          1,
          1,
          1,
          1,
          1,
          1,
          1,
          1,
          1,
          1,
          1,
          1,
          1,
          1,
          1,
          1,
          1,
          1,
          1,
          1,
          1,
          1,
          1,
          1,
          1,
          1,
          1,
          1,
          1,
          1,
          1,
          1,
          1,
          1,
          1,
          1,
          1,
          1,
          1,
          1,
          1,
          1,
          1,
          1,
          1,
          1,
          1,
          1,
          1,
          1,
          1,
          1,
          1,
          1,
          1,
          1,
          1,
          1,
          1,
          1,
          1,
          1,
          1,
          1,
          1,
          1,
          1,
          1,
          1,
          1,
          1,
          1,
          1,
          1,
          1,
          1,
          1,
          1,
          1,
          1,
          1,
          1,
          1,
          1,
          1,
          1,
          1,
          1,
          1,
          1,
          1,
          1,
          1,
          1,
          1,
          1,
          1,
          1,
          1,
          1,
          1,
          1,
          1,
          1,
          1,
          1,
          1,
          1,
          1,
          1,
          1,
          1,
          1,
          1,
          1,
          1,
          1,
          1,
          1,
          1,
          1,
          1,
          1,
          1,
          1,
          1,
          1,
          1,
          1,
          1,
          1,
          1,
          1,
          1,
          1,
          1,
          1,
          1,
          1,
          1,
          1,
          1,
          1,
          1,
          1,
          1,
          1,
          1,
          1,
          1,
          1,
          1,
          1,
          1,
          1,
          1,
          1,
          1,
          1,
          1,
          1,
          1,
          1,
          1,
          1,
          1,
          1,
          1,
          1,
          1,
          1,
          1,
          1,
          1,
          1,
          1,
          1,
          1,
          1,
          1,
          1,
          1,
          1,
          1,
          1,
          1,
          1,
          1,
          1,
          1,
          1,
          1,
          1,
          1,
          1,
          1,
          1,
          1,
          1,
          1,
          1,
          1,
          1,
          1
         ],
         "xaxis": "x",
         "y": [
          "Household Goods Coordinator",
          "Admin Executive",
          "Administrator",
          "No Designation",
          "No Designation",
          "HR Assistant",
          "Executive, Administration",
          "Admin & Finance Executive",
          "Senior Vice President, Gaming Division",
          "HR Executive",
          "Admin Assistant",
          "Assistant Manager Americas",
          "No Designation",
          "No Designation",
          "No Designation",
          "Assistant Manager (Admin Support)",
          "HR Executive (TA Operations)",
          "Accounts Executive",
          "Team Lead, Payroll & Billing",
          "Senior Assistant (Tenant Administration)",
          "Helpdesk Manager",
          "HR Executive",
          "HR & Operations Manager, South East Asia",
          "Snr HR Executive",
          "Senior HR Executive",
          "Early Childhood Support Office",
          "Senior Eexcutive",
          "Talent Acquisition Specialist",
          "Admin Assistant",
          "Client Accountant",
          "Human Resource Administrator",
          "HR & Admin Officer",
          "HRM",
          "Manager",
          "Office Manager",
          "Executive Assistant",
          "Business Development Executive",
          "Executive, Planning & Delivery",
          "Waitress",
          "No Designation",
          "Training Coordinator",
          "No Designation",
          "People Ops Specialist - APAC",
          "Manager",
          "Bank Executive",
          "HR & Admin",
          "HR & Admin Manager",
          "HR Assistant",
          "Finance Officer",
          "Human Resource Director",
          "Officer",
          "Manager",
          "No Designation",
          "No Designation",
          "Accounts Executive",
          "Admin Assistant",
          "Snr Admin Executive",
          "No Designation",
          "Senior Recruitment Manager",
          "HR Assistant",
          "No Designation",
          "No Designation",
          "Assistant Vice-President",
          "No Designation",
          "HR Executive",
          "Admin Assistant",
          "Purchasing Executive",
          "HR Executive",
          "Admin Manager",
          "HR Officer",
          "No Designation",
          "Senior HR",
          "No Designation",
          "HR Executive",
          "Sales & Operation Executive",
          "Business Manager",
          "Assistant Director, Human Resources",
          "HR Specialist",
          "Executive, HR",
          "No Designation",
          "Snr Associate, Client Services",
          "Admin Assistant",
          "Admin Assistant",
          "HR Section Manager",
          "HR Executive",
          "Assistant Executive (Payroll)",
          "HR Analyst",
          "Administrative Executive",
          "HR Executive",
          "HR Executive",
          "HR/Admin",
          "HR Manager",
          "Labour Admin Executive",
          "HR Executive",
          "Secretary",
          "Executive",
          "HR & Admin Officer",
          "HR Executive",
          "HR Payroll Analyst",
          "No Designation",
          "No Designation",
          "Senior Executive",
          "PR Officer",
          "Confidential Assistant",
          "HR Manager",
          "No Designation",
          "HR Executive",
          "Recruitment Consultant",
          "Regional Recruiter",
          "Assistant Manager, Human Resources",
          "No Designation",
          "Manager, Leadership & Coaching",
          "HR Executive",
          "Executive, Student Care Services",
          "No Designation",
          "Admin Assistant",
          "Executive, Corporate Services",
          "Assistant Manager, HR Operations",
          "Clerk",
          "Manager (Engagement)",
          "Senior Vice President, Gaming Division",
          "Associate, HR & Payroll",
          "Senior Manager",
          "HR Manager",
          "Head of HR",
          "Academy Program Coordinator",
          "HR Administrator",
          "Device Engineer",
          "HR Assistant",
          "Manager",
          "IT Developer",
          "No Designation",
          "Sr HR Associate",
          "Executive",
          "Admin & HR Executive",
          "Executive, Human Capital",
          "No Designation",
          "Admin Executive",
          "Human Resource Officer",
          "Senior Manager",
          "HR Assistant",
          "Human Resource & Admin Manager",
          "HR Assistant",
          "Admin Asst",
          "Service Crew",
          "Payroll",
          "No Designation",
          "Accounts cum HR Executive",
          "Head, Registry & Corp Admin",
          "Administrative Assistant",
          "Receptionist",
          "HR Supervisor",
          "HR Executive",
          "Secretary",
          "Consultant",
          "N.A.",
          "Consultant",
          "HR Executive",
          "No Designation",
          "No Designation",
          "Account Senior",
          "Editor",
          "No Designation",
          "Admin & HR Assistant",
          "Human Resource Assistant",
          "Senior Administrative Executive",
          "Officer, Administration and Operations",
          "Journey Management Team Lead",
          "Admin Officer",
          "HR Support / Office Manager",
          "Senior HR Executive",
          "HR Administrator",
          "PR Executive",
          "HR Executive",
          "Snr Client Service Executive",
          "Recruitment Consultant",
          "HR Associate, Southeast Asia",
          "Admin Assistant",
          "Senior Executive, Human Resource",
          "N.A.",
          "Manager",
          "Teacher",
          "Admin cum Payroll Officer",
          "No Designation",
          "Accountant",
          "Human Resource Executive",
          "Operation Executive",
          "Admin Support Assistance",
          "Executive",
          "Account Manager",
          "Center Administrator",
          "Senior Analyst, Compensation & Benefits",
          "Corporate Service Executive",
          "Operations Executive",
          "HR Executive",
          "Relationship and Marketing Executive",
          "Secretary",
          "Business Support Manager, APAC",
          "HR Officer",
          "No Designation",
          "HR & Admin",
          "HR Manager",
          "No Designation",
          "Senior HR Executive",
          "APAC HR Specialist",
          "Admin Executive",
          "Senior HR Officer",
          "Associate, HR & General Affairs",
          "HR Manager",
          "Snr HR Executive",
          "No Designation",
          "Admin Assistant",
          "Admin Supervisor",
          "HR Executive",
          "HR Administrator",
          "No Designation",
          "HR Assistant",
          "Audit Associate",
          "Business Development Executive",
          "Rooms Division Manager",
          "Snr Executive, Accounts",
          "No Designation",
          "No Designation",
          "Senior Human Resource Executive",
          "Senior Manager",
          "Lecturer",
          "Staff Nurse",
          "Admin Support Executive",
          "Secretary",
          "Snr Accounts Officer",
          "HR Executive",
          "No Designation",
          "HR Intern",
          "Team Assistant",
          "Flight Stewardess",
          "Payroll Specialist",
          "No Designation",
          "ASSISTANT HR MANAGER",
          "Human Reosurce Executive",
          "Administrator",
          "Assistant Admin Manager",
          "Office Dept Head",
          "Admin Officer",
          "Management Associate"
         ],
         "yaxis": "y"
        }
       ],
       "layout": {
        "barmode": "relative",
        "legend": {
         "tracegroupgap": 0
        },
        "template": {
         "data": {
          "bar": [
           {
            "error_x": {
             "color": "#2a3f5f"
            },
            "error_y": {
             "color": "#2a3f5f"
            },
            "marker": {
             "line": {
              "color": "#E5ECF6",
              "width": 0.5
             },
             "pattern": {
              "fillmode": "overlay",
              "size": 10,
              "solidity": 0.2
             }
            },
            "type": "bar"
           }
          ],
          "barpolar": [
           {
            "marker": {
             "line": {
              "color": "#E5ECF6",
              "width": 0.5
             },
             "pattern": {
              "fillmode": "overlay",
              "size": 10,
              "solidity": 0.2
             }
            },
            "type": "barpolar"
           }
          ],
          "carpet": [
           {
            "aaxis": {
             "endlinecolor": "#2a3f5f",
             "gridcolor": "white",
             "linecolor": "white",
             "minorgridcolor": "white",
             "startlinecolor": "#2a3f5f"
            },
            "baxis": {
             "endlinecolor": "#2a3f5f",
             "gridcolor": "white",
             "linecolor": "white",
             "minorgridcolor": "white",
             "startlinecolor": "#2a3f5f"
            },
            "type": "carpet"
           }
          ],
          "choropleth": [
           {
            "colorbar": {
             "outlinewidth": 0,
             "ticks": ""
            },
            "type": "choropleth"
           }
          ],
          "contour": [
           {
            "colorbar": {
             "outlinewidth": 0,
             "ticks": ""
            },
            "colorscale": [
             [
              0,
              "#0d0887"
             ],
             [
              0.1111111111111111,
              "#46039f"
             ],
             [
              0.2222222222222222,
              "#7201a8"
             ],
             [
              0.3333333333333333,
              "#9c179e"
             ],
             [
              0.4444444444444444,
              "#bd3786"
             ],
             [
              0.5555555555555556,
              "#d8576b"
             ],
             [
              0.6666666666666666,
              "#ed7953"
             ],
             [
              0.7777777777777778,
              "#fb9f3a"
             ],
             [
              0.8888888888888888,
              "#fdca26"
             ],
             [
              1,
              "#f0f921"
             ]
            ],
            "type": "contour"
           }
          ],
          "contourcarpet": [
           {
            "colorbar": {
             "outlinewidth": 0,
             "ticks": ""
            },
            "type": "contourcarpet"
           }
          ],
          "heatmap": [
           {
            "colorbar": {
             "outlinewidth": 0,
             "ticks": ""
            },
            "colorscale": [
             [
              0,
              "#0d0887"
             ],
             [
              0.1111111111111111,
              "#46039f"
             ],
             [
              0.2222222222222222,
              "#7201a8"
             ],
             [
              0.3333333333333333,
              "#9c179e"
             ],
             [
              0.4444444444444444,
              "#bd3786"
             ],
             [
              0.5555555555555556,
              "#d8576b"
             ],
             [
              0.6666666666666666,
              "#ed7953"
             ],
             [
              0.7777777777777778,
              "#fb9f3a"
             ],
             [
              0.8888888888888888,
              "#fdca26"
             ],
             [
              1,
              "#f0f921"
             ]
            ],
            "type": "heatmap"
           }
          ],
          "heatmapgl": [
           {
            "colorbar": {
             "outlinewidth": 0,
             "ticks": ""
            },
            "colorscale": [
             [
              0,
              "#0d0887"
             ],
             [
              0.1111111111111111,
              "#46039f"
             ],
             [
              0.2222222222222222,
              "#7201a8"
             ],
             [
              0.3333333333333333,
              "#9c179e"
             ],
             [
              0.4444444444444444,
              "#bd3786"
             ],
             [
              0.5555555555555556,
              "#d8576b"
             ],
             [
              0.6666666666666666,
              "#ed7953"
             ],
             [
              0.7777777777777778,
              "#fb9f3a"
             ],
             [
              0.8888888888888888,
              "#fdca26"
             ],
             [
              1,
              "#f0f921"
             ]
            ],
            "type": "heatmapgl"
           }
          ],
          "histogram": [
           {
            "marker": {
             "pattern": {
              "fillmode": "overlay",
              "size": 10,
              "solidity": 0.2
             }
            },
            "type": "histogram"
           }
          ],
          "histogram2d": [
           {
            "colorbar": {
             "outlinewidth": 0,
             "ticks": ""
            },
            "colorscale": [
             [
              0,
              "#0d0887"
             ],
             [
              0.1111111111111111,
              "#46039f"
             ],
             [
              0.2222222222222222,
              "#7201a8"
             ],
             [
              0.3333333333333333,
              "#9c179e"
             ],
             [
              0.4444444444444444,
              "#bd3786"
             ],
             [
              0.5555555555555556,
              "#d8576b"
             ],
             [
              0.6666666666666666,
              "#ed7953"
             ],
             [
              0.7777777777777778,
              "#fb9f3a"
             ],
             [
              0.8888888888888888,
              "#fdca26"
             ],
             [
              1,
              "#f0f921"
             ]
            ],
            "type": "histogram2d"
           }
          ],
          "histogram2dcontour": [
           {
            "colorbar": {
             "outlinewidth": 0,
             "ticks": ""
            },
            "colorscale": [
             [
              0,
              "#0d0887"
             ],
             [
              0.1111111111111111,
              "#46039f"
             ],
             [
              0.2222222222222222,
              "#7201a8"
             ],
             [
              0.3333333333333333,
              "#9c179e"
             ],
             [
              0.4444444444444444,
              "#bd3786"
             ],
             [
              0.5555555555555556,
              "#d8576b"
             ],
             [
              0.6666666666666666,
              "#ed7953"
             ],
             [
              0.7777777777777778,
              "#fb9f3a"
             ],
             [
              0.8888888888888888,
              "#fdca26"
             ],
             [
              1,
              "#f0f921"
             ]
            ],
            "type": "histogram2dcontour"
           }
          ],
          "mesh3d": [
           {
            "colorbar": {
             "outlinewidth": 0,
             "ticks": ""
            },
            "type": "mesh3d"
           }
          ],
          "parcoords": [
           {
            "line": {
             "colorbar": {
              "outlinewidth": 0,
              "ticks": ""
             }
            },
            "type": "parcoords"
           }
          ],
          "pie": [
           {
            "automargin": true,
            "type": "pie"
           }
          ],
          "scatter": [
           {
            "fillpattern": {
             "fillmode": "overlay",
             "size": 10,
             "solidity": 0.2
            },
            "type": "scatter"
           }
          ],
          "scatter3d": [
           {
            "line": {
             "colorbar": {
              "outlinewidth": 0,
              "ticks": ""
             }
            },
            "marker": {
             "colorbar": {
              "outlinewidth": 0,
              "ticks": ""
             }
            },
            "type": "scatter3d"
           }
          ],
          "scattercarpet": [
           {
            "marker": {
             "colorbar": {
              "outlinewidth": 0,
              "ticks": ""
             }
            },
            "type": "scattercarpet"
           }
          ],
          "scattergeo": [
           {
            "marker": {
             "colorbar": {
              "outlinewidth": 0,
              "ticks": ""
             }
            },
            "type": "scattergeo"
           }
          ],
          "scattergl": [
           {
            "marker": {
             "colorbar": {
              "outlinewidth": 0,
              "ticks": ""
             }
            },
            "type": "scattergl"
           }
          ],
          "scattermapbox": [
           {
            "marker": {
             "colorbar": {
              "outlinewidth": 0,
              "ticks": ""
             }
            },
            "type": "scattermapbox"
           }
          ],
          "scatterpolar": [
           {
            "marker": {
             "colorbar": {
              "outlinewidth": 0,
              "ticks": ""
             }
            },
            "type": "scatterpolar"
           }
          ],
          "scatterpolargl": [
           {
            "marker": {
             "colorbar": {
              "outlinewidth": 0,
              "ticks": ""
             }
            },
            "type": "scatterpolargl"
           }
          ],
          "scatterternary": [
           {
            "marker": {
             "colorbar": {
              "outlinewidth": 0,
              "ticks": ""
             }
            },
            "type": "scatterternary"
           }
          ],
          "surface": [
           {
            "colorbar": {
             "outlinewidth": 0,
             "ticks": ""
            },
            "colorscale": [
             [
              0,
              "#0d0887"
             ],
             [
              0.1111111111111111,
              "#46039f"
             ],
             [
              0.2222222222222222,
              "#7201a8"
             ],
             [
              0.3333333333333333,
              "#9c179e"
             ],
             [
              0.4444444444444444,
              "#bd3786"
             ],
             [
              0.5555555555555556,
              "#d8576b"
             ],
             [
              0.6666666666666666,
              "#ed7953"
             ],
             [
              0.7777777777777778,
              "#fb9f3a"
             ],
             [
              0.8888888888888888,
              "#fdca26"
             ],
             [
              1,
              "#f0f921"
             ]
            ],
            "type": "surface"
           }
          ],
          "table": [
           {
            "cells": {
             "fill": {
              "color": "#EBF0F8"
             },
             "line": {
              "color": "white"
             }
            },
            "header": {
             "fill": {
              "color": "#C8D4E3"
             },
             "line": {
              "color": "white"
             }
            },
            "type": "table"
           }
          ]
         },
         "layout": {
          "annotationdefaults": {
           "arrowcolor": "#2a3f5f",
           "arrowhead": 0,
           "arrowwidth": 1
          },
          "autotypenumbers": "strict",
          "coloraxis": {
           "colorbar": {
            "outlinewidth": 0,
            "ticks": ""
           }
          },
          "colorscale": {
           "diverging": [
            [
             0,
             "#8e0152"
            ],
            [
             0.1,
             "#c51b7d"
            ],
            [
             0.2,
             "#de77ae"
            ],
            [
             0.3,
             "#f1b6da"
            ],
            [
             0.4,
             "#fde0ef"
            ],
            [
             0.5,
             "#f7f7f7"
            ],
            [
             0.6,
             "#e6f5d0"
            ],
            [
             0.7,
             "#b8e186"
            ],
            [
             0.8,
             "#7fbc41"
            ],
            [
             0.9,
             "#4d9221"
            ],
            [
             1,
             "#276419"
            ]
           ],
           "sequential": [
            [
             0,
             "#0d0887"
            ],
            [
             0.1111111111111111,
             "#46039f"
            ],
            [
             0.2222222222222222,
             "#7201a8"
            ],
            [
             0.3333333333333333,
             "#9c179e"
            ],
            [
             0.4444444444444444,
             "#bd3786"
            ],
            [
             0.5555555555555556,
             "#d8576b"
            ],
            [
             0.6666666666666666,
             "#ed7953"
            ],
            [
             0.7777777777777778,
             "#fb9f3a"
            ],
            [
             0.8888888888888888,
             "#fdca26"
            ],
            [
             1,
             "#f0f921"
            ]
           ],
           "sequentialminus": [
            [
             0,
             "#0d0887"
            ],
            [
             0.1111111111111111,
             "#46039f"
            ],
            [
             0.2222222222222222,
             "#7201a8"
            ],
            [
             0.3333333333333333,
             "#9c179e"
            ],
            [
             0.4444444444444444,
             "#bd3786"
            ],
            [
             0.5555555555555556,
             "#d8576b"
            ],
            [
             0.6666666666666666,
             "#ed7953"
            ],
            [
             0.7777777777777778,
             "#fb9f3a"
            ],
            [
             0.8888888888888888,
             "#fdca26"
            ],
            [
             1,
             "#f0f921"
            ]
           ]
          },
          "colorway": [
           "#636efa",
           "#EF553B",
           "#00cc96",
           "#ab63fa",
           "#FFA15A",
           "#19d3f3",
           "#FF6692",
           "#B6E880",
           "#FF97FF",
           "#FECB52"
          ],
          "font": {
           "color": "#2a3f5f"
          },
          "geo": {
           "bgcolor": "white",
           "lakecolor": "white",
           "landcolor": "#E5ECF6",
           "showlakes": true,
           "showland": true,
           "subunitcolor": "white"
          },
          "hoverlabel": {
           "align": "left"
          },
          "hovermode": "closest",
          "mapbox": {
           "style": "light"
          },
          "paper_bgcolor": "white",
          "plot_bgcolor": "#E5ECF6",
          "polar": {
           "angularaxis": {
            "gridcolor": "white",
            "linecolor": "white",
            "ticks": ""
           },
           "bgcolor": "#E5ECF6",
           "radialaxis": {
            "gridcolor": "white",
            "linecolor": "white",
            "ticks": ""
           }
          },
          "scene": {
           "xaxis": {
            "backgroundcolor": "#E5ECF6",
            "gridcolor": "white",
            "gridwidth": 2,
            "linecolor": "white",
            "showbackground": true,
            "ticks": "",
            "zerolinecolor": "white"
           },
           "yaxis": {
            "backgroundcolor": "#E5ECF6",
            "gridcolor": "white",
            "gridwidth": 2,
            "linecolor": "white",
            "showbackground": true,
            "ticks": "",
            "zerolinecolor": "white"
           },
           "zaxis": {
            "backgroundcolor": "#E5ECF6",
            "gridcolor": "white",
            "gridwidth": 2,
            "linecolor": "white",
            "showbackground": true,
            "ticks": "",
            "zerolinecolor": "white"
           }
          },
          "shapedefaults": {
           "line": {
            "color": "#2a3f5f"
           }
          },
          "ternary": {
           "aaxis": {
            "gridcolor": "white",
            "linecolor": "white",
            "ticks": ""
           },
           "baxis": {
            "gridcolor": "white",
            "linecolor": "white",
            "ticks": ""
           },
           "bgcolor": "#E5ECF6",
           "caxis": {
            "gridcolor": "white",
            "linecolor": "white",
            "ticks": ""
           }
          },
          "title": {
           "x": 0.05
          },
          "xaxis": {
           "automargin": true,
           "gridcolor": "white",
           "linecolor": "white",
           "ticks": "",
           "title": {
            "standoff": 15
           },
           "zerolinecolor": "white",
           "zerolinewidth": 2
          },
          "yaxis": {
           "automargin": true,
           "gridcolor": "white",
           "linecolor": "white",
           "ticks": "",
           "title": {
            "standoff": 15
           },
           "zerolinecolor": "white",
           "zerolinewidth": 2
          }
         }
        },
        "title": {
         "text": "Designation Distribution"
        },
        "xaxis": {
         "anchor": "y",
         "domain": [
          0,
          1
         ],
         "title": {
          "text": "count"
         }
        },
        "yaxis": {
         "anchor": "x",
         "domain": [
          0,
          1
         ],
         "title": {
          "text": "DESIGNATION"
         }
        }
       }
      }
     },
     "metadata": {},
     "output_type": "display_data"
    }
   ],
   "source": [
    "import plotly.express as px\n",
    "\n",
    "# 1. Gender Distribution\n",
    "gender_dist = px.bar(data, x='GENDER', title='Gender Distribution')\n",
    "\n",
    "# 2. Age Distribution\n",
    "age_dist = px.histogram(data, x='Age', title='Age Distribution')\n",
    "\n",
    "# 3. Highest Qualification Distribution\n",
    "qualification_dist = px.pie(data, names='HIGHEST QUALIFICATION', title='Highest Qualification Distribution')\n",
    "\n",
    "# 4. Course Intake Over Time\n",
    "intake_over_time = px.line(data, x='INTAKE NO', y='STUDENT ID', title='Course Intake Over Time', markers=True)\n",
    "\n",
    "# 5. Nationality Breakdown\n",
    "nationality_breakdown = px.bar(data, x='NATIONALITY', title='Nationality Breakdown')\n",
    "\n",
    "# 6. GPA Distribution\n",
    "gpa_dist = px.histogram(data, x='GPA', title='GPA Distribution')\n",
    "\n",
    "# 7. Course Fee vs GPA\n",
    "course_fee_vs_gpa = px.scatter(data, x='COURSE FEE', y='GPA', title='Course Fee vs GPA')\n",
    "\n",
    "# 8. Age vs GPA\n",
    "age_vs_gpa = px.scatter(data, x='Age', y='GPA', title='Age vs GPA')\n",
    "\n",
    "# 9. Funding Type Distribution\n",
    "funding_type_dist = px.bar(data, x='COURSE FUNDING', title='Funding Type Distribution')\n",
    "\n",
    "# 10. Designation Distribution\n",
    "designation_dist = px.bar(data, y='DESIGNATION', title='Designation Distribution')\n",
    "\n",
    "# Display the plots\n",
    "gender_dist.show()\n",
    "age_dist.show()\n",
    "qualification_dist.show()\n",
    "intake_over_time.show()\n",
    "nationality_breakdown.show()\n",
    "gpa_dist.show()\n",
    "course_fee_vs_gpa.show()\n",
    "age_vs_gpa.show()\n",
    "funding_type_dist.show()\n",
    "designation_dist.show()\n"
   ]
  },
  {
   "cell_type": "code",
   "execution_count": 35,
   "metadata": {},
   "outputs": [
    {
     "data": {
      "application/vnd.plotly.v1+json": {
       "config": {
        "plotlyServerURL": "https://plot.ly"
       },
       "data": [
        {
         "hovertemplate": "<b>%{hovertext}</b><br><br>GENDER=F<br>Age=%{x}<br>GPA=%{y}<br>COURSE FEE=%{marker.size}<extra></extra>",
         "hovertext": [
          "Household Goods Coordinator",
          "Admin Executive",
          "Administrator",
          "No Designation",
          "No Designation",
          "HR Assistant",
          "Executive, Administration",
          "Admin & Finance Executive",
          "Senior Vice President, Gaming Division",
          "HR Executive",
          "Admin Assistant",
          "Assistant Manager Americas",
          "No Designation",
          "No Designation",
          "No Designation",
          "Assistant Manager (Admin Support)",
          "Accounts Executive",
          "Team Lead, Payroll & Billing",
          "Senior Assistant (Tenant Administration)",
          "HR & Operations Manager, South East Asia",
          "Snr HR Executive",
          "Senior HR Executive",
          "Senior Eexcutive",
          "Talent Acquisition Specialist",
          "Admin Assistant",
          "Client Accountant",
          "Human Resource Administrator",
          "HR & Admin Officer",
          "HRM",
          "Office Manager",
          "Executive Assistant",
          "Business Development Executive",
          "Executive, Planning & Delivery",
          "Waitress",
          "No Designation",
          "Training Coordinator",
          "No Designation",
          "People Ops Specialist - APAC",
          "Manager",
          "HR & Admin",
          "HR & Admin Manager",
          "HR Assistant",
          "Finance Officer",
          "Human Resource Director",
          "Officer",
          "No Designation",
          "No Designation",
          "Accounts Executive",
          "Admin Assistant",
          "Snr Admin Executive",
          "No Designation",
          "HR Assistant",
          "No Designation",
          "No Designation",
          "No Designation",
          "HR Executive",
          "Admin Assistant",
          "Purchasing Executive",
          "HR Executive",
          "Admin Manager",
          "HR Officer",
          "No Designation",
          "Senior HR",
          "No Designation",
          "HR Executive",
          "Sales & Operation Executive",
          "Business Manager",
          "Assistant Director, Human Resources",
          "HR Specialist",
          "Executive, HR",
          "No Designation",
          "Snr Associate, Client Services",
          "Admin Assistant",
          "Admin Assistant",
          "HR Section Manager",
          "HR Executive",
          "Assistant Executive (Payroll)",
          "HR Analyst",
          "Administrative Executive",
          "HR Executive",
          "HR Executive",
          "HR/Admin",
          "HR Manager",
          "Labour Admin Executive",
          "HR Executive",
          "Secretary",
          "Executive",
          "HR & Admin Officer",
          "HR Payroll Analyst",
          "No Designation",
          "No Designation",
          "Senior Executive",
          "PR Officer",
          "Confidential Assistant",
          "HR Manager",
          "No Designation",
          "HR Executive",
          "Regional Recruiter",
          "No Designation",
          "Manager, Leadership & Coaching",
          "HR Executive",
          "Executive, Student Care Services",
          "No Designation",
          "Admin Assistant",
          "Executive, Corporate Services",
          "Assistant Manager, HR Operations",
          "Clerk",
          "Manager (Engagement)",
          "Senior Vice President, Gaming Division",
          "Associate, HR & Payroll",
          "Senior Manager",
          "HR Manager",
          "Academy Program Coordinator",
          "HR Administrator",
          "Device Engineer",
          "HR Assistant",
          "IT Developer",
          "No Designation",
          "Sr HR Associate",
          "Executive",
          "Admin & HR Executive",
          "Executive, Human Capital",
          "No Designation",
          "Admin Executive",
          "Human Resource Officer",
          "HR Assistant",
          "Human Resource & Admin Manager",
          "HR Assistant",
          "Admin Asst",
          "Payroll",
          "No Designation",
          "Accounts cum HR Executive",
          "Head, Registry & Corp Admin",
          "Administrative Assistant",
          "Receptionist",
          "HR Supervisor",
          "HR Executive",
          "Secretary",
          "Consultant",
          "No Designation",
          "No Designation",
          "Account Senior",
          "Editor",
          "No Designation",
          "Admin & HR Assistant",
          "Human Resource Assistant",
          "Senior Administrative Executive",
          "Journey Management Team Lead",
          "Admin Officer",
          "HR Support / Office Manager",
          "Senior HR Executive",
          "HR Administrator",
          "PR Executive",
          "HR Executive",
          "Snr Client Service Executive",
          "Recruitment Consultant",
          "HR Associate, Southeast Asia",
          "Admin Assistant",
          "N.A.",
          "Manager",
          "Admin cum Payroll Officer",
          "No Designation",
          "Accountant",
          "Human Resource Executive",
          "Operation Executive",
          "Executive",
          "Account Manager",
          "Center Administrator",
          "Corporate Service Executive",
          "HR Executive",
          "Relationship and Marketing Executive",
          "Secretary",
          "Business Support Manager, APAC",
          "HR Officer",
          "No Designation",
          "HR & Admin",
          "HR Manager",
          "No Designation",
          "Senior HR Executive",
          "APAC HR Specialist",
          "Admin Executive",
          "Senior HR Officer",
          "Associate, HR & General Affairs",
          "HR Manager",
          "Snr HR Executive",
          "No Designation",
          "Admin Assistant",
          "Admin Supervisor",
          "HR Executive",
          "HR Administrator",
          "HR Assistant",
          "Business Development Executive",
          "Rooms Division Manager",
          "Snr Executive, Accounts",
          "No Designation",
          "No Designation",
          "Senior Human Resource Executive",
          "Staff Nurse",
          "Admin Support Executive",
          "Secretary",
          "Snr Accounts Officer",
          "HR Executive",
          "No Designation",
          "HR Intern",
          "Team Assistant",
          "Flight Stewardess",
          "Payroll Specialist",
          "No Designation",
          "ASSISTANT HR MANAGER",
          "Human Reosurce Executive",
          "Administrator",
          "Assistant Admin Manager",
          "Office Dept Head",
          "Admin Officer",
          "Management Associate"
         ],
         "legendgroup": "F",
         "marker": {
          "color": "#636efa",
          "size": [
           5803,
           1495,
           1212,
           2996,
           1712,
           5803,
           1604,
           1604,
           2996,
           1308,
           1712,
           5803,
           1712,
           1388,
           1388,
           1495,
           1388,
           1388,
           1712,
           5803,
           1495,
           5803,
           1388,
           5803,
           1712,
           1388,
           1388,
           1388,
           1388,
           1712,
           1712,
           1712,
           1712,
           1388,
           1388,
           1388,
           2496,
           1388,
           2996,
           1495,
           1495,
           1495,
           5803,
           5803,
           1388,
           1388,
           1388,
           888,
           1712,
           1415,
           1308,
           1388,
           1388,
           1415,
           1712,
           2996,
           1712,
           1712,
           1604,
           5803,
           1415,
           1712,
           1388,
           1712,
           5803,
           2696,
           5803,
           5803,
           5803,
           5803,
           1388,
           1712,
           1712,
           1212,
           5803,
           5803,
           1388,
           5803,
           1604,
           2996,
           1604,
           1388,
           2696,
           1388,
           1388,
           1712,
           1996,
           888,
           1388,
           1388,
           1495,
           1388,
           2996,
           5803,
           1415,
           1495,
           5803,
           5803,
           1388,
           5803,
           1388,
           1415,
           1388,
           2696,
           1496,
           5803,
           1712,
           1996,
           1495,
           1495,
           1388,
           1388,
           5803,
           1212,
           1388,
           1388,
           5803,
           1388,
           5803,
           1388,
           1604,
           5803,
           1388,
           2996,
           1388,
           2996,
           5803,
           5803,
           1388,
           1388,
           1495,
           1712,
           5803,
           2996,
           1495,
           1388,
           1712,
           1712,
           1388,
           1388,
           1415,
           1388,
           1388,
           1712,
           1712,
           1604,
           1388,
           5803,
           1712,
           1712,
           5803,
           2696,
           1712,
           1308,
           1496,
           1388,
           1604,
           2996,
           5803,
           5803,
           1388,
           2996,
           1308,
           5803,
           1604,
           2996,
           1388,
           1495,
           1495,
           2996,
           1712,
           1712,
           2996,
           5803,
           1495,
           1712,
           5803,
           888,
           1388,
           2696,
           2496,
           1212,
           1996,
           5803,
           1415,
           1712,
           1604,
           5803,
           1495,
           2996,
           1604,
           2996,
           1712,
           1415,
           1388,
           2996,
           5803,
           1388,
           1388,
           1388,
           1415,
           1388,
           1388,
           1996,
           2696,
           5803,
           1308,
           1712,
           5803,
           1388,
           888,
           5803,
           1388,
           1388,
           5803
          ],
          "sizemode": "area",
          "sizeref": 1.6119444444444444,
          "symbol": "circle"
         },
         "mode": "markers",
         "name": "F",
         "orientation": "v",
         "showlegend": true,
         "type": "scatter",
         "x": [
          42,
          61,
          55,
          22,
          44,
          34,
          40,
          44,
          56,
          30,
          48,
          38,
          34,
          54,
          47,
          50,
          36,
          40,
          40,
          51,
          59,
          46,
          33,
          31,
          29,
          32,
          39,
          39,
          34,
          51,
          54,
          32,
          34,
          32,
          44,
          45,
          36,
          42,
          39,
          43,
          40,
          30,
          41,
          54,
          41,
          41,
          57,
          34,
          44,
          53,
          41,
          37,
          40,
          51,
          48,
          38,
          37,
          39,
          43,
          50,
          31,
          33,
          39,
          51,
          40,
          40,
          42,
          41,
          41,
          27,
          52,
          46,
          36,
          32,
          44,
          40,
          30,
          30,
          35,
          44,
          36,
          46,
          43,
          40,
          30,
          50,
          37,
          42,
          41,
          36,
          56,
          59,
          25,
          50,
          53,
          40,
          39,
          32,
          30,
          38,
          40,
          35,
          38,
          28,
          54,
          40,
          31,
          40,
          56,
          40,
          50,
          46,
          35,
          32,
          31,
          40,
          31,
          34,
          35,
          31,
          28,
          31,
          33,
          24,
          37,
          36,
          40,
          33,
          24,
          45,
          47,
          40,
          51,
          31,
          25,
          32,
          48,
          27,
          31,
          51,
          45,
          32,
          37,
          41,
          42,
          34,
          50,
          42,
          58,
          48,
          41,
          29,
          30,
          31,
          35,
          30,
          29,
          48,
          40,
          33,
          35,
          25,
          40,
          48,
          40,
          45,
          42,
          40,
          40,
          37,
          38,
          44,
          50,
          33,
          50,
          36,
          38,
          42,
          36,
          31,
          36,
          46,
          30,
          41,
          59,
          46,
          55,
          35,
          43,
          31,
          29,
          37,
          44,
          47,
          44,
          32,
          31,
          32,
          54,
          63,
          50,
          31,
          31,
          22,
          35,
          35,
          35,
          35,
          42,
          33,
          55,
          53,
          46,
          32,
          25
         ],
         "xaxis": "x",
         "y": [
          1.9,
          2.6,
          1.8,
          2.8,
          2.7,
          2.8,
          2.2,
          1.7,
          2.4,
          1.5,
          1.8,
          3.1,
          3.1,
          3,
          2.8,
          1.7,
          3.1,
          2.5,
          1.7,
          2.3,
          2.8,
          2.9,
          1.5,
          2.5,
          3.1,
          3.1,
          3.1,
          2.2,
          1.6,
          1.9,
          3.1,
          2.3,
          2.8,
          2.3,
          2.8,
          1.9,
          1.9,
          2.5,
          3.1,
          3,
          2.2,
          2.5,
          2,
          2.2,
          2.2,
          3.1,
          2,
          2.5,
          3.1,
          2.3,
          2.6,
          2.2,
          2.5,
          3.4,
          3.1,
          3.1,
          3.1,
          2.4,
          1.8,
          2.9,
          2.2,
          3.1,
          2.2,
          2.9,
          1.7,
          2.4,
          2.3,
          2.9,
          3.2,
          2.1,
          2.9,
          3,
          2,
          3,
          3,
          2,
          1.7,
          1.6,
          1.8,
          2.9,
          3,
          2.8,
          3.3,
          3.2,
          2.9,
          2.2,
          2.5,
          2.9,
          3.4,
          3.3,
          2.2,
          3.1,
          3.2,
          2.9,
          1.9,
          2.8,
          2.3,
          3,
          2.2,
          2.8,
          2.3,
          2,
          1.8,
          2.4,
          3,
          1.7,
          3,
          1.5,
          3,
          1.6,
          1.8,
          2.8,
          1.5,
          2.5,
          2.9,
          1.9,
          3.4,
          2.8,
          2.1,
          3.3,
          3.2,
          2.8,
          1.9,
          3.3,
          2.4,
          3,
          2.9,
          3.4,
          3.1,
          2.9,
          3,
          2.6,
          2.9,
          3.4,
          2.4,
          2.5,
          2.5,
          2.2,
          3.9,
          3.3,
          3.1,
          2.4,
          2.8,
          3.3,
          3.2,
          3.7,
          3.2,
          2.6,
          2.5,
          3.6,
          2.8,
          3.9,
          3,
          2.8,
          3.3,
          2.3,
          3.4,
          2.8,
          2.6,
          2.3,
          3.7,
          3,
          3.9,
          3,
          2.9,
          3,
          3,
          3.9,
          3.7,
          3.5,
          3.5,
          3,
          3.4,
          2.2,
          2.9,
          3,
          2.2,
          3.1,
          2.6,
          2.8,
          3.3,
          3.7,
          3.4,
          2.8,
          3.5,
          2.2,
          3.3,
          3.2,
          3.2,
          3,
          3,
          3.9,
          2.9,
          3.2,
          2.8,
          2.4,
          3.7,
          3.8,
          2.6,
          2.6,
          3.8,
          2.8,
          3.6,
          3.3,
          3,
          3.1,
          3.1,
          4,
          3.8,
          3.8,
          3.3,
          3.6,
          3.7,
          3.1,
          4
         ],
         "yaxis": "y"
        },
        {
         "hovertemplate": "<b>%{hovertext}</b><br><br>GENDER=M<br>Age=%{x}<br>GPA=%{y}<br>COURSE FEE=%{marker.size}<extra></extra>",
         "hovertext": [
          "HR Executive (TA Operations)",
          "Helpdesk Manager",
          "HR Executive",
          "Early Childhood Support Office",
          "Manager",
          "Bank Executive",
          "Manager",
          "Senior Recruitment Manager",
          "Assistant Vice-President",
          "HR Executive",
          "Recruitment Consultant",
          "Assistant Manager, Human Resources",
          "Head of HR",
          "Manager",
          "Senior Manager",
          "Service Crew",
          "N.A.",
          "Consultant",
          "HR Executive",
          "Officer, Administration and Operations",
          "Senior Executive, Human Resource",
          "Teacher",
          "Admin Support Assistance",
          "Senior Analyst, Compensation & Benefits",
          "Operations Executive",
          "No Designation",
          "Audit Associate",
          "Senior Manager",
          "Lecturer"
         ],
         "legendgroup": "M",
         "marker": {
          "color": "#EF553B",
          "size": [
           2996,
           5803,
           5803,
           1712,
           1712,
           5803,
           5803,
           5803,
           5803,
           1308,
           5803,
           888,
           5803,
           1495,
           1388,
           2996,
           5803,
           5803,
           1495,
           888,
           5803,
           5803,
           2996,
           5803,
           1388,
           1495,
           5803,
           5803,
           5803
          ],
          "sizemode": "area",
          "sizeref": 1.6119444444444444,
          "symbol": "circle"
         },
         "mode": "markers",
         "name": "M",
         "orientation": "v",
         "showlegend": true,
         "type": "scatter",
         "x": [
          29,
          46,
          39,
          34,
          46,
          38,
          42,
          38,
          44,
          37,
          32,
          38,
          42,
          42,
          54,
          25,
          41,
          40,
          36,
          36,
          32,
          47,
          26,
          32,
          34,
          28,
          33,
          39,
          45
         ],
         "xaxis": "x",
         "y": [
          3,
          1.8,
          2.7,
          1.8,
          2.1,
          2.8,
          2.4,
          2.8,
          1.8,
          1.7,
          2.8,
          1.5,
          1.9,
          3.4,
          2.5,
          2.7,
          3.2,
          2.6,
          2.8,
          3.1,
          2.2,
          2.8,
          3.7,
          3.4,
          3.1,
          3.4,
          2.9,
          3.2,
          3.7
         ],
         "yaxis": "y"
        }
       ],
       "layout": {
        "legend": {
         "itemsizing": "constant",
         "title": {
          "text": "GENDER"
         },
         "tracegroupgap": 0
        },
        "template": {
         "data": {
          "bar": [
           {
            "error_x": {
             "color": "#2a3f5f"
            },
            "error_y": {
             "color": "#2a3f5f"
            },
            "marker": {
             "line": {
              "color": "#E5ECF6",
              "width": 0.5
             },
             "pattern": {
              "fillmode": "overlay",
              "size": 10,
              "solidity": 0.2
             }
            },
            "type": "bar"
           }
          ],
          "barpolar": [
           {
            "marker": {
             "line": {
              "color": "#E5ECF6",
              "width": 0.5
             },
             "pattern": {
              "fillmode": "overlay",
              "size": 10,
              "solidity": 0.2
             }
            },
            "type": "barpolar"
           }
          ],
          "carpet": [
           {
            "aaxis": {
             "endlinecolor": "#2a3f5f",
             "gridcolor": "white",
             "linecolor": "white",
             "minorgridcolor": "white",
             "startlinecolor": "#2a3f5f"
            },
            "baxis": {
             "endlinecolor": "#2a3f5f",
             "gridcolor": "white",
             "linecolor": "white",
             "minorgridcolor": "white",
             "startlinecolor": "#2a3f5f"
            },
            "type": "carpet"
           }
          ],
          "choropleth": [
           {
            "colorbar": {
             "outlinewidth": 0,
             "ticks": ""
            },
            "type": "choropleth"
           }
          ],
          "contour": [
           {
            "colorbar": {
             "outlinewidth": 0,
             "ticks": ""
            },
            "colorscale": [
             [
              0,
              "#0d0887"
             ],
             [
              0.1111111111111111,
              "#46039f"
             ],
             [
              0.2222222222222222,
              "#7201a8"
             ],
             [
              0.3333333333333333,
              "#9c179e"
             ],
             [
              0.4444444444444444,
              "#bd3786"
             ],
             [
              0.5555555555555556,
              "#d8576b"
             ],
             [
              0.6666666666666666,
              "#ed7953"
             ],
             [
              0.7777777777777778,
              "#fb9f3a"
             ],
             [
              0.8888888888888888,
              "#fdca26"
             ],
             [
              1,
              "#f0f921"
             ]
            ],
            "type": "contour"
           }
          ],
          "contourcarpet": [
           {
            "colorbar": {
             "outlinewidth": 0,
             "ticks": ""
            },
            "type": "contourcarpet"
           }
          ],
          "heatmap": [
           {
            "colorbar": {
             "outlinewidth": 0,
             "ticks": ""
            },
            "colorscale": [
             [
              0,
              "#0d0887"
             ],
             [
              0.1111111111111111,
              "#46039f"
             ],
             [
              0.2222222222222222,
              "#7201a8"
             ],
             [
              0.3333333333333333,
              "#9c179e"
             ],
             [
              0.4444444444444444,
              "#bd3786"
             ],
             [
              0.5555555555555556,
              "#d8576b"
             ],
             [
              0.6666666666666666,
              "#ed7953"
             ],
             [
              0.7777777777777778,
              "#fb9f3a"
             ],
             [
              0.8888888888888888,
              "#fdca26"
             ],
             [
              1,
              "#f0f921"
             ]
            ],
            "type": "heatmap"
           }
          ],
          "heatmapgl": [
           {
            "colorbar": {
             "outlinewidth": 0,
             "ticks": ""
            },
            "colorscale": [
             [
              0,
              "#0d0887"
             ],
             [
              0.1111111111111111,
              "#46039f"
             ],
             [
              0.2222222222222222,
              "#7201a8"
             ],
             [
              0.3333333333333333,
              "#9c179e"
             ],
             [
              0.4444444444444444,
              "#bd3786"
             ],
             [
              0.5555555555555556,
              "#d8576b"
             ],
             [
              0.6666666666666666,
              "#ed7953"
             ],
             [
              0.7777777777777778,
              "#fb9f3a"
             ],
             [
              0.8888888888888888,
              "#fdca26"
             ],
             [
              1,
              "#f0f921"
             ]
            ],
            "type": "heatmapgl"
           }
          ],
          "histogram": [
           {
            "marker": {
             "pattern": {
              "fillmode": "overlay",
              "size": 10,
              "solidity": 0.2
             }
            },
            "type": "histogram"
           }
          ],
          "histogram2d": [
           {
            "colorbar": {
             "outlinewidth": 0,
             "ticks": ""
            },
            "colorscale": [
             [
              0,
              "#0d0887"
             ],
             [
              0.1111111111111111,
              "#46039f"
             ],
             [
              0.2222222222222222,
              "#7201a8"
             ],
             [
              0.3333333333333333,
              "#9c179e"
             ],
             [
              0.4444444444444444,
              "#bd3786"
             ],
             [
              0.5555555555555556,
              "#d8576b"
             ],
             [
              0.6666666666666666,
              "#ed7953"
             ],
             [
              0.7777777777777778,
              "#fb9f3a"
             ],
             [
              0.8888888888888888,
              "#fdca26"
             ],
             [
              1,
              "#f0f921"
             ]
            ],
            "type": "histogram2d"
           }
          ],
          "histogram2dcontour": [
           {
            "colorbar": {
             "outlinewidth": 0,
             "ticks": ""
            },
            "colorscale": [
             [
              0,
              "#0d0887"
             ],
             [
              0.1111111111111111,
              "#46039f"
             ],
             [
              0.2222222222222222,
              "#7201a8"
             ],
             [
              0.3333333333333333,
              "#9c179e"
             ],
             [
              0.4444444444444444,
              "#bd3786"
             ],
             [
              0.5555555555555556,
              "#d8576b"
             ],
             [
              0.6666666666666666,
              "#ed7953"
             ],
             [
              0.7777777777777778,
              "#fb9f3a"
             ],
             [
              0.8888888888888888,
              "#fdca26"
             ],
             [
              1,
              "#f0f921"
             ]
            ],
            "type": "histogram2dcontour"
           }
          ],
          "mesh3d": [
           {
            "colorbar": {
             "outlinewidth": 0,
             "ticks": ""
            },
            "type": "mesh3d"
           }
          ],
          "parcoords": [
           {
            "line": {
             "colorbar": {
              "outlinewidth": 0,
              "ticks": ""
             }
            },
            "type": "parcoords"
           }
          ],
          "pie": [
           {
            "automargin": true,
            "type": "pie"
           }
          ],
          "scatter": [
           {
            "fillpattern": {
             "fillmode": "overlay",
             "size": 10,
             "solidity": 0.2
            },
            "type": "scatter"
           }
          ],
          "scatter3d": [
           {
            "line": {
             "colorbar": {
              "outlinewidth": 0,
              "ticks": ""
             }
            },
            "marker": {
             "colorbar": {
              "outlinewidth": 0,
              "ticks": ""
             }
            },
            "type": "scatter3d"
           }
          ],
          "scattercarpet": [
           {
            "marker": {
             "colorbar": {
              "outlinewidth": 0,
              "ticks": ""
             }
            },
            "type": "scattercarpet"
           }
          ],
          "scattergeo": [
           {
            "marker": {
             "colorbar": {
              "outlinewidth": 0,
              "ticks": ""
             }
            },
            "type": "scattergeo"
           }
          ],
          "scattergl": [
           {
            "marker": {
             "colorbar": {
              "outlinewidth": 0,
              "ticks": ""
             }
            },
            "type": "scattergl"
           }
          ],
          "scattermapbox": [
           {
            "marker": {
             "colorbar": {
              "outlinewidth": 0,
              "ticks": ""
             }
            },
            "type": "scattermapbox"
           }
          ],
          "scatterpolar": [
           {
            "marker": {
             "colorbar": {
              "outlinewidth": 0,
              "ticks": ""
             }
            },
            "type": "scatterpolar"
           }
          ],
          "scatterpolargl": [
           {
            "marker": {
             "colorbar": {
              "outlinewidth": 0,
              "ticks": ""
             }
            },
            "type": "scatterpolargl"
           }
          ],
          "scatterternary": [
           {
            "marker": {
             "colorbar": {
              "outlinewidth": 0,
              "ticks": ""
             }
            },
            "type": "scatterternary"
           }
          ],
          "surface": [
           {
            "colorbar": {
             "outlinewidth": 0,
             "ticks": ""
            },
            "colorscale": [
             [
              0,
              "#0d0887"
             ],
             [
              0.1111111111111111,
              "#46039f"
             ],
             [
              0.2222222222222222,
              "#7201a8"
             ],
             [
              0.3333333333333333,
              "#9c179e"
             ],
             [
              0.4444444444444444,
              "#bd3786"
             ],
             [
              0.5555555555555556,
              "#d8576b"
             ],
             [
              0.6666666666666666,
              "#ed7953"
             ],
             [
              0.7777777777777778,
              "#fb9f3a"
             ],
             [
              0.8888888888888888,
              "#fdca26"
             ],
             [
              1,
              "#f0f921"
             ]
            ],
            "type": "surface"
           }
          ],
          "table": [
           {
            "cells": {
             "fill": {
              "color": "#EBF0F8"
             },
             "line": {
              "color": "white"
             }
            },
            "header": {
             "fill": {
              "color": "#C8D4E3"
             },
             "line": {
              "color": "white"
             }
            },
            "type": "table"
           }
          ]
         },
         "layout": {
          "annotationdefaults": {
           "arrowcolor": "#2a3f5f",
           "arrowhead": 0,
           "arrowwidth": 1
          },
          "autotypenumbers": "strict",
          "coloraxis": {
           "colorbar": {
            "outlinewidth": 0,
            "ticks": ""
           }
          },
          "colorscale": {
           "diverging": [
            [
             0,
             "#8e0152"
            ],
            [
             0.1,
             "#c51b7d"
            ],
            [
             0.2,
             "#de77ae"
            ],
            [
             0.3,
             "#f1b6da"
            ],
            [
             0.4,
             "#fde0ef"
            ],
            [
             0.5,
             "#f7f7f7"
            ],
            [
             0.6,
             "#e6f5d0"
            ],
            [
             0.7,
             "#b8e186"
            ],
            [
             0.8,
             "#7fbc41"
            ],
            [
             0.9,
             "#4d9221"
            ],
            [
             1,
             "#276419"
            ]
           ],
           "sequential": [
            [
             0,
             "#0d0887"
            ],
            [
             0.1111111111111111,
             "#46039f"
            ],
            [
             0.2222222222222222,
             "#7201a8"
            ],
            [
             0.3333333333333333,
             "#9c179e"
            ],
            [
             0.4444444444444444,
             "#bd3786"
            ],
            [
             0.5555555555555556,
             "#d8576b"
            ],
            [
             0.6666666666666666,
             "#ed7953"
            ],
            [
             0.7777777777777778,
             "#fb9f3a"
            ],
            [
             0.8888888888888888,
             "#fdca26"
            ],
            [
             1,
             "#f0f921"
            ]
           ],
           "sequentialminus": [
            [
             0,
             "#0d0887"
            ],
            [
             0.1111111111111111,
             "#46039f"
            ],
            [
             0.2222222222222222,
             "#7201a8"
            ],
            [
             0.3333333333333333,
             "#9c179e"
            ],
            [
             0.4444444444444444,
             "#bd3786"
            ],
            [
             0.5555555555555556,
             "#d8576b"
            ],
            [
             0.6666666666666666,
             "#ed7953"
            ],
            [
             0.7777777777777778,
             "#fb9f3a"
            ],
            [
             0.8888888888888888,
             "#fdca26"
            ],
            [
             1,
             "#f0f921"
            ]
           ]
          },
          "colorway": [
           "#636efa",
           "#EF553B",
           "#00cc96",
           "#ab63fa",
           "#FFA15A",
           "#19d3f3",
           "#FF6692",
           "#B6E880",
           "#FF97FF",
           "#FECB52"
          ],
          "font": {
           "color": "#2a3f5f"
          },
          "geo": {
           "bgcolor": "white",
           "lakecolor": "white",
           "landcolor": "#E5ECF6",
           "showlakes": true,
           "showland": true,
           "subunitcolor": "white"
          },
          "hoverlabel": {
           "align": "left"
          },
          "hovermode": "closest",
          "mapbox": {
           "style": "light"
          },
          "paper_bgcolor": "white",
          "plot_bgcolor": "#E5ECF6",
          "polar": {
           "angularaxis": {
            "gridcolor": "white",
            "linecolor": "white",
            "ticks": ""
           },
           "bgcolor": "#E5ECF6",
           "radialaxis": {
            "gridcolor": "white",
            "linecolor": "white",
            "ticks": ""
           }
          },
          "scene": {
           "xaxis": {
            "backgroundcolor": "#E5ECF6",
            "gridcolor": "white",
            "gridwidth": 2,
            "linecolor": "white",
            "showbackground": true,
            "ticks": "",
            "zerolinecolor": "white"
           },
           "yaxis": {
            "backgroundcolor": "#E5ECF6",
            "gridcolor": "white",
            "gridwidth": 2,
            "linecolor": "white",
            "showbackground": true,
            "ticks": "",
            "zerolinecolor": "white"
           },
           "zaxis": {
            "backgroundcolor": "#E5ECF6",
            "gridcolor": "white",
            "gridwidth": 2,
            "linecolor": "white",
            "showbackground": true,
            "ticks": "",
            "zerolinecolor": "white"
           }
          },
          "shapedefaults": {
           "line": {
            "color": "#2a3f5f"
           }
          },
          "ternary": {
           "aaxis": {
            "gridcolor": "white",
            "linecolor": "white",
            "ticks": ""
           },
           "baxis": {
            "gridcolor": "white",
            "linecolor": "white",
            "ticks": ""
           },
           "bgcolor": "#E5ECF6",
           "caxis": {
            "gridcolor": "white",
            "linecolor": "white",
            "ticks": ""
           }
          },
          "title": {
           "x": 0.05
          },
          "xaxis": {
           "automargin": true,
           "gridcolor": "white",
           "linecolor": "white",
           "ticks": "",
           "title": {
            "standoff": 15
           },
           "zerolinecolor": "white",
           "zerolinewidth": 2
          },
          "yaxis": {
           "automargin": true,
           "gridcolor": "white",
           "linecolor": "white",
           "ticks": "",
           "title": {
            "standoff": 15
           },
           "zerolinecolor": "white",
           "zerolinewidth": 2
          }
         }
        },
        "title": {
         "text": "Age and GPA by Gender"
        },
        "xaxis": {
         "anchor": "y",
         "domain": [
          0,
          1
         ],
         "title": {
          "text": "Age"
         }
        },
        "yaxis": {
         "anchor": "x",
         "domain": [
          0,
          1
         ],
         "title": {
          "text": "GPA"
         }
        }
       }
      }
     },
     "metadata": {},
     "output_type": "display_data"
    },
    {
     "data": {
      "application/vnd.plotly.v1+json": {
       "config": {
        "plotlyServerURL": "https://plot.ly"
       },
       "data": [
        {
         "hovertemplate": "COURSE FUNDING=Individual<br>COURSE FEE=%{x}<br>GPA=%{y}<extra></extra>",
         "legendgroup": "Individual",
         "marker": {
          "color": "#636efa",
          "symbol": "circle"
         },
         "mode": "markers",
         "name": "Individual",
         "orientation": "v",
         "showlegend": true,
         "type": "scatter",
         "x": [
          5803,
          1495,
          2996,
          1712,
          5803,
          2996,
          1308,
          1712,
          5803,
          1712,
          1388,
          1388,
          1495,
          5803,
          5803,
          5803,
          5803,
          5803,
          1712,
          1388,
          1388,
          1712,
          1712,
          1388,
          1388,
          2996,
          5803,
          5803,
          5803,
          5803,
          1388,
          888,
          5803,
          1388,
          1388,
          5803,
          1712,
          5803,
          1712,
          1712,
          5803,
          5803,
          5803,
          5803,
          5803,
          1388,
          5803,
          5803,
          5803,
          2996,
          1388,
          1388,
          1388,
          2996,
          5803,
          1415,
          1495,
          5803,
          5803,
          5803,
          888,
          1388,
          5803,
          1496,
          5803,
          1712,
          1388,
          5803,
          5803,
          1388,
          5803,
          1388,
          5803,
          5803,
          2996,
          2996,
          5803,
          5803,
          2996,
          1388,
          1495,
          1712,
          5803,
          1712,
          5803,
          5803,
          1388,
          1712,
          1388,
          5803,
          1712,
          1712,
          5803,
          1712,
          1496,
          1388,
          2996,
          5803,
          5803,
          5803,
          5803,
          1388,
          2996,
          5803,
          2996,
          2996,
          1388,
          1495,
          5803,
          1495,
          1712,
          2996,
          5803,
          5803,
          888,
          5803,
          5803,
          2996,
          1495,
          5803,
          2996,
          1388,
          2996,
          5803,
          5803,
          5803,
          1388,
          1996,
          5803,
          5803,
          888,
          5803,
          5803
         ],
         "xaxis": "x",
         "y": [
          1.9,
          2.6,
          2.8,
          2.7,
          2.8,
          2.4,
          1.5,
          1.8,
          3.1,
          3.1,
          3,
          2.8,
          1.7,
          1.8,
          2.7,
          2.3,
          2.9,
          2.5,
          3.1,
          2.2,
          1.6,
          2.1,
          2.8,
          2.3,
          2.8,
          3.1,
          2.8,
          2,
          2.2,
          2.4,
          3.1,
          2.5,
          2.8,
          2.2,
          2.5,
          1.8,
          3.1,
          2.9,
          3.1,
          2.9,
          1.7,
          2.3,
          2.9,
          3.2,
          2.1,
          2.9,
          3,
          2,
          1.6,
          2.9,
          3.2,
          3.4,
          3.3,
          3.2,
          2.9,
          1.9,
          2.8,
          2.3,
          2.8,
          3,
          1.5,
          2.2,
          2.8,
          3,
          1.7,
          3,
          1.8,
          1.9,
          1.5,
          2.9,
          3.4,
          2.8,
          2.1,
          2.8,
          3.3,
          3,
          2.9,
          3.4,
          2.7,
          2.9,
          3,
          2.6,
          2.9,
          2.2,
          3.2,
          2.6,
          2.4,
          3.2,
          3.2,
          2.6,
          2.5,
          3.6,
          2.8,
          3,
          3.3,
          2.3,
          2.8,
          2.2,
          2.6,
          2.3,
          2.8,
          3.7,
          3,
          3,
          3.7,
          3,
          3,
          3.9,
          3.4,
          3.7,
          3,
          3.4,
          2.2,
          2.2,
          3.1,
          2.8,
          3.2,
          3,
          3.4,
          2.9,
          3.9,
          2.8,
          2.4,
          3.7,
          3.2,
          3.7,
          3.8,
          3.3,
          3.1,
          3.8,
          3.3,
          3.6,
          4
         ],
         "yaxis": "y"
        },
        {
         "hovertemplate": "<b>OLS trendline</b><br>GPA = -2.68582e-05 * COURSE FEE + 2.86301<br>R<sup>2</sup>=0.009215<br><br>COURSE FUNDING=Individual<br>COURSE FEE=%{x}<br>GPA=%{y} <b>(trend)</b><extra></extra>",
         "legendgroup": "Individual",
         "marker": {
          "color": "#636efa",
          "symbol": "circle"
         },
         "mode": "lines",
         "name": "Individual",
         "showlegend": false,
         "type": "scatter",
         "x": [
          888,
          888,
          888,
          888,
          1308,
          1388,
          1388,
          1388,
          1388,
          1388,
          1388,
          1388,
          1388,
          1388,
          1388,
          1388,
          1388,
          1388,
          1388,
          1388,
          1388,
          1388,
          1388,
          1388,
          1388,
          1388,
          1388,
          1388,
          1388,
          1388,
          1415,
          1495,
          1495,
          1495,
          1495,
          1495,
          1495,
          1495,
          1496,
          1496,
          1712,
          1712,
          1712,
          1712,
          1712,
          1712,
          1712,
          1712,
          1712,
          1712,
          1712,
          1712,
          1712,
          1712,
          1712,
          1712,
          1712,
          1996,
          2996,
          2996,
          2996,
          2996,
          2996,
          2996,
          2996,
          2996,
          2996,
          2996,
          2996,
          2996,
          2996,
          2996,
          2996,
          2996,
          5803,
          5803,
          5803,
          5803,
          5803,
          5803,
          5803,
          5803,
          5803,
          5803,
          5803,
          5803,
          5803,
          5803,
          5803,
          5803,
          5803,
          5803,
          5803,
          5803,
          5803,
          5803,
          5803,
          5803,
          5803,
          5803,
          5803,
          5803,
          5803,
          5803,
          5803,
          5803,
          5803,
          5803,
          5803,
          5803,
          5803,
          5803,
          5803,
          5803,
          5803,
          5803,
          5803,
          5803,
          5803,
          5803,
          5803,
          5803,
          5803,
          5803,
          5803,
          5803,
          5803,
          5803,
          5803,
          5803,
          5803,
          5803,
          5803
         ],
         "xaxis": "x",
         "y": [
          2.839160112538992,
          2.839160112538992,
          2.839160112538992,
          2.839160112538992,
          2.82787965017536,
          2.8257309906775254,
          2.8257309906775254,
          2.8257309906775254,
          2.8257309906775254,
          2.8257309906775254,
          2.8257309906775254,
          2.8257309906775254,
          2.8257309906775254,
          2.8257309906775254,
          2.8257309906775254,
          2.8257309906775254,
          2.8257309906775254,
          2.8257309906775254,
          2.8257309906775254,
          2.8257309906775254,
          2.8257309906775254,
          2.8257309906775254,
          2.8257309906775254,
          2.8257309906775254,
          2.8257309906775254,
          2.8257309906775254,
          2.8257309906775254,
          2.8257309906775254,
          2.8257309906775254,
          2.8257309906775254,
          2.825005818097006,
          2.8228571585991715,
          2.8228571585991715,
          2.8228571585991715,
          2.8228571585991715,
          2.8228571585991715,
          2.8228571585991715,
          2.8228571585991715,
          2.8228303003554487,
          2.8228303003554487,
          2.8170289197112948,
          2.8170289197112948,
          2.8170289197112948,
          2.8170289197112948,
          2.8170289197112948,
          2.8170289197112948,
          2.8170289197112948,
          2.8170289197112948,
          2.8170289197112948,
          2.8170289197112948,
          2.8170289197112948,
          2.8170289197112948,
          2.8170289197112948,
          2.8170289197112948,
          2.8170289197112948,
          2.8170289197112948,
          2.8170289197112948,
          2.8094011784939816,
          2.7825429347710484,
          2.7825429347710484,
          2.7825429347710484,
          2.7825429347710484,
          2.7825429347710484,
          2.7825429347710484,
          2.7825429347710484,
          2.7825429347710484,
          2.7825429347710484,
          2.7825429347710484,
          2.7825429347710484,
          2.7825429347710484,
          2.7825429347710484,
          2.7825429347710484,
          2.7825429347710484,
          2.7825429347710484,
          2.7071518446407747,
          2.7071518446407747,
          2.7071518446407747,
          2.7071518446407747,
          2.7071518446407747,
          2.7071518446407747,
          2.7071518446407747,
          2.7071518446407747,
          2.7071518446407747,
          2.7071518446407747,
          2.7071518446407747,
          2.7071518446407747,
          2.7071518446407747,
          2.7071518446407747,
          2.7071518446407747,
          2.7071518446407747,
          2.7071518446407747,
          2.7071518446407747,
          2.7071518446407747,
          2.7071518446407747,
          2.7071518446407747,
          2.7071518446407747,
          2.7071518446407747,
          2.7071518446407747,
          2.7071518446407747,
          2.7071518446407747,
          2.7071518446407747,
          2.7071518446407747,
          2.7071518446407747,
          2.7071518446407747,
          2.7071518446407747,
          2.7071518446407747,
          2.7071518446407747,
          2.7071518446407747,
          2.7071518446407747,
          2.7071518446407747,
          2.7071518446407747,
          2.7071518446407747,
          2.7071518446407747,
          2.7071518446407747,
          2.7071518446407747,
          2.7071518446407747,
          2.7071518446407747,
          2.7071518446407747,
          2.7071518446407747,
          2.7071518446407747,
          2.7071518446407747,
          2.7071518446407747,
          2.7071518446407747,
          2.7071518446407747,
          2.7071518446407747,
          2.7071518446407747,
          2.7071518446407747,
          2.7071518446407747,
          2.7071518446407747,
          2.7071518446407747,
          2.7071518446407747,
          2.7071518446407747,
          2.7071518446407747
         ],
         "yaxis": "y"
        },
        {
         "hovertemplate": "COURSE FUNDING=Subsidiesed<br>COURSE FEE=%{x}<br>GPA=%{y}<extra></extra>",
         "legendgroup": "Subsidiesed",
         "marker": {
          "color": "#EF553B",
          "symbol": "circle"
         },
         "mode": "markers",
         "name": "Subsidiesed",
         "orientation": "v",
         "showlegend": true,
         "type": "scatter",
         "x": [
          1212,
          2996,
          1388,
          1388,
          1712,
          1712,
          1712,
          1712,
          1388,
          2496,
          1388,
          1495,
          1388,
          1388,
          1712,
          1308,
          1415,
          1712,
          1415,
          1712,
          1212,
          1388,
          1388,
          1712,
          1996,
          888,
          1308,
          1495,
          1415,
          1388,
          1996,
          1495,
          1495,
          1388,
          1212,
          1388,
          1388,
          1388,
          2996,
          1388,
          1712,
          1388,
          1388,
          1415,
          1388,
          1712,
          888,
          1308,
          1388,
          1712,
          1495,
          2496,
          1212,
          1996,
          1712,
          1712,
          1415,
          1415,
          1388,
          1712,
          1388,
          1388
         ],
         "xaxis": "x",
         "y": [
          1.8,
          3,
          3.1,
          2.5,
          1.7,
          1.8,
          3.1,
          2.3,
          1.9,
          1.9,
          2.5,
          3,
          2.2,
          2,
          3.1,
          2.6,
          3.4,
          2.4,
          2.2,
          3,
          3,
          1.7,
          2.9,
          2.2,
          2.5,
          2.9,
          1.7,
          2.2,
          2,
          1.8,
          1.5,
          3,
          1.6,
          2.8,
          2.5,
          1.9,
          3.3,
          1.9,
          3.4,
          2.5,
          2.5,
          3.9,
          3.3,
          3.1,
          2.8,
          3.3,
          3.1,
          3.9,
          3.1,
          3.5,
          2.9,
          3.3,
          3.7,
          3.4,
          2.2,
          2.9,
          3.2,
          3.8,
          3.6,
          4,
          3.8,
          3.7
         ],
         "yaxis": "y"
        },
        {
         "hovertemplate": "<b>OLS trendline</b><br>GPA = 2.51309e-05 * COURSE FEE + 2.69955<br>R<sup>2</sup>=0.000202<br><br>COURSE FUNDING=Subsidiesed<br>COURSE FEE=%{x}<br>GPA=%{y} <b>(trend)</b><extra></extra>",
         "legendgroup": "Subsidiesed",
         "marker": {
          "color": "#EF553B",
          "symbol": "circle"
         },
         "mode": "lines",
         "name": "Subsidiesed",
         "showlegend": false,
         "type": "scatter",
         "x": [
          888,
          888,
          1212,
          1212,
          1212,
          1212,
          1308,
          1308,
          1308,
          1388,
          1388,
          1388,
          1388,
          1388,
          1388,
          1388,
          1388,
          1388,
          1388,
          1388,
          1388,
          1388,
          1388,
          1388,
          1388,
          1388,
          1388,
          1388,
          1388,
          1388,
          1415,
          1415,
          1415,
          1415,
          1415,
          1415,
          1495,
          1495,
          1495,
          1495,
          1495,
          1712,
          1712,
          1712,
          1712,
          1712,
          1712,
          1712,
          1712,
          1712,
          1712,
          1712,
          1712,
          1712,
          1712,
          1996,
          1996,
          1996,
          2496,
          2496,
          2996,
          2996
         ],
         "xaxis": "x",
         "y": [
          2.721869967409183,
          2.721869967409183,
          2.7300123694956997,
          2.7300123694956997,
          2.7300123694956997,
          2.7300123694956997,
          2.7324249330768904,
          2.7324249330768904,
          2.7324249330768904,
          2.734435402727882,
          2.734435402727882,
          2.734435402727882,
          2.734435402727882,
          2.734435402727882,
          2.734435402727882,
          2.734435402727882,
          2.734435402727882,
          2.734435402727882,
          2.734435402727882,
          2.734435402727882,
          2.734435402727882,
          2.734435402727882,
          2.734435402727882,
          2.734435402727882,
          2.734435402727882,
          2.734435402727882,
          2.734435402727882,
          2.734435402727882,
          2.734435402727882,
          2.734435402727882,
          2.735113936235092,
          2.735113936235092,
          2.735113936235092,
          2.735113936235092,
          2.735113936235092,
          2.735113936235092,
          2.737124405886084,
          2.737124405886084,
          2.737124405886084,
          2.737124405886084,
          2.737124405886084,
          2.7425778048143994,
          2.7425778048143994,
          2.7425778048143994,
          2.7425778048143994,
          2.7425778048143994,
          2.7425778048143994,
          2.7425778048143994,
          2.7425778048143994,
          2.7425778048143994,
          2.7425778048143994,
          2.7425778048143994,
          2.7425778048143994,
          2.7425778048143994,
          2.7425778048143994,
          2.7497149720754206,
          2.7497149720754206,
          2.7497149720754206,
          2.76228040739412,
          2.76228040739412,
          2.774845842712819,
          2.774845842712819
         ],
         "yaxis": "y"
        },
        {
         "hovertemplate": "COURSE FUNDING=Sponsored<br>COURSE FEE=%{x}<br>GPA=%{y}<extra></extra>",
         "legendgroup": "Sponsored",
         "marker": {
          "color": "#00cc96",
          "symbol": "circle"
         },
         "mode": "markers",
         "name": "Sponsored",
         "orientation": "v",
         "showlegend": true,
         "type": "scatter",
         "x": [
          1604,
          1604,
          1495,
          1388,
          1388,
          1388,
          1712,
          1495,
          1495,
          1415,
          2996,
          1712,
          1604,
          1388,
          2696,
          1712,
          1604,
          1604,
          1388,
          2696,
          1388,
          1388,
          2696,
          1495,
          1604,
          1388,
          1388,
          1388,
          1495,
          1495,
          1604,
          2696,
          1308,
          1604,
          1604,
          2996,
          1712,
          1388,
          2696,
          1415,
          1604,
          1495,
          1604,
          1388,
          1388,
          1388,
          2696,
          1308,
          1388
         ],
         "xaxis": "x",
         "y": [
          2.2,
          1.7,
          2.8,
          1.5,
          3.1,
          3.1,
          1.9,
          2.2,
          2.5,
          2.3,
          3.1,
          3.1,
          1.8,
          2.2,
          2.4,
          2,
          1.8,
          3,
          2.8,
          3.3,
          3.1,
          2.3,
          2.4,
          3.4,
          3.2,
          2.4,
          2.5,
          3.1,
          2.4,
          2.8,
          3.7,
          3.9,
          2.8,
          3.4,
          2.9,
          3.5,
          3,
          2.6,
          2.8,
          3.5,
          3.3,
          3.2,
          3,
          2.6,
          2.6,
          2.8,
          3,
          3.1,
          3.1
         ],
         "yaxis": "y"
        },
        {
         "hovertemplate": "<b>OLS trendline</b><br>GPA = 0.0002519 * COURSE FEE + 2.33049<br>R<sup>2</sup>=0.051934<br><br>COURSE FUNDING=Sponsored<br>COURSE FEE=%{x}<br>GPA=%{y} <b>(trend)</b><extra></extra>",
         "legendgroup": "Sponsored",
         "marker": {
          "color": "#00cc96",
          "symbol": "circle"
         },
         "mode": "lines",
         "name": "Sponsored",
         "showlegend": false,
         "type": "scatter",
         "x": [
          1308,
          1308,
          1388,
          1388,
          1388,
          1388,
          1388,
          1388,
          1388,
          1388,
          1388,
          1388,
          1388,
          1388,
          1388,
          1388,
          1388,
          1415,
          1415,
          1495,
          1495,
          1495,
          1495,
          1495,
          1495,
          1495,
          1604,
          1604,
          1604,
          1604,
          1604,
          1604,
          1604,
          1604,
          1604,
          1604,
          1604,
          1712,
          1712,
          1712,
          1712,
          2696,
          2696,
          2696,
          2696,
          2696,
          2696,
          2996,
          2996
         ],
         "xaxis": "x",
         "y": [
          2.659971141760619,
          2.659971141760619,
          2.6801231249876447,
          2.6801231249876447,
          2.6801231249876447,
          2.6801231249876447,
          2.6801231249876447,
          2.6801231249876447,
          2.6801231249876447,
          2.6801231249876447,
          2.6801231249876447,
          2.6801231249876447,
          2.6801231249876447,
          2.6801231249876447,
          2.6801231249876447,
          2.6801231249876447,
          2.6801231249876447,
          2.686924419326766,
          2.686924419326766,
          2.707076402553792,
          2.707076402553792,
          2.707076402553792,
          2.707076402553792,
          2.707076402553792,
          2.707076402553792,
          2.707076402553792,
          2.7345334797006147,
          2.7345334797006147,
          2.7345334797006147,
          2.7345334797006147,
          2.7345334797006147,
          2.7345334797006147,
          2.7345334797006147,
          2.7345334797006147,
          2.7345334797006147,
          2.7345334797006147,
          2.7345334797006147,
          2.7617386570570996,
          2.7617386570570996,
          2.7617386570570996,
          2.7617386570570996,
          3.0096080507495184,
          3.0096080507495184,
          3.0096080507495184,
          3.0096080507495184,
          3.0096080507495184,
          3.0096080507495184,
          3.0851779878508654,
          3.0851779878508654
         ],
         "yaxis": "y"
        }
       ],
       "layout": {
        "legend": {
         "title": {
          "text": "COURSE FUNDING"
         },
         "tracegroupgap": 0
        },
        "template": {
         "data": {
          "bar": [
           {
            "error_x": {
             "color": "#2a3f5f"
            },
            "error_y": {
             "color": "#2a3f5f"
            },
            "marker": {
             "line": {
              "color": "#E5ECF6",
              "width": 0.5
             },
             "pattern": {
              "fillmode": "overlay",
              "size": 10,
              "solidity": 0.2
             }
            },
            "type": "bar"
           }
          ],
          "barpolar": [
           {
            "marker": {
             "line": {
              "color": "#E5ECF6",
              "width": 0.5
             },
             "pattern": {
              "fillmode": "overlay",
              "size": 10,
              "solidity": 0.2
             }
            },
            "type": "barpolar"
           }
          ],
          "carpet": [
           {
            "aaxis": {
             "endlinecolor": "#2a3f5f",
             "gridcolor": "white",
             "linecolor": "white",
             "minorgridcolor": "white",
             "startlinecolor": "#2a3f5f"
            },
            "baxis": {
             "endlinecolor": "#2a3f5f",
             "gridcolor": "white",
             "linecolor": "white",
             "minorgridcolor": "white",
             "startlinecolor": "#2a3f5f"
            },
            "type": "carpet"
           }
          ],
          "choropleth": [
           {
            "colorbar": {
             "outlinewidth": 0,
             "ticks": ""
            },
            "type": "choropleth"
           }
          ],
          "contour": [
           {
            "colorbar": {
             "outlinewidth": 0,
             "ticks": ""
            },
            "colorscale": [
             [
              0,
              "#0d0887"
             ],
             [
              0.1111111111111111,
              "#46039f"
             ],
             [
              0.2222222222222222,
              "#7201a8"
             ],
             [
              0.3333333333333333,
              "#9c179e"
             ],
             [
              0.4444444444444444,
              "#bd3786"
             ],
             [
              0.5555555555555556,
              "#d8576b"
             ],
             [
              0.6666666666666666,
              "#ed7953"
             ],
             [
              0.7777777777777778,
              "#fb9f3a"
             ],
             [
              0.8888888888888888,
              "#fdca26"
             ],
             [
              1,
              "#f0f921"
             ]
            ],
            "type": "contour"
           }
          ],
          "contourcarpet": [
           {
            "colorbar": {
             "outlinewidth": 0,
             "ticks": ""
            },
            "type": "contourcarpet"
           }
          ],
          "heatmap": [
           {
            "colorbar": {
             "outlinewidth": 0,
             "ticks": ""
            },
            "colorscale": [
             [
              0,
              "#0d0887"
             ],
             [
              0.1111111111111111,
              "#46039f"
             ],
             [
              0.2222222222222222,
              "#7201a8"
             ],
             [
              0.3333333333333333,
              "#9c179e"
             ],
             [
              0.4444444444444444,
              "#bd3786"
             ],
             [
              0.5555555555555556,
              "#d8576b"
             ],
             [
              0.6666666666666666,
              "#ed7953"
             ],
             [
              0.7777777777777778,
              "#fb9f3a"
             ],
             [
              0.8888888888888888,
              "#fdca26"
             ],
             [
              1,
              "#f0f921"
             ]
            ],
            "type": "heatmap"
           }
          ],
          "heatmapgl": [
           {
            "colorbar": {
             "outlinewidth": 0,
             "ticks": ""
            },
            "colorscale": [
             [
              0,
              "#0d0887"
             ],
             [
              0.1111111111111111,
              "#46039f"
             ],
             [
              0.2222222222222222,
              "#7201a8"
             ],
             [
              0.3333333333333333,
              "#9c179e"
             ],
             [
              0.4444444444444444,
              "#bd3786"
             ],
             [
              0.5555555555555556,
              "#d8576b"
             ],
             [
              0.6666666666666666,
              "#ed7953"
             ],
             [
              0.7777777777777778,
              "#fb9f3a"
             ],
             [
              0.8888888888888888,
              "#fdca26"
             ],
             [
              1,
              "#f0f921"
             ]
            ],
            "type": "heatmapgl"
           }
          ],
          "histogram": [
           {
            "marker": {
             "pattern": {
              "fillmode": "overlay",
              "size": 10,
              "solidity": 0.2
             }
            },
            "type": "histogram"
           }
          ],
          "histogram2d": [
           {
            "colorbar": {
             "outlinewidth": 0,
             "ticks": ""
            },
            "colorscale": [
             [
              0,
              "#0d0887"
             ],
             [
              0.1111111111111111,
              "#46039f"
             ],
             [
              0.2222222222222222,
              "#7201a8"
             ],
             [
              0.3333333333333333,
              "#9c179e"
             ],
             [
              0.4444444444444444,
              "#bd3786"
             ],
             [
              0.5555555555555556,
              "#d8576b"
             ],
             [
              0.6666666666666666,
              "#ed7953"
             ],
             [
              0.7777777777777778,
              "#fb9f3a"
             ],
             [
              0.8888888888888888,
              "#fdca26"
             ],
             [
              1,
              "#f0f921"
             ]
            ],
            "type": "histogram2d"
           }
          ],
          "histogram2dcontour": [
           {
            "colorbar": {
             "outlinewidth": 0,
             "ticks": ""
            },
            "colorscale": [
             [
              0,
              "#0d0887"
             ],
             [
              0.1111111111111111,
              "#46039f"
             ],
             [
              0.2222222222222222,
              "#7201a8"
             ],
             [
              0.3333333333333333,
              "#9c179e"
             ],
             [
              0.4444444444444444,
              "#bd3786"
             ],
             [
              0.5555555555555556,
              "#d8576b"
             ],
             [
              0.6666666666666666,
              "#ed7953"
             ],
             [
              0.7777777777777778,
              "#fb9f3a"
             ],
             [
              0.8888888888888888,
              "#fdca26"
             ],
             [
              1,
              "#f0f921"
             ]
            ],
            "type": "histogram2dcontour"
           }
          ],
          "mesh3d": [
           {
            "colorbar": {
             "outlinewidth": 0,
             "ticks": ""
            },
            "type": "mesh3d"
           }
          ],
          "parcoords": [
           {
            "line": {
             "colorbar": {
              "outlinewidth": 0,
              "ticks": ""
             }
            },
            "type": "parcoords"
           }
          ],
          "pie": [
           {
            "automargin": true,
            "type": "pie"
           }
          ],
          "scatter": [
           {
            "fillpattern": {
             "fillmode": "overlay",
             "size": 10,
             "solidity": 0.2
            },
            "type": "scatter"
           }
          ],
          "scatter3d": [
           {
            "line": {
             "colorbar": {
              "outlinewidth": 0,
              "ticks": ""
             }
            },
            "marker": {
             "colorbar": {
              "outlinewidth": 0,
              "ticks": ""
             }
            },
            "type": "scatter3d"
           }
          ],
          "scattercarpet": [
           {
            "marker": {
             "colorbar": {
              "outlinewidth": 0,
              "ticks": ""
             }
            },
            "type": "scattercarpet"
           }
          ],
          "scattergeo": [
           {
            "marker": {
             "colorbar": {
              "outlinewidth": 0,
              "ticks": ""
             }
            },
            "type": "scattergeo"
           }
          ],
          "scattergl": [
           {
            "marker": {
             "colorbar": {
              "outlinewidth": 0,
              "ticks": ""
             }
            },
            "type": "scattergl"
           }
          ],
          "scattermapbox": [
           {
            "marker": {
             "colorbar": {
              "outlinewidth": 0,
              "ticks": ""
             }
            },
            "type": "scattermapbox"
           }
          ],
          "scatterpolar": [
           {
            "marker": {
             "colorbar": {
              "outlinewidth": 0,
              "ticks": ""
             }
            },
            "type": "scatterpolar"
           }
          ],
          "scatterpolargl": [
           {
            "marker": {
             "colorbar": {
              "outlinewidth": 0,
              "ticks": ""
             }
            },
            "type": "scatterpolargl"
           }
          ],
          "scatterternary": [
           {
            "marker": {
             "colorbar": {
              "outlinewidth": 0,
              "ticks": ""
             }
            },
            "type": "scatterternary"
           }
          ],
          "surface": [
           {
            "colorbar": {
             "outlinewidth": 0,
             "ticks": ""
            },
            "colorscale": [
             [
              0,
              "#0d0887"
             ],
             [
              0.1111111111111111,
              "#46039f"
             ],
             [
              0.2222222222222222,
              "#7201a8"
             ],
             [
              0.3333333333333333,
              "#9c179e"
             ],
             [
              0.4444444444444444,
              "#bd3786"
             ],
             [
              0.5555555555555556,
              "#d8576b"
             ],
             [
              0.6666666666666666,
              "#ed7953"
             ],
             [
              0.7777777777777778,
              "#fb9f3a"
             ],
             [
              0.8888888888888888,
              "#fdca26"
             ],
             [
              1,
              "#f0f921"
             ]
            ],
            "type": "surface"
           }
          ],
          "table": [
           {
            "cells": {
             "fill": {
              "color": "#EBF0F8"
             },
             "line": {
              "color": "white"
             }
            },
            "header": {
             "fill": {
              "color": "#C8D4E3"
             },
             "line": {
              "color": "white"
             }
            },
            "type": "table"
           }
          ]
         },
         "layout": {
          "annotationdefaults": {
           "arrowcolor": "#2a3f5f",
           "arrowhead": 0,
           "arrowwidth": 1
          },
          "autotypenumbers": "strict",
          "coloraxis": {
           "colorbar": {
            "outlinewidth": 0,
            "ticks": ""
           }
          },
          "colorscale": {
           "diverging": [
            [
             0,
             "#8e0152"
            ],
            [
             0.1,
             "#c51b7d"
            ],
            [
             0.2,
             "#de77ae"
            ],
            [
             0.3,
             "#f1b6da"
            ],
            [
             0.4,
             "#fde0ef"
            ],
            [
             0.5,
             "#f7f7f7"
            ],
            [
             0.6,
             "#e6f5d0"
            ],
            [
             0.7,
             "#b8e186"
            ],
            [
             0.8,
             "#7fbc41"
            ],
            [
             0.9,
             "#4d9221"
            ],
            [
             1,
             "#276419"
            ]
           ],
           "sequential": [
            [
             0,
             "#0d0887"
            ],
            [
             0.1111111111111111,
             "#46039f"
            ],
            [
             0.2222222222222222,
             "#7201a8"
            ],
            [
             0.3333333333333333,
             "#9c179e"
            ],
            [
             0.4444444444444444,
             "#bd3786"
            ],
            [
             0.5555555555555556,
             "#d8576b"
            ],
            [
             0.6666666666666666,
             "#ed7953"
            ],
            [
             0.7777777777777778,
             "#fb9f3a"
            ],
            [
             0.8888888888888888,
             "#fdca26"
            ],
            [
             1,
             "#f0f921"
            ]
           ],
           "sequentialminus": [
            [
             0,
             "#0d0887"
            ],
            [
             0.1111111111111111,
             "#46039f"
            ],
            [
             0.2222222222222222,
             "#7201a8"
            ],
            [
             0.3333333333333333,
             "#9c179e"
            ],
            [
             0.4444444444444444,
             "#bd3786"
            ],
            [
             0.5555555555555556,
             "#d8576b"
            ],
            [
             0.6666666666666666,
             "#ed7953"
            ],
            [
             0.7777777777777778,
             "#fb9f3a"
            ],
            [
             0.8888888888888888,
             "#fdca26"
            ],
            [
             1,
             "#f0f921"
            ]
           ]
          },
          "colorway": [
           "#636efa",
           "#EF553B",
           "#00cc96",
           "#ab63fa",
           "#FFA15A",
           "#19d3f3",
           "#FF6692",
           "#B6E880",
           "#FF97FF",
           "#FECB52"
          ],
          "font": {
           "color": "#2a3f5f"
          },
          "geo": {
           "bgcolor": "white",
           "lakecolor": "white",
           "landcolor": "#E5ECF6",
           "showlakes": true,
           "showland": true,
           "subunitcolor": "white"
          },
          "hoverlabel": {
           "align": "left"
          },
          "hovermode": "closest",
          "mapbox": {
           "style": "light"
          },
          "paper_bgcolor": "white",
          "plot_bgcolor": "#E5ECF6",
          "polar": {
           "angularaxis": {
            "gridcolor": "white",
            "linecolor": "white",
            "ticks": ""
           },
           "bgcolor": "#E5ECF6",
           "radialaxis": {
            "gridcolor": "white",
            "linecolor": "white",
            "ticks": ""
           }
          },
          "scene": {
           "xaxis": {
            "backgroundcolor": "#E5ECF6",
            "gridcolor": "white",
            "gridwidth": 2,
            "linecolor": "white",
            "showbackground": true,
            "ticks": "",
            "zerolinecolor": "white"
           },
           "yaxis": {
            "backgroundcolor": "#E5ECF6",
            "gridcolor": "white",
            "gridwidth": 2,
            "linecolor": "white",
            "showbackground": true,
            "ticks": "",
            "zerolinecolor": "white"
           },
           "zaxis": {
            "backgroundcolor": "#E5ECF6",
            "gridcolor": "white",
            "gridwidth": 2,
            "linecolor": "white",
            "showbackground": true,
            "ticks": "",
            "zerolinecolor": "white"
           }
          },
          "shapedefaults": {
           "line": {
            "color": "#2a3f5f"
           }
          },
          "ternary": {
           "aaxis": {
            "gridcolor": "white",
            "linecolor": "white",
            "ticks": ""
           },
           "baxis": {
            "gridcolor": "white",
            "linecolor": "white",
            "ticks": ""
           },
           "bgcolor": "#E5ECF6",
           "caxis": {
            "gridcolor": "white",
            "linecolor": "white",
            "ticks": ""
           }
          },
          "title": {
           "x": 0.05
          },
          "xaxis": {
           "automargin": true,
           "gridcolor": "white",
           "linecolor": "white",
           "ticks": "",
           "title": {
            "standoff": 15
           },
           "zerolinecolor": "white",
           "zerolinewidth": 2
          },
          "yaxis": {
           "automargin": true,
           "gridcolor": "white",
           "linecolor": "white",
           "ticks": "",
           "title": {
            "standoff": 15
           },
           "zerolinecolor": "white",
           "zerolinewidth": 2
          }
         }
        },
        "title": {
         "text": "Course Fee vs GPA by Funding Type"
        },
        "xaxis": {
         "anchor": "y",
         "domain": [
          0,
          1
         ],
         "title": {
          "text": "COURSE FEE"
         }
        },
        "yaxis": {
         "anchor": "x",
         "domain": [
          0,
          1
         ],
         "title": {
          "text": "GPA"
         }
        }
       }
      }
     },
     "metadata": {},
     "output_type": "display_data"
    },
    {
     "data": {
      "application/vnd.plotly.v1+json": {
       "config": {
        "plotlyServerURL": "https://plot.ly"
       },
       "data": [
        {
         "alignmentgroup": "True",
         "hovertemplate": "HIGHEST QUALIFICATION=Degree<br>NATIONALITY=%{x}<br>STUDENT ID=%{y}<extra></extra>",
         "legendgroup": "Degree",
         "marker": {
          "color": "#636efa",
          "pattern": {
           "shape": ""
          }
         },
         "name": "Degree",
         "offsetgroup": "Degree",
         "orientation": "v",
         "showlegend": true,
         "textposition": "auto",
         "type": "bar",
         "x": [
          "Singaporean",
          "Permanent Resident",
          "Singaporean",
          "Singaporean",
          "Singaporean",
          "Foreigner",
          "Singaporean",
          "Permanent Resident",
          "Singaporean",
          "Singaporean",
          "Singaporean",
          "Singaporean",
          "Singaporean",
          "Singaporean",
          "Singaporean",
          "Permanent Resident",
          "Singaporean",
          "Permanent Resident",
          "Singaporean",
          "Singaporean",
          "Singaporean",
          "Singaporean",
          "Singaporean",
          "Permanent Resident",
          "Permanent Resident",
          "Singaporean",
          "Singaporean",
          "Singaporean",
          "Singaporean",
          "Singaporean",
          "Singaporean",
          "Singaporean",
          "Foreigner",
          "Singaporean",
          "Singaporean",
          "Singaporean",
          "Foreigner",
          "Singaporean",
          "Permanent Resident",
          "Singaporean",
          "Singaporean",
          "Singaporean",
          "Singaporean",
          "Singaporean",
          "Permanent Resident",
          "Singaporean",
          "Singaporean",
          "Singaporean",
          "Singaporean",
          "Singaporean",
          "Singaporean",
          "Permanent Resident",
          "Singaporean",
          "Singaporean",
          "Singaporean",
          "Singaporean",
          "Singaporean",
          "Singaporean",
          "Permanent Resident",
          "Singaporean",
          "Foreigner",
          "Singaporean",
          "Foreigner",
          "Singaporean",
          "Singaporean",
          "Singaporean",
          "Singaporean",
          "Singaporean",
          "Singaporean",
          "Singaporean",
          "Foreigner",
          "Singaporean",
          "Singaporean",
          "Singaporean",
          "Permanent Resident",
          "Permanent Resident",
          "Singaporean",
          "Singaporean",
          "Foreigner",
          "Foreigner",
          "Singaporean",
          "Permanent Resident",
          "Singaporean",
          "Foreigner",
          "Singaporean",
          "Permanent Resident",
          "Singaporean",
          "Singaporean",
          "Singaporean",
          "Singaporean",
          "Singaporean",
          "Foreigner",
          "Singaporean",
          "Singaporean",
          "Singaporean",
          "Permanent Resident",
          "Permanent Resident",
          "Permanent Resident",
          "Singaporean",
          "Singaporean",
          "Singaporean",
          "Singaporean",
          "Singaporean",
          "Foreigner"
         ],
         "xaxis": "x",
         "y": [
          "2019/5113-005/001",
          "2019/2102-063/004",
          "2019/5113-006/003",
          "2019/2102-064/017",
          "2019/5112-006/005",
          "2019/1101-007/003",
          "2019/2102-063/001",
          "2019/2102-065/025",
          "2019/5112-005/001",
          "2019/5112-007/010",
          "2019/2102-065/043",
          "2019/5112-005/003",
          "2019/2102-065/040",
          "2019/1101-010/017",
          "2019/2102-065/038",
          "2019/2101-106/001",
          "2019/5113-007/004",
          "2019/5113-007/006",
          "2020/5113-009/005",
          "2019/2102-063/006",
          "2020/5113-009/006",
          "2019/5112-008/017",
          "2019/2102-065/034",
          "2019/2102-064/015",
          "2020/5112-009/001",
          "2019/5112-005/002",
          "2019/5113-005/002",
          "2020/5113-009/004",
          "2019/2102-065/024",
          "2020/2102-069/013",
          "2020/5112-012/015",
          "2020/1101-017/019",
          "2019/2102-066/049",
          "2019/2102-064/011",
          "2020/2101-112/011",
          "2020/2102-070/032",
          "2019/2102-066/050",
          "2020/5113-012/015",
          "2019/5112-008/018",
          "2020/5112-011/009",
          "2020/5113-011/014",
          "2020/2102-070/042",
          "2019/2102-064/016",
          "2020/5113-009/003",
          "2019/2102-065/039",
          "2020/5112-012/011",
          "2020/2101-112/010",
          "2020/2102-070/039",
          "2020/2102-070/040",
          "2020/5113-012/017",
          "2020/1101-014/004",
          "2020/2102-068/005",
          "2019/2102-064/018",
          "2020/5113-010/009",
          "2020/5112-012/010",
          "2020/2102-068/001",
          "2019/5112-007/012",
          "2020/2102-070/037",
          "2019/2102-067/057",
          "2020/2102-069/012",
          "2019/5112-007/009",
          "2019/5113-008/008",
          "2019/2102-066/051",
          "2020/1101-016/012",
          "2019/5113-007/005",
          "2019/2102-067/055",
          "2020/1101-015/009",
          "2019/5112-008/013",
          "2020/2102-070/029",
          "2019/2102-067/053",
          "2019/2102-065/029",
          "2020/2102-070/028",
          "2020/5113-012/016",
          "2020/5112-010/005",
          "2019/2102-065/031",
          "2020/2102-069/017",
          "2020/5113-009/002",
          "2020/5112-009/002",
          "2019/5112-007/007",
          "2019/2102-067/056",
          "2020/5112-010/003",
          "2019/2102-065/042",
          "2020/2102-068/010",
          "2019/2101-109/016",
          "2020/5112-011/007",
          "2019/1101-010/012",
          "2020/5112-011/008",
          "2020/2102-070/027",
          "2020/2101-111/005",
          "2019/5112-008/014",
          "2020/1101-015/010",
          "2019/5112-008/016",
          "2020/2102-068/008",
          "2020/5113-011/010",
          "2020/5113-009/001",
          "2020/5112-010/004",
          "2020/2102-068/011",
          "2020/2102-068/009",
          "2020/2102-070/041",
          "2020/5112-012/013",
          "2020/1101-016/013",
          "2020/5112-011/006",
          "2020/2102-070/030",
          "2020/5113-012/018"
         ],
         "yaxis": "y"
        },
        {
         "alignmentgroup": "True",
         "hovertemplate": "HIGHEST QUALIFICATION=Certificate<br>NATIONALITY=%{x}<br>STUDENT ID=%{y}<extra></extra>",
         "legendgroup": "Certificate",
         "marker": {
          "color": "#EF553B",
          "pattern": {
           "shape": ""
          }
         },
         "name": "Certificate",
         "offsetgroup": "Certificate",
         "orientation": "v",
         "showlegend": true,
         "textposition": "auto",
         "type": "bar",
         "x": [
          "Permanent Resident",
          "Singaporean",
          "Singaporean",
          "Singaporean",
          "Singaporean",
          "Singaporean",
          "Singaporean",
          "Singaporean",
          "Singaporean",
          "Singaporean",
          "Singaporean",
          "Singaporean",
          "Singaporean",
          "Singaporean",
          "Singaporean",
          "Singaporean",
          "Singaporean",
          "Foreigner",
          "Foreigner",
          "Permanent Resident",
          "Singaporean",
          "Singaporean",
          "Singaporean",
          "Singaporean",
          "Singaporean",
          "Singaporean",
          "Singaporean",
          "Singaporean",
          "Singaporean",
          "Foreigner",
          "Singaporean",
          "Singaporean",
          "Singaporean",
          "Foreigner",
          "Singaporean",
          "Singaporean",
          "Singaporean",
          "Singaporean",
          "Singaporean",
          "Singaporean",
          "Permanent Resident",
          "Foreigner",
          "Singaporean",
          "Singaporean",
          "Foreigner",
          "Singaporean",
          "Singaporean",
          "Foreigner",
          "Singaporean",
          "Singaporean",
          "Singaporean",
          "Singaporean",
          "Singaporean",
          "Singaporean",
          "Singaporean",
          "Singaporean",
          "Singaporean",
          "Singaporean",
          "Singaporean",
          "Permanent Resident",
          "Singaporean",
          "Foreigner",
          "Singaporean",
          "Singaporean",
          "Singaporean",
          "Singaporean",
          "Permanent Resident",
          "Singaporean",
          "Singaporean"
         ],
         "xaxis": "x",
         "y": [
          "2019/1101-008/006",
          "2019/2101-107/008",
          "2019/1101-008/008",
          "2019/2101-107/005",
          "2019/1101-008/009",
          "2019/2101-108/010",
          "2019/2102-067/054",
          "2019/1101-012/030",
          "2019/1101-010/014",
          "2019/1101-010/015",
          "2019/2102-063/009",
          "2019/2102-063/008",
          "2019/2101-107/009",
          "2019/2102-066/044",
          "2019/1101-007/002",
          "2019/2102-064/020",
          "2019/1101-012/031",
          "2019/2101-108/011",
          "2019/1101-010/019",
          "2020/1101-014/006",
          "2019/1101-011/029",
          "2019/2101-109/019",
          "2020/1101-013/001",
          "2020/1101-013/003",
          "2019/1101-011/026",
          "2019/2101-108/012",
          "2019/1101-010/022",
          "2019/2102-065/032",
          "2019/2102-065/023",
          "2019/2101-109/023",
          "2020/2102-068/006",
          "2019/2101-107/006",
          "2020/2101-111/008",
          "2019/1101-009/011",
          "2019/2102-063/005",
          "2020/2102-070/043",
          "2020/2102-070/038",
          "2020/2102-068/007",
          "2020/1101-016/014",
          "2019/2101-107/004",
          "2019/2101-106/002",
          "2020/2102-070/023",
          "2019/2101-109/018",
          "2020/2101-110/001",
          "2020/2102-070/033",
          "2019/2102-063/002",
          "2020/1101-017/018",
          "2019/1101-007/001",
          "2019/1101-010/016",
          "2020/1101-013/002",
          "2020/2101-111/006",
          "2019/2101-108/014",
          "2019/2101-107/007",
          "2019/1101-009/010",
          "2019/2101-109/015",
          "2019/2101-109/022",
          "2019/1101-012/033",
          "2020/2101-110/002",
          "2020/2101-111/009",
          "2019/1101-011/027",
          "2019/1101-011/025",
          "2019/2101-109/017",
          "2019/2101-109/021",
          "2020/2101-111/004",
          "2020/2102-069/022",
          "2020/2101-111/007",
          "2020/2102-069/018",
          "2020/2102-069/014",
          "2020/2102-070/026"
         ],
         "yaxis": "y"
        },
        {
         "alignmentgroup": "True",
         "hovertemplate": "HIGHEST QUALIFICATION=Master<br>NATIONALITY=%{x}<br>STUDENT ID=%{y}<extra></extra>",
         "legendgroup": "Master",
         "marker": {
          "color": "#00cc96",
          "pattern": {
           "shape": ""
          }
         },
         "name": "Master",
         "offsetgroup": "Master",
         "orientation": "v",
         "showlegend": true,
         "textposition": "auto",
         "type": "bar",
         "x": [
          "Permanent Resident",
          "Permanent Resident",
          "Singaporean",
          "Permanent Resident",
          "Singaporean",
          "Singaporean",
          "Foreigner",
          "Foreigner",
          "Singaporean",
          "Foreigner",
          "Foreigner",
          "Singaporean",
          "Singaporean"
         ],
         "xaxis": "x",
         "y": [
          "2019/1101-008/007",
          "2019/2102-067/058",
          "2019/5112-008/015",
          "2019/2102-065/037",
          "2019/5113-008/007",
          "2020/5113-011/013",
          "2020/1101-014/008",
          "2020/5113-010/008",
          "2020/5113-010/007",
          "2019/2102-065/027",
          "2020/2102-070/036",
          "2020/5113-011/011",
          "2020/5112-012/012"
         ],
         "yaxis": "y"
        },
        {
         "alignmentgroup": "True",
         "hovertemplate": "HIGHEST QUALIFICATION=Diploma<br>NATIONALITY=%{x}<br>STUDENT ID=%{y}<extra></extra>",
         "legendgroup": "Diploma",
         "marker": {
          "color": "#ab63fa",
          "pattern": {
           "shape": ""
          }
         },
         "name": "Diploma",
         "offsetgroup": "Diploma",
         "orientation": "v",
         "showlegend": true,
         "textposition": "auto",
         "type": "bar",
         "x": [
          "Singaporean",
          "Singaporean",
          "Singaporean",
          "Singaporean",
          "Singaporean",
          "Singaporean",
          "Singaporean",
          "Singaporean",
          "Singaporean",
          "Singaporean",
          "Permanent Resident",
          "Singaporean",
          "Singaporean",
          "Singaporean",
          "Singaporean",
          "Foreigner",
          "Singaporean",
          "Singaporean",
          "Singaporean",
          "Singaporean",
          "Singaporean",
          "Singaporean",
          "Singaporean",
          "Singaporean",
          "Singaporean",
          "Permanent Resident",
          "Singaporean",
          "Singaporean",
          "Singaporean",
          "Singaporean",
          "Singaporean",
          "Singaporean",
          "Singaporean",
          "Singaporean",
          "Singaporean",
          "Singaporean",
          "Singaporean",
          "Permanent Resident",
          "Foreigner",
          "Singaporean",
          "Singaporean",
          "Foreigner",
          "Singaporean",
          "Singaporean",
          "Singaporean",
          "Singaporean",
          "Singaporean",
          "Singaporean",
          "Singaporean",
          "Singaporean",
          "Singaporean",
          "Singaporean",
          "Singaporean",
          "Singaporean",
          "Singaporean",
          "Singaporean"
         ],
         "xaxis": "x",
         "y": [
          "2019/1101-007/005",
          "2019/2102-065/033",
          "2019/2102-064/012",
          "2019/2102-064/021",
          "2019/1101-010/024",
          "2019/5112-006/006",
          "2019/5112-006/004",
          "2019/2102-066/047",
          "2019/1101-010/013",
          "2019/1101-010/023",
          "2019/2102-065/030",
          "2019/1101-010/021",
          "2019/2102-066/052",
          "2019/2102-064/014",
          "2019/2102-065/028",
          "2019/2102-066/046",
          "2019/5112-007/011",
          "2019/2102-064/022",
          "2019/2102-063/007",
          "2019/2102-063/003",
          "2019/2102-065/026",
          "2020/1101-014/005",
          "2020/1101-015/011",
          "2019/5112-007/008",
          "2020/5113-011/012",
          "2019/1101-011/028",
          "2019/2102-065/035",
          "2019/2101-107/003",
          "2019/2102-065/041",
          "2019/2102-064/010",
          "2020/2102-069/019",
          "2020/2102-068/004",
          "2020/5112-012/014",
          "2020/2102-069/020",
          "2019/1101-010/020",
          "2020/2102-070/031",
          "2020/2102-070/035",
          "2020/2102-070/025",
          "2019/1101-007/004",
          "2019/2101-108/013",
          "2020/1101-017/017",
          "2019/2102-065/036",
          "2019/2102-066/045",
          "2019/2102-064/019",
          "2019/1101-012/032",
          "2020/2102-070/034",
          "2020/2101-112/012",
          "2019/2102-066/048",
          "2020/2102-069/015",
          "2020/1101-017/015",
          "2020/1101-017/016",
          "2020/2102-068/002",
          "2020/2102-069/016",
          "2020/2102-068/003",
          "2020/2101-111/003",
          "2020/2102-070/024"
         ],
         "yaxis": "y"
        },
        {
         "alignmentgroup": "True",
         "hovertemplate": "HIGHEST QUALIFICATION=No Qualifications<br>NATIONALITY=%{x}<br>STUDENT ID=%{y}<extra></extra>",
         "legendgroup": "No Qualifications",
         "marker": {
          "color": "#FFA15A",
          "pattern": {
           "shape": ""
          }
         },
         "name": "No Qualifications",
         "offsetgroup": "No Qualifications",
         "orientation": "v",
         "showlegend": true,
         "textposition": "auto",
         "type": "bar",
         "x": [
          "Foreigner"
         ],
         "xaxis": "x",
         "y": [
          "2019/2102-064/013"
         ],
         "yaxis": "y"
        },
        {
         "alignmentgroup": "True",
         "hovertemplate": "HIGHEST QUALIFICATION=Graduate Diploma<br>NATIONALITY=%{x}<br>STUDENT ID=%{y}<extra></extra>",
         "legendgroup": "Graduate Diploma",
         "marker": {
          "color": "#19d3f3",
          "pattern": {
           "shape": ""
          }
         },
         "name": "Graduate Diploma",
         "offsetgroup": "Graduate Diploma",
         "orientation": "v",
         "showlegend": true,
         "textposition": "auto",
         "type": "bar",
         "x": [
          "Singaporean"
         ],
         "xaxis": "x",
         "y": [
          "2020/2102-069/021"
         ],
         "yaxis": "y"
        }
       ],
       "layout": {
        "barmode": "stack",
        "legend": {
         "title": {
          "text": "HIGHEST QUALIFICATION"
         },
         "tracegroupgap": 0
        },
        "template": {
         "data": {
          "bar": [
           {
            "error_x": {
             "color": "#2a3f5f"
            },
            "error_y": {
             "color": "#2a3f5f"
            },
            "marker": {
             "line": {
              "color": "#E5ECF6",
              "width": 0.5
             },
             "pattern": {
              "fillmode": "overlay",
              "size": 10,
              "solidity": 0.2
             }
            },
            "type": "bar"
           }
          ],
          "barpolar": [
           {
            "marker": {
             "line": {
              "color": "#E5ECF6",
              "width": 0.5
             },
             "pattern": {
              "fillmode": "overlay",
              "size": 10,
              "solidity": 0.2
             }
            },
            "type": "barpolar"
           }
          ],
          "carpet": [
           {
            "aaxis": {
             "endlinecolor": "#2a3f5f",
             "gridcolor": "white",
             "linecolor": "white",
             "minorgridcolor": "white",
             "startlinecolor": "#2a3f5f"
            },
            "baxis": {
             "endlinecolor": "#2a3f5f",
             "gridcolor": "white",
             "linecolor": "white",
             "minorgridcolor": "white",
             "startlinecolor": "#2a3f5f"
            },
            "type": "carpet"
           }
          ],
          "choropleth": [
           {
            "colorbar": {
             "outlinewidth": 0,
             "ticks": ""
            },
            "type": "choropleth"
           }
          ],
          "contour": [
           {
            "colorbar": {
             "outlinewidth": 0,
             "ticks": ""
            },
            "colorscale": [
             [
              0,
              "#0d0887"
             ],
             [
              0.1111111111111111,
              "#46039f"
             ],
             [
              0.2222222222222222,
              "#7201a8"
             ],
             [
              0.3333333333333333,
              "#9c179e"
             ],
             [
              0.4444444444444444,
              "#bd3786"
             ],
             [
              0.5555555555555556,
              "#d8576b"
             ],
             [
              0.6666666666666666,
              "#ed7953"
             ],
             [
              0.7777777777777778,
              "#fb9f3a"
             ],
             [
              0.8888888888888888,
              "#fdca26"
             ],
             [
              1,
              "#f0f921"
             ]
            ],
            "type": "contour"
           }
          ],
          "contourcarpet": [
           {
            "colorbar": {
             "outlinewidth": 0,
             "ticks": ""
            },
            "type": "contourcarpet"
           }
          ],
          "heatmap": [
           {
            "colorbar": {
             "outlinewidth": 0,
             "ticks": ""
            },
            "colorscale": [
             [
              0,
              "#0d0887"
             ],
             [
              0.1111111111111111,
              "#46039f"
             ],
             [
              0.2222222222222222,
              "#7201a8"
             ],
             [
              0.3333333333333333,
              "#9c179e"
             ],
             [
              0.4444444444444444,
              "#bd3786"
             ],
             [
              0.5555555555555556,
              "#d8576b"
             ],
             [
              0.6666666666666666,
              "#ed7953"
             ],
             [
              0.7777777777777778,
              "#fb9f3a"
             ],
             [
              0.8888888888888888,
              "#fdca26"
             ],
             [
              1,
              "#f0f921"
             ]
            ],
            "type": "heatmap"
           }
          ],
          "heatmapgl": [
           {
            "colorbar": {
             "outlinewidth": 0,
             "ticks": ""
            },
            "colorscale": [
             [
              0,
              "#0d0887"
             ],
             [
              0.1111111111111111,
              "#46039f"
             ],
             [
              0.2222222222222222,
              "#7201a8"
             ],
             [
              0.3333333333333333,
              "#9c179e"
             ],
             [
              0.4444444444444444,
              "#bd3786"
             ],
             [
              0.5555555555555556,
              "#d8576b"
             ],
             [
              0.6666666666666666,
              "#ed7953"
             ],
             [
              0.7777777777777778,
              "#fb9f3a"
             ],
             [
              0.8888888888888888,
              "#fdca26"
             ],
             [
              1,
              "#f0f921"
             ]
            ],
            "type": "heatmapgl"
           }
          ],
          "histogram": [
           {
            "marker": {
             "pattern": {
              "fillmode": "overlay",
              "size": 10,
              "solidity": 0.2
             }
            },
            "type": "histogram"
           }
          ],
          "histogram2d": [
           {
            "colorbar": {
             "outlinewidth": 0,
             "ticks": ""
            },
            "colorscale": [
             [
              0,
              "#0d0887"
             ],
             [
              0.1111111111111111,
              "#46039f"
             ],
             [
              0.2222222222222222,
              "#7201a8"
             ],
             [
              0.3333333333333333,
              "#9c179e"
             ],
             [
              0.4444444444444444,
              "#bd3786"
             ],
             [
              0.5555555555555556,
              "#d8576b"
             ],
             [
              0.6666666666666666,
              "#ed7953"
             ],
             [
              0.7777777777777778,
              "#fb9f3a"
             ],
             [
              0.8888888888888888,
              "#fdca26"
             ],
             [
              1,
              "#f0f921"
             ]
            ],
            "type": "histogram2d"
           }
          ],
          "histogram2dcontour": [
           {
            "colorbar": {
             "outlinewidth": 0,
             "ticks": ""
            },
            "colorscale": [
             [
              0,
              "#0d0887"
             ],
             [
              0.1111111111111111,
              "#46039f"
             ],
             [
              0.2222222222222222,
              "#7201a8"
             ],
             [
              0.3333333333333333,
              "#9c179e"
             ],
             [
              0.4444444444444444,
              "#bd3786"
             ],
             [
              0.5555555555555556,
              "#d8576b"
             ],
             [
              0.6666666666666666,
              "#ed7953"
             ],
             [
              0.7777777777777778,
              "#fb9f3a"
             ],
             [
              0.8888888888888888,
              "#fdca26"
             ],
             [
              1,
              "#f0f921"
             ]
            ],
            "type": "histogram2dcontour"
           }
          ],
          "mesh3d": [
           {
            "colorbar": {
             "outlinewidth": 0,
             "ticks": ""
            },
            "type": "mesh3d"
           }
          ],
          "parcoords": [
           {
            "line": {
             "colorbar": {
              "outlinewidth": 0,
              "ticks": ""
             }
            },
            "type": "parcoords"
           }
          ],
          "pie": [
           {
            "automargin": true,
            "type": "pie"
           }
          ],
          "scatter": [
           {
            "fillpattern": {
             "fillmode": "overlay",
             "size": 10,
             "solidity": 0.2
            },
            "type": "scatter"
           }
          ],
          "scatter3d": [
           {
            "line": {
             "colorbar": {
              "outlinewidth": 0,
              "ticks": ""
             }
            },
            "marker": {
             "colorbar": {
              "outlinewidth": 0,
              "ticks": ""
             }
            },
            "type": "scatter3d"
           }
          ],
          "scattercarpet": [
           {
            "marker": {
             "colorbar": {
              "outlinewidth": 0,
              "ticks": ""
             }
            },
            "type": "scattercarpet"
           }
          ],
          "scattergeo": [
           {
            "marker": {
             "colorbar": {
              "outlinewidth": 0,
              "ticks": ""
             }
            },
            "type": "scattergeo"
           }
          ],
          "scattergl": [
           {
            "marker": {
             "colorbar": {
              "outlinewidth": 0,
              "ticks": ""
             }
            },
            "type": "scattergl"
           }
          ],
          "scattermapbox": [
           {
            "marker": {
             "colorbar": {
              "outlinewidth": 0,
              "ticks": ""
             }
            },
            "type": "scattermapbox"
           }
          ],
          "scatterpolar": [
           {
            "marker": {
             "colorbar": {
              "outlinewidth": 0,
              "ticks": ""
             }
            },
            "type": "scatterpolar"
           }
          ],
          "scatterpolargl": [
           {
            "marker": {
             "colorbar": {
              "outlinewidth": 0,
              "ticks": ""
             }
            },
            "type": "scatterpolargl"
           }
          ],
          "scatterternary": [
           {
            "marker": {
             "colorbar": {
              "outlinewidth": 0,
              "ticks": ""
             }
            },
            "type": "scatterternary"
           }
          ],
          "surface": [
           {
            "colorbar": {
             "outlinewidth": 0,
             "ticks": ""
            },
            "colorscale": [
             [
              0,
              "#0d0887"
             ],
             [
              0.1111111111111111,
              "#46039f"
             ],
             [
              0.2222222222222222,
              "#7201a8"
             ],
             [
              0.3333333333333333,
              "#9c179e"
             ],
             [
              0.4444444444444444,
              "#bd3786"
             ],
             [
              0.5555555555555556,
              "#d8576b"
             ],
             [
              0.6666666666666666,
              "#ed7953"
             ],
             [
              0.7777777777777778,
              "#fb9f3a"
             ],
             [
              0.8888888888888888,
              "#fdca26"
             ],
             [
              1,
              "#f0f921"
             ]
            ],
            "type": "surface"
           }
          ],
          "table": [
           {
            "cells": {
             "fill": {
              "color": "#EBF0F8"
             },
             "line": {
              "color": "white"
             }
            },
            "header": {
             "fill": {
              "color": "#C8D4E3"
             },
             "line": {
              "color": "white"
             }
            },
            "type": "table"
           }
          ]
         },
         "layout": {
          "annotationdefaults": {
           "arrowcolor": "#2a3f5f",
           "arrowhead": 0,
           "arrowwidth": 1
          },
          "autotypenumbers": "strict",
          "coloraxis": {
           "colorbar": {
            "outlinewidth": 0,
            "ticks": ""
           }
          },
          "colorscale": {
           "diverging": [
            [
             0,
             "#8e0152"
            ],
            [
             0.1,
             "#c51b7d"
            ],
            [
             0.2,
             "#de77ae"
            ],
            [
             0.3,
             "#f1b6da"
            ],
            [
             0.4,
             "#fde0ef"
            ],
            [
             0.5,
             "#f7f7f7"
            ],
            [
             0.6,
             "#e6f5d0"
            ],
            [
             0.7,
             "#b8e186"
            ],
            [
             0.8,
             "#7fbc41"
            ],
            [
             0.9,
             "#4d9221"
            ],
            [
             1,
             "#276419"
            ]
           ],
           "sequential": [
            [
             0,
             "#0d0887"
            ],
            [
             0.1111111111111111,
             "#46039f"
            ],
            [
             0.2222222222222222,
             "#7201a8"
            ],
            [
             0.3333333333333333,
             "#9c179e"
            ],
            [
             0.4444444444444444,
             "#bd3786"
            ],
            [
             0.5555555555555556,
             "#d8576b"
            ],
            [
             0.6666666666666666,
             "#ed7953"
            ],
            [
             0.7777777777777778,
             "#fb9f3a"
            ],
            [
             0.8888888888888888,
             "#fdca26"
            ],
            [
             1,
             "#f0f921"
            ]
           ],
           "sequentialminus": [
            [
             0,
             "#0d0887"
            ],
            [
             0.1111111111111111,
             "#46039f"
            ],
            [
             0.2222222222222222,
             "#7201a8"
            ],
            [
             0.3333333333333333,
             "#9c179e"
            ],
            [
             0.4444444444444444,
             "#bd3786"
            ],
            [
             0.5555555555555556,
             "#d8576b"
            ],
            [
             0.6666666666666666,
             "#ed7953"
            ],
            [
             0.7777777777777778,
             "#fb9f3a"
            ],
            [
             0.8888888888888888,
             "#fdca26"
            ],
            [
             1,
             "#f0f921"
            ]
           ]
          },
          "colorway": [
           "#636efa",
           "#EF553B",
           "#00cc96",
           "#ab63fa",
           "#FFA15A",
           "#19d3f3",
           "#FF6692",
           "#B6E880",
           "#FF97FF",
           "#FECB52"
          ],
          "font": {
           "color": "#2a3f5f"
          },
          "geo": {
           "bgcolor": "white",
           "lakecolor": "white",
           "landcolor": "#E5ECF6",
           "showlakes": true,
           "showland": true,
           "subunitcolor": "white"
          },
          "hoverlabel": {
           "align": "left"
          },
          "hovermode": "closest",
          "mapbox": {
           "style": "light"
          },
          "paper_bgcolor": "white",
          "plot_bgcolor": "#E5ECF6",
          "polar": {
           "angularaxis": {
            "gridcolor": "white",
            "linecolor": "white",
            "ticks": ""
           },
           "bgcolor": "#E5ECF6",
           "radialaxis": {
            "gridcolor": "white",
            "linecolor": "white",
            "ticks": ""
           }
          },
          "scene": {
           "xaxis": {
            "backgroundcolor": "#E5ECF6",
            "gridcolor": "white",
            "gridwidth": 2,
            "linecolor": "white",
            "showbackground": true,
            "ticks": "",
            "zerolinecolor": "white"
           },
           "yaxis": {
            "backgroundcolor": "#E5ECF6",
            "gridcolor": "white",
            "gridwidth": 2,
            "linecolor": "white",
            "showbackground": true,
            "ticks": "",
            "zerolinecolor": "white"
           },
           "zaxis": {
            "backgroundcolor": "#E5ECF6",
            "gridcolor": "white",
            "gridwidth": 2,
            "linecolor": "white",
            "showbackground": true,
            "ticks": "",
            "zerolinecolor": "white"
           }
          },
          "shapedefaults": {
           "line": {
            "color": "#2a3f5f"
           }
          },
          "ternary": {
           "aaxis": {
            "gridcolor": "white",
            "linecolor": "white",
            "ticks": ""
           },
           "baxis": {
            "gridcolor": "white",
            "linecolor": "white",
            "ticks": ""
           },
           "bgcolor": "#E5ECF6",
           "caxis": {
            "gridcolor": "white",
            "linecolor": "white",
            "ticks": ""
           }
          },
          "title": {
           "x": 0.05
          },
          "xaxis": {
           "automargin": true,
           "gridcolor": "white",
           "linecolor": "white",
           "ticks": "",
           "title": {
            "standoff": 15
           },
           "zerolinecolor": "white",
           "zerolinewidth": 2
          },
          "yaxis": {
           "automargin": true,
           "gridcolor": "white",
           "linecolor": "white",
           "ticks": "",
           "title": {
            "standoff": 15
           },
           "zerolinecolor": "white",
           "zerolinewidth": 2
          }
         }
        },
        "title": {
         "text": "Distribution of Highest Qualification by Nationality"
        },
        "xaxis": {
         "anchor": "y",
         "domain": [
          0,
          1
         ],
         "title": {
          "text": "NATIONALITY"
         }
        },
        "yaxis": {
         "anchor": "x",
         "domain": [
          0,
          1
         ],
         "title": {
          "text": "STUDENT ID"
         }
        }
       }
      }
     },
     "metadata": {},
     "output_type": "display_data"
    },
    {
     "data": {
      "application/vnd.plotly.v1+json": {
       "config": {
        "plotlyServerURL": "https://plot.ly"
       },
       "data": [
        {
         "alignmentgroup": "True",
         "hovertemplate": "DESIGNATION=%{x}<br>GPA=%{y}<extra></extra>",
         "legendgroup": "Household Goods Coordinator",
         "marker": {
          "color": "#636efa"
         },
         "name": "Household Goods Coordinator",
         "notched": false,
         "offsetgroup": "Household Goods Coordinator",
         "orientation": "v",
         "showlegend": true,
         "type": "box",
         "x": [
          "Household Goods Coordinator"
         ],
         "x0": " ",
         "xaxis": "x",
         "y": [
          1.9
         ],
         "y0": " ",
         "yaxis": "y"
        },
        {
         "alignmentgroup": "True",
         "hovertemplate": "DESIGNATION=%{x}<br>GPA=%{y}<extra></extra>",
         "legendgroup": "Admin Executive",
         "marker": {
          "color": "#EF553B"
         },
         "name": "Admin Executive",
         "notched": false,
         "offsetgroup": "Admin Executive",
         "orientation": "v",
         "showlegend": true,
         "type": "box",
         "x": [
          "Admin Executive",
          "Admin Executive",
          "Admin Executive"
         ],
         "x0": " ",
         "xaxis": "x",
         "y": [
          2.6,
          3.3,
          3.3
         ],
         "y0": " ",
         "yaxis": "y"
        },
        {
         "alignmentgroup": "True",
         "hovertemplate": "DESIGNATION=%{x}<br>GPA=%{y}<extra></extra>",
         "legendgroup": "Administrator",
         "marker": {
          "color": "#00cc96"
         },
         "name": "Administrator",
         "notched": false,
         "offsetgroup": "Administrator",
         "orientation": "v",
         "showlegend": true,
         "type": "box",
         "x": [
          "Administrator",
          "Administrator"
         ],
         "x0": " ",
         "xaxis": "x",
         "y": [
          1.8,
          3.3
         ],
         "y0": " ",
         "yaxis": "y"
        },
        {
         "alignmentgroup": "True",
         "hovertemplate": "DESIGNATION=%{x}<br>GPA=%{y}<extra></extra>",
         "legendgroup": "No Designation",
         "marker": {
          "color": "#ab63fa"
         },
         "name": "No Designation",
         "notched": false,
         "offsetgroup": "No Designation",
         "orientation": "v",
         "showlegend": true,
         "type": "box",
         "x": [
          "No Designation",
          "No Designation",
          "No Designation",
          "No Designation",
          "No Designation",
          "No Designation",
          "No Designation",
          "No Designation",
          "No Designation",
          "No Designation",
          "No Designation",
          "No Designation",
          "No Designation",
          "No Designation",
          "No Designation",
          "No Designation",
          "No Designation",
          "No Designation",
          "No Designation",
          "No Designation",
          "No Designation",
          "No Designation",
          "No Designation",
          "No Designation",
          "No Designation",
          "No Designation",
          "No Designation",
          "No Designation",
          "No Designation",
          "No Designation",
          "No Designation",
          "No Designation",
          "No Designation",
          "No Designation",
          "No Designation",
          "No Designation"
         ],
         "x0": " ",
         "xaxis": "x",
         "y": [
          2.8,
          2.7,
          3.1,
          3,
          2.8,
          2.8,
          1.9,
          3.1,
          2,
          2.6,
          2.5,
          3.4,
          3.1,
          3.1,
          2.9,
          2.9,
          3.3,
          2.2,
          2.8,
          2.2,
          1.8,
          2.8,
          1.9,
          3,
          3.3,
          3.1,
          3.3,
          3,
          2.9,
          3.1,
          2.2,
          3.4,
          2.8,
          2.4,
          3.6,
          4
         ],
         "y0": " ",
         "yaxis": "y"
        },
        {
         "alignmentgroup": "True",
         "hovertemplate": "DESIGNATION=%{x}<br>GPA=%{y}<extra></extra>",
         "legendgroup": "HR Assistant",
         "marker": {
          "color": "#FFA15A"
         },
         "name": "HR Assistant",
         "notched": false,
         "offsetgroup": "HR Assistant",
         "orientation": "v",
         "showlegend": true,
         "type": "box",
         "x": [
          "HR Assistant",
          "HR Assistant",
          "HR Assistant",
          "HR Assistant",
          "HR Assistant",
          "HR Assistant",
          "HR Assistant"
         ],
         "x0": " ",
         "xaxis": "x",
         "y": [
          2.8,
          2.5,
          2.2,
          1.9,
          3,
          3.4,
          3
         ],
         "y0": " ",
         "yaxis": "y"
        },
        {
         "alignmentgroup": "True",
         "hovertemplate": "DESIGNATION=%{x}<br>GPA=%{y}<extra></extra>",
         "legendgroup": "Executive, Administration",
         "marker": {
          "color": "#19d3f3"
         },
         "name": "Executive, Administration",
         "notched": false,
         "offsetgroup": "Executive, Administration",
         "orientation": "v",
         "showlegend": true,
         "type": "box",
         "x": [
          "Executive, Administration"
         ],
         "x0": " ",
         "xaxis": "x",
         "y": [
          2.2
         ],
         "y0": " ",
         "yaxis": "y"
        },
        {
         "alignmentgroup": "True",
         "hovertemplate": "DESIGNATION=%{x}<br>GPA=%{y}<extra></extra>",
         "legendgroup": "Admin & Finance Executive",
         "marker": {
          "color": "#FF6692"
         },
         "name": "Admin & Finance Executive",
         "notched": false,
         "offsetgroup": "Admin & Finance Executive",
         "orientation": "v",
         "showlegend": true,
         "type": "box",
         "x": [
          "Admin & Finance Executive"
         ],
         "x0": " ",
         "xaxis": "x",
         "y": [
          1.7
         ],
         "y0": " ",
         "yaxis": "y"
        },
        {
         "alignmentgroup": "True",
         "hovertemplate": "DESIGNATION=%{x}<br>GPA=%{y}<extra></extra>",
         "legendgroup": "Senior Vice President, Gaming Division",
         "marker": {
          "color": "#B6E880"
         },
         "name": "Senior Vice President, Gaming Division",
         "notched": false,
         "offsetgroup": "Senior Vice President, Gaming Division",
         "orientation": "v",
         "showlegend": true,
         "type": "box",
         "x": [
          "Senior Vice President, Gaming Division",
          "Senior Vice President, Gaming Division"
         ],
         "x0": " ",
         "xaxis": "x",
         "y": [
          2.4,
          3
         ],
         "y0": " ",
         "yaxis": "y"
        },
        {
         "alignmentgroup": "True",
         "hovertemplate": "DESIGNATION=%{x}<br>GPA=%{y}<extra></extra>",
         "legendgroup": "HR Executive",
         "marker": {
          "color": "#FF97FF"
         },
         "name": "HR Executive",
         "notched": false,
         "offsetgroup": "HR Executive",
         "orientation": "v",
         "showlegend": true,
         "type": "box",
         "x": [
          "HR Executive",
          "HR Executive",
          "HR Executive",
          "HR Executive",
          "HR Executive",
          "HR Executive",
          "HR Executive",
          "HR Executive",
          "HR Executive",
          "HR Executive",
          "HR Executive",
          "HR Executive",
          "HR Executive",
          "HR Executive",
          "HR Executive",
          "HR Executive",
          "HR Executive",
          "HR Executive"
         ],
         "x0": " ",
         "xaxis": "x",
         "y": [
          1.5,
          2.7,
          3.1,
          1.8,
          1.7,
          2,
          2.9,
          3,
          2.9,
          1.7,
          2.3,
          2.3,
          2.5,
          2.8,
          2.8,
          3.5,
          3.2,
          2.8
         ],
         "y0": " ",
         "yaxis": "y"
        },
        {
         "alignmentgroup": "True",
         "hovertemplate": "DESIGNATION=%{x}<br>GPA=%{y}<extra></extra>",
         "legendgroup": "Admin Assistant",
         "marker": {
          "color": "#FECB52"
         },
         "name": "Admin Assistant",
         "notched": false,
         "offsetgroup": "Admin Assistant",
         "orientation": "v",
         "showlegend": true,
         "type": "box",
         "x": [
          "Admin Assistant",
          "Admin Assistant",
          "Admin Assistant",
          "Admin Assistant",
          "Admin Assistant",
          "Admin Assistant",
          "Admin Assistant",
          "Admin Assistant",
          "Admin Assistant"
         ],
         "x0": " ",
         "xaxis": "x",
         "y": [
          1.8,
          3.1,
          3.1,
          3.1,
          2,
          3,
          2.4,
          2.8,
          3.3
         ],
         "y0": " ",
         "yaxis": "y"
        },
        {
         "alignmentgroup": "True",
         "hovertemplate": "DESIGNATION=%{x}<br>GPA=%{y}<extra></extra>",
         "legendgroup": "Assistant Manager Americas",
         "marker": {
          "color": "#636efa"
         },
         "name": "Assistant Manager Americas",
         "notched": false,
         "offsetgroup": "Assistant Manager Americas",
         "orientation": "v",
         "showlegend": true,
         "type": "box",
         "x": [
          "Assistant Manager Americas"
         ],
         "x0": " ",
         "xaxis": "x",
         "y": [
          3.1
         ],
         "y0": " ",
         "yaxis": "y"
        },
        {
         "alignmentgroup": "True",
         "hovertemplate": "DESIGNATION=%{x}<br>GPA=%{y}<extra></extra>",
         "legendgroup": "Assistant Manager (Admin Support)",
         "marker": {
          "color": "#EF553B"
         },
         "name": "Assistant Manager (Admin Support)",
         "notched": false,
         "offsetgroup": "Assistant Manager (Admin Support)",
         "orientation": "v",
         "showlegend": true,
         "type": "box",
         "x": [
          "Assistant Manager (Admin Support)"
         ],
         "x0": " ",
         "xaxis": "x",
         "y": [
          1.7
         ],
         "y0": " ",
         "yaxis": "y"
        },
        {
         "alignmentgroup": "True",
         "hovertemplate": "DESIGNATION=%{x}<br>GPA=%{y}<extra></extra>",
         "legendgroup": "HR Executive (TA Operations)",
         "marker": {
          "color": "#00cc96"
         },
         "name": "HR Executive (TA Operations)",
         "notched": false,
         "offsetgroup": "HR Executive (TA Operations)",
         "orientation": "v",
         "showlegend": true,
         "type": "box",
         "x": [
          "HR Executive (TA Operations)"
         ],
         "x0": " ",
         "xaxis": "x",
         "y": [
          3
         ],
         "y0": " ",
         "yaxis": "y"
        },
        {
         "alignmentgroup": "True",
         "hovertemplate": "DESIGNATION=%{x}<br>GPA=%{y}<extra></extra>",
         "legendgroup": "Accounts Executive",
         "marker": {
          "color": "#ab63fa"
         },
         "name": "Accounts Executive",
         "notched": false,
         "offsetgroup": "Accounts Executive",
         "orientation": "v",
         "showlegend": true,
         "type": "box",
         "x": [
          "Accounts Executive",
          "Accounts Executive"
         ],
         "x0": " ",
         "xaxis": "x",
         "y": [
          3.1,
          2.5
         ],
         "y0": " ",
         "yaxis": "y"
        },
        {
         "alignmentgroup": "True",
         "hovertemplate": "DESIGNATION=%{x}<br>GPA=%{y}<extra></extra>",
         "legendgroup": "Team Lead, Payroll & Billing",
         "marker": {
          "color": "#FFA15A"
         },
         "name": "Team Lead, Payroll & Billing",
         "notched": false,
         "offsetgroup": "Team Lead, Payroll & Billing",
         "orientation": "v",
         "showlegend": true,
         "type": "box",
         "x": [
          "Team Lead, Payroll & Billing"
         ],
         "x0": " ",
         "xaxis": "x",
         "y": [
          2.5
         ],
         "y0": " ",
         "yaxis": "y"
        },
        {
         "alignmentgroup": "True",
         "hovertemplate": "DESIGNATION=%{x}<br>GPA=%{y}<extra></extra>",
         "legendgroup": "Senior Assistant (Tenant Administration)",
         "marker": {
          "color": "#19d3f3"
         },
         "name": "Senior Assistant (Tenant Administration)",
         "notched": false,
         "offsetgroup": "Senior Assistant (Tenant Administration)",
         "orientation": "v",
         "showlegend": true,
         "type": "box",
         "x": [
          "Senior Assistant (Tenant Administration)"
         ],
         "x0": " ",
         "xaxis": "x",
         "y": [
          1.7
         ],
         "y0": " ",
         "yaxis": "y"
        },
        {
         "alignmentgroup": "True",
         "hovertemplate": "DESIGNATION=%{x}<br>GPA=%{y}<extra></extra>",
         "legendgroup": "Helpdesk Manager",
         "marker": {
          "color": "#FF6692"
         },
         "name": "Helpdesk Manager",
         "notched": false,
         "offsetgroup": "Helpdesk Manager",
         "orientation": "v",
         "showlegend": true,
         "type": "box",
         "x": [
          "Helpdesk Manager"
         ],
         "x0": " ",
         "xaxis": "x",
         "y": [
          1.8
         ],
         "y0": " ",
         "yaxis": "y"
        },
        {
         "alignmentgroup": "True",
         "hovertemplate": "DESIGNATION=%{x}<br>GPA=%{y}<extra></extra>",
         "legendgroup": "HR & Operations Manager, South East Asia",
         "marker": {
          "color": "#B6E880"
         },
         "name": "HR & Operations Manager, South East Asia",
         "notched": false,
         "offsetgroup": "HR & Operations Manager, South East Asia",
         "orientation": "v",
         "showlegend": true,
         "type": "box",
         "x": [
          "HR & Operations Manager, South East Asia"
         ],
         "x0": " ",
         "xaxis": "x",
         "y": [
          2.3
         ],
         "y0": " ",
         "yaxis": "y"
        },
        {
         "alignmentgroup": "True",
         "hovertemplate": "DESIGNATION=%{x}<br>GPA=%{y}<extra></extra>",
         "legendgroup": "Snr HR Executive",
         "marker": {
          "color": "#FF97FF"
         },
         "name": "Snr HR Executive",
         "notched": false,
         "offsetgroup": "Snr HR Executive",
         "orientation": "v",
         "showlegend": true,
         "type": "box",
         "x": [
          "Snr HR Executive",
          "Snr HR Executive"
         ],
         "x0": " ",
         "xaxis": "x",
         "y": [
          2.8,
          3.5
         ],
         "y0": " ",
         "yaxis": "y"
        },
        {
         "alignmentgroup": "True",
         "hovertemplate": "DESIGNATION=%{x}<br>GPA=%{y}<extra></extra>",
         "legendgroup": "Senior HR Executive",
         "marker": {
          "color": "#FECB52"
         },
         "name": "Senior HR Executive",
         "notched": false,
         "offsetgroup": "Senior HR Executive",
         "orientation": "v",
         "showlegend": true,
         "type": "box",
         "x": [
          "Senior HR Executive",
          "Senior HR Executive",
          "Senior HR Executive"
         ],
         "x0": " ",
         "xaxis": "x",
         "y": [
          2.9,
          2.8,
          2.6
         ],
         "y0": " ",
         "yaxis": "y"
        },
        {
         "alignmentgroup": "True",
         "hovertemplate": "DESIGNATION=%{x}<br>GPA=%{y}<extra></extra>",
         "legendgroup": "Early Childhood Support Office",
         "marker": {
          "color": "#636efa"
         },
         "name": "Early Childhood Support Office",
         "notched": false,
         "offsetgroup": "Early Childhood Support Office",
         "orientation": "v",
         "showlegend": true,
         "type": "box",
         "x": [
          "Early Childhood Support Office"
         ],
         "x0": " ",
         "xaxis": "x",
         "y": [
          1.8
         ],
         "y0": " ",
         "yaxis": "y"
        },
        {
         "alignmentgroup": "True",
         "hovertemplate": "DESIGNATION=%{x}<br>GPA=%{y}<extra></extra>",
         "legendgroup": "Senior Eexcutive",
         "marker": {
          "color": "#EF553B"
         },
         "name": "Senior Eexcutive",
         "notched": false,
         "offsetgroup": "Senior Eexcutive",
         "orientation": "v",
         "showlegend": true,
         "type": "box",
         "x": [
          "Senior Eexcutive"
         ],
         "x0": " ",
         "xaxis": "x",
         "y": [
          1.5
         ],
         "y0": " ",
         "yaxis": "y"
        },
        {
         "alignmentgroup": "True",
         "hovertemplate": "DESIGNATION=%{x}<br>GPA=%{y}<extra></extra>",
         "legendgroup": "Talent Acquisition Specialist",
         "marker": {
          "color": "#00cc96"
         },
         "name": "Talent Acquisition Specialist",
         "notched": false,
         "offsetgroup": "Talent Acquisition Specialist",
         "orientation": "v",
         "showlegend": true,
         "type": "box",
         "x": [
          "Talent Acquisition Specialist"
         ],
         "x0": " ",
         "xaxis": "x",
         "y": [
          2.5
         ],
         "y0": " ",
         "yaxis": "y"
        },
        {
         "alignmentgroup": "True",
         "hovertemplate": "DESIGNATION=%{x}<br>GPA=%{y}<extra></extra>",
         "legendgroup": "Client Accountant",
         "marker": {
          "color": "#ab63fa"
         },
         "name": "Client Accountant",
         "notched": false,
         "offsetgroup": "Client Accountant",
         "orientation": "v",
         "showlegend": true,
         "type": "box",
         "x": [
          "Client Accountant"
         ],
         "x0": " ",
         "xaxis": "x",
         "y": [
          3.1
         ],
         "y0": " ",
         "yaxis": "y"
        },
        {
         "alignmentgroup": "True",
         "hovertemplate": "DESIGNATION=%{x}<br>GPA=%{y}<extra></extra>",
         "legendgroup": "Human Resource Administrator",
         "marker": {
          "color": "#FFA15A"
         },
         "name": "Human Resource Administrator",
         "notched": false,
         "offsetgroup": "Human Resource Administrator",
         "orientation": "v",
         "showlegend": true,
         "type": "box",
         "x": [
          "Human Resource Administrator"
         ],
         "x0": " ",
         "xaxis": "x",
         "y": [
          3.1
         ],
         "y0": " ",
         "yaxis": "y"
        },
        {
         "alignmentgroup": "True",
         "hovertemplate": "DESIGNATION=%{x}<br>GPA=%{y}<extra></extra>",
         "legendgroup": "HR & Admin Officer",
         "marker": {
          "color": "#19d3f3"
         },
         "name": "HR & Admin Officer",
         "notched": false,
         "offsetgroup": "HR & Admin Officer",
         "orientation": "v",
         "showlegend": true,
         "type": "box",
         "x": [
          "HR & Admin Officer",
          "HR & Admin Officer"
         ],
         "x0": " ",
         "xaxis": "x",
         "y": [
          2.2,
          2.9
         ],
         "y0": " ",
         "yaxis": "y"
        },
        {
         "alignmentgroup": "True",
         "hovertemplate": "DESIGNATION=%{x}<br>GPA=%{y}<extra></extra>",
         "legendgroup": "HRM",
         "marker": {
          "color": "#FF6692"
         },
         "name": "HRM",
         "notched": false,
         "offsetgroup": "HRM",
         "orientation": "v",
         "showlegend": true,
         "type": "box",
         "x": [
          "HRM"
         ],
         "x0": " ",
         "xaxis": "x",
         "y": [
          1.6
         ],
         "y0": " ",
         "yaxis": "y"
        },
        {
         "alignmentgroup": "True",
         "hovertemplate": "DESIGNATION=%{x}<br>GPA=%{y}<extra></extra>",
         "legendgroup": "Manager",
         "marker": {
          "color": "#B6E880"
         },
         "name": "Manager",
         "notched": false,
         "offsetgroup": "Manager",
         "orientation": "v",
         "showlegend": true,
         "type": "box",
         "x": [
          "Manager",
          "Manager",
          "Manager",
          "Manager",
          "Manager"
         ],
         "x0": " ",
         "xaxis": "x",
         "y": [
          2.1,
          3.1,
          2.4,
          3.4,
          2.3
         ],
         "y0": " ",
         "yaxis": "y"
        },
        {
         "alignmentgroup": "True",
         "hovertemplate": "DESIGNATION=%{x}<br>GPA=%{y}<extra></extra>",
         "legendgroup": "Office Manager",
         "marker": {
          "color": "#FF97FF"
         },
         "name": "Office Manager",
         "notched": false,
         "offsetgroup": "Office Manager",
         "orientation": "v",
         "showlegend": true,
         "type": "box",
         "x": [
          "Office Manager"
         ],
         "x0": " ",
         "xaxis": "x",
         "y": [
          1.9
         ],
         "y0": " ",
         "yaxis": "y"
        },
        {
         "alignmentgroup": "True",
         "hovertemplate": "DESIGNATION=%{x}<br>GPA=%{y}<extra></extra>",
         "legendgroup": "Executive Assistant",
         "marker": {
          "color": "#FECB52"
         },
         "name": "Executive Assistant",
         "notched": false,
         "offsetgroup": "Executive Assistant",
         "orientation": "v",
         "showlegend": true,
         "type": "box",
         "x": [
          "Executive Assistant"
         ],
         "x0": " ",
         "xaxis": "x",
         "y": [
          3.1
         ],
         "y0": " ",
         "yaxis": "y"
        },
        {
         "alignmentgroup": "True",
         "hovertemplate": "DESIGNATION=%{x}<br>GPA=%{y}<extra></extra>",
         "legendgroup": "Business Development Executive",
         "marker": {
          "color": "#636efa"
         },
         "name": "Business Development Executive",
         "notched": false,
         "offsetgroup": "Business Development Executive",
         "orientation": "v",
         "showlegend": true,
         "type": "box",
         "x": [
          "Business Development Executive",
          "Business Development Executive"
         ],
         "x0": " ",
         "xaxis": "x",
         "y": [
          2.3,
          3.9
         ],
         "y0": " ",
         "yaxis": "y"
        },
        {
         "alignmentgroup": "True",
         "hovertemplate": "DESIGNATION=%{x}<br>GPA=%{y}<extra></extra>",
         "legendgroup": "Executive, Planning & Delivery",
         "marker": {
          "color": "#EF553B"
         },
         "name": "Executive, Planning & Delivery",
         "notched": false,
         "offsetgroup": "Executive, Planning & Delivery",
         "orientation": "v",
         "showlegend": true,
         "type": "box",
         "x": [
          "Executive, Planning & Delivery"
         ],
         "x0": " ",
         "xaxis": "x",
         "y": [
          2.8
         ],
         "y0": " ",
         "yaxis": "y"
        },
        {
         "alignmentgroup": "True",
         "hovertemplate": "DESIGNATION=%{x}<br>GPA=%{y}<extra></extra>",
         "legendgroup": "Waitress",
         "marker": {
          "color": "#00cc96"
         },
         "name": "Waitress",
         "notched": false,
         "offsetgroup": "Waitress",
         "orientation": "v",
         "showlegend": true,
         "type": "box",
         "x": [
          "Waitress"
         ],
         "x0": " ",
         "xaxis": "x",
         "y": [
          2.3
         ],
         "y0": " ",
         "yaxis": "y"
        },
        {
         "alignmentgroup": "True",
         "hovertemplate": "DESIGNATION=%{x}<br>GPA=%{y}<extra></extra>",
         "legendgroup": "Training Coordinator",
         "marker": {
          "color": "#ab63fa"
         },
         "name": "Training Coordinator",
         "notched": false,
         "offsetgroup": "Training Coordinator",
         "orientation": "v",
         "showlegend": true,
         "type": "box",
         "x": [
          "Training Coordinator"
         ],
         "x0": " ",
         "xaxis": "x",
         "y": [
          1.9
         ],
         "y0": " ",
         "yaxis": "y"
        },
        {
         "alignmentgroup": "True",
         "hovertemplate": "DESIGNATION=%{x}<br>GPA=%{y}<extra></extra>",
         "legendgroup": "People Ops Specialist - APAC",
         "marker": {
          "color": "#FFA15A"
         },
         "name": "People Ops Specialist - APAC",
         "notched": false,
         "offsetgroup": "People Ops Specialist - APAC",
         "orientation": "v",
         "showlegend": true,
         "type": "box",
         "x": [
          "People Ops Specialist - APAC"
         ],
         "x0": " ",
         "xaxis": "x",
         "y": [
          2.5
         ],
         "y0": " ",
         "yaxis": "y"
        },
        {
         "alignmentgroup": "True",
         "hovertemplate": "DESIGNATION=%{x}<br>GPA=%{y}<extra></extra>",
         "legendgroup": "Bank Executive",
         "marker": {
          "color": "#19d3f3"
         },
         "name": "Bank Executive",
         "notched": false,
         "offsetgroup": "Bank Executive",
         "orientation": "v",
         "showlegend": true,
         "type": "box",
         "x": [
          "Bank Executive"
         ],
         "x0": " ",
         "xaxis": "x",
         "y": [
          2.8
         ],
         "y0": " ",
         "yaxis": "y"
        },
        {
         "alignmentgroup": "True",
         "hovertemplate": "DESIGNATION=%{x}<br>GPA=%{y}<extra></extra>",
         "legendgroup": "HR & Admin",
         "marker": {
          "color": "#FF6692"
         },
         "name": "HR & Admin",
         "notched": false,
         "offsetgroup": "HR & Admin",
         "orientation": "v",
         "showlegend": true,
         "type": "box",
         "x": [
          "HR & Admin",
          "HR & Admin"
         ],
         "x0": " ",
         "xaxis": "x",
         "y": [
          3,
          3
         ],
         "y0": " ",
         "yaxis": "y"
        },
        {
         "alignmentgroup": "True",
         "hovertemplate": "DESIGNATION=%{x}<br>GPA=%{y}<extra></extra>",
         "legendgroup": "HR & Admin Manager",
         "marker": {
          "color": "#B6E880"
         },
         "name": "HR & Admin Manager",
         "notched": false,
         "offsetgroup": "HR & Admin Manager",
         "orientation": "v",
         "showlegend": true,
         "type": "box",
         "x": [
          "HR & Admin Manager"
         ],
         "x0": " ",
         "xaxis": "x",
         "y": [
          2.2
         ],
         "y0": " ",
         "yaxis": "y"
        },
        {
         "alignmentgroup": "True",
         "hovertemplate": "DESIGNATION=%{x}<br>GPA=%{y}<extra></extra>",
         "legendgroup": "Finance Officer",
         "marker": {
          "color": "#FF97FF"
         },
         "name": "Finance Officer",
         "notched": false,
         "offsetgroup": "Finance Officer",
         "orientation": "v",
         "showlegend": true,
         "type": "box",
         "x": [
          "Finance Officer"
         ],
         "x0": " ",
         "xaxis": "x",
         "y": [
          2
         ],
         "y0": " ",
         "yaxis": "y"
        },
        {
         "alignmentgroup": "True",
         "hovertemplate": "DESIGNATION=%{x}<br>GPA=%{y}<extra></extra>",
         "legendgroup": "Human Resource Director",
         "marker": {
          "color": "#FECB52"
         },
         "name": "Human Resource Director",
         "notched": false,
         "offsetgroup": "Human Resource Director",
         "orientation": "v",
         "showlegend": true,
         "type": "box",
         "x": [
          "Human Resource Director"
         ],
         "x0": " ",
         "xaxis": "x",
         "y": [
          2.2
         ],
         "y0": " ",
         "yaxis": "y"
        },
        {
         "alignmentgroup": "True",
         "hovertemplate": "DESIGNATION=%{x}<br>GPA=%{y}<extra></extra>",
         "legendgroup": "Officer",
         "marker": {
          "color": "#636efa"
         },
         "name": "Officer",
         "notched": false,
         "offsetgroup": "Officer",
         "orientation": "v",
         "showlegend": true,
         "type": "box",
         "x": [
          "Officer"
         ],
         "x0": " ",
         "xaxis": "x",
         "y": [
          2.2
         ],
         "y0": " ",
         "yaxis": "y"
        },
        {
         "alignmentgroup": "True",
         "hovertemplate": "DESIGNATION=%{x}<br>GPA=%{y}<extra></extra>",
         "legendgroup": "Snr Admin Executive",
         "marker": {
          "color": "#EF553B"
         },
         "name": "Snr Admin Executive",
         "notched": false,
         "offsetgroup": "Snr Admin Executive",
         "orientation": "v",
         "showlegend": true,
         "type": "box",
         "x": [
          "Snr Admin Executive"
         ],
         "x0": " ",
         "xaxis": "x",
         "y": [
          2.3
         ],
         "y0": " ",
         "yaxis": "y"
        },
        {
         "alignmentgroup": "True",
         "hovertemplate": "DESIGNATION=%{x}<br>GPA=%{y}<extra></extra>",
         "legendgroup": "Senior Recruitment Manager",
         "marker": {
          "color": "#00cc96"
         },
         "name": "Senior Recruitment Manager",
         "notched": false,
         "offsetgroup": "Senior Recruitment Manager",
         "orientation": "v",
         "showlegend": true,
         "type": "box",
         "x": [
          "Senior Recruitment Manager"
         ],
         "x0": " ",
         "xaxis": "x",
         "y": [
          2.8
         ],
         "y0": " ",
         "yaxis": "y"
        },
        {
         "alignmentgroup": "True",
         "hovertemplate": "DESIGNATION=%{x}<br>GPA=%{y}<extra></extra>",
         "legendgroup": "Assistant Vice-President",
         "marker": {
          "color": "#ab63fa"
         },
         "name": "Assistant Vice-President",
         "notched": false,
         "offsetgroup": "Assistant Vice-President",
         "orientation": "v",
         "showlegend": true,
         "type": "box",
         "x": [
          "Assistant Vice-President"
         ],
         "x0": " ",
         "xaxis": "x",
         "y": [
          1.8
         ],
         "y0": " ",
         "yaxis": "y"
        },
        {
         "alignmentgroup": "True",
         "hovertemplate": "DESIGNATION=%{x}<br>GPA=%{y}<extra></extra>",
         "legendgroup": "Purchasing Executive",
         "marker": {
          "color": "#FFA15A"
         },
         "name": "Purchasing Executive",
         "notched": false,
         "offsetgroup": "Purchasing Executive",
         "orientation": "v",
         "showlegend": true,
         "type": "box",
         "x": [
          "Purchasing Executive"
         ],
         "x0": " ",
         "xaxis": "x",
         "y": [
          2.4
         ],
         "y0": " ",
         "yaxis": "y"
        },
        {
         "alignmentgroup": "True",
         "hovertemplate": "DESIGNATION=%{x}<br>GPA=%{y}<extra></extra>",
         "legendgroup": "Admin Manager",
         "marker": {
          "color": "#19d3f3"
         },
         "name": "Admin Manager",
         "notched": false,
         "offsetgroup": "Admin Manager",
         "orientation": "v",
         "showlegend": true,
         "type": "box",
         "x": [
          "Admin Manager"
         ],
         "x0": " ",
         "xaxis": "x",
         "y": [
          2.9
         ],
         "y0": " ",
         "yaxis": "y"
        },
        {
         "alignmentgroup": "True",
         "hovertemplate": "DESIGNATION=%{x}<br>GPA=%{y}<extra></extra>",
         "legendgroup": "HR Officer",
         "marker": {
          "color": "#FF6692"
         },
         "name": "HR Officer",
         "notched": false,
         "offsetgroup": "HR Officer",
         "orientation": "v",
         "showlegend": true,
         "type": "box",
         "x": [
          "HR Officer",
          "HR Officer"
         ],
         "x0": " ",
         "xaxis": "x",
         "y": [
          2.2,
          2.2
         ],
         "y0": " ",
         "yaxis": "y"
        },
        {
         "alignmentgroup": "True",
         "hovertemplate": "DESIGNATION=%{x}<br>GPA=%{y}<extra></extra>",
         "legendgroup": "Senior HR",
         "marker": {
          "color": "#B6E880"
         },
         "name": "Senior HR",
         "notched": false,
         "offsetgroup": "Senior HR",
         "orientation": "v",
         "showlegend": true,
         "type": "box",
         "x": [
          "Senior HR"
         ],
         "x0": " ",
         "xaxis": "x",
         "y": [
          2.2
         ],
         "y0": " ",
         "yaxis": "y"
        },
        {
         "alignmentgroup": "True",
         "hovertemplate": "DESIGNATION=%{x}<br>GPA=%{y}<extra></extra>",
         "legendgroup": "Sales & Operation Executive",
         "marker": {
          "color": "#FF97FF"
         },
         "name": "Sales & Operation Executive",
         "notched": false,
         "offsetgroup": "Sales & Operation Executive",
         "orientation": "v",
         "showlegend": true,
         "type": "box",
         "x": [
          "Sales & Operation Executive"
         ],
         "x0": " ",
         "xaxis": "x",
         "y": [
          2.4
         ],
         "y0": " ",
         "yaxis": "y"
        },
        {
         "alignmentgroup": "True",
         "hovertemplate": "DESIGNATION=%{x}<br>GPA=%{y}<extra></extra>",
         "legendgroup": "Business Manager",
         "marker": {
          "color": "#FECB52"
         },
         "name": "Business Manager",
         "notched": false,
         "offsetgroup": "Business Manager",
         "orientation": "v",
         "showlegend": true,
         "type": "box",
         "x": [
          "Business Manager"
         ],
         "x0": " ",
         "xaxis": "x",
         "y": [
          2.3
         ],
         "y0": " ",
         "yaxis": "y"
        },
        {
         "alignmentgroup": "True",
         "hovertemplate": "DESIGNATION=%{x}<br>GPA=%{y}<extra></extra>",
         "legendgroup": "Assistant Director, Human Resources",
         "marker": {
          "color": "#636efa"
         },
         "name": "Assistant Director, Human Resources",
         "notched": false,
         "offsetgroup": "Assistant Director, Human Resources",
         "orientation": "v",
         "showlegend": true,
         "type": "box",
         "x": [
          "Assistant Director, Human Resources"
         ],
         "x0": " ",
         "xaxis": "x",
         "y": [
          2.9
         ],
         "y0": " ",
         "yaxis": "y"
        },
        {
         "alignmentgroup": "True",
         "hovertemplate": "DESIGNATION=%{x}<br>GPA=%{y}<extra></extra>",
         "legendgroup": "HR Specialist",
         "marker": {
          "color": "#EF553B"
         },
         "name": "HR Specialist",
         "notched": false,
         "offsetgroup": "HR Specialist",
         "orientation": "v",
         "showlegend": true,
         "type": "box",
         "x": [
          "HR Specialist"
         ],
         "x0": " ",
         "xaxis": "x",
         "y": [
          3.2
         ],
         "y0": " ",
         "yaxis": "y"
        },
        {
         "alignmentgroup": "True",
         "hovertemplate": "DESIGNATION=%{x}<br>GPA=%{y}<extra></extra>",
         "legendgroup": "Executive, HR",
         "marker": {
          "color": "#00cc96"
         },
         "name": "Executive, HR",
         "notched": false,
         "offsetgroup": "Executive, HR",
         "orientation": "v",
         "showlegend": true,
         "type": "box",
         "x": [
          "Executive, HR"
         ],
         "x0": " ",
         "xaxis": "x",
         "y": [
          2.1
         ],
         "y0": " ",
         "yaxis": "y"
        },
        {
         "alignmentgroup": "True",
         "hovertemplate": "DESIGNATION=%{x}<br>GPA=%{y}<extra></extra>",
         "legendgroup": "Snr Associate, Client Services",
         "marker": {
          "color": "#ab63fa"
         },
         "name": "Snr Associate, Client Services",
         "notched": false,
         "offsetgroup": "Snr Associate, Client Services",
         "orientation": "v",
         "showlegend": true,
         "type": "box",
         "x": [
          "Snr Associate, Client Services"
         ],
         "x0": " ",
         "xaxis": "x",
         "y": [
          3
         ],
         "y0": " ",
         "yaxis": "y"
        },
        {
         "alignmentgroup": "True",
         "hovertemplate": "DESIGNATION=%{x}<br>GPA=%{y}<extra></extra>",
         "legendgroup": "HR Section Manager",
         "marker": {
          "color": "#FFA15A"
         },
         "name": "HR Section Manager",
         "notched": false,
         "offsetgroup": "HR Section Manager",
         "orientation": "v",
         "showlegend": true,
         "type": "box",
         "x": [
          "HR Section Manager"
         ],
         "x0": " ",
         "xaxis": "x",
         "y": [
          3
         ],
         "y0": " ",
         "yaxis": "y"
        },
        {
         "alignmentgroup": "True",
         "hovertemplate": "DESIGNATION=%{x}<br>GPA=%{y}<extra></extra>",
         "legendgroup": "Assistant Executive (Payroll)",
         "marker": {
          "color": "#19d3f3"
         },
         "name": "Assistant Executive (Payroll)",
         "notched": false,
         "offsetgroup": "Assistant Executive (Payroll)",
         "orientation": "v",
         "showlegend": true,
         "type": "box",
         "x": [
          "Assistant Executive (Payroll)"
         ],
         "x0": " ",
         "xaxis": "x",
         "y": [
          1.7
         ],
         "y0": " ",
         "yaxis": "y"
        },
        {
         "alignmentgroup": "True",
         "hovertemplate": "DESIGNATION=%{x}<br>GPA=%{y}<extra></extra>",
         "legendgroup": "HR Analyst",
         "marker": {
          "color": "#FF6692"
         },
         "name": "HR Analyst",
         "notched": false,
         "offsetgroup": "HR Analyst",
         "orientation": "v",
         "showlegend": true,
         "type": "box",
         "x": [
          "HR Analyst"
         ],
         "x0": " ",
         "xaxis": "x",
         "y": [
          1.6
         ],
         "y0": " ",
         "yaxis": "y"
        },
        {
         "alignmentgroup": "True",
         "hovertemplate": "DESIGNATION=%{x}<br>GPA=%{y}<extra></extra>",
         "legendgroup": "Administrative Executive",
         "marker": {
          "color": "#B6E880"
         },
         "name": "Administrative Executive",
         "notched": false,
         "offsetgroup": "Administrative Executive",
         "orientation": "v",
         "showlegend": true,
         "type": "box",
         "x": [
          "Administrative Executive"
         ],
         "x0": " ",
         "xaxis": "x",
         "y": [
          1.8
         ],
         "y0": " ",
         "yaxis": "y"
        },
        {
         "alignmentgroup": "True",
         "hovertemplate": "DESIGNATION=%{x}<br>GPA=%{y}<extra></extra>",
         "legendgroup": "HR/Admin",
         "marker": {
          "color": "#FF97FF"
         },
         "name": "HR/Admin",
         "notched": false,
         "offsetgroup": "HR/Admin",
         "orientation": "v",
         "showlegend": true,
         "type": "box",
         "x": [
          "HR/Admin"
         ],
         "x0": " ",
         "xaxis": "x",
         "y": [
          2.8
         ],
         "y0": " ",
         "yaxis": "y"
        },
        {
         "alignmentgroup": "True",
         "hovertemplate": "DESIGNATION=%{x}<br>GPA=%{y}<extra></extra>",
         "legendgroup": "HR Manager",
         "marker": {
          "color": "#FECB52"
         },
         "name": "HR Manager",
         "notched": false,
         "offsetgroup": "HR Manager",
         "orientation": "v",
         "showlegend": true,
         "type": "box",
         "x": [
          "HR Manager",
          "HR Manager",
          "HR Manager",
          "HR Manager",
          "HR Manager"
         ],
         "x0": " ",
         "xaxis": "x",
         "y": [
          3.3,
          1.9,
          2.8,
          2.2,
          2.8
         ],
         "y0": " ",
         "yaxis": "y"
        },
        {
         "alignmentgroup": "True",
         "hovertemplate": "DESIGNATION=%{x}<br>GPA=%{y}<extra></extra>",
         "legendgroup": "Labour Admin Executive",
         "marker": {
          "color": "#636efa"
         },
         "name": "Labour Admin Executive",
         "notched": false,
         "offsetgroup": "Labour Admin Executive",
         "orientation": "v",
         "showlegend": true,
         "type": "box",
         "x": [
          "Labour Admin Executive"
         ],
         "x0": " ",
         "xaxis": "x",
         "y": [
          3.2
         ],
         "y0": " ",
         "yaxis": "y"
        },
        {
         "alignmentgroup": "True",
         "hovertemplate": "DESIGNATION=%{x}<br>GPA=%{y}<extra></extra>",
         "legendgroup": "Secretary",
         "marker": {
          "color": "#EF553B"
         },
         "name": "Secretary",
         "notched": false,
         "offsetgroup": "Secretary",
         "orientation": "v",
         "showlegend": true,
         "type": "box",
         "x": [
          "Secretary",
          "Secretary",
          "Secretary",
          "Secretary"
         ],
         "x0": " ",
         "xaxis": "x",
         "y": [
          2.2,
          2.2,
          3,
          2.6
         ],
         "y0": " ",
         "yaxis": "y"
        },
        {
         "alignmentgroup": "True",
         "hovertemplate": "DESIGNATION=%{x}<br>GPA=%{y}<extra></extra>",
         "legendgroup": "Executive",
         "marker": {
          "color": "#00cc96"
         },
         "name": "Executive",
         "notched": false,
         "offsetgroup": "Executive",
         "orientation": "v",
         "showlegend": true,
         "type": "box",
         "x": [
          "Executive",
          "Executive",
          "Executive"
         ],
         "x0": " ",
         "xaxis": "x",
         "y": [
          2.5,
          3.3,
          3
         ],
         "y0": " ",
         "yaxis": "y"
        },
        {
         "alignmentgroup": "True",
         "hovertemplate": "DESIGNATION=%{x}<br>GPA=%{y}<extra></extra>",
         "legendgroup": "HR Payroll Analyst",
         "marker": {
          "color": "#ab63fa"
         },
         "name": "HR Payroll Analyst",
         "notched": false,
         "offsetgroup": "HR Payroll Analyst",
         "orientation": "v",
         "showlegend": true,
         "type": "box",
         "x": [
          "HR Payroll Analyst"
         ],
         "x0": " ",
         "xaxis": "x",
         "y": [
          3.4
         ],
         "y0": " ",
         "yaxis": "y"
        },
        {
         "alignmentgroup": "True",
         "hovertemplate": "DESIGNATION=%{x}<br>GPA=%{y}<extra></extra>",
         "legendgroup": "Senior Executive",
         "marker": {
          "color": "#FFA15A"
         },
         "name": "Senior Executive",
         "notched": false,
         "offsetgroup": "Senior Executive",
         "orientation": "v",
         "showlegend": true,
         "type": "box",
         "x": [
          "Senior Executive"
         ],
         "x0": " ",
         "xaxis": "x",
         "y": [
          3.1
         ],
         "y0": " ",
         "yaxis": "y"
        },
        {
         "alignmentgroup": "True",
         "hovertemplate": "DESIGNATION=%{x}<br>GPA=%{y}<extra></extra>",
         "legendgroup": "PR Officer",
         "marker": {
          "color": "#19d3f3"
         },
         "name": "PR Officer",
         "notched": false,
         "offsetgroup": "PR Officer",
         "orientation": "v",
         "showlegend": true,
         "type": "box",
         "x": [
          "PR Officer"
         ],
         "x0": " ",
         "xaxis": "x",
         "y": [
          3.2
         ],
         "y0": " ",
         "yaxis": "y"
        },
        {
         "alignmentgroup": "True",
         "hovertemplate": "DESIGNATION=%{x}<br>GPA=%{y}<extra></extra>",
         "legendgroup": "Confidential Assistant",
         "marker": {
          "color": "#FF6692"
         },
         "name": "Confidential Assistant",
         "notched": false,
         "offsetgroup": "Confidential Assistant",
         "orientation": "v",
         "showlegend": true,
         "type": "box",
         "x": [
          "Confidential Assistant"
         ],
         "x0": " ",
         "xaxis": "x",
         "y": [
          2.9
         ],
         "y0": " ",
         "yaxis": "y"
        },
        {
         "alignmentgroup": "True",
         "hovertemplate": "DESIGNATION=%{x}<br>GPA=%{y}<extra></extra>",
         "legendgroup": "Recruitment Consultant",
         "marker": {
          "color": "#B6E880"
         },
         "name": "Recruitment Consultant",
         "notched": false,
         "offsetgroup": "Recruitment Consultant",
         "orientation": "v",
         "showlegend": true,
         "type": "box",
         "x": [
          "Recruitment Consultant",
          "Recruitment Consultant"
         ],
         "x0": " ",
         "xaxis": "x",
         "y": [
          2.8,
          2.3
         ],
         "y0": " ",
         "yaxis": "y"
        },
        {
         "alignmentgroup": "True",
         "hovertemplate": "DESIGNATION=%{x}<br>GPA=%{y}<extra></extra>",
         "legendgroup": "Regional Recruiter",
         "marker": {
          "color": "#FF97FF"
         },
         "name": "Regional Recruiter",
         "notched": false,
         "offsetgroup": "Regional Recruiter",
         "orientation": "v",
         "showlegend": true,
         "type": "box",
         "x": [
          "Regional Recruiter"
         ],
         "x0": " ",
         "xaxis": "x",
         "y": [
          3
         ],
         "y0": " ",
         "yaxis": "y"
        },
        {
         "alignmentgroup": "True",
         "hovertemplate": "DESIGNATION=%{x}<br>GPA=%{y}<extra></extra>",
         "legendgroup": "Assistant Manager, Human Resources",
         "marker": {
          "color": "#FECB52"
         },
         "name": "Assistant Manager, Human Resources",
         "notched": false,
         "offsetgroup": "Assistant Manager, Human Resources",
         "orientation": "v",
         "showlegend": true,
         "type": "box",
         "x": [
          "Assistant Manager, Human Resources"
         ],
         "x0": " ",
         "xaxis": "x",
         "y": [
          1.5
         ],
         "y0": " ",
         "yaxis": "y"
        },
        {
         "alignmentgroup": "True",
         "hovertemplate": "DESIGNATION=%{x}<br>GPA=%{y}<extra></extra>",
         "legendgroup": "Manager, Leadership & Coaching",
         "marker": {
          "color": "#636efa"
         },
         "name": "Manager, Leadership & Coaching",
         "notched": false,
         "offsetgroup": "Manager, Leadership & Coaching",
         "orientation": "v",
         "showlegend": true,
         "type": "box",
         "x": [
          "Manager, Leadership & Coaching"
         ],
         "x0": " ",
         "xaxis": "x",
         "y": [
          2.8
         ],
         "y0": " ",
         "yaxis": "y"
        },
        {
         "alignmentgroup": "True",
         "hovertemplate": "DESIGNATION=%{x}<br>GPA=%{y}<extra></extra>",
         "legendgroup": "Executive, Student Care Services",
         "marker": {
          "color": "#EF553B"
         },
         "name": "Executive, Student Care Services",
         "notched": false,
         "offsetgroup": "Executive, Student Care Services",
         "orientation": "v",
         "showlegend": true,
         "type": "box",
         "x": [
          "Executive, Student Care Services"
         ],
         "x0": " ",
         "xaxis": "x",
         "y": [
          2
         ],
         "y0": " ",
         "yaxis": "y"
        },
        {
         "alignmentgroup": "True",
         "hovertemplate": "DESIGNATION=%{x}<br>GPA=%{y}<extra></extra>",
         "legendgroup": "Executive, Corporate Services",
         "marker": {
          "color": "#00cc96"
         },
         "name": "Executive, Corporate Services",
         "notched": false,
         "offsetgroup": "Executive, Corporate Services",
         "orientation": "v",
         "showlegend": true,
         "type": "box",
         "x": [
          "Executive, Corporate Services"
         ],
         "x0": " ",
         "xaxis": "x",
         "y": [
          3
         ],
         "y0": " ",
         "yaxis": "y"
        },
        {
         "alignmentgroup": "True",
         "hovertemplate": "DESIGNATION=%{x}<br>GPA=%{y}<extra></extra>",
         "legendgroup": "Assistant Manager, HR Operations",
         "marker": {
          "color": "#ab63fa"
         },
         "name": "Assistant Manager, HR Operations",
         "notched": false,
         "offsetgroup": "Assistant Manager, HR Operations",
         "orientation": "v",
         "showlegend": true,
         "type": "box",
         "x": [
          "Assistant Manager, HR Operations"
         ],
         "x0": " ",
         "xaxis": "x",
         "y": [
          1.7
         ],
         "y0": " ",
         "yaxis": "y"
        },
        {
         "alignmentgroup": "True",
         "hovertemplate": "DESIGNATION=%{x}<br>GPA=%{y}<extra></extra>",
         "legendgroup": "Clerk",
         "marker": {
          "color": "#FFA15A"
         },
         "name": "Clerk",
         "notched": false,
         "offsetgroup": "Clerk",
         "orientation": "v",
         "showlegend": true,
         "type": "box",
         "x": [
          "Clerk"
         ],
         "x0": " ",
         "xaxis": "x",
         "y": [
          3
         ],
         "y0": " ",
         "yaxis": "y"
        },
        {
         "alignmentgroup": "True",
         "hovertemplate": "DESIGNATION=%{x}<br>GPA=%{y}<extra></extra>",
         "legendgroup": "Manager (Engagement)",
         "marker": {
          "color": "#19d3f3"
         },
         "name": "Manager (Engagement)",
         "notched": false,
         "offsetgroup": "Manager (Engagement)",
         "orientation": "v",
         "showlegend": true,
         "type": "box",
         "x": [
          "Manager (Engagement)"
         ],
         "x0": " ",
         "xaxis": "x",
         "y": [
          1.5
         ],
         "y0": " ",
         "yaxis": "y"
        },
        {
         "alignmentgroup": "True",
         "hovertemplate": "DESIGNATION=%{x}<br>GPA=%{y}<extra></extra>",
         "legendgroup": "Associate, HR & Payroll",
         "marker": {
          "color": "#FF6692"
         },
         "name": "Associate, HR & Payroll",
         "notched": false,
         "offsetgroup": "Associate, HR & Payroll",
         "orientation": "v",
         "showlegend": true,
         "type": "box",
         "x": [
          "Associate, HR & Payroll"
         ],
         "x0": " ",
         "xaxis": "x",
         "y": [
          1.6
         ],
         "y0": " ",
         "yaxis": "y"
        },
        {
         "alignmentgroup": "True",
         "hovertemplate": "DESIGNATION=%{x}<br>GPA=%{y}<extra></extra>",
         "legendgroup": "Senior Manager",
         "marker": {
          "color": "#B6E880"
         },
         "name": "Senior Manager",
         "notched": false,
         "offsetgroup": "Senior Manager",
         "orientation": "v",
         "showlegend": true,
         "type": "box",
         "x": [
          "Senior Manager",
          "Senior Manager",
          "Senior Manager"
         ],
         "x0": " ",
         "xaxis": "x",
         "y": [
          1.8,
          2.5,
          3.2
         ],
         "y0": " ",
         "yaxis": "y"
        },
        {
         "alignmentgroup": "True",
         "hovertemplate": "DESIGNATION=%{x}<br>GPA=%{y}<extra></extra>",
         "legendgroup": "Head of HR",
         "marker": {
          "color": "#FF97FF"
         },
         "name": "Head of HR",
         "notched": false,
         "offsetgroup": "Head of HR",
         "orientation": "v",
         "showlegend": true,
         "type": "box",
         "x": [
          "Head of HR"
         ],
         "x0": " ",
         "xaxis": "x",
         "y": [
          1.9
         ],
         "y0": " ",
         "yaxis": "y"
        },
        {
         "alignmentgroup": "True",
         "hovertemplate": "DESIGNATION=%{x}<br>GPA=%{y}<extra></extra>",
         "legendgroup": "Academy Program Coordinator",
         "marker": {
          "color": "#FECB52"
         },
         "name": "Academy Program Coordinator",
         "notched": false,
         "offsetgroup": "Academy Program Coordinator",
         "orientation": "v",
         "showlegend": true,
         "type": "box",
         "x": [
          "Academy Program Coordinator"
         ],
         "x0": " ",
         "xaxis": "x",
         "y": [
          1.5
         ],
         "y0": " ",
         "yaxis": "y"
        },
        {
         "alignmentgroup": "True",
         "hovertemplate": "DESIGNATION=%{x}<br>GPA=%{y}<extra></extra>",
         "legendgroup": "HR Administrator",
         "marker": {
          "color": "#636efa"
         },
         "name": "HR Administrator",
         "notched": false,
         "offsetgroup": "HR Administrator",
         "orientation": "v",
         "showlegend": true,
         "type": "box",
         "x": [
          "HR Administrator",
          "HR Administrator",
          "HR Administrator"
         ],
         "x0": " ",
         "xaxis": "x",
         "y": [
          2.5,
          3.9,
          3
         ],
         "y0": " ",
         "yaxis": "y"
        },
        {
         "alignmentgroup": "True",
         "hovertemplate": "DESIGNATION=%{x}<br>GPA=%{y}<extra></extra>",
         "legendgroup": "Device Engineer",
         "marker": {
          "color": "#EF553B"
         },
         "name": "Device Engineer",
         "notched": false,
         "offsetgroup": "Device Engineer",
         "orientation": "v",
         "showlegend": true,
         "type": "box",
         "x": [
          "Device Engineer"
         ],
         "x0": " ",
         "xaxis": "x",
         "y": [
          2.9
         ],
         "y0": " ",
         "yaxis": "y"
        },
        {
         "alignmentgroup": "True",
         "hovertemplate": "DESIGNATION=%{x}<br>GPA=%{y}<extra></extra>",
         "legendgroup": "IT Developer",
         "marker": {
          "color": "#00cc96"
         },
         "name": "IT Developer",
         "notched": false,
         "offsetgroup": "IT Developer",
         "orientation": "v",
         "showlegend": true,
         "type": "box",
         "x": [
          "IT Developer"
         ],
         "x0": " ",
         "xaxis": "x",
         "y": [
          3.4
         ],
         "y0": " ",
         "yaxis": "y"
        },
        {
         "alignmentgroup": "True",
         "hovertemplate": "DESIGNATION=%{x}<br>GPA=%{y}<extra></extra>",
         "legendgroup": "Sr HR Associate",
         "marker": {
          "color": "#ab63fa"
         },
         "name": "Sr HR Associate",
         "notched": false,
         "offsetgroup": "Sr HR Associate",
         "orientation": "v",
         "showlegend": true,
         "type": "box",
         "x": [
          "Sr HR Associate"
         ],
         "x0": " ",
         "xaxis": "x",
         "y": [
          2.1
         ],
         "y0": " ",
         "yaxis": "y"
        },
        {
         "alignmentgroup": "True",
         "hovertemplate": "DESIGNATION=%{x}<br>GPA=%{y}<extra></extra>",
         "legendgroup": "Admin & HR Executive",
         "marker": {
          "color": "#FFA15A"
         },
         "name": "Admin & HR Executive",
         "notched": false,
         "offsetgroup": "Admin & HR Executive",
         "orientation": "v",
         "showlegend": true,
         "type": "box",
         "x": [
          "Admin & HR Executive"
         ],
         "x0": " ",
         "xaxis": "x",
         "y": [
          3.2
         ],
         "y0": " ",
         "yaxis": "y"
        },
        {
         "alignmentgroup": "True",
         "hovertemplate": "DESIGNATION=%{x}<br>GPA=%{y}<extra></extra>",
         "legendgroup": "Executive, Human Capital",
         "marker": {
          "color": "#19d3f3"
         },
         "name": "Executive, Human Capital",
         "notched": false,
         "offsetgroup": "Executive, Human Capital",
         "orientation": "v",
         "showlegend": true,
         "type": "box",
         "x": [
          "Executive, Human Capital"
         ],
         "x0": " ",
         "xaxis": "x",
         "y": [
          2.8
         ],
         "y0": " ",
         "yaxis": "y"
        },
        {
         "alignmentgroup": "True",
         "hovertemplate": "DESIGNATION=%{x}<br>GPA=%{y}<extra></extra>",
         "legendgroup": "Human Resource Officer",
         "marker": {
          "color": "#FF6692"
         },
         "name": "Human Resource Officer",
         "notched": false,
         "offsetgroup": "Human Resource Officer",
         "orientation": "v",
         "showlegend": true,
         "type": "box",
         "x": [
          "Human Resource Officer"
         ],
         "x0": " ",
         "xaxis": "x",
         "y": [
          2.4
         ],
         "y0": " ",
         "yaxis": "y"
        },
        {
         "alignmentgroup": "True",
         "hovertemplate": "DESIGNATION=%{x}<br>GPA=%{y}<extra></extra>",
         "legendgroup": "Human Resource & Admin Manager",
         "marker": {
          "color": "#B6E880"
         },
         "name": "Human Resource & Admin Manager",
         "notched": false,
         "offsetgroup": "Human Resource & Admin Manager",
         "orientation": "v",
         "showlegend": true,
         "type": "box",
         "x": [
          "Human Resource & Admin Manager"
         ],
         "x0": " ",
         "xaxis": "x",
         "y": [
          2.9
         ],
         "y0": " ",
         "yaxis": "y"
        },
        {
         "alignmentgroup": "True",
         "hovertemplate": "DESIGNATION=%{x}<br>GPA=%{y}<extra></extra>",
         "legendgroup": "Admin Asst",
         "marker": {
          "color": "#FF97FF"
         },
         "name": "Admin Asst",
         "notched": false,
         "offsetgroup": "Admin Asst",
         "orientation": "v",
         "showlegend": true,
         "type": "box",
         "x": [
          "Admin Asst"
         ],
         "x0": " ",
         "xaxis": "x",
         "y": [
          3.1
         ],
         "y0": " ",
         "yaxis": "y"
        },
        {
         "alignmentgroup": "True",
         "hovertemplate": "DESIGNATION=%{x}<br>GPA=%{y}<extra></extra>",
         "legendgroup": "Service Crew",
         "marker": {
          "color": "#FECB52"
         },
         "name": "Service Crew",
         "notched": false,
         "offsetgroup": "Service Crew",
         "orientation": "v",
         "showlegend": true,
         "type": "box",
         "x": [
          "Service Crew"
         ],
         "x0": " ",
         "xaxis": "x",
         "y": [
          2.7
         ],
         "y0": " ",
         "yaxis": "y"
        },
        {
         "alignmentgroup": "True",
         "hovertemplate": "DESIGNATION=%{x}<br>GPA=%{y}<extra></extra>",
         "legendgroup": "Payroll",
         "marker": {
          "color": "#636efa"
         },
         "name": "Payroll",
         "notched": false,
         "offsetgroup": "Payroll",
         "orientation": "v",
         "showlegend": true,
         "type": "box",
         "x": [
          "Payroll"
         ],
         "x0": " ",
         "xaxis": "x",
         "y": [
          2.9
         ],
         "y0": " ",
         "yaxis": "y"
        },
        {
         "alignmentgroup": "True",
         "hovertemplate": "DESIGNATION=%{x}<br>GPA=%{y}<extra></extra>",
         "legendgroup": "Accounts cum HR Executive",
         "marker": {
          "color": "#EF553B"
         },
         "name": "Accounts cum HR Executive",
         "notched": false,
         "offsetgroup": "Accounts cum HR Executive",
         "orientation": "v",
         "showlegend": true,
         "type": "box",
         "x": [
          "Accounts cum HR Executive"
         ],
         "x0": " ",
         "xaxis": "x",
         "y": [
          2.6
         ],
         "y0": " ",
         "yaxis": "y"
        },
        {
         "alignmentgroup": "True",
         "hovertemplate": "DESIGNATION=%{x}<br>GPA=%{y}<extra></extra>",
         "legendgroup": "Head, Registry & Corp Admin",
         "marker": {
          "color": "#00cc96"
         },
         "name": "Head, Registry & Corp Admin",
         "notched": false,
         "offsetgroup": "Head, Registry & Corp Admin",
         "orientation": "v",
         "showlegend": true,
         "type": "box",
         "x": [
          "Head, Registry & Corp Admin"
         ],
         "x0": " ",
         "xaxis": "x",
         "y": [
          2.9
         ],
         "y0": " ",
         "yaxis": "y"
        },
        {
         "alignmentgroup": "True",
         "hovertemplate": "DESIGNATION=%{x}<br>GPA=%{y}<extra></extra>",
         "legendgroup": "Administrative Assistant",
         "marker": {
          "color": "#ab63fa"
         },
         "name": "Administrative Assistant",
         "notched": false,
         "offsetgroup": "Administrative Assistant",
         "orientation": "v",
         "showlegend": true,
         "type": "box",
         "x": [
          "Administrative Assistant"
         ],
         "x0": " ",
         "xaxis": "x",
         "y": [
          3.4
         ],
         "y0": " ",
         "yaxis": "y"
        },
        {
         "alignmentgroup": "True",
         "hovertemplate": "DESIGNATION=%{x}<br>GPA=%{y}<extra></extra>",
         "legendgroup": "Receptionist",
         "marker": {
          "color": "#FFA15A"
         },
         "name": "Receptionist",
         "notched": false,
         "offsetgroup": "Receptionist",
         "orientation": "v",
         "showlegend": true,
         "type": "box",
         "x": [
          "Receptionist"
         ],
         "x0": " ",
         "xaxis": "x",
         "y": [
          2.4
         ],
         "y0": " ",
         "yaxis": "y"
        },
        {
         "alignmentgroup": "True",
         "hovertemplate": "DESIGNATION=%{x}<br>GPA=%{y}<extra></extra>",
         "legendgroup": "HR Supervisor",
         "marker": {
          "color": "#19d3f3"
         },
         "name": "HR Supervisor",
         "notched": false,
         "offsetgroup": "HR Supervisor",
         "orientation": "v",
         "showlegend": true,
         "type": "box",
         "x": [
          "HR Supervisor"
         ],
         "x0": " ",
         "xaxis": "x",
         "y": [
          2.5
         ],
         "y0": " ",
         "yaxis": "y"
        },
        {
         "alignmentgroup": "True",
         "hovertemplate": "DESIGNATION=%{x}<br>GPA=%{y}<extra></extra>",
         "legendgroup": "Consultant",
         "marker": {
          "color": "#FF6692"
         },
         "name": "Consultant",
         "notched": false,
         "offsetgroup": "Consultant",
         "orientation": "v",
         "showlegend": true,
         "type": "box",
         "x": [
          "Consultant",
          "Consultant"
         ],
         "x0": " ",
         "xaxis": "x",
         "y": [
          3.9,
          2.6
         ],
         "y0": " ",
         "yaxis": "y"
        },
        {
         "alignmentgroup": "True",
         "hovertemplate": "DESIGNATION=%{x}<br>GPA=%{y}<extra></extra>",
         "legendgroup": "N.A.",
         "marker": {
          "color": "#B6E880"
         },
         "name": "N.A.",
         "notched": false,
         "offsetgroup": "N.A.",
         "orientation": "v",
         "showlegend": true,
         "type": "box",
         "x": [
          "N.A.",
          "N.A."
         ],
         "x0": " ",
         "xaxis": "x",
         "y": [
          3.2,
          2.6
         ],
         "y0": " ",
         "yaxis": "y"
        },
        {
         "alignmentgroup": "True",
         "hovertemplate": "DESIGNATION=%{x}<br>GPA=%{y}<extra></extra>",
         "legendgroup": "Account Senior",
         "marker": {
          "color": "#FF97FF"
         },
         "name": "Account Senior",
         "notched": false,
         "offsetgroup": "Account Senior",
         "orientation": "v",
         "showlegend": true,
         "type": "box",
         "x": [
          "Account Senior"
         ],
         "x0": " ",
         "xaxis": "x",
         "y": [
          2.4
         ],
         "y0": " ",
         "yaxis": "y"
        },
        {
         "alignmentgroup": "True",
         "hovertemplate": "DESIGNATION=%{x}<br>GPA=%{y}<extra></extra>",
         "legendgroup": "Editor",
         "marker": {
          "color": "#FECB52"
         },
         "name": "Editor",
         "notched": false,
         "offsetgroup": "Editor",
         "orientation": "v",
         "showlegend": true,
         "type": "box",
         "x": [
          "Editor"
         ],
         "x0": " ",
         "xaxis": "x",
         "y": [
          2.8
         ],
         "y0": " ",
         "yaxis": "y"
        },
        {
         "alignmentgroup": "True",
         "hovertemplate": "DESIGNATION=%{x}<br>GPA=%{y}<extra></extra>",
         "legendgroup": "Admin & HR Assistant",
         "marker": {
          "color": "#636efa"
         },
         "name": "Admin & HR Assistant",
         "notched": false,
         "offsetgroup": "Admin & HR Assistant",
         "orientation": "v",
         "showlegend": true,
         "type": "box",
         "x": [
          "Admin & HR Assistant"
         ],
         "x0": " ",
         "xaxis": "x",
         "y": [
          3.2
         ],
         "y0": " ",
         "yaxis": "y"
        },
        {
         "alignmentgroup": "True",
         "hovertemplate": "DESIGNATION=%{x}<br>GPA=%{y}<extra></extra>",
         "legendgroup": "Human Resource Assistant",
         "marker": {
          "color": "#EF553B"
         },
         "name": "Human Resource Assistant",
         "notched": false,
         "offsetgroup": "Human Resource Assistant",
         "orientation": "v",
         "showlegend": true,
         "type": "box",
         "x": [
          "Human Resource Assistant"
         ],
         "x0": " ",
         "xaxis": "x",
         "y": [
          3.7
         ],
         "y0": " ",
         "yaxis": "y"
        },
        {
         "alignmentgroup": "True",
         "hovertemplate": "DESIGNATION=%{x}<br>GPA=%{y}<extra></extra>",
         "legendgroup": "Senior Administrative Executive",
         "marker": {
          "color": "#00cc96"
         },
         "name": "Senior Administrative Executive",
         "notched": false,
         "offsetgroup": "Senior Administrative Executive",
         "orientation": "v",
         "showlegend": true,
         "type": "box",
         "x": [
          "Senior Administrative Executive"
         ],
         "x0": " ",
         "xaxis": "x",
         "y": [
          3.2
         ],
         "y0": " ",
         "yaxis": "y"
        },
        {
         "alignmentgroup": "True",
         "hovertemplate": "DESIGNATION=%{x}<br>GPA=%{y}<extra></extra>",
         "legendgroup": "Officer, Administration and Operations",
         "marker": {
          "color": "#ab63fa"
         },
         "name": "Officer, Administration and Operations",
         "notched": false,
         "offsetgroup": "Officer, Administration and Operations",
         "orientation": "v",
         "showlegend": true,
         "type": "box",
         "x": [
          "Officer, Administration and Operations"
         ],
         "x0": " ",
         "xaxis": "x",
         "y": [
          3.1
         ],
         "y0": " ",
         "yaxis": "y"
        },
        {
         "alignmentgroup": "True",
         "hovertemplate": "DESIGNATION=%{x}<br>GPA=%{y}<extra></extra>",
         "legendgroup": "Journey Management Team Lead",
         "marker": {
          "color": "#FFA15A"
         },
         "name": "Journey Management Team Lead",
         "notched": false,
         "offsetgroup": "Journey Management Team Lead",
         "orientation": "v",
         "showlegend": true,
         "type": "box",
         "x": [
          "Journey Management Team Lead"
         ],
         "x0": " ",
         "xaxis": "x",
         "y": [
          2.6
         ],
         "y0": " ",
         "yaxis": "y"
        },
        {
         "alignmentgroup": "True",
         "hovertemplate": "DESIGNATION=%{x}<br>GPA=%{y}<extra></extra>",
         "legendgroup": "Admin Officer",
         "marker": {
          "color": "#19d3f3"
         },
         "name": "Admin Officer",
         "notched": false,
         "offsetgroup": "Admin Officer",
         "orientation": "v",
         "showlegend": true,
         "type": "box",
         "x": [
          "Admin Officer",
          "Admin Officer"
         ],
         "x0": " ",
         "xaxis": "x",
         "y": [
          2.5,
          3.1
         ],
         "y0": " ",
         "yaxis": "y"
        },
        {
         "alignmentgroup": "True",
         "hovertemplate": "DESIGNATION=%{x}<br>GPA=%{y}<extra></extra>",
         "legendgroup": "HR Support / Office Manager",
         "marker": {
          "color": "#FF6692"
         },
         "name": "HR Support / Office Manager",
         "notched": false,
         "offsetgroup": "HR Support / Office Manager",
         "orientation": "v",
         "showlegend": true,
         "type": "box",
         "x": [
          "HR Support / Office Manager"
         ],
         "x0": " ",
         "xaxis": "x",
         "y": [
          3.6
         ],
         "y0": " ",
         "yaxis": "y"
        },
        {
         "alignmentgroup": "True",
         "hovertemplate": "DESIGNATION=%{x}<br>GPA=%{y}<extra></extra>",
         "legendgroup": "PR Executive",
         "marker": {
          "color": "#B6E880"
         },
         "name": "PR Executive",
         "notched": false,
         "offsetgroup": "PR Executive",
         "orientation": "v",
         "showlegend": true,
         "type": "box",
         "x": [
          "PR Executive"
         ],
         "x0": " ",
         "xaxis": "x",
         "y": [
          3
         ],
         "y0": " ",
         "yaxis": "y"
        },
        {
         "alignmentgroup": "True",
         "hovertemplate": "DESIGNATION=%{x}<br>GPA=%{y}<extra></extra>",
         "legendgroup": "Snr Client Service Executive",
         "marker": {
          "color": "#FF97FF"
         },
         "name": "Snr Client Service Executive",
         "notched": false,
         "offsetgroup": "Snr Client Service Executive",
         "orientation": "v",
         "showlegend": true,
         "type": "box",
         "x": [
          "Snr Client Service Executive"
         ],
         "x0": " ",
         "xaxis": "x",
         "y": [
          3.3
         ],
         "y0": " ",
         "yaxis": "y"
        },
        {
         "alignmentgroup": "True",
         "hovertemplate": "DESIGNATION=%{x}<br>GPA=%{y}<extra></extra>",
         "legendgroup": "HR Associate, Southeast Asia",
         "marker": {
          "color": "#FECB52"
         },
         "name": "HR Associate, Southeast Asia",
         "notched": false,
         "offsetgroup": "HR Associate, Southeast Asia",
         "orientation": "v",
         "showlegend": true,
         "type": "box",
         "x": [
          "HR Associate, Southeast Asia"
         ],
         "x0": " ",
         "xaxis": "x",
         "y": [
          3.4
         ],
         "y0": " ",
         "yaxis": "y"
        },
        {
         "alignmentgroup": "True",
         "hovertemplate": "DESIGNATION=%{x}<br>GPA=%{y}<extra></extra>",
         "legendgroup": "Senior Executive, Human Resource",
         "marker": {
          "color": "#636efa"
         },
         "name": "Senior Executive, Human Resource",
         "notched": false,
         "offsetgroup": "Senior Executive, Human Resource",
         "orientation": "v",
         "showlegend": true,
         "type": "box",
         "x": [
          "Senior Executive, Human Resource"
         ],
         "x0": " ",
         "xaxis": "x",
         "y": [
          2.2
         ],
         "y0": " ",
         "yaxis": "y"
        },
        {
         "alignmentgroup": "True",
         "hovertemplate": "DESIGNATION=%{x}<br>GPA=%{y}<extra></extra>",
         "legendgroup": "Teacher",
         "marker": {
          "color": "#EF553B"
         },
         "name": "Teacher",
         "notched": false,
         "offsetgroup": "Teacher",
         "orientation": "v",
         "showlegend": true,
         "type": "box",
         "x": [
          "Teacher"
         ],
         "x0": " ",
         "xaxis": "x",
         "y": [
          2.8
         ],
         "y0": " ",
         "yaxis": "y"
        },
        {
         "alignmentgroup": "True",
         "hovertemplate": "DESIGNATION=%{x}<br>GPA=%{y}<extra></extra>",
         "legendgroup": "Admin cum Payroll Officer",
         "marker": {
          "color": "#00cc96"
         },
         "name": "Admin cum Payroll Officer",
         "notched": false,
         "offsetgroup": "Admin cum Payroll Officer",
         "orientation": "v",
         "showlegend": true,
         "type": "box",
         "x": [
          "Admin cum Payroll Officer"
         ],
         "x0": " ",
         "xaxis": "x",
         "y": [
          3.7
         ],
         "y0": " ",
         "yaxis": "y"
        },
        {
         "alignmentgroup": "True",
         "hovertemplate": "DESIGNATION=%{x}<br>GPA=%{y}<extra></extra>",
         "legendgroup": "Accountant",
         "marker": {
          "color": "#ab63fa"
         },
         "name": "Accountant",
         "notched": false,
         "offsetgroup": "Accountant",
         "orientation": "v",
         "showlegend": true,
         "type": "box",
         "x": [
          "Accountant"
         ],
         "x0": " ",
         "xaxis": "x",
         "y": [
          3.9
         ],
         "y0": " ",
         "yaxis": "y"
        },
        {
         "alignmentgroup": "True",
         "hovertemplate": "DESIGNATION=%{x}<br>GPA=%{y}<extra></extra>",
         "legendgroup": "Human Resource Executive",
         "marker": {
          "color": "#FFA15A"
         },
         "name": "Human Resource Executive",
         "notched": false,
         "offsetgroup": "Human Resource Executive",
         "orientation": "v",
         "showlegend": true,
         "type": "box",
         "x": [
          "Human Resource Executive"
         ],
         "x0": " ",
         "xaxis": "x",
         "y": [
          3
         ],
         "y0": " ",
         "yaxis": "y"
        },
        {
         "alignmentgroup": "True",
         "hovertemplate": "DESIGNATION=%{x}<br>GPA=%{y}<extra></extra>",
         "legendgroup": "Operation Executive",
         "marker": {
          "color": "#19d3f3"
         },
         "name": "Operation Executive",
         "notched": false,
         "offsetgroup": "Operation Executive",
         "orientation": "v",
         "showlegend": true,
         "type": "box",
         "x": [
          "Operation Executive"
         ],
         "x0": " ",
         "xaxis": "x",
         "y": [
          2.9
         ],
         "y0": " ",
         "yaxis": "y"
        },
        {
         "alignmentgroup": "True",
         "hovertemplate": "DESIGNATION=%{x}<br>GPA=%{y}<extra></extra>",
         "legendgroup": "Admin Support Assistance",
         "marker": {
          "color": "#FF6692"
         },
         "name": "Admin Support Assistance",
         "notched": false,
         "offsetgroup": "Admin Support Assistance",
         "orientation": "v",
         "showlegend": true,
         "type": "box",
         "x": [
          "Admin Support Assistance"
         ],
         "x0": " ",
         "xaxis": "x",
         "y": [
          3.7
         ],
         "y0": " ",
         "yaxis": "y"
        },
        {
         "alignmentgroup": "True",
         "hovertemplate": "DESIGNATION=%{x}<br>GPA=%{y}<extra></extra>",
         "legendgroup": "Account Manager",
         "marker": {
          "color": "#B6E880"
         },
         "name": "Account Manager",
         "notched": false,
         "offsetgroup": "Account Manager",
         "orientation": "v",
         "showlegend": true,
         "type": "box",
         "x": [
          "Account Manager"
         ],
         "x0": " ",
         "xaxis": "x",
         "y": [
          3
         ],
         "y0": " ",
         "yaxis": "y"
        },
        {
         "alignmentgroup": "True",
         "hovertemplate": "DESIGNATION=%{x}<br>GPA=%{y}<extra></extra>",
         "legendgroup": "Center Administrator",
         "marker": {
          "color": "#FF97FF"
         },
         "name": "Center Administrator",
         "notched": false,
         "offsetgroup": "Center Administrator",
         "orientation": "v",
         "showlegend": true,
         "type": "box",
         "x": [
          "Center Administrator"
         ],
         "x0": " ",
         "xaxis": "x",
         "y": [
          3.9
         ],
         "y0": " ",
         "yaxis": "y"
        },
        {
         "alignmentgroup": "True",
         "hovertemplate": "DESIGNATION=%{x}<br>GPA=%{y}<extra></extra>",
         "legendgroup": "Senior Analyst, Compensation & Benefits",
         "marker": {
          "color": "#FECB52"
         },
         "name": "Senior Analyst, Compensation & Benefits",
         "notched": false,
         "offsetgroup": "Senior Analyst, Compensation & Benefits",
         "orientation": "v",
         "showlegend": true,
         "type": "box",
         "x": [
          "Senior Analyst, Compensation & Benefits"
         ],
         "x0": " ",
         "xaxis": "x",
         "y": [
          3.4
         ],
         "y0": " ",
         "yaxis": "y"
        },
        {
         "alignmentgroup": "True",
         "hovertemplate": "DESIGNATION=%{x}<br>GPA=%{y}<extra></extra>",
         "legendgroup": "Corporate Service Executive",
         "marker": {
          "color": "#636efa"
         },
         "name": "Corporate Service Executive",
         "notched": false,
         "offsetgroup": "Corporate Service Executive",
         "orientation": "v",
         "showlegend": true,
         "type": "box",
         "x": [
          "Corporate Service Executive"
         ],
         "x0": " ",
         "xaxis": "x",
         "y": [
          3.7
         ],
         "y0": " ",
         "yaxis": "y"
        },
        {
         "alignmentgroup": "True",
         "hovertemplate": "DESIGNATION=%{x}<br>GPA=%{y}<extra></extra>",
         "legendgroup": "Operations Executive",
         "marker": {
          "color": "#EF553B"
         },
         "name": "Operations Executive",
         "notched": false,
         "offsetgroup": "Operations Executive",
         "orientation": "v",
         "showlegend": true,
         "type": "box",
         "x": [
          "Operations Executive"
         ],
         "x0": " ",
         "xaxis": "x",
         "y": [
          3.1
         ],
         "y0": " ",
         "yaxis": "y"
        },
        {
         "alignmentgroup": "True",
         "hovertemplate": "DESIGNATION=%{x}<br>GPA=%{y}<extra></extra>",
         "legendgroup": "Relationship and Marketing Executive",
         "marker": {
          "color": "#00cc96"
         },
         "name": "Relationship and Marketing Executive",
         "notched": false,
         "offsetgroup": "Relationship and Marketing Executive",
         "orientation": "v",
         "showlegend": true,
         "type": "box",
         "x": [
          "Relationship and Marketing Executive"
         ],
         "x0": " ",
         "xaxis": "x",
         "y": [
          3.5
         ],
         "y0": " ",
         "yaxis": "y"
        },
        {
         "alignmentgroup": "True",
         "hovertemplate": "DESIGNATION=%{x}<br>GPA=%{y}<extra></extra>",
         "legendgroup": "Business Support Manager, APAC",
         "marker": {
          "color": "#ab63fa"
         },
         "name": "Business Support Manager, APAC",
         "notched": false,
         "offsetgroup": "Business Support Manager, APAC",
         "orientation": "v",
         "showlegend": true,
         "type": "box",
         "x": [
          "Business Support Manager, APAC"
         ],
         "x0": " ",
         "xaxis": "x",
         "y": [
          3.4
         ],
         "y0": " ",
         "yaxis": "y"
        },
        {
         "alignmentgroup": "True",
         "hovertemplate": "DESIGNATION=%{x}<br>GPA=%{y}<extra></extra>",
         "legendgroup": "APAC HR Specialist",
         "marker": {
          "color": "#FFA15A"
         },
         "name": "APAC HR Specialist",
         "notched": false,
         "offsetgroup": "APAC HR Specialist",
         "orientation": "v",
         "showlegend": true,
         "type": "box",
         "x": [
          "APAC HR Specialist"
         ],
         "x0": " ",
         "xaxis": "x",
         "y": [
          2.8
         ],
         "y0": " ",
         "yaxis": "y"
        },
        {
         "alignmentgroup": "True",
         "hovertemplate": "DESIGNATION=%{x}<br>GPA=%{y}<extra></extra>",
         "legendgroup": "Senior HR Officer",
         "marker": {
          "color": "#19d3f3"
         },
         "name": "Senior HR Officer",
         "notched": false,
         "offsetgroup": "Senior HR Officer",
         "orientation": "v",
         "showlegend": true,
         "type": "box",
         "x": [
          "Senior HR Officer"
         ],
         "x0": " ",
         "xaxis": "x",
         "y": [
          3.7
         ],
         "y0": " ",
         "yaxis": "y"
        },
        {
         "alignmentgroup": "True",
         "hovertemplate": "DESIGNATION=%{x}<br>GPA=%{y}<extra></extra>",
         "legendgroup": "Associate, HR & General Affairs",
         "marker": {
          "color": "#FF6692"
         },
         "name": "Associate, HR & General Affairs",
         "notched": false,
         "offsetgroup": "Associate, HR & General Affairs",
         "orientation": "v",
         "showlegend": true,
         "type": "box",
         "x": [
          "Associate, HR & General Affairs"
         ],
         "x0": " ",
         "xaxis": "x",
         "y": [
          3.4
         ],
         "y0": " ",
         "yaxis": "y"
        },
        {
         "alignmentgroup": "True",
         "hovertemplate": "DESIGNATION=%{x}<br>GPA=%{y}<extra></extra>",
         "legendgroup": "Admin Supervisor",
         "marker": {
          "color": "#B6E880"
         },
         "name": "Admin Supervisor",
         "notched": false,
         "offsetgroup": "Admin Supervisor",
         "orientation": "v",
         "showlegend": true,
         "type": "box",
         "x": [
          "Admin Supervisor"
         ],
         "x0": " ",
         "xaxis": "x",
         "y": [
          3.2
         ],
         "y0": " ",
         "yaxis": "y"
        },
        {
         "alignmentgroup": "True",
         "hovertemplate": "DESIGNATION=%{x}<br>GPA=%{y}<extra></extra>",
         "legendgroup": "Audit Associate",
         "marker": {
          "color": "#FF97FF"
         },
         "name": "Audit Associate",
         "notched": false,
         "offsetgroup": "Audit Associate",
         "orientation": "v",
         "showlegend": true,
         "type": "box",
         "x": [
          "Audit Associate"
         ],
         "x0": " ",
         "xaxis": "x",
         "y": [
          2.9
         ],
         "y0": " ",
         "yaxis": "y"
        },
        {
         "alignmentgroup": "True",
         "hovertemplate": "DESIGNATION=%{x}<br>GPA=%{y}<extra></extra>",
         "legendgroup": "Rooms Division Manager",
         "marker": {
          "color": "#FECB52"
         },
         "name": "Rooms Division Manager",
         "notched": false,
         "offsetgroup": "Rooms Division Manager",
         "orientation": "v",
         "showlegend": true,
         "type": "box",
         "x": [
          "Rooms Division Manager"
         ],
         "x0": " ",
         "xaxis": "x",
         "y": [
          2.9
         ],
         "y0": " ",
         "yaxis": "y"
        },
        {
         "alignmentgroup": "True",
         "hovertemplate": "DESIGNATION=%{x}<br>GPA=%{y}<extra></extra>",
         "legendgroup": "Snr Executive, Accounts",
         "marker": {
          "color": "#636efa"
         },
         "name": "Snr Executive, Accounts",
         "notched": false,
         "offsetgroup": "Snr Executive, Accounts",
         "orientation": "v",
         "showlegend": true,
         "type": "box",
         "x": [
          "Snr Executive, Accounts"
         ],
         "x0": " ",
         "xaxis": "x",
         "y": [
          3.2
         ],
         "y0": " ",
         "yaxis": "y"
        },
        {
         "alignmentgroup": "True",
         "hovertemplate": "DESIGNATION=%{x}<br>GPA=%{y}<extra></extra>",
         "legendgroup": "Senior Human Resource Executive",
         "marker": {
          "color": "#EF553B"
         },
         "name": "Senior Human Resource Executive",
         "notched": false,
         "offsetgroup": "Senior Human Resource Executive",
         "orientation": "v",
         "showlegend": true,
         "type": "box",
         "x": [
          "Senior Human Resource Executive"
         ],
         "x0": " ",
         "xaxis": "x",
         "y": [
          3.7
         ],
         "y0": " ",
         "yaxis": "y"
        },
        {
         "alignmentgroup": "True",
         "hovertemplate": "DESIGNATION=%{x}<br>GPA=%{y}<extra></extra>",
         "legendgroup": "Lecturer",
         "marker": {
          "color": "#00cc96"
         },
         "name": "Lecturer",
         "notched": false,
         "offsetgroup": "Lecturer",
         "orientation": "v",
         "showlegend": true,
         "type": "box",
         "x": [
          "Lecturer"
         ],
         "x0": " ",
         "xaxis": "x",
         "y": [
          3.7
         ],
         "y0": " ",
         "yaxis": "y"
        },
        {
         "alignmentgroup": "True",
         "hovertemplate": "DESIGNATION=%{x}<br>GPA=%{y}<extra></extra>",
         "legendgroup": "Staff Nurse",
         "marker": {
          "color": "#ab63fa"
         },
         "name": "Staff Nurse",
         "notched": false,
         "offsetgroup": "Staff Nurse",
         "orientation": "v",
         "showlegend": true,
         "type": "box",
         "x": [
          "Staff Nurse"
         ],
         "x0": " ",
         "xaxis": "x",
         "y": [
          3.8
         ],
         "y0": " ",
         "yaxis": "y"
        },
        {
         "alignmentgroup": "True",
         "hovertemplate": "DESIGNATION=%{x}<br>GPA=%{y}<extra></extra>",
         "legendgroup": "Admin Support Executive",
         "marker": {
          "color": "#FFA15A"
         },
         "name": "Admin Support Executive",
         "notched": false,
         "offsetgroup": "Admin Support Executive",
         "orientation": "v",
         "showlegend": true,
         "type": "box",
         "x": [
          "Admin Support Executive"
         ],
         "x0": " ",
         "xaxis": "x",
         "y": [
          2.6
         ],
         "y0": " ",
         "yaxis": "y"
        },
        {
         "alignmentgroup": "True",
         "hovertemplate": "DESIGNATION=%{x}<br>GPA=%{y}<extra></extra>",
         "legendgroup": "Snr Accounts Officer",
         "marker": {
          "color": "#19d3f3"
         },
         "name": "Snr Accounts Officer",
         "notched": false,
         "offsetgroup": "Snr Accounts Officer",
         "orientation": "v",
         "showlegend": true,
         "type": "box",
         "x": [
          "Snr Accounts Officer"
         ],
         "x0": " ",
         "xaxis": "x",
         "y": [
          3.8
         ],
         "y0": " ",
         "yaxis": "y"
        },
        {
         "alignmentgroup": "True",
         "hovertemplate": "DESIGNATION=%{x}<br>GPA=%{y}<extra></extra>",
         "legendgroup": "HR Intern",
         "marker": {
          "color": "#FF6692"
         },
         "name": "HR Intern",
         "notched": false,
         "offsetgroup": "HR Intern",
         "orientation": "v",
         "showlegend": true,
         "type": "box",
         "x": [
          "HR Intern"
         ],
         "x0": " ",
         "xaxis": "x",
         "y": [
          3.3
         ],
         "y0": " ",
         "yaxis": "y"
        },
        {
         "alignmentgroup": "True",
         "hovertemplate": "DESIGNATION=%{x}<br>GPA=%{y}<extra></extra>",
         "legendgroup": "Team Assistant",
         "marker": {
          "color": "#B6E880"
         },
         "name": "Team Assistant",
         "notched": false,
         "offsetgroup": "Team Assistant",
         "orientation": "v",
         "showlegend": true,
         "type": "box",
         "x": [
          "Team Assistant"
         ],
         "x0": " ",
         "xaxis": "x",
         "y": [
          3
         ],
         "y0": " ",
         "yaxis": "y"
        },
        {
         "alignmentgroup": "True",
         "hovertemplate": "DESIGNATION=%{x}<br>GPA=%{y}<extra></extra>",
         "legendgroup": "Flight Stewardess",
         "marker": {
          "color": "#FF97FF"
         },
         "name": "Flight Stewardess",
         "notched": false,
         "offsetgroup": "Flight Stewardess",
         "orientation": "v",
         "showlegend": true,
         "type": "box",
         "x": [
          "Flight Stewardess"
         ],
         "x0": " ",
         "xaxis": "x",
         "y": [
          3.1
         ],
         "y0": " ",
         "yaxis": "y"
        },
        {
         "alignmentgroup": "True",
         "hovertemplate": "DESIGNATION=%{x}<br>GPA=%{y}<extra></extra>",
         "legendgroup": "Payroll Specialist",
         "marker": {
          "color": "#FECB52"
         },
         "name": "Payroll Specialist",
         "notched": false,
         "offsetgroup": "Payroll Specialist",
         "orientation": "v",
         "showlegend": true,
         "type": "box",
         "x": [
          "Payroll Specialist"
         ],
         "x0": " ",
         "xaxis": "x",
         "y": [
          3.1
         ],
         "y0": " ",
         "yaxis": "y"
        },
        {
         "alignmentgroup": "True",
         "hovertemplate": "DESIGNATION=%{x}<br>GPA=%{y}<extra></extra>",
         "legendgroup": "ASSISTANT HR MANAGER",
         "marker": {
          "color": "#636efa"
         },
         "name": "ASSISTANT HR MANAGER",
         "notched": false,
         "offsetgroup": "ASSISTANT HR MANAGER",
         "orientation": "v",
         "showlegend": true,
         "type": "box",
         "x": [
          "ASSISTANT HR MANAGER"
         ],
         "x0": " ",
         "xaxis": "x",
         "y": [
          3.8
         ],
         "y0": " ",
         "yaxis": "y"
        },
        {
         "alignmentgroup": "True",
         "hovertemplate": "DESIGNATION=%{x}<br>GPA=%{y}<extra></extra>",
         "legendgroup": "Human Reosurce Executive",
         "marker": {
          "color": "#EF553B"
         },
         "name": "Human Reosurce Executive",
         "notched": false,
         "offsetgroup": "Human Reosurce Executive",
         "orientation": "v",
         "showlegend": true,
         "type": "box",
         "x": [
          "Human Reosurce Executive"
         ],
         "x0": " ",
         "xaxis": "x",
         "y": [
          3.8
         ],
         "y0": " ",
         "yaxis": "y"
        },
        {
         "alignmentgroup": "True",
         "hovertemplate": "DESIGNATION=%{x}<br>GPA=%{y}<extra></extra>",
         "legendgroup": "Assistant Admin Manager",
         "marker": {
          "color": "#00cc96"
         },
         "name": "Assistant Admin Manager",
         "notched": false,
         "offsetgroup": "Assistant Admin Manager",
         "orientation": "v",
         "showlegend": true,
         "type": "box",
         "x": [
          "Assistant Admin Manager"
         ],
         "x0": " ",
         "xaxis": "x",
         "y": [
          3.6
         ],
         "y0": " ",
         "yaxis": "y"
        },
        {
         "alignmentgroup": "True",
         "hovertemplate": "DESIGNATION=%{x}<br>GPA=%{y}<extra></extra>",
         "legendgroup": "Office Dept Head",
         "marker": {
          "color": "#ab63fa"
         },
         "name": "Office Dept Head",
         "notched": false,
         "offsetgroup": "Office Dept Head",
         "orientation": "v",
         "showlegend": true,
         "type": "box",
         "x": [
          "Office Dept Head"
         ],
         "x0": " ",
         "xaxis": "x",
         "y": [
          3.7
         ],
         "y0": " ",
         "yaxis": "y"
        },
        {
         "alignmentgroup": "True",
         "hovertemplate": "DESIGNATION=%{x}<br>GPA=%{y}<extra></extra>",
         "legendgroup": "Management Associate",
         "marker": {
          "color": "#FFA15A"
         },
         "name": "Management Associate",
         "notched": false,
         "offsetgroup": "Management Associate",
         "orientation": "v",
         "showlegend": true,
         "type": "box",
         "x": [
          "Management Associate"
         ],
         "x0": " ",
         "xaxis": "x",
         "y": [
          4
         ],
         "y0": " ",
         "yaxis": "y"
        }
       ],
       "layout": {
        "boxmode": "overlay",
        "legend": {
         "title": {
          "text": "DESIGNATION"
         },
         "tracegroupgap": 0
        },
        "template": {
         "data": {
          "bar": [
           {
            "error_x": {
             "color": "#2a3f5f"
            },
            "error_y": {
             "color": "#2a3f5f"
            },
            "marker": {
             "line": {
              "color": "#E5ECF6",
              "width": 0.5
             },
             "pattern": {
              "fillmode": "overlay",
              "size": 10,
              "solidity": 0.2
             }
            },
            "type": "bar"
           }
          ],
          "barpolar": [
           {
            "marker": {
             "line": {
              "color": "#E5ECF6",
              "width": 0.5
             },
             "pattern": {
              "fillmode": "overlay",
              "size": 10,
              "solidity": 0.2
             }
            },
            "type": "barpolar"
           }
          ],
          "carpet": [
           {
            "aaxis": {
             "endlinecolor": "#2a3f5f",
             "gridcolor": "white",
             "linecolor": "white",
             "minorgridcolor": "white",
             "startlinecolor": "#2a3f5f"
            },
            "baxis": {
             "endlinecolor": "#2a3f5f",
             "gridcolor": "white",
             "linecolor": "white",
             "minorgridcolor": "white",
             "startlinecolor": "#2a3f5f"
            },
            "type": "carpet"
           }
          ],
          "choropleth": [
           {
            "colorbar": {
             "outlinewidth": 0,
             "ticks": ""
            },
            "type": "choropleth"
           }
          ],
          "contour": [
           {
            "colorbar": {
             "outlinewidth": 0,
             "ticks": ""
            },
            "colorscale": [
             [
              0,
              "#0d0887"
             ],
             [
              0.1111111111111111,
              "#46039f"
             ],
             [
              0.2222222222222222,
              "#7201a8"
             ],
             [
              0.3333333333333333,
              "#9c179e"
             ],
             [
              0.4444444444444444,
              "#bd3786"
             ],
             [
              0.5555555555555556,
              "#d8576b"
             ],
             [
              0.6666666666666666,
              "#ed7953"
             ],
             [
              0.7777777777777778,
              "#fb9f3a"
             ],
             [
              0.8888888888888888,
              "#fdca26"
             ],
             [
              1,
              "#f0f921"
             ]
            ],
            "type": "contour"
           }
          ],
          "contourcarpet": [
           {
            "colorbar": {
             "outlinewidth": 0,
             "ticks": ""
            },
            "type": "contourcarpet"
           }
          ],
          "heatmap": [
           {
            "colorbar": {
             "outlinewidth": 0,
             "ticks": ""
            },
            "colorscale": [
             [
              0,
              "#0d0887"
             ],
             [
              0.1111111111111111,
              "#46039f"
             ],
             [
              0.2222222222222222,
              "#7201a8"
             ],
             [
              0.3333333333333333,
              "#9c179e"
             ],
             [
              0.4444444444444444,
              "#bd3786"
             ],
             [
              0.5555555555555556,
              "#d8576b"
             ],
             [
              0.6666666666666666,
              "#ed7953"
             ],
             [
              0.7777777777777778,
              "#fb9f3a"
             ],
             [
              0.8888888888888888,
              "#fdca26"
             ],
             [
              1,
              "#f0f921"
             ]
            ],
            "type": "heatmap"
           }
          ],
          "heatmapgl": [
           {
            "colorbar": {
             "outlinewidth": 0,
             "ticks": ""
            },
            "colorscale": [
             [
              0,
              "#0d0887"
             ],
             [
              0.1111111111111111,
              "#46039f"
             ],
             [
              0.2222222222222222,
              "#7201a8"
             ],
             [
              0.3333333333333333,
              "#9c179e"
             ],
             [
              0.4444444444444444,
              "#bd3786"
             ],
             [
              0.5555555555555556,
              "#d8576b"
             ],
             [
              0.6666666666666666,
              "#ed7953"
             ],
             [
              0.7777777777777778,
              "#fb9f3a"
             ],
             [
              0.8888888888888888,
              "#fdca26"
             ],
             [
              1,
              "#f0f921"
             ]
            ],
            "type": "heatmapgl"
           }
          ],
          "histogram": [
           {
            "marker": {
             "pattern": {
              "fillmode": "overlay",
              "size": 10,
              "solidity": 0.2
             }
            },
            "type": "histogram"
           }
          ],
          "histogram2d": [
           {
            "colorbar": {
             "outlinewidth": 0,
             "ticks": ""
            },
            "colorscale": [
             [
              0,
              "#0d0887"
             ],
             [
              0.1111111111111111,
              "#46039f"
             ],
             [
              0.2222222222222222,
              "#7201a8"
             ],
             [
              0.3333333333333333,
              "#9c179e"
             ],
             [
              0.4444444444444444,
              "#bd3786"
             ],
             [
              0.5555555555555556,
              "#d8576b"
             ],
             [
              0.6666666666666666,
              "#ed7953"
             ],
             [
              0.7777777777777778,
              "#fb9f3a"
             ],
             [
              0.8888888888888888,
              "#fdca26"
             ],
             [
              1,
              "#f0f921"
             ]
            ],
            "type": "histogram2d"
           }
          ],
          "histogram2dcontour": [
           {
            "colorbar": {
             "outlinewidth": 0,
             "ticks": ""
            },
            "colorscale": [
             [
              0,
              "#0d0887"
             ],
             [
              0.1111111111111111,
              "#46039f"
             ],
             [
              0.2222222222222222,
              "#7201a8"
             ],
             [
              0.3333333333333333,
              "#9c179e"
             ],
             [
              0.4444444444444444,
              "#bd3786"
             ],
             [
              0.5555555555555556,
              "#d8576b"
             ],
             [
              0.6666666666666666,
              "#ed7953"
             ],
             [
              0.7777777777777778,
              "#fb9f3a"
             ],
             [
              0.8888888888888888,
              "#fdca26"
             ],
             [
              1,
              "#f0f921"
             ]
            ],
            "type": "histogram2dcontour"
           }
          ],
          "mesh3d": [
           {
            "colorbar": {
             "outlinewidth": 0,
             "ticks": ""
            },
            "type": "mesh3d"
           }
          ],
          "parcoords": [
           {
            "line": {
             "colorbar": {
              "outlinewidth": 0,
              "ticks": ""
             }
            },
            "type": "parcoords"
           }
          ],
          "pie": [
           {
            "automargin": true,
            "type": "pie"
           }
          ],
          "scatter": [
           {
            "fillpattern": {
             "fillmode": "overlay",
             "size": 10,
             "solidity": 0.2
            },
            "type": "scatter"
           }
          ],
          "scatter3d": [
           {
            "line": {
             "colorbar": {
              "outlinewidth": 0,
              "ticks": ""
             }
            },
            "marker": {
             "colorbar": {
              "outlinewidth": 0,
              "ticks": ""
             }
            },
            "type": "scatter3d"
           }
          ],
          "scattercarpet": [
           {
            "marker": {
             "colorbar": {
              "outlinewidth": 0,
              "ticks": ""
             }
            },
            "type": "scattercarpet"
           }
          ],
          "scattergeo": [
           {
            "marker": {
             "colorbar": {
              "outlinewidth": 0,
              "ticks": ""
             }
            },
            "type": "scattergeo"
           }
          ],
          "scattergl": [
           {
            "marker": {
             "colorbar": {
              "outlinewidth": 0,
              "ticks": ""
             }
            },
            "type": "scattergl"
           }
          ],
          "scattermapbox": [
           {
            "marker": {
             "colorbar": {
              "outlinewidth": 0,
              "ticks": ""
             }
            },
            "type": "scattermapbox"
           }
          ],
          "scatterpolar": [
           {
            "marker": {
             "colorbar": {
              "outlinewidth": 0,
              "ticks": ""
             }
            },
            "type": "scatterpolar"
           }
          ],
          "scatterpolargl": [
           {
            "marker": {
             "colorbar": {
              "outlinewidth": 0,
              "ticks": ""
             }
            },
            "type": "scatterpolargl"
           }
          ],
          "scatterternary": [
           {
            "marker": {
             "colorbar": {
              "outlinewidth": 0,
              "ticks": ""
             }
            },
            "type": "scatterternary"
           }
          ],
          "surface": [
           {
            "colorbar": {
             "outlinewidth": 0,
             "ticks": ""
            },
            "colorscale": [
             [
              0,
              "#0d0887"
             ],
             [
              0.1111111111111111,
              "#46039f"
             ],
             [
              0.2222222222222222,
              "#7201a8"
             ],
             [
              0.3333333333333333,
              "#9c179e"
             ],
             [
              0.4444444444444444,
              "#bd3786"
             ],
             [
              0.5555555555555556,
              "#d8576b"
             ],
             [
              0.6666666666666666,
              "#ed7953"
             ],
             [
              0.7777777777777778,
              "#fb9f3a"
             ],
             [
              0.8888888888888888,
              "#fdca26"
             ],
             [
              1,
              "#f0f921"
             ]
            ],
            "type": "surface"
           }
          ],
          "table": [
           {
            "cells": {
             "fill": {
              "color": "#EBF0F8"
             },
             "line": {
              "color": "white"
             }
            },
            "header": {
             "fill": {
              "color": "#C8D4E3"
             },
             "line": {
              "color": "white"
             }
            },
            "type": "table"
           }
          ]
         },
         "layout": {
          "annotationdefaults": {
           "arrowcolor": "#2a3f5f",
           "arrowhead": 0,
           "arrowwidth": 1
          },
          "autotypenumbers": "strict",
          "coloraxis": {
           "colorbar": {
            "outlinewidth": 0,
            "ticks": ""
           }
          },
          "colorscale": {
           "diverging": [
            [
             0,
             "#8e0152"
            ],
            [
             0.1,
             "#c51b7d"
            ],
            [
             0.2,
             "#de77ae"
            ],
            [
             0.3,
             "#f1b6da"
            ],
            [
             0.4,
             "#fde0ef"
            ],
            [
             0.5,
             "#f7f7f7"
            ],
            [
             0.6,
             "#e6f5d0"
            ],
            [
             0.7,
             "#b8e186"
            ],
            [
             0.8,
             "#7fbc41"
            ],
            [
             0.9,
             "#4d9221"
            ],
            [
             1,
             "#276419"
            ]
           ],
           "sequential": [
            [
             0,
             "#0d0887"
            ],
            [
             0.1111111111111111,
             "#46039f"
            ],
            [
             0.2222222222222222,
             "#7201a8"
            ],
            [
             0.3333333333333333,
             "#9c179e"
            ],
            [
             0.4444444444444444,
             "#bd3786"
            ],
            [
             0.5555555555555556,
             "#d8576b"
            ],
            [
             0.6666666666666666,
             "#ed7953"
            ],
            [
             0.7777777777777778,
             "#fb9f3a"
            ],
            [
             0.8888888888888888,
             "#fdca26"
            ],
            [
             1,
             "#f0f921"
            ]
           ],
           "sequentialminus": [
            [
             0,
             "#0d0887"
            ],
            [
             0.1111111111111111,
             "#46039f"
            ],
            [
             0.2222222222222222,
             "#7201a8"
            ],
            [
             0.3333333333333333,
             "#9c179e"
            ],
            [
             0.4444444444444444,
             "#bd3786"
            ],
            [
             0.5555555555555556,
             "#d8576b"
            ],
            [
             0.6666666666666666,
             "#ed7953"
            ],
            [
             0.7777777777777778,
             "#fb9f3a"
            ],
            [
             0.8888888888888888,
             "#fdca26"
            ],
            [
             1,
             "#f0f921"
            ]
           ]
          },
          "colorway": [
           "#636efa",
           "#EF553B",
           "#00cc96",
           "#ab63fa",
           "#FFA15A",
           "#19d3f3",
           "#FF6692",
           "#B6E880",
           "#FF97FF",
           "#FECB52"
          ],
          "font": {
           "color": "#2a3f5f"
          },
          "geo": {
           "bgcolor": "white",
           "lakecolor": "white",
           "landcolor": "#E5ECF6",
           "showlakes": true,
           "showland": true,
           "subunitcolor": "white"
          },
          "hoverlabel": {
           "align": "left"
          },
          "hovermode": "closest",
          "mapbox": {
           "style": "light"
          },
          "paper_bgcolor": "white",
          "plot_bgcolor": "#E5ECF6",
          "polar": {
           "angularaxis": {
            "gridcolor": "white",
            "linecolor": "white",
            "ticks": ""
           },
           "bgcolor": "#E5ECF6",
           "radialaxis": {
            "gridcolor": "white",
            "linecolor": "white",
            "ticks": ""
           }
          },
          "scene": {
           "xaxis": {
            "backgroundcolor": "#E5ECF6",
            "gridcolor": "white",
            "gridwidth": 2,
            "linecolor": "white",
            "showbackground": true,
            "ticks": "",
            "zerolinecolor": "white"
           },
           "yaxis": {
            "backgroundcolor": "#E5ECF6",
            "gridcolor": "white",
            "gridwidth": 2,
            "linecolor": "white",
            "showbackground": true,
            "ticks": "",
            "zerolinecolor": "white"
           },
           "zaxis": {
            "backgroundcolor": "#E5ECF6",
            "gridcolor": "white",
            "gridwidth": 2,
            "linecolor": "white",
            "showbackground": true,
            "ticks": "",
            "zerolinecolor": "white"
           }
          },
          "shapedefaults": {
           "line": {
            "color": "#2a3f5f"
           }
          },
          "ternary": {
           "aaxis": {
            "gridcolor": "white",
            "linecolor": "white",
            "ticks": ""
           },
           "baxis": {
            "gridcolor": "white",
            "linecolor": "white",
            "ticks": ""
           },
           "bgcolor": "#E5ECF6",
           "caxis": {
            "gridcolor": "white",
            "linecolor": "white",
            "ticks": ""
           }
          },
          "title": {
           "x": 0.05
          },
          "xaxis": {
           "automargin": true,
           "gridcolor": "white",
           "linecolor": "white",
           "ticks": "",
           "title": {
            "standoff": 15
           },
           "zerolinecolor": "white",
           "zerolinewidth": 2
          },
          "yaxis": {
           "automargin": true,
           "gridcolor": "white",
           "linecolor": "white",
           "ticks": "",
           "title": {
            "standoff": 15
           },
           "zerolinecolor": "white",
           "zerolinewidth": 2
          }
         }
        },
        "title": {
         "text": "GPA Distribution by Designation"
        },
        "xaxis": {
         "anchor": "y",
         "categoryarray": [
          "Household Goods Coordinator",
          "Admin Executive",
          "Administrator",
          "No Designation",
          "HR Assistant",
          "Executive, Administration",
          "Admin & Finance Executive",
          "Senior Vice President, Gaming Division",
          "HR Executive",
          "Admin Assistant",
          "Assistant Manager Americas",
          "Assistant Manager (Admin Support)",
          "HR Executive (TA Operations)",
          "Accounts Executive",
          "Team Lead, Payroll & Billing",
          "Senior Assistant (Tenant Administration)",
          "Helpdesk Manager",
          "HR & Operations Manager, South East Asia",
          "Snr HR Executive",
          "Senior HR Executive",
          "Early Childhood Support Office",
          "Senior Eexcutive",
          "Talent Acquisition Specialist",
          "Client Accountant",
          "Human Resource Administrator",
          "HR & Admin Officer",
          "HRM",
          "Manager",
          "Office Manager",
          "Executive Assistant",
          "Business Development Executive",
          "Executive, Planning & Delivery",
          "Waitress",
          "Training Coordinator",
          "People Ops Specialist - APAC",
          "Bank Executive",
          "HR & Admin",
          "HR & Admin Manager",
          "Finance Officer",
          "Human Resource Director",
          "Officer",
          "Snr Admin Executive",
          "Senior Recruitment Manager",
          "Assistant Vice-President",
          "Purchasing Executive",
          "Admin Manager",
          "HR Officer",
          "Senior HR",
          "Sales & Operation Executive",
          "Business Manager",
          "Assistant Director, Human Resources",
          "HR Specialist",
          "Executive, HR",
          "Snr Associate, Client Services",
          "HR Section Manager",
          "Assistant Executive (Payroll)",
          "HR Analyst",
          "Administrative Executive",
          "HR/Admin",
          "HR Manager",
          "Labour Admin Executive",
          "Secretary",
          "Executive",
          "HR Payroll Analyst",
          "Senior Executive",
          "PR Officer",
          "Confidential Assistant",
          "Recruitment Consultant",
          "Regional Recruiter",
          "Assistant Manager, Human Resources",
          "Manager, Leadership & Coaching",
          "Executive, Student Care Services",
          "Executive, Corporate Services",
          "Assistant Manager, HR Operations",
          "Clerk",
          "Manager (Engagement)",
          "Associate, HR & Payroll",
          "Senior Manager",
          "Head of HR",
          "Academy Program Coordinator",
          "HR Administrator",
          "Device Engineer",
          "IT Developer",
          "Sr HR Associate",
          "Admin & HR Executive",
          "Executive, Human Capital",
          "Human Resource Officer",
          "Human Resource & Admin Manager",
          "Admin Asst",
          "Service Crew",
          "Payroll",
          "Accounts cum HR Executive",
          "Head, Registry & Corp Admin",
          "Administrative Assistant",
          "Receptionist",
          "HR Supervisor",
          "Consultant",
          "N.A.",
          "Account Senior",
          "Editor",
          "Admin & HR Assistant",
          "Human Resource Assistant",
          "Senior Administrative Executive",
          "Officer, Administration and Operations",
          "Journey Management Team Lead",
          "Admin Officer",
          "HR Support / Office Manager",
          "PR Executive",
          "Snr Client Service Executive",
          "HR Associate, Southeast Asia",
          "Senior Executive, Human Resource",
          "Teacher",
          "Admin cum Payroll Officer",
          "Accountant",
          "Human Resource Executive",
          "Operation Executive",
          "Admin Support Assistance",
          "Account Manager",
          "Center Administrator",
          "Senior Analyst, Compensation & Benefits",
          "Corporate Service Executive",
          "Operations Executive",
          "Relationship and Marketing Executive",
          "Business Support Manager, APAC",
          "APAC HR Specialist",
          "Senior HR Officer",
          "Associate, HR & General Affairs",
          "Admin Supervisor",
          "Audit Associate",
          "Rooms Division Manager",
          "Snr Executive, Accounts",
          "Senior Human Resource Executive",
          "Lecturer",
          "Staff Nurse",
          "Admin Support Executive",
          "Snr Accounts Officer",
          "HR Intern",
          "Team Assistant",
          "Flight Stewardess",
          "Payroll Specialist",
          "ASSISTANT HR MANAGER",
          "Human Reosurce Executive",
          "Assistant Admin Manager",
          "Office Dept Head",
          "Management Associate"
         ],
         "categoryorder": "array",
         "domain": [
          0,
          1
         ],
         "title": {
          "text": "DESIGNATION"
         }
        },
        "yaxis": {
         "anchor": "x",
         "domain": [
          0,
          1
         ],
         "title": {
          "text": "GPA"
         }
        }
       }
      }
     },
     "metadata": {},
     "output_type": "display_data"
    },
    {
     "data": {
      "application/vnd.plotly.v1+json": {
       "config": {
        "plotlyServerURL": "https://plot.ly"
       },
       "data": [
        {
         "hovertemplate": "GENDER=F<br>NATIONALITY=Singaporean<br>Age=%{x}<br>COURSE FEE=%{y}<br>GPA=%{z}<extra></extra>",
         "legendgroup": "F, Singaporean",
         "marker": {
          "color": "#636efa",
          "symbol": "circle"
         },
         "mode": "markers",
         "name": "F, Singaporean",
         "scene": "scene",
         "showlegend": true,
         "type": "scatter3d",
         "x": [
          42,
          22,
          34,
          40,
          44,
          56,
          30,
          48,
          38,
          54,
          50,
          36,
          40,
          40,
          51,
          59,
          46,
          33,
          31,
          29,
          32,
          34,
          51,
          54,
          32,
          34,
          32,
          44,
          45,
          36,
          42,
          43,
          40,
          54,
          41,
          41,
          57,
          44,
          53,
          41,
          37,
          51,
          48,
          39,
          50,
          31,
          33,
          51,
          40,
          42,
          41,
          41,
          27,
          52,
          46,
          36,
          32,
          44,
          40,
          30,
          30,
          35,
          44,
          46,
          43,
          30,
          50,
          37,
          42,
          36,
          56,
          59,
          50,
          53,
          40,
          32,
          30,
          38,
          35,
          38,
          28,
          54,
          40,
          40,
          56,
          40,
          50,
          46,
          35,
          32,
          40,
          31,
          34,
          35,
          31,
          28,
          31,
          33,
          24,
          33,
          47,
          40,
          51,
          31,
          32,
          48,
          27,
          31,
          51,
          45,
          37,
          41,
          34,
          42,
          58,
          41,
          29,
          35,
          29,
          48,
          40,
          25,
          40,
          40,
          45,
          40,
          38,
          44,
          50,
          33,
          50,
          38,
          36,
          31,
          36,
          30,
          41,
          59,
          46,
          55,
          43,
          29,
          37,
          44,
          47,
          32,
          31,
          54,
          63,
          50,
          31,
          22,
          35,
          35,
          35,
          42,
          33,
          55,
          53,
          46,
          32
         ],
         "y": [
          5803,
          2996,
          5803,
          1604,
          1604,
          2996,
          1308,
          1712,
          5803,
          1388,
          1495,
          1388,
          1388,
          1712,
          5803,
          1495,
          5803,
          1388,
          5803,
          1712,
          1388,
          1388,
          1712,
          1712,
          1712,
          1712,
          1388,
          1388,
          1388,
          2496,
          1388,
          1495,
          1495,
          5803,
          1388,
          1388,
          1388,
          1712,
          1415,
          1308,
          1388,
          1415,
          1712,
          1712,
          5803,
          1415,
          1712,
          1712,
          2696,
          5803,
          5803,
          5803,
          5803,
          1388,
          1712,
          1712,
          1212,
          5803,
          5803,
          1388,
          5803,
          1604,
          2996,
          1388,
          2696,
          1388,
          1712,
          1996,
          888,
          1388,
          1495,
          1388,
          5803,
          1415,
          1495,
          5803,
          1388,
          5803,
          1415,
          1388,
          2696,
          1496,
          5803,
          1996,
          1495,
          1495,
          1388,
          1388,
          5803,
          1212,
          1388,
          5803,
          1388,
          5803,
          1388,
          1604,
          5803,
          1388,
          2996,
          5803,
          1495,
          1712,
          5803,
          2996,
          1388,
          1712,
          1712,
          1388,
          1388,
          1415,
          1388,
          1712,
          1604,
          5803,
          1712,
          5803,
          2696,
          1496,
          1604,
          2996,
          5803,
          2996,
          1308,
          1604,
          2996,
          1495,
          1712,
          1712,
          2996,
          5803,
          1495,
          5803,
          1388,
          2696,
          2496,
          1996,
          5803,
          1415,
          1712,
          1604,
          1495,
          1604,
          2996,
          1712,
          1415,
          2996,
          5803,
          1388,
          1388,
          1415,
          1388,
          1996,
          2696,
          5803,
          1712,
          5803,
          1388,
          888,
          5803,
          1388,
          1388
         ],
         "z": [
          1.9,
          2.8,
          2.8,
          2.2,
          1.7,
          2.4,
          1.5,
          1.8,
          3.1,
          3,
          1.7,
          3.1,
          2.5,
          1.7,
          2.3,
          2.8,
          2.9,
          1.5,
          2.5,
          3.1,
          3.1,
          1.6,
          1.9,
          3.1,
          2.3,
          2.8,
          2.3,
          2.8,
          1.9,
          1.9,
          2.5,
          3,
          2.2,
          2.2,
          2.2,
          3.1,
          2,
          3.1,
          2.3,
          2.6,
          2.2,
          3.4,
          3.1,
          2.4,
          2.9,
          2.2,
          3.1,
          2.9,
          2.4,
          2.3,
          2.9,
          3.2,
          2.1,
          2.9,
          3,
          2,
          3,
          3,
          2,
          1.7,
          1.6,
          1.8,
          2.9,
          2.8,
          3.3,
          2.9,
          2.2,
          2.5,
          2.9,
          3.3,
          2.2,
          3.1,
          2.9,
          1.9,
          2.8,
          3,
          2.2,
          2.8,
          2,
          1.8,
          2.4,
          3,
          1.7,
          1.5,
          3,
          1.6,
          1.8,
          2.8,
          1.5,
          2.5,
          1.9,
          3.4,
          2.8,
          2.1,
          3.3,
          3.2,
          2.8,
          1.9,
          3.3,
          3.4,
          3,
          2.6,
          2.9,
          3.4,
          2.5,
          2.5,
          2.2,
          3.9,
          3.3,
          3.1,
          2.8,
          3.3,
          3.7,
          2.6,
          2.5,
          2.8,
          3.9,
          3.3,
          3.4,
          2.8,
          2.6,
          3,
          3.9,
          2.9,
          3,
          3.9,
          3.5,
          3,
          3.4,
          2.2,
          2.9,
          2.2,
          2.6,
          2.8,
          3.3,
          3.4,
          2.8,
          3.5,
          2.2,
          3.3,
          3.2,
          3,
          3.9,
          2.9,
          3.2,
          2.4,
          3.7,
          2.6,
          2.6,
          3.8,
          3.6,
          3.3,
          3,
          3.1,
          4,
          3.8,
          3.8,
          3.3,
          3.6,
          3.7,
          3.1
         ]
        },
        {
         "hovertemplate": "GENDER=F<br>NATIONALITY=Permanent Resident<br>Age=%{x}<br>COURSE FEE=%{y}<br>GPA=%{z}<extra></extra>",
         "legendgroup": "F, Permanent Resident",
         "marker": {
          "color": "#636efa",
          "symbol": "diamond"
         },
         "mode": "markers",
         "name": "F, Permanent Resident",
         "scene": "scene",
         "showlegend": true,
         "type": "scatter3d",
         "x": [
          61,
          55,
          44,
          47,
          39,
          39,
          39,
          41,
          40,
          43,
          39,
          40,
          36,
          39,
          40,
          31,
          37,
          36,
          32,
          31,
          30,
          40,
          36,
          46,
          32,
          31,
          35
         ],
         "y": [
          1495,
          1212,
          1712,
          1388,
          1388,
          1388,
          2996,
          5803,
          1388,
          1604,
          1388,
          5803,
          1604,
          5803,
          1388,
          1388,
          1388,
          2996,
          1388,
          1308,
          1388,
          1495,
          1712,
          1212,
          1388,
          1388,
          1308
         ],
         "z": [
          2.6,
          1.8,
          2.7,
          2.8,
          3.1,
          2.2,
          3.1,
          2,
          2.5,
          1.8,
          2.2,
          1.7,
          3,
          2.3,
          2.3,
          2.9,
          2.4,
          3,
          2.4,
          2.8,
          2.3,
          3.7,
          3,
          3.7,
          3.8,
          2.8,
          3.1
         ]
        },
        {
         "hovertemplate": "GENDER=F<br>NATIONALITY=Foreigner<br>Age=%{x}<br>COURSE FEE=%{y}<br>GPA=%{z}<extra></extra>",
         "legendgroup": "F, Foreigner",
         "marker": {
          "color": "#636efa",
          "symbol": "square"
         },
         "mode": "markers",
         "name": "F, Foreigner",
         "scene": "scene",
         "showlegend": true,
         "type": "scatter3d",
         "x": [
          34,
          30,
          34,
          38,
          37,
          40,
          41,
          25,
          31,
          40,
          24,
          45,
          25,
          42,
          50,
          48,
          30,
          33,
          35,
          48,
          42,
          37,
          42,
          35,
          31,
          44,
          25
         ],
         "y": [
          1712,
          1495,
          888,
          2996,
          1712,
          1388,
          1388,
          2996,
          1712,
          5803,
          1388,
          1388,
          1495,
          1712,
          1388,
          1712,
          1712,
          5803,
          1388,
          5803,
          1388,
          2996,
          888,
          5803,
          2996,
          1388,
          5803
         ],
         "z": [
          3.1,
          2.5,
          2.5,
          3.1,
          3.1,
          3.2,
          3.4,
          3.2,
          3,
          2.9,
          3.1,
          2.9,
          2.4,
          3.2,
          3.2,
          3.6,
          3,
          2.3,
          3.7,
          3,
          3,
          3.5,
          3.1,
          3.2,
          3,
          2.8,
          4
         ]
        },
        {
         "hovertemplate": "GENDER=M<br>NATIONALITY=Singaporean<br>Age=%{x}<br>COURSE FEE=%{y}<br>GPA=%{z}<extra></extra>",
         "legendgroup": "M, Singaporean",
         "marker": {
          "color": "#EF553B",
          "symbol": "circle"
         },
         "mode": "markers",
         "name": "M, Singaporean",
         "scene": "scene",
         "showlegend": true,
         "type": "scatter3d",
         "x": [
          29,
          46,
          39,
          34,
          46,
          38,
          42,
          38,
          44,
          37,
          32,
          38,
          42,
          42,
          54,
          25,
          41,
          40,
          36,
          36,
          32,
          47,
          26,
          32,
          34,
          28,
          33,
          45
         ],
         "y": [
          2996,
          5803,
          5803,
          1712,
          1712,
          5803,
          5803,
          5803,
          5803,
          1308,
          5803,
          888,
          5803,
          1495,
          1388,
          2996,
          5803,
          5803,
          1495,
          888,
          5803,
          5803,
          2996,
          5803,
          1388,
          1495,
          5803,
          5803
         ],
         "z": [
          3,
          1.8,
          2.7,
          1.8,
          2.1,
          2.8,
          2.4,
          2.8,
          1.8,
          1.7,
          2.8,
          1.5,
          1.9,
          3.4,
          2.5,
          2.7,
          3.2,
          2.6,
          2.8,
          3.1,
          2.2,
          2.8,
          3.7,
          3.4,
          3.1,
          3.4,
          2.9,
          3.7
         ]
        },
        {
         "hovertemplate": "GENDER=M<br>NATIONALITY=Permanent Resident<br>Age=%{x}<br>COURSE FEE=%{y}<br>GPA=%{z}<extra></extra>",
         "legendgroup": "M, Permanent Resident",
         "marker": {
          "color": "#EF553B",
          "symbol": "diamond"
         },
         "mode": "markers",
         "name": "M, Permanent Resident",
         "scene": "scene",
         "showlegend": true,
         "type": "scatter3d",
         "x": [
          39
         ],
         "y": [
          5803
         ],
         "z": [
          3.2
         ]
        }
       ],
       "layout": {
        "legend": {
         "title": {
          "text": "GENDER, NATIONALITY"
         },
         "tracegroupgap": 0
        },
        "scene": {
         "domain": {
          "x": [
           0,
           1
          ],
          "y": [
           0,
           1
          ]
         },
         "xaxis": {
          "title": {
           "text": "Age"
          }
         },
         "yaxis": {
          "title": {
           "text": "COURSE FEE"
          }
         },
         "zaxis": {
          "title": {
           "text": "GPA"
          }
         }
        },
        "template": {
         "data": {
          "bar": [
           {
            "error_x": {
             "color": "#2a3f5f"
            },
            "error_y": {
             "color": "#2a3f5f"
            },
            "marker": {
             "line": {
              "color": "#E5ECF6",
              "width": 0.5
             },
             "pattern": {
              "fillmode": "overlay",
              "size": 10,
              "solidity": 0.2
             }
            },
            "type": "bar"
           }
          ],
          "barpolar": [
           {
            "marker": {
             "line": {
              "color": "#E5ECF6",
              "width": 0.5
             },
             "pattern": {
              "fillmode": "overlay",
              "size": 10,
              "solidity": 0.2
             }
            },
            "type": "barpolar"
           }
          ],
          "carpet": [
           {
            "aaxis": {
             "endlinecolor": "#2a3f5f",
             "gridcolor": "white",
             "linecolor": "white",
             "minorgridcolor": "white",
             "startlinecolor": "#2a3f5f"
            },
            "baxis": {
             "endlinecolor": "#2a3f5f",
             "gridcolor": "white",
             "linecolor": "white",
             "minorgridcolor": "white",
             "startlinecolor": "#2a3f5f"
            },
            "type": "carpet"
           }
          ],
          "choropleth": [
           {
            "colorbar": {
             "outlinewidth": 0,
             "ticks": ""
            },
            "type": "choropleth"
           }
          ],
          "contour": [
           {
            "colorbar": {
             "outlinewidth": 0,
             "ticks": ""
            },
            "colorscale": [
             [
              0,
              "#0d0887"
             ],
             [
              0.1111111111111111,
              "#46039f"
             ],
             [
              0.2222222222222222,
              "#7201a8"
             ],
             [
              0.3333333333333333,
              "#9c179e"
             ],
             [
              0.4444444444444444,
              "#bd3786"
             ],
             [
              0.5555555555555556,
              "#d8576b"
             ],
             [
              0.6666666666666666,
              "#ed7953"
             ],
             [
              0.7777777777777778,
              "#fb9f3a"
             ],
             [
              0.8888888888888888,
              "#fdca26"
             ],
             [
              1,
              "#f0f921"
             ]
            ],
            "type": "contour"
           }
          ],
          "contourcarpet": [
           {
            "colorbar": {
             "outlinewidth": 0,
             "ticks": ""
            },
            "type": "contourcarpet"
           }
          ],
          "heatmap": [
           {
            "colorbar": {
             "outlinewidth": 0,
             "ticks": ""
            },
            "colorscale": [
             [
              0,
              "#0d0887"
             ],
             [
              0.1111111111111111,
              "#46039f"
             ],
             [
              0.2222222222222222,
              "#7201a8"
             ],
             [
              0.3333333333333333,
              "#9c179e"
             ],
             [
              0.4444444444444444,
              "#bd3786"
             ],
             [
              0.5555555555555556,
              "#d8576b"
             ],
             [
              0.6666666666666666,
              "#ed7953"
             ],
             [
              0.7777777777777778,
              "#fb9f3a"
             ],
             [
              0.8888888888888888,
              "#fdca26"
             ],
             [
              1,
              "#f0f921"
             ]
            ],
            "type": "heatmap"
           }
          ],
          "heatmapgl": [
           {
            "colorbar": {
             "outlinewidth": 0,
             "ticks": ""
            },
            "colorscale": [
             [
              0,
              "#0d0887"
             ],
             [
              0.1111111111111111,
              "#46039f"
             ],
             [
              0.2222222222222222,
              "#7201a8"
             ],
             [
              0.3333333333333333,
              "#9c179e"
             ],
             [
              0.4444444444444444,
              "#bd3786"
             ],
             [
              0.5555555555555556,
              "#d8576b"
             ],
             [
              0.6666666666666666,
              "#ed7953"
             ],
             [
              0.7777777777777778,
              "#fb9f3a"
             ],
             [
              0.8888888888888888,
              "#fdca26"
             ],
             [
              1,
              "#f0f921"
             ]
            ],
            "type": "heatmapgl"
           }
          ],
          "histogram": [
           {
            "marker": {
             "pattern": {
              "fillmode": "overlay",
              "size": 10,
              "solidity": 0.2
             }
            },
            "type": "histogram"
           }
          ],
          "histogram2d": [
           {
            "colorbar": {
             "outlinewidth": 0,
             "ticks": ""
            },
            "colorscale": [
             [
              0,
              "#0d0887"
             ],
             [
              0.1111111111111111,
              "#46039f"
             ],
             [
              0.2222222222222222,
              "#7201a8"
             ],
             [
              0.3333333333333333,
              "#9c179e"
             ],
             [
              0.4444444444444444,
              "#bd3786"
             ],
             [
              0.5555555555555556,
              "#d8576b"
             ],
             [
              0.6666666666666666,
              "#ed7953"
             ],
             [
              0.7777777777777778,
              "#fb9f3a"
             ],
             [
              0.8888888888888888,
              "#fdca26"
             ],
             [
              1,
              "#f0f921"
             ]
            ],
            "type": "histogram2d"
           }
          ],
          "histogram2dcontour": [
           {
            "colorbar": {
             "outlinewidth": 0,
             "ticks": ""
            },
            "colorscale": [
             [
              0,
              "#0d0887"
             ],
             [
              0.1111111111111111,
              "#46039f"
             ],
             [
              0.2222222222222222,
              "#7201a8"
             ],
             [
              0.3333333333333333,
              "#9c179e"
             ],
             [
              0.4444444444444444,
              "#bd3786"
             ],
             [
              0.5555555555555556,
              "#d8576b"
             ],
             [
              0.6666666666666666,
              "#ed7953"
             ],
             [
              0.7777777777777778,
              "#fb9f3a"
             ],
             [
              0.8888888888888888,
              "#fdca26"
             ],
             [
              1,
              "#f0f921"
             ]
            ],
            "type": "histogram2dcontour"
           }
          ],
          "mesh3d": [
           {
            "colorbar": {
             "outlinewidth": 0,
             "ticks": ""
            },
            "type": "mesh3d"
           }
          ],
          "parcoords": [
           {
            "line": {
             "colorbar": {
              "outlinewidth": 0,
              "ticks": ""
             }
            },
            "type": "parcoords"
           }
          ],
          "pie": [
           {
            "automargin": true,
            "type": "pie"
           }
          ],
          "scatter": [
           {
            "fillpattern": {
             "fillmode": "overlay",
             "size": 10,
             "solidity": 0.2
            },
            "type": "scatter"
           }
          ],
          "scatter3d": [
           {
            "line": {
             "colorbar": {
              "outlinewidth": 0,
              "ticks": ""
             }
            },
            "marker": {
             "colorbar": {
              "outlinewidth": 0,
              "ticks": ""
             }
            },
            "type": "scatter3d"
           }
          ],
          "scattercarpet": [
           {
            "marker": {
             "colorbar": {
              "outlinewidth": 0,
              "ticks": ""
             }
            },
            "type": "scattercarpet"
           }
          ],
          "scattergeo": [
           {
            "marker": {
             "colorbar": {
              "outlinewidth": 0,
              "ticks": ""
             }
            },
            "type": "scattergeo"
           }
          ],
          "scattergl": [
           {
            "marker": {
             "colorbar": {
              "outlinewidth": 0,
              "ticks": ""
             }
            },
            "type": "scattergl"
           }
          ],
          "scattermapbox": [
           {
            "marker": {
             "colorbar": {
              "outlinewidth": 0,
              "ticks": ""
             }
            },
            "type": "scattermapbox"
           }
          ],
          "scatterpolar": [
           {
            "marker": {
             "colorbar": {
              "outlinewidth": 0,
              "ticks": ""
             }
            },
            "type": "scatterpolar"
           }
          ],
          "scatterpolargl": [
           {
            "marker": {
             "colorbar": {
              "outlinewidth": 0,
              "ticks": ""
             }
            },
            "type": "scatterpolargl"
           }
          ],
          "scatterternary": [
           {
            "marker": {
             "colorbar": {
              "outlinewidth": 0,
              "ticks": ""
             }
            },
            "type": "scatterternary"
           }
          ],
          "surface": [
           {
            "colorbar": {
             "outlinewidth": 0,
             "ticks": ""
            },
            "colorscale": [
             [
              0,
              "#0d0887"
             ],
             [
              0.1111111111111111,
              "#46039f"
             ],
             [
              0.2222222222222222,
              "#7201a8"
             ],
             [
              0.3333333333333333,
              "#9c179e"
             ],
             [
              0.4444444444444444,
              "#bd3786"
             ],
             [
              0.5555555555555556,
              "#d8576b"
             ],
             [
              0.6666666666666666,
              "#ed7953"
             ],
             [
              0.7777777777777778,
              "#fb9f3a"
             ],
             [
              0.8888888888888888,
              "#fdca26"
             ],
             [
              1,
              "#f0f921"
             ]
            ],
            "type": "surface"
           }
          ],
          "table": [
           {
            "cells": {
             "fill": {
              "color": "#EBF0F8"
             },
             "line": {
              "color": "white"
             }
            },
            "header": {
             "fill": {
              "color": "#C8D4E3"
             },
             "line": {
              "color": "white"
             }
            },
            "type": "table"
           }
          ]
         },
         "layout": {
          "annotationdefaults": {
           "arrowcolor": "#2a3f5f",
           "arrowhead": 0,
           "arrowwidth": 1
          },
          "autotypenumbers": "strict",
          "coloraxis": {
           "colorbar": {
            "outlinewidth": 0,
            "ticks": ""
           }
          },
          "colorscale": {
           "diverging": [
            [
             0,
             "#8e0152"
            ],
            [
             0.1,
             "#c51b7d"
            ],
            [
             0.2,
             "#de77ae"
            ],
            [
             0.3,
             "#f1b6da"
            ],
            [
             0.4,
             "#fde0ef"
            ],
            [
             0.5,
             "#f7f7f7"
            ],
            [
             0.6,
             "#e6f5d0"
            ],
            [
             0.7,
             "#b8e186"
            ],
            [
             0.8,
             "#7fbc41"
            ],
            [
             0.9,
             "#4d9221"
            ],
            [
             1,
             "#276419"
            ]
           ],
           "sequential": [
            [
             0,
             "#0d0887"
            ],
            [
             0.1111111111111111,
             "#46039f"
            ],
            [
             0.2222222222222222,
             "#7201a8"
            ],
            [
             0.3333333333333333,
             "#9c179e"
            ],
            [
             0.4444444444444444,
             "#bd3786"
            ],
            [
             0.5555555555555556,
             "#d8576b"
            ],
            [
             0.6666666666666666,
             "#ed7953"
            ],
            [
             0.7777777777777778,
             "#fb9f3a"
            ],
            [
             0.8888888888888888,
             "#fdca26"
            ],
            [
             1,
             "#f0f921"
            ]
           ],
           "sequentialminus": [
            [
             0,
             "#0d0887"
            ],
            [
             0.1111111111111111,
             "#46039f"
            ],
            [
             0.2222222222222222,
             "#7201a8"
            ],
            [
             0.3333333333333333,
             "#9c179e"
            ],
            [
             0.4444444444444444,
             "#bd3786"
            ],
            [
             0.5555555555555556,
             "#d8576b"
            ],
            [
             0.6666666666666666,
             "#ed7953"
            ],
            [
             0.7777777777777778,
             "#fb9f3a"
            ],
            [
             0.8888888888888888,
             "#fdca26"
            ],
            [
             1,
             "#f0f921"
            ]
           ]
          },
          "colorway": [
           "#636efa",
           "#EF553B",
           "#00cc96",
           "#ab63fa",
           "#FFA15A",
           "#19d3f3",
           "#FF6692",
           "#B6E880",
           "#FF97FF",
           "#FECB52"
          ],
          "font": {
           "color": "#2a3f5f"
          },
          "geo": {
           "bgcolor": "white",
           "lakecolor": "white",
           "landcolor": "#E5ECF6",
           "showlakes": true,
           "showland": true,
           "subunitcolor": "white"
          },
          "hoverlabel": {
           "align": "left"
          },
          "hovermode": "closest",
          "mapbox": {
           "style": "light"
          },
          "paper_bgcolor": "white",
          "plot_bgcolor": "#E5ECF6",
          "polar": {
           "angularaxis": {
            "gridcolor": "white",
            "linecolor": "white",
            "ticks": ""
           },
           "bgcolor": "#E5ECF6",
           "radialaxis": {
            "gridcolor": "white",
            "linecolor": "white",
            "ticks": ""
           }
          },
          "scene": {
           "xaxis": {
            "backgroundcolor": "#E5ECF6",
            "gridcolor": "white",
            "gridwidth": 2,
            "linecolor": "white",
            "showbackground": true,
            "ticks": "",
            "zerolinecolor": "white"
           },
           "yaxis": {
            "backgroundcolor": "#E5ECF6",
            "gridcolor": "white",
            "gridwidth": 2,
            "linecolor": "white",
            "showbackground": true,
            "ticks": "",
            "zerolinecolor": "white"
           },
           "zaxis": {
            "backgroundcolor": "#E5ECF6",
            "gridcolor": "white",
            "gridwidth": 2,
            "linecolor": "white",
            "showbackground": true,
            "ticks": "",
            "zerolinecolor": "white"
           }
          },
          "shapedefaults": {
           "line": {
            "color": "#2a3f5f"
           }
          },
          "ternary": {
           "aaxis": {
            "gridcolor": "white",
            "linecolor": "white",
            "ticks": ""
           },
           "baxis": {
            "gridcolor": "white",
            "linecolor": "white",
            "ticks": ""
           },
           "bgcolor": "#E5ECF6",
           "caxis": {
            "gridcolor": "white",
            "linecolor": "white",
            "ticks": ""
           }
          },
          "title": {
           "x": 0.05
          },
          "xaxis": {
           "automargin": true,
           "gridcolor": "white",
           "linecolor": "white",
           "ticks": "",
           "title": {
            "standoff": 15
           },
           "zerolinecolor": "white",
           "zerolinewidth": 2
          },
          "yaxis": {
           "automargin": true,
           "gridcolor": "white",
           "linecolor": "white",
           "ticks": "",
           "title": {
            "standoff": 15
           },
           "zerolinecolor": "white",
           "zerolinewidth": 2
          }
         }
        },
        "title": {
         "text": "Age vs Course Fee by Gender and Nationality"
        }
       }
      }
     },
     "metadata": {},
     "output_type": "display_data"
    }
   ],
   "source": [
    "# 1. Age and GPA by Gender: Bubble Chart\n",
    "bubble_chart = px.scatter(data, x='Age', y='GPA', size='COURSE FEE', color='GENDER', \n",
    "                          title='Age and GPA by Gender', hover_name='DESIGNATION',\n",
    "                          size_max=60)\n",
    "\n",
    "# 2. Course Fee vs GPA by Funding Type: Scatter Plot with Trendlines\n",
    "scatter_trendline = px.scatter(data, x='COURSE FEE', y='GPA', color='COURSE FUNDING',\n",
    "                               title='Course Fee vs GPA by Funding Type', trendline='ols')\n",
    "\n",
    "# 3. Distribution of Highest Qualification by Nationality: Stacked Bar Chart\n",
    "stacked_bar = px.bar(data, x='NATIONALITY', y='STUDENT ID', color='HIGHEST QUALIFICATION', \n",
    "                     title='Distribution of Highest Qualification by Nationality', barmode='stack')\n",
    "\n",
    "# 4. GPA Distribution by Designation: Box Plot\n",
    "box_plot = px.box(data, x='DESIGNATION', y='GPA', color='DESIGNATION', title='GPA Distribution by Designation')\n",
    "\n",
    "# 5. Age vs Course Fee by Gender and Nationality: 3D Scatter Plot\n",
    "scatter_3d = px.scatter_3d(data, x='Age', y='COURSE FEE', z='GPA', color='GENDER', symbol='NATIONALITY',\n",
    "                           title='Age vs Course Fee by Gender and Nationality')\n",
    "\n",
    "# Save the plots as HTML files\n",
    "bubble_chart.show()\n",
    "scatter_trendline.show()\n",
    "stacked_bar.show()\n",
    "box_plot.show()\n",
    "scatter_3d.show()"
   ]
  },
  {
   "cell_type": "code",
   "execution_count": null,
   "metadata": {},
   "outputs": [],
   "source": []
  }
 ],
 "metadata": {
  "kernelspec": {
   "display_name": "gpu_env",
   "language": "python",
   "name": "python3"
  },
  "language_info": {
   "codemirror_mode": {
    "name": "ipython",
    "version": 3
   },
   "file_extension": ".py",
   "mimetype": "text/x-python",
   "name": "python",
   "nbconvert_exporter": "python",
   "pygments_lexer": "ipython3",
   "version": "3.8.19"
  }
 },
 "nbformat": 4,
 "nbformat_minor": 2
}
