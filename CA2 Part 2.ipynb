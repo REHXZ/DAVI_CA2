{
 "cells": [
  {
   "cell_type": "code",
   "execution_count": 594,
   "metadata": {},
   "outputs": [],
   "source": [
    "import dash\n",
    "import dash_bootstrap_components as dbc\n",
    "import dash_core_components as dcc\n",
    "import dash_html_components as html\n",
    "import plotly.express as px\n",
    "from dash.dependencies import Input, Output\n",
    "import pandas as pd\n",
    "import dash_daq as daq\n",
    "\n",
    "\n",
    "# Load the CSV file into a DataFrame\n",
    "df = pd.read_csv('Student Profiles Wrangled.csv')"
   ]
  },
  {
   "cell_type": "code",
   "execution_count": 595,
   "metadata": {},
   "outputs": [],
   "source": [
    "def categorize_gpa(row):\n",
    "    gpa = row['GPA']\n",
    "    if gpa < 1:\n",
    "        return 'Less Than 1'\n",
    "    elif gpa < 2 and gpa >= 1:\n",
    "        return '1 - 2'\n",
    "    elif gpa < 3 and gpa >= 2:\n",
    "        return '2 - 3'\n",
    "    elif gpa < 3.5 and gpa >= 3:\n",
    "        return '3 - 3.5'\n",
    "    else:\n",
    "        return 'More Than 3.5'\n",
    "\n",
    "df['GPA Category'] = df.apply(categorize_gpa, axis=1)"
   ]
  },
  {
   "cell_type": "code",
   "execution_count": 596,
   "metadata": {},
   "outputs": [],
   "source": [
    "import pandas as pd\n",
    "import re\n",
    "\n",
    "def categorize_job_title(title):\n",
    "    if pd.isna(title):\n",
    "        return 'Not Specified'\n",
    "    \n",
    "    title = str(title).lower()\n",
    "    \n",
    "    if re.search(r'hr|human resource|recruit|talent|people ops', title):\n",
    "        return 'Human Resources'\n",
    "    elif re.search(r'admin|secretary|receptionist|clerk|office', title):\n",
    "        return 'Administration'\n",
    "    elif re.search(r'manager|director|head|lead|supervisor|vice president', title):\n",
    "        return 'Management'\n",
    "    elif re.search(r'account|finance|payroll', title):\n",
    "        return 'Finance and Accounting'\n",
    "    elif re.search(r'client|sales|service|customer', title):\n",
    "        return 'Customer Service and Sales'\n",
    "    elif re.search(r'operation|logistics|supply|coordinator', title):\n",
    "        return 'Operations and Logistics'\n",
    "    elif re.search(r'market|pr|public relation|brand|communication', title):\n",
    "        return 'Marketing and Public Relations'\n",
    "    elif re.search(r'teacher|lecturer|trainer|education|learning', title):\n",
    "        return 'Education and Training'\n",
    "    elif re.search(r'it|tech|developer|engineer|analyst', title):\n",
    "        return 'Technical and IT'\n",
    "    else:\n",
    "        return 'Others'\n",
    "\n",
    "def add_job_category(df):\n",
    "    df['Job Category'] = df['DESIGNATION'].apply(categorize_job_title)\n",
    "    return df\n",
    "\n",
    "# Assuming your dataframe is called 'df'\n",
    "df = add_job_category(df)"
   ]
  },
  {
   "cell_type": "code",
   "execution_count": 597,
   "metadata": {},
   "outputs": [],
   "source": [
    "df['Age Group'] = pd.cut(df['Age'], bins=[0, 25, 40, np.inf], labels=['Below 25', '25 to 40', '40 and Above'])\n",
    "\n",
    "# Defining the short forms for course codes\n",
    "short_forms_code = {\n",
    "    1101: 'Diploma in Business Administration',\n",
    "    2101: 'Certificate in HR Management',\n",
    "    2102: 'Certificate in Digital Marketing',\n",
    "    5112: 'Bachelor of Business Administration',\n",
    "    5113: 'Master of Business Administration'\n",
    "}\n",
    "\n",
    "# Convert COURSE_Value to integer for mapping\n",
    "df['COURSE'] = df['COURSE'].astype(int)\n",
    "\n",
    "# Create a new column 'COURSE_Name' with mapped values\n",
    "df['COURSE'] = df['COURSE'].map(short_forms_code)"
   ]
  },
  {
   "cell_type": "markdown",
   "metadata": {},
   "source": [
    "# Plotly Sunburst"
   ]
  },
  {
   "cell_type": "code",
   "execution_count": 598,
   "metadata": {},
   "outputs": [
    {
     "data": {
      "application/vnd.plotly.v1+json": {
       "config": {
        "plotlyServerURL": "https://plot.ly"
       },
       "data": [
        {
         "branchvalues": "total",
         "customdata": [
          [
           null,
           null
          ],
          [
           2.75,
           2.738613861386139
          ],
          [
           3.0500000000000003,
           2.988235294117647
          ],
          [
           null,
           null
          ],
          [
           4,
           2.707692307692308
          ],
          [
           2.5736842105263156,
           2.6545454545454543
          ],
          [
           2.6636363636363636,
           2.738613861386139
          ],
          [
           2.9761904761904763,
           2.988235294117647
          ],
          [
           2.7925925925925927,
           2.736
          ],
          [
           2.6785714285714284,
           2.707692307692308
          ],
          [
           2.7642857142857147,
           2.6545454545454543
          ],
          [
           2.8318181818181816,
           2.738613861386139
          ],
          [
           2.9714285714285715,
           2.988235294117647
          ],
          [
           2.6695652173913045,
           2.736
          ],
          [
           2.627272727272727,
           2.707692307692308
          ],
          [
           2.6545454545454543,
           2.6545454545454543
          ],
          [
           2.738613861386139,
           2.738613861386139
          ],
          [
           2.988235294117647,
           2.988235294117647
          ],
          [
           2.736,
           2.736
          ],
          [
           2.707692307692308,
           2.707692307692308
          ]
         ],
         "domain": {
          "x": [
           0,
           1
          ],
          "y": [
           0,
           1
          ]
         },
         "hovertemplate": "<b>%{label}</b><br>Count: %{value}<br>Course GPA: %{customdata[1]:.2f}<br>Age Group GPA: %{customdata[0]:.2f}",
         "ids": [
          "Bachelor of Business Administration/Below 25",
          "Certificate in Digital Marketing/Below 25",
          "Certificate in HR Management/Below 25",
          "Diploma in Business Administration/Below 25",
          "Master of Business Administration/Below 25",
          "Bachelor of Business Administration/25 to 40",
          "Certificate in Digital Marketing/25 to 40",
          "Certificate in HR Management/25 to 40",
          "Diploma in Business Administration/25 to 40",
          "Master of Business Administration/25 to 40",
          "Bachelor of Business Administration/40 and Above",
          "Certificate in Digital Marketing/40 and Above",
          "Certificate in HR Management/40 and Above",
          "Diploma in Business Administration/40 and Above",
          "Master of Business Administration/40 and Above",
          "Bachelor of Business Administration",
          "Certificate in Digital Marketing",
          "Certificate in HR Management",
          "Diploma in Business Administration",
          "Master of Business Administration"
         ],
         "insidetextorientation": "radial",
         "labels": [
          "Below 25",
          "Below 25",
          "Below 25",
          "Below 25",
          "Below 25",
          "25 to 40",
          "25 to 40",
          "25 to 40",
          "25 to 40",
          "25 to 40",
          "40 and Above",
          "40 and Above",
          "40 and Above",
          "40 and Above",
          "40 and Above",
          "Bachelor of Business Administration",
          "Certificate in Digital Marketing",
          "Certificate in HR Management",
          "Diploma in Business Administration",
          "Master of Business Administration"
         ],
         "marker": {
          "coloraxis": "coloraxis",
          "colors": [
           null,
           2.75,
           3.0500000000000003,
           null,
           4,
           2.5736842105263156,
           2.6636363636363636,
           2.9761904761904763,
           2.7925925925925927,
           2.6785714285714284,
           2.7642857142857147,
           2.8318181818181816,
           2.9714285714285715,
           2.6695652173913045,
           2.627272727272727,
           2.6545454545454543,
           2.738613861386139,
           2.988235294117647,
           2.736,
           2.707692307692308
          ]
         },
         "name": "",
         "parents": [
          "Bachelor of Business Administration",
          "Certificate in Digital Marketing",
          "Certificate in HR Management",
          "Diploma in Business Administration",
          "Master of Business Administration",
          "Bachelor of Business Administration",
          "Certificate in Digital Marketing",
          "Certificate in HR Management",
          "Diploma in Business Administration",
          "Master of Business Administration",
          "Bachelor of Business Administration",
          "Certificate in Digital Marketing",
          "Certificate in HR Management",
          "Diploma in Business Administration",
          "Master of Business Administration",
          "",
          "",
          "",
          "",
          ""
         ],
         "textfont": {
          "size": 14
         },
         "type": "sunburst",
         "values": [
          0,
          2,
          6,
          0,
          1,
          19,
          55,
          21,
          27,
          14,
          14,
          44,
          7,
          23,
          11,
          33,
          101,
          34,
          50,
          26
         ]
        }
       ],
       "layout": {
        "coloraxis": {
         "colorbar": {
          "title": {
           "text": "Avg_GPA"
          }
         },
         "colorscale": [
          [
           0,
           "#440154"
          ],
          [
           0.1111111111111111,
           "#482878"
          ],
          [
           0.2222222222222222,
           "#3e4989"
          ],
          [
           0.3333333333333333,
           "#31688e"
          ],
          [
           0.4444444444444444,
           "#26828e"
          ],
          [
           0.5555555555555556,
           "#1f9e89"
          ],
          [
           0.6666666666666666,
           "#35b779"
          ],
          [
           0.7777777777777778,
           "#6ece58"
          ],
          [
           0.8888888888888888,
           "#b5de2b"
          ],
          [
           1,
           "#fde725"
          ]
         ]
        },
        "font": {
         "color": "black",
         "family": "Arial, sans-serif",
         "size": 16
        },
        "height": 800,
        "legend": {
         "tracegroupgap": 0
        },
        "margin": {
         "b": 0,
         "l": 0,
         "r": 0,
         "t": 80
        },
        "paper_bgcolor": "white",
        "plot_bgcolor": "white",
        "template": {
         "data": {
          "bar": [
           {
            "error_x": {
             "color": "#2a3f5f"
            },
            "error_y": {
             "color": "#2a3f5f"
            },
            "marker": {
             "line": {
              "color": "#E5ECF6",
              "width": 0.5
             },
             "pattern": {
              "fillmode": "overlay",
              "size": 10,
              "solidity": 0.2
             }
            },
            "type": "bar"
           }
          ],
          "barpolar": [
           {
            "marker": {
             "line": {
              "color": "#E5ECF6",
              "width": 0.5
             },
             "pattern": {
              "fillmode": "overlay",
              "size": 10,
              "solidity": 0.2
             }
            },
            "type": "barpolar"
           }
          ],
          "carpet": [
           {
            "aaxis": {
             "endlinecolor": "#2a3f5f",
             "gridcolor": "white",
             "linecolor": "white",
             "minorgridcolor": "white",
             "startlinecolor": "#2a3f5f"
            },
            "baxis": {
             "endlinecolor": "#2a3f5f",
             "gridcolor": "white",
             "linecolor": "white",
             "minorgridcolor": "white",
             "startlinecolor": "#2a3f5f"
            },
            "type": "carpet"
           }
          ],
          "choropleth": [
           {
            "colorbar": {
             "outlinewidth": 0,
             "ticks": ""
            },
            "type": "choropleth"
           }
          ],
          "contour": [
           {
            "colorbar": {
             "outlinewidth": 0,
             "ticks": ""
            },
            "colorscale": [
             [
              0,
              "#0d0887"
             ],
             [
              0.1111111111111111,
              "#46039f"
             ],
             [
              0.2222222222222222,
              "#7201a8"
             ],
             [
              0.3333333333333333,
              "#9c179e"
             ],
             [
              0.4444444444444444,
              "#bd3786"
             ],
             [
              0.5555555555555556,
              "#d8576b"
             ],
             [
              0.6666666666666666,
              "#ed7953"
             ],
             [
              0.7777777777777778,
              "#fb9f3a"
             ],
             [
              0.8888888888888888,
              "#fdca26"
             ],
             [
              1,
              "#f0f921"
             ]
            ],
            "type": "contour"
           }
          ],
          "contourcarpet": [
           {
            "colorbar": {
             "outlinewidth": 0,
             "ticks": ""
            },
            "type": "contourcarpet"
           }
          ],
          "heatmap": [
           {
            "colorbar": {
             "outlinewidth": 0,
             "ticks": ""
            },
            "colorscale": [
             [
              0,
              "#0d0887"
             ],
             [
              0.1111111111111111,
              "#46039f"
             ],
             [
              0.2222222222222222,
              "#7201a8"
             ],
             [
              0.3333333333333333,
              "#9c179e"
             ],
             [
              0.4444444444444444,
              "#bd3786"
             ],
             [
              0.5555555555555556,
              "#d8576b"
             ],
             [
              0.6666666666666666,
              "#ed7953"
             ],
             [
              0.7777777777777778,
              "#fb9f3a"
             ],
             [
              0.8888888888888888,
              "#fdca26"
             ],
             [
              1,
              "#f0f921"
             ]
            ],
            "type": "heatmap"
           }
          ],
          "heatmapgl": [
           {
            "colorbar": {
             "outlinewidth": 0,
             "ticks": ""
            },
            "colorscale": [
             [
              0,
              "#0d0887"
             ],
             [
              0.1111111111111111,
              "#46039f"
             ],
             [
              0.2222222222222222,
              "#7201a8"
             ],
             [
              0.3333333333333333,
              "#9c179e"
             ],
             [
              0.4444444444444444,
              "#bd3786"
             ],
             [
              0.5555555555555556,
              "#d8576b"
             ],
             [
              0.6666666666666666,
              "#ed7953"
             ],
             [
              0.7777777777777778,
              "#fb9f3a"
             ],
             [
              0.8888888888888888,
              "#fdca26"
             ],
             [
              1,
              "#f0f921"
             ]
            ],
            "type": "heatmapgl"
           }
          ],
          "histogram": [
           {
            "marker": {
             "pattern": {
              "fillmode": "overlay",
              "size": 10,
              "solidity": 0.2
             }
            },
            "type": "histogram"
           }
          ],
          "histogram2d": [
           {
            "colorbar": {
             "outlinewidth": 0,
             "ticks": ""
            },
            "colorscale": [
             [
              0,
              "#0d0887"
             ],
             [
              0.1111111111111111,
              "#46039f"
             ],
             [
              0.2222222222222222,
              "#7201a8"
             ],
             [
              0.3333333333333333,
              "#9c179e"
             ],
             [
              0.4444444444444444,
              "#bd3786"
             ],
             [
              0.5555555555555556,
              "#d8576b"
             ],
             [
              0.6666666666666666,
              "#ed7953"
             ],
             [
              0.7777777777777778,
              "#fb9f3a"
             ],
             [
              0.8888888888888888,
              "#fdca26"
             ],
             [
              1,
              "#f0f921"
             ]
            ],
            "type": "histogram2d"
           }
          ],
          "histogram2dcontour": [
           {
            "colorbar": {
             "outlinewidth": 0,
             "ticks": ""
            },
            "colorscale": [
             [
              0,
              "#0d0887"
             ],
             [
              0.1111111111111111,
              "#46039f"
             ],
             [
              0.2222222222222222,
              "#7201a8"
             ],
             [
              0.3333333333333333,
              "#9c179e"
             ],
             [
              0.4444444444444444,
              "#bd3786"
             ],
             [
              0.5555555555555556,
              "#d8576b"
             ],
             [
              0.6666666666666666,
              "#ed7953"
             ],
             [
              0.7777777777777778,
              "#fb9f3a"
             ],
             [
              0.8888888888888888,
              "#fdca26"
             ],
             [
              1,
              "#f0f921"
             ]
            ],
            "type": "histogram2dcontour"
           }
          ],
          "mesh3d": [
           {
            "colorbar": {
             "outlinewidth": 0,
             "ticks": ""
            },
            "type": "mesh3d"
           }
          ],
          "parcoords": [
           {
            "line": {
             "colorbar": {
              "outlinewidth": 0,
              "ticks": ""
             }
            },
            "type": "parcoords"
           }
          ],
          "pie": [
           {
            "automargin": true,
            "type": "pie"
           }
          ],
          "scatter": [
           {
            "fillpattern": {
             "fillmode": "overlay",
             "size": 10,
             "solidity": 0.2
            },
            "type": "scatter"
           }
          ],
          "scatter3d": [
           {
            "line": {
             "colorbar": {
              "outlinewidth": 0,
              "ticks": ""
             }
            },
            "marker": {
             "colorbar": {
              "outlinewidth": 0,
              "ticks": ""
             }
            },
            "type": "scatter3d"
           }
          ],
          "scattercarpet": [
           {
            "marker": {
             "colorbar": {
              "outlinewidth": 0,
              "ticks": ""
             }
            },
            "type": "scattercarpet"
           }
          ],
          "scattergeo": [
           {
            "marker": {
             "colorbar": {
              "outlinewidth": 0,
              "ticks": ""
             }
            },
            "type": "scattergeo"
           }
          ],
          "scattergl": [
           {
            "marker": {
             "colorbar": {
              "outlinewidth": 0,
              "ticks": ""
             }
            },
            "type": "scattergl"
           }
          ],
          "scattermapbox": [
           {
            "marker": {
             "colorbar": {
              "outlinewidth": 0,
              "ticks": ""
             }
            },
            "type": "scattermapbox"
           }
          ],
          "scatterpolar": [
           {
            "marker": {
             "colorbar": {
              "outlinewidth": 0,
              "ticks": ""
             }
            },
            "type": "scatterpolar"
           }
          ],
          "scatterpolargl": [
           {
            "marker": {
             "colorbar": {
              "outlinewidth": 0,
              "ticks": ""
             }
            },
            "type": "scatterpolargl"
           }
          ],
          "scatterternary": [
           {
            "marker": {
             "colorbar": {
              "outlinewidth": 0,
              "ticks": ""
             }
            },
            "type": "scatterternary"
           }
          ],
          "surface": [
           {
            "colorbar": {
             "outlinewidth": 0,
             "ticks": ""
            },
            "colorscale": [
             [
              0,
              "#0d0887"
             ],
             [
              0.1111111111111111,
              "#46039f"
             ],
             [
              0.2222222222222222,
              "#7201a8"
             ],
             [
              0.3333333333333333,
              "#9c179e"
             ],
             [
              0.4444444444444444,
              "#bd3786"
             ],
             [
              0.5555555555555556,
              "#d8576b"
             ],
             [
              0.6666666666666666,
              "#ed7953"
             ],
             [
              0.7777777777777778,
              "#fb9f3a"
             ],
             [
              0.8888888888888888,
              "#fdca26"
             ],
             [
              1,
              "#f0f921"
             ]
            ],
            "type": "surface"
           }
          ],
          "table": [
           {
            "cells": {
             "fill": {
              "color": "#EBF0F8"
             },
             "line": {
              "color": "white"
             }
            },
            "header": {
             "fill": {
              "color": "#C8D4E3"
             },
             "line": {
              "color": "white"
             }
            },
            "type": "table"
           }
          ]
         },
         "layout": {
          "annotationdefaults": {
           "arrowcolor": "#2a3f5f",
           "arrowhead": 0,
           "arrowwidth": 1
          },
          "autotypenumbers": "strict",
          "coloraxis": {
           "colorbar": {
            "outlinewidth": 0,
            "ticks": ""
           }
          },
          "colorscale": {
           "diverging": [
            [
             0,
             "#8e0152"
            ],
            [
             0.1,
             "#c51b7d"
            ],
            [
             0.2,
             "#de77ae"
            ],
            [
             0.3,
             "#f1b6da"
            ],
            [
             0.4,
             "#fde0ef"
            ],
            [
             0.5,
             "#f7f7f7"
            ],
            [
             0.6,
             "#e6f5d0"
            ],
            [
             0.7,
             "#b8e186"
            ],
            [
             0.8,
             "#7fbc41"
            ],
            [
             0.9,
             "#4d9221"
            ],
            [
             1,
             "#276419"
            ]
           ],
           "sequential": [
            [
             0,
             "#0d0887"
            ],
            [
             0.1111111111111111,
             "#46039f"
            ],
            [
             0.2222222222222222,
             "#7201a8"
            ],
            [
             0.3333333333333333,
             "#9c179e"
            ],
            [
             0.4444444444444444,
             "#bd3786"
            ],
            [
             0.5555555555555556,
             "#d8576b"
            ],
            [
             0.6666666666666666,
             "#ed7953"
            ],
            [
             0.7777777777777778,
             "#fb9f3a"
            ],
            [
             0.8888888888888888,
             "#fdca26"
            ],
            [
             1,
             "#f0f921"
            ]
           ],
           "sequentialminus": [
            [
             0,
             "#0d0887"
            ],
            [
             0.1111111111111111,
             "#46039f"
            ],
            [
             0.2222222222222222,
             "#7201a8"
            ],
            [
             0.3333333333333333,
             "#9c179e"
            ],
            [
             0.4444444444444444,
             "#bd3786"
            ],
            [
             0.5555555555555556,
             "#d8576b"
            ],
            [
             0.6666666666666666,
             "#ed7953"
            ],
            [
             0.7777777777777778,
             "#fb9f3a"
            ],
            [
             0.8888888888888888,
             "#fdca26"
            ],
            [
             1,
             "#f0f921"
            ]
           ]
          },
          "colorway": [
           "#636efa",
           "#EF553B",
           "#00cc96",
           "#ab63fa",
           "#FFA15A",
           "#19d3f3",
           "#FF6692",
           "#B6E880",
           "#FF97FF",
           "#FECB52"
          ],
          "font": {
           "color": "#2a3f5f"
          },
          "geo": {
           "bgcolor": "white",
           "lakecolor": "white",
           "landcolor": "#E5ECF6",
           "showlakes": true,
           "showland": true,
           "subunitcolor": "white"
          },
          "hoverlabel": {
           "align": "left"
          },
          "hovermode": "closest",
          "mapbox": {
           "style": "light"
          },
          "paper_bgcolor": "white",
          "plot_bgcolor": "#E5ECF6",
          "polar": {
           "angularaxis": {
            "gridcolor": "white",
            "linecolor": "white",
            "ticks": ""
           },
           "bgcolor": "#E5ECF6",
           "radialaxis": {
            "gridcolor": "white",
            "linecolor": "white",
            "ticks": ""
           }
          },
          "scene": {
           "xaxis": {
            "backgroundcolor": "#E5ECF6",
            "gridcolor": "white",
            "gridwidth": 2,
            "linecolor": "white",
            "showbackground": true,
            "ticks": "",
            "zerolinecolor": "white"
           },
           "yaxis": {
            "backgroundcolor": "#E5ECF6",
            "gridcolor": "white",
            "gridwidth": 2,
            "linecolor": "white",
            "showbackground": true,
            "ticks": "",
            "zerolinecolor": "white"
           },
           "zaxis": {
            "backgroundcolor": "#E5ECF6",
            "gridcolor": "white",
            "gridwidth": 2,
            "linecolor": "white",
            "showbackground": true,
            "ticks": "",
            "zerolinecolor": "white"
           }
          },
          "shapedefaults": {
           "line": {
            "color": "#2a3f5f"
           }
          },
          "ternary": {
           "aaxis": {
            "gridcolor": "white",
            "linecolor": "white",
            "ticks": ""
           },
           "baxis": {
            "gridcolor": "white",
            "linecolor": "white",
            "ticks": ""
           },
           "bgcolor": "#E5ECF6",
           "caxis": {
            "gridcolor": "white",
            "linecolor": "white",
            "ticks": ""
           }
          },
          "title": {
           "x": 0.05
          },
          "xaxis": {
           "automargin": true,
           "gridcolor": "white",
           "linecolor": "white",
           "ticks": "",
           "title": {
            "standoff": 15
           },
           "zerolinecolor": "white",
           "zerolinewidth": 2
          },
          "yaxis": {
           "automargin": true,
           "gridcolor": "white",
           "linecolor": "white",
           "ticks": "",
           "title": {
            "standoff": 15
           },
           "zerolinecolor": "white",
           "zerolinewidth": 2
          }
         }
        },
        "title": {
         "font": {
          "color": "black",
          "family": "Arial, sans-serif",
          "size": 24
         },
         "text": "Course and Age with Average GPAs",
         "x": 0.45,
         "xanchor": "center",
         "y": 0.95,
         "yanchor": "top"
        },
        "width": 1000
       }
      }
     },
     "metadata": {},
     "output_type": "display_data"
    }
   ],
   "source": [
    "import pandas as pd\n",
    "import numpy as np\n",
    "import plotly.express as px\n",
    "\n",
    "# Drop rows with missing values in the relevant columns\n",
    "df.dropna(subset=['COURSE', 'Age Group', 'GPA'], inplace=True)\n",
    "\n",
    "# Filter data to include only the top 5 courses by student count\n",
    "top_courses = df['COURSE'].value_counts().nlargest(5).index\n",
    "df_filtered = df[df['COURSE'].isin(top_courses)]\n",
    "\n",
    "# Add a Count column for aggregation\n",
    "df_filtered['Count'] = 1\n",
    "\n",
    "# Group by course and age group and calculate average GPA and count\n",
    "df_grouped = df_filtered.groupby(['COURSE', 'Age Group']).agg(\n",
    "    Count=('Count', 'sum'),\n",
    "    Avg_GPA=('GPA', 'mean')\n",
    ").reset_index()\n",
    "\n",
    "# Calculate average GPA for each course\n",
    "course_gpa = df_filtered.groupby('COURSE')['GPA'].mean().reset_index(name='GPA_course')\n",
    "\n",
    "# Merge the average GPAs into the grouped dataframe\n",
    "df_grouped = df_grouped.merge(course_gpa, on='COURSE')\n",
    "\n",
    "# Remove any rows where Count is 0\n",
    "df_grouped = df_grouped[df_grouped['Count'] > 0]\n",
    "\n",
    "# Create the sunburst plot with a custom color scheme\n",
    "fig = px.sunburst(df_grouped, path=['COURSE', 'Age Group'], values='Count',\n",
    "                  color='Avg_GPA', \n",
    "                  color_continuous_scale='Viridis',\n",
    "                  hover_data={\n",
    "                      'Avg_GPA': ':.2f',\n",
    "                      'GPA_course': ':.2f'\n",
    "                  })\n",
    "\n",
    "# Update traces for better visibility\n",
    "fig.update_traces(\n",
    "    hovertemplate='<b>%{label}</b><br>' +\n",
    "                  'Count: %{value}<br>' +\n",
    "                  'Course GPA: %{customdata[1]:.2f}<br>' +\n",
    "                  'Age Group GPA: %{customdata[0]:.2f}',\n",
    "    insidetextorientation='radial',\n",
    "    textfont=dict(size=14)\n",
    ")\n",
    "\n",
    "# Update layout for better aesthetics and readability\n",
    "fig.update_layout(\n",
    "    title={\n",
    "        'text': 'Course and Age with Average GPAs',\n",
    "        'y':0.95,\n",
    "        'x':0.45,\n",
    "        'xanchor': 'center',\n",
    "        'yanchor': 'top'\n",
    "    },\n",
    "    title_font=dict(size=24, family='Arial, sans-serif', color='black'),\n",
    "    font=dict(family='Arial, sans-serif', size=16, color='black'),\n",
    "    margin=dict(t=80, l=0, r=0, b=0),\n",
    "    paper_bgcolor='white',\n",
    "    plot_bgcolor='white',\n",
    "    width=1000,  # Increase width\n",
    "    height=800  # Increase height\n",
    ")\n",
    "# Show the plot\n",
    "fig.show()"
   ]
  },
  {
   "cell_type": "code",
   "execution_count": 599,
   "metadata": {},
   "outputs": [
    {
     "data": {
      "application/vnd.plotly.v1+json": {
       "config": {
        "plotlyServerURL": "https://plot.ly"
       },
       "data": [
        {
         "lowerfence": [
          -1,
          0,
          1
         ],
         "mean": [
          2.2,
          2.8,
          3.2
         ],
         "median": [
          4,
          5,
          6
         ],
         "name": "Precompiled Quartiles",
         "notchspan": [
          0.2,
          0.4,
          0.6
         ],
         "q1": [
          1,
          2,
          3
         ],
         "q3": [
          7,
          8,
          9
         ],
         "sd": [
          0.2,
          0.4,
          0.6
         ],
         "type": "box",
         "upperfence": [
          5,
          6,
          7
         ],
         "y": [
          [
           0,
           1,
           2,
           3,
           4,
           5,
           6,
           7,
           8,
           9
          ],
          [
           0,
           1,
           2,
           3,
           4,
           5,
           6,
           7,
           8,
           9
          ],
          [
           0,
           1,
           2,
           3,
           4,
           5,
           6,
           7,
           8,
           9
          ]
         ]
        }
       ],
       "layout": {
        "template": {
         "data": {
          "bar": [
           {
            "error_x": {
             "color": "#2a3f5f"
            },
            "error_y": {
             "color": "#2a3f5f"
            },
            "marker": {
             "line": {
              "color": "#E5ECF6",
              "width": 0.5
             },
             "pattern": {
              "fillmode": "overlay",
              "size": 10,
              "solidity": 0.2
             }
            },
            "type": "bar"
           }
          ],
          "barpolar": [
           {
            "marker": {
             "line": {
              "color": "#E5ECF6",
              "width": 0.5
             },
             "pattern": {
              "fillmode": "overlay",
              "size": 10,
              "solidity": 0.2
             }
            },
            "type": "barpolar"
           }
          ],
          "carpet": [
           {
            "aaxis": {
             "endlinecolor": "#2a3f5f",
             "gridcolor": "white",
             "linecolor": "white",
             "minorgridcolor": "white",
             "startlinecolor": "#2a3f5f"
            },
            "baxis": {
             "endlinecolor": "#2a3f5f",
             "gridcolor": "white",
             "linecolor": "white",
             "minorgridcolor": "white",
             "startlinecolor": "#2a3f5f"
            },
            "type": "carpet"
           }
          ],
          "choropleth": [
           {
            "colorbar": {
             "outlinewidth": 0,
             "ticks": ""
            },
            "type": "choropleth"
           }
          ],
          "contour": [
           {
            "colorbar": {
             "outlinewidth": 0,
             "ticks": ""
            },
            "colorscale": [
             [
              0,
              "#0d0887"
             ],
             [
              0.1111111111111111,
              "#46039f"
             ],
             [
              0.2222222222222222,
              "#7201a8"
             ],
             [
              0.3333333333333333,
              "#9c179e"
             ],
             [
              0.4444444444444444,
              "#bd3786"
             ],
             [
              0.5555555555555556,
              "#d8576b"
             ],
             [
              0.6666666666666666,
              "#ed7953"
             ],
             [
              0.7777777777777778,
              "#fb9f3a"
             ],
             [
              0.8888888888888888,
              "#fdca26"
             ],
             [
              1,
              "#f0f921"
             ]
            ],
            "type": "contour"
           }
          ],
          "contourcarpet": [
           {
            "colorbar": {
             "outlinewidth": 0,
             "ticks": ""
            },
            "type": "contourcarpet"
           }
          ],
          "heatmap": [
           {
            "colorbar": {
             "outlinewidth": 0,
             "ticks": ""
            },
            "colorscale": [
             [
              0,
              "#0d0887"
             ],
             [
              0.1111111111111111,
              "#46039f"
             ],
             [
              0.2222222222222222,
              "#7201a8"
             ],
             [
              0.3333333333333333,
              "#9c179e"
             ],
             [
              0.4444444444444444,
              "#bd3786"
             ],
             [
              0.5555555555555556,
              "#d8576b"
             ],
             [
              0.6666666666666666,
              "#ed7953"
             ],
             [
              0.7777777777777778,
              "#fb9f3a"
             ],
             [
              0.8888888888888888,
              "#fdca26"
             ],
             [
              1,
              "#f0f921"
             ]
            ],
            "type": "heatmap"
           }
          ],
          "heatmapgl": [
           {
            "colorbar": {
             "outlinewidth": 0,
             "ticks": ""
            },
            "colorscale": [
             [
              0,
              "#0d0887"
             ],
             [
              0.1111111111111111,
              "#46039f"
             ],
             [
              0.2222222222222222,
              "#7201a8"
             ],
             [
              0.3333333333333333,
              "#9c179e"
             ],
             [
              0.4444444444444444,
              "#bd3786"
             ],
             [
              0.5555555555555556,
              "#d8576b"
             ],
             [
              0.6666666666666666,
              "#ed7953"
             ],
             [
              0.7777777777777778,
              "#fb9f3a"
             ],
             [
              0.8888888888888888,
              "#fdca26"
             ],
             [
              1,
              "#f0f921"
             ]
            ],
            "type": "heatmapgl"
           }
          ],
          "histogram": [
           {
            "marker": {
             "pattern": {
              "fillmode": "overlay",
              "size": 10,
              "solidity": 0.2
             }
            },
            "type": "histogram"
           }
          ],
          "histogram2d": [
           {
            "colorbar": {
             "outlinewidth": 0,
             "ticks": ""
            },
            "colorscale": [
             [
              0,
              "#0d0887"
             ],
             [
              0.1111111111111111,
              "#46039f"
             ],
             [
              0.2222222222222222,
              "#7201a8"
             ],
             [
              0.3333333333333333,
              "#9c179e"
             ],
             [
              0.4444444444444444,
              "#bd3786"
             ],
             [
              0.5555555555555556,
              "#d8576b"
             ],
             [
              0.6666666666666666,
              "#ed7953"
             ],
             [
              0.7777777777777778,
              "#fb9f3a"
             ],
             [
              0.8888888888888888,
              "#fdca26"
             ],
             [
              1,
              "#f0f921"
             ]
            ],
            "type": "histogram2d"
           }
          ],
          "histogram2dcontour": [
           {
            "colorbar": {
             "outlinewidth": 0,
             "ticks": ""
            },
            "colorscale": [
             [
              0,
              "#0d0887"
             ],
             [
              0.1111111111111111,
              "#46039f"
             ],
             [
              0.2222222222222222,
              "#7201a8"
             ],
             [
              0.3333333333333333,
              "#9c179e"
             ],
             [
              0.4444444444444444,
              "#bd3786"
             ],
             [
              0.5555555555555556,
              "#d8576b"
             ],
             [
              0.6666666666666666,
              "#ed7953"
             ],
             [
              0.7777777777777778,
              "#fb9f3a"
             ],
             [
              0.8888888888888888,
              "#fdca26"
             ],
             [
              1,
              "#f0f921"
             ]
            ],
            "type": "histogram2dcontour"
           }
          ],
          "mesh3d": [
           {
            "colorbar": {
             "outlinewidth": 0,
             "ticks": ""
            },
            "type": "mesh3d"
           }
          ],
          "parcoords": [
           {
            "line": {
             "colorbar": {
              "outlinewidth": 0,
              "ticks": ""
             }
            },
            "type": "parcoords"
           }
          ],
          "pie": [
           {
            "automargin": true,
            "type": "pie"
           }
          ],
          "scatter": [
           {
            "fillpattern": {
             "fillmode": "overlay",
             "size": 10,
             "solidity": 0.2
            },
            "type": "scatter"
           }
          ],
          "scatter3d": [
           {
            "line": {
             "colorbar": {
              "outlinewidth": 0,
              "ticks": ""
             }
            },
            "marker": {
             "colorbar": {
              "outlinewidth": 0,
              "ticks": ""
             }
            },
            "type": "scatter3d"
           }
          ],
          "scattercarpet": [
           {
            "marker": {
             "colorbar": {
              "outlinewidth": 0,
              "ticks": ""
             }
            },
            "type": "scattercarpet"
           }
          ],
          "scattergeo": [
           {
            "marker": {
             "colorbar": {
              "outlinewidth": 0,
              "ticks": ""
             }
            },
            "type": "scattergeo"
           }
          ],
          "scattergl": [
           {
            "marker": {
             "colorbar": {
              "outlinewidth": 0,
              "ticks": ""
             }
            },
            "type": "scattergl"
           }
          ],
          "scattermapbox": [
           {
            "marker": {
             "colorbar": {
              "outlinewidth": 0,
              "ticks": ""
             }
            },
            "type": "scattermapbox"
           }
          ],
          "scatterpolar": [
           {
            "marker": {
             "colorbar": {
              "outlinewidth": 0,
              "ticks": ""
             }
            },
            "type": "scatterpolar"
           }
          ],
          "scatterpolargl": [
           {
            "marker": {
             "colorbar": {
              "outlinewidth": 0,
              "ticks": ""
             }
            },
            "type": "scatterpolargl"
           }
          ],
          "scatterternary": [
           {
            "marker": {
             "colorbar": {
              "outlinewidth": 0,
              "ticks": ""
             }
            },
            "type": "scatterternary"
           }
          ],
          "surface": [
           {
            "colorbar": {
             "outlinewidth": 0,
             "ticks": ""
            },
            "colorscale": [
             [
              0,
              "#0d0887"
             ],
             [
              0.1111111111111111,
              "#46039f"
             ],
             [
              0.2222222222222222,
              "#7201a8"
             ],
             [
              0.3333333333333333,
              "#9c179e"
             ],
             [
              0.4444444444444444,
              "#bd3786"
             ],
             [
              0.5555555555555556,
              "#d8576b"
             ],
             [
              0.6666666666666666,
              "#ed7953"
             ],
             [
              0.7777777777777778,
              "#fb9f3a"
             ],
             [
              0.8888888888888888,
              "#fdca26"
             ],
             [
              1,
              "#f0f921"
             ]
            ],
            "type": "surface"
           }
          ],
          "table": [
           {
            "cells": {
             "fill": {
              "color": "#EBF0F8"
             },
             "line": {
              "color": "white"
             }
            },
            "header": {
             "fill": {
              "color": "#C8D4E3"
             },
             "line": {
              "color": "white"
             }
            },
            "type": "table"
           }
          ]
         },
         "layout": {
          "annotationdefaults": {
           "arrowcolor": "#2a3f5f",
           "arrowhead": 0,
           "arrowwidth": 1
          },
          "autotypenumbers": "strict",
          "coloraxis": {
           "colorbar": {
            "outlinewidth": 0,
            "ticks": ""
           }
          },
          "colorscale": {
           "diverging": [
            [
             0,
             "#8e0152"
            ],
            [
             0.1,
             "#c51b7d"
            ],
            [
             0.2,
             "#de77ae"
            ],
            [
             0.3,
             "#f1b6da"
            ],
            [
             0.4,
             "#fde0ef"
            ],
            [
             0.5,
             "#f7f7f7"
            ],
            [
             0.6,
             "#e6f5d0"
            ],
            [
             0.7,
             "#b8e186"
            ],
            [
             0.8,
             "#7fbc41"
            ],
            [
             0.9,
             "#4d9221"
            ],
            [
             1,
             "#276419"
            ]
           ],
           "sequential": [
            [
             0,
             "#0d0887"
            ],
            [
             0.1111111111111111,
             "#46039f"
            ],
            [
             0.2222222222222222,
             "#7201a8"
            ],
            [
             0.3333333333333333,
             "#9c179e"
            ],
            [
             0.4444444444444444,
             "#bd3786"
            ],
            [
             0.5555555555555556,
             "#d8576b"
            ],
            [
             0.6666666666666666,
             "#ed7953"
            ],
            [
             0.7777777777777778,
             "#fb9f3a"
            ],
            [
             0.8888888888888888,
             "#fdca26"
            ],
            [
             1,
             "#f0f921"
            ]
           ],
           "sequentialminus": [
            [
             0,
             "#0d0887"
            ],
            [
             0.1111111111111111,
             "#46039f"
            ],
            [
             0.2222222222222222,
             "#7201a8"
            ],
            [
             0.3333333333333333,
             "#9c179e"
            ],
            [
             0.4444444444444444,
             "#bd3786"
            ],
            [
             0.5555555555555556,
             "#d8576b"
            ],
            [
             0.6666666666666666,
             "#ed7953"
            ],
            [
             0.7777777777777778,
             "#fb9f3a"
            ],
            [
             0.8888888888888888,
             "#fdca26"
            ],
            [
             1,
             "#f0f921"
            ]
           ]
          },
          "colorway": [
           "#636efa",
           "#EF553B",
           "#00cc96",
           "#ab63fa",
           "#FFA15A",
           "#19d3f3",
           "#FF6692",
           "#B6E880",
           "#FF97FF",
           "#FECB52"
          ],
          "font": {
           "color": "#2a3f5f"
          },
          "geo": {
           "bgcolor": "white",
           "lakecolor": "white",
           "landcolor": "#E5ECF6",
           "showlakes": true,
           "showland": true,
           "subunitcolor": "white"
          },
          "hoverlabel": {
           "align": "left"
          },
          "hovermode": "closest",
          "mapbox": {
           "style": "light"
          },
          "paper_bgcolor": "white",
          "plot_bgcolor": "#E5ECF6",
          "polar": {
           "angularaxis": {
            "gridcolor": "white",
            "linecolor": "white",
            "ticks": ""
           },
           "bgcolor": "#E5ECF6",
           "radialaxis": {
            "gridcolor": "white",
            "linecolor": "white",
            "ticks": ""
           }
          },
          "scene": {
           "xaxis": {
            "backgroundcolor": "#E5ECF6",
            "gridcolor": "white",
            "gridwidth": 2,
            "linecolor": "white",
            "showbackground": true,
            "ticks": "",
            "zerolinecolor": "white"
           },
           "yaxis": {
            "backgroundcolor": "#E5ECF6",
            "gridcolor": "white",
            "gridwidth": 2,
            "linecolor": "white",
            "showbackground": true,
            "ticks": "",
            "zerolinecolor": "white"
           },
           "zaxis": {
            "backgroundcolor": "#E5ECF6",
            "gridcolor": "white",
            "gridwidth": 2,
            "linecolor": "white",
            "showbackground": true,
            "ticks": "",
            "zerolinecolor": "white"
           }
          },
          "shapedefaults": {
           "line": {
            "color": "#2a3f5f"
           }
          },
          "ternary": {
           "aaxis": {
            "gridcolor": "white",
            "linecolor": "white",
            "ticks": ""
           },
           "baxis": {
            "gridcolor": "white",
            "linecolor": "white",
            "ticks": ""
           },
           "bgcolor": "#E5ECF6",
           "caxis": {
            "gridcolor": "white",
            "linecolor": "white",
            "ticks": ""
           }
          },
          "title": {
           "x": 0.05
          },
          "xaxis": {
           "automargin": true,
           "gridcolor": "white",
           "linecolor": "white",
           "ticks": "",
           "title": {
            "standoff": 15
           },
           "zerolinecolor": "white",
           "zerolinewidth": 2
          },
          "yaxis": {
           "automargin": true,
           "gridcolor": "white",
           "linecolor": "white",
           "ticks": "",
           "title": {
            "standoff": 15
           },
           "zerolinecolor": "white",
           "zerolinewidth": 2
          }
         }
        }
       }
      }
     },
     "metadata": {},
     "output_type": "display_data"
    }
   ],
   "source": [
    "fig = go.Figure()\n",
    "\n",
    "fig.add_trace(go.Box(y=[\n",
    "        [ 0, 1, 2, 3, 4, 5, 6, 7, 8, 9 ],\n",
    "        [ 0, 1, 2, 3, 4, 5, 6, 7, 8, 9 ],\n",
    "        [ 0, 1, 2, 3, 4, 5, 6, 7, 8, 9 ]\n",
    "      ], name=\"Precompiled Quartiles\"))\n",
    "\n",
    "fig.update_traces(q1=[ 1, 2, 3 ], median=[ 4, 5, 6 ],\n",
    "                  q3=[ 7, 8, 9 ], lowerfence=[-1, 0, 1],\n",
    "                  upperfence=[5, 6, 7], mean=[ 2.2, 2.8, 3.2 ],\n",
    "                  sd=[ 0.2, 0.4, 0.6 ], notchspan=[ 0.2, 0.4, 0.6 ] )\n",
    "\n",
    "fig.show()"
   ]
  },
  {
   "cell_type": "code",
   "execution_count": 600,
   "metadata": {},
   "outputs": [
    {
     "data": {
      "text/plain": [
       "Index(['STUDENT ID', 'SALUTATION', 'GENDER', 'NATIONALITY', 'DOB',\n",
       "       'HIGHEST QUALIFICATION', 'NAME OF QUALIFICATION AND INSTITUTION',\n",
       "       'DATE ATTAINED HIGHEST QUALIFICATION', 'DESIGNATION', 'INTAKE NO',\n",
       "       'COMMENCEMENT DATE', 'COMPLETION DATE', 'FULL-TIME OR PART-TIME',\n",
       "       'COURSE FUNDING', 'REGISTRATION FEE', 'PAYMENT MODE', 'COURSE FEE',\n",
       "       'GPA', 'CITIZENSHIP_STATUS', 'date_diff', 'COURSE', 'Age',\n",
       "       'GPA Category', 'Job Category', 'Age Group'],\n",
       "      dtype='object')"
      ]
     },
     "execution_count": 600,
     "metadata": {},
     "output_type": "execute_result"
    }
   ],
   "source": [
    "df.columns"
   ]
  },
  {
   "cell_type": "code",
   "execution_count": 601,
   "metadata": {},
   "outputs": [
    {
     "data": {
      "application/vnd.plotly.v1+json": {
       "config": {
        "plotlyServerURL": "https://plot.ly"
       },
       "data": [
        {
         "alignmentgroup": "True",
         "bingroup": "x",
         "histfunc": "sum",
         "hovertemplate": "Age Group=40 and Above<br>COMPLETION DATE=%{x}<br>sum of Age=%{y}<extra></extra>",
         "legendgroup": "40 and Above",
         "marker": {
          "color": "#636efa",
          "pattern": {
           "shape": ""
          }
         },
         "name": "40 and Above",
         "offsetgroup": "40 and Above",
         "orientation": "v",
         "showlegend": true,
         "type": "histogram",
         "x": [
          "2021-04-06",
          "2021-04-06",
          "2021-06-09",
          "2021-10-05",
          "2021-10-05",
          "2022-02-02",
          "2022-02-02",
          "2020-04-07",
          "2020-04-07",
          "2020-04-07",
          "2020-06-06",
          "2020-06-06",
          "2020-06-06",
          "2020-06-06",
          "2020-10-08",
          "2020-10-08",
          "2020-10-08",
          "2020-12-09",
          "2020-12-09",
          "2020-12-09",
          "2021-02-04",
          "2021-02-04",
          "2021-02-04",
          "2021-03-05",
          "2021-06-23",
          "2020-01-23",
          "2020-01-23",
          "2020-05-04",
          "2020-05-04",
          "2019-11-25",
          "2020-09-21",
          "2020-09-21",
          "2020-09-21",
          "2020-11-20",
          "2020-11-20",
          "2020-11-20",
          "2020-11-20",
          "2020-11-20",
          "2020-11-20",
          "2020-11-23",
          "2020-11-23",
          "2020-11-23",
          "2020-11-23",
          "2020-11-23",
          "2020-11-23",
          "2020-11-23",
          "2019-04-15",
          "2019-04-15",
          "2019-04-15",
          "2019-04-15",
          "2019-04-15",
          "2019-04-15",
          "2019-04-15",
          "2019-05-07",
          "2019-05-07",
          "2019-05-07",
          "2019-05-07",
          "2019-09-20",
          "2019-09-20",
          "2019-09-20",
          "2019-09-20",
          "2019-09-20",
          "2019-09-20",
          "2019-09-20",
          "2019-09-20",
          "2019-09-20",
          "2019-09-20",
          "2019-11-22",
          "2019-11-22",
          "2019-11-22",
          "2019-11-22",
          "2019-11-22",
          "2019-11-22",
          "2020-01-17",
          "2021-04-29",
          "2021-04-29",
          "2021-02-20",
          "2020-09-19",
          "2020-03-19",
          "2020-03-19",
          "2020-03-19",
          "2020-01-04",
          "2020-01-04",
          "2020-01-04",
          "2020-01-04",
          "2019-09-07",
          "2019-07-03",
          "2019-07-03",
          "2021-04-29",
          "2021-04-29",
          "2021-02-20",
          "2020-09-19",
          "2020-07-09",
          "2020-07-09",
          "2020-03-19",
          "2020-01-04",
          "2020-01-04",
          "2019-07-03",
          "2019-07-03"
         ],
         "xaxis": "x",
         "y": [
          46,
          58,
          43,
          48,
          46,
          44,
          41,
          42,
          44,
          48,
          55,
          44,
          44,
          48,
          51,
          54,
          50,
          55,
          46,
          51,
          46,
          48,
          44,
          50,
          54,
          43,
          56,
          44,
          48,
          45,
          47,
          50,
          43,
          54,
          55,
          54,
          47,
          53,
          63,
          46,
          51,
          50,
          45,
          44,
          50,
          46,
          54,
          41,
          61,
          56,
          53,
          41,
          44,
          43,
          42,
          51,
          41,
          59,
          52,
          47,
          42,
          50,
          56,
          50,
          46,
          45,
          42,
          57,
          59,
          59,
          41,
          45,
          42,
          42,
          53,
          42,
          42,
          41,
          41,
          41,
          50,
          48,
          41,
          46,
          54,
          51,
          46,
          42,
          50,
          42,
          45,
          47,
          42,
          44,
          44,
          51,
          41,
          42,
          41
         ],
         "yaxis": "y"
        },
        {
         "alignmentgroup": "True",
         "customdata": [
          [
           "2020/1101-013/001",
           "Ms",
           "F",
           "Singaporean",
           "1978-04-03",
           "Certificate",
           "Certificate in Office Skills, ITE",
           "2016-11-06",
           "Snr Associate, Client Services",
           "13th",
           "2020-01-06",
           "Part-Time",
           "Subsidiesed",
           107,
           "NETS",
           1712,
           3,
           "L",
           456,
           "Diploma in Business Administration",
           "3 - 3.5",
           "Customer Service and Sales",
           "40 and Above"
          ],
          [
           "2020/1101-013/002",
           "Ms",
           "F",
           "Singaporean",
           "1966-03-23",
           "Certificate",
           "WSQ Higher Certificate in Human Resources, WPLN, Fundamentals Certificate in Early Childhood Care and Education",
           "2018-02-06",
           "Admin Officer",
           "13th",
           "2020-01-06",
           "Part-Time",
           "Individual",
           107,
           "NETS",
           1712,
           2.5,
           "L",
           456,
           "Diploma in Business Administration",
           "2 - 3",
           "Administration",
           "40 and Above"
          ],
          [
           "2020/1101-014/006",
           "Ms",
           "F",
           "Permanent Resident",
           "1981-03-15",
           "Certificate",
           "Certificate in Payroll Administration, SHRI Academy, SPM",
           "2016-08-10",
           "HR Executive",
           "14th",
           "2020-03-10",
           "Part-Time",
           "Sponsored",
           107,
           "GIRO",
           1604,
           1.8,
           "F",
           456,
           "Diploma in Business Administration",
           "1 - 2",
           "Human Resources",
           "40 and Above"
          ],
          [
           "2020/1101-015/009",
           "Ms",
           "F",
           "Singaporean",
           "1975-09-07",
           "Degree",
           "Bachelor of Science in Business & Mgt Studies, University of Bradford",
           "2017-12-06",
           "HR Executive",
           "15th",
           "2020-07-06",
           "Part-Time",
           "Subsidiesed",
           107,
           "GIRO",
           1712,
           2.5,
           "L",
           456,
           "Diploma in Business Administration",
           "2 - 3",
           "Human Resources",
           "40 and Above"
          ],
          [
           "2020/1101-015/010",
           "Ms",
           "F",
           "Singaporean",
           "1977-09-06",
           "Degree",
           "Bachelor of Business (Advertising), Queensland University of Technology",
           "2018-10-06",
           "No Designation",
           "15th",
           "2020-07-06",
           "Part-Time",
           "Subsidiesed",
           107,
           "GIRO",
           1712,
           2.2,
           "L",
           456,
           "Diploma in Business Administration",
           "2 - 3",
           "Others",
           "40 and Above"
          ],
          [
           "2020/1101-017/016",
           "Ms",
           "F",
           "Singaporean",
           "1980-01-27",
           "Diploma",
           "Diploma in Hotel Management, SHATEC",
           "2019-01-02",
           "Rooms Division Manager",
           "17th",
           "2020-11-02",
           "Part-Time",
           "Subsidiesed",
           107,
           "GIRO",
           1712,
           2.9,
           "L",
           457,
           "Diploma in Business Administration",
           "2 - 3",
           "Management",
           "40 and Above"
          ],
          [
           "2020/1101-017/018",
           "Ms",
           "F",
           "Singaporean",
           "1983-06-18",
           "Certificate",
           "N level",
           "2018-01-02",
           "No Designation",
           "17th",
           "2020-11-02",
           "Part-Time",
           "Subsidiesed",
           107,
           "GIRO",
           1712,
           3.3,
           "L",
           457,
           "Diploma in Business Administration",
           "3 - 3.5",
           "Others",
           "40 and Above"
          ],
          [
           "2019/1101-007/001",
           "Ms",
           "F",
           "Foreigner",
           "1981-09-13",
           "Certificate",
           "SPM",
           "2018-01-08",
           "Admin & HR Assistant",
           "7th",
           "2019-01-08",
           "Part-Time",
           "Individual",
           107,
           "GIRO",
           1712,
           3.2,
           "F",
           455,
           "Diploma in Business Administration",
           "3 - 3.5",
           "Human Resources",
           "40 and Above"
          ],
          [
           "2019/1101-007/002",
           "Ms",
           "F",
           "Singaporean",
           "1979-07-26",
           "Certificate",
           "Certificate in Office Skills, ITE",
           "2016-06-08",
           "Admin Assistant",
           "7th",
           "2019-01-08",
           "Part-Time",
           "Subsidiesed",
           107,
           "NETS",
           1712,
           3.1,
           "L",
           455,
           "Diploma in Business Administration",
           "3 - 3.5",
           "Administration",
           "40 and Above"
          ],
          [
           "2019/1101-007/004",
           "Ms",
           "F",
           "Foreigner",
           "1976-04-20",
           "Diploma",
           "Office Management Diploma, NCOI Rotterdam, The Netherlands",
           "2018-02-08",
           "HR Support / Office Manager",
           "7th",
           "2019-01-08",
           "Part-Time",
           "Individual",
           107,
           "NETS",
           1712,
           3.6,
           "F",
           455,
           "Diploma in Business Administration",
           "More Than 3.5",
           "Human Resources",
           "40 and Above"
          ],
          [
           "2019/1101-008/006",
           "Ms",
           "F",
           "Permanent Resident",
           "1968-10-17",
           "Certificate",
           "Lower Secondary Education, Malaysia",
           "2015-05-07",
           "Administrator",
           "8th",
           "2019-03-07",
           "Part-Time",
           "Subsidiesed",
           107,
           "Bank Transfer",
           1212,
           1.8,
           "F",
           457,
           "Diploma in Business Administration",
           "1 - 2",
           "Administration",
           "40 and Above"
          ],
          [
           "2019/1101-008/007",
           "Ms",
           "F",
           "Permanent Resident",
           "1979-10-22",
           "Master",
           "Master in Computer Science, Osmania University, India",
           "2015-06-07",
           "No Designation",
           "8th",
           "2019-03-07",
           "Part-Time",
           "Individual",
           107,
           "Bank Transfer",
           1712,
           2.7,
           "F",
           457,
           "Diploma in Business Administration",
           "2 - 3",
           "Others",
           "40 and Above"
          ],
          [
           "2019/1101-008/008",
           "Ms",
           "F",
           "Singaporean",
           "1980-06-29",
           "Certificate",
           "N' level",
           "2015-07-07",
           "Admin & Finance Executive",
           "8th",
           "2019-03-07",
           "Part-Time",
           "Sponsored",
           107,
           "GIRO",
           1604,
           1.7,
           "L",
           457,
           "Diploma in Business Administration",
           "1 - 2",
           "Administration",
           "40 and Above"
          ],
          [
           "2019/1101-008/009",
           "Ms",
           "F",
           "Singaporean",
           "1976-05-25",
           "Certificate",
           "O' level",
           "2015-08-07",
           "Admin Assistant",
           "8th",
           "2019-03-07",
           "Part-Time",
           "Individual",
           107,
           "NETS",
           1712,
           1.8,
           "L",
           457,
           "Diploma in Business Administration",
           "1 - 2",
           "Administration",
           "40 and Above"
          ],
          [
           "2019/1101-010/014",
           "Ms",
           "F",
           "Singaporean",
           "1973-04-20",
           "Certificate",
           "O' level",
           "2016-02-09",
           "Office Manager",
           "10th",
           "2019-07-09",
           "Part-Time",
           "Sponsored",
           107,
           "GIRO",
           1712,
           1.9,
           "L",
           457,
           "Diploma in Business Administration",
           "1 - 2",
           "Administration",
           "40 and Above"
          ],
          [
           "2019/1101-010/021",
           "Ms",
           "F",
           "Singaporean",
           "1970-02-08",
           "Diploma",
           "Diploma in Business Administration, PSB Academy",
           "2016-02-09",
           "Executive Assistant",
           "10th",
           "2019-07-09",
           "Part-Time",
           "Subsidiesed",
           107,
           "Bank Transfer",
           1712,
           3.1,
           "L",
           457,
           "Diploma in Business Administration",
           "3 - 3.5",
           "Others",
           "40 and Above"
          ],
          [
           "2019/1101-010/022",
           "Ms",
           "F",
           "Singaporean",
           "1973-08-03",
           "Certificate",
           "Certificate in Office Skills, ITE",
           "2017-01-09",
           "Secretary",
           "10th",
           "2019-07-09",
           "Part-Time",
           "Subsidiesed",
           107,
           "Bank Transfer",
           1712,
           2.2,
           "L",
           457,
           "Diploma in Business Administration",
           "2 - 3",
           "Administration",
           "40 and Above"
          ],
          [
           "2019/1101-011/025",
           "Ms",
           "F",
           "Singaporean",
           "1969-02-16",
           "Certificate",
           "O' levels, Diploma in Business Management (distance learning), Glasgow, Dublin",
           "2018-10-10",
           "Admin Assistant",
           "11th",
           "2019-09-10",
           "Part-Time",
           "Sponsored",
           107,
           "Bank Transfer",
           1604,
           3.3,
           "L",
           456,
           "Diploma in Business Administration",
           "3 - 3.5",
           "Administration",
           "40 and Above"
          ],
          [
           "2019/1101-011/027",
           "Ms",
           "F",
           "Permanent Resident",
           "1978-06-16",
           "Certificate",
           "Certified Accounting Technicians (CATS), ACCA, SPM",
           "2018-09-10",
           "Senior HR Officer",
           "11th",
           "2019-09-10",
           "Part-Time",
           "Subsidiesed",
           107,
           "Bank Transfer",
           1212,
           3.7,
           "L",
           456,
           "Diploma in Business Administration",
           "More Than 3.5",
           "Human Resources",
           "40 and Above"
          ],
          [
           "2019/1101-011/029",
           "Ms",
           "F",
           "Singaporean",
           "1973-04-30",
           "Certificate",
           "Certified Accounting Technicians (CATS), ACCA, 'O' levels",
           "2016-09-10",
           "No Designation",
           "11th",
           "2019-09-10",
           "Part-Time",
           "Individual",
           107,
           "Bank Transfer",
           1712,
           2.9,
           "L",
           456,
           "Diploma in Business Administration",
           "2 - 3",
           "Others",
           "40 and Above"
          ],
          [
           "2019/1101-012/030",
           "Mr",
           "M",
           "Singaporean",
           "1977-12-06",
           "Certificate",
           "NTC 2, N Level, WPLN",
           "2016-02-05",
           "Manager",
           "12th",
           "2019-11-05",
           "Part-Time",
           "Individual",
           107,
           "NETS",
           1712,
           2.1,
           "L",
           457,
           "Diploma in Business Administration",
           "2 - 3",
           "Management",
           "40 and Above"
          ],
          [
           "2019/1101-012/031",
           "Ms",
           "F",
           "Singaporean",
           "1976-04-27",
           "Certificate",
           "O' level, 'N' Level, WPLN",
           "2016-08-05",
           "No Designation",
           "12th",
           "2019-11-05",
           "Part-Time",
           "Individual",
           107,
           "NETS",
           1712,
           3.1,
           "L",
           457,
           "Diploma in Business Administration",
           "3 - 3.5",
           "Others",
           "40 and Above"
          ],
          [
           "2019/1101-012/033",
           "Ms",
           "F",
           "Singaporean",
           "1980-03-01",
           "Certificate",
           "N level",
           "2018-07-05",
           "Secretary",
           "12th",
           "2019-11-05",
           "Part-Time",
           "Individual",
           107,
           "NETS",
           1712,
           3,
           "L",
           457,
           "Diploma in Business Administration",
           "3 - 3.5",
           "Administration",
           "40 and Above"
          ],
          [
           "2020/2101-110/002",
           "Ms",
           "F",
           "Singaporean",
           "1974-06-11",
           "Certificate",
           "SPM, LCCI",
           "2018-07-08",
           "Business Support Manager, APAC",
           "110th",
           "2020-06-08",
           "Part-Time",
           "Individual",
           107,
           "GIRO",
           2996,
           3.4,
           "L",
           270,
           "Certificate in HR Management",
           "3 - 3.5",
           "Management",
           "40 and Above"
          ],
          [
           "2020/2101-111/008",
           "Ms",
           "F",
           "Singaporean",
           "1969-12-18",
           "Certificate",
           "Basic Certificate in HRM, SHRI",
           "2017-04-28",
           "Executive, Corporate Services",
           "111th",
           "2020-09-28",
           "Part-Time",
           "Individual",
           107,
           "GIRO",
           1496,
           3,
           "L",
           268,
           "Certificate in HR Management",
           "3 - 3.5",
           "Customer Service and Sales",
           "40 and Above"
          ],
          [
           "2019/2101-107/003",
           "Ms",
           "F",
           "Singaporean",
           "1981-06-19",
           "Diploma",
           "Diploma in Mechatronic Engineering, Nee Ann Polytechnic",
           "2016-12-24",
           "HR Manager",
           "107th",
           "2019-04-24",
           "Part-Time",
           "Sponsored",
           107,
           "Bank Transfer",
           2696,
           3.3,
           "L",
           274,
           "Certificate in HR Management",
           "3 - 3.5",
           "Human Resources",
           "40 and Above"
          ],
          [
           "2019/2101-107/005",
           "Ms",
           "F",
           "Singaporean",
           "1967-10-19",
           "Certificate",
           "O' level",
           "2015-07-24",
           "Senior Vice President, Gaming Division",
           "63th",
           "2019-04-24",
           "Part-Time",
           "Individual",
           0,
           "NETS",
           2996,
           2.4,
           "L",
           274,
           "Certificate in HR Management",
           "2 - 3",
           "Management",
           "40 and Above"
          ],
          [
           "2019/2101-108/012",
           "Ms",
           "F",
           "Singaporean",
           "1979-09-11",
           "Certificate",
           "SPM, LCCI Level 2 Certificate in Book-keeping and Accounts / LCCI Level 3 Business Statistics",
           "2016-12-05",
           "HR Executive",
           "108th",
           "2019-08-05",
           "Part-Time",
           "Individual",
           107,
           "Bank Transfer",
           2996,
           2.9,
           "L",
           273,
           "Certificate in HR Management",
           "2 - 3",
           "Human Resources",
           "40 and Above"
          ],
          [
           "2019/2101-108/014",
           "Ms",
           "F",
           "Singaporean",
           "1976-05-25",
           "Certificate",
           "O' level, Foundation Certificate in Human Resource Management, SHRI Academy",
           "2018-04-05",
           "Admin Assistant",
           "108th",
           "2019-08-05",
           "Part-Time",
           "Individual",
           0,
           "Bank Transfer",
           2996,
           2.8,
           "L",
           273,
           "Certificate in HR Management",
           "2 - 3",
           "Administration",
           "40 and Above"
          ],
          [
           "2019/2101-109/022",
           "Ms",
           "F",
           "Singaporean",
           "1978-11-30",
           "Certificate",
           "Certificate in Office Skills, ITE",
           "2018-05-25",
           "Executive",
           "109th",
           "2019-09-28",
           "Part-Time",
           "Individual",
           107,
           "GIRO",
           2996,
           3,
           "L",
           58,
           "Certificate in HR Management",
           "3 - 3.5",
           "Others",
           "40 and Above"
          ],
          [
           "2020/2102-068/002",
           "Ms",
           "F",
           "Singaporean",
           "1976-11-04",
           "Diploma",
           "Diploma in Business Administration (Accounting & Finance), PSB Academy",
           "2019-01-22",
           "Snr Executive, Accounts",
           "68th",
           "2020-07-22",
           "Part-Time",
           "Subsidiesed",
           107,
           "Bank Transfer",
           1415,
           3.2,
           "L",
           61,
           "Certificate in Digital Marketing",
           "3 - 3.5",
           "Finance and Accounting",
           "40 and Above"
          ],
          [
           "2020/2102-068/003",
           "Ms",
           "F",
           "Singaporean",
           "1973-10-09",
           "Diploma",
           "LCCI Diploma in Accounting (Third Level)",
           "2019-03-22",
           "Snr Accounts Officer",
           "68th",
           "2020-07-22",
           "Part-Time",
           "Subsidiesed",
           107,
           "Bank Transfer",
           1415,
           3.8,
           "L",
           61,
           "Certificate in Digital Marketing",
           "More Than 3.5",
           "Administration",
           "40 and Above"
          ],
          [
           "2020/2102-068/008",
           "Ms",
           "F",
           "Singaporean",
           "1980-12-17",
           "Degree",
           "Bachelor of Human Resource Management, SUSS",
           "2018-10-22",
           "HR Executive",
           "68th",
           "2020-07-22",
           "Part-Time",
           "Sponsored",
           107,
           "Bank Transfer",
           1495,
           3.2,
           "L",
           61,
           "Certificate in Digital Marketing",
           "3 - 3.5",
           "Human Resources",
           "40 and Above"
          ],
          [
           "2020/2102-069/012",
           "Mr",
           "M",
           "Singaporean",
           "1969-10-15",
           "Degree",
           "Bachelor of Accountancy, jointly offered by NUS/NTU",
           "2017-09-30",
           "Senior Manager",
           "69th",
           "2020-09-30",
           "Part-Time",
           "Sponsored",
           107,
           "Bank Transfer",
           1388,
           2.5,
           "L",
           51,
           "Certificate in Digital Marketing",
           "2 - 3",
           "Management",
           "40 and Above"
          ],
          [
           "2020/2102-069/014",
           "Ms",
           "F",
           "Singaporean",
           "1968-10-17",
           "Certificate",
           "FCHRM, SHRI Academy",
           "2019-08-30",
           "Administrator",
           "69th",
           "2020-09-30",
           "Part-Time",
           "Individual",
           107,
           "Bank Transfer",
           888,
           3.3,
           "L",
           51,
           "Certificate in Digital Marketing",
           "3 - 3.5",
           "Administration",
           "40 and Above"
          ],
          [
           "2020/2102-069/016",
           "Mrs",
           "F",
           "Singaporean",
           "1970-06-24",
           "Diploma",
           "Diploma in Business, Marketing Institute of Singapore",
           "2019-02-28",
           "Admin Support Executive",
           "69th",
           "2020-09-30",
           "Part-Time",
           "Sponsored",
           107,
           "GIRO",
           1388,
           2.6,
           "L",
           51,
           "Certificate in Digital Marketing",
           "2 - 3",
           "Administration",
           "40 and Above"
          ],
          [
           "2020/2102-069/020",
           "Ms",
           "F",
           "Singaporean",
           "1977-02-13",
           "Diploma",
           "Graduate Diploma in Business Administration (Operations & Logistics Management), SIM",
           "2017-10-30",
           "No Designation",
           "69th",
           "2020-09-30",
           "Part-Time",
           "Individual",
           107,
           "Bank Transfer",
           1495,
           3,
           "L",
           51,
           "Certificate in Digital Marketing",
           "3 - 3.5",
           "Others",
           "40 and Above"
          ],
          [
           "2020/2102-069/021",
           "Ms",
           "F",
           "Singaporean",
           "1971-07-11",
           "Graduate Diploma",
           "Graduate Diploma in HRM, SHRI",
           "2017-02-28",
           "HR Manager",
           "69th",
           "2020-09-30",
           "Part-Time",
           "Individual",
           107,
           "Bank Transfer",
           1415,
           1.9,
           "L",
           51,
           "Certificate in Digital Marketing",
           "1 - 2",
           "Human Resources",
           "40 and Above"
          ],
          [
           "2020/2102-069/022",
           "Ms",
           "F",
           "Singaporean",
           "1961-01-04",
           "Certificate",
           "O level, Private Secretary Certificate, LCCI",
           "2019-02-28",
           "Secretary",
           "69th",
           "2020-09-30",
           "Part-Time",
           "Sponsored",
           107,
           "Bank Transfer",
           1388,
           2.6,
           "L",
           51,
           "Certificate in Digital Marketing",
           "2 - 3",
           "Administration",
           "40 and Above"
          ],
          [
           "2020/2102-070/024",
           "Ms",
           "F",
           "Singaporean",
           "1977-08-27",
           "Diploma",
           "Diploma in Compensation & Benfits Management, SHRI Academy",
           "2019-09-23",
           "Office Dept Head",
           "70th",
           "2020-01-22",
           "Part-Time",
           "Subsidiesed",
           107,
           "Bank Transfer",
           1388,
           3.7,
           "L",
           306,
           "Certificate in Digital Marketing",
           "More Than 3.5",
           "Administration",
           "40 and Above"
          ],
          [
           "2020/2102-070/031",
           "Ms",
           "F",
           "Singaporean",
           "1972-09-06",
           "Diploma",
           "Professional Diploma in Leadership and People Management, SSG / 'A' level",
           "2017-12-23",
           "No Designation",
           "70th",
           "2020-01-22",
           "Part-Time",
           "Subsidiesed",
           107,
           "Bank Transfer",
           1388,
           3.3,
           "L",
           306,
           "Certificate in Digital Marketing",
           "3 - 3.5",
           "Others",
           "40 and Above"
          ],
          [
           "2020/2102-070/034",
           "Ms",
           "F",
           "Singaporean",
           "1973-12-07",
           "Diploma",
           "Diploma in Integrated Logistics Management, The Logistics Academy Pte Ltd",
           "2018-07-23",
           "No Designation",
           "70th",
           "2020-01-22",
           "Part-Time",
           "Subsidiesed",
           107,
           "GIRO",
           1495,
           2.9,
           "L",
           306,
           "Certificate in Digital Marketing",
           "2 - 3",
           "Others",
           "40 and Above"
          ],
          [
           "2020/2102-070/035",
           "Ms",
           "F",
           "Singaporean",
           "1978-12-10",
           "Diploma",
           "Diploma in Product & Industrial Design, Temasek Polytechnic",
           "2017-12-23",
           "No Designation",
           "70th",
           "2020-01-22",
           "Part-Time",
           "Subsidiesed",
           107,
           "Bank Transfer",
           1415,
           3.1,
           "L",
           306,
           "Certificate in Digital Marketing",
           "3 - 3.5",
           "Others",
           "40 and Above"
          ],
          [
           "2020/2102-070/036",
           "Ms",
           "F",
           "Foreigner",
           "1980-03-16",
           "Master",
           "Master of Business Administration, Anna University, India ",
           "2019-01-23",
           "No Designation",
           "70th",
           "2020-01-22",
           "Part-Time",
           "Individual",
           107,
           "Bank Transfer",
           1388,
           2.8,
           "L",
           306,
           "Certificate in Digital Marketing",
           "2 - 3",
           "Others",
           "40 and Above"
          ],
          [
           "2020/2102-070/039",
           "Ms",
           "F",
           "Singaporean",
           "1974-01-23",
           "Degree",
           "Bachelor of Communication, SIM University",
           "2017-05-23",
           "Senior Manager",
           "70th",
           "2020-01-22",
           "Part-Time",
           "Individual",
           107,
           "Bank Transfer",
           1388,
           1.8,
           "L",
           306,
           "Certificate in Digital Marketing",
           "1 - 2",
           "Management",
           "40 and Above"
          ],
          [
           "2020/2102-070/040",
           "Ms",
           "F",
           "Singaporean",
           "1978-05-22",
           "Degree",
           "Bachelor of Business Administration, University of South Australia",
           "2017-05-23",
           "HR Manager",
           "70th",
           "2020-01-22",
           "Part-Time",
           "Subsidiesed",
           107,
           "Bank Transfer",
           1388,
           2.8,
           "L",
           306,
           "Certificate in Digital Marketing",
           "2 - 3",
           "Human Resources",
           "40 and Above"
          ],
          [
           "2019/2102-063/001",
           "Ms",
           "F",
           "Singaporean",
           "1969-10-02",
           "Degree",
           "Bachelor of Accountancy, NUS",
           "2015-08-18",
           "No Designation",
           "63th",
           "2019-02-18",
           "Part-Time",
           "Individual",
           107,
           "Bank Transfer",
           1388,
           3,
           "L",
           56,
           "Certificate in Digital Marketing",
           "3 - 3.5",
           "Others",
           "40 and Above"
          ],
          [
           "2019/2102-063/003",
           "Ms",
           "F",
           "Singaporean",
           "1982-07-25",
           "Diploma",
           "Diploma in Human Resource Management, PSB, ACTA",
           "2016-06-18",
           "No Designation",
           "63th",
           "2019-02-18",
           "Part-Time",
           "Subsidiesed",
           107,
           "Bank Transfer",
           1308,
           2.6,
           "L",
           56,
           "Certificate in Digital Marketing",
           "2 - 3",
           "Others",
           "40 and Above"
          ],
          [
           "2019/2102-063/004",
           "Ms",
           "F",
           "Permanent Resident",
           "1962-11-30",
           "Degree",
           "Bachelor of Science in Psychology, Lyceum of the Philippines",
           "2015-03-18",
           "Admin Executive",
           "63th",
           "2019-02-18",
           "Part-Time",
           "Individual",
           107,
           "Bank Transfer",
           1495,
           2.6,
           "L",
           56,
           "Certificate in Digital Marketing",
           "2 - 3",
           "Administration",
           "40 and Above"
          ],
          [
           "2019/2102-063/005",
           "Ms",
           "F",
           "Singaporean",
           "1967-10-19",
           "Certificate",
           "O' level",
           "2017-05-18",
           "Senior Vice President, Gaming Division",
           "63th",
           "2019-02-18",
           "Part-Time",
           "Subsidiesed",
           107,
           "Bank Transfer",
           1495,
           3,
           "L",
           56,
           "Certificate in Digital Marketing",
           "3 - 3.5",
           "Management",
           "40 and Above"
          ],
          [
           "2019/2102-063/006",
           "Ms",
           "F",
           "Singaporean",
           "1971-05-07",
           "Degree",
           "BSc in Business and Management Studies, University of Bradford",
           "2016-06-18",
           "Snr Admin Executive",
           "63th",
           "2019-02-18",
           "Part-Time",
           "Sponsored",
           107,
           "Bank Transfer",
           1415,
           2.3,
           "L",
           56,
           "Certificate in Digital Marketing",
           "2 - 3",
           "Administration",
           "40 and Above"
          ],
          [
           "2019/2102-063/007",
           "Ms",
           "F",
           "Singaporean",
           "1983-03-22",
           "Diploma",
           "Diploma in Maritime Studies, Institute of Maritime & Business Management (IMBM)",
           "2016-05-18",
           "No Designation",
           "63th",
           "2019-02-18",
           "Part-Time",
           "Individual",
           107,
           "Bank Transfer",
           1388,
           3.1,
           "L",
           56,
           "Certificate in Digital Marketing",
           "3 - 3.5",
           "Others",
           "40 and Above"
          ],
          [
           "2019/2102-063/008",
           "Ms",
           "F",
           "Singaporean",
           "1979-11-11",
           "Certificate",
           "O' level",
           "2016-03-18",
           "No Designation",
           "63th",
           "2019-02-18",
           "Part-Time",
           "Individual",
           107,
           "Bank Transfer",
           1388,
           2.8,
           "L",
           56,
           "Certificate in Digital Marketing",
           "2 - 3",
           "Others",
           "40 and Above"
          ],
          [
           "2019/2102-064/014",
           "Ms",
           "F",
           "Singaporean",
           "1981-06-01",
           "Diploma",
           "Diploma in Business Administration (HRM), PSB Academy ",
           "2016-04-06",
           "HR & Admin",
           "64th",
           "2019-05-06",
           "Part-Time",
           "Subsidiesed",
           107,
           "Bank Transfer",
           1495,
           3,
           "L",
           1,
           "Certificate in Digital Marketing",
           "3 - 3.5",
           "Human Resources",
           "40 and Above"
          ],
          [
           "2019/2102-064/018",
           "Mr",
           "M",
           "Singaporean",
           "1981-10-12",
           "Degree",
           "Bachelor of Commerce, Deakin University",
           "2017-07-06",
           "Manager",
           "64th",
           "2019-05-06",
           "Part-Time",
           "Sponsored",
           107,
           "Bank Transfer",
           1495,
           3.4,
           "L",
           1,
           "Certificate in Digital Marketing",
           "3 - 3.5",
           "Management",
           "40 and Above"
          ],
          [
           "2019/2102-064/020",
           "Ms",
           "F",
           "Singaporean",
           "1973-04-11",
           "Certificate",
           "Certificate in Office Skills, ITE",
           "2016-07-06",
           "No Designation",
           "64th",
           "2019-05-06",
           "Part-Time",
           "Subsidiesed",
           107,
           "Bank Transfer",
           1415,
           3.4,
           "L",
           1,
           "Certificate in Digital Marketing",
           "3 - 3.5",
           "Others",
           "40 and Above"
          ],
          [
           "2019/2102-064/022",
           "Ms",
           "F",
           "Singaporean",
           "1982-07-21",
           "Diploma",
           "Diploma in Electronics, Computer & Communication Engineering, Singapore Polytechnic",
           "2016-05-06",
           "Officer",
           "64th",
           "2019-05-06",
           "Part-Time",
           "Subsidiesed",
           107,
           "Bank Transfer",
           1388,
           2.2,
           "L",
           1,
           "Certificate in Digital Marketing",
           "2 - 3",
           "Administration",
           "40 and Above"
          ],
          [
           "2019/2102-065/023",
           "Ms",
           "F",
           "Singaporean",
           "1965-05-08",
           "Certificate",
           "O' level",
           "2017-02-22",
           "Senior Executive",
           "65th",
           "2019-07-22",
           "Part-Time",
           "Sponsored",
           107,
           "Bank Transfer",
           1388,
           3.1,
           "L",
           60,
           "Certificate in Digital Marketing",
           "3 - 3.5",
           "Others",
           "40 and Above"
          ],
          [
           "2019/2102-065/024",
           "Ms",
           "F",
           "Singaporean",
           "1972-01-13",
           "Degree",
           "Bachelor of Commerce, University of Mumbai",
           "2016-10-22",
           "No Designation",
           "65th",
           "2019-07-22",
           "Part-Time",
           "Individual",
           107,
           "Bank Transfer",
           1388,
           2.9,
           "L",
           60,
           "Certificate in Digital Marketing",
           "2 - 3",
           "Others",
           "40 and Above"
          ],
          [
           "2019/2102-065/025",
           "Ms",
           "F",
           "Permanent Resident",
           "1977-03-13",
           "Degree",
           "Unknown Institution / Qualification",
           "2015-08-22",
           "No Designation",
           "65th",
           "2019-07-22",
           "Part-Time",
           "Individual",
           107,
           "Bank Transfer",
           1388,
           2.8,
           "L",
           60,
           "Certificate in Digital Marketing",
           "2 - 3",
           "Others",
           "40 and Above"
          ],
          [
           "2019/2102-065/027",
           "Ms",
           "F",
           "Foreigner",
           "1982-05-20",
           "Master",
           "Master of Business Administration (HR), Amity University, India",
           "2018-08-22",
           "No Designation",
           "65th",
           "2019-07-22",
           "Part-Time",
           "Individual",
           107,
           "Bank Transfer",
           888,
           3.1,
           "F",
           60,
           "Certificate in Digital Marketing",
           "3 - 3.5",
           "Others",
           "40 and Above"
          ],
          [
           "2019/2102-065/029",
           "Ms",
           "F",
           "Foreigner",
           "1973-10-13",
           "Degree",
           "Bachelor of Business Administration, St Paul College of Dumaguete City, Philippines",
           "2018-01-22",
           "Senior Administrative Executive",
           "65th",
           "2019-07-22",
           "Part-Time",
           "Individual",
           107,
           "Bank Transfer",
           1388,
           3.2,
           "F",
           60,
           "Certificate in Digital Marketing",
           "3 - 3.5",
           "Administration",
           "40 and Above"
          ],
          [
           "2019/2102-065/032",
           "Ms",
           "F",
           "Singaporean",
           "1967-09-16",
           "Certificate",
           "A' level",
           "2017-02-22",
           "No Designation",
           "65th",
           "2019-07-22",
           "Part-Time",
           "Subsidiesed",
           107,
           "Bank Transfer",
           1495,
           2.2,
           "L",
           60,
           "Certificate in Digital Marketing",
           "2 - 3",
           "Others",
           "40 and Above"
          ],
          [
           "2019/2102-065/033",
           "Ms",
           "F",
           "Singaporean",
           "1974-02-07",
           "Diploma",
           "Advanced Diploma in Business Administration, University of Technology Sydney/IBMEC",
           "2015-08-22",
           "Assistant Manager (Admin Support)",
           "65th",
           "2019-07-22",
           "Part-Time",
           "Individual",
           107,
           "Bank Transfer",
           1495,
           1.7,
           "L",
           60,
           "Certificate in Digital Marketing",
           "1 - 2",
           "Administration",
           "40 and Above"
          ],
          [
           "2019/2102-065/035",
           "Ms",
           "F",
           "Singaporean",
           "1977-10-16",
           "Diploma",
           "Unknown Institution / Qualification",
           "2016-12-22",
           "HR/Admin",
           "65th",
           "2019-07-22",
           "Part-Time",
           "Sponsored",
           107,
           "Bank Transfer",
           1388,
           2.8,
           "L",
           60,
           "Certificate in Digital Marketing",
           "2 - 3",
           "Human Resources",
           "40 and Above"
          ],
          [
           "2019/2102-065/038",
           "Ms",
           "F",
           "Singaporean",
           "1979-07-06",
           "Degree",
           "Bachelor of Arts in Human Resource Management with Organisational Psychology, SHRI Academy",
           "2016-03-22",
           "Training Coordinator",
           "65th",
           "2019-07-22",
           "Part-Time",
           "Subsidiesed",
           107,
           "Bank Transfer",
           1388,
           1.9,
           "L",
           60,
           "Certificate in Digital Marketing",
           "1 - 2",
           "Operations and Logistics",
           "40 and Above"
          ],
          [
           "2019/2102-065/041",
           "Ms",
           "F",
           "Singaporean",
           "1981-08-18",
           "Diploma",
           "Diploma in Business & HRM, SHRI",
           "2017-01-22",
           "HR & Admin Officer",
           "65th",
           "2019-07-22",
           "Part-Time",
           "Subsidiesed",
           107,
           "Bank Transfer",
           888,
           2.9,
           "L",
           60,
           "Certificate in Digital Marketing",
           "2 - 3",
           "Human Resources",
           "40 and Above"
          ],
          [
           "2019/2102-066/044",
           "Ms",
           "F",
           "Singaporean",
           "1967-03-17",
           "Certificate",
           "A' level",
           "2016-05-25",
           "No Designation",
           "66th",
           "2019-09-25",
           "Part-Time",
           "Subsidiesed",
           107,
           "Bank Transfer",
           1388,
           2,
           "L",
           58,
           "Certificate in Digital Marketing",
           "2 - 3",
           "Others",
           "40 and Above"
          ],
          [
           "2019/2102-066/047",
           "Ms",
           "F",
           "Singaporean",
           "1965-02-12",
           "Diploma",
           "Diploma in Business Adminsitration, Singapore Polytechnic",
           "2015-10-25",
           "Snr HR Executive",
           "66th",
           "2019-09-25",
           "Part-Time",
           "Sponsored",
           107,
           "Bank Transfer",
           1495,
           2.8,
           "L",
           58,
           "Certificate in Digital Marketing",
           "2 - 3",
           "Human Resources",
           "40 and Above"
          ],
          [
           "2019/2102-066/048",
           "Ms",
           "F",
           "Singaporean",
           "1965-05-09",
           "Diploma",
           "Diploma in Personnel Management, National Productivity Board ",
           "2018-09-25",
           "Snr HR Executive",
           "66th",
           "2019-09-25",
           "Part-Time",
           "Sponsored",
           107,
           "Bank Transfer",
           1415,
           3.5,
           "L",
           58,
           "Certificate in Digital Marketing",
           "More Than 3.5",
           "Human Resources",
           "40 and Above"
          ],
          [
           "2019/2102-066/050",
           "Ms",
           "F",
           "Foreigner",
           "1983-05-12",
           "Degree",
           "Bachelor in Banking and Finance, Polytechnic University of the Philippines",
           "2017-01-25",
           "HR Payroll Analyst",
           "66th",
           "2019-09-25",
           "Part-Time",
           "Individual",
           107,
           "Bank Transfer",
           1388,
           3.4,
           "F",
           58,
           "Certificate in Digital Marketing",
           "3 - 3.5",
           "Human Resources",
           "40 and Above"
          ],
          [
           "2019/2102-066/051",
           "Ms",
           "F",
           "Foreigner",
           "1978-09-27",
           "Degree",
           "Bachelor of Science in Accountancy, University of Santo Tomas",
           "2017-10-25",
           "Payroll",
           "66th",
           "2019-09-25",
           "Part-Time",
           "Individual",
           107,
           "Bank Transfer",
           1388,
           2.9,
           "F",
           58,
           "Certificate in Digital Marketing",
           "2 - 3",
           "Finance and Accounting",
           "40 and Above"
          ],
          [
           "2019/2102-066/052",
           "Ms",
           "F",
           "Singaporean",
           "1981-10-08",
           "Diploma",
           "Diploma in Human Resource Management, PSB Academy",
           "2016-03-25",
           "People Ops Specialist - APAC",
           "66th",
           "2019-09-25",
           "Part-Time",
           "Subsidiesed",
           107,
           "Bank Transfer",
           1388,
           2.5,
           "L",
           58,
           "Certificate in Digital Marketing",
           "2 - 3",
           "Human Resources",
           "40 and Above"
          ],
          [
           "2019/2102-067/056",
           "Ms",
           "F",
           "Foreigner",
           "1981-08-06",
           "Degree",
           "Bachelor of Bank Management, University of Madras",
           "2018-05-25",
           "Account Manager",
           "67th",
           "2019-11-25",
           "Part-Time",
           "Individual",
           107,
           "Bank Transfer",
           1388,
           3,
           "F",
           53,
           "Certificate in Digital Marketing",
           "3 - 3.5",
           "Management",
           "40 and Above"
          ],
          [
           "2020/5112-012/012",
           "Ms",
           "F",
           "Singaporean",
           "1970-08-16",
           "Master",
           "Postgraduate Diploma in Education (Specialisation in teaching at Secondary School level)/\r\nNanyang Technological University",
           "2019-08-30",
           "Assistant Admin Manager",
           "12th",
           "2020-10-30",
           "Part-Time",
           "Individual",
           107,
           "Bank Transfer",
           5803,
           3.6,
           "L",
           181,
           "Bachelor of Business Administration",
           "More Than 3.5",
           "Administration",
           "40 and Above"
          ],
          [
           "2020/5112-012/014",
           "Mr",
           "M",
           "Singaporean",
           "1981-08-06",
           "Diploma",
           "Diploma in Electronic & Computer Engineering/\r\nNgee Ann Polytechnic",
           "2017-05-30",
           "Head of HR",
           "12th",
           "2020-10-30",
           "Part-Time",
           "Individual",
           107,
           "Bank Transfer",
           5803,
           1.9,
           "L",
           181,
           "Bachelor of Business Administration",
           "1 - 2",
           "Human Resources",
           "40 and Above"
          ],
          [
           "2020/5112-011/006",
           "Ms",
           "F",
           "Singaporean",
           "1982-02-24",
           "Degree",
           "Degree of Bachelor of Engineering (Materials Engineering)/\r\nNanyang Technological University",
           "2019-08-21",
           "ASSISTANT HR MANAGER",
           "11th",
           "2020-08-21",
           "Part-Time",
           "Individual",
           107,
           "Bank Transfer",
           5803,
           3.8,
           "L",
           183,
           "Bachelor of Business Administration",
           "More Than 3.5",
           "Human Resources",
           "40 and Above"
          ],
          [
           "2020/5112-010/005",
           "Ms",
           "F",
           "Singaporean",
           "1983-03-29",
           "Degree",
           "Bachelor of Business (Management)/\r\nRoyal Melbourne Institute of Technology",
           "2018-02-20",
           "Senior HR Executive",
           "10th",
           "2020-03-20",
           "Part-Time",
           "Individual",
           107,
           "GIRO",
           5803,
           2.8,
           "L",
           183,
           "Bachelor of Business Administration",
           "2 - 3",
           "Human Resources",
           "40 and Above"
          ],
          [
           "2019/5112-008/013",
           "Mr",
           "M",
           "Singaporean",
           "1983-01-22",
           "Degree",
           "Degree of Bachelor of Science with Honours in Biological Sciences/\r\nNanyang Technological University",
           "2017-12-20",
           "N.A.",
           "8th",
           "2019-09-20",
           "Part-Time",
           "Individual",
           107,
           "Bank Transfer",
           5803,
           3.2,
           "L",
           181,
           "Bachelor of Business Administration",
           "3 - 3.5",
           "Others",
           "40 and Above"
          ],
          [
           "2019/5112-008/014",
           "Ms",
           "F",
           "Singaporean",
           "1982-10-17",
           "Degree",
           "Honours Degree of Bachelor of Science (Management)/\r\nNational University of Ireland",
           "2018-09-20",
           "HR Manager",
           "8th",
           "2019-09-20",
           "Part-Time",
           "Individual",
           107,
           "Bank Transfer",
           5803,
           2.8,
           "L",
           181,
           "Bachelor of Business Administration",
           "2 - 3",
           "Human Resources",
           "40 and Above"
          ],
          [
           "2019/5112-008/017",
           "Ms",
           "F",
           "Singaporean",
           "1974-07-08",
           "Degree",
           "Bachelor of Business with Honours Class Two: I (International Business)/\r\nUniversiti Malaysia Sabah",
           "2016-08-20",
           "Admin Manager",
           "8th",
           "2019-09-20",
           "Part-Time",
           "Individual",
           107,
           "Bank Transfer",
           5803,
           2.9,
           "L",
           181,
           "Bachelor of Business Administration",
           "2 - 3",
           "Administration",
           "40 and Above"
          ],
          [
           "2019/5112-007/007",
           "Ms",
           "F",
           "Foreigner",
           "1975-09-23",
           "Degree",
           "Bachelor in Tourism/\r\nPolytechnic University of The Philippines",
           "2018-05-05",
           "Human Resource Executive",
           "7th",
           "2019-07-05",
           "Part-Time",
           "Individual",
           107,
           "Bank Transfer",
           5803,
           3,
           "F",
           183,
           "Bachelor of Business Administration",
           "3 - 3.5",
           "Human Resources",
           "40 and Above"
          ],
          [
           "2019/5112-007/008",
           "Ms",
           "F",
           "Singaporean",
           "1983-01-09",
           "Diploma",
           "Diploma in Business Administration/\r\nSystematic College Johor Bahru",
           "2016-10-05",
           "HR Specialist",
           "7th",
           "2019-07-05",
           "Part-Time",
           "Individual",
           107,
           "Bank Transfer",
           5803,
           3.2,
           "L",
           183,
           "Bachelor of Business Administration",
           "3 - 3.5",
           "Human Resources",
           "40 and Above"
          ],
          [
           "2019/5112-007/010",
           "Ms",
           "F",
           "Singaporean",
           "1977-11-04",
           "Degree",
           "Bachelor of Arts with Merit/\r\nNational University of Singapore",
           "2015-11-05",
           "Senior HR Executive",
           "7th",
           "2019-07-05",
           "Part-Time",
           "Individual",
           107,
           "Bank Transfer",
           5803,
           2.9,
           "L",
           183,
           "Bachelor of Business Administration",
           "2 - 3",
           "Human Resources",
           "40 and Above"
          ],
          [
           "2019/5112-007/011",
           "Ms",
           "F",
           "Singaporean",
           "1969-10-31",
           "Diploma",
           "Diploma in Commerce (Business Administration)/\r\nKaplan Higher Education Institute",
           "2016-05-05",
           "Human Resource Director",
           "7th",
           "2019-07-05",
           "Part-Time",
           "Individual",
           107,
           "Bank Transfer",
           5803,
           2.2,
           "L",
           183,
           "Bachelor of Business Administration",
           "2 - 3",
           "Human Resources",
           "40 and Above"
          ],
          [
           "2019/5112-006/004",
           "Ms",
           "F",
           "Singaporean",
           "1972-11-14",
           "Diploma",
           "Diploma in Business Administration/\r\nInternational Business and Management Education Centre (IBMEC)",
           "2015-10-08",
           "HR & Operations Manager, South East Asia",
           "6th",
           "2019-03-08",
           "Part-Time",
           "Individual",
           107,
           "Bank Transfer",
           5803,
           2.3,
           "L",
           183,
           "Bachelor of Business Administration",
           "2 - 3",
           "Human Resources",
           "40 and Above"
          ],
          [
           "2019/5112-005/001",
           "Mr",
           "M",
           "Singaporean",
           "1977-09-08",
           "Degree",
           "Bachelor of Arts with Honours Second Class:  Division II in International Business/\r\nBirmingham City University",
           "2015-10-04",
           "Helpdesk Manager",
           "5th",
           "2019-01-04",
           "Part-Time",
           "Individual",
           107,
           "Bank Transfer",
           5803,
           1.8,
           "L",
           180,
           "Bachelor of Business Administration",
           "1 - 2",
           "Management",
           "40 and Above"
          ],
          [
           "2019/5112-005/002",
           "Ms",
           "F",
           "Singaporean",
           "1982-01-06",
           "Degree",
           "Bachelor of Arts in Tourism Events/\r\nMurdoch University",
           "2016-10-04",
           "Business Manager",
           "5th",
           "2019-01-04",
           "Part-Time",
           "Individual",
           107,
           "Bank Transfer",
           5803,
           2.3,
           "L",
           180,
           "Bachelor of Business Administration",
           "2 - 3",
           "Management",
           "40 and Above"
          ],
          [
           "2020/5113-012/015",
           "Ms",
           "F",
           "Singaporean",
           "1974-04-29",
           "Degree",
           "Bachelor of Commerce in Management and Marketing Management/\r\nMurdoch University",
           "2017-02-28",
           "Confidential Assistant",
           "12th",
           "2020-10-30",
           "Part-Time",
           "Individual",
           107,
           "Bank Transfer",
           5803,
           2.9,
           "L",
           181,
           "Master of Business Administration",
           "2 - 3",
           "Others",
           "40 and Above"
          ],
          [
           "2020/5113-012/016",
           "Ms",
           "F",
           "Singaporean",
           "1981-10-19",
           "Degree",
           "Bachelor of Arts in Human Resource Management with Organisational Psychology/\r\nEdinburgh Napier University",
           "2018-01-30",
           "Journey Management Team Lead",
           "12th",
           "2020-10-30",
           "Part-Time",
           "Individual",
           107,
           "Bank Transfer",
           5803,
           2.6,
           "L",
           181,
           "Master of Business Administration",
           "2 - 3",
           "Management",
           "40 and Above"
          ],
          [
           "2020/5113-011/011",
           "Mr",
           "M",
           "Singaporean",
           "1978-08-18",
           "Master",
           "Master in Business Administration with Merit/\r\nUniversity of Bradford",
           "2019-02-21",
           "Lecturer",
           "11th",
           "2020-08-21",
           "Part-Time",
           "Individual",
           107,
           "Bank Transfer",
           5803,
           3.7,
           "L",
           183,
           "Master of Business Administration",
           "More Than 3.5",
           "Education and Training",
           "40 and Above"
          ],
          [
           "2020/5113-010/007",
           "Mr",
           "M",
           "Singaporean",
           "1977-03-01",
           "Master",
           "Postgraduate Diploma in Education (Specialisation in teaching at Secondary School)/\r\nNanyang Technological University +\r\nBachelor of Arts (Multimedia Design)/\r\nCurtin University of Technology",
           "2018-04-20",
           "Teacher",
           "10th",
           "2020-03-20",
           "Part-Time",
           "Individual",
           107,
           "Bank Transfer",
           5803,
           2.8,
           "L",
           183,
           "Master of Business Administration",
           "2 - 3",
           "Education and Training",
           "40 and Above"
          ],
          [
           "2020/5113-009/005",
           "Mr",
           "M",
           "Singaporean",
           "1981-11-02",
           "Degree",
           "Bachelor of Arts in Human Resource Management with Financial Management/\r\nEdinburgh Napier University",
           "2016-05-10",
           "Manager",
           "9th",
           "2020-01-10",
           "Part-Time",
           "Individual",
           107,
           "Bank Transfer",
           5803,
           2.4,
           "L",
           181,
           "Master of Business Administration",
           "2 - 3",
           "Management",
           "40 and Above"
          ],
          [
           "2020/5113-009/006",
           "Mr",
           "M",
           "Singaporean",
           "1979-07-17",
           "Degree",
           "Bachelor of Science/\r\nNational University of Singapore",
           "2016-07-10",
           "Assistant Vice-President",
           "9th",
           "2020-01-10",
           "Part-Time",
           "Individual",
           107,
           "Bank Transfer",
           5803,
           1.8,
           "L",
           181,
           "Master of Business Administration",
           "1 - 2",
           "Marketing and Public Relations",
           "40 and Above"
          ],
          [
           "2019/5113-008/007",
           "Ms",
           "F",
           "Singaporean",
           "1980-06-11",
           "Master",
           "Degree of Master of English as a Second Language/\r\nUniversity of Malaya",
           "2016-11-20",
           "HR Section Manager",
           "8th",
           "2019-09-20",
           "Part-Time",
           "Individual",
           107,
           "Bank Transfer",
           5803,
           3,
           "L",
           181,
           "Master of Business Administration",
           "3 - 3.5",
           "Human Resources",
           "40 and Above"
          ],
          [
           "2019/5113-007/005",
           "Ms",
           "F",
           "Singaporean",
           "1973-01-10",
           "Degree",
           "Bachelor of Commerce (Accounting and Finance)/\r\nCurtin University of Technology",
           "2017-11-05",
           "Head, Registry & Corp Admin",
           "7th",
           "2019-07-05",
           "Part-Time",
           "Individual",
           107,
           "Bank Transfer",
           5803,
           2.9,
           "L",
           183,
           "Master of Business Administration",
           "2 - 3",
           "Administration",
           "40 and Above"
          ],
          [
           "2019/5113-007/006",
           "Ms",
           "F",
           "Permanent Resident",
           "1982-09-30",
           "Degree",
           "Bachelor of Economics (Accounting)/\r\nUniversitas Katolik Indonesia",
           "2016-05-05",
           "Finance Officer",
           "7th",
           "2019-07-05",
           "Part-Time",
           "Individual",
           107,
           "Bank Transfer",
           5803,
           2,
           "L",
           183,
           "Master of Business Administration",
           "2 - 3",
           "Administration",
           "40 and Above"
          ],
          [
           "2019/5113-005/001",
           "Ms",
           "F",
           "Singaporean",
           "1981-11-14",
           "Degree",
           "Bachelor of Arts with Second Class Honours (Lower Division) in Business with Logistics and Supply Chain Management/\r\nUniversity of Northumbria at Newscastle",
           "2014-08-04",
           "Household Goods Coordinator",
           "5th",
           "2019-01-04",
           "Part-Time",
           "Individual",
           107,
           "Bank Transfer",
           5803,
           1.9,
           "L",
           180,
           "Master of Business Administration",
           "1 - 2",
           "Operations and Logistics",
           "40 and Above"
          ],
          [
           "2019/5113-005/002",
           "Ms",
           "F",
           "Singaporean",
           "1983-01-28",
           "Degree",
           "Bachelor of Business (Business Administration) with Distinction/\r\nRoyal Melbourne Institute of Technology",
           "2016-10-04",
           "Assistant Director, Human Resources",
           "5th",
           "2019-01-04",
           "Part-Time",
           "Individual",
           107,
           "Bank Transfer",
           5803,
           2.9,
           "L",
           180,
           "Master of Business Administration",
           "2 - 3",
           "Human Resources",
           "40 and Above"
          ]
         ],
         "hovertemplate": "Age Group=%{customdata[22]}<br>COMPLETION DATE=%{x}<br>STUDENT ID=%{customdata[0]}<br>SALUTATION=%{customdata[1]}<br>GENDER=%{customdata[2]}<br>NATIONALITY=%{customdata[3]}<br>DOB=%{customdata[4]}<br>HIGHEST QUALIFICATION=%{customdata[5]}<br>NAME OF QUALIFICATION AND INSTITUTION=%{customdata[6]}<br>DATE ATTAINED HIGHEST QUALIFICATION=%{customdata[7]}<br>DESIGNATION=%{customdata[8]}<br>INTAKE NO=%{customdata[9]}<br>COMMENCEMENT DATE=%{customdata[10]}<br>FULL-TIME OR PART-TIME=%{customdata[11]}<br>COURSE FUNDING=%{customdata[12]}<br>REGISTRATION FEE=%{customdata[13]}<br>PAYMENT MODE=%{customdata[14]}<br>COURSE FEE=%{customdata[15]}<br>GPA=%{customdata[16]}<br>CITIZENSHIP_STATUS=%{customdata[17]}<br>date_diff=%{customdata[18]}<br>COURSE=%{customdata[19]}<br>GPA Category=%{customdata[20]}<br>Job Category=%{customdata[21]}<extra></extra>",
         "legendgroup": "40 and Above",
         "marker": {
          "color": "#636efa"
         },
         "name": "40 and Above",
         "notched": true,
         "offsetgroup": "40 and Above",
         "showlegend": false,
         "type": "box",
         "x": [
          "2021-04-06",
          "2021-04-06",
          "2021-06-09",
          "2021-10-05",
          "2021-10-05",
          "2022-02-02",
          "2022-02-02",
          "2020-04-07",
          "2020-04-07",
          "2020-04-07",
          "2020-06-06",
          "2020-06-06",
          "2020-06-06",
          "2020-06-06",
          "2020-10-08",
          "2020-10-08",
          "2020-10-08",
          "2020-12-09",
          "2020-12-09",
          "2020-12-09",
          "2021-02-04",
          "2021-02-04",
          "2021-02-04",
          "2021-03-05",
          "2021-06-23",
          "2020-01-23",
          "2020-01-23",
          "2020-05-04",
          "2020-05-04",
          "2019-11-25",
          "2020-09-21",
          "2020-09-21",
          "2020-09-21",
          "2020-11-20",
          "2020-11-20",
          "2020-11-20",
          "2020-11-20",
          "2020-11-20",
          "2020-11-20",
          "2020-11-23",
          "2020-11-23",
          "2020-11-23",
          "2020-11-23",
          "2020-11-23",
          "2020-11-23",
          "2020-11-23",
          "2019-04-15",
          "2019-04-15",
          "2019-04-15",
          "2019-04-15",
          "2019-04-15",
          "2019-04-15",
          "2019-04-15",
          "2019-05-07",
          "2019-05-07",
          "2019-05-07",
          "2019-05-07",
          "2019-09-20",
          "2019-09-20",
          "2019-09-20",
          "2019-09-20",
          "2019-09-20",
          "2019-09-20",
          "2019-09-20",
          "2019-09-20",
          "2019-09-20",
          "2019-09-20",
          "2019-11-22",
          "2019-11-22",
          "2019-11-22",
          "2019-11-22",
          "2019-11-22",
          "2019-11-22",
          "2020-01-17",
          "2021-04-29",
          "2021-04-29",
          "2021-02-20",
          "2020-09-19",
          "2020-03-19",
          "2020-03-19",
          "2020-03-19",
          "2020-01-04",
          "2020-01-04",
          "2020-01-04",
          "2020-01-04",
          "2019-09-07",
          "2019-07-03",
          "2019-07-03",
          "2021-04-29",
          "2021-04-29",
          "2021-02-20",
          "2020-09-19",
          "2020-07-09",
          "2020-07-09",
          "2020-03-19",
          "2020-01-04",
          "2020-01-04",
          "2019-07-03",
          "2019-07-03"
         ],
         "xaxis": "x2",
         "yaxis": "y2"
        },
        {
         "alignmentgroup": "True",
         "bingroup": "x",
         "histfunc": "sum",
         "hovertemplate": "Age Group=25 to 40<br>COMPLETION DATE=%{x}<br>sum of Age=%{y}<extra></extra>",
         "legendgroup": "25 to 40",
         "marker": {
          "color": "#EF553B",
          "pattern": {
           "shape": ""
          }
         },
         "name": "25 to 40",
         "offsetgroup": "25 to 40",
         "orientation": "v",
         "showlegend": true,
         "type": "histogram",
         "x": [
          "2021-04-06",
          "2021-06-09",
          "2021-06-09",
          "2021-06-09",
          "2021-10-05",
          "2021-11-30",
          "2021-11-30",
          "2021-11-30",
          "2022-02-02",
          "2022-02-02",
          "2022-02-02",
          "2020-04-07",
          "2020-04-07",
          "2020-08-06",
          "2020-08-06",
          "2020-10-08",
          "2020-10-08",
          "2020-10-08",
          "2020-10-08",
          "2020-10-08",
          "2020-10-08",
          "2020-10-08",
          "2020-10-08",
          "2020-10-08",
          "2020-12-09",
          "2020-12-09",
          "2021-02-04",
          "2021-03-05",
          "2021-06-23",
          "2021-06-23",
          "2021-06-23",
          "2021-06-23",
          "2021-06-23",
          "2021-08-13",
          "2021-08-13",
          "2021-08-13",
          "2019-12-03",
          "2019-12-03",
          "2020-01-23",
          "2020-01-23",
          "2020-05-04",
          "2020-05-04",
          "2020-05-04",
          "2019-11-25",
          "2019-11-25",
          "2019-11-25",
          "2019-11-25",
          "2019-11-25",
          "2020-09-21",
          "2020-09-21",
          "2020-09-21",
          "2020-09-21",
          "2020-09-21",
          "2020-09-21",
          "2020-09-21",
          "2020-09-21",
          "2020-11-20",
          "2020-11-20",
          "2020-11-20",
          "2020-11-20",
          "2020-11-20",
          "2020-11-23",
          "2020-11-23",
          "2020-11-23",
          "2020-11-23",
          "2020-11-23",
          "2020-11-23",
          "2020-11-23",
          "2020-11-23",
          "2020-11-23",
          "2020-11-23",
          "2020-11-23",
          "2020-11-23",
          "2019-04-15",
          "2019-04-15",
          "2019-05-07",
          "2019-05-07",
          "2019-05-07",
          "2019-05-07",
          "2019-05-07",
          "2019-05-07",
          "2019-05-07",
          "2019-05-07",
          "2019-05-07",
          "2019-09-20",
          "2019-09-20",
          "2019-09-20",
          "2019-09-20",
          "2019-09-20",
          "2019-09-20",
          "2019-09-20",
          "2019-09-20",
          "2019-09-20",
          "2019-09-20",
          "2019-09-20",
          "2019-11-22",
          "2019-11-22",
          "2019-11-22",
          "2020-01-17",
          "2020-01-17",
          "2020-01-17",
          "2020-01-17",
          "2020-01-17",
          "2021-04-29",
          "2021-04-29",
          "2021-04-29",
          "2021-04-29",
          "2021-02-20",
          "2021-02-20",
          "2021-02-20",
          "2020-09-19",
          "2020-09-19",
          "2020-07-09",
          "2020-07-09",
          "2020-03-19",
          "2020-03-19",
          "2020-03-19",
          "2020-01-04",
          "2020-01-04",
          "2019-09-07",
          "2019-09-07",
          "2019-07-03",
          "2021-04-29",
          "2021-02-20",
          "2021-02-20",
          "2021-02-20",
          "2021-02-20",
          "2020-09-19",
          "2020-09-19",
          "2020-07-09",
          "2020-07-09",
          "2020-07-09",
          "2020-07-09",
          "2020-03-19",
          "2020-01-04",
          "2019-09-07"
         ],
         "xaxis": "x",
         "y": [
          36,
          32,
          39,
          30,
          33,
          40,
          35,
          28,
          29,
          29,
          35,
          34,
          40,
          40,
          31,
          36,
          34,
          32,
          34,
          34,
          37,
          27,
          29,
          40,
          32,
          36,
          38,
          31,
          35,
          32,
          31,
          35,
          36,
          40,
          37,
          30,
          39,
          36,
          28,
          36,
          29,
          38,
          29,
          26,
          37,
          31,
          40,
          37,
          31,
          35,
          31,
          38,
          34,
          31,
          34,
          32,
          30,
          28,
          30,
          35,
          40,
          32,
          32,
          36,
          36,
          36,
          33,
          37,
          33,
          40,
          31,
          38,
          40,
          31,
          32,
          36,
          30,
          36,
          34,
          39,
          30,
          30,
          40,
          40,
          37,
          40,
          39,
          31,
          31,
          35,
          40,
          40,
          32,
          40,
          33,
          40,
          30,
          40,
          37,
          34,
          32,
          37,
          39,
          35,
          40,
          35,
          30,
          33,
          38,
          32,
          32,
          39,
          40,
          40,
          38,
          35,
          39,
          40,
          31,
          38,
          39,
          31,
          35,
          33,
          40,
          40,
          32,
          33,
          31,
          31,
          32,
          38,
          27,
          33,
          38,
          34
         ],
         "yaxis": "y"
        },
        {
         "alignmentgroup": "True",
         "customdata": [
          [
           "2020/1101-013/003",
           "Ms",
           "F",
           "Singaporean",
           "1988-04-12",
           "Certificate",
           "Nitec in Service Skills (Office), ITE",
           "2016-11-06",
           "Admin Assistant",
           "13th",
           "2020-01-06",
           "Part-Time",
           "Sponsored",
           107,
           "Bank Transfer",
           1712,
           2,
           "L",
           456,
           "Diploma in Business Administration",
           "2 - 3",
           "Administration",
           "25 to 40"
          ],
          [
           "2020/1101-014/004",
           "Ms",
           "F",
           "Singaporean",
           "1991-11-27",
           "Degree",
           "Bachelor Science (Facilities & Events Management), SUSS",
           "2017-06-10",
           "HR Administrator",
           "14th",
           "2020-03-10",
           "Part-Time",
           "Subsidiesed",
           107,
           "NETS",
           1212,
           2.5,
           "L",
           456,
           "Diploma in Business Administration",
           "2 - 3",
           "Human Resources",
           "25 to 40"
          ],
          [
           "2020/1101-014/005",
           "Ms",
           "F",
           "Singaporean",
           "1985-04-23",
           "Diploma",
           "Diploma in Procurement and Supply Management, SIPMM Academy",
           "2016-08-10",
           "Purchasing Executive",
           "14th",
           "2020-03-10",
           "Part-Time",
           "Subsidiesed",
           107,
           "NETS",
           1712,
           2.4,
           "L",
           456,
           "Diploma in Business Administration",
           "2 - 3",
           "Others",
           "25 to 40"
          ],
          [
           "2020/1101-014/008",
           "Ms",
           "F",
           "Foreigner",
           "1994-01-21",
           "Master",
           "Master of Public Administration, San Jose State University",
           "2018-03-10",
           "PR Executive",
           "14th",
           "2020-03-10",
           "Part-Time",
           "Individual",
           107,
           "Cr Card",
           1712,
           3,
           "F",
           456,
           "Diploma in Business Administration",
           "3 - 3.5",
           "Marketing and Public Relations",
           "25 to 40"
          ],
          [
           "2020/1101-015/011",
           "Ms",
           "F",
           "Singaporean",
           "1991-05-12",
           "Diploma",
           "Diploma in Environmental Science, Republic Polytechnic",
           "2016-09-06",
           "No Designation",
           "15th",
           "2020-07-06",
           "Part-Time",
           "Individual",
           107,
           "GIRO",
           1712,
           3.1,
           "L",
           456,
           "Diploma in Business Administration",
           "3 - 3.5",
           "Others",
           "25 to 40"
          ],
          [
           "2020/1101-016/012",
           "Ms",
           "F",
           "Singaporean",
           "1983-07-19",
           "Degree",
           "Bachelor of Arts in Accounting, University of Bedfordshire",
           "2017-11-01",
           "Accounts cum HR Executive",
           "16th",
           "2020-09-01",
           "Part-Time",
           "Individual",
           107,
           "GIRO",
           1712,
           2.6,
           "L",
           455,
           "Diploma in Business Administration",
           "2 - 3",
           "Human Resources",
           "25 to 40"
          ],
          [
           "2020/1101-016/013",
           "Ms",
           "F",
           "Singaporean",
           "1989-02-10",
           "Degree",
           "Bachelor of Science (Business Management), University of Birmingham",
           "2019-08-01",
           "No Designation",
           "16th",
           "2020-09-01",
           "Part-Time",
           "Subsidiesed",
           107,
           "GIRO",
           1712,
           4,
           "L",
           455,
           "Diploma in Business Administration",
           "More Than 3.5",
           "Others",
           "25 to 40"
          ],
          [
           "2020/1101-016/014",
           "Ms",
           "F",
           "Singaporean",
           "1996-05-03",
           "Certificate",
           "N level",
           "2017-09-01",
           "Admin & HR Executive",
           "16th",
           "2020-09-01",
           "Part-Time",
           "Sponsored",
           107,
           "GIRO",
           1604,
           3.2,
           "L",
           455,
           "Diploma in Business Administration",
           "3 - 3.5",
           "Human Resources",
           "25 to 40"
          ],
          [
           "2020/1101-017/015",
           "Ms",
           "F",
           "Singaporean",
           "1994-08-27",
           "Diploma",
           "Diploma in Events Management, Kaplan",
           "2018-11-02",
           "HR Assistant",
           "17th",
           "2020-11-02",
           "Part-Time",
           "Sponsored",
           107,
           "Bank Transfer",
           1604,
           3,
           "L",
           457,
           "Diploma in Business Administration",
           "3 - 3.5",
           "Human Resources",
           "25 to 40"
          ],
          [
           "2020/1101-017/017",
           "Ms",
           "F",
           "Singaporean",
           "1995-04-16",
           "Diploma",
           "Diploma in Healthcare Administration, Republic Polytechnic",
           "2018-04-02",
           "HR Associate, Southeast Asia",
           "17th",
           "2020-11-02",
           "Part-Time",
           "Sponsored",
           107,
           "GIRO",
           1604,
           3.4,
           "L",
           457,
           "Diploma in Business Administration",
           "3 - 3.5",
           "Human Resources",
           "25 to 40"
          ],
          [
           "2020/1101-017/019",
           "Ms",
           "F",
           "Singaporean",
           "1989-06-01",
           "Degree",
           "Bachelor of Science in Business, UOL",
           "2016-12-02",
           "Administrative Executive",
           "17th",
           "2020-11-02",
           "Part-Time",
           "Sponsored",
           107,
           "GIRO",
           1604,
           1.8,
           "L",
           457,
           "Diploma in Business Administration",
           "1 - 2",
           "Administration",
           "25 to 40"
          ],
          [
           "2019/1101-007/003",
           "Ms",
           "F",
           "Foreigner",
           "1990-01-02",
           "Degree",
           "Bachelor of Business Administration, University of Rajasthan, India",
           "2015-08-08",
           "No Designation",
           "7th",
           "2019-01-08",
           "Part-Time",
           "Individual",
           107,
           "NETS",
           1712,
           3.1,
           "F",
           455,
           "Diploma in Business Administration",
           "3 - 3.5",
           "Others",
           "25 to 40"
          ],
          [
           "2019/1101-007/005",
           "Ms",
           "F",
           "Singaporean",
           "1983-11-25",
           "Diploma",
           "Diploma in Business Admininstration, LCCI Level 3, Private Secretary's Diploma, LCCI",
           "2015-06-08",
           "Executive, Administration",
           "7th",
           "2019-01-08",
           "Part-Time",
           "Sponsored",
           107,
           "Bank Transfer",
           1604,
           2.2,
           "L",
           455,
           "Diploma in Business Administration",
           "2 - 3",
           "Administration",
           "25 to 40"
          ],
          [
           "2019/1101-009/010",
           "Ms",
           "F",
           "Singaporean",
           "1983-11-30",
           "Certificate",
           "N Level",
           "2018-05-07",
           "Operation Executive",
           "9th",
           "2019-05-07",
           "Part-Time",
           "Sponsored",
           107,
           "Bank Transfer",
           1604,
           2.9,
           "L",
           457,
           "Diploma in Business Administration",
           "2 - 3",
           "Operations and Logistics",
           "25 to 40"
          ],
          [
           "2019/1101-009/011",
           "Ms",
           "F",
           "Foreigner",
           "1992-08-07",
           "Certificate",
           "SPM",
           "2017-05-07",
           "Clerk",
           "9th",
           "2019-05-07",
           "Part-Time",
           "Individual",
           107,
           "Bank Transfer",
           1712,
           3,
           "F",
           457,
           "Diploma in Business Administration",
           "3 - 3.5",
           "Administration",
           "25 to 40"
          ],
          [
           "2019/1101-010/012",
           "Ms",
           "F",
           "Permanent Resident",
           "1988-02-11",
           "Degree",
           "Bahcelor of Management (Marketing), Universiti Teknologi Malaysia",
           "2018-08-09",
           "HR & Admin",
           "10th",
           "2019-07-09",
           "Part-Time",
           "Sponsored",
           107,
           "Bank Transfer",
           1712,
           3,
           "F",
           457,
           "Diploma in Business Administration",
           "3 - 3.5",
           "Human Resources",
           "25 to 40"
          ],
          [
           "2019/1101-010/013",
           "Mr",
           "M",
           "Singaporean",
           "1990-01-31",
           "Diploma",
           "Diploma in Multimedia & Infocomm Technology, Nanyang Polytechnic",
           "2015-11-09",
           "Early Childhood Support Office",
           "10th",
           "2019-07-09",
           "Part-Time",
           "Subsidiesed",
           107,
           "Bank Transfer",
           1712,
           1.8,
           "L",
           457,
           "Diploma in Business Administration",
           "1 - 2",
           "Administration",
           "25 to 40"
          ],
          [
           "2019/1101-010/015",
           "Ms",
           "F",
           "Singaporean",
           "1991-09-03",
           "Certificate",
           "O' level",
           "2016-03-09",
           "Business Development Executive",
           "10th",
           "2019-07-09",
           "Part-Time",
           "Subsidiesed",
           107,
           "Bank Transfer",
           1712,
           2.3,
           "L",
           457,
           "Diploma in Business Administration",
           "2 - 3",
           "Others",
           "25 to 40"
          ],
          [
           "2019/1101-010/016",
           "Ms",
           "F",
           "Singaporean",
           "1990-06-17",
           "Certificate",
           "N Level",
           "2018-01-09",
           "Human Resource Assistant",
           "10th",
           "2019-07-09",
           "Part-Time",
           "Sponsored",
           107,
           "GIRO",
           1604,
           3.7,
           "L",
           457,
           "Diploma in Business Administration",
           "More Than 3.5",
           "Human Resources",
           "25 to 40"
          ],
          [
           "2019/1101-010/017",
           "Ms",
           "F",
           "Singaporean",
           "1990-04-01",
           "Degree",
           "Bachelor of Arts in Business with Logistics and Supply Chain Management, University of Northumbria",
           "2016-03-09",
           "Executive, Planning & Delivery",
           "10th",
           "2019-07-09",
           "Part-Time",
           "Individual",
           107,
           "Bank Transfer",
           1712,
           2.8,
           "L",
           457,
           "Diploma in Business Administration",
           "2 - 3",
           "Others",
           "25 to 40"
          ],
          [
           "2019/1101-010/019",
           "Ms",
           "F",
           "Foreigner",
           "1986-10-09",
           "Certificate",
           "SPM",
           "2016-08-09",
           "Admin Assistant",
           "10th",
           "2019-07-09",
           "Part-Time",
           "Sponsored",
           107,
           "Bank Transfer",
           1712,
           3.1,
           "F",
           457,
           "Diploma in Business Administration",
           "3 - 3.5",
           "Administration",
           "25 to 40"
          ],
          [
           "2019/1101-010/020",
           "Ms",
           "F",
           "Singaporean",
           "1997-03-08",
           "Diploma",
           "Diploma in Business, Temasek Polytechnic",
           "2017-12-09",
           "Secretary",
           "10th",
           "2019-07-09",
           "Part-Time",
           "Individual",
           107,
           "Bank Transfer",
           1712,
           2.2,
           "L",
           457,
           "Diploma in Business Administration",
           "2 - 3",
           "Administration",
           "25 to 40"
          ],
          [
           "2019/1101-010/023",
           "Ms",
           "F",
           "Singaporean",
           "1994-11-13",
           "Diploma",
           "Advanced Diploma in Tourism, Hospitality and Event Management, MDIS",
           "2016-01-09",
           "Admin Assistant",
           "10th",
           "2019-07-09",
           "Part-Time",
           "Individual",
           107,
           "Bank Transfer",
           1712,
           3.1,
           "L",
           457,
           "Diploma in Business Administration",
           "3 - 3.5",
           "Administration",
           "25 to 40"
          ],
          [
           "2019/1101-010/024",
           "Ms",
           "F",
           "Singaporean",
           "1983-10-02",
           "Diploma",
           "Diploma in Multimedia Software Engineering, Singapore Polytechnic",
           "2015-09-09",
           "Senior Assistant (Tenant Administration)",
           "10th",
           "2019-07-09",
           "Part-Time",
           "Subsidiesed",
           107,
           "Bank Transfer",
           1712,
           1.7,
           "L",
           457,
           "Diploma in Business Administration",
           "1 - 2",
           "Administration",
           "25 to 40"
          ],
          [
           "2019/1101-011/026",
           "Ms",
           "F",
           "Singaporean",
           "1992-04-18",
           "Certificate",
           "Sec 2, WPLN (Reading, Speaking, Listening, Writing) & Numeracy",
           "2016-11-10",
           "Admin Assistant",
           "11th",
           "2019-09-10",
           "Part-Time",
           "Subsidiesed",
           107,
           "Bank Transfer",
           1212,
           3,
           "L",
           456,
           "Diploma in Business Administration",
           "3 - 3.5",
           "Administration",
           "25 to 40"
          ],
          [
           "2019/1101-011/028",
           "Ms",
           "F",
           "Permanent Resident",
           "1987-10-19",
           "Diploma",
           "Diploma of Hospitality Management, Australian Academy of Hospitality Management",
           "2016-12-10",
           "HR Executive",
           "11th",
           "2019-09-10",
           "Part-Time",
           "Sponsored",
           107,
           "Bank Transfer",
           1604,
           3,
           "L",
           456,
           "Diploma in Business Administration",
           "3 - 3.5",
           "Human Resources",
           "25 to 40"
          ],
          [
           "2019/1101-012/032",
           "Ms",
           "F",
           "Singaporean",
           "1986-05-02",
           "Diploma",
           "Diploma in Masss Communication, MDIS",
           "2018-07-05",
           "Relationship and Marketing Executive",
           "12th",
           "2019-11-05",
           "Part-Time",
           "Subsidiesed",
           107,
           "NETS",
           1712,
           3.5,
           "L",
           457,
           "Diploma in Business Administration",
           "More Than 3.5",
           "Marketing and Public Relations",
           "25 to 40"
          ],
          [
           "2020/2101-110/001",
           "Ms",
           "F",
           "Singaporean",
           "1993-02-12",
           "Certificate",
           "Nitec in Hair Fashion & Design, ITE",
           "2017-11-08",
           "Administrative Assistant",
           "110th",
           "2020-06-08",
           "Part-Time",
           "Subsidiesed",
           107,
           "GIRO",
           2996,
           3.4,
           "L",
           270,
           "Certificate in HR Management",
           "3 - 3.5",
           "Administration",
           "25 to 40"
          ],
          [
           "2020/2101-111/003",
           "Ms",
           "F",
           "Singaporean",
           "1989-05-27",
           "Diploma",
           "Diploma in Commerce (Biz Admin), Kaplan / Diploma in Biz Admin (Business, Travel & Tourism), Newcastle School of Management",
           "2019-06-28",
           "Team Assistant",
           "111th",
           "2020-09-28",
           "Part-Time",
           "Sponsored",
           107,
           "GIRO",
           2696,
           3,
           "L",
           268,
           "Certificate in HR Management",
           "3 - 3.5",
           "Others",
           "25 to 40"
          ],
          [
           "2020/2101-111/004",
           "Ms",
           "F",
           "Singaporean",
           "1992-04-18",
           "Certificate",
           "Foundation Certificate in HRM, SHRI Academy",
           "2019-01-28",
           "No Designation",
           "111th",
           "2020-09-28",
           "Part-Time",
           "Individual",
           0,
           "NETS",
           2996,
           2.4,
           "L",
           268,
           "Certificate in HR Management",
           "2 - 3",
           "Others",
           "25 to 40"
          ],
          [
           "2020/2101-111/005",
           "Ms",
           "F",
           "Singaporean",
           "1992-09-22",
           "Degree",
           "Bachelor of Business (Marketing), RMIT",
           "2018-08-28",
           "APAC HR Specialist",
           "111th",
           "2020-09-28",
           "Part-Time",
           "Sponsored",
           107,
           "GIRO",
           2696,
           2.8,
           "L",
           268,
           "Certificate in HR Management",
           "2 - 3",
           "Human Resources",
           "25 to 40"
          ],
          [
           "2020/2101-111/006",
           "Ms",
           "F",
           "Singaporean",
           "1988-10-18",
           "Certificate",
           "O' level",
           "2018-03-28",
           "Snr Client Service Executive",
           "111th",
           "2020-09-28",
           "Part-Time",
           "Individual",
           107,
           "GIRO",
           1496,
           3.3,
           "L",
           268,
           "Certificate in HR Management",
           "3 - 3.5",
           "Customer Service and Sales",
           "25 to 40"
          ],
          [
           "2020/2101-111/009",
           "Ms",
           "F",
           "Singaporean",
           "1987-12-11",
           "Certificate",
           "O' level",
           "2018-08-28",
           "Admin Executive",
           "111th",
           "2020-09-28",
           "Part-Time",
           "Subsidiesed",
           107,
           "GIRO",
           2496,
           3.3,
           "L",
           268,
           "Certificate in HR Management",
           "3 - 3.5",
           "Administration",
           "25 to 40"
          ],
          [
           "2020/2101-112/010",
           "Ms",
           "F",
           "Singaporean",
           "1984-02-13",
           "Degree",
           "Bachelor of Commerce (Management and Marketing), Curtin University of Technology",
           "2017-05-16",
           "Manager (Engagement)",
           "112th",
           "2020-11-16",
           "Part-Time",
           "Subsidiesed",
           107,
           "GIRO",
           1996,
           1.5,
           "L",
           270,
           "Certificate in HR Management",
           "1 - 2",
           "Management",
           "25 to 40"
          ],
          [
           "2020/2101-112/011",
           "Ms",
           "F",
           "Singaporean",
           "1987-07-13",
           "Degree",
           "Bachelor of Science in Business, SUSS",
           "2017-01-16",
           "Executive",
           "112th",
           "2020-11-16",
           "Part-Time",
           "Subsidiesed",
           107,
           "GIRO",
           1996,
           2.5,
           "L",
           270,
           "Certificate in HR Management",
           "2 - 3",
           "Others",
           "25 to 40"
          ],
          [
           "2020/2101-112/012",
           "Ms",
           "F",
           "Singaporean",
           "1994-07-15",
           "Diploma",
           "Diploma in Integrated Events Management, Republic Polytechnic",
           "2018-09-16",
           "Associate, HR & General Affairs",
           "112th",
           "2020-11-16",
           "Part-Time",
           "Subsidiesed",
           107,
           "GIRO",
           1996,
           3.4,
           "L",
           270,
           "Certificate in HR Management",
           "3 - 3.5",
           "Human Resources",
           "25 to 40"
          ],
          [
           "2019/2101-106/001",
           "Ms",
           "F",
           "Permanent Resident",
           "1984-08-07",
           "Degree",
           "Bachelor of Science (HRD), Universiti Teknologi Malaysia",
           "2016-04-04",
           "Manager",
           "106th",
           "2019-03-04",
           "Part-Time",
           "Individual",
           107,
           "NETS",
           2996,
           3.1,
           "F",
           274,
           "Certificate in HR Management",
           "3 - 3.5",
           "Management",
           "25 to 40"
          ],
          [
           "2019/2101-106/002",
           "Ms",
           "F",
           "Permanent Resident",
           "1987-08-09",
           "Certificate",
           "Certificate in Computer, Jiangsu Vocational Middle School, Certificate in Grammar & Writing Intermediate Level, Ascend Education Centre",
           "2017-10-04",
           "HR Assistant",
           "106th",
           "2019-03-04",
           "Part-Time",
           "Individual",
           107,
           "GIRO",
           2996,
           3,
           "F",
           274,
           "Certificate in HR Management",
           "3 - 3.5",
           "Human Resources",
           "25 to 40"
          ],
          [
           "2019/2101-107/006",
           "Ms",
           "F",
           "Singaporean",
           "1995-10-04",
           "Certificate",
           "Higher Nitec in Business Studies (Service Management), ITE",
           "2017-04-24",
           "Admin Assistant",
           "107th",
           "2019-04-24",
           "Part-Time",
           "Sponsored",
           107,
           "Bank Transfer",
           2696,
           2.4,
           "L",
           274,
           "Certificate in HR Management",
           "2 - 3",
           "Administration",
           "25 to 40"
          ],
          [
           "2019/2101-107/009",
           "Ms",
           "F",
           "Singaporean",
           "1987-10-21",
           "Certificate",
           "WSQ Higher Certificate in Human Resources, HCS ",
           "2016-03-24",
           "No Designation",
           "107th",
           "2019-04-24",
           "Part-Time",
           "Subsidiesed",
           107,
           "GIRO",
           2496,
           1.9,
           "L",
           274,
           "Certificate in HR Management",
           "1 - 2",
           "Others",
           "25 to 40"
          ],
          [
           "2019/2101-108/010",
           "Mr",
           "M",
           "Singaporean",
           "1994-08-04",
           "Certificate",
           "Nitec in Fitness Training, ITE",
           "2015-09-05",
           "HR Executive (TA Operations)",
           "108th",
           "2019-08-05",
           "Part-Time",
           "Subsidiesed",
           107,
           "NETS",
           2996,
           3,
           "L",
           273,
           "Certificate in HR Management",
           "3 - 3.5",
           "Human Resources",
           "25 to 40"
          ],
          [
           "2019/2101-108/011",
           "Ms",
           "F",
           "Foreigner",
           "1986-02-18",
           "Certificate",
           "SPM, Certificate in Business Studies (Business Administration) Level IV, Tunku Abdul Rahman College",
           "2016-08-05",
           "HR Executive",
           "108th",
           "2019-08-05",
           "Part-Time",
           "Sponsored",
           107,
           "Bank Transfer",
           2996,
           3.1,
           "F",
           273,
           "Certificate in HR Management",
           "3 - 3.5",
           "Human Resources",
           "25 to 40"
          ],
          [
           "2019/2101-108/013",
           "Ms",
           "F",
           "Singaporean",
           "1994-12-24",
           "Diploma",
           "Diploma in Financial Informatics, Nanyang Polytechnic, CPA, SHRI Academy",
           "2018-03-05",
           "HR Administrator",
           "108th",
           "2019-08-05",
           "Part-Time",
           "Sponsored",
           107,
           "GIRO",
           2696,
           3.9,
           "L",
           273,
           "Certificate in HR Management",
           "More Than 3.5",
           "Human Resources",
           "25 to 40"
          ],
          [
           "2019/2101-109/015",
           "Mr",
           "M",
           "Singaporean",
           "1998-04-23",
           "Certificate",
           "A level",
           "2018-05-25",
           "Admin Support Assistance",
           "109th",
           "2019-09-28",
           "Part-Time",
           "Individual",
           107,
           "Bank Transfer",
           2996,
           3.7,
           "L",
           58,
           "Certificate in HR Management",
           "More Than 3.5",
           "Administration",
           "25 to 40"
          ],
          [
           "2019/2101-109/016",
           "Ms",
           "F",
           "Foreigner",
           "1986-12-23",
           "Degree",
           "Bachelor of Arts (Mass Communication), New Era University, Quezon City, Philippines",
           "2018-06-25",
           "HR Executive",
           "109th",
           "2019-09-28",
           "Part-Time",
           "Sponsored",
           107,
           "Bank Transfer",
           2996,
           3.5,
           "F",
           58,
           "Certificate in HR Management",
           "More Than 3.5",
           "Human Resources",
           "25 to 40"
          ],
          [
           "2019/2101-109/017",
           "Ms",
           "F",
           "Foreigner",
           "1992-09-12",
           "Certificate",
           "SPM",
           "2018-10-25",
           "HR Administrator",
           "109th",
           "2019-09-28",
           "Part-Time",
           "Individual",
           107,
           "GIRO",
           2996,
           3,
           "F",
           58,
           "Certificate in HR Management",
           "3 - 3.5",
           "Human Resources",
           "25 to 40"
          ],
          [
           "2019/2101-109/019",
           "Ms",
           "F",
           "Singaporean",
           "1983-11-30",
           "Certificate",
           "N Level, Foundation Certificate in HRM, SHRI Academy",
           "2016-09-25",
           "Sales & Operation Executive",
           "109th",
           "2019-09-28",
           "Part-Time",
           "Sponsored",
           0,
           "Bank Transfer",
           2696,
           2.4,
           "L",
           58,
           "Certificate in HR Management",
           "2 - 3",
           "Customer Service and Sales",
           "25 to 40"
          ],
          [
           "2019/2101-109/021",
           "Ms",
           "F",
           "Singaporean",
           "1987-07-14",
           "Certificate",
           "O level",
           "2018-12-25",
           "Business Development Executive",
           "109th",
           "2019-09-28",
           "Part-Time",
           "Individual",
           107,
           "Bank Transfer",
           2996,
           3.9,
           "L",
           58,
           "Certificate in HR Management",
           "More Than 3.5",
           "Others",
           "25 to 40"
          ],
          [
           "2020/2102-068/001",
           "Ms",
           "F",
           "Singaporean",
           "1993-01-20",
           "Degree",
           "Bachelor of Science (Business Management), UOL",
           "2017-08-22",
           "Executive",
           "68th",
           "2020-07-22",
           "Part-Time",
           "Subsidiesed",
           107,
           "Bank Transfer",
           1388,
           3.3,
           "L",
           61,
           "Certificate in Digital Marketing",
           "3 - 3.5",
           "Others",
           "25 to 40"
          ],
          [
           "2020/2102-068/004",
           "Ms",
           "F",
           "Singaporean",
           "1988-12-27",
           "Diploma",
           "Diploma in Sales & Marketing, MIS",
           "2017-04-22",
           "Executive, Student Care Services",
           "68th",
           "2020-07-22",
           "Part-Time",
           "Subsidiesed",
           107,
           "Bank Transfer",
           1415,
           2,
           "L",
           61,
           "Certificate in Digital Marketing",
           "2 - 3",
           "Customer Service and Sales",
           "25 to 40"
          ],
          [
           "2020/2102-068/005",
           "Ms",
           "F",
           "Permanent Resident",
           "1992-11-11",
           "Degree",
           "Bachelor of Engineering, Universiti Malaysia Perlis",
           "2017-06-22",
           "Device Engineer",
           "68th",
           "2020-07-22",
           "Part-Time",
           "Individual",
           107,
           "Bank Transfer",
           1388,
           2.9,
           "L",
           61,
           "Certificate in Digital Marketing",
           "2 - 3",
           "Technical and IT",
           "25 to 40"
          ],
          [
           "2020/2102-068/006",
           "Ms",
           "F",
           "Singaporean",
           "1985-09-11",
           "Certificate",
           "Certificate in Opticianry Practice, Republic Poly, WPLN",
           "2017-04-22",
           "No Designation",
           "68th",
           "2020-07-22",
           "Part-Time",
           "Subsidiesed",
           107,
           "Bank Transfer",
           1388,
           1.8,
           "L",
           61,
           "Certificate in Digital Marketing",
           "1 - 2",
           "Others",
           "25 to 40"
          ],
          [
           "2020/2102-068/007",
           "Ms",
           "F",
           "Singaporean",
           "1989-08-26",
           "Certificate",
           "O level",
           "2017-07-22",
           "No Designation",
           "68th",
           "2020-07-22",
           "Part-Time",
           "Individual",
           107,
           "Bank Transfer",
           1388,
           2.8,
           "L",
           61,
           "Certificate in Digital Marketing",
           "2 - 3",
           "Others",
           "25 to 40"
          ],
          [
           "2020/2102-068/009",
           "Ms",
           "F",
           "Permanent Resident",
           "1992-11-24",
           "Degree",
           "Bachelor of Economics, University of Malaya",
           "2019-06-22",
           "HR Executive",
           "68th",
           "2020-07-22",
           "Part-Time",
           "Sponsored",
           107,
           "Bank Transfer",
           1388,
           2.8,
           "L",
           61,
           "Certificate in Digital Marketing",
           "2 - 3",
           "Human Resources",
           "25 to 40"
          ],
          [
           "2020/2102-068/010",
           "Mr",
           "M",
           "Singaporean",
           "1990-02-26",
           "Degree",
           "Bachelor of Science  in Chemical Engineering, Singapore Institute of Technology",
           "2018-06-22",
           "Operations Executive",
           "68th",
           "2020-07-22",
           "Part-Time",
           "Subsidiesed",
           107,
           "Bank Transfer",
           1388,
           3.1,
           "L",
           61,
           "Certificate in Digital Marketing",
           "3 - 3.5",
           "Operations and Logistics",
           "25 to 40"
          ],
          [
           "2020/2102-068/011",
           "Ms",
           "F",
           "Permanent Resident",
           "1991-07-16",
           "Degree",
           "Bachelor of Science (Nursing), Curtin University of Technology &Bachelor of Business (HRM), Murdoch University",
           "2019-02-22",
           "Staff Nurse",
           "68th",
           "2020-07-22",
           "Part-Time",
           "Individual",
           107,
           "Bank Transfer",
           1388,
           3.8,
           "L",
           61,
           "Certificate in Digital Marketing",
           "More Than 3.5",
           "Others",
           "25 to 40"
          ],
          [
           "2020/2102-069/013",
           "Ms",
           "F",
           "Singaporean",
           "1994-07-07",
           "Degree",
           "Bachelor of Science in Business Management, University of Birmingham ",
           "2016-11-30",
           "Assistant Executive (Payroll)",
           "69th",
           "2020-09-30",
           "Part-Time",
           "Subsidiesed",
           107,
           "Bank Transfer",
           1388,
           1.7,
           "L",
           51,
           "Certificate in Digital Marketing",
           "1 - 2",
           "Finance and Accounting",
           "25 to 40"
          ],
          [
           "2020/2102-069/015",
           "Mr",
           "M",
           "Singaporean",
           "1996-05-05",
           "Diploma",
           "Diploma in Events Management, Kaplan",
           "2018-10-30",
           "No Designation",
           "69th",
           "2020-09-30",
           "Part-Time",
           "Individual",
           107,
           "Bank Transfer",
           1495,
           3.4,
           "L",
           51,
           "Certificate in Digital Marketing",
           "3 - 3.5",
           "Others",
           "25 to 40"
          ],
          [
           "2020/2102-069/017",
           "Ms",
           "F",
           "Permanent Resident",
           "1994-02-14",
           "Degree",
           "Bachelor of Communications in Public Relations, Universiti Tunku Abdul Rahman",
           "2018-03-30",
           "Recruitment Consultant",
           "69th",
           "2020-09-30",
           "Part-Time",
           "Individual",
           107,
           "Bank Transfer",
           1388,
           2.3,
           "L",
           51,
           "Certificate in Digital Marketing",
           "2 - 3",
           "Human Resources",
           "25 to 40"
          ],
          [
           "2020/2102-069/018",
           "Ms",
           "F",
           "Permanent Resident",
           "1989-02-12",
           "Certificate",
           "SPM",
           "2019-07-30",
           "Payroll Specialist",
           "69th",
           "2020-09-30",
           "Part-Time",
           "Sponsored",
           107,
           "Bank Transfer",
           1308,
           3.1,
           "L",
           51,
           "Certificate in Digital Marketing",
           "3 - 3.5",
           "Finance and Accounting",
           "25 to 40"
          ],
          [
           "2020/2102-069/019",
           "Ms",
           "F",
           "Singaporean",
           "1984-05-12",
           "Diploma",
           "Specialist Diploma in HRM, Nanyang Polytechnic",
           "2017-02-28",
           "No Designation",
           "69th",
           "2020-09-30",
           "Part-Time",
           "Individual",
           107,
           "Bank Transfer",
           1495,
           2.8,
           "L",
           51,
           "Certificate in Digital Marketing",
           "2 - 3",
           "Others",
           "25 to 40"
          ],
          [
           "2020/2102-070/025",
           "Ms",
           "F",
           "Permanent Resident",
           "1992-02-09",
           "Diploma",
           "Diploma in Accountancy",
           "2017-12-23",
           "Account Senior",
           "70th",
           "2020-01-22",
           "Part-Time",
           "Individual",
           107,
           "Bank Transfer",
           1388,
           2.4,
           "L",
           306,
           "Certificate in Digital Marketing",
           "2 - 3",
           "Finance and Accounting",
           "25 to 40"
          ],
          [
           "2020/2102-070/026",
           "Ms",
           "F",
           "Singaporean",
           "1992-06-09",
           "Certificate",
           "N Level",
           "2019-10-23",
           "Admin Officer",
           "70th",
           "2020-01-22",
           "Part-Time",
           "Sponsored",
           107,
           "Bank Transfer",
           1388,
           3.1,
           "L",
           306,
           "Certificate in Digital Marketing",
           "3 - 3.5",
           "Administration",
           "25 to 40"
          ],
          [
           "2020/2102-070/027",
           "Ms",
           "F",
           "Singaporean",
           "1988-01-17",
           "Degree",
           "Bachelor of Science in Banking & Finance, UOL",
           "2018-08-23",
           "Senior HR Executive",
           "70th",
           "2020-01-22",
           "Part-Time",
           "Sponsored",
           107,
           "Bank Transfer",
           1388,
           2.6,
           "L",
           306,
           "Certificate in Digital Marketing",
           "2 - 3",
           "Human Resources",
           "25 to 40"
          ],
          [
           "2020/2102-070/028",
           "Mr",
           "M",
           "Singaporean",
           "1987-09-13",
           "Degree",
           "Bachelor of Arts, NUS",
           "2018-01-23",
           "Officer, Administration and Operations",
           "70th",
           "2020-01-22",
           "Part-Time",
           "Subsidiesed",
           107,
           "Bank Transfer",
           888,
           3.1,
           "L",
           306,
           "Certificate in Digital Marketing",
           "3 - 3.5",
           "Administration",
           "25 to 40"
          ],
          [
           "2020/2102-070/029",
           "Mr",
           "M",
           "Singaporean",
           "1988-01-20",
           "Degree",
           "Bachelor of Technology (Industrial & Management Engineering), NUS",
           "2017-12-23",
           "HR Executive",
           "70th",
           "2020-01-22",
           "Part-Time",
           "Sponsored",
           107,
           "Bank Transfer",
           1495,
           2.8,
           "L",
           306,
           "Certificate in Digital Marketing",
           "2 - 3",
           "Human Resources",
           "25 to 40"
          ],
          [
           "2020/2102-070/030",
           "Ms",
           "F",
           "Singaporean",
           "1991-02-16",
           "Degree",
           "Postgraduate Diploma in Strategic Human Capital Management",
           "2019-08-23",
           "Human Reosurce Executive",
           "70th",
           "2020-01-22",
           "Part-Time",
           "Subsidiesed",
           107,
           "Bank Transfer",
           1388,
           3.8,
           "L",
           306,
           "Certificate in Digital Marketing",
           "More Than 3.5",
           "Others",
           "25 to 40"
          ],
          [
           "2020/2102-070/032",
           "Mr",
           "M",
           "Singaporean",
           "1987-04-12",
           "Degree",
           "Bachelor of Commerce in Human Resource Management, Murdoch University",
           "2017-01-23",
           "HR Executive",
           "70th",
           "2020-01-22",
           "Part-Time",
           "Subsidiesed",
           107,
           "Bank Transfer",
           1308,
           1.7,
           "L",
           306,
           "Certificate in Digital Marketing",
           "1 - 2",
           "Human Resources",
           "25 to 40"
          ],
          [
           "2020/2102-070/037",
           "Ms",
           "F",
           "Singaporean",
           "1990-09-21",
           "Degree",
           "Bachelor of Business, University of Tasmania",
           "2017-09-23",
           "No Designation",
           "70th",
           "2020-01-22",
           "Part-Time",
           "Subsidiesed",
           107,
           "Bank Transfer",
           1388,
           1.9,
           "L",
           306,
           "Certificate in Digital Marketing",
           "1 - 2",
           "Others",
           "25 to 40"
          ],
          [
           "2020/2102-070/038",
           "Ms",
           "F",
           "Singaporean",
           "1983-12-01",
           "Certificate",
           "N level",
           "2017-06-23",
           "HR Assistant",
           "70th",
           "2020-01-22",
           "Part-Time",
           "Subsidiesed",
           107,
           "Bank Transfer",
           1388,
           1.9,
           "L",
           306,
           "Certificate in Digital Marketing",
           "1 - 2",
           "Human Resources",
           "25 to 40"
          ],
          [
           "2020/2102-070/041",
           "Ms",
           "F",
           "Singaporean",
           "1993-04-02",
           "Degree",
           "Bachelor of Science in Accounting & Finance, UOL",
           "2019-06-23",
           "No Designation",
           "70th",
           "2020-01-22",
           "Part-Time",
           "Subsidiesed",
           107,
           "Bank Transfer",
           1388,
           3.6,
           "L",
           306,
           "Certificate in Digital Marketing",
           "More Than 3.5",
           "Others",
           "25 to 40"
          ],
          [
           "2020/2102-070/042",
           "Mr",
           "M",
           "Singaporean",
           "1985-10-23",
           "Degree",
           "Graduate Diploma in HRM, MDIS",
           "2017-03-23",
           "Assistant Manager, Human Resources",
           "70th",
           "2020-01-22",
           "Part-Time",
           "Individual",
           107,
           "Bank Transfer",
           888,
           1.5,
           "L",
           306,
           "Certificate in Digital Marketing",
           "1 - 2",
           "Human Resources",
           "25 to 40"
          ],
          [
           "2020/2102-070/043",
           "Ms",
           "F",
           "Singaporean",
           "1983-11-18",
           "Certificate",
           "NTC-2 Chemical Process Technology, ITE",
           "2017-05-23",
           "Associate, HR & Payroll",
           "70th",
           "2020-01-22",
           "Part-Time",
           "Subsidiesed",
           107,
           "Bank Transfer",
           1495,
           1.6,
           "L",
           306,
           "Certificate in Digital Marketing",
           "1 - 2",
           "Human Resources",
           "25 to 40"
          ],
          [
           "2019/2102-063/002",
           "Ms",
           "F",
           "Singaporean",
           "1992-07-22",
           "Certificate",
           "O' level; Certificate for Emloyment Intermediaries (CEI) Basic",
           "2017-12-18",
           "Consultant",
           "63th",
           "2019-02-18",
           "Part-Time",
           "Subsidiesed",
           107,
           "Bank Transfer",
           1388,
           3.9,
           "L",
           56,
           "Certificate in Digital Marketing",
           "More Than 3.5",
           "Others",
           "25 to 40"
          ],
          [
           "2019/2102-063/009",
           "Ms",
           "F",
           "Singaporean",
           "1992-04-29",
           "Certificate",
           "Nitec in Product Design, ITE",
           "2016-03-18",
           "Waitress",
           "63th",
           "2019-02-18",
           "Part-Time",
           "Individual",
           107,
           "Bank Transfer",
           1388,
           2.3,
           "L",
           56,
           "Certificate in Digital Marketing",
           "2 - 3",
           "Technical and IT",
           "25 to 40"
          ],
          [
           "2019/2102-064/010",
           "Ms",
           "F",
           "Singaporean",
           "1987-11-08",
           "Diploma",
           "Diploma in Business & Human Resource Management, SHRI",
           "2017-02-06",
           "No Designation",
           "64th",
           "2019-05-06",
           "Part-Time",
           "Individual",
           107,
           "Bank Transfer",
           1388,
           3.3,
           "L",
           1,
           "Certificate in Digital Marketing",
           "3 - 3.5",
           "Others",
           "25 to 40"
          ],
          [
           "2019/2102-064/011",
           "Ms",
           "F",
           "Singaporean",
           "1993-10-07",
           "Degree",
           "Bachelor of Commerce in HRM, Murdoch University",
           "2017-01-06",
           "HR Executive",
           "64th",
           "2019-05-06",
           "Part-Time",
           "Subsidiesed",
           107,
           "Bank Transfer",
           1388,
           2.9,
           "L",
           1,
           "Certificate in Digital Marketing",
           "2 - 3",
           "Human Resources",
           "25 to 40"
          ],
          [
           "2019/2102-064/012",
           "Ms",
           "F",
           "Singaporean",
           "1988-04-07",
           "Diploma",
           "Diploma in Multimedia & Infocomm Technology, Nanyang Polytechnic",
           "2015-09-06",
           "Accounts Executive",
           "64th",
           "2019-05-06",
           "Part-Time",
           "Subsidiesed",
           107,
           "Bank Transfer",
           1388,
           3.1,
           "L",
           1,
           "Certificate in Digital Marketing",
           "3 - 3.5",
           "Finance and Accounting",
           "25 to 40"
          ],
          [
           "2019/2102-064/013",
           "Ms",
           "F",
           "Foreigner",
           "1989-07-24",
           "No Qualifications",
           "Unknown Institution / Qualification",
           "2016-06-06",
           "Accounts Executive",
           "64th",
           "2019-05-06",
           "Part-Time",
           "Individual",
           107,
           "Bank Transfer",
           888,
           2.5,
           "F",
           1,
           "Certificate in Digital Marketing",
           "2 - 3",
           "Finance and Accounting",
           "25 to 40"
          ],
          [
           "2019/2102-064/015",
           "Ms",
           "F",
           "Permanent Resident",
           "1984-08-04",
           "Degree",
           "Bachelor of Arts in HRM with Organisational Psychology, Edinburgh Napier University",
           "2016-09-06",
           "Senior HR",
           "64th",
           "2019-05-06",
           "Part-Time",
           "Sponsored",
           107,
           "Bank Transfer",
           1388,
           2.2,
           "F",
           1,
           "Certificate in Digital Marketing",
           "2 - 3",
           "Human Resources",
           "25 to 40"
          ],
          [
           "2019/2102-064/016",
           "Ms",
           "F",
           "Singaporean",
           "1993-07-18",
           "Degree",
           "Bachelor of Arts in Business and Finance, Coventry University",
           "2017-04-06",
           "No Designation",
           "64th",
           "2019-05-06",
           "Part-Time",
           "Individual",
           107,
           "Bank Transfer",
           1388,
           2.2,
           "L",
           1,
           "Certificate in Digital Marketing",
           "2 - 3",
           "Others",
           "25 to 40"
          ],
          [
           "2019/2102-064/017",
           "Ms",
           "F",
           "Singaporean",
           "1993-11-12",
           "Degree",
           "Bachelor of Science in Mathematics and Economics, UOL",
           "2015-08-06",
           "HR Executive",
           "64th",
           "2019-05-06",
           "Part-Time",
           "Individual",
           107,
           "Bank Transfer",
           1308,
           1.5,
           "L",
           1,
           "Certificate in Digital Marketing",
           "1 - 2",
           "Human Resources",
           "25 to 40"
          ],
          [
           "2019/2102-064/019",
           "Ms",
           "F",
           "Singaporean",
           "1984-02-10",
           "Diploma",
           "Diploma in Business Administration (HRM), PSB Academy / CHRM, SHRI / Nitec in Office Skills, ITE",
           "2018-06-06",
           "Center Administrator",
           "64th",
           "2019-05-06",
           "Part-Time",
           "Individual",
           107,
           "Bank Transfer",
           1495,
           3.9,
           "L",
           1,
           "Certificate in Digital Marketing",
           "More Than 3.5",
           "Administration",
           "25 to 40"
          ],
          [
           "2019/2102-064/021",
           "Ms",
           "F",
           "Singaporean",
           "1983-11-03",
           "Diploma",
           "Diploma in Electrical Engineering, Singapore Polytechnic",
           "2015-09-06",
           "Team Lead, Payroll & Billing",
           "64th",
           "2019-05-06",
           "Part-Time",
           "Subsidiesed",
           107,
           "Bank Transfer",
           1388,
           2.5,
           "L",
           1,
           "Certificate in Digital Marketing",
           "2 - 3",
           "Management",
           "25 to 40"
          ],
          [
           "2019/2102-065/026",
           "Ms",
           "F",
           "Singaporean",
           "1986-10-16",
           "Diploma",
           "Diploma in Electrical & Computer Control Engineering, Singapore Polytechnic / Diploma in Social Service, SSTI / CHRM, SHRI Academy",
           "2016-06-22",
           "HR Assistant",
           "65th",
           "2019-07-22",
           "Part-Time",
           "Individual",
           107,
           "Bank Transfer",
           1388,
           2.2,
           "L",
           60,
           "Certificate in Digital Marketing",
           "2 - 3",
           "Human Resources",
           "25 to 40"
          ],
          [
           "2019/2102-065/028",
           "Ms",
           "F",
           "Singaporean",
           "1983-11-28",
           "Diploma",
           "Diploma in Business Administration, PSB Academy",
           "2016-04-22",
           "HR & Admin Manager",
           "65th",
           "2019-07-22",
           "Part-Time",
           "Sponsored",
           107,
           "Bank Transfer",
           1495,
           2.2,
           "L",
           60,
           "Certificate in Digital Marketing",
           "2 - 3",
           "Human Resources",
           "25 to 40"
          ],
          [
           "2019/2102-065/030",
           "Ms",
           "F",
           "Permanent Resident",
           "1985-02-28",
           "Diploma",
           "Diploma in Business Administration (HRM), PSB Academy",
           "2016-01-22",
           "Human Resource Administrator",
           "65th",
           "2019-07-22",
           "Part-Time",
           "Sponsored",
           107,
           "Bank Transfer",
           1388,
           3.1,
           "F",
           60,
           "Certificate in Digital Marketing",
           "3 - 3.5",
           "Human Resources",
           "25 to 40"
          ],
          [
           "2019/2102-065/031",
           "Ms",
           "F",
           "Permanent Resident",
           "1993-04-23",
           "Degree",
           "Bachelor of Business Administration (Honours), Universiti Tunku Abdul Rahman",
           "2018-03-22",
           "HR Executive",
           "65th",
           "2019-07-22",
           "Part-Time",
           "Sponsored",
           107,
           "Bank Transfer",
           1308,
           2.8,
           "F",
           60,
           "Certificate in Digital Marketing",
           "2 - 3",
           "Human Resources",
           "25 to 40"
          ],
          [
           "2019/2102-065/034",
           "Ms",
           "F",
           "Singaporean",
           "1992-09-03",
           "Degree",
           "Bachelor of Science in Business, University of London",
           "2016-08-22",
           "HR Officer",
           "65th",
           "2019-07-22",
           "Part-Time",
           "Subsidiesed",
           107,
           "Bank Transfer",
           1415,
           2.2,
           "L",
           60,
           "Certificate in Digital Marketing",
           "2 - 3",
           "Human Resources",
           "25 to 40"
          ],
          [
           "2019/2102-065/036",
           "Ms",
           "F",
           "Foreigner",
           "1989-02-22",
           "Diploma",
           "Diploma in Accountancy, Kaplan Higher Education Institute",
           "2018-04-22",
           "Admin cum Payroll Officer",
           "65th",
           "2019-07-22",
           "Part-Time",
           "Individual",
           107,
           "Bank Transfer",
           1388,
           3.7,
           "F",
           60,
           "Certificate in Digital Marketing",
           "More Than 3.5",
           "Administration",
           "25 to 40"
          ],
          [
           "2019/2102-065/037",
           "Ms",
           "F",
           "Permanent Resident",
           "1984-02-24",
           "Master",
           "MBA, Mangalore University",
           "2016-06-22",
           "No Designation",
           "65th",
           "2019-07-22",
           "Part-Time",
           "Individual",
           107,
           "Bank Transfer",
           1388,
           2.5,
           "F",
           60,
           "Certificate in Digital Marketing",
           "2 - 3",
           "Others",
           "25 to 40"
          ],
          [
           "2019/2102-065/039",
           "Ms",
           "F",
           "Permanent Resident",
           "1983-07-18",
           "Degree",
           "Bachelor of Business Administration, Xi'an Shiyou University, China",
           "2017-04-22",
           "HR Executive",
           "65th",
           "2019-07-22",
           "Part-Time",
           "Sponsored",
           107,
           "Bank Transfer",
           1388,
           2.3,
           "F",
           60,
           "Certificate in Digital Marketing",
           "2 - 3",
           "Human Resources",
           "25 to 40"
          ],
          [
           "2019/2102-065/040",
           "Ms",
           "F",
           "Singaporean",
           "1992-01-12",
           "Degree",
           "Bachelor of Arts in Accounting & Financial Management, The University of Sheffield",
           "2016-01-22",
           "Client Accountant",
           "65th",
           "2019-07-22",
           "Part-Time",
           "Sponsored",
           107,
           "Bank Transfer",
           1388,
           3.1,
           "L",
           60,
           "Certificate in Digital Marketing",
           "3 - 3.5",
           "Finance and Accounting",
           "25 to 40"
          ],
          [
           "2019/2102-065/042",
           "Ms",
           "F",
           "Permanent Resident",
           "1984-03-23",
           "Degree",
           "Bachelor of Science (Agriculture), Kerala Agriculture University",
           "2018-06-22",
           "Corporate Service Executive",
           "65th",
           "2019-07-22",
           "Part-Time",
           "Individual",
           107,
           "Bank Transfer",
           1495,
           3.7,
           "F",
           60,
           "Certificate in Digital Marketing",
           "More Than 3.5",
           "Customer Service and Sales",
           "25 to 40"
          ],
          [
           "2019/2102-065/043",
           "Ms",
           "F",
           "Singaporean",
           "1991-03-12",
           "Degree",
           "Bachelor of Commerce in HRM,   Murdoch University",
           "2015-11-22",
           "Senior Eexcutive",
           "65th",
           "2019-07-22",
           "Part-Time",
           "Sponsored",
           107,
           "Bank Transfer",
           1388,
           1.5,
           "L",
           60,
           "Certificate in Digital Marketing",
           "1 - 2",
           "Others",
           "25 to 40"
          ],
          [
           "2019/2102-066/045",
           "Ms",
           "F",
           "Singaporean",
           "1984-01-15",
           "Diploma",
           "Diploma in Accountancy, Ngee Ann Polytechnic",
           "2018-04-25",
           "Accountant",
           "66th",
           "2019-09-25",
           "Part-Time",
           "Subsidiesed",
           107,
           "Bank Transfer",
           1308,
           3.9,
           "L",
           58,
           "Certificate in Digital Marketing",
           "More Than 3.5",
           "Finance and Accounting",
           "25 to 40"
          ],
          [
           "2019/2102-066/046",
           "Ms",
           "F",
           "Foreigner",
           "1994-04-10",
           "Diploma",
           "Diploma in Commerce (Human Resource Management)",
           "2016-04-25",
           "HR Assistant",
           "66th",
           "2019-09-25",
           "Part-Time",
           "Sponsored",
           107,
           "Bank Transfer",
           1495,
           2.5,
           "F",
           58,
           "Certificate in Digital Marketing",
           "2 - 3",
           "Human Resources",
           "25 to 40"
          ],
          [
           "2019/2102-066/049",
           "Ms",
           "F",
           "Foreigner",
           "1983-09-05",
           "Degree",
           "Bachelor of Science in Psychology, Lyceum of the Philippines",
           "2016-12-25",
           "Labour Admin Executive",
           "66th",
           "2019-09-25",
           "Part-Time",
           "Individual",
           107,
           "Bank Transfer",
           1388,
           3.2,
           "F",
           58,
           "Certificate in Digital Marketing",
           "3 - 3.5",
           "Administration",
           "25 to 40"
          ],
          [
           "2019/2102-067/053",
           "Ms",
           "F",
           "Singaporean",
           "1986-11-27",
           "Degree",
           "Bachelor of Communication, Murdoch University",
           "2017-12-25",
           "Editor",
           "67th",
           "2019-11-25",
           "Part-Time",
           "Subsidiesed",
           107,
           "Bank Transfer",
           1388,
           2.8,
           "L",
           53,
           "Certificate in Digital Marketing",
           "2 - 3",
           "Technical and IT",
           "25 to 40"
          ],
          [
           "2019/2102-067/054",
           "Ms",
           "F",
           "Singaporean",
           "1990-04-18",
           "Certificate",
           "Certificate in HRM, SHRI Academy",
           "2016-01-25",
           "HRM",
           "67th",
           "2019-11-25",
           "Part-Time",
           "Individual",
           107,
           "Bank Transfer",
           1388,
           1.6,
           "L",
           53,
           "Certificate in Digital Marketing",
           "1 - 2",
           "Human Resources",
           "25 to 40"
          ],
          [
           "2019/2102-067/055",
           "Ms",
           "F",
           "Singaporean",
           "1991-10-21",
           "Degree",
           "Bachelor of Arts in HRM, Kingston University",
           "2017-11-25",
           "HR Supervisor",
           "67th",
           "2019-11-25",
           "Part-Time",
           "Subsidiesed",
           107,
           "Bank Transfer",
           1388,
           2.5,
           "L",
           53,
           "Certificate in Digital Marketing",
           "2 - 3",
           "Human Resources",
           "25 to 40"
          ],
          [
           "2019/2102-067/057",
           "Ms",
           "F",
           "Permanent Resident",
           "1987-06-09",
           "Degree",
           "Bachelor of Business Administration, Universiti Tunku Abdul Rahman",
           "2017-09-25",
           "Human Resource Officer",
           "67th",
           "2019-11-25",
           "Part-Time",
           "Sponsored",
           107,
           "Bank Transfer",
           1388,
           2.4,
           "F",
           53,
           "Certificate in Digital Marketing",
           "2 - 3",
           "Human Resources",
           "25 to 40"
          ],
          [
           "2019/2102-067/058",
           "Ms",
           "F",
           "Permanent Resident",
           "1984-10-31",
           "Master",
           "Master of Business Adminsitration, Southern Cross University",
           "2016-01-25",
           "HR & Admin Officer",
           "67th",
           "2019-11-25",
           "Part-Time",
           "Individual",
           107,
           "Bank Transfer",
           1388,
           2.2,
           "F",
           53,
           "Certificate in Digital Marketing",
           "2 - 3",
           "Human Resources",
           "25 to 40"
          ],
          [
           "2020/5112-012/010",
           "Ms",
           "F",
           "Singaporean",
           "1988-08-16",
           "Degree",
           "Bachelor of Business (Accountancy)/\r\nRoyal Melbourne Institute of Technology",
           "2017-07-30",
           "Sr HR Associate",
           "12th",
           "2020-10-30",
           "Part-Time",
           "Individual",
           107,
           "Bank Transfer",
           5803,
           2.1,
           "L",
           181,
           "Bachelor of Business Administration",
           "2 - 3",
           "Human Resources",
           "25 to 40"
          ],
          [
           "2020/5112-012/011",
           "Ms",
           "F",
           "Singaporean",
           "1984-03-14",
           "Degree",
           "Diploma in Business & Human Resource Management/\r\nSingapore Human Resource Management",
           "2017-04-30",
           "Assistant Manager, HR Operations",
           "12th",
           "2020-10-30",
           "Part-Time",
           "Individual",
           107,
           "Bank Transfer",
           5803,
           1.7,
           "L",
           181,
           "Bachelor of Business Administration",
           "1 - 2",
           "Human Resources",
           "25 to 40"
          ],
          [
           "2020/5112-012/013",
           "Ms",
           "F",
           "Singaporean",
           "1989-03-20",
           "Degree",
           "Bachelor of Education with a minor in Department of Geography/\r\nNational Taiwan Normal University",
           "2019-06-30",
           "Flight Stewardess",
           "12th",
           "2020-10-30",
           "Part-Time",
           "Individual",
           107,
           "Bank Transfer",
           5803,
           3.1,
           "L",
           181,
           "Bachelor of Business Administration",
           "3 - 3.5",
           "Others",
           "25 to 40"
          ],
          [
           "2020/5112-012/015",
           "Ms",
           "F",
           "Singaporean",
           "1994-02-06",
           "Degree",
           "Bachelor of Arts in Human Resource Management with Financial Management/\r\nEdinburgh Napier University",
           "2016-11-30",
           "HR Analyst",
           "12th",
           "2020-10-30",
           "Part-Time",
           "Individual",
           107,
           "Bank Transfer",
           5803,
           1.6,
           "L",
           181,
           "Bachelor of Business Administration",
           "1 - 2",
           "Human Resources",
           "25 to 40"
          ],
          [
           "2020/5112-011/007",
           "Ms",
           "F",
           "Singaporean",
           "1991-07-05",
           "Degree",
           "Bachelor of Business (Management)/\r\nRMIT University",
           "2018-07-21",
           "HR Officer",
           "11th",
           "2020-08-21",
           "Part-Time",
           "Individual",
           107,
           "GIRO",
           5803,
           2.2,
           "L",
           183,
           "Bachelor of Business Administration",
           "2 - 3",
           "Human Resources",
           "25 to 40"
          ],
          [
           "2020/5112-011/008",
           "Ms",
           "F",
           "Singaporean",
           "1985-07-16",
           "Degree",
           "Bachelor of Arts/\r\nNational University of Singapore",
           "2018-08-21",
           "HR Manager",
           "11th",
           "2020-08-21",
           "Part-Time",
           "Individual",
           107,
           "Bank Transfer",
           5803,
           2.2,
           "L",
           183,
           "Bachelor of Business Administration",
           "2 - 3",
           "Human Resources",
           "25 to 40"
          ],
          [
           "2020/5112-011/009",
           "Mr",
           "M",
           "Singaporean",
           "1992-03-21",
           "Degree",
           "Bachelor of Business with Second Class Honours (Upper Division)/\r\nNanyang Technological University",
           "2017-03-21",
           "Recruitment Consultant",
           "11th",
           "2020-08-21",
           "Part-Time",
           "Individual",
           107,
           "Bank Transfer",
           5803,
           2.8,
           "L",
           183,
           "Bachelor of Business Administration",
           "2 - 3",
           "Human Resources",
           "25 to 40"
          ],
          [
           "2020/5112-010/003",
           "Mr",
           "M",
           "Singaporean",
           "1991-08-01",
           "Degree",
           "Bachelor of Business Administration (Accountancy) with Honours (Merit)/\r\nNational University of Singapore",
           "2018-06-20",
           "Senior Analyst, Compensation & Benefits",
           "10th",
           "2020-03-20",
           "Part-Time",
           "Individual",
           107,
           "Bank Transfer",
           5803,
           3.4,
           "L",
           183,
           "Bachelor of Business Administration",
           "3 - 3.5",
           "Technical and IT",
           "25 to 40"
          ],
          [
           "2020/5112-010/004",
           "Mr",
           "M",
           "Permanent Resident",
           "1984-10-31",
           "Degree",
           "Bachelor of Communications Major in Journalism; Major in Public Relations/\r\nEdith Cowan University",
           "2019-02-20",
           "Senior Manager",
           "10th",
           "2020-03-20",
           "Part-Time",
           "Individual",
           107,
           "Bank Transfer",
           5803,
           3.2,
           "L",
           183,
           "Bachelor of Business Administration",
           "3 - 3.5",
           "Management",
           "25 to 40"
          ],
          [
           "2020/5112-009/001",
           "Ms",
           "F",
           "Permanent Resident",
           "1984-02-16",
           "Degree",
           "Bachelor of Arts (Honours)/\r\nUniversity of Delhi",
           "2016-09-10",
           "HR Executive",
           "9th",
           "2020-01-10",
           "Part-Time",
           "Individual",
           107,
           "Bank Transfer",
           5803,
           1.7,
           "L",
           181,
           "Bachelor of Business Administration",
           "1 - 2",
           "Human Resources",
           "25 to 40"
          ],
          [
           "2020/5112-009/002",
           "Ms",
           "F",
           "Singaporean",
           "1983-07-17",
           "Degree",
           "Bachelor of Science (Consumer Science) Honours Second Class Upper/\r\nUniversiti Putra Malaysia",
           "2018-04-10",
           "N.A.",
           "9th",
           "2020-01-10",
           "Part-Time",
           "Individual",
           107,
           "Bank Transfer",
           5803,
           2.6,
           "L",
           181,
           "Bachelor of Business Administration",
           "2 - 3",
           "Others",
           "25 to 40"
          ],
          [
           "2019/5112-008/015",
           "Mr",
           "M",
           "Singaporean",
           "1986-03-27",
           "Master",
           "Master of Arts (Chinese Studies)/\r\nNational University of Singapore",
           "2016-06-20",
           "Senior Recruitment Manager",
           "8th",
           "2019-09-20",
           "Part-Time",
           "Individual",
           107,
           "Bank Transfer",
           5803,
           2.8,
           "L",
           181,
           "Bachelor of Business Administration",
           "2 - 3",
           "Human Resources",
           "25 to 40"
          ],
          [
           "2019/5112-008/016",
           "Ms",
           "F",
           "Foreigner",
           "1989-06-08",
           "Degree",
           "Bachelor of Business (Accounting)/\r\nMurdoch University",
           "2018-10-20",
           "Admin Supervisor",
           "8th",
           "2019-09-20",
           "Part-Time",
           "Individual",
           107,
           "Bank Transfer",
           5803,
           3.2,
           "L",
           181,
           "Bachelor of Business Administration",
           "3 - 3.5",
           "Administration",
           "25 to 40"
          ],
          [
           "2019/5112-008/018",
           "Ms",
           "F",
           "Permanent Resident",
           "1985-07-09",
           "Degree",
           "Bachelor of Business (Economics and Finance)/\r\nRMIT University",
           "2017-03-20",
           "HR Executive",
           "8th",
           "2019-09-20",
           "Part-Time",
           "Individual",
           107,
           "Bank Transfer",
           5803,
           2.3,
           "L",
           181,
           "Bachelor of Business Administration",
           "2 - 3",
           "Human Resources",
           "25 to 40"
          ],
          [
           "2019/5112-007/009",
           "Ms",
           "F",
           "Foreigner",
           "1984-01-26",
           "Degree",
           "Degree of Bachelor of Development Studies/\r\nYangon Institute of Economics",
           "2017-10-05",
           "Human Resource & Admin Manager",
           "7th",
           "2019-07-05",
           "Part-Time",
           "Individual",
           107,
           "GIRO",
           5803,
           2.9,
           "F",
           183,
           "Bachelor of Business Administration",
           "2 - 3",
           "Human Resources",
           "25 to 40"
          ],
          [
           "2019/5112-007/012",
           "Ms",
           "F",
           "Singaporean",
           "1993-04-10",
           "Degree",
           "Bachelor of Commerce in Hospitality & Tourism Management and Human Resource Management/\r\nMurdoch University",
           "2017-09-05",
           "Executive, Human Capital",
           "7th",
           "2019-07-05",
           "Part-Time",
           "Individual",
           107,
           "Bank Transfer",
           5803,
           2.8,
           "L",
           183,
           "Bachelor of Business Administration",
           "2 - 3",
           "Technical and IT",
           "25 to 40"
          ],
          [
           "2019/5112-006/005",
           "Ms",
           "F",
           "Singaporean",
           "1985-12-03",
           "Degree",
           "Bachelor of Accountancy (Merit)/\r\nSingapore Management University",
           "2015-08-08",
           "Assistant Manager Americas",
           "6th",
           "2019-03-08",
           "Part-Time",
           "Individual",
           107,
           "Bank Transfer",
           5803,
           3.1,
           "L",
           183,
           "Bachelor of Business Administration",
           "3 - 3.5",
           "Management",
           "25 to 40"
          ],
          [
           "2019/5112-006/006",
           "Mr",
           "M",
           "Singaporean",
           "1985-06-22",
           "Diploma",
           "Diploma in Compensation & Benefits Management/\r\nSHRI Academy Pte Ltd",
           "2015-10-08",
           "HR Executive",
           "6th",
           "2019-03-08",
           "Part-Time",
           "Individual",
           107,
           "Bank Transfer",
           5803,
           2.7,
           "L",
           183,
           "Bachelor of Business Administration",
           "2 - 3",
           "Human Resources",
           "25 to 40"
          ],
          [
           "2019/5112-005/003",
           "Ms",
           "F",
           "Singaporean",
           "1992-12-10",
           "Degree",
           "Bachelor of Science in Business/\r\nUniversity of London",
           "2016-01-04",
           "Talent Acquisition Specialist",
           "5th",
           "2019-01-04",
           "Part-Time",
           "Individual",
           107,
           "Bank Transfer",
           5803,
           2.5,
           "L",
           180,
           "Bachelor of Business Administration",
           "2 - 3",
           "Human Resources",
           "25 to 40"
          ],
          [
           "2020/5113-012/017",
           "Ms",
           "F",
           "Singaporean",
           "1989-03-19",
           "Degree",
           "Bachelor of Arts (Sociology)/\r\nState University of New York at Buffalo",
           "2017-05-30",
           "Academy Program Coordinator",
           "12th",
           "2020-10-30",
           "Part-Time",
           "Individual",
           107,
           "Bank Transfer",
           5803,
           1.5,
           "L",
           181,
           "Master of Business Administration",
           "1 - 2",
           "Operations and Logistics",
           "25 to 40"
          ],
          [
           "2020/5113-011/010",
           "Mr",
           "M",
           "Singaporean",
           "1991-01-14",
           "Degree",
           "Bachelor of Science in Finance (Pass with Merit)/\r\nSingapore University of Social Sciences",
           "2018-11-21",
           "Audit Associate",
           "11th",
           "2020-08-21",
           "Part-Time",
           "Individual",
           107,
           "Bank Transfer",
           5803,
           2.9,
           "L",
           183,
           "Master of Business Administration",
           "2 - 3",
           "Technical and IT",
           "25 to 40"
          ],
          [
           "2020/5113-011/012",
           "Ms",
           "F",
           "Singaporean",
           "1984-05-12",
           "Diploma",
           "Specialist Diploma in Human Resource Management/\r\nNanyang Polytechnic",
           "2016-11-21",
           "HR Executive",
           "11th",
           "2020-08-21",
           "Part-Time",
           "Individual",
           107,
           "Bank Transfer",
           5803,
           2,
           "L",
           183,
           "Master of Business Administration",
           "2 - 3",
           "Human Resources",
           "25 to 40"
          ],
          [
           "2020/5113-011/013",
           "Mr",
           "M",
           "Singaporean",
           "1984-04-06",
           "Master",
           "Master of Applied Science (Research)/\r\nQueensland University of Technology",
           "2017-12-21",
           "Consultant",
           "11th",
           "2020-08-21",
           "Part-Time",
           "Individual",
           107,
           "Bank Transfer",
           5803,
           2.6,
           "L",
           183,
           "Master of Business Administration",
           "2 - 3",
           "Others",
           "25 to 40"
          ],
          [
           "2020/5113-011/014",
           "Ms",
           "F",
           "Singaporean",
           "1991-11-18",
           "Degree",
           "Bachelor of Business (Marketing)/\r\nRMIT University",
           "2017-03-21",
           "Regional Recruiter",
           "11th",
           "2020-08-21",
           "Part-Time",
           "Individual",
           107,
           "Bank Transfer",
           5803,
           3,
           "L",
           183,
           "Master of Business Administration",
           "3 - 3.5",
           "Human Resources",
           "25 to 40"
          ],
          [
           "2020/5113-010/008",
           "Ms",
           "F",
           "Foreigner",
           "1990-07-27",
           "Master",
           "Master of Business Administration (First Class with Distinction)/\r\nJawaharlal Nehru Technological University Anantapur",
           "2018-04-20",
           "Manager",
           "10th",
           "2020-03-20",
           "Part-Time",
           "Individual",
           107,
           "Bank Transfer",
           5803,
           2.3,
           "F",
           183,
           "Master of Business Administration",
           "2 - 3",
           "Management",
           "25 to 40"
          ],
          [
           "2020/5113-010/009",
           "Ms",
           "F",
           "Singaporean",
           "1993-07-11",
           "Degree",
           "Graduate Diploma in Systems Analysis/\r\nNational University of Singapore",
           "2017-07-20",
           "IT Developer",
           "10th",
           "2020-03-20",
           "Part-Time",
           "Individual",
           107,
           "Bank Transfer",
           5803,
           3.4,
           "L",
           183,
           "Master of Business Administration",
           "3 - 3.5",
           "Technical and IT",
           "25 to 40"
          ],
          [
           "2020/5113-009/001",
           "Ms",
           "F",
           "Singaporean",
           "1993-01-09",
           "Degree",
           "Bachelor of Science with Second Class Honours (Upper Division) in Business/\r\nUniversity of London",
           "2019-02-10",
           "Senior Human Resource Executive",
           "9th",
           "2020-01-10",
           "Part-Time",
           "Individual",
           107,
           "Bank Transfer",
           5803,
           3.7,
           "L",
           181,
           "Master of Business Administration",
           "More Than 3.5",
           "Human Resources",
           "25 to 40"
          ],
          [
           "2020/5113-009/002",
           "Mr",
           "M",
           "Singaporean",
           "1992-02-01",
           "Degree",
           "Bachelor of Commerce (Management Human Resource Management)/\r\nMurdoch University",
           "2018-04-10",
           "Senior Executive, Human Resource",
           "9th",
           "2020-01-10",
           "Part-Time",
           "Individual",
           107,
           "Bank Transfer",
           5803,
           2.2,
           "L",
           181,
           "Master of Business Administration",
           "2 - 3",
           "Human Resources",
           "25 to 40"
          ],
          [
           "2020/5113-009/003",
           "Ms",
           "F",
           "Singaporean",
           "1986-01-17",
           "Degree",
           "Bachelor of Science (Education) with Second Class Honours (Lower Division)/\r\nNational Technological University",
           "2017-04-10",
           "Manager, Leadership & Coaching",
           "9th",
           "2020-01-10",
           "Part-Time",
           "Individual",
           107,
           "Bank Transfer",
           5803,
           2.8,
           "L",
           181,
           "Master of Business Administration",
           "2 - 3",
           "Management",
           "25 to 40"
          ],
          [
           "2020/5113-009/004",
           "Ms",
           "F",
           "Singaporean",
           "1996-10-21",
           "Degree",
           "Bachelor of Arts (Communication and Psychology)/\r\nState University of New York at Buffalo",
           "2016-10-10",
           "Executive, HR",
           "9th",
           "2020-01-10",
           "Part-Time",
           "Individual",
           107,
           "Bank Transfer",
           5803,
           2.1,
           "L",
           181,
           "Master of Business Administration",
           "2 - 3",
           "Human Resources",
           "25 to 40"
          ],
          [
           "2019/5113-008/008",
           "Ms",
           "F",
           "Singaporean",
           "1990-09-22",
           "Degree",
           "Bachelor of Commerce in Accounting/\r\nMurdoch University",
           "2017-10-20",
           "HR Assistant",
           "8th",
           "2019-09-20",
           "Part-Time",
           "Individual",
           107,
           "Bank Transfer",
           5803,
           3.4,
           "L",
           181,
           "Master of Business Administration",
           "3 - 3.5",
           "Human Resources",
           "25 to 40"
          ],
          [
           "2019/5113-007/004",
           "Mr",
           "M",
           "Singaporean",
           "1985-09-02",
           "Degree",
           "Bachelor of Science in Accounting and Finance with Third Class Honours/\r\nUniversity of London",
           "2016-04-05",
           "Bank Executive",
           "7th",
           "2019-07-05",
           "Part-Time",
           "Individual",
           107,
           "Bank Transfer",
           5803,
           2.8,
           "L",
           183,
           "Master of Business Administration",
           "2 - 3",
           "Others",
           "25 to 40"
          ],
          [
           "2019/5113-006/003",
           "Ms",
           "F",
           "Singaporean",
           "1990-06-03",
           "Degree",
           "Bachelor of Science in Hotel Administration (Hospitality Management)/\r\nUniversity of Nevada, Las Vegas",
           "2015-06-08",
           "HR Assistant",
           "6th",
           "2019-03-08",
           "Part-Time",
           "Individual",
           107,
           "Bank Transfer",
           5803,
           2.8,
           "L",
           183,
           "Master of Business Administration",
           "2 - 3",
           "Human Resources",
           "25 to 40"
          ]
         ],
         "hovertemplate": "Age Group=%{customdata[22]}<br>COMPLETION DATE=%{x}<br>STUDENT ID=%{customdata[0]}<br>SALUTATION=%{customdata[1]}<br>GENDER=%{customdata[2]}<br>NATIONALITY=%{customdata[3]}<br>DOB=%{customdata[4]}<br>HIGHEST QUALIFICATION=%{customdata[5]}<br>NAME OF QUALIFICATION AND INSTITUTION=%{customdata[6]}<br>DATE ATTAINED HIGHEST QUALIFICATION=%{customdata[7]}<br>DESIGNATION=%{customdata[8]}<br>INTAKE NO=%{customdata[9]}<br>COMMENCEMENT DATE=%{customdata[10]}<br>FULL-TIME OR PART-TIME=%{customdata[11]}<br>COURSE FUNDING=%{customdata[12]}<br>REGISTRATION FEE=%{customdata[13]}<br>PAYMENT MODE=%{customdata[14]}<br>COURSE FEE=%{customdata[15]}<br>GPA=%{customdata[16]}<br>CITIZENSHIP_STATUS=%{customdata[17]}<br>date_diff=%{customdata[18]}<br>COURSE=%{customdata[19]}<br>GPA Category=%{customdata[20]}<br>Job Category=%{customdata[21]}<extra></extra>",
         "legendgroup": "25 to 40",
         "marker": {
          "color": "#EF553B"
         },
         "name": "25 to 40",
         "notched": true,
         "offsetgroup": "25 to 40",
         "showlegend": false,
         "type": "box",
         "x": [
          "2021-04-06",
          "2021-06-09",
          "2021-06-09",
          "2021-06-09",
          "2021-10-05",
          "2021-11-30",
          "2021-11-30",
          "2021-11-30",
          "2022-02-02",
          "2022-02-02",
          "2022-02-02",
          "2020-04-07",
          "2020-04-07",
          "2020-08-06",
          "2020-08-06",
          "2020-10-08",
          "2020-10-08",
          "2020-10-08",
          "2020-10-08",
          "2020-10-08",
          "2020-10-08",
          "2020-10-08",
          "2020-10-08",
          "2020-10-08",
          "2020-12-09",
          "2020-12-09",
          "2021-02-04",
          "2021-03-05",
          "2021-06-23",
          "2021-06-23",
          "2021-06-23",
          "2021-06-23",
          "2021-06-23",
          "2021-08-13",
          "2021-08-13",
          "2021-08-13",
          "2019-12-03",
          "2019-12-03",
          "2020-01-23",
          "2020-01-23",
          "2020-05-04",
          "2020-05-04",
          "2020-05-04",
          "2019-11-25",
          "2019-11-25",
          "2019-11-25",
          "2019-11-25",
          "2019-11-25",
          "2020-09-21",
          "2020-09-21",
          "2020-09-21",
          "2020-09-21",
          "2020-09-21",
          "2020-09-21",
          "2020-09-21",
          "2020-09-21",
          "2020-11-20",
          "2020-11-20",
          "2020-11-20",
          "2020-11-20",
          "2020-11-20",
          "2020-11-23",
          "2020-11-23",
          "2020-11-23",
          "2020-11-23",
          "2020-11-23",
          "2020-11-23",
          "2020-11-23",
          "2020-11-23",
          "2020-11-23",
          "2020-11-23",
          "2020-11-23",
          "2020-11-23",
          "2019-04-15",
          "2019-04-15",
          "2019-05-07",
          "2019-05-07",
          "2019-05-07",
          "2019-05-07",
          "2019-05-07",
          "2019-05-07",
          "2019-05-07",
          "2019-05-07",
          "2019-05-07",
          "2019-09-20",
          "2019-09-20",
          "2019-09-20",
          "2019-09-20",
          "2019-09-20",
          "2019-09-20",
          "2019-09-20",
          "2019-09-20",
          "2019-09-20",
          "2019-09-20",
          "2019-09-20",
          "2019-11-22",
          "2019-11-22",
          "2019-11-22",
          "2020-01-17",
          "2020-01-17",
          "2020-01-17",
          "2020-01-17",
          "2020-01-17",
          "2021-04-29",
          "2021-04-29",
          "2021-04-29",
          "2021-04-29",
          "2021-02-20",
          "2021-02-20",
          "2021-02-20",
          "2020-09-19",
          "2020-09-19",
          "2020-07-09",
          "2020-07-09",
          "2020-03-19",
          "2020-03-19",
          "2020-03-19",
          "2020-01-04",
          "2020-01-04",
          "2019-09-07",
          "2019-09-07",
          "2019-07-03",
          "2021-04-29",
          "2021-02-20",
          "2021-02-20",
          "2021-02-20",
          "2021-02-20",
          "2020-09-19",
          "2020-09-19",
          "2020-07-09",
          "2020-07-09",
          "2020-07-09",
          "2020-07-09",
          "2020-03-19",
          "2020-01-04",
          "2019-09-07"
         ],
         "xaxis": "x2",
         "yaxis": "y2"
        },
        {
         "alignmentgroup": "True",
         "bingroup": "x",
         "histfunc": "sum",
         "hovertemplate": "Age Group=Below 25<br>COMPLETION DATE=%{x}<br>sum of Age=%{y}<extra></extra>",
         "legendgroup": "Below 25",
         "marker": {
          "color": "#00cc96",
          "pattern": {
           "shape": ""
          }
         },
         "name": "Below 25",
         "offsetgroup": "Below 25",
         "orientation": "v",
         "showlegend": true,
         "type": "histogram",
         "x": [
          "2021-06-23",
          "2020-01-23",
          "2020-01-23",
          "2020-01-23",
          "2019-11-25",
          "2019-11-25",
          "2020-11-23",
          "2020-11-23",
          "2021-04-29"
         ],
         "xaxis": "x",
         "y": [
          22,
          24,
          25,
          22,
          25,
          25,
          24,
          25,
          25
         ],
         "yaxis": "y"
        },
        {
         "alignmentgroup": "True",
         "customdata": [
          [
           "2020/2101-111/007",
           "Ms",
           "F",
           "Singaporean",
           "2001-11-12",
           "Certificate",
           "Nitec in Electronics, Computer Networking & Communications, ITE",
           "2019-06-28",
           "HR Intern",
           "111th",
           "2020-09-28",
           "Part-Time",
           "Individual",
           107,
           "GIRO",
           1996,
           3.3,
           "L",
           268,
           "Certificate in HR Management",
           "3 - 3.5",
           "Human Resources",
           "Below 25"
          ],
          [
           "2019/2101-107/004",
           "Ms",
           "F",
           "Singaporean",
           "1999-09-28",
           "Certificate",
           "Higher Nitec in Hospitality Operations, ITE",
           "2017-09-24",
           "Admin Executive",
           "107th",
           "2019-04-24",
           "Part-Time",
           "Individual",
           107,
           "NETS",
           2996,
           3.3,
           "L",
           274,
           "Certificate in HR Management",
           "3 - 3.5",
           "Administration",
           "Below 25"
          ],
          [
           "2019/2101-107/007",
           "Ms",
           "F",
           "Singaporean",
           "1999-05-24",
           "Certificate",
           "O' levels",
           "2018-04-24",
           "No Designation",
           "107th",
           "2019-04-24",
           "Part-Time",
           "Individual",
           107,
           "GIRO",
           2996,
           3,
           "L",
           274,
           "Certificate in HR Management",
           "3 - 3.5",
           "Others",
           "Below 25"
          ],
          [
           "2019/2101-107/008",
           "Ms",
           "F",
           "Singaporean",
           "2001-12-04",
           "Certificate",
           "O' levels",
           "2015-05-24",
           "No Designation",
           "107th",
           "2019-04-24",
           "Part-Time",
           "Individual",
           107,
           "NETS",
           2996,
           2.8,
           "L",
           274,
           "Certificate in HR Management",
           "2 - 3",
           "Others",
           "Below 25"
          ],
          [
           "2019/2101-109/018",
           "Mr",
           "M",
           "Singaporean",
           "1998-10-10",
           "Certificate",
           "O' level",
           "2017-10-25",
           "Service Crew",
           "109th",
           "2019-09-28",
           "Part-Time",
           "Individual",
           107,
           "Bank Transfer",
           2996,
           2.7,
           "L",
           58,
           "Certificate in HR Management",
           "2 - 3",
           "Customer Service and Sales",
           "Below 25"
          ],
          [
           "2019/2101-109/023",
           "Ms",
           "F",
           "Foreigner",
           "1998-11-05",
           "Certificate",
           "SPM",
           "2017-02-25",
           "PR Officer",
           "109th",
           "2019-09-28",
           "Part-Time",
           "Individual",
           107,
           "Bank Transfer",
           2996,
           3.2,
           "F",
           58,
           "Certificate in HR Management",
           "3 - 3.5",
           "Administration",
           "Below 25"
          ],
          [
           "2020/2102-070/023",
           "Ms",
           "F",
           "Foreigner",
           "2000-05-12",
           "Certificate",
           "SPM",
           "2017-10-23",
           "Admin Asst",
           "70th",
           "2020-01-22",
           "Part-Time",
           "Sponsored",
           107,
           "Bank Transfer",
           1388,
           3.1,
           "F",
           306,
           "Certificate in Digital Marketing",
           "3 - 3.5",
           "Administration",
           "Below 25"
          ],
          [
           "2020/2102-070/033",
           "Ms",
           "F",
           "Foreigner",
           "1998-12-28",
           "Certificate",
           "SPM",
           "2017-11-23",
           "Receptionist",
           "70th",
           "2020-01-22",
           "Part-Time",
           "Sponsored",
           107,
           "Bank Transfer",
           1495,
           2.4,
           "F",
           306,
           "Certificate in Digital Marketing",
           "2 - 3",
           "Administration",
           "Below 25"
          ],
          [
           "2020/5113-012/018",
           "Ms",
           "F",
           "Foreigner",
           "1998-11-28",
           "Degree",
           "Bachelor of Arts with Honours (Distinction) in Global Studies/\r\nNational University of Singapore",
           "2019-11-30",
           "Management Associate",
           "12th",
           "2020-10-30",
           "Part-Time",
           "Individual",
           107,
           "Bank Transfer",
           5803,
           4,
           "F",
           181,
           "Master of Business Administration",
           "More Than 3.5",
           "Others",
           "Below 25"
          ]
         ],
         "hovertemplate": "Age Group=%{customdata[22]}<br>COMPLETION DATE=%{x}<br>STUDENT ID=%{customdata[0]}<br>SALUTATION=%{customdata[1]}<br>GENDER=%{customdata[2]}<br>NATIONALITY=%{customdata[3]}<br>DOB=%{customdata[4]}<br>HIGHEST QUALIFICATION=%{customdata[5]}<br>NAME OF QUALIFICATION AND INSTITUTION=%{customdata[6]}<br>DATE ATTAINED HIGHEST QUALIFICATION=%{customdata[7]}<br>DESIGNATION=%{customdata[8]}<br>INTAKE NO=%{customdata[9]}<br>COMMENCEMENT DATE=%{customdata[10]}<br>FULL-TIME OR PART-TIME=%{customdata[11]}<br>COURSE FUNDING=%{customdata[12]}<br>REGISTRATION FEE=%{customdata[13]}<br>PAYMENT MODE=%{customdata[14]}<br>COURSE FEE=%{customdata[15]}<br>GPA=%{customdata[16]}<br>CITIZENSHIP_STATUS=%{customdata[17]}<br>date_diff=%{customdata[18]}<br>COURSE=%{customdata[19]}<br>GPA Category=%{customdata[20]}<br>Job Category=%{customdata[21]}<extra></extra>",
         "legendgroup": "Below 25",
         "marker": {
          "color": "#00cc96"
         },
         "name": "Below 25",
         "notched": true,
         "offsetgroup": "Below 25",
         "showlegend": false,
         "type": "box",
         "x": [
          "2021-06-23",
          "2020-01-23",
          "2020-01-23",
          "2020-01-23",
          "2019-11-25",
          "2019-11-25",
          "2020-11-23",
          "2020-11-23",
          "2021-04-29"
         ],
         "xaxis": "x2",
         "yaxis": "y2"
        }
       ],
       "layout": {
        "barmode": "relative",
        "legend": {
         "title": {
          "text": "Age Group"
         },
         "tracegroupgap": 0
        },
        "margin": {
         "t": 60
        },
        "template": {
         "data": {
          "bar": [
           {
            "error_x": {
             "color": "#2a3f5f"
            },
            "error_y": {
             "color": "#2a3f5f"
            },
            "marker": {
             "line": {
              "color": "#E5ECF6",
              "width": 0.5
             },
             "pattern": {
              "fillmode": "overlay",
              "size": 10,
              "solidity": 0.2
             }
            },
            "type": "bar"
           }
          ],
          "barpolar": [
           {
            "marker": {
             "line": {
              "color": "#E5ECF6",
              "width": 0.5
             },
             "pattern": {
              "fillmode": "overlay",
              "size": 10,
              "solidity": 0.2
             }
            },
            "type": "barpolar"
           }
          ],
          "carpet": [
           {
            "aaxis": {
             "endlinecolor": "#2a3f5f",
             "gridcolor": "white",
             "linecolor": "white",
             "minorgridcolor": "white",
             "startlinecolor": "#2a3f5f"
            },
            "baxis": {
             "endlinecolor": "#2a3f5f",
             "gridcolor": "white",
             "linecolor": "white",
             "minorgridcolor": "white",
             "startlinecolor": "#2a3f5f"
            },
            "type": "carpet"
           }
          ],
          "choropleth": [
           {
            "colorbar": {
             "outlinewidth": 0,
             "ticks": ""
            },
            "type": "choropleth"
           }
          ],
          "contour": [
           {
            "colorbar": {
             "outlinewidth": 0,
             "ticks": ""
            },
            "colorscale": [
             [
              0,
              "#0d0887"
             ],
             [
              0.1111111111111111,
              "#46039f"
             ],
             [
              0.2222222222222222,
              "#7201a8"
             ],
             [
              0.3333333333333333,
              "#9c179e"
             ],
             [
              0.4444444444444444,
              "#bd3786"
             ],
             [
              0.5555555555555556,
              "#d8576b"
             ],
             [
              0.6666666666666666,
              "#ed7953"
             ],
             [
              0.7777777777777778,
              "#fb9f3a"
             ],
             [
              0.8888888888888888,
              "#fdca26"
             ],
             [
              1,
              "#f0f921"
             ]
            ],
            "type": "contour"
           }
          ],
          "contourcarpet": [
           {
            "colorbar": {
             "outlinewidth": 0,
             "ticks": ""
            },
            "type": "contourcarpet"
           }
          ],
          "heatmap": [
           {
            "colorbar": {
             "outlinewidth": 0,
             "ticks": ""
            },
            "colorscale": [
             [
              0,
              "#0d0887"
             ],
             [
              0.1111111111111111,
              "#46039f"
             ],
             [
              0.2222222222222222,
              "#7201a8"
             ],
             [
              0.3333333333333333,
              "#9c179e"
             ],
             [
              0.4444444444444444,
              "#bd3786"
             ],
             [
              0.5555555555555556,
              "#d8576b"
             ],
             [
              0.6666666666666666,
              "#ed7953"
             ],
             [
              0.7777777777777778,
              "#fb9f3a"
             ],
             [
              0.8888888888888888,
              "#fdca26"
             ],
             [
              1,
              "#f0f921"
             ]
            ],
            "type": "heatmap"
           }
          ],
          "heatmapgl": [
           {
            "colorbar": {
             "outlinewidth": 0,
             "ticks": ""
            },
            "colorscale": [
             [
              0,
              "#0d0887"
             ],
             [
              0.1111111111111111,
              "#46039f"
             ],
             [
              0.2222222222222222,
              "#7201a8"
             ],
             [
              0.3333333333333333,
              "#9c179e"
             ],
             [
              0.4444444444444444,
              "#bd3786"
             ],
             [
              0.5555555555555556,
              "#d8576b"
             ],
             [
              0.6666666666666666,
              "#ed7953"
             ],
             [
              0.7777777777777778,
              "#fb9f3a"
             ],
             [
              0.8888888888888888,
              "#fdca26"
             ],
             [
              1,
              "#f0f921"
             ]
            ],
            "type": "heatmapgl"
           }
          ],
          "histogram": [
           {
            "marker": {
             "pattern": {
              "fillmode": "overlay",
              "size": 10,
              "solidity": 0.2
             }
            },
            "type": "histogram"
           }
          ],
          "histogram2d": [
           {
            "colorbar": {
             "outlinewidth": 0,
             "ticks": ""
            },
            "colorscale": [
             [
              0,
              "#0d0887"
             ],
             [
              0.1111111111111111,
              "#46039f"
             ],
             [
              0.2222222222222222,
              "#7201a8"
             ],
             [
              0.3333333333333333,
              "#9c179e"
             ],
             [
              0.4444444444444444,
              "#bd3786"
             ],
             [
              0.5555555555555556,
              "#d8576b"
             ],
             [
              0.6666666666666666,
              "#ed7953"
             ],
             [
              0.7777777777777778,
              "#fb9f3a"
             ],
             [
              0.8888888888888888,
              "#fdca26"
             ],
             [
              1,
              "#f0f921"
             ]
            ],
            "type": "histogram2d"
           }
          ],
          "histogram2dcontour": [
           {
            "colorbar": {
             "outlinewidth": 0,
             "ticks": ""
            },
            "colorscale": [
             [
              0,
              "#0d0887"
             ],
             [
              0.1111111111111111,
              "#46039f"
             ],
             [
              0.2222222222222222,
              "#7201a8"
             ],
             [
              0.3333333333333333,
              "#9c179e"
             ],
             [
              0.4444444444444444,
              "#bd3786"
             ],
             [
              0.5555555555555556,
              "#d8576b"
             ],
             [
              0.6666666666666666,
              "#ed7953"
             ],
             [
              0.7777777777777778,
              "#fb9f3a"
             ],
             [
              0.8888888888888888,
              "#fdca26"
             ],
             [
              1,
              "#f0f921"
             ]
            ],
            "type": "histogram2dcontour"
           }
          ],
          "mesh3d": [
           {
            "colorbar": {
             "outlinewidth": 0,
             "ticks": ""
            },
            "type": "mesh3d"
           }
          ],
          "parcoords": [
           {
            "line": {
             "colorbar": {
              "outlinewidth": 0,
              "ticks": ""
             }
            },
            "type": "parcoords"
           }
          ],
          "pie": [
           {
            "automargin": true,
            "type": "pie"
           }
          ],
          "scatter": [
           {
            "fillpattern": {
             "fillmode": "overlay",
             "size": 10,
             "solidity": 0.2
            },
            "type": "scatter"
           }
          ],
          "scatter3d": [
           {
            "line": {
             "colorbar": {
              "outlinewidth": 0,
              "ticks": ""
             }
            },
            "marker": {
             "colorbar": {
              "outlinewidth": 0,
              "ticks": ""
             }
            },
            "type": "scatter3d"
           }
          ],
          "scattercarpet": [
           {
            "marker": {
             "colorbar": {
              "outlinewidth": 0,
              "ticks": ""
             }
            },
            "type": "scattercarpet"
           }
          ],
          "scattergeo": [
           {
            "marker": {
             "colorbar": {
              "outlinewidth": 0,
              "ticks": ""
             }
            },
            "type": "scattergeo"
           }
          ],
          "scattergl": [
           {
            "marker": {
             "colorbar": {
              "outlinewidth": 0,
              "ticks": ""
             }
            },
            "type": "scattergl"
           }
          ],
          "scattermapbox": [
           {
            "marker": {
             "colorbar": {
              "outlinewidth": 0,
              "ticks": ""
             }
            },
            "type": "scattermapbox"
           }
          ],
          "scatterpolar": [
           {
            "marker": {
             "colorbar": {
              "outlinewidth": 0,
              "ticks": ""
             }
            },
            "type": "scatterpolar"
           }
          ],
          "scatterpolargl": [
           {
            "marker": {
             "colorbar": {
              "outlinewidth": 0,
              "ticks": ""
             }
            },
            "type": "scatterpolargl"
           }
          ],
          "scatterternary": [
           {
            "marker": {
             "colorbar": {
              "outlinewidth": 0,
              "ticks": ""
             }
            },
            "type": "scatterternary"
           }
          ],
          "surface": [
           {
            "colorbar": {
             "outlinewidth": 0,
             "ticks": ""
            },
            "colorscale": [
             [
              0,
              "#0d0887"
             ],
             [
              0.1111111111111111,
              "#46039f"
             ],
             [
              0.2222222222222222,
              "#7201a8"
             ],
             [
              0.3333333333333333,
              "#9c179e"
             ],
             [
              0.4444444444444444,
              "#bd3786"
             ],
             [
              0.5555555555555556,
              "#d8576b"
             ],
             [
              0.6666666666666666,
              "#ed7953"
             ],
             [
              0.7777777777777778,
              "#fb9f3a"
             ],
             [
              0.8888888888888888,
              "#fdca26"
             ],
             [
              1,
              "#f0f921"
             ]
            ],
            "type": "surface"
           }
          ],
          "table": [
           {
            "cells": {
             "fill": {
              "color": "#EBF0F8"
             },
             "line": {
              "color": "white"
             }
            },
            "header": {
             "fill": {
              "color": "#C8D4E3"
             },
             "line": {
              "color": "white"
             }
            },
            "type": "table"
           }
          ]
         },
         "layout": {
          "annotationdefaults": {
           "arrowcolor": "#2a3f5f",
           "arrowhead": 0,
           "arrowwidth": 1
          },
          "autotypenumbers": "strict",
          "coloraxis": {
           "colorbar": {
            "outlinewidth": 0,
            "ticks": ""
           }
          },
          "colorscale": {
           "diverging": [
            [
             0,
             "#8e0152"
            ],
            [
             0.1,
             "#c51b7d"
            ],
            [
             0.2,
             "#de77ae"
            ],
            [
             0.3,
             "#f1b6da"
            ],
            [
             0.4,
             "#fde0ef"
            ],
            [
             0.5,
             "#f7f7f7"
            ],
            [
             0.6,
             "#e6f5d0"
            ],
            [
             0.7,
             "#b8e186"
            ],
            [
             0.8,
             "#7fbc41"
            ],
            [
             0.9,
             "#4d9221"
            ],
            [
             1,
             "#276419"
            ]
           ],
           "sequential": [
            [
             0,
             "#0d0887"
            ],
            [
             0.1111111111111111,
             "#46039f"
            ],
            [
             0.2222222222222222,
             "#7201a8"
            ],
            [
             0.3333333333333333,
             "#9c179e"
            ],
            [
             0.4444444444444444,
             "#bd3786"
            ],
            [
             0.5555555555555556,
             "#d8576b"
            ],
            [
             0.6666666666666666,
             "#ed7953"
            ],
            [
             0.7777777777777778,
             "#fb9f3a"
            ],
            [
             0.8888888888888888,
             "#fdca26"
            ],
            [
             1,
             "#f0f921"
            ]
           ],
           "sequentialminus": [
            [
             0,
             "#0d0887"
            ],
            [
             0.1111111111111111,
             "#46039f"
            ],
            [
             0.2222222222222222,
             "#7201a8"
            ],
            [
             0.3333333333333333,
             "#9c179e"
            ],
            [
             0.4444444444444444,
             "#bd3786"
            ],
            [
             0.5555555555555556,
             "#d8576b"
            ],
            [
             0.6666666666666666,
             "#ed7953"
            ],
            [
             0.7777777777777778,
             "#fb9f3a"
            ],
            [
             0.8888888888888888,
             "#fdca26"
            ],
            [
             1,
             "#f0f921"
            ]
           ]
          },
          "colorway": [
           "#636efa",
           "#EF553B",
           "#00cc96",
           "#ab63fa",
           "#FFA15A",
           "#19d3f3",
           "#FF6692",
           "#B6E880",
           "#FF97FF",
           "#FECB52"
          ],
          "font": {
           "color": "#2a3f5f"
          },
          "geo": {
           "bgcolor": "white",
           "lakecolor": "white",
           "landcolor": "#E5ECF6",
           "showlakes": true,
           "showland": true,
           "subunitcolor": "white"
          },
          "hoverlabel": {
           "align": "left"
          },
          "hovermode": "closest",
          "mapbox": {
           "style": "light"
          },
          "paper_bgcolor": "white",
          "plot_bgcolor": "#E5ECF6",
          "polar": {
           "angularaxis": {
            "gridcolor": "white",
            "linecolor": "white",
            "ticks": ""
           },
           "bgcolor": "#E5ECF6",
           "radialaxis": {
            "gridcolor": "white",
            "linecolor": "white",
            "ticks": ""
           }
          },
          "scene": {
           "xaxis": {
            "backgroundcolor": "#E5ECF6",
            "gridcolor": "white",
            "gridwidth": 2,
            "linecolor": "white",
            "showbackground": true,
            "ticks": "",
            "zerolinecolor": "white"
           },
           "yaxis": {
            "backgroundcolor": "#E5ECF6",
            "gridcolor": "white",
            "gridwidth": 2,
            "linecolor": "white",
            "showbackground": true,
            "ticks": "",
            "zerolinecolor": "white"
           },
           "zaxis": {
            "backgroundcolor": "#E5ECF6",
            "gridcolor": "white",
            "gridwidth": 2,
            "linecolor": "white",
            "showbackground": true,
            "ticks": "",
            "zerolinecolor": "white"
           }
          },
          "shapedefaults": {
           "line": {
            "color": "#2a3f5f"
           }
          },
          "ternary": {
           "aaxis": {
            "gridcolor": "white",
            "linecolor": "white",
            "ticks": ""
           },
           "baxis": {
            "gridcolor": "white",
            "linecolor": "white",
            "ticks": ""
           },
           "bgcolor": "#E5ECF6",
           "caxis": {
            "gridcolor": "white",
            "linecolor": "white",
            "ticks": ""
           }
          },
          "title": {
           "x": 0.05
          },
          "xaxis": {
           "automargin": true,
           "gridcolor": "white",
           "linecolor": "white",
           "ticks": "",
           "title": {
            "standoff": 15
           },
           "zerolinecolor": "white",
           "zerolinewidth": 2
          },
          "yaxis": {
           "automargin": true,
           "gridcolor": "white",
           "linecolor": "white",
           "ticks": "",
           "title": {
            "standoff": 15
           },
           "zerolinecolor": "white",
           "zerolinewidth": 2
          }
         }
        },
        "xaxis": {
         "anchor": "y",
         "domain": [
          0,
          1
         ],
         "title": {
          "text": "COMPLETION DATE"
         }
        },
        "xaxis2": {
         "anchor": "y2",
         "domain": [
          0,
          1
         ],
         "matches": "x",
         "showgrid": true,
         "showticklabels": false
        },
        "yaxis": {
         "anchor": "x",
         "domain": [
          0,
          0.7326
         ],
         "title": {
          "text": "sum of Age"
         }
        },
        "yaxis2": {
         "anchor": "x2",
         "domain": [
          0.7426,
          1
         ],
         "matches": "y2",
         "showgrid": false,
         "showline": false,
         "showticklabels": false,
         "ticks": ""
        }
       }
      }
     },
     "metadata": {},
     "output_type": "display_data"
    }
   ],
   "source": [
    "import plotly.express as px\n",
    "fig = px.histogram(df, x=\"COMPLETION DATE\", y=\"Age\", color=\"Age Group\",\n",
    "                   marginal=\"box\", # or violin, rug\n",
    "                   hover_data=df.columns)\n",
    "fig.show()\n"
   ]
  },
  {
   "cell_type": "code",
   "execution_count": 602,
   "metadata": {},
   "outputs": [
    {
     "data": {
      "text/html": [
       "\n",
       "        <iframe\n",
       "            width=\"100%\"\n",
       "            height=\"650\"\n",
       "            src=\"http://127.0.0.1:9000/\"\n",
       "            frameborder=\"0\"\n",
       "            allowfullscreen\n",
       "            \n",
       "        ></iframe>\n",
       "        "
      ],
      "text/plain": [
       "<IPython.lib.display.IFrame at 0x296590e4d90>"
      ]
     },
     "metadata": {},
     "output_type": "display_data"
    }
   ],
   "source": [
    "import dash\n",
    "import dash_bootstrap_components as dbc\n",
    "from dash import dcc, html\n",
    "from dash.dependencies import Input, Output\n",
    "import plotly.graph_objects as go\n",
    "import pandas as pd\n",
    "import numpy as np\n",
    "app = dash.Dash(__name__, external_stylesheets=[dbc.themes.FLATLY])\n",
    "\n",
    "colors = {\n",
    "    'background': '#f8f9fa',\n",
    "    'text': '#2c3e50',\n",
    "    'primary': '#3498db',\n",
    "    'secondary': '#2ecc71',\n",
    "    'accent': '#e74c3c'\n",
    "}\n",
    "\n",
    "# Assume df is your DataFrame\n",
    "# Make sure to load your data into df before this point\n",
    "\n",
    "def wrap_text_every_second_space(text):\n",
    "    words = text.split(' ')\n",
    "    return ' '.join([f'{words[i]} {words[i+1]}<br>' if i+1 < len(words) else words[i] for i in range(0, len(words), 2)]).strip()\n",
    "\n",
    "def wrap_text_every_second_space_2(text):\n",
    "    words = text.split()\n",
    "    return '<br>'.join(words)\n",
    "\n",
    "def create_heatmap(df, x_axis, y_axis, title_suffix=''):\n",
    "    heatmap_data = pd.crosstab(df[y_axis], df[x_axis])\n",
    "    fig_heatmap = go.Figure(data=go.Heatmap(\n",
    "        z=heatmap_data.values,\n",
    "        x=heatmap_data.columns,\n",
    "        y=heatmap_data.index,\n",
    "        colorscale='Blues',\n",
    "        text=heatmap_data.values,\n",
    "        texttemplate='%{text}',\n",
    "        colorbar=dict(title='Count')\n",
    "    ))\n",
    "\n",
    "    fig_heatmap.update_layout(\n",
    "        title=dict(text=f'{y_axis} vs {x_axis} {title_suffix}', x=0.5, xanchor='center', yanchor='top'),\n",
    "        xaxis_title=x_axis,\n",
    "        yaxis_title=y_axis,\n",
    "        xaxis=dict(\n",
    "            tickmode='array',\n",
    "            tickvals=list(range(len(heatmap_data.columns))),\n",
    "            ticktext=[wrap_text_every_second_space(label) for label in heatmap_data.columns],\n",
    "            tickangle=0\n",
    "        ),\n",
    "        plot_bgcolor='#ffffff',\n",
    "        paper_bgcolor='#ffffff',\n",
    "        font_color='#000000',\n",
    "        title_font_size=12,\n",
    "        legend_title_font_size=14,\n",
    "        legend_font_size=12,\n",
    "        margin=dict(l=40, r=40, t=40, b=40),\n",
    "        height=400\n",
    "    )\n",
    "\n",
    "    return fig_heatmap\n",
    "    \n",
    "def create_age_distribution_pie(df):\n",
    "    age_counts = df['COURSE FUNDING'].value_counts()\n",
    "    blue_colors = px.colors.sequential.Blues[::-2]  # Reverse the color scale\n",
    "    fig = go.Figure(data=[go.Pie(\n",
    "        labels=age_counts.index, \n",
    "        values=age_counts.values, \n",
    "        hole=0.4,\n",
    "        marker=dict(colors=blue_colors)\n",
    "    )])\n",
    "    fig.update_layout(\n",
    "        legend=dict(\n",
    "            orientation=\"h\",\n",
    "            yanchor=\"top\",\n",
    "            y=0.001,\n",
    "            xanchor=\"center\",\n",
    "            x=0.5,\n",
    "            font=dict(size=12)\n",
    "        ),\n",
    "        margin=dict(l=20, r=20, t=0, b=20),\n",
    "        height=400,\n",
    "        autosize=True\n",
    "    )\n",
    "    return fig\n",
    "\n",
    "def create_nationality_histogram(df):\n",
    "    # Calculate the total counts per COURSE and sort them\n",
    "    total_counts = df['COURSE'].value_counts().reset_index()\n",
    "    total_counts.columns = ['COURSE', 'counts']\n",
    "    total_counts = total_counts.sort_values(by='counts', ascending=False)\n",
    "    \n",
    "    # Assign gradient colors\n",
    "    blue_colors = px.colors.sequential.Blues[::-1]\n",
    "    \n",
    "    # Merge sorted counts back with the original dataframe\n",
    "    df = df.merge(total_counts[['COURSE', 'counts']], on='COURSE')\n",
    "    \n",
    "    # Reorder courses in the dataframe according to sorted counts\n",
    "    df['COURSE'] = pd.Categorical(df['COURSE'], categories=total_counts['COURSE'], ordered=True)\n",
    "    \n",
    "    fig = px.histogram(\n",
    "        df, \n",
    "        x=\"COURSE\",\n",
    "        color='COURSE',\n",
    "        category_orders={'COURSE': total_counts['COURSE'].tolist()},\n",
    "        color_discrete_sequence=blue_colors\n",
    "    )\n",
    "    \n",
    "    fig.update_layout(\n",
    "        showlegend=False,\n",
    "        title=\"Gender Distribution by Course\",\n",
    "        xaxis_title=\"Course\",\n",
    "        yaxis_title=\"Count\",\n",
    "        height=400,\n",
    "        margin=dict(l=40, r=40, t=40, b=40),\n",
    "        plot_bgcolor='#ffffff',\n",
    "        paper_bgcolor='#ffffff',\n",
    "        xaxis=dict(\n",
    "            tickmode='array',\n",
    "            tickvals=list(range(len(df['COURSE'].unique()))),\n",
    "            ticktext=[wrap_text_every_second_space_2(label) for label in df['COURSE'].unique()],\n",
    "            tickangle=0\n",
    "        )\n",
    "    )\n",
    "    \n",
    "    return fig\n",
    "\n",
    "\n",
    "\n",
    "age_groups = df['Age Group'].unique()\n",
    "categorical_columns = df.select_dtypes(include=['object', 'category']).columns.tolist()\n",
    "categorical_columns = [col for col in categorical_columns if col not in [\n",
    "    'STUDENT ID', 'NAME OF QUALIFICATION AND INSTITUTION', 'DATE ATTAINED HIGHEST QUALIFICATION',\n",
    "    'DESIGNATION', 'INTAKE NO', 'COMMENCEMENT DATE', 'FULL-TIME OR PART-TIME', 'COURSE FUNDING',\n",
    "    'PAYMENT MODE', 'DOB', 'COMPLETION DATE', 'SALUTATION', 'HIGHEST QUALIFICATION'\n",
    "]]\n",
    "\n",
    "app.layout = dbc.Container([\n",
    "    dbc.Row([\n",
    "        dbc.Col([\n",
    "            html.H1(\"Rejey DAVI Dashboard\", className=\"display-4 text-primary mb-4\")\n",
    "        ], width=12, className='text-center')\n",
    "    ]),\n",
    "\n",
    "    dbc.Row([\n",
    "        dbc.Col([\n",
    "            dbc.Card([\n",
    "                dbc.CardBody([\n",
    "                    html.H4(\"Filters\", className=\"card-title mb-4\", style={'text-align': 'center','text-decoration': 'underline'}),\n",
    "                    html.H6(\"X axis\", className='text-muted mt-4'),\n",
    "                    dcc.Dropdown(\n",
    "                        id='x-axis',\n",
    "                        options=[{'label': cat, 'value': cat} for cat in categorical_columns],\n",
    "                        value='COURSE',\n",
    "                        style={'color': colors['text']},\n",
    "                        className=\"mb-3\"\n",
    "                    ),\n",
    "                    html.H6(\"Y axis\", className='text-muted mt-4'),\n",
    "                    dcc.Dropdown(\n",
    "                        id='y-axis',\n",
    "                        options=[{'label': cat, 'value': cat} for cat in categorical_columns],\n",
    "                        value='Job Category',\n",
    "                        style={'color': colors['text']},\n",
    "                        className=\"mb-3\"\n",
    "                    ),\n",
    "                    html.H6(\"Job Category\", className=\"text-muted\"),\n",
    "                    dcc.Dropdown(\n",
    "                        id='Job-category',\n",
    "                        options=[{'label': 'All Data', 'value': 'ALL'}] + [{'label': category, 'value': category} for category in df['Job Category'].unique()],\n",
    "                        value='ALL',\n",
    "                        multi=True,\n",
    "                        style={'color': colors['text']},\n",
    "                        className=\"mb-3\"\n",
    "                    ),\n",
    "                    html.H6(\"Nationality\", className='text-muted mt-4'),\n",
    "                    dcc.Dropdown(\n",
    "                        id='radio-buttons',\n",
    "                        options=[{'label': 'All Data', 'value': 'ALL'}] + [{'label': nat, 'value': nat} for nat in df['NATIONALITY'].unique()],\n",
    "                        value='ALL',\n",
    "                        style={'color': colors['text']},\n",
    "                        className=\"mb-3\"\n",
    "                    ),\n",
    "                    html.H6(\"Gender\", className='text-muted mt-4'),\n",
    "                    dbc.RadioItems(\n",
    "                        id='Gender',\n",
    "                        options=[\n",
    "                            {'label': 'All', 'value': 'ALL'},\n",
    "                            {'label': 'Male', 'value': 'M'},\n",
    "                            {'label': 'Female', 'value': 'F'}\n",
    "                        ],\n",
    "                        value='ALL',\n",
    "                        inline=True,\n",
    "                        className=\"mb-3\"\n",
    "                    )\n",
    "                ])\n",
    "            ], className=\"shadow-sm\", style={'border-radius': '10px','height':'95.5%'})\n",
    "        ], width=3),\n",
    "\n",
    "        dbc.Col([\n",
    "            dbc.Card([\n",
    "                dbc.CardBody([\n",
    "                    dcc.Tabs(id='heatmap-tabs', value=age_groups[0], children=[\n",
    "                        dcc.Tab(label=group, value=group) for group in age_groups\n",
    "                    ]),\n",
    "                    html.Div(id='heatmap-container')\n",
    "                ])\n",
    "            ], className=\"mb-4\"),\n",
    "        ], width=9)\n",
    "    ]),\n",
    "\n",
    "    dbc.Row([\n",
    "        dbc.Col([\n",
    "            dbc.Card([\n",
    "                dbc.CardBody([\n",
    "                    html.H4(\"Summary\", className=\"card-title mb-4\", style={'text-align': 'center', 'text-decoration': 'underline','font-weight':'bold'}),\n",
    "                    dbc.Row(\n",
    "                        [\n",
    "                            dbc.Col(html.H5(\"Total Students\", className=\"card-title mb-2\", style={'text-align': 'left','font-weight':'bold'}), width=\"auto\"),\n",
    "                            dbc.Col(html.H6(\n",
    "                                html.H4(id='Total_Students', style={'text-align': 'right'})\n",
    "                            ), width=\"auto\", style={'text-align': 'right'})\n",
    "                        ],\n",
    "                        className=\"d-flex justify-content-between\"\n",
    "                    ),\n",
    "                    html.Hr(),\n",
    "                    dbc.Row(\n",
    "                        [\n",
    "                            dbc.Col(html.H5(\"Overall GPA\", className=\"card-title mt-2 mb-2\", style={'text-align': 'left','font-weight':'bold'}), width=\"auto\"),\n",
    "                            dbc.Col(html.H6(\n",
    "                                html.H4(id='Overall_Gpa',className='mt-2', style={'text-align': 'right'})\n",
    "                            ), width=\"auto\", style={'text-align': 'right'})\n",
    "                        ],\n",
    "                        className=\"d-flex justify-content-between\"\n",
    "                    ),\n",
    "                    html.Hr(),\n",
    "                    dbc.Row(\n",
    "                        [\n",
    "                            dbc.Col(html.H5(\"Course\", className=\"card-title mt-2 mb-4\", style={'text-align': 'left','font-weight':'bold'}), width=\"auto\"),\n",
    "                            dbc.Col(html.H5(\"Average GPA\", className=\"card-title mt-2 mb-4\", style={'text-align': 'right','font-weight':'bold'}), width=\"auto\")\n",
    "                        ],\n",
    "                        className=\"d-flex justify-content-between\"\n",
    "                    ),\n",
    "                    *[dbc.Row(\n",
    "                        [\n",
    "                            dbc.Col(html.H6(id=f'{i}-course', style={'text-align': 'left'}),className='mb-2', width=\"auto\"),\n",
    "                            dbc.Col(html.H6(id=f'{i}-gpa', style={'text-align': 'right'}), width=\"auto\",className='mb-2', style={'text-align': 'right'})\n",
    "                        ],\n",
    "                        className=\"d-flex justify-content-between\"\n",
    "                    ) for i in range(1, 6)]\n",
    "                ])\n",
    "            ], className=\"mb-4\")\n",
    "        ], width=3),\n",
    "\n",
    "        dbc.Col([\n",
    "            dbc.Card([\n",
    "                dbc.CardBody([\n",
    "                    html.H5(\"Sponosrship Distribution\", className=\"card-title mb-2\", style={'text-align': 'center', 'text-decoration': 'underline','font-weight':'bold'}),\n",
    "                    dcc.Graph(id='age-distribution-pie', config={'displayModeBar': False})\n",
    "                ])\n",
    "            ], className=\"mb-3\", style={'height': '95.5%'})\n",
    "        ], width=3),\n",
    "\n",
    "        dbc.Col([\n",
    "            dbc.Card([\n",
    "                dbc.CardBody([\n",
    "                    html.H5(\"Distribution in Courses\", className=\"card-title mb-2\", style={'text-align': 'center', 'text-decoration': 'underline','font-weight':'bold'}),\n",
    "                    dcc.Graph(id='nationality-histogram')\n",
    "                ])\n",
    "            ], className=\"mb-3\")\n",
    "        ], width=6)\n",
    "    ])\n",
    "], fluid=True)\n",
    "\n",
    "@app.callback(\n",
    "    Output('heatmap-container', 'children'),\n",
    "    [Output(f'{i}-gpa', 'children') for i in range(1, 6)],\n",
    "    [Output(f'{i}-course', 'children') for i in range(1, 6)],\n",
    "    Output('Total_Students', 'children'),\n",
    "    Output('Overall_Gpa', 'children'),\n",
    "    Output('age-distribution-pie', 'figure'),\n",
    "    Output('nationality-histogram', 'figure'),\n",
    "    Input('radio-buttons', 'value'),\n",
    "    Input('Job-category', 'value'),\n",
    "    Input('Gender', 'value'),\n",
    "    Input('heatmap-tabs', 'value'),\n",
    "    Input('x-axis', 'value'),\n",
    "    Input('y-axis', 'value')\n",
    ")\n",
    "def update_graphs(selected_nationality, selected_job_categories, selected_gender, selected_tab, x_axis, y_axis):\n",
    "    filtered_df = df\n",
    "\n",
    "    filtered_df = filtered_df[filtered_df['Age Group'] == selected_tab]\n",
    "\n",
    "    if selected_nationality != 'ALL':\n",
    "        filtered_df = filtered_df[filtered_df['NATIONALITY'] == selected_nationality]\n",
    "    \n",
    "    if selected_job_categories != 'ALL':\n",
    "        filtered_df = filtered_df[filtered_df['Job Category'].isin(selected_job_categories)]\n",
    "        \n",
    "    if selected_gender != 'ALL':\n",
    "        filtered_df = filtered_df[filtered_df['GENDER'] == selected_gender]\n",
    "    \n",
    "    fig_heatmap = create_heatmap(filtered_df, x_axis, y_axis, f'(Age Group {selected_tab})')\n",
    "    fig_age_distribution = create_age_distribution_pie(filtered_df)\n",
    "    fig_nationality_histogram = create_nationality_histogram(filtered_df)\n",
    "\n",
    "    gpa_values = []\n",
    "    courses = list(short_forms_code.values())\n",
    "    for course in courses:\n",
    "        gpa = round(filtered_df.loc[filtered_df['COURSE'] == course, 'GPA'].mean(), 2)\n",
    "        gpa_values.append(gpa if pd.notna(gpa) else \"N/A\")\n",
    "\n",
    "    # Find the highest and lowest GPAs\n",
    "    numeric_gpas = [gpa for gpa in gpa_values if isinstance(gpa, (int, float))]\n",
    "    max_gpa = max(numeric_gpas) if numeric_gpas else None\n",
    "    min_gpa = min(numeric_gpas) if numeric_gpas else None\n",
    "\n",
    "    # Create styled GPA and course outputs\n",
    "    styled_gpas = []\n",
    "    styled_courses = []\n",
    "    for gpa, course in zip(gpa_values, courses):\n",
    "        if gpa == \"N/A\":\n",
    "            styled_gpas.append(html.Span(\"N/A\"))\n",
    "            styled_courses.append(html.Span(course))\n",
    "        elif gpa == max_gpa:\n",
    "            style = {'color': 'green', 'font-weight': 'bold'}\n",
    "            styled_gpas.append(html.Span(gpa, style=style))\n",
    "            styled_courses.append(html.Span(course, style=style))\n",
    "        elif gpa == min_gpa:\n",
    "            style = {'color': 'red', 'font-weight': 'bold'}\n",
    "            styled_gpas.append(html.Span(gpa, style=style))\n",
    "            styled_courses.append(html.Span(course, style=style))\n",
    "        else:\n",
    "            styled_gpas.append(html.Span(gpa))\n",
    "            styled_courses.append(html.Span(course))\n",
    "\n",
    "    Total_Students = filtered_df.shape[0]\n",
    "    \n",
    "    Overall_Gpa = round(filtered_df['GPA'].mean(), 2)\n",
    "    \n",
    "    return (\n",
    "        dcc.Graph(id='heatmap-graph', figure=fig_heatmap),\n",
    "        *styled_gpas,\n",
    "        *styled_courses,\n",
    "        Total_Students,\n",
    "        Overall_Gpa,\n",
    "        fig_age_distribution,\n",
    "        fig_nationality_histogram\n",
    "    )\n",
    "\n",
    "if __name__ == '__main__':\n",
    "    app.run_server(port=9000)"
   ]
  },
  {
   "cell_type": "code",
   "execution_count": null,
   "metadata": {},
   "outputs": [],
   "source": []
  }
 ],
 "metadata": {
  "kernelspec": {
   "display_name": "gpu_env",
   "language": "python",
   "name": "python3"
  },
  "language_info": {
   "codemirror_mode": {
    "name": "ipython",
    "version": 3
   },
   "file_extension": ".py",
   "mimetype": "text/x-python",
   "name": "python",
   "nbconvert_exporter": "python",
   "pygments_lexer": "ipython3",
   "version": "3.8.19"
  }
 },
 "nbformat": 4,
 "nbformat_minor": 2
}
