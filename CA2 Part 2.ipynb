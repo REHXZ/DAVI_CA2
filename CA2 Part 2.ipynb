{
 "cells": [
  {
   "cell_type": "code",
   "execution_count": 57,
   "metadata": {},
   "outputs": [],
   "source": [
    "import dash\n",
    "import dash_bootstrap_components as dbc\n",
    "import dash_core_components as dcc\n",
    "import dash_html_components as html\n",
    "import plotly.express as px\n",
    "from dash.dependencies import Input, Output\n",
    "import pandas as pd\n",
    "import dash_daq as daq\n",
    "\n",
    "\n",
    "# Load the CSV file into a DataFrame\n",
    "df = pd.read_csv('Student Profiles Wrangled.csv')"
   ]
  },
  {
   "cell_type": "code",
   "execution_count": 58,
   "metadata": {},
   "outputs": [],
   "source": [
    "def categorize_gpa(row):\n",
    "    gpa = row['GPA']\n",
    "    if gpa < 1:\n",
    "        return 'Less Than 1'\n",
    "    elif gpa < 2 and gpa >= 1:\n",
    "        return '1 - 2'\n",
    "    elif gpa < 3 and gpa >= 2:\n",
    "        return '2 - 3'\n",
    "    elif gpa < 3.5 and gpa >= 3:\n",
    "        return '3 - 3.5'\n",
    "    else:\n",
    "        return 'More Than 3.5'\n",
    "\n",
    "df['GPA Category'] = df.apply(categorize_gpa, axis=1)"
   ]
  },
  {
   "cell_type": "code",
   "execution_count": 59,
   "metadata": {},
   "outputs": [
    {
     "data": {
      "text/html": [
       "<div>\n",
       "<style scoped>\n",
       "    .dataframe tbody tr th:only-of-type {\n",
       "        vertical-align: middle;\n",
       "    }\n",
       "\n",
       "    .dataframe tbody tr th {\n",
       "        vertical-align: top;\n",
       "    }\n",
       "\n",
       "    .dataframe thead th {\n",
       "        text-align: right;\n",
       "    }\n",
       "</style>\n",
       "<table border=\"1\" class=\"dataframe\">\n",
       "  <thead>\n",
       "    <tr style=\"text-align: right;\">\n",
       "      <th></th>\n",
       "      <th>STUDENT ID</th>\n",
       "      <th>SALUTATION</th>\n",
       "      <th>GENDER</th>\n",
       "      <th>NATIONALITY</th>\n",
       "      <th>DOB</th>\n",
       "      <th>HIGHEST QUALIFICATION</th>\n",
       "      <th>NAME OF QUALIFICATION AND INSTITUTION</th>\n",
       "      <th>DATE ATTAINED HIGHEST QUALIFICATION</th>\n",
       "      <th>DESIGNATION</th>\n",
       "      <th>INTAKE NO</th>\n",
       "      <th>...</th>\n",
       "      <th>COURSE FUNDING</th>\n",
       "      <th>REGISTRATION FEE</th>\n",
       "      <th>PAYMENT MODE</th>\n",
       "      <th>COURSE FEE</th>\n",
       "      <th>GPA</th>\n",
       "      <th>CITIZENSHIP_STATUS</th>\n",
       "      <th>date_diff</th>\n",
       "      <th>COURSE</th>\n",
       "      <th>Age</th>\n",
       "      <th>GPA Category</th>\n",
       "    </tr>\n",
       "  </thead>\n",
       "  <tbody>\n",
       "    <tr>\n",
       "      <th>0</th>\n",
       "      <td>2020/1101-013/001</td>\n",
       "      <td>Ms</td>\n",
       "      <td>F</td>\n",
       "      <td>Singaporean</td>\n",
       "      <td>1978-04-03</td>\n",
       "      <td>Certificate</td>\n",
       "      <td>Certificate in Office Skills, ITE</td>\n",
       "      <td>2016-11-06</td>\n",
       "      <td>Snr Associate, Client Services</td>\n",
       "      <td>13th</td>\n",
       "      <td>...</td>\n",
       "      <td>Subsidiesed</td>\n",
       "      <td>107</td>\n",
       "      <td>NETS</td>\n",
       "      <td>1712</td>\n",
       "      <td>3.0</td>\n",
       "      <td>L</td>\n",
       "      <td>456</td>\n",
       "      <td>1101</td>\n",
       "      <td>46</td>\n",
       "      <td>3 - 3.5</td>\n",
       "    </tr>\n",
       "    <tr>\n",
       "      <th>1</th>\n",
       "      <td>2020/1101-013/002</td>\n",
       "      <td>Ms</td>\n",
       "      <td>F</td>\n",
       "      <td>Singaporean</td>\n",
       "      <td>1966-03-23</td>\n",
       "      <td>Certificate</td>\n",
       "      <td>WSQ Higher Certificate in Human Resources, WPL...</td>\n",
       "      <td>2018-02-06</td>\n",
       "      <td>Admin Officer</td>\n",
       "      <td>13th</td>\n",
       "      <td>...</td>\n",
       "      <td>Individual</td>\n",
       "      <td>107</td>\n",
       "      <td>NETS</td>\n",
       "      <td>1712</td>\n",
       "      <td>2.5</td>\n",
       "      <td>L</td>\n",
       "      <td>456</td>\n",
       "      <td>1101</td>\n",
       "      <td>58</td>\n",
       "      <td>2 - 3</td>\n",
       "    </tr>\n",
       "    <tr>\n",
       "      <th>2</th>\n",
       "      <td>2020/1101-013/003</td>\n",
       "      <td>Ms</td>\n",
       "      <td>F</td>\n",
       "      <td>Singaporean</td>\n",
       "      <td>1988-04-12</td>\n",
       "      <td>Certificate</td>\n",
       "      <td>Nitec in Service Skills (Office), ITE</td>\n",
       "      <td>2016-11-06</td>\n",
       "      <td>Admin Assistant</td>\n",
       "      <td>13th</td>\n",
       "      <td>...</td>\n",
       "      <td>Sponsored</td>\n",
       "      <td>107</td>\n",
       "      <td>Bank Transfer</td>\n",
       "      <td>1712</td>\n",
       "      <td>2.0</td>\n",
       "      <td>L</td>\n",
       "      <td>456</td>\n",
       "      <td>1101</td>\n",
       "      <td>36</td>\n",
       "      <td>2 - 3</td>\n",
       "    </tr>\n",
       "    <tr>\n",
       "      <th>3</th>\n",
       "      <td>2020/1101-014/004</td>\n",
       "      <td>Ms</td>\n",
       "      <td>F</td>\n",
       "      <td>Singaporean</td>\n",
       "      <td>1991-11-27</td>\n",
       "      <td>Degree</td>\n",
       "      <td>Bachelor Science (Facilities &amp; Events Manageme...</td>\n",
       "      <td>2017-06-10</td>\n",
       "      <td>HR Administrator</td>\n",
       "      <td>14th</td>\n",
       "      <td>...</td>\n",
       "      <td>Subsidiesed</td>\n",
       "      <td>107</td>\n",
       "      <td>NETS</td>\n",
       "      <td>1212</td>\n",
       "      <td>2.5</td>\n",
       "      <td>L</td>\n",
       "      <td>456</td>\n",
       "      <td>1101</td>\n",
       "      <td>32</td>\n",
       "      <td>2 - 3</td>\n",
       "    </tr>\n",
       "    <tr>\n",
       "      <th>4</th>\n",
       "      <td>2020/1101-014/005</td>\n",
       "      <td>Ms</td>\n",
       "      <td>F</td>\n",
       "      <td>Singaporean</td>\n",
       "      <td>1985-04-23</td>\n",
       "      <td>Diploma</td>\n",
       "      <td>Diploma in Procurement and Supply Management, ...</td>\n",
       "      <td>2016-08-10</td>\n",
       "      <td>Purchasing Executive</td>\n",
       "      <td>14th</td>\n",
       "      <td>...</td>\n",
       "      <td>Subsidiesed</td>\n",
       "      <td>107</td>\n",
       "      <td>NETS</td>\n",
       "      <td>1712</td>\n",
       "      <td>2.4</td>\n",
       "      <td>L</td>\n",
       "      <td>456</td>\n",
       "      <td>1101</td>\n",
       "      <td>39</td>\n",
       "      <td>2 - 3</td>\n",
       "    </tr>\n",
       "    <tr>\n",
       "      <th>...</th>\n",
       "      <td>...</td>\n",
       "      <td>...</td>\n",
       "      <td>...</td>\n",
       "      <td>...</td>\n",
       "      <td>...</td>\n",
       "      <td>...</td>\n",
       "      <td>...</td>\n",
       "      <td>...</td>\n",
       "      <td>...</td>\n",
       "      <td>...</td>\n",
       "      <td>...</td>\n",
       "      <td>...</td>\n",
       "      <td>...</td>\n",
       "      <td>...</td>\n",
       "      <td>...</td>\n",
       "      <td>...</td>\n",
       "      <td>...</td>\n",
       "      <td>...</td>\n",
       "      <td>...</td>\n",
       "      <td>...</td>\n",
       "      <td>...</td>\n",
       "    </tr>\n",
       "    <tr>\n",
       "      <th>239</th>\n",
       "      <td>2019/5113-007/005</td>\n",
       "      <td>Ms</td>\n",
       "      <td>F</td>\n",
       "      <td>Singaporean</td>\n",
       "      <td>1973-01-10</td>\n",
       "      <td>Degree</td>\n",
       "      <td>Bachelor of Commerce (Accounting and Finance)/...</td>\n",
       "      <td>2017-11-05</td>\n",
       "      <td>Head, Registry &amp; Corp Admin</td>\n",
       "      <td>7th</td>\n",
       "      <td>...</td>\n",
       "      <td>Individual</td>\n",
       "      <td>107</td>\n",
       "      <td>Bank Transfer</td>\n",
       "      <td>5803</td>\n",
       "      <td>2.9</td>\n",
       "      <td>L</td>\n",
       "      <td>183</td>\n",
       "      <td>5113</td>\n",
       "      <td>51</td>\n",
       "      <td>2 - 3</td>\n",
       "    </tr>\n",
       "    <tr>\n",
       "      <th>240</th>\n",
       "      <td>2019/5113-007/006</td>\n",
       "      <td>Ms</td>\n",
       "      <td>F</td>\n",
       "      <td>Permanent Resident</td>\n",
       "      <td>1982-09-30</td>\n",
       "      <td>Degree</td>\n",
       "      <td>Bachelor of Economics (Accounting)/\\r\\nUnivers...</td>\n",
       "      <td>2016-05-05</td>\n",
       "      <td>Finance Officer</td>\n",
       "      <td>7th</td>\n",
       "      <td>...</td>\n",
       "      <td>Individual</td>\n",
       "      <td>107</td>\n",
       "      <td>Bank Transfer</td>\n",
       "      <td>5803</td>\n",
       "      <td>2.0</td>\n",
       "      <td>L</td>\n",
       "      <td>183</td>\n",
       "      <td>5113</td>\n",
       "      <td>41</td>\n",
       "      <td>2 - 3</td>\n",
       "    </tr>\n",
       "    <tr>\n",
       "      <th>241</th>\n",
       "      <td>2019/5113-006/003</td>\n",
       "      <td>Ms</td>\n",
       "      <td>F</td>\n",
       "      <td>Singaporean</td>\n",
       "      <td>1990-06-03</td>\n",
       "      <td>Degree</td>\n",
       "      <td>Bachelor of Science in Hotel Administration (H...</td>\n",
       "      <td>2015-06-08</td>\n",
       "      <td>HR Assistant</td>\n",
       "      <td>6th</td>\n",
       "      <td>...</td>\n",
       "      <td>Individual</td>\n",
       "      <td>107</td>\n",
       "      <td>Bank Transfer</td>\n",
       "      <td>5803</td>\n",
       "      <td>2.8</td>\n",
       "      <td>L</td>\n",
       "      <td>183</td>\n",
       "      <td>5113</td>\n",
       "      <td>34</td>\n",
       "      <td>2 - 3</td>\n",
       "    </tr>\n",
       "    <tr>\n",
       "      <th>242</th>\n",
       "      <td>2019/5113-005/001</td>\n",
       "      <td>Ms</td>\n",
       "      <td>F</td>\n",
       "      <td>Singaporean</td>\n",
       "      <td>1981-11-14</td>\n",
       "      <td>Degree</td>\n",
       "      <td>Bachelor of Arts with Second Class Honours (Lo...</td>\n",
       "      <td>2014-08-04</td>\n",
       "      <td>Household Goods Coordinator</td>\n",
       "      <td>5th</td>\n",
       "      <td>...</td>\n",
       "      <td>Individual</td>\n",
       "      <td>107</td>\n",
       "      <td>Bank Transfer</td>\n",
       "      <td>5803</td>\n",
       "      <td>1.9</td>\n",
       "      <td>L</td>\n",
       "      <td>180</td>\n",
       "      <td>5113</td>\n",
       "      <td>42</td>\n",
       "      <td>1 - 2</td>\n",
       "    </tr>\n",
       "    <tr>\n",
       "      <th>243</th>\n",
       "      <td>2019/5113-005/002</td>\n",
       "      <td>Ms</td>\n",
       "      <td>F</td>\n",
       "      <td>Singaporean</td>\n",
       "      <td>1983-01-28</td>\n",
       "      <td>Degree</td>\n",
       "      <td>Bachelor of Business (Business Administration)...</td>\n",
       "      <td>2016-10-04</td>\n",
       "      <td>Assistant Director, Human Resources</td>\n",
       "      <td>5th</td>\n",
       "      <td>...</td>\n",
       "      <td>Individual</td>\n",
       "      <td>107</td>\n",
       "      <td>Bank Transfer</td>\n",
       "      <td>5803</td>\n",
       "      <td>2.9</td>\n",
       "      <td>L</td>\n",
       "      <td>180</td>\n",
       "      <td>5113</td>\n",
       "      <td>41</td>\n",
       "      <td>2 - 3</td>\n",
       "    </tr>\n",
       "  </tbody>\n",
       "</table>\n",
       "<p>244 rows × 23 columns</p>\n",
       "</div>"
      ],
      "text/plain": [
       "            STUDENT ID SALUTATION GENDER         NATIONALITY         DOB  \\\n",
       "0    2020/1101-013/001         Ms      F         Singaporean  1978-04-03   \n",
       "1    2020/1101-013/002         Ms      F         Singaporean  1966-03-23   \n",
       "2    2020/1101-013/003         Ms      F         Singaporean  1988-04-12   \n",
       "3    2020/1101-014/004         Ms      F         Singaporean  1991-11-27   \n",
       "4    2020/1101-014/005         Ms      F         Singaporean  1985-04-23   \n",
       "..                 ...        ...    ...                 ...         ...   \n",
       "239  2019/5113-007/005         Ms      F         Singaporean  1973-01-10   \n",
       "240  2019/5113-007/006         Ms      F  Permanent Resident  1982-09-30   \n",
       "241  2019/5113-006/003         Ms      F         Singaporean  1990-06-03   \n",
       "242  2019/5113-005/001         Ms      F         Singaporean  1981-11-14   \n",
       "243  2019/5113-005/002         Ms      F         Singaporean  1983-01-28   \n",
       "\n",
       "    HIGHEST QUALIFICATION              NAME OF QUALIFICATION AND INSTITUTION  \\\n",
       "0             Certificate                  Certificate in Office Skills, ITE   \n",
       "1             Certificate  WSQ Higher Certificate in Human Resources, WPL...   \n",
       "2             Certificate              Nitec in Service Skills (Office), ITE   \n",
       "3                  Degree  Bachelor Science (Facilities & Events Manageme...   \n",
       "4                 Diploma  Diploma in Procurement and Supply Management, ...   \n",
       "..                    ...                                                ...   \n",
       "239                Degree  Bachelor of Commerce (Accounting and Finance)/...   \n",
       "240                Degree  Bachelor of Economics (Accounting)/\\r\\nUnivers...   \n",
       "241                Degree  Bachelor of Science in Hotel Administration (H...   \n",
       "242                Degree  Bachelor of Arts with Second Class Honours (Lo...   \n",
       "243                Degree  Bachelor of Business (Business Administration)...   \n",
       "\n",
       "    DATE ATTAINED HIGHEST QUALIFICATION                          DESIGNATION  \\\n",
       "0                            2016-11-06       Snr Associate, Client Services   \n",
       "1                            2018-02-06                        Admin Officer   \n",
       "2                            2016-11-06                      Admin Assistant   \n",
       "3                            2017-06-10                     HR Administrator   \n",
       "4                            2016-08-10                 Purchasing Executive   \n",
       "..                                  ...                                  ...   \n",
       "239                          2017-11-05          Head, Registry & Corp Admin   \n",
       "240                          2016-05-05                      Finance Officer   \n",
       "241                          2015-06-08                         HR Assistant   \n",
       "242                          2014-08-04          Household Goods Coordinator   \n",
       "243                          2016-10-04  Assistant Director, Human Resources   \n",
       "\n",
       "    INTAKE NO  ... COURSE FUNDING REGISTRATION FEE   PAYMENT MODE COURSE FEE  \\\n",
       "0        13th  ...    Subsidiesed              107           NETS       1712   \n",
       "1        13th  ...     Individual              107           NETS       1712   \n",
       "2        13th  ...      Sponsored              107  Bank Transfer       1712   \n",
       "3        14th  ...    Subsidiesed              107           NETS       1212   \n",
       "4        14th  ...    Subsidiesed              107           NETS       1712   \n",
       "..        ...  ...            ...              ...            ...        ...   \n",
       "239       7th  ...     Individual              107  Bank Transfer       5803   \n",
       "240       7th  ...     Individual              107  Bank Transfer       5803   \n",
       "241       6th  ...     Individual              107  Bank Transfer       5803   \n",
       "242       5th  ...     Individual              107  Bank Transfer       5803   \n",
       "243       5th  ...     Individual              107  Bank Transfer       5803   \n",
       "\n",
       "     GPA CITIZENSHIP_STATUS  date_diff  COURSE Age  GPA Category  \n",
       "0    3.0                  L        456    1101  46       3 - 3.5  \n",
       "1    2.5                  L        456    1101  58         2 - 3  \n",
       "2    2.0                  L        456    1101  36         2 - 3  \n",
       "3    2.5                  L        456    1101  32         2 - 3  \n",
       "4    2.4                  L        456    1101  39         2 - 3  \n",
       "..   ...                ...        ...     ...  ..           ...  \n",
       "239  2.9                  L        183    5113  51         2 - 3  \n",
       "240  2.0                  L        183    5113  41         2 - 3  \n",
       "241  2.8                  L        183    5113  34         2 - 3  \n",
       "242  1.9                  L        180    5113  42         1 - 2  \n",
       "243  2.9                  L        180    5113  41         2 - 3  \n",
       "\n",
       "[244 rows x 23 columns]"
      ]
     },
     "execution_count": 59,
     "metadata": {},
     "output_type": "execute_result"
    }
   ],
   "source": [
    "df"
   ]
  },
  {
   "cell_type": "code",
   "execution_count": 60,
   "metadata": {},
   "outputs": [],
   "source": [
    "import pandas as pd\n",
    "import re\n",
    "\n",
    "def categorize_job_title(title):\n",
    "    if pd.isna(title):\n",
    "        return 'Not Specified'\n",
    "    \n",
    "    title = str(title).lower()\n",
    "    \n",
    "    if re.search(r'hr|human resource|recruit|talent|people ops', title):\n",
    "        return 'Human Resources'\n",
    "    elif re.search(r'admin|secretary|receptionist|clerk|office', title):\n",
    "        return 'Administration'\n",
    "    elif re.search(r'manager|director|head|lead|supervisor|vice president', title):\n",
    "        return 'Management'\n",
    "    elif re.search(r'account|finance|payroll', title):\n",
    "        return 'Finance and Accounting'\n",
    "    elif re.search(r'client|sales|service|customer', title):\n",
    "        return 'Customer Service and Sales'\n",
    "    elif re.search(r'operation|logistics|supply|coordinator', title):\n",
    "        return 'Operations and Logistics'\n",
    "    elif re.search(r'market|pr|public relation|brand|communication', title):\n",
    "        return 'Marketing and Public Relations'\n",
    "    elif re.search(r'teacher|lecturer|trainer|education|learning', title):\n",
    "        return 'Education and Training'\n",
    "    elif re.search(r'it|tech|developer|engineer|analyst', title):\n",
    "        return 'Technical and IT'\n",
    "    else:\n",
    "        return 'Others'\n",
    "\n",
    "def add_job_category(df):\n",
    "    df['Job Category'] = df['DESIGNATION'].apply(categorize_job_title)\n",
    "    return df\n",
    "\n",
    "# Assuming your dataframe is called 'df'\n",
    "df = add_job_category(df)"
   ]
  },
  {
   "cell_type": "markdown",
   "metadata": {},
   "source": [
    "# Plotly Sunburst"
   ]
  },
  {
   "cell_type": "code",
   "execution_count": 61,
   "metadata": {},
   "outputs": [
    {
     "data": {
      "application/vnd.plotly.v1+json": {
       "config": {
        "plotlyServerURL": "https://plot.ly"
       },
       "data": [
        {
         "branchvalues": "total",
         "customdata": [
          [
           2.8823529411764706,
           2.736
          ],
          [
           3.0941176470588236,
           2.988235294117647
          ],
          [
           2.709375,
           2.741414141414141
          ],
          [
           2.6333333333333333,
           2.6545454545454543
          ],
          [
           2.8454545454545457,
           2.707692307692308
          ],
          [
           2.6606060606060606,
           2.736
          ],
          [
           2.8823529411764706,
           2.988235294117647
          ],
          [
           2.7567164179104475,
           2.741414141414141
          ],
          [
           2.6625,
           2.6545454545454543
          ],
          [
           2.606666666666667,
           2.707692307692308
          ],
          [
           2.736,
           2.736
          ],
          [
           2.988235294117647,
           2.988235294117647
          ],
          [
           2.741414141414141,
           2.741414141414141
          ],
          [
           2.6545454545454548,
           2.6545454545454543
          ],
          [
           2.707692307692308,
           2.707692307692308
          ]
         ],
         "domain": {
          "x": [
           0,
           1
          ],
          "y": [
           0,
           1
          ]
         },
         "hovertemplate": "<b>%{label}</b><br>Count: %{value}<br>Course GPA: %{customdata[1]:.2f}<br>Age Group GPA: %{customdata[0]:.2f}",
         "ids": [
          "1101/Millenial",
          "2101/Millenial",
          "2102/Millenial",
          "5112/Millenial",
          "5113/Millenial",
          "1101/Middle Aged",
          "2101/Middle Aged",
          "2102/Middle Aged",
          "5112/Middle Aged",
          "5113/Middle Aged",
          "1101",
          "2101",
          "2102",
          "5112",
          "5113"
         ],
         "labels": [
          "Millenial",
          "Millenial",
          "Millenial",
          "Millenial",
          "Millenial",
          "Middle Aged",
          "Middle Aged",
          "Middle Aged",
          "Middle Aged",
          "Middle Aged",
          "1101",
          "2101",
          "2102",
          "5112",
          "5113"
         ],
         "marker": {
          "coloraxis": "coloraxis",
          "colors": [
           2.8823529411764706,
           3.0941176470588236,
           2.709375,
           2.6333333333333333,
           2.8454545454545457,
           2.6606060606060606,
           2.8823529411764706,
           2.7567164179104475,
           2.6625,
           2.606666666666667,
           2.736,
           2.988235294117647,
           2.741414141414141,
           2.6545454545454548,
           2.707692307692308
          ]
         },
         "name": "",
         "parents": [
          "1101",
          "2101",
          "2102",
          "5112",
          "5113",
          "1101",
          "2101",
          "2102",
          "5112",
          "5113",
          "",
          "",
          "",
          "",
          ""
         ],
         "type": "sunburst",
         "values": [
          17,
          17,
          32,
          9,
          11,
          33,
          17,
          67,
          24,
          15,
          50,
          34,
          99,
          33,
          26
         ]
        }
       ],
       "layout": {
        "coloraxis": {
         "colorbar": {
          "title": {
           "text": "Avg_GPA"
          }
         },
         "colorscale": [
          [
           0,
           "#0d0887"
          ],
          [
           0.1111111111111111,
           "#46039f"
          ],
          [
           0.2222222222222222,
           "#7201a8"
          ],
          [
           0.3333333333333333,
           "#9c179e"
          ],
          [
           0.4444444444444444,
           "#bd3786"
          ],
          [
           0.5555555555555556,
           "#d8576b"
          ],
          [
           0.6666666666666666,
           "#ed7953"
          ],
          [
           0.7777777777777778,
           "#fb9f3a"
          ],
          [
           0.8888888888888888,
           "#fdca26"
          ],
          [
           1,
           "#f0f921"
          ]
         ]
        },
        "font": {
         "color": "black",
         "family": "Arial, sans-serif",
         "size": 16
        },
        "legend": {
         "tracegroupgap": 0
        },
        "margin": {
         "b": 10,
         "l": 0,
         "r": 0,
         "t": 40
        },
        "paper_bgcolor": "white",
        "plot_bgcolor": "white",
        "template": {
         "data": {
          "bar": [
           {
            "error_x": {
             "color": "#2a3f5f"
            },
            "error_y": {
             "color": "#2a3f5f"
            },
            "marker": {
             "line": {
              "color": "#E5ECF6",
              "width": 0.5
             },
             "pattern": {
              "fillmode": "overlay",
              "size": 10,
              "solidity": 0.2
             }
            },
            "type": "bar"
           }
          ],
          "barpolar": [
           {
            "marker": {
             "line": {
              "color": "#E5ECF6",
              "width": 0.5
             },
             "pattern": {
              "fillmode": "overlay",
              "size": 10,
              "solidity": 0.2
             }
            },
            "type": "barpolar"
           }
          ],
          "carpet": [
           {
            "aaxis": {
             "endlinecolor": "#2a3f5f",
             "gridcolor": "white",
             "linecolor": "white",
             "minorgridcolor": "white",
             "startlinecolor": "#2a3f5f"
            },
            "baxis": {
             "endlinecolor": "#2a3f5f",
             "gridcolor": "white",
             "linecolor": "white",
             "minorgridcolor": "white",
             "startlinecolor": "#2a3f5f"
            },
            "type": "carpet"
           }
          ],
          "choropleth": [
           {
            "colorbar": {
             "outlinewidth": 0,
             "ticks": ""
            },
            "type": "choropleth"
           }
          ],
          "contour": [
           {
            "colorbar": {
             "outlinewidth": 0,
             "ticks": ""
            },
            "colorscale": [
             [
              0,
              "#0d0887"
             ],
             [
              0.1111111111111111,
              "#46039f"
             ],
             [
              0.2222222222222222,
              "#7201a8"
             ],
             [
              0.3333333333333333,
              "#9c179e"
             ],
             [
              0.4444444444444444,
              "#bd3786"
             ],
             [
              0.5555555555555556,
              "#d8576b"
             ],
             [
              0.6666666666666666,
              "#ed7953"
             ],
             [
              0.7777777777777778,
              "#fb9f3a"
             ],
             [
              0.8888888888888888,
              "#fdca26"
             ],
             [
              1,
              "#f0f921"
             ]
            ],
            "type": "contour"
           }
          ],
          "contourcarpet": [
           {
            "colorbar": {
             "outlinewidth": 0,
             "ticks": ""
            },
            "type": "contourcarpet"
           }
          ],
          "heatmap": [
           {
            "colorbar": {
             "outlinewidth": 0,
             "ticks": ""
            },
            "colorscale": [
             [
              0,
              "#0d0887"
             ],
             [
              0.1111111111111111,
              "#46039f"
             ],
             [
              0.2222222222222222,
              "#7201a8"
             ],
             [
              0.3333333333333333,
              "#9c179e"
             ],
             [
              0.4444444444444444,
              "#bd3786"
             ],
             [
              0.5555555555555556,
              "#d8576b"
             ],
             [
              0.6666666666666666,
              "#ed7953"
             ],
             [
              0.7777777777777778,
              "#fb9f3a"
             ],
             [
              0.8888888888888888,
              "#fdca26"
             ],
             [
              1,
              "#f0f921"
             ]
            ],
            "type": "heatmap"
           }
          ],
          "heatmapgl": [
           {
            "colorbar": {
             "outlinewidth": 0,
             "ticks": ""
            },
            "colorscale": [
             [
              0,
              "#0d0887"
             ],
             [
              0.1111111111111111,
              "#46039f"
             ],
             [
              0.2222222222222222,
              "#7201a8"
             ],
             [
              0.3333333333333333,
              "#9c179e"
             ],
             [
              0.4444444444444444,
              "#bd3786"
             ],
             [
              0.5555555555555556,
              "#d8576b"
             ],
             [
              0.6666666666666666,
              "#ed7953"
             ],
             [
              0.7777777777777778,
              "#fb9f3a"
             ],
             [
              0.8888888888888888,
              "#fdca26"
             ],
             [
              1,
              "#f0f921"
             ]
            ],
            "type": "heatmapgl"
           }
          ],
          "histogram": [
           {
            "marker": {
             "pattern": {
              "fillmode": "overlay",
              "size": 10,
              "solidity": 0.2
             }
            },
            "type": "histogram"
           }
          ],
          "histogram2d": [
           {
            "colorbar": {
             "outlinewidth": 0,
             "ticks": ""
            },
            "colorscale": [
             [
              0,
              "#0d0887"
             ],
             [
              0.1111111111111111,
              "#46039f"
             ],
             [
              0.2222222222222222,
              "#7201a8"
             ],
             [
              0.3333333333333333,
              "#9c179e"
             ],
             [
              0.4444444444444444,
              "#bd3786"
             ],
             [
              0.5555555555555556,
              "#d8576b"
             ],
             [
              0.6666666666666666,
              "#ed7953"
             ],
             [
              0.7777777777777778,
              "#fb9f3a"
             ],
             [
              0.8888888888888888,
              "#fdca26"
             ],
             [
              1,
              "#f0f921"
             ]
            ],
            "type": "histogram2d"
           }
          ],
          "histogram2dcontour": [
           {
            "colorbar": {
             "outlinewidth": 0,
             "ticks": ""
            },
            "colorscale": [
             [
              0,
              "#0d0887"
             ],
             [
              0.1111111111111111,
              "#46039f"
             ],
             [
              0.2222222222222222,
              "#7201a8"
             ],
             [
              0.3333333333333333,
              "#9c179e"
             ],
             [
              0.4444444444444444,
              "#bd3786"
             ],
             [
              0.5555555555555556,
              "#d8576b"
             ],
             [
              0.6666666666666666,
              "#ed7953"
             ],
             [
              0.7777777777777778,
              "#fb9f3a"
             ],
             [
              0.8888888888888888,
              "#fdca26"
             ],
             [
              1,
              "#f0f921"
             ]
            ],
            "type": "histogram2dcontour"
           }
          ],
          "mesh3d": [
           {
            "colorbar": {
             "outlinewidth": 0,
             "ticks": ""
            },
            "type": "mesh3d"
           }
          ],
          "parcoords": [
           {
            "line": {
             "colorbar": {
              "outlinewidth": 0,
              "ticks": ""
             }
            },
            "type": "parcoords"
           }
          ],
          "pie": [
           {
            "automargin": true,
            "type": "pie"
           }
          ],
          "scatter": [
           {
            "fillpattern": {
             "fillmode": "overlay",
             "size": 10,
             "solidity": 0.2
            },
            "type": "scatter"
           }
          ],
          "scatter3d": [
           {
            "line": {
             "colorbar": {
              "outlinewidth": 0,
              "ticks": ""
             }
            },
            "marker": {
             "colorbar": {
              "outlinewidth": 0,
              "ticks": ""
             }
            },
            "type": "scatter3d"
           }
          ],
          "scattercarpet": [
           {
            "marker": {
             "colorbar": {
              "outlinewidth": 0,
              "ticks": ""
             }
            },
            "type": "scattercarpet"
           }
          ],
          "scattergeo": [
           {
            "marker": {
             "colorbar": {
              "outlinewidth": 0,
              "ticks": ""
             }
            },
            "type": "scattergeo"
           }
          ],
          "scattergl": [
           {
            "marker": {
             "colorbar": {
              "outlinewidth": 0,
              "ticks": ""
             }
            },
            "type": "scattergl"
           }
          ],
          "scattermapbox": [
           {
            "marker": {
             "colorbar": {
              "outlinewidth": 0,
              "ticks": ""
             }
            },
            "type": "scattermapbox"
           }
          ],
          "scatterpolar": [
           {
            "marker": {
             "colorbar": {
              "outlinewidth": 0,
              "ticks": ""
             }
            },
            "type": "scatterpolar"
           }
          ],
          "scatterpolargl": [
           {
            "marker": {
             "colorbar": {
              "outlinewidth": 0,
              "ticks": ""
             }
            },
            "type": "scatterpolargl"
           }
          ],
          "scatterternary": [
           {
            "marker": {
             "colorbar": {
              "outlinewidth": 0,
              "ticks": ""
             }
            },
            "type": "scatterternary"
           }
          ],
          "surface": [
           {
            "colorbar": {
             "outlinewidth": 0,
             "ticks": ""
            },
            "colorscale": [
             [
              0,
              "#0d0887"
             ],
             [
              0.1111111111111111,
              "#46039f"
             ],
             [
              0.2222222222222222,
              "#7201a8"
             ],
             [
              0.3333333333333333,
              "#9c179e"
             ],
             [
              0.4444444444444444,
              "#bd3786"
             ],
             [
              0.5555555555555556,
              "#d8576b"
             ],
             [
              0.6666666666666666,
              "#ed7953"
             ],
             [
              0.7777777777777778,
              "#fb9f3a"
             ],
             [
              0.8888888888888888,
              "#fdca26"
             ],
             [
              1,
              "#f0f921"
             ]
            ],
            "type": "surface"
           }
          ],
          "table": [
           {
            "cells": {
             "fill": {
              "color": "#EBF0F8"
             },
             "line": {
              "color": "white"
             }
            },
            "header": {
             "fill": {
              "color": "#C8D4E3"
             },
             "line": {
              "color": "white"
             }
            },
            "type": "table"
           }
          ]
         },
         "layout": {
          "annotationdefaults": {
           "arrowcolor": "#2a3f5f",
           "arrowhead": 0,
           "arrowwidth": 1
          },
          "autotypenumbers": "strict",
          "coloraxis": {
           "colorbar": {
            "outlinewidth": 0,
            "ticks": ""
           }
          },
          "colorscale": {
           "diverging": [
            [
             0,
             "#8e0152"
            ],
            [
             0.1,
             "#c51b7d"
            ],
            [
             0.2,
             "#de77ae"
            ],
            [
             0.3,
             "#f1b6da"
            ],
            [
             0.4,
             "#fde0ef"
            ],
            [
             0.5,
             "#f7f7f7"
            ],
            [
             0.6,
             "#e6f5d0"
            ],
            [
             0.7,
             "#b8e186"
            ],
            [
             0.8,
             "#7fbc41"
            ],
            [
             0.9,
             "#4d9221"
            ],
            [
             1,
             "#276419"
            ]
           ],
           "sequential": [
            [
             0,
             "#0d0887"
            ],
            [
             0.1111111111111111,
             "#46039f"
            ],
            [
             0.2222222222222222,
             "#7201a8"
            ],
            [
             0.3333333333333333,
             "#9c179e"
            ],
            [
             0.4444444444444444,
             "#bd3786"
            ],
            [
             0.5555555555555556,
             "#d8576b"
            ],
            [
             0.6666666666666666,
             "#ed7953"
            ],
            [
             0.7777777777777778,
             "#fb9f3a"
            ],
            [
             0.8888888888888888,
             "#fdca26"
            ],
            [
             1,
             "#f0f921"
            ]
           ],
           "sequentialminus": [
            [
             0,
             "#0d0887"
            ],
            [
             0.1111111111111111,
             "#46039f"
            ],
            [
             0.2222222222222222,
             "#7201a8"
            ],
            [
             0.3333333333333333,
             "#9c179e"
            ],
            [
             0.4444444444444444,
             "#bd3786"
            ],
            [
             0.5555555555555556,
             "#d8576b"
            ],
            [
             0.6666666666666666,
             "#ed7953"
            ],
            [
             0.7777777777777778,
             "#fb9f3a"
            ],
            [
             0.8888888888888888,
             "#fdca26"
            ],
            [
             1,
             "#f0f921"
            ]
           ]
          },
          "colorway": [
           "#636efa",
           "#EF553B",
           "#00cc96",
           "#ab63fa",
           "#FFA15A",
           "#19d3f3",
           "#FF6692",
           "#B6E880",
           "#FF97FF",
           "#FECB52"
          ],
          "font": {
           "color": "#2a3f5f"
          },
          "geo": {
           "bgcolor": "white",
           "lakecolor": "white",
           "landcolor": "#E5ECF6",
           "showlakes": true,
           "showland": true,
           "subunitcolor": "white"
          },
          "hoverlabel": {
           "align": "left"
          },
          "hovermode": "closest",
          "mapbox": {
           "style": "light"
          },
          "paper_bgcolor": "white",
          "plot_bgcolor": "#E5ECF6",
          "polar": {
           "angularaxis": {
            "gridcolor": "white",
            "linecolor": "white",
            "ticks": ""
           },
           "bgcolor": "#E5ECF6",
           "radialaxis": {
            "gridcolor": "white",
            "linecolor": "white",
            "ticks": ""
           }
          },
          "scene": {
           "xaxis": {
            "backgroundcolor": "#E5ECF6",
            "gridcolor": "white",
            "gridwidth": 2,
            "linecolor": "white",
            "showbackground": true,
            "ticks": "",
            "zerolinecolor": "white"
           },
           "yaxis": {
            "backgroundcolor": "#E5ECF6",
            "gridcolor": "white",
            "gridwidth": 2,
            "linecolor": "white",
            "showbackground": true,
            "ticks": "",
            "zerolinecolor": "white"
           },
           "zaxis": {
            "backgroundcolor": "#E5ECF6",
            "gridcolor": "white",
            "gridwidth": 2,
            "linecolor": "white",
            "showbackground": true,
            "ticks": "",
            "zerolinecolor": "white"
           }
          },
          "shapedefaults": {
           "line": {
            "color": "#2a3f5f"
           }
          },
          "ternary": {
           "aaxis": {
            "gridcolor": "white",
            "linecolor": "white",
            "ticks": ""
           },
           "baxis": {
            "gridcolor": "white",
            "linecolor": "white",
            "ticks": ""
           },
           "bgcolor": "#E5ECF6",
           "caxis": {
            "gridcolor": "white",
            "linecolor": "white",
            "ticks": ""
           }
          },
          "title": {
           "x": 0.05
          },
          "xaxis": {
           "automargin": true,
           "gridcolor": "white",
           "linecolor": "white",
           "ticks": "",
           "title": {
            "standoff": 15
           },
           "zerolinecolor": "white",
           "zerolinewidth": 2
          },
          "yaxis": {
           "automargin": true,
           "gridcolor": "white",
           "linecolor": "white",
           "ticks": "",
           "title": {
            "standoff": 15
           },
           "zerolinecolor": "white",
           "zerolinewidth": 2
          }
         }
        },
        "title": {
         "font": {
          "color": "black",
          "family": "Arial, sans-serif",
          "size": 24
         },
         "text": "Course and Age with Average GPAs",
         "x": 0.5,
         "xanchor": "center",
         "y": 0.975,
         "yanchor": "top"
        }
       }
      }
     },
     "metadata": {},
     "output_type": "display_data"
    }
   ],
   "source": [
    "# Prepare the data for the sunburst plot\n",
    "# Create simplified age groups\n",
    "df['Age Group'] = pd.cut(df['Age'], bins=[18, 35, 60], labels=['Millenial', 'Middle Aged'])\n",
    "\n",
    "# Drop rows with missing values in the relevant columns\n",
    "df.dropna(subset=['COURSE', 'Age Group', 'GPA'], inplace=True)\n",
    "\n",
    "# Filter data to include only the top 5 courses by student count\n",
    "top_courses = df['COURSE'].value_counts().nlargest(5).index\n",
    "df_filtered = df[df['COURSE'].isin(top_courses)]\n",
    "\n",
    "# Add a Count column for aggregation\n",
    "df_filtered['Count'] = 1\n",
    "\n",
    "# Group by course and age group and calculate average GPA and count\n",
    "df_grouped = df_filtered.groupby(['COURSE', 'Age Group']).agg(\n",
    "    Count=('Count', 'sum'),\n",
    "    Avg_GPA=('GPA', 'mean')\n",
    ").reset_index()\n",
    "\n",
    "# Calculate average GPA for each level\n",
    "course_gpa = df_filtered.groupby('COURSE')['GPA'].mean().reset_index(name='GPA_course')\n",
    "\n",
    "# Merge the average GPAs into the grouped dataframe\n",
    "df_grouped = df_grouped.merge(course_gpa, on='COURSE')\n",
    "\n",
    "# Create the sunburst plot\n",
    "fig = px.sunburst(df_grouped, path=['COURSE', 'Age Group'], values='Count',\n",
    "                  color='Avg_GPA', \n",
    "                  hover_data={\n",
    "                      'Avg_GPA': ':.2f',\n",
    "                      'GPA_course': ':.2f'\n",
    "                  })\n",
    "\n",
    "# Update hover template to show average GPAs for each level\n",
    "fig.update_traces(\n",
    "    hovertemplate='<b>%{label}</b><br>' +\n",
    "                  'Count: %{value}<br>' +\n",
    "                  'Course GPA: %{customdata[1]:.2f}<br>' +\n",
    "                  'Age Group GPA: %{customdata[0]:.2f}'\n",
    ")\n",
    "\n",
    "# Update layout for better aesthetics and readability\n",
    "fig.update_layout(\n",
    "    title={\n",
    "        'text': 'Course and Age with Average GPAs',\n",
    "        'y':0.975,\n",
    "        'x':0.5,\n",
    "        'xanchor': 'center',\n",
    "        'yanchor': 'top'\n",
    "    },\n",
    "    title_font=dict(size=24, family='Arial, sans-serif', color='black'),\n",
    "    font=dict(family='Arial, sans-serif', size=16, color='black'),\n",
    "    margin=dict(t=40, l=0, r=0, b=10),\n",
    "    paper_bgcolor='white',\n",
    "    plot_bgcolor='white'\n",
    ")\n",
    "\n",
    "# Show the plot\n",
    "fig.show()\n"
   ]
  },
  {
   "cell_type": "code",
   "execution_count": 62,
   "metadata": {},
   "outputs": [
    {
     "data": {
      "application/vnd.plotly.v1+json": {
       "config": {
        "plotlyServerURL": "https://plot.ly"
       },
       "data": [
        {
         "branchvalues": "total",
         "customdata": [
          [
           2.9615384615384617,
           2.788235294117647
          ],
          [
           2.7348837209302324,
           2.680582524271845
          ],
          [
           2.9214285714285713,
           2.867857142857143
          ],
          [
           null,
           null
          ],
          [
           2.65,
           2.853846153846154
          ],
          [
           2.5,
           2.5
          ],
          [
           2.6809523809523808,
           2.788235294117647
          ],
          [
           2.6416666666666666,
           2.680582524271845
          ],
          [
           2.85,
           2.867857142857143
          ],
          [
           1.9,
           1.9
          ],
          [
           2.890909090909091,
           2.853846153846154
          ],
          [
           null,
           null
          ],
          [
           2.788235294117647,
           2.788235294117647
          ],
          [
           2.680582524271845,
           2.680582524271845
          ],
          [
           2.867857142857143,
           2.867857142857143
          ],
          [
           1.9,
           1.9
          ],
          [
           2.853846153846154,
           2.853846153846154
          ],
          [
           2.5,
           2.5
          ]
         ],
         "domain": {
          "x": [
           0,
           1
          ],
          "y": [
           0,
           1
          ]
         },
         "hovertemplate": "<b>%{label}</b><br>Count: %{value}<br>Course GPA: %{customdata[1]:.2f}<br>Age Group GPA: %{customdata[0]:.2f}",
         "ids": [
          "Certificate/Millenial",
          "Degree/Millenial",
          "Diploma/Millenial",
          "Graduate Diploma/Millenial",
          "Master/Millenial",
          "No Qualifications/Millenial",
          "Certificate/Middle Aged",
          "Degree/Middle Aged",
          "Diploma/Middle Aged",
          "Graduate Diploma/Middle Aged",
          "Master/Middle Aged",
          "No Qualifications/Middle Aged",
          "Certificate",
          "Degree",
          "Diploma",
          "Graduate Diploma",
          "Master",
          "No Qualifications"
         ],
         "labels": [
          "Millenial",
          "Millenial",
          "Millenial",
          "Millenial",
          "Millenial",
          "Millenial",
          "Middle Aged",
          "Middle Aged",
          "Middle Aged",
          "Middle Aged",
          "Middle Aged",
          "Middle Aged",
          "Certificate",
          "Degree",
          "Diploma",
          "Graduate Diploma",
          "Master",
          "No Qualifications"
         ],
         "marker": {
          "coloraxis": "coloraxis",
          "colors": [
           2.9615384615384617,
           2.7348837209302324,
           2.9214285714285713,
           null,
           2.65,
           2.5,
           2.6809523809523808,
           2.6416666666666666,
           2.85,
           1.9,
           2.890909090909091,
           null,
           2.788235294117647,
           2.680582524271845,
           2.867857142857143,
           1.9,
           2.853846153846154,
           2.5
          ]
         },
         "name": "",
         "parents": [
          "Certificate",
          "Degree",
          "Diploma",
          "Graduate Diploma",
          "Master",
          "No Qualifications",
          "Certificate",
          "Degree",
          "Diploma",
          "Graduate Diploma",
          "Master",
          "No Qualifications",
          "",
          "",
          "",
          "",
          "",
          ""
         ],
         "type": "sunburst",
         "values": [
          26,
          43,
          14,
          0,
          2,
          1,
          42,
          60,
          42,
          1,
          11,
          0,
          68,
          103,
          56,
          1,
          13,
          1
         ]
        }
       ],
       "layout": {
        "coloraxis": {
         "colorbar": {
          "title": {
           "text": "Avg_GPA"
          }
         },
         "colorscale": [
          [
           0,
           "#0d0887"
          ],
          [
           0.1111111111111111,
           "#46039f"
          ],
          [
           0.2222222222222222,
           "#7201a8"
          ],
          [
           0.3333333333333333,
           "#9c179e"
          ],
          [
           0.4444444444444444,
           "#bd3786"
          ],
          [
           0.5555555555555556,
           "#d8576b"
          ],
          [
           0.6666666666666666,
           "#ed7953"
          ],
          [
           0.7777777777777778,
           "#fb9f3a"
          ],
          [
           0.8888888888888888,
           "#fdca26"
          ],
          [
           1,
           "#f0f921"
          ]
         ]
        },
        "font": {
         "color": "black",
         "family": "Arial, sans-serif",
         "size": 16
        },
        "legend": {
         "tracegroupgap": 0
        },
        "margin": {
         "b": 10,
         "l": 0,
         "r": 0,
         "t": 40
        },
        "paper_bgcolor": "white",
        "plot_bgcolor": "white",
        "template": {
         "data": {
          "bar": [
           {
            "error_x": {
             "color": "#2a3f5f"
            },
            "error_y": {
             "color": "#2a3f5f"
            },
            "marker": {
             "line": {
              "color": "#E5ECF6",
              "width": 0.5
             },
             "pattern": {
              "fillmode": "overlay",
              "size": 10,
              "solidity": 0.2
             }
            },
            "type": "bar"
           }
          ],
          "barpolar": [
           {
            "marker": {
             "line": {
              "color": "#E5ECF6",
              "width": 0.5
             },
             "pattern": {
              "fillmode": "overlay",
              "size": 10,
              "solidity": 0.2
             }
            },
            "type": "barpolar"
           }
          ],
          "carpet": [
           {
            "aaxis": {
             "endlinecolor": "#2a3f5f",
             "gridcolor": "white",
             "linecolor": "white",
             "minorgridcolor": "white",
             "startlinecolor": "#2a3f5f"
            },
            "baxis": {
             "endlinecolor": "#2a3f5f",
             "gridcolor": "white",
             "linecolor": "white",
             "minorgridcolor": "white",
             "startlinecolor": "#2a3f5f"
            },
            "type": "carpet"
           }
          ],
          "choropleth": [
           {
            "colorbar": {
             "outlinewidth": 0,
             "ticks": ""
            },
            "type": "choropleth"
           }
          ],
          "contour": [
           {
            "colorbar": {
             "outlinewidth": 0,
             "ticks": ""
            },
            "colorscale": [
             [
              0,
              "#0d0887"
             ],
             [
              0.1111111111111111,
              "#46039f"
             ],
             [
              0.2222222222222222,
              "#7201a8"
             ],
             [
              0.3333333333333333,
              "#9c179e"
             ],
             [
              0.4444444444444444,
              "#bd3786"
             ],
             [
              0.5555555555555556,
              "#d8576b"
             ],
             [
              0.6666666666666666,
              "#ed7953"
             ],
             [
              0.7777777777777778,
              "#fb9f3a"
             ],
             [
              0.8888888888888888,
              "#fdca26"
             ],
             [
              1,
              "#f0f921"
             ]
            ],
            "type": "contour"
           }
          ],
          "contourcarpet": [
           {
            "colorbar": {
             "outlinewidth": 0,
             "ticks": ""
            },
            "type": "contourcarpet"
           }
          ],
          "heatmap": [
           {
            "colorbar": {
             "outlinewidth": 0,
             "ticks": ""
            },
            "colorscale": [
             [
              0,
              "#0d0887"
             ],
             [
              0.1111111111111111,
              "#46039f"
             ],
             [
              0.2222222222222222,
              "#7201a8"
             ],
             [
              0.3333333333333333,
              "#9c179e"
             ],
             [
              0.4444444444444444,
              "#bd3786"
             ],
             [
              0.5555555555555556,
              "#d8576b"
             ],
             [
              0.6666666666666666,
              "#ed7953"
             ],
             [
              0.7777777777777778,
              "#fb9f3a"
             ],
             [
              0.8888888888888888,
              "#fdca26"
             ],
             [
              1,
              "#f0f921"
             ]
            ],
            "type": "heatmap"
           }
          ],
          "heatmapgl": [
           {
            "colorbar": {
             "outlinewidth": 0,
             "ticks": ""
            },
            "colorscale": [
             [
              0,
              "#0d0887"
             ],
             [
              0.1111111111111111,
              "#46039f"
             ],
             [
              0.2222222222222222,
              "#7201a8"
             ],
             [
              0.3333333333333333,
              "#9c179e"
             ],
             [
              0.4444444444444444,
              "#bd3786"
             ],
             [
              0.5555555555555556,
              "#d8576b"
             ],
             [
              0.6666666666666666,
              "#ed7953"
             ],
             [
              0.7777777777777778,
              "#fb9f3a"
             ],
             [
              0.8888888888888888,
              "#fdca26"
             ],
             [
              1,
              "#f0f921"
             ]
            ],
            "type": "heatmapgl"
           }
          ],
          "histogram": [
           {
            "marker": {
             "pattern": {
              "fillmode": "overlay",
              "size": 10,
              "solidity": 0.2
             }
            },
            "type": "histogram"
           }
          ],
          "histogram2d": [
           {
            "colorbar": {
             "outlinewidth": 0,
             "ticks": ""
            },
            "colorscale": [
             [
              0,
              "#0d0887"
             ],
             [
              0.1111111111111111,
              "#46039f"
             ],
             [
              0.2222222222222222,
              "#7201a8"
             ],
             [
              0.3333333333333333,
              "#9c179e"
             ],
             [
              0.4444444444444444,
              "#bd3786"
             ],
             [
              0.5555555555555556,
              "#d8576b"
             ],
             [
              0.6666666666666666,
              "#ed7953"
             ],
             [
              0.7777777777777778,
              "#fb9f3a"
             ],
             [
              0.8888888888888888,
              "#fdca26"
             ],
             [
              1,
              "#f0f921"
             ]
            ],
            "type": "histogram2d"
           }
          ],
          "histogram2dcontour": [
           {
            "colorbar": {
             "outlinewidth": 0,
             "ticks": ""
            },
            "colorscale": [
             [
              0,
              "#0d0887"
             ],
             [
              0.1111111111111111,
              "#46039f"
             ],
             [
              0.2222222222222222,
              "#7201a8"
             ],
             [
              0.3333333333333333,
              "#9c179e"
             ],
             [
              0.4444444444444444,
              "#bd3786"
             ],
             [
              0.5555555555555556,
              "#d8576b"
             ],
             [
              0.6666666666666666,
              "#ed7953"
             ],
             [
              0.7777777777777778,
              "#fb9f3a"
             ],
             [
              0.8888888888888888,
              "#fdca26"
             ],
             [
              1,
              "#f0f921"
             ]
            ],
            "type": "histogram2dcontour"
           }
          ],
          "mesh3d": [
           {
            "colorbar": {
             "outlinewidth": 0,
             "ticks": ""
            },
            "type": "mesh3d"
           }
          ],
          "parcoords": [
           {
            "line": {
             "colorbar": {
              "outlinewidth": 0,
              "ticks": ""
             }
            },
            "type": "parcoords"
           }
          ],
          "pie": [
           {
            "automargin": true,
            "type": "pie"
           }
          ],
          "scatter": [
           {
            "fillpattern": {
             "fillmode": "overlay",
             "size": 10,
             "solidity": 0.2
            },
            "type": "scatter"
           }
          ],
          "scatter3d": [
           {
            "line": {
             "colorbar": {
              "outlinewidth": 0,
              "ticks": ""
             }
            },
            "marker": {
             "colorbar": {
              "outlinewidth": 0,
              "ticks": ""
             }
            },
            "type": "scatter3d"
           }
          ],
          "scattercarpet": [
           {
            "marker": {
             "colorbar": {
              "outlinewidth": 0,
              "ticks": ""
             }
            },
            "type": "scattercarpet"
           }
          ],
          "scattergeo": [
           {
            "marker": {
             "colorbar": {
              "outlinewidth": 0,
              "ticks": ""
             }
            },
            "type": "scattergeo"
           }
          ],
          "scattergl": [
           {
            "marker": {
             "colorbar": {
              "outlinewidth": 0,
              "ticks": ""
             }
            },
            "type": "scattergl"
           }
          ],
          "scattermapbox": [
           {
            "marker": {
             "colorbar": {
              "outlinewidth": 0,
              "ticks": ""
             }
            },
            "type": "scattermapbox"
           }
          ],
          "scatterpolar": [
           {
            "marker": {
             "colorbar": {
              "outlinewidth": 0,
              "ticks": ""
             }
            },
            "type": "scatterpolar"
           }
          ],
          "scatterpolargl": [
           {
            "marker": {
             "colorbar": {
              "outlinewidth": 0,
              "ticks": ""
             }
            },
            "type": "scatterpolargl"
           }
          ],
          "scatterternary": [
           {
            "marker": {
             "colorbar": {
              "outlinewidth": 0,
              "ticks": ""
             }
            },
            "type": "scatterternary"
           }
          ],
          "surface": [
           {
            "colorbar": {
             "outlinewidth": 0,
             "ticks": ""
            },
            "colorscale": [
             [
              0,
              "#0d0887"
             ],
             [
              0.1111111111111111,
              "#46039f"
             ],
             [
              0.2222222222222222,
              "#7201a8"
             ],
             [
              0.3333333333333333,
              "#9c179e"
             ],
             [
              0.4444444444444444,
              "#bd3786"
             ],
             [
              0.5555555555555556,
              "#d8576b"
             ],
             [
              0.6666666666666666,
              "#ed7953"
             ],
             [
              0.7777777777777778,
              "#fb9f3a"
             ],
             [
              0.8888888888888888,
              "#fdca26"
             ],
             [
              1,
              "#f0f921"
             ]
            ],
            "type": "surface"
           }
          ],
          "table": [
           {
            "cells": {
             "fill": {
              "color": "#EBF0F8"
             },
             "line": {
              "color": "white"
             }
            },
            "header": {
             "fill": {
              "color": "#C8D4E3"
             },
             "line": {
              "color": "white"
             }
            },
            "type": "table"
           }
          ]
         },
         "layout": {
          "annotationdefaults": {
           "arrowcolor": "#2a3f5f",
           "arrowhead": 0,
           "arrowwidth": 1
          },
          "autotypenumbers": "strict",
          "coloraxis": {
           "colorbar": {
            "outlinewidth": 0,
            "ticks": ""
           }
          },
          "colorscale": {
           "diverging": [
            [
             0,
             "#8e0152"
            ],
            [
             0.1,
             "#c51b7d"
            ],
            [
             0.2,
             "#de77ae"
            ],
            [
             0.3,
             "#f1b6da"
            ],
            [
             0.4,
             "#fde0ef"
            ],
            [
             0.5,
             "#f7f7f7"
            ],
            [
             0.6,
             "#e6f5d0"
            ],
            [
             0.7,
             "#b8e186"
            ],
            [
             0.8,
             "#7fbc41"
            ],
            [
             0.9,
             "#4d9221"
            ],
            [
             1,
             "#276419"
            ]
           ],
           "sequential": [
            [
             0,
             "#0d0887"
            ],
            [
             0.1111111111111111,
             "#46039f"
            ],
            [
             0.2222222222222222,
             "#7201a8"
            ],
            [
             0.3333333333333333,
             "#9c179e"
            ],
            [
             0.4444444444444444,
             "#bd3786"
            ],
            [
             0.5555555555555556,
             "#d8576b"
            ],
            [
             0.6666666666666666,
             "#ed7953"
            ],
            [
             0.7777777777777778,
             "#fb9f3a"
            ],
            [
             0.8888888888888888,
             "#fdca26"
            ],
            [
             1,
             "#f0f921"
            ]
           ],
           "sequentialminus": [
            [
             0,
             "#0d0887"
            ],
            [
             0.1111111111111111,
             "#46039f"
            ],
            [
             0.2222222222222222,
             "#7201a8"
            ],
            [
             0.3333333333333333,
             "#9c179e"
            ],
            [
             0.4444444444444444,
             "#bd3786"
            ],
            [
             0.5555555555555556,
             "#d8576b"
            ],
            [
             0.6666666666666666,
             "#ed7953"
            ],
            [
             0.7777777777777778,
             "#fb9f3a"
            ],
            [
             0.8888888888888888,
             "#fdca26"
            ],
            [
             1,
             "#f0f921"
            ]
           ]
          },
          "colorway": [
           "#636efa",
           "#EF553B",
           "#00cc96",
           "#ab63fa",
           "#FFA15A",
           "#19d3f3",
           "#FF6692",
           "#B6E880",
           "#FF97FF",
           "#FECB52"
          ],
          "font": {
           "color": "#2a3f5f"
          },
          "geo": {
           "bgcolor": "white",
           "lakecolor": "white",
           "landcolor": "#E5ECF6",
           "showlakes": true,
           "showland": true,
           "subunitcolor": "white"
          },
          "hoverlabel": {
           "align": "left"
          },
          "hovermode": "closest",
          "mapbox": {
           "style": "light"
          },
          "paper_bgcolor": "white",
          "plot_bgcolor": "#E5ECF6",
          "polar": {
           "angularaxis": {
            "gridcolor": "white",
            "linecolor": "white",
            "ticks": ""
           },
           "bgcolor": "#E5ECF6",
           "radialaxis": {
            "gridcolor": "white",
            "linecolor": "white",
            "ticks": ""
           }
          },
          "scene": {
           "xaxis": {
            "backgroundcolor": "#E5ECF6",
            "gridcolor": "white",
            "gridwidth": 2,
            "linecolor": "white",
            "showbackground": true,
            "ticks": "",
            "zerolinecolor": "white"
           },
           "yaxis": {
            "backgroundcolor": "#E5ECF6",
            "gridcolor": "white",
            "gridwidth": 2,
            "linecolor": "white",
            "showbackground": true,
            "ticks": "",
            "zerolinecolor": "white"
           },
           "zaxis": {
            "backgroundcolor": "#E5ECF6",
            "gridcolor": "white",
            "gridwidth": 2,
            "linecolor": "white",
            "showbackground": true,
            "ticks": "",
            "zerolinecolor": "white"
           }
          },
          "shapedefaults": {
           "line": {
            "color": "#2a3f5f"
           }
          },
          "ternary": {
           "aaxis": {
            "gridcolor": "white",
            "linecolor": "white",
            "ticks": ""
           },
           "baxis": {
            "gridcolor": "white",
            "linecolor": "white",
            "ticks": ""
           },
           "bgcolor": "#E5ECF6",
           "caxis": {
            "gridcolor": "white",
            "linecolor": "white",
            "ticks": ""
           }
          },
          "title": {
           "x": 0.05
          },
          "xaxis": {
           "automargin": true,
           "gridcolor": "white",
           "linecolor": "white",
           "ticks": "",
           "title": {
            "standoff": 15
           },
           "zerolinecolor": "white",
           "zerolinewidth": 2
          },
          "yaxis": {
           "automargin": true,
           "gridcolor": "white",
           "linecolor": "white",
           "ticks": "",
           "title": {
            "standoff": 15
           },
           "zerolinecolor": "white",
           "zerolinewidth": 2
          }
         }
        },
        "title": {
         "font": {
          "color": "black",
          "family": "Arial, sans-serif",
          "size": 24
         },
         "text": "Course and Age with Average GPAs",
         "x": 0.5,
         "xanchor": "center",
         "y": 0.975,
         "yanchor": "top"
        }
       }
      }
     },
     "metadata": {},
     "output_type": "display_data"
    }
   ],
   "source": [
    "import pandas as pd\n",
    "import plotly.express as px\n",
    "import numpy as np\n",
    "\n",
    "# Assuming df is your DataFrame\n",
    "# If not, you need to load your data into df first\n",
    "\n",
    "# Create simplified age groups\n",
    "df['Age Group'] = pd.cut(df['Age'], bins=[18, 35, 60], labels=['Millenial', 'Middle Aged'])\n",
    "\n",
    "# Drop rows with missing values in the relevant columns\n",
    "df.dropna(subset=['HIGHEST QUALIFICATION', 'Age Group', 'GPA'], inplace=True)\n",
    "\n",
    "# Filter data to include only the top 5 courses by student count\n",
    "top_courses = df['HIGHEST QUALIFICATION'].value_counts().nlargest(6).index\n",
    "df_filtered = df[df['HIGHEST QUALIFICATION'].isin(top_courses)]\n",
    "\n",
    "# Add a Count column for aggregation\n",
    "df_filtered['Count'] = 1\n",
    "\n",
    "# Group by course and age group and calculate average GPA and count\n",
    "df_grouped = df_filtered.groupby(['HIGHEST QUALIFICATION', 'Age Group']).agg(\n",
    "    Count=('Count', 'sum'),\n",
    "    Avg_GPA=('GPA', 'mean')\n",
    ").reset_index()\n",
    "\n",
    "# Calculate average GPA for each level\n",
    "course_gpa = df_filtered.groupby('HIGHEST QUALIFICATION')['GPA'].mean().reset_index(name='GPA_course')\n",
    "\n",
    "# Merge the average GPAs into the grouped dataframe\n",
    "df_grouped = df_grouped.merge(course_gpa, on='HIGHEST QUALIFICATION')\n",
    "\n",
    "# Filter out any potential zero counts\n",
    "df_grouped = df_grouped[df_grouped['Count'] > 0]\n",
    "\n",
    "# Create the sunburst plot\n",
    "fig = px.sunburst(df_grouped, path=['HIGHEST QUALIFICATION', 'Age Group'], values='Count',\n",
    "                  color='Avg_GPA', \n",
    "                  hover_data={\n",
    "                      'Avg_GPA': ':.2f',\n",
    "                      'GPA_course': ':.2f'\n",
    "                  })\n",
    "\n",
    "# Update hover template to show average GPAs for each level\n",
    "fig.update_traces(\n",
    "    hovertemplate='<b>%{label}</b><br>' +\n",
    "                  'Count: %{value}<br>' +\n",
    "                  'Course GPA: %{customdata[1]:.2f}<br>' +\n",
    "                  'Age Group GPA: %{customdata[0]:.2f}'\n",
    ")\n",
    "\n",
    "# Update layout for better aesthetics and readability\n",
    "fig.update_layout(\n",
    "    title={\n",
    "        'text': 'Course and Age with Average GPAs',\n",
    "        'y':0.975,\n",
    "        'x':0.5,\n",
    "        'xanchor': 'center',\n",
    "        'yanchor': 'top'\n",
    "    },\n",
    "    title_font=dict(size=24, family='Arial, sans-serif', color='black'),\n",
    "    font=dict(family='Arial, sans-serif', size=16, color='black'),\n",
    "    margin=dict(t=40, l=0, r=0, b=10),\n",
    "    paper_bgcolor='white',\n",
    "    plot_bgcolor='white'\n",
    ")\n",
    "\n",
    "# Show the plot\n",
    "fig.show()"
   ]
  },
  {
   "cell_type": "code",
   "execution_count": 63,
   "metadata": {},
   "outputs": [
    {
     "data": {
      "text/html": [
       "\n",
       "        <iframe\n",
       "            width=\"100%\"\n",
       "            height=\"650\"\n",
       "            src=\"http://127.0.0.1:8050/\"\n",
       "            frameborder=\"0\"\n",
       "            allowfullscreen\n",
       "            \n",
       "        ></iframe>\n",
       "        "
      ],
      "text/plain": [
       "<IPython.lib.display.IFrame at 0x21edc0608e0>"
      ]
     },
     "metadata": {},
     "output_type": "display_data"
    }
   ],
   "source": [
    "app = dash.Dash(__name__, external_stylesheets=[dbc.themes.DARKLY])\n",
    "\n",
    "colors = {\n",
    "    'background': '#111111',\n",
    "    'text': '#ffffff'\n",
    "}\n",
    "\n",
    "df['COURSE'] = df['COURSE'].astype(str)\n",
    "\n",
    "# Create initial figures\n",
    "fig_bar = px.bar(df, x=\"COURSE\", barmode=\"group\")\n",
    "fig_pie_1 = px.pie(df, values='GPA', names='COURSE', title='Course Distribution')\n",
    "fig_pie_2 = px.pie(df, values='GPA', names='NATIONALITY', title='Nationality Distribution')\n",
    "\n",
    "# Update layout for all figures\n",
    "for fig in [fig_bar, fig_pie_1, fig_pie_2]:\n",
    "    fig.update_layout(\n",
    "        plot_bgcolor=colors['background'],\n",
    "        paper_bgcolor=colors['background'],\n",
    "        font_color=colors['text']\n",
    "    )\n",
    "\n",
    "Age_Range = df['Age'].unique()\n",
    "Age_Range.sort()\n",
    "\n",
    "app.layout = dbc.Container([\n",
    "    dbc.Row([\n",
    "        dbc.Col(html.H1(\"DAVI CA2 Dashboard\", className=\"text-center mb-4 mt-4\"), width=12)\n",
    "    ]),\n",
    "\n",
    "    dbc.Row([\n",
    "        # Sidebar with radio buttons\n",
    "        dbc.Col([\n",
    "            dbc.Card([\n",
    "                dbc.CardHeader(html.H3(\"Filters\", className=\"text-center\")),\n",
    "                dbc.CardBody([\n",
    "                    html.H6(\"Job Category\"),\n",
    "                    dcc.Dropdown(id='Job-category', options=[{'label': 'All Data', 'value': 'ALL'}]+[{'label': country, 'value': country}\n",
    "                          for country in df['Job Category'].unique()],style={'color': 'black'}, value='ALL',multi=True),\n",
    "                    html.H6(\"Nationality\", className='mt-4'),\n",
    "                    dcc.RadioItems(\n",
    "                        id='radio-buttons',\n",
    "                        options=[{'label': 'All Data', 'value': 'ALL'}] + \n",
    "                                [{'label': nat, 'value': nat} for nat in df['NATIONALITY'].unique()],\n",
    "                        value='ALL',\n",
    "                        className=\"mb-2\"\n",
    "                    ),\n",
    "                    html.H6(\"Age Range\"),\n",
    "                    dcc.RangeSlider(Age_Range.min(), Age_Range.max(), 3, value=[Age_Range.min(), Age_Range.max()], id='my-range-slider'),\n",
    "                    html.H6(\"Male or Female\"),\n",
    "                    daq.BooleanSwitch(\n",
    "                    on=True,\n",
    "                    color=\"#9B51E0\",\n",
    "                    )\n",
    "\n",
    "                ])\n",
    "            ])\n",
    "        ], width=3),\n",
    "\n",
    "        # Main content area\n",
    "        dbc.Col([\n",
    "            dbc.Card([\n",
    "                dbc.CardBody([\n",
    "                    dcc.Graph(id='example-graph-1', figure=fig_bar)\n",
    "                ])\n",
    "            ], className=\"mb-4\"),\n",
    "\n",
    "            dbc.Row([\n",
    "                dbc.Col([\n",
    "                    dbc.Card([\n",
    "                        dbc.CardBody([\n",
    "                            dcc.Graph(id='example-pie-1', figure=fig_pie_1)\n",
    "                        ])\n",
    "                    ])\n",
    "                ], width=6),\n",
    "                dbc.Col([\n",
    "                    dbc.Card([\n",
    "                        dbc.CardBody([\n",
    "                            dcc.Graph(id='example-pie-2', figure=fig_pie_2)\n",
    "                        ])\n",
    "                    ])\n",
    "                ], width=6)\n",
    "            ])\n",
    "        ], width=9)\n",
    "    ])\n",
    "], fluid=True, style={'background-color': 'eggshell'})\n",
    "\n",
    "# Define callback to update graphs\n",
    "@app.callback(\n",
    "    Output('example-graph-1', 'figure'),\n",
    "    Output('example-pie-1', 'figure'),\n",
    "    Output('example-pie-2', 'figure'),\n",
    "    Input('radio-buttons', 'value'),\n",
    "    Input('Job-category', 'value')\n",
    ")\n",
    "\n",
    "def update_graphs(selected_nationality, selected_job_categories):\n",
    "    # If 'ALL' is selected in either dropdown, it means no filtering on that dimension\n",
    "    if 'ALL' in selected_nationality:\n",
    "        filtered_df = df\n",
    "    else:\n",
    "        filtered_df = df[df['NATIONALITY'].isin(selected_nationality)]\n",
    "    \n",
    "    if 'ALL' not in selected_job_categories:\n",
    "        filtered_df = filtered_df[filtered_df['Job Category'].isin(selected_job_categories)]\n",
    "    \n",
    "    fig_bar = px.bar(filtered_df, x=\"COURSE\", y=\"GPA\", barmode=\"group\",\n",
    "                     title=\"GPA Distribution by Course and Gender\")\n",
    "    fig_pie_1 = px.pie(filtered_df, values='GPA', names='COURSE', title='Course Distribution')\n",
    "    fig_pie_2 = px.pie(filtered_df, values='GPA', names='NATIONALITY', title='Nationality Distribution')\n",
    "\n",
    "    for fig in [fig_bar, fig_pie_1, fig_pie_2]:\n",
    "        fig.update_layout(\n",
    "            plot_bgcolor=colors['background'],\n",
    "            paper_bgcolor=colors['background'],\n",
    "            font_color=colors['text']\n",
    "        )\n",
    "\n",
    "    return fig_bar, fig_pie_1, fig_pie_2\n",
    "    \n",
    "if __name__ == '__main__':\n",
    "    app.run_server(debug=True)"
   ]
  },
  {
   "cell_type": "code",
   "execution_count": 64,
   "metadata": {},
   "outputs": [
    {
     "name": "stdout",
     "output_type": "stream",
     "text": [
      "<class 'pandas.core.frame.DataFrame'>\n",
      "Index: 242 entries, 0 to 243\n",
      "Data columns (total 25 columns):\n",
      " #   Column                                 Non-Null Count  Dtype   \n",
      "---  ------                                 --------------  -----   \n",
      " 0   STUDENT ID                             242 non-null    object  \n",
      " 1   SALUTATION                             242 non-null    object  \n",
      " 2   GENDER                                 242 non-null    object  \n",
      " 3   NATIONALITY                            242 non-null    object  \n",
      " 4   DOB                                    242 non-null    object  \n",
      " 5   HIGHEST QUALIFICATION                  242 non-null    object  \n",
      " 6   NAME OF QUALIFICATION AND INSTITUTION  242 non-null    object  \n",
      " 7   DATE ATTAINED HIGHEST QUALIFICATION    242 non-null    object  \n",
      " 8   DESIGNATION                            242 non-null    object  \n",
      " 9   INTAKE NO                              242 non-null    object  \n",
      " 10  COMMENCEMENT DATE                      242 non-null    object  \n",
      " 11  COMPLETION DATE                        242 non-null    object  \n",
      " 12  FULL-TIME OR PART-TIME                 242 non-null    object  \n",
      " 13  COURSE FUNDING                         242 non-null    object  \n",
      " 14  REGISTRATION FEE                       242 non-null    int64   \n",
      " 15  PAYMENT MODE                           242 non-null    object  \n",
      " 16  COURSE FEE                             242 non-null    int64   \n",
      " 17  GPA                                    242 non-null    float64 \n",
      " 18  CITIZENSHIP_STATUS                     242 non-null    object  \n",
      " 19  date_diff                              242 non-null    int64   \n",
      " 20  COURSE                                 242 non-null    object  \n",
      " 21  Age                                    242 non-null    int64   \n",
      " 22  GPA Category                           242 non-null    object  \n",
      " 23  Job Category                           242 non-null    object  \n",
      " 24  Age Group                              242 non-null    category\n",
      "dtypes: category(1), float64(1), int64(4), object(19)\n",
      "memory usage: 47.6+ KB\n"
     ]
    }
   ],
   "source": [
    "df.info()"
   ]
  },
  {
   "cell_type": "code",
   "execution_count": 65,
   "metadata": {},
   "outputs": [
    {
     "data": {
      "text/plain": [
       "array(['Snr Associate, Client Services', 'Admin Officer',\n",
       "       'Admin Assistant', 'HR Administrator', 'Purchasing Executive',\n",
       "       'HR Executive', 'PR Executive', 'No Designation',\n",
       "       'Accounts cum HR Executive', 'Admin & HR Executive',\n",
       "       'HR Assistant', 'Rooms Division Manager',\n",
       "       'HR Associate, Southeast Asia', 'Administrative Executive',\n",
       "       'Admin & HR Assistant', 'HR Support / Office Manager',\n",
       "       'Executive, Administration', 'Administrator',\n",
       "       'Admin & Finance Executive', 'Operation Executive', 'Clerk',\n",
       "       'HR & Admin', 'Early Childhood Support Office', 'Office Manager',\n",
       "       'Business Development Executive', 'Human Resource Assistant',\n",
       "       'Executive, Planning & Delivery', 'Secretary',\n",
       "       'Executive Assistant', 'Senior Assistant (Tenant Administration)',\n",
       "       'Senior HR Officer', 'Manager',\n",
       "       'Relationship and Marketing Executive', 'Administrative Assistant',\n",
       "       'Business Support Manager, APAC', 'Team Assistant',\n",
       "       'APAC HR Specialist', 'Snr Client Service Executive', 'HR Intern',\n",
       "       'Executive, Corporate Services', 'Admin Executive',\n",
       "       'Manager (Engagement)', 'Executive',\n",
       "       'Associate, HR & General Affairs', 'HR Manager',\n",
       "       'Senior Vice President, Gaming Division',\n",
       "       'HR Executive (TA Operations)', 'Admin Support Assistance',\n",
       "       'Service Crew', 'Sales & Operation Executive', 'PR Officer',\n",
       "       'Snr Executive, Accounts', 'Snr Accounts Officer',\n",
       "       'Executive, Student Care Services', 'Device Engineer',\n",
       "       'Operations Executive', 'Staff Nurse', 'Senior Manager',\n",
       "       'Assistant Executive (Payroll)', 'Admin Support Executive',\n",
       "       'Recruitment Consultant', 'Payroll Specialist', 'Admin Asst',\n",
       "       'Office Dept Head', 'Account Senior', 'Senior HR Executive',\n",
       "       'Officer, Administration and Operations',\n",
       "       'Human Reosurce Executive', 'Receptionist',\n",
       "       'Assistant Manager, Human Resources', 'Associate, HR & Payroll',\n",
       "       'Consultant', 'Snr Admin Executive', 'Waitress',\n",
       "       'Accounts Executive', 'Senior HR', 'Center Administrator',\n",
       "       'Team Lead, Payroll & Billing', 'Officer', 'Senior Executive',\n",
       "       'HR & Admin Manager', 'Senior Administrative Executive',\n",
       "       'Human Resource Administrator',\n",
       "       'Assistant Manager (Admin Support)', 'HR Officer', 'HR/Admin',\n",
       "       'Admin cum Payroll Officer', 'Training Coordinator',\n",
       "       'Client Accountant', 'HR & Admin Officer',\n",
       "       'Corporate Service Executive', 'Senior Eexcutive', 'Accountant',\n",
       "       'Snr HR Executive', 'Labour Admin Executive', 'HR Payroll Analyst',\n",
       "       'Payroll', 'People Ops Specialist - APAC', 'Editor', 'HRM',\n",
       "       'HR Supervisor', 'Account Manager', 'Human Resource Officer',\n",
       "       'Sr HR Associate', 'Assistant Manager, HR Operations',\n",
       "       'Assistant Admin Manager', 'Flight Stewardess', 'Head of HR',\n",
       "       'HR Analyst', 'ASSISTANT HR MANAGER',\n",
       "       'Senior Analyst, Compensation & Benefits', 'N.A.',\n",
       "       'Senior Recruitment Manager', 'Admin Supervisor', 'Admin Manager',\n",
       "       'Human Resource Executive', 'HR Specialist',\n",
       "       'Human Resource & Admin Manager', 'Human Resource Director',\n",
       "       'Executive, Human Capital',\n",
       "       'HR & Operations Manager, South East Asia',\n",
       "       'Assistant Manager Americas', 'Helpdesk Manager',\n",
       "       'Business Manager', 'Talent Acquisition Specialist',\n",
       "       'Confidential Assistant', 'Journey Management Team Lead',\n",
       "       'Academy Program Coordinator', 'Management Associate',\n",
       "       'Audit Associate', 'Lecturer', 'Regional Recruiter', 'Teacher',\n",
       "       'IT Developer', 'Senior Human Resource Executive',\n",
       "       'Senior Executive, Human Resource',\n",
       "       'Manager, Leadership & Coaching', 'Executive, HR',\n",
       "       'Assistant Vice-President', 'HR Section Manager', 'Bank Executive',\n",
       "       'Head, Registry & Corp Admin', 'Finance Officer',\n",
       "       'Household Goods Coordinator',\n",
       "       'Assistant Director, Human Resources'], dtype=object)"
      ]
     },
     "execution_count": 65,
     "metadata": {},
     "output_type": "execute_result"
    }
   ],
   "source": [
    "df.DESIGNATION.unique()"
   ]
  },
  {
   "cell_type": "code",
   "execution_count": 66,
   "metadata": {},
   "outputs": [
    {
     "data": {
      "text/html": [
       "<div>\n",
       "<style scoped>\n",
       "    .dataframe tbody tr th:only-of-type {\n",
       "        vertical-align: middle;\n",
       "    }\n",
       "\n",
       "    .dataframe tbody tr th {\n",
       "        vertical-align: top;\n",
       "    }\n",
       "\n",
       "    .dataframe thead th {\n",
       "        text-align: right;\n",
       "    }\n",
       "</style>\n",
       "<table border=\"1\" class=\"dataframe\">\n",
       "  <thead>\n",
       "    <tr style=\"text-align: right;\">\n",
       "      <th></th>\n",
       "      <th>STUDENT ID</th>\n",
       "      <th>SALUTATION</th>\n",
       "      <th>GENDER</th>\n",
       "      <th>NATIONALITY</th>\n",
       "      <th>DOB</th>\n",
       "      <th>HIGHEST QUALIFICATION</th>\n",
       "      <th>NAME OF QUALIFICATION AND INSTITUTION</th>\n",
       "      <th>DATE ATTAINED HIGHEST QUALIFICATION</th>\n",
       "      <th>DESIGNATION</th>\n",
       "      <th>INTAKE NO</th>\n",
       "      <th>...</th>\n",
       "      <th>PAYMENT MODE</th>\n",
       "      <th>COURSE FEE</th>\n",
       "      <th>GPA</th>\n",
       "      <th>CITIZENSHIP_STATUS</th>\n",
       "      <th>date_diff</th>\n",
       "      <th>COURSE</th>\n",
       "      <th>Age</th>\n",
       "      <th>GPA Category</th>\n",
       "      <th>Job Category</th>\n",
       "      <th>Age Group</th>\n",
       "    </tr>\n",
       "  </thead>\n",
       "  <tbody>\n",
       "    <tr>\n",
       "      <th>8</th>\n",
       "      <td>2020/1101-015/010</td>\n",
       "      <td>Ms</td>\n",
       "      <td>F</td>\n",
       "      <td>Singaporean</td>\n",
       "      <td>1977-09-06</td>\n",
       "      <td>Degree</td>\n",
       "      <td>Bachelor of Business (Advertising), Queensland...</td>\n",
       "      <td>2018-10-06</td>\n",
       "      <td>No Designation</td>\n",
       "      <td>15th</td>\n",
       "      <td>...</td>\n",
       "      <td>GIRO</td>\n",
       "      <td>1712</td>\n",
       "      <td>2.2</td>\n",
       "      <td>L</td>\n",
       "      <td>456</td>\n",
       "      <td>1101</td>\n",
       "      <td>46</td>\n",
       "      <td>2 - 3</td>\n",
       "      <td>Others</td>\n",
       "      <td>Middle Aged</td>\n",
       "    </tr>\n",
       "    <tr>\n",
       "      <th>9</th>\n",
       "      <td>2020/1101-015/011</td>\n",
       "      <td>Ms</td>\n",
       "      <td>F</td>\n",
       "      <td>Singaporean</td>\n",
       "      <td>1991-05-12</td>\n",
       "      <td>Diploma</td>\n",
       "      <td>Diploma in Environmental Science, Republic Pol...</td>\n",
       "      <td>2016-09-06</td>\n",
       "      <td>No Designation</td>\n",
       "      <td>15th</td>\n",
       "      <td>...</td>\n",
       "      <td>GIRO</td>\n",
       "      <td>1712</td>\n",
       "      <td>3.1</td>\n",
       "      <td>L</td>\n",
       "      <td>456</td>\n",
       "      <td>1101</td>\n",
       "      <td>33</td>\n",
       "      <td>3 - 3.5</td>\n",
       "      <td>Others</td>\n",
       "      <td>Millenial</td>\n",
       "    </tr>\n",
       "    <tr>\n",
       "      <th>11</th>\n",
       "      <td>2020/1101-016/013</td>\n",
       "      <td>Ms</td>\n",
       "      <td>F</td>\n",
       "      <td>Singaporean</td>\n",
       "      <td>1989-02-10</td>\n",
       "      <td>Degree</td>\n",
       "      <td>Bachelor of Science (Business Management), Uni...</td>\n",
       "      <td>2019-08-01</td>\n",
       "      <td>No Designation</td>\n",
       "      <td>16th</td>\n",
       "      <td>...</td>\n",
       "      <td>GIRO</td>\n",
       "      <td>1712</td>\n",
       "      <td>4.0</td>\n",
       "      <td>L</td>\n",
       "      <td>455</td>\n",
       "      <td>1101</td>\n",
       "      <td>35</td>\n",
       "      <td>More Than 3.5</td>\n",
       "      <td>Others</td>\n",
       "      <td>Millenial</td>\n",
       "    </tr>\n",
       "    <tr>\n",
       "      <th>16</th>\n",
       "      <td>2020/1101-017/018</td>\n",
       "      <td>Ms</td>\n",
       "      <td>F</td>\n",
       "      <td>Singaporean</td>\n",
       "      <td>1983-06-18</td>\n",
       "      <td>Certificate</td>\n",
       "      <td>N level</td>\n",
       "      <td>2018-01-02</td>\n",
       "      <td>No Designation</td>\n",
       "      <td>17th</td>\n",
       "      <td>...</td>\n",
       "      <td>GIRO</td>\n",
       "      <td>1712</td>\n",
       "      <td>3.3</td>\n",
       "      <td>L</td>\n",
       "      <td>457</td>\n",
       "      <td>1101</td>\n",
       "      <td>41</td>\n",
       "      <td>3 - 3.5</td>\n",
       "      <td>Others</td>\n",
       "      <td>Middle Aged</td>\n",
       "    </tr>\n",
       "    <tr>\n",
       "      <th>20</th>\n",
       "      <td>2019/1101-007/003</td>\n",
       "      <td>Ms</td>\n",
       "      <td>F</td>\n",
       "      <td>Foreigner</td>\n",
       "      <td>1990-01-02</td>\n",
       "      <td>Degree</td>\n",
       "      <td>Bachelor of Business Administration, Universit...</td>\n",
       "      <td>2015-08-08</td>\n",
       "      <td>No Designation</td>\n",
       "      <td>7th</td>\n",
       "      <td>...</td>\n",
       "      <td>NETS</td>\n",
       "      <td>1712</td>\n",
       "      <td>3.1</td>\n",
       "      <td>F</td>\n",
       "      <td>455</td>\n",
       "      <td>1101</td>\n",
       "      <td>34</td>\n",
       "      <td>3 - 3.5</td>\n",
       "      <td>Others</td>\n",
       "      <td>Millenial</td>\n",
       "    </tr>\n",
       "    <tr>\n",
       "      <th>24</th>\n",
       "      <td>2019/1101-008/007</td>\n",
       "      <td>Ms</td>\n",
       "      <td>F</td>\n",
       "      <td>Permanent Resident</td>\n",
       "      <td>1979-10-22</td>\n",
       "      <td>Master</td>\n",
       "      <td>Master in Computer Science, Osmania University...</td>\n",
       "      <td>2015-06-07</td>\n",
       "      <td>No Designation</td>\n",
       "      <td>8th</td>\n",
       "      <td>...</td>\n",
       "      <td>Bank Transfer</td>\n",
       "      <td>1712</td>\n",
       "      <td>2.7</td>\n",
       "      <td>F</td>\n",
       "      <td>457</td>\n",
       "      <td>1101</td>\n",
       "      <td>44</td>\n",
       "      <td>2 - 3</td>\n",
       "      <td>Others</td>\n",
       "      <td>Middle Aged</td>\n",
       "    </tr>\n",
       "    <tr>\n",
       "      <th>45</th>\n",
       "      <td>2019/1101-011/029</td>\n",
       "      <td>Ms</td>\n",
       "      <td>F</td>\n",
       "      <td>Singaporean</td>\n",
       "      <td>1973-04-30</td>\n",
       "      <td>Certificate</td>\n",
       "      <td>Certified Accounting Technicians (CATS), ACCA,...</td>\n",
       "      <td>2016-09-10</td>\n",
       "      <td>No Designation</td>\n",
       "      <td>11th</td>\n",
       "      <td>...</td>\n",
       "      <td>Bank Transfer</td>\n",
       "      <td>1712</td>\n",
       "      <td>2.9</td>\n",
       "      <td>L</td>\n",
       "      <td>456</td>\n",
       "      <td>1101</td>\n",
       "      <td>51</td>\n",
       "      <td>2 - 3</td>\n",
       "      <td>Others</td>\n",
       "      <td>Middle Aged</td>\n",
       "    </tr>\n",
       "    <tr>\n",
       "      <th>47</th>\n",
       "      <td>2019/1101-012/031</td>\n",
       "      <td>Ms</td>\n",
       "      <td>F</td>\n",
       "      <td>Singaporean</td>\n",
       "      <td>1976-04-27</td>\n",
       "      <td>Certificate</td>\n",
       "      <td>O' level, 'N' Level, WPLN</td>\n",
       "      <td>2016-08-05</td>\n",
       "      <td>No Designation</td>\n",
       "      <td>12th</td>\n",
       "      <td>...</td>\n",
       "      <td>NETS</td>\n",
       "      <td>1712</td>\n",
       "      <td>3.1</td>\n",
       "      <td>L</td>\n",
       "      <td>457</td>\n",
       "      <td>1101</td>\n",
       "      <td>48</td>\n",
       "      <td>3 - 3.5</td>\n",
       "      <td>Others</td>\n",
       "      <td>Middle Aged</td>\n",
       "    </tr>\n",
       "    <tr>\n",
       "      <th>53</th>\n",
       "      <td>2020/2101-111/004</td>\n",
       "      <td>Ms</td>\n",
       "      <td>F</td>\n",
       "      <td>Singaporean</td>\n",
       "      <td>1992-04-18</td>\n",
       "      <td>Certificate</td>\n",
       "      <td>Foundation Certificate in HRM, SHRI Academy</td>\n",
       "      <td>2019-01-28</td>\n",
       "      <td>No Designation</td>\n",
       "      <td>111th</td>\n",
       "      <td>...</td>\n",
       "      <td>NETS</td>\n",
       "      <td>2996</td>\n",
       "      <td>2.4</td>\n",
       "      <td>L</td>\n",
       "      <td>268</td>\n",
       "      <td>2101</td>\n",
       "      <td>32</td>\n",
       "      <td>2 - 3</td>\n",
       "      <td>Others</td>\n",
       "      <td>Millenial</td>\n",
       "    </tr>\n",
       "    <tr>\n",
       "      <th>68</th>\n",
       "      <td>2019/2101-107/007</td>\n",
       "      <td>Ms</td>\n",
       "      <td>F</td>\n",
       "      <td>Singaporean</td>\n",
       "      <td>1999-05-24</td>\n",
       "      <td>Certificate</td>\n",
       "      <td>O' levels</td>\n",
       "      <td>2018-04-24</td>\n",
       "      <td>No Designation</td>\n",
       "      <td>107th</td>\n",
       "      <td>...</td>\n",
       "      <td>GIRO</td>\n",
       "      <td>2996</td>\n",
       "      <td>3.0</td>\n",
       "      <td>L</td>\n",
       "      <td>274</td>\n",
       "      <td>2101</td>\n",
       "      <td>25</td>\n",
       "      <td>3 - 3.5</td>\n",
       "      <td>Others</td>\n",
       "      <td>Millenial</td>\n",
       "    </tr>\n",
       "    <tr>\n",
       "      <th>69</th>\n",
       "      <td>2019/2101-107/008</td>\n",
       "      <td>Ms</td>\n",
       "      <td>F</td>\n",
       "      <td>Singaporean</td>\n",
       "      <td>2001-12-04</td>\n",
       "      <td>Certificate</td>\n",
       "      <td>O' levels</td>\n",
       "      <td>2015-05-24</td>\n",
       "      <td>No Designation</td>\n",
       "      <td>107th</td>\n",
       "      <td>...</td>\n",
       "      <td>NETS</td>\n",
       "      <td>2996</td>\n",
       "      <td>2.8</td>\n",
       "      <td>L</td>\n",
       "      <td>274</td>\n",
       "      <td>2101</td>\n",
       "      <td>22</td>\n",
       "      <td>2 - 3</td>\n",
       "      <td>Others</td>\n",
       "      <td>Millenial</td>\n",
       "    </tr>\n",
       "    <tr>\n",
       "      <th>70</th>\n",
       "      <td>2019/2101-107/009</td>\n",
       "      <td>Ms</td>\n",
       "      <td>F</td>\n",
       "      <td>Singaporean</td>\n",
       "      <td>1987-10-21</td>\n",
       "      <td>Certificate</td>\n",
       "      <td>WSQ Higher Certificate in Human Resources, HCS</td>\n",
       "      <td>2016-03-24</td>\n",
       "      <td>No Designation</td>\n",
       "      <td>107th</td>\n",
       "      <td>...</td>\n",
       "      <td>GIRO</td>\n",
       "      <td>2496</td>\n",
       "      <td>1.9</td>\n",
       "      <td>L</td>\n",
       "      <td>274</td>\n",
       "      <td>2101</td>\n",
       "      <td>36</td>\n",
       "      <td>1 - 2</td>\n",
       "      <td>Others</td>\n",
       "      <td>Middle Aged</td>\n",
       "    </tr>\n",
       "    <tr>\n",
       "      <th>89</th>\n",
       "      <td>2020/2102-068/006</td>\n",
       "      <td>Ms</td>\n",
       "      <td>F</td>\n",
       "      <td>Singaporean</td>\n",
       "      <td>1985-09-11</td>\n",
       "      <td>Certificate</td>\n",
       "      <td>Certificate in Opticianry Practice, Republic P...</td>\n",
       "      <td>2017-04-22</td>\n",
       "      <td>No Designation</td>\n",
       "      <td>68th</td>\n",
       "      <td>...</td>\n",
       "      <td>Bank Transfer</td>\n",
       "      <td>1388</td>\n",
       "      <td>1.8</td>\n",
       "      <td>L</td>\n",
       "      <td>61</td>\n",
       "      <td>2102</td>\n",
       "      <td>38</td>\n",
       "      <td>1 - 2</td>\n",
       "      <td>Others</td>\n",
       "      <td>Middle Aged</td>\n",
       "    </tr>\n",
       "    <tr>\n",
       "      <th>90</th>\n",
       "      <td>2020/2102-068/007</td>\n",
       "      <td>Ms</td>\n",
       "      <td>F</td>\n",
       "      <td>Singaporean</td>\n",
       "      <td>1989-08-26</td>\n",
       "      <td>Certificate</td>\n",
       "      <td>O level</td>\n",
       "      <td>2017-07-22</td>\n",
       "      <td>No Designation</td>\n",
       "      <td>68th</td>\n",
       "      <td>...</td>\n",
       "      <td>Bank Transfer</td>\n",
       "      <td>1388</td>\n",
       "      <td>2.8</td>\n",
       "      <td>L</td>\n",
       "      <td>61</td>\n",
       "      <td>2102</td>\n",
       "      <td>34</td>\n",
       "      <td>2 - 3</td>\n",
       "      <td>Others</td>\n",
       "      <td>Millenial</td>\n",
       "    </tr>\n",
       "    <tr>\n",
       "      <th>98</th>\n",
       "      <td>2020/2102-069/015</td>\n",
       "      <td>Mr</td>\n",
       "      <td>M</td>\n",
       "      <td>Singaporean</td>\n",
       "      <td>1996-05-05</td>\n",
       "      <td>Diploma</td>\n",
       "      <td>Diploma in Events Management, Kaplan</td>\n",
       "      <td>2018-10-30</td>\n",
       "      <td>No Designation</td>\n",
       "      <td>69th</td>\n",
       "      <td>...</td>\n",
       "      <td>Bank Transfer</td>\n",
       "      <td>1495</td>\n",
       "      <td>3.4</td>\n",
       "      <td>L</td>\n",
       "      <td>51</td>\n",
       "      <td>2102</td>\n",
       "      <td>28</td>\n",
       "      <td>3 - 3.5</td>\n",
       "      <td>Others</td>\n",
       "      <td>Millenial</td>\n",
       "    </tr>\n",
       "    <tr>\n",
       "      <th>102</th>\n",
       "      <td>2020/2102-069/019</td>\n",
       "      <td>Ms</td>\n",
       "      <td>F</td>\n",
       "      <td>Singaporean</td>\n",
       "      <td>1984-05-12</td>\n",
       "      <td>Diploma</td>\n",
       "      <td>Specialist Diploma in HRM, Nanyang Polytechnic</td>\n",
       "      <td>2017-02-28</td>\n",
       "      <td>No Designation</td>\n",
       "      <td>69th</td>\n",
       "      <td>...</td>\n",
       "      <td>Bank Transfer</td>\n",
       "      <td>1495</td>\n",
       "      <td>2.8</td>\n",
       "      <td>L</td>\n",
       "      <td>51</td>\n",
       "      <td>2102</td>\n",
       "      <td>40</td>\n",
       "      <td>2 - 3</td>\n",
       "      <td>Others</td>\n",
       "      <td>Middle Aged</td>\n",
       "    </tr>\n",
       "    <tr>\n",
       "      <th>103</th>\n",
       "      <td>2020/2102-069/020</td>\n",
       "      <td>Ms</td>\n",
       "      <td>F</td>\n",
       "      <td>Singaporean</td>\n",
       "      <td>1977-02-13</td>\n",
       "      <td>Diploma</td>\n",
       "      <td>Graduate Diploma in Business Administration (O...</td>\n",
       "      <td>2017-10-30</td>\n",
       "      <td>No Designation</td>\n",
       "      <td>69th</td>\n",
       "      <td>...</td>\n",
       "      <td>Bank Transfer</td>\n",
       "      <td>1495</td>\n",
       "      <td>3.0</td>\n",
       "      <td>L</td>\n",
       "      <td>51</td>\n",
       "      <td>2102</td>\n",
       "      <td>47</td>\n",
       "      <td>3 - 3.5</td>\n",
       "      <td>Others</td>\n",
       "      <td>Middle Aged</td>\n",
       "    </tr>\n",
       "    <tr>\n",
       "      <th>114</th>\n",
       "      <td>2020/2102-070/031</td>\n",
       "      <td>Ms</td>\n",
       "      <td>F</td>\n",
       "      <td>Singaporean</td>\n",
       "      <td>1972-09-06</td>\n",
       "      <td>Diploma</td>\n",
       "      <td>Professional Diploma in Leadership and People ...</td>\n",
       "      <td>2017-12-23</td>\n",
       "      <td>No Designation</td>\n",
       "      <td>70th</td>\n",
       "      <td>...</td>\n",
       "      <td>Bank Transfer</td>\n",
       "      <td>1388</td>\n",
       "      <td>3.3</td>\n",
       "      <td>L</td>\n",
       "      <td>306</td>\n",
       "      <td>2102</td>\n",
       "      <td>51</td>\n",
       "      <td>3 - 3.5</td>\n",
       "      <td>Others</td>\n",
       "      <td>Middle Aged</td>\n",
       "    </tr>\n",
       "    <tr>\n",
       "      <th>117</th>\n",
       "      <td>2020/2102-070/034</td>\n",
       "      <td>Ms</td>\n",
       "      <td>F</td>\n",
       "      <td>Singaporean</td>\n",
       "      <td>1973-12-07</td>\n",
       "      <td>Diploma</td>\n",
       "      <td>Diploma in Integrated Logistics Management, Th...</td>\n",
       "      <td>2018-07-23</td>\n",
       "      <td>No Designation</td>\n",
       "      <td>70th</td>\n",
       "      <td>...</td>\n",
       "      <td>GIRO</td>\n",
       "      <td>1495</td>\n",
       "      <td>2.9</td>\n",
       "      <td>L</td>\n",
       "      <td>306</td>\n",
       "      <td>2102</td>\n",
       "      <td>50</td>\n",
       "      <td>2 - 3</td>\n",
       "      <td>Others</td>\n",
       "      <td>Middle Aged</td>\n",
       "    </tr>\n",
       "    <tr>\n",
       "      <th>118</th>\n",
       "      <td>2020/2102-070/035</td>\n",
       "      <td>Ms</td>\n",
       "      <td>F</td>\n",
       "      <td>Singaporean</td>\n",
       "      <td>1978-12-10</td>\n",
       "      <td>Diploma</td>\n",
       "      <td>Diploma in Product &amp; Industrial Design, Temase...</td>\n",
       "      <td>2017-12-23</td>\n",
       "      <td>No Designation</td>\n",
       "      <td>70th</td>\n",
       "      <td>...</td>\n",
       "      <td>Bank Transfer</td>\n",
       "      <td>1415</td>\n",
       "      <td>3.1</td>\n",
       "      <td>L</td>\n",
       "      <td>306</td>\n",
       "      <td>2102</td>\n",
       "      <td>45</td>\n",
       "      <td>3 - 3.5</td>\n",
       "      <td>Others</td>\n",
       "      <td>Middle Aged</td>\n",
       "    </tr>\n",
       "    <tr>\n",
       "      <th>119</th>\n",
       "      <td>2020/2102-070/036</td>\n",
       "      <td>Ms</td>\n",
       "      <td>F</td>\n",
       "      <td>Foreigner</td>\n",
       "      <td>1980-03-16</td>\n",
       "      <td>Master</td>\n",
       "      <td>Master of Business Administration, Anna Univer...</td>\n",
       "      <td>2019-01-23</td>\n",
       "      <td>No Designation</td>\n",
       "      <td>70th</td>\n",
       "      <td>...</td>\n",
       "      <td>Bank Transfer</td>\n",
       "      <td>1388</td>\n",
       "      <td>2.8</td>\n",
       "      <td>L</td>\n",
       "      <td>306</td>\n",
       "      <td>2102</td>\n",
       "      <td>44</td>\n",
       "      <td>2 - 3</td>\n",
       "      <td>Others</td>\n",
       "      <td>Middle Aged</td>\n",
       "    </tr>\n",
       "    <tr>\n",
       "      <th>120</th>\n",
       "      <td>2020/2102-070/037</td>\n",
       "      <td>Ms</td>\n",
       "      <td>F</td>\n",
       "      <td>Singaporean</td>\n",
       "      <td>1990-09-21</td>\n",
       "      <td>Degree</td>\n",
       "      <td>Bachelor of Business, University of Tasmania</td>\n",
       "      <td>2017-09-23</td>\n",
       "      <td>No Designation</td>\n",
       "      <td>70th</td>\n",
       "      <td>...</td>\n",
       "      <td>Bank Transfer</td>\n",
       "      <td>1388</td>\n",
       "      <td>1.9</td>\n",
       "      <td>L</td>\n",
       "      <td>306</td>\n",
       "      <td>2102</td>\n",
       "      <td>33</td>\n",
       "      <td>1 - 2</td>\n",
       "      <td>Others</td>\n",
       "      <td>Millenial</td>\n",
       "    </tr>\n",
       "    <tr>\n",
       "      <th>124</th>\n",
       "      <td>2020/2102-070/041</td>\n",
       "      <td>Ms</td>\n",
       "      <td>F</td>\n",
       "      <td>Singaporean</td>\n",
       "      <td>1993-04-02</td>\n",
       "      <td>Degree</td>\n",
       "      <td>Bachelor of Science in Accounting &amp; Finance, UOL</td>\n",
       "      <td>2019-06-23</td>\n",
       "      <td>No Designation</td>\n",
       "      <td>70th</td>\n",
       "      <td>...</td>\n",
       "      <td>Bank Transfer</td>\n",
       "      <td>1388</td>\n",
       "      <td>3.6</td>\n",
       "      <td>L</td>\n",
       "      <td>306</td>\n",
       "      <td>2102</td>\n",
       "      <td>31</td>\n",
       "      <td>More Than 3.5</td>\n",
       "      <td>Others</td>\n",
       "      <td>Millenial</td>\n",
       "    </tr>\n",
       "    <tr>\n",
       "      <th>127</th>\n",
       "      <td>2019/2102-063/001</td>\n",
       "      <td>Ms</td>\n",
       "      <td>F</td>\n",
       "      <td>Singaporean</td>\n",
       "      <td>1969-10-02</td>\n",
       "      <td>Degree</td>\n",
       "      <td>Bachelor of Accountancy, NUS</td>\n",
       "      <td>2015-08-18</td>\n",
       "      <td>No Designation</td>\n",
       "      <td>63th</td>\n",
       "      <td>...</td>\n",
       "      <td>Bank Transfer</td>\n",
       "      <td>1388</td>\n",
       "      <td>3.0</td>\n",
       "      <td>L</td>\n",
       "      <td>56</td>\n",
       "      <td>2102</td>\n",
       "      <td>54</td>\n",
       "      <td>3 - 3.5</td>\n",
       "      <td>Others</td>\n",
       "      <td>Middle Aged</td>\n",
       "    </tr>\n",
       "    <tr>\n",
       "      <th>129</th>\n",
       "      <td>2019/2102-063/003</td>\n",
       "      <td>Ms</td>\n",
       "      <td>F</td>\n",
       "      <td>Singaporean</td>\n",
       "      <td>1982-07-25</td>\n",
       "      <td>Diploma</td>\n",
       "      <td>Diploma in Human Resource Management, PSB, ACTA</td>\n",
       "      <td>2016-06-18</td>\n",
       "      <td>No Designation</td>\n",
       "      <td>63th</td>\n",
       "      <td>...</td>\n",
       "      <td>Bank Transfer</td>\n",
       "      <td>1308</td>\n",
       "      <td>2.6</td>\n",
       "      <td>L</td>\n",
       "      <td>56</td>\n",
       "      <td>2102</td>\n",
       "      <td>41</td>\n",
       "      <td>2 - 3</td>\n",
       "      <td>Others</td>\n",
       "      <td>Middle Aged</td>\n",
       "    </tr>\n",
       "    <tr>\n",
       "      <th>133</th>\n",
       "      <td>2019/2102-063/007</td>\n",
       "      <td>Ms</td>\n",
       "      <td>F</td>\n",
       "      <td>Singaporean</td>\n",
       "      <td>1983-03-22</td>\n",
       "      <td>Diploma</td>\n",
       "      <td>Diploma in Maritime Studies, Institute of Mari...</td>\n",
       "      <td>2016-05-18</td>\n",
       "      <td>No Designation</td>\n",
       "      <td>63th</td>\n",
       "      <td>...</td>\n",
       "      <td>Bank Transfer</td>\n",
       "      <td>1388</td>\n",
       "      <td>3.1</td>\n",
       "      <td>L</td>\n",
       "      <td>56</td>\n",
       "      <td>2102</td>\n",
       "      <td>41</td>\n",
       "      <td>3 - 3.5</td>\n",
       "      <td>Others</td>\n",
       "      <td>Middle Aged</td>\n",
       "    </tr>\n",
       "    <tr>\n",
       "      <th>134</th>\n",
       "      <td>2019/2102-063/008</td>\n",
       "      <td>Ms</td>\n",
       "      <td>F</td>\n",
       "      <td>Singaporean</td>\n",
       "      <td>1979-11-11</td>\n",
       "      <td>Certificate</td>\n",
       "      <td>O' level</td>\n",
       "      <td>2016-03-18</td>\n",
       "      <td>No Designation</td>\n",
       "      <td>63th</td>\n",
       "      <td>...</td>\n",
       "      <td>Bank Transfer</td>\n",
       "      <td>1388</td>\n",
       "      <td>2.8</td>\n",
       "      <td>L</td>\n",
       "      <td>56</td>\n",
       "      <td>2102</td>\n",
       "      <td>44</td>\n",
       "      <td>2 - 3</td>\n",
       "      <td>Others</td>\n",
       "      <td>Middle Aged</td>\n",
       "    </tr>\n",
       "    <tr>\n",
       "      <th>136</th>\n",
       "      <td>2019/2102-064/010</td>\n",
       "      <td>Ms</td>\n",
       "      <td>F</td>\n",
       "      <td>Singaporean</td>\n",
       "      <td>1987-11-08</td>\n",
       "      <td>Diploma</td>\n",
       "      <td>Diploma in Business &amp; Human Resource Managemen...</td>\n",
       "      <td>2017-02-06</td>\n",
       "      <td>No Designation</td>\n",
       "      <td>64th</td>\n",
       "      <td>...</td>\n",
       "      <td>Bank Transfer</td>\n",
       "      <td>1388</td>\n",
       "      <td>3.3</td>\n",
       "      <td>L</td>\n",
       "      <td>1</td>\n",
       "      <td>2102</td>\n",
       "      <td>36</td>\n",
       "      <td>3 - 3.5</td>\n",
       "      <td>Others</td>\n",
       "      <td>Middle Aged</td>\n",
       "    </tr>\n",
       "    <tr>\n",
       "      <th>142</th>\n",
       "      <td>2019/2102-064/016</td>\n",
       "      <td>Ms</td>\n",
       "      <td>F</td>\n",
       "      <td>Singaporean</td>\n",
       "      <td>1993-07-18</td>\n",
       "      <td>Degree</td>\n",
       "      <td>Bachelor of Arts in Business and Finance, Cove...</td>\n",
       "      <td>2017-04-06</td>\n",
       "      <td>No Designation</td>\n",
       "      <td>64th</td>\n",
       "      <td>...</td>\n",
       "      <td>Bank Transfer</td>\n",
       "      <td>1388</td>\n",
       "      <td>2.2</td>\n",
       "      <td>L</td>\n",
       "      <td>1</td>\n",
       "      <td>2102</td>\n",
       "      <td>30</td>\n",
       "      <td>2 - 3</td>\n",
       "      <td>Others</td>\n",
       "      <td>Millenial</td>\n",
       "    </tr>\n",
       "    <tr>\n",
       "      <th>146</th>\n",
       "      <td>2019/2102-064/020</td>\n",
       "      <td>Ms</td>\n",
       "      <td>F</td>\n",
       "      <td>Singaporean</td>\n",
       "      <td>1973-04-11</td>\n",
       "      <td>Certificate</td>\n",
       "      <td>Certificate in Office Skills, ITE</td>\n",
       "      <td>2016-07-06</td>\n",
       "      <td>No Designation</td>\n",
       "      <td>64th</td>\n",
       "      <td>...</td>\n",
       "      <td>Bank Transfer</td>\n",
       "      <td>1415</td>\n",
       "      <td>3.4</td>\n",
       "      <td>L</td>\n",
       "      <td>1</td>\n",
       "      <td>2102</td>\n",
       "      <td>51</td>\n",
       "      <td>3 - 3.5</td>\n",
       "      <td>Others</td>\n",
       "      <td>Middle Aged</td>\n",
       "    </tr>\n",
       "    <tr>\n",
       "      <th>150</th>\n",
       "      <td>2019/2102-065/024</td>\n",
       "      <td>Ms</td>\n",
       "      <td>F</td>\n",
       "      <td>Singaporean</td>\n",
       "      <td>1972-01-13</td>\n",
       "      <td>Degree</td>\n",
       "      <td>Bachelor of Commerce, University of Mumbai</td>\n",
       "      <td>2016-10-22</td>\n",
       "      <td>No Designation</td>\n",
       "      <td>65th</td>\n",
       "      <td>...</td>\n",
       "      <td>Bank Transfer</td>\n",
       "      <td>1388</td>\n",
       "      <td>2.9</td>\n",
       "      <td>L</td>\n",
       "      <td>60</td>\n",
       "      <td>2102</td>\n",
       "      <td>52</td>\n",
       "      <td>2 - 3</td>\n",
       "      <td>Others</td>\n",
       "      <td>Middle Aged</td>\n",
       "    </tr>\n",
       "    <tr>\n",
       "      <th>151</th>\n",
       "      <td>2019/2102-065/025</td>\n",
       "      <td>Ms</td>\n",
       "      <td>F</td>\n",
       "      <td>Permanent Resident</td>\n",
       "      <td>1977-03-13</td>\n",
       "      <td>Degree</td>\n",
       "      <td>Unknown Institution / Qualification</td>\n",
       "      <td>2015-08-22</td>\n",
       "      <td>No Designation</td>\n",
       "      <td>65th</td>\n",
       "      <td>...</td>\n",
       "      <td>Bank Transfer</td>\n",
       "      <td>1388</td>\n",
       "      <td>2.8</td>\n",
       "      <td>L</td>\n",
       "      <td>60</td>\n",
       "      <td>2102</td>\n",
       "      <td>47</td>\n",
       "      <td>2 - 3</td>\n",
       "      <td>Others</td>\n",
       "      <td>Middle Aged</td>\n",
       "    </tr>\n",
       "    <tr>\n",
       "      <th>153</th>\n",
       "      <td>2019/2102-065/027</td>\n",
       "      <td>Ms</td>\n",
       "      <td>F</td>\n",
       "      <td>Foreigner</td>\n",
       "      <td>1982-05-20</td>\n",
       "      <td>Master</td>\n",
       "      <td>Master of Business Administration (HR), Amity ...</td>\n",
       "      <td>2018-08-22</td>\n",
       "      <td>No Designation</td>\n",
       "      <td>65th</td>\n",
       "      <td>...</td>\n",
       "      <td>Bank Transfer</td>\n",
       "      <td>888</td>\n",
       "      <td>3.1</td>\n",
       "      <td>F</td>\n",
       "      <td>60</td>\n",
       "      <td>2102</td>\n",
       "      <td>42</td>\n",
       "      <td>3 - 3.5</td>\n",
       "      <td>Others</td>\n",
       "      <td>Middle Aged</td>\n",
       "    </tr>\n",
       "    <tr>\n",
       "      <th>158</th>\n",
       "      <td>2019/2102-065/032</td>\n",
       "      <td>Ms</td>\n",
       "      <td>F</td>\n",
       "      <td>Singaporean</td>\n",
       "      <td>1967-09-16</td>\n",
       "      <td>Certificate</td>\n",
       "      <td>A' level</td>\n",
       "      <td>2017-02-22</td>\n",
       "      <td>No Designation</td>\n",
       "      <td>65th</td>\n",
       "      <td>...</td>\n",
       "      <td>Bank Transfer</td>\n",
       "      <td>1495</td>\n",
       "      <td>2.2</td>\n",
       "      <td>L</td>\n",
       "      <td>60</td>\n",
       "      <td>2102</td>\n",
       "      <td>56</td>\n",
       "      <td>2 - 3</td>\n",
       "      <td>Others</td>\n",
       "      <td>Middle Aged</td>\n",
       "    </tr>\n",
       "    <tr>\n",
       "      <th>163</th>\n",
       "      <td>2019/2102-065/037</td>\n",
       "      <td>Ms</td>\n",
       "      <td>F</td>\n",
       "      <td>Permanent Resident</td>\n",
       "      <td>1984-02-24</td>\n",
       "      <td>Master</td>\n",
       "      <td>MBA, Mangalore University</td>\n",
       "      <td>2016-06-22</td>\n",
       "      <td>No Designation</td>\n",
       "      <td>65th</td>\n",
       "      <td>...</td>\n",
       "      <td>Bank Transfer</td>\n",
       "      <td>1388</td>\n",
       "      <td>2.5</td>\n",
       "      <td>F</td>\n",
       "      <td>60</td>\n",
       "      <td>2102</td>\n",
       "      <td>40</td>\n",
       "      <td>2 - 3</td>\n",
       "      <td>Others</td>\n",
       "      <td>Middle Aged</td>\n",
       "    </tr>\n",
       "    <tr>\n",
       "      <th>170</th>\n",
       "      <td>2019/2102-066/044</td>\n",
       "      <td>Ms</td>\n",
       "      <td>F</td>\n",
       "      <td>Singaporean</td>\n",
       "      <td>1967-03-17</td>\n",
       "      <td>Certificate</td>\n",
       "      <td>A' level</td>\n",
       "      <td>2016-05-25</td>\n",
       "      <td>No Designation</td>\n",
       "      <td>66th</td>\n",
       "      <td>...</td>\n",
       "      <td>Bank Transfer</td>\n",
       "      <td>1388</td>\n",
       "      <td>2.0</td>\n",
       "      <td>L</td>\n",
       "      <td>58</td>\n",
       "      <td>2102</td>\n",
       "      <td>57</td>\n",
       "      <td>2 - 3</td>\n",
       "      <td>Others</td>\n",
       "      <td>Middle Aged</td>\n",
       "    </tr>\n",
       "  </tbody>\n",
       "</table>\n",
       "<p>36 rows × 25 columns</p>\n",
       "</div>"
      ],
      "text/plain": [
       "            STUDENT ID SALUTATION GENDER         NATIONALITY         DOB  \\\n",
       "8    2020/1101-015/010         Ms      F         Singaporean  1977-09-06   \n",
       "9    2020/1101-015/011         Ms      F         Singaporean  1991-05-12   \n",
       "11   2020/1101-016/013         Ms      F         Singaporean  1989-02-10   \n",
       "16   2020/1101-017/018         Ms      F         Singaporean  1983-06-18   \n",
       "20   2019/1101-007/003         Ms      F           Foreigner  1990-01-02   \n",
       "24   2019/1101-008/007         Ms      F  Permanent Resident  1979-10-22   \n",
       "45   2019/1101-011/029         Ms      F         Singaporean  1973-04-30   \n",
       "47   2019/1101-012/031         Ms      F         Singaporean  1976-04-27   \n",
       "53   2020/2101-111/004         Ms      F         Singaporean  1992-04-18   \n",
       "68   2019/2101-107/007         Ms      F         Singaporean  1999-05-24   \n",
       "69   2019/2101-107/008         Ms      F         Singaporean  2001-12-04   \n",
       "70   2019/2101-107/009         Ms      F         Singaporean  1987-10-21   \n",
       "89   2020/2102-068/006         Ms      F         Singaporean  1985-09-11   \n",
       "90   2020/2102-068/007         Ms      F         Singaporean  1989-08-26   \n",
       "98   2020/2102-069/015         Mr      M         Singaporean  1996-05-05   \n",
       "102  2020/2102-069/019         Ms      F         Singaporean  1984-05-12   \n",
       "103  2020/2102-069/020         Ms      F         Singaporean  1977-02-13   \n",
       "114  2020/2102-070/031         Ms      F         Singaporean  1972-09-06   \n",
       "117  2020/2102-070/034         Ms      F         Singaporean  1973-12-07   \n",
       "118  2020/2102-070/035         Ms      F         Singaporean  1978-12-10   \n",
       "119  2020/2102-070/036         Ms      F           Foreigner  1980-03-16   \n",
       "120  2020/2102-070/037         Ms      F         Singaporean  1990-09-21   \n",
       "124  2020/2102-070/041         Ms      F         Singaporean  1993-04-02   \n",
       "127  2019/2102-063/001         Ms      F         Singaporean  1969-10-02   \n",
       "129  2019/2102-063/003         Ms      F         Singaporean  1982-07-25   \n",
       "133  2019/2102-063/007         Ms      F         Singaporean  1983-03-22   \n",
       "134  2019/2102-063/008         Ms      F         Singaporean  1979-11-11   \n",
       "136  2019/2102-064/010         Ms      F         Singaporean  1987-11-08   \n",
       "142  2019/2102-064/016         Ms      F         Singaporean  1993-07-18   \n",
       "146  2019/2102-064/020         Ms      F         Singaporean  1973-04-11   \n",
       "150  2019/2102-065/024         Ms      F         Singaporean  1972-01-13   \n",
       "151  2019/2102-065/025         Ms      F  Permanent Resident  1977-03-13   \n",
       "153  2019/2102-065/027         Ms      F           Foreigner  1982-05-20   \n",
       "158  2019/2102-065/032         Ms      F         Singaporean  1967-09-16   \n",
       "163  2019/2102-065/037         Ms      F  Permanent Resident  1984-02-24   \n",
       "170  2019/2102-066/044         Ms      F         Singaporean  1967-03-17   \n",
       "\n",
       "    HIGHEST QUALIFICATION              NAME OF QUALIFICATION AND INSTITUTION  \\\n",
       "8                  Degree  Bachelor of Business (Advertising), Queensland...   \n",
       "9                 Diploma  Diploma in Environmental Science, Republic Pol...   \n",
       "11                 Degree  Bachelor of Science (Business Management), Uni...   \n",
       "16            Certificate                                            N level   \n",
       "20                 Degree  Bachelor of Business Administration, Universit...   \n",
       "24                 Master  Master in Computer Science, Osmania University...   \n",
       "45            Certificate  Certified Accounting Technicians (CATS), ACCA,...   \n",
       "47            Certificate                          O' level, 'N' Level, WPLN   \n",
       "53            Certificate        Foundation Certificate in HRM, SHRI Academy   \n",
       "68            Certificate                                          O' levels   \n",
       "69            Certificate                                          O' levels   \n",
       "70            Certificate    WSQ Higher Certificate in Human Resources, HCS    \n",
       "89            Certificate  Certificate in Opticianry Practice, Republic P...   \n",
       "90            Certificate                                            O level   \n",
       "98                Diploma               Diploma in Events Management, Kaplan   \n",
       "102               Diploma     Specialist Diploma in HRM, Nanyang Polytechnic   \n",
       "103               Diploma  Graduate Diploma in Business Administration (O...   \n",
       "114               Diploma  Professional Diploma in Leadership and People ...   \n",
       "117               Diploma  Diploma in Integrated Logistics Management, Th...   \n",
       "118               Diploma  Diploma in Product & Industrial Design, Temase...   \n",
       "119                Master  Master of Business Administration, Anna Univer...   \n",
       "120                Degree       Bachelor of Business, University of Tasmania   \n",
       "124                Degree   Bachelor of Science in Accounting & Finance, UOL   \n",
       "127                Degree                       Bachelor of Accountancy, NUS   \n",
       "129               Diploma    Diploma in Human Resource Management, PSB, ACTA   \n",
       "133               Diploma  Diploma in Maritime Studies, Institute of Mari...   \n",
       "134           Certificate                                           O' level   \n",
       "136               Diploma  Diploma in Business & Human Resource Managemen...   \n",
       "142                Degree  Bachelor of Arts in Business and Finance, Cove...   \n",
       "146           Certificate                  Certificate in Office Skills, ITE   \n",
       "150                Degree         Bachelor of Commerce, University of Mumbai   \n",
       "151                Degree                Unknown Institution / Qualification   \n",
       "153                Master  Master of Business Administration (HR), Amity ...   \n",
       "158           Certificate                                           A' level   \n",
       "163                Master                          MBA, Mangalore University   \n",
       "170           Certificate                                           A' level   \n",
       "\n",
       "    DATE ATTAINED HIGHEST QUALIFICATION     DESIGNATION INTAKE NO  ...  \\\n",
       "8                            2018-10-06  No Designation      15th  ...   \n",
       "9                            2016-09-06  No Designation      15th  ...   \n",
       "11                           2019-08-01  No Designation      16th  ...   \n",
       "16                           2018-01-02  No Designation      17th  ...   \n",
       "20                           2015-08-08  No Designation       7th  ...   \n",
       "24                           2015-06-07  No Designation       8th  ...   \n",
       "45                           2016-09-10  No Designation      11th  ...   \n",
       "47                           2016-08-05  No Designation      12th  ...   \n",
       "53                           2019-01-28  No Designation     111th  ...   \n",
       "68                           2018-04-24  No Designation     107th  ...   \n",
       "69                           2015-05-24  No Designation     107th  ...   \n",
       "70                           2016-03-24  No Designation     107th  ...   \n",
       "89                           2017-04-22  No Designation      68th  ...   \n",
       "90                           2017-07-22  No Designation      68th  ...   \n",
       "98                           2018-10-30  No Designation      69th  ...   \n",
       "102                          2017-02-28  No Designation      69th  ...   \n",
       "103                          2017-10-30  No Designation      69th  ...   \n",
       "114                          2017-12-23  No Designation      70th  ...   \n",
       "117                          2018-07-23  No Designation      70th  ...   \n",
       "118                          2017-12-23  No Designation      70th  ...   \n",
       "119                          2019-01-23  No Designation      70th  ...   \n",
       "120                          2017-09-23  No Designation      70th  ...   \n",
       "124                          2019-06-23  No Designation      70th  ...   \n",
       "127                          2015-08-18  No Designation      63th  ...   \n",
       "129                          2016-06-18  No Designation      63th  ...   \n",
       "133                          2016-05-18  No Designation      63th  ...   \n",
       "134                          2016-03-18  No Designation      63th  ...   \n",
       "136                          2017-02-06  No Designation      64th  ...   \n",
       "142                          2017-04-06  No Designation      64th  ...   \n",
       "146                          2016-07-06  No Designation      64th  ...   \n",
       "150                          2016-10-22  No Designation      65th  ...   \n",
       "151                          2015-08-22  No Designation      65th  ...   \n",
       "153                          2018-08-22  No Designation      65th  ...   \n",
       "158                          2017-02-22  No Designation      65th  ...   \n",
       "163                          2016-06-22  No Designation      65th  ...   \n",
       "170                          2016-05-25  No Designation      66th  ...   \n",
       "\n",
       "      PAYMENT MODE COURSE FEE  GPA CITIZENSHIP_STATUS  date_diff COURSE  Age  \\\n",
       "8             GIRO       1712  2.2                  L        456   1101   46   \n",
       "9             GIRO       1712  3.1                  L        456   1101   33   \n",
       "11            GIRO       1712  4.0                  L        455   1101   35   \n",
       "16            GIRO       1712  3.3                  L        457   1101   41   \n",
       "20            NETS       1712  3.1                  F        455   1101   34   \n",
       "24   Bank Transfer       1712  2.7                  F        457   1101   44   \n",
       "45   Bank Transfer       1712  2.9                  L        456   1101   51   \n",
       "47            NETS       1712  3.1                  L        457   1101   48   \n",
       "53            NETS       2996  2.4                  L        268   2101   32   \n",
       "68            GIRO       2996  3.0                  L        274   2101   25   \n",
       "69            NETS       2996  2.8                  L        274   2101   22   \n",
       "70            GIRO       2496  1.9                  L        274   2101   36   \n",
       "89   Bank Transfer       1388  1.8                  L         61   2102   38   \n",
       "90   Bank Transfer       1388  2.8                  L         61   2102   34   \n",
       "98   Bank Transfer       1495  3.4                  L         51   2102   28   \n",
       "102  Bank Transfer       1495  2.8                  L         51   2102   40   \n",
       "103  Bank Transfer       1495  3.0                  L         51   2102   47   \n",
       "114  Bank Transfer       1388  3.3                  L        306   2102   51   \n",
       "117           GIRO       1495  2.9                  L        306   2102   50   \n",
       "118  Bank Transfer       1415  3.1                  L        306   2102   45   \n",
       "119  Bank Transfer       1388  2.8                  L        306   2102   44   \n",
       "120  Bank Transfer       1388  1.9                  L        306   2102   33   \n",
       "124  Bank Transfer       1388  3.6                  L        306   2102   31   \n",
       "127  Bank Transfer       1388  3.0                  L         56   2102   54   \n",
       "129  Bank Transfer       1308  2.6                  L         56   2102   41   \n",
       "133  Bank Transfer       1388  3.1                  L         56   2102   41   \n",
       "134  Bank Transfer       1388  2.8                  L         56   2102   44   \n",
       "136  Bank Transfer       1388  3.3                  L          1   2102   36   \n",
       "142  Bank Transfer       1388  2.2                  L          1   2102   30   \n",
       "146  Bank Transfer       1415  3.4                  L          1   2102   51   \n",
       "150  Bank Transfer       1388  2.9                  L         60   2102   52   \n",
       "151  Bank Transfer       1388  2.8                  L         60   2102   47   \n",
       "153  Bank Transfer        888  3.1                  F         60   2102   42   \n",
       "158  Bank Transfer       1495  2.2                  L         60   2102   56   \n",
       "163  Bank Transfer       1388  2.5                  F         60   2102   40   \n",
       "170  Bank Transfer       1388  2.0                  L         58   2102   57   \n",
       "\n",
       "      GPA Category Job Category    Age Group  \n",
       "8            2 - 3       Others  Middle Aged  \n",
       "9          3 - 3.5       Others    Millenial  \n",
       "11   More Than 3.5       Others    Millenial  \n",
       "16         3 - 3.5       Others  Middle Aged  \n",
       "20         3 - 3.5       Others    Millenial  \n",
       "24           2 - 3       Others  Middle Aged  \n",
       "45           2 - 3       Others  Middle Aged  \n",
       "47         3 - 3.5       Others  Middle Aged  \n",
       "53           2 - 3       Others    Millenial  \n",
       "68         3 - 3.5       Others    Millenial  \n",
       "69           2 - 3       Others    Millenial  \n",
       "70           1 - 2       Others  Middle Aged  \n",
       "89           1 - 2       Others  Middle Aged  \n",
       "90           2 - 3       Others    Millenial  \n",
       "98         3 - 3.5       Others    Millenial  \n",
       "102          2 - 3       Others  Middle Aged  \n",
       "103        3 - 3.5       Others  Middle Aged  \n",
       "114        3 - 3.5       Others  Middle Aged  \n",
       "117          2 - 3       Others  Middle Aged  \n",
       "118        3 - 3.5       Others  Middle Aged  \n",
       "119          2 - 3       Others  Middle Aged  \n",
       "120          1 - 2       Others    Millenial  \n",
       "124  More Than 3.5       Others    Millenial  \n",
       "127        3 - 3.5       Others  Middle Aged  \n",
       "129          2 - 3       Others  Middle Aged  \n",
       "133        3 - 3.5       Others  Middle Aged  \n",
       "134          2 - 3       Others  Middle Aged  \n",
       "136        3 - 3.5       Others  Middle Aged  \n",
       "142          2 - 3       Others    Millenial  \n",
       "146        3 - 3.5       Others  Middle Aged  \n",
       "150          2 - 3       Others  Middle Aged  \n",
       "151          2 - 3       Others  Middle Aged  \n",
       "153        3 - 3.5       Others  Middle Aged  \n",
       "158          2 - 3       Others  Middle Aged  \n",
       "163          2 - 3       Others  Middle Aged  \n",
       "170          2 - 3       Others  Middle Aged  \n",
       "\n",
       "[36 rows x 25 columns]"
      ]
     },
     "execution_count": 66,
     "metadata": {},
     "output_type": "execute_result"
    }
   ],
   "source": [
    "df[df['DESIGNATION'] == 'No Designation']"
   ]
  },
  {
   "cell_type": "code",
   "execution_count": 67,
   "metadata": {},
   "outputs": [],
   "source": [
    "df['Age Group'] = pd.cut(df['Age'], bins=[0, 25, 40, np.inf], labels=['Below 25', '25 to 40', '40 and Above'])"
   ]
  },
  {
   "cell_type": "code",
   "execution_count": 113,
   "metadata": {},
   "outputs": [
    {
     "data": {
      "text/html": [
       "\n",
       "        <iframe\n",
       "            width=\"100%\"\n",
       "            height=\"650\"\n",
       "            src=\"http://127.0.0.1:8050/\"\n",
       "            frameborder=\"0\"\n",
       "            allowfullscreen\n",
       "            \n",
       "        ></iframe>\n",
       "        "
      ],
      "text/plain": [
       "<IPython.lib.display.IFrame at 0x21edf971eb0>"
      ]
     },
     "metadata": {},
     "output_type": "display_data"
    }
   ],
   "source": [
    "import dash\n",
    "import dash_bootstrap_components as dbc\n",
    "from dash import dcc, html\n",
    "from dash.dependencies import Input, Output\n",
    "import plotly.graph_objects as go\n",
    "import pandas as pd\n",
    "\n",
    "app = dash.Dash(__name__, external_stylesheets=[dbc.themes.FLATLY])\n",
    "\n",
    "colors = {\n",
    "    'background': '#f8f9fa',\n",
    "    'text': '#2c3e50',\n",
    "    'primary': '#3498db',\n",
    "    'secondary': '#2ecc71',\n",
    "    'accent': '#e74c3c'\n",
    "}\n",
    "\n",
    "# Assume df is your DataFrame\n",
    "# Make sure to load your data into df before this point\n",
    "\n",
    "def create_heatmap(df, x_axis, y_axis, title_suffix=''):\n",
    "    heatmap_data = pd.crosstab(df[y_axis], df[x_axis])\n",
    "    \n",
    "    fig_heatmap = go.Figure(data=go.Heatmap(\n",
    "                   z=heatmap_data.values,\n",
    "                   x=heatmap_data.columns,\n",
    "                   y=heatmap_data.index,\n",
    "                   colorscale='Blues',\n",
    "                   text=heatmap_data.values,\n",
    "                   texttemplate='%{text}',\n",
    "                   colorbar=dict(title='Count')\n",
    "    ))\n",
    "\n",
    "    fig_heatmap.update_layout(\n",
    "        title={\n",
    "            'text': f'{y_axis} vs {x_axis} {title_suffix}',\n",
    "            'x': 0.5,\n",
    "            'xanchor': 'center',\n",
    "            'yanchor': 'top'\n",
    "        },\n",
    "        xaxis_title=x_axis,\n",
    "        yaxis_title=y_axis,\n",
    "        plot_bgcolor=colors['background'],\n",
    "        paper_bgcolor=colors['background'],\n",
    "        font_color=colors['text'],\n",
    "        title_font_size=20,\n",
    "        legend_title_font_size=14,\n",
    "        legend_font_size=12,\n",
    "        margin=dict(l=40, r=40, t=40, b=40), height=400\n",
    "    )\n",
    "    \n",
    "    return fig_heatmap\n",
    "\n",
    "def create_age_distribution_pie(df):\n",
    "    age_counts = df['Age Group'].value_counts()\n",
    "    fig = go.Figure(data=[go.Pie(\n",
    "        labels=age_counts.index, \n",
    "        values=age_counts.values, \n",
    "        hole=0.35,\n",
    "        textposition='inside',\n",
    "        insidetextorientation='radial'\n",
    "    )])\n",
    "    fig.update_layout(\n",
    "        legend=dict(\n",
    "            orientation=\"h\",\n",
    "            y=-0.01,\n",
    "            x=0.5\n",
    "        ),\n",
    "        margin=dict(l=20, r=20, t=2, b=2),\n",
    "        autosize=True\n",
    "    )\n",
    "    return fig\n",
    "\n",
    "age_groups = df['HIGHEST QUALIFICATION'].unique()\n",
    "categorical_columns = df.select_dtypes(include=['object', 'category']).columns.tolist()\n",
    "categorical_columns = [col for col in categorical_columns if col not in [\n",
    "    'STUDENT ID', 'NAME OF QUALIFICATION AND INSTITUTION', 'DATE ATTAINED HIGHEST QUALIFICATION',\n",
    "    'DESIGNATION', 'INTAKE NO', 'COMMENCEMENT DATE', 'FULL-TIME OR PART-TIME', 'COURSE FUNDING',\n",
    "    'PAYMENT MODE', 'DOB', 'COMPLETION DATE', 'SALUTATION', 'HIGHEST QUALIFICATION'\n",
    "]]\n",
    "\n",
    "app.layout = dbc.Container([\n",
    "    dbc.Row([\n",
    "        dbc.Col([\n",
    "            html.H1(\"Rejey DAVI Dashboard\", className=\"display-4 text-primary mb-4\")\n",
    "        ], width=12, className='text-center')\n",
    "    ]),\n",
    "\n",
    "    dbc.Row([\n",
    "        dbc.Col([\n",
    "            dbc.Card([\n",
    "                dbc.CardBody([\n",
    "                    html.H4(\"Filters\", className=\"card-title mb-4\", style={'text-align': 'center','text-decoration': 'underline'}),\n",
    "                    html.H6(\"X axis\", className='text-muted mt-4'),\n",
    "                    dcc.Dropdown(\n",
    "                        id='x-axis',\n",
    "                        options=[{'label': cat, 'value': cat} for cat in categorical_columns],\n",
    "                        value='Age Group',\n",
    "                        style={'color': colors['text']},\n",
    "                        className=\"mb-3\"\n",
    "                    ),\n",
    "                    html.H6(\"Y axis\", className='text-muted mt-4'),\n",
    "                    dcc.Dropdown(\n",
    "                        id='y-axis',\n",
    "                        options=[{'label': cat, 'value': cat} for cat in categorical_columns],\n",
    "                        value='Job Category',\n",
    "                        style={'color': colors['text']},\n",
    "                        className=\"mb-3\"\n",
    "                    ),\n",
    "                    html.H6(\"Job Category\", className=\"text-muted\"),\n",
    "                    dcc.Dropdown(\n",
    "                        id='Job-category',\n",
    "                        options=[{'label': 'All Data', 'value': 'ALL'}] + [{'label': category, 'value': category} for category in df['Job Category'].unique()],\n",
    "                        value='ALL',\n",
    "                        multi=True,\n",
    "                        style={'color': colors['text']},\n",
    "                        className=\"mb-3\"\n",
    "                    ),\n",
    "                    html.H6(\"Nationality\", className='text-muted mt-4'),\n",
    "                    dcc.Dropdown(\n",
    "                        id='radio-buttons',\n",
    "                        options=[{'label': 'All Data', 'value': 'ALL'}] + [{'label': nat, 'value': nat} for nat in df['NATIONALITY'].unique()],\n",
    "                        value='ALL',\n",
    "                        style={'color': colors['text']},\n",
    "                        className=\"mb-3\"\n",
    "                    ),\n",
    "                    html.H6(\"Gender\", className='text-muted mt-4'),\n",
    "                    dbc.RadioItems(\n",
    "                        id='Gender',\n",
    "                        options=[\n",
    "                            {'label': 'All', 'value': 'ALL'},\n",
    "                            {'label': 'Male', 'value': 'M'},\n",
    "                            {'label': 'Female', 'value': 'F'}\n",
    "                        ],\n",
    "                        value='ALL',\n",
    "                        inline=True,\n",
    "                        className=\"mb-3\"\n",
    "                    )\n",
    "                ])\n",
    "            ], className=\"shadow-sm\", style={'border-radius': '10px','height':'95.5%'})\n",
    "        ], width=3),\n",
    "\n",
    "        dbc.Col([\n",
    "            dbc.Card([\n",
    "                dbc.CardBody([\n",
    "                    dcc.Tabs(id='heatmap-tabs', value=age_groups[0], children=[\n",
    "                        dcc.Tab(label=group, value=group) for group in age_groups\n",
    "                    ]),\n",
    "                    html.Div(id='heatmap-container')\n",
    "                ])\n",
    "            ], className=\"mb-4\"),\n",
    "        ], width=9)\n",
    "    ]),\n",
    "\n",
    "    dbc.Row([\n",
    "        dbc.Col([\n",
    "            dbc.Card([\n",
    "                dbc.CardBody([\n",
    "                    html.H4(\"Summary\", className=\"card-title mb-4\", style={'text-align': 'center', 'text-decoration': 'underline','font-weight':'bold'}),\n",
    "                    dbc.Row(\n",
    "                        [\n",
    "                            dbc.Col(html.H5(\"Total Students\", className=\"card-title mb-2\", style={'text-align': 'left','font-weight':'bold'}), width=\"auto\"),\n",
    "                            dbc.Col(html.H6(\n",
    "                                html.H4(id='Total_Students', style={'text-align': 'right'})\n",
    "                            ), width=\"auto\", style={'text-align': 'right'})\n",
    "                        ],\n",
    "                        className=\"d-flex justify-content-between\"\n",
    "                    ),\n",
    "                    html.Hr(),\n",
    "                    dbc.Row(\n",
    "                        [\n",
    "                            dbc.Col(html.H5(\"Overall GPA\", className=\"card-title mt-2 mb-2\", style={'text-align': 'left','font-weight':'bold'}), width=\"auto\"),\n",
    "                            dbc.Col(html.H6(\n",
    "                                html.H4(id='Overall_Gpa',className='mt-2', style={'text-align': 'right'})\n",
    "                            ), width=\"auto\", style={'text-align': 'right'})\n",
    "                        ],\n",
    "                        className=\"d-flex justify-content-between\"\n",
    "                    ),\n",
    "                    html.Hr(),\n",
    "                    dbc.Row(\n",
    "                        [\n",
    "                            dbc.Col(html.H5(\"Course\", className=\"card-title mt-2 mb-4\", style={'text-align': 'left','font-weight':'bold'}), width=\"auto\"),\n",
    "                            dbc.Col(html.H5(\"Average GPA\", className=\"card-title mt-2 mb-4\", style={'text-align': 'right','font-weight':'bold'}), width=\"auto\")\n",
    "                        ],\n",
    "                        className=\"d-flex justify-content-between\"\n",
    "                    ),\n",
    "                    dbc.Row(\n",
    "                        [\n",
    "                            dbc.Col(html.H6('Diploma in Business Administration', style={'text-align': 'left'}), width=\"auto\"),\n",
    "                            dbc.Col(html.H6(\n",
    "                                html.H4(id='1-gpa', style={'text-align': 'right'})\n",
    "                            ), width=\"auto\", style={'text-align': 'right'})\n",
    "                        ],\n",
    "                        className=\"d-flex justify-content-between\"\n",
    "                    ),\n",
    "                    dbc.Row(\n",
    "                        [\n",
    "                            dbc.Col(html.H6('Certificate in HR Management', style={'text-align': 'left'}), width=\"auto\"),\n",
    "                            dbc.Col(html.H6(\n",
    "                                html.H4(id='2-gpa', style={'text-align': 'right'})\n",
    "                            ), width=\"auto\", style={'text-align': 'right'})\n",
    "                        ],\n",
    "                        className=\"d-flex justify-content-between\"\n",
    "                    ),\n",
    "                    dbc.Row(\n",
    "                        [\n",
    "                            dbc.Col(html.H6('Certificate in Digital Marketing', style={'text-align': 'left'}), width=\"auto\"),\n",
    "                            dbc.Col(html.H6(\n",
    "                                html.H4(id='3-gpa', style={'text-align': 'right'})\n",
    "                            ), width=\"auto\", style={'text-align': 'right'})\n",
    "                        ],\n",
    "                        className=\"d-flex justify-content-between\"\n",
    "                    ),\n",
    "                    dbc.Row(\n",
    "                        [\n",
    "                            dbc.Col(html.H6('Bachelor of Business Administration', style={'text-align': 'left'}), width=\"auto\"),\n",
    "                            dbc.Col(html.H6(\n",
    "                                html.H4(id='4-gpa', style={'text-align': 'right'})\n",
    "                            ), width=\"auto\", style={'text-align': 'right'})\n",
    "                        ],\n",
    "                        className=\"d-flex justify-content-between\"\n",
    "                    ),\n",
    "                    dbc.Row(\n",
    "                        [\n",
    "                            dbc.Col(html.H6('Master of Business Administration', style={'text-align': 'left'}), width=\"auto\"),\n",
    "                            dbc.Col(html.H6(\n",
    "                                html.H4(id='5-gpa', style={'text-align': 'right'})\n",
    "                            ), width=\"auto\", style={'text-align': 'right'})\n",
    "                        ],\n",
    "                        className=\"d-flex justify-content-between\"\n",
    "                    )\n",
    "                ])\n",
    "            ], className=\"mb-4\")\n",
    "        ], width=3),\n",
    "\n",
    "        dbc.Col([\n",
    "            dbc.Card([\n",
    "                dbc.CardBody([\n",
    "                    html.H5(\"Age Distribution\", className=\"card-title\"),\n",
    "                    dcc.Graph(id='age-distribution-pie', config={'displayModeBar': False})\n",
    "                ])\n",
    "            ], className=\"\", style={'height': '94%'})\n",
    "        ], width=3),\n",
    "\n",
    "        dbc.Col([\n",
    "            dbc.Card([\n",
    "                dbc.CardBody([\n",
    "                    html.H5(\"Nationality Distribution\", className=\"card-title\"),\n",
    "                ])\n",
    "            ], className=\"mb-4\")\n",
    "        ], width=6)    ])\n",
    "], fluid=True)\n",
    "\n",
    "@app.callback(\n",
    "    Output('heatmap-container', 'children'),\n",
    "    Output('1-gpa', 'children'),\n",
    "    Output('2-gpa', 'children'),\n",
    "    Output('3-gpa', 'children'),\n",
    "    Output('4-gpa', 'children'),\n",
    "    Output('5-gpa', 'children'),\n",
    "    Output('Total_Students', 'children'),\n",
    "    Output('Overall_Gpa', 'children'),\n",
    "    Output('age-distribution-pie', 'figure'),\n",
    "    Input('radio-buttons', 'value'),\n",
    "    Input('Job-category', 'value'),\n",
    "    Input('Gender', 'value'),\n",
    "    Input('heatmap-tabs', 'value'),\n",
    "    Input('x-axis', 'value'),\n",
    "    Input('y-axis', 'value')\n",
    ")\n",
    "\n",
    "def update_graphs(selected_nationality, selected_job_categories, selected_gender, selected_tab, x_axis, y_axis):\n",
    "    filtered_df = df\n",
    "\n",
    "    if selected_nationality != 'ALL':\n",
    "        filtered_df = filtered_df[filtered_df['NATIONALITY'] == selected_nationality]\n",
    "    \n",
    "    if 'ALL' not in selected_job_categories:\n",
    "        filtered_df = filtered_df[filtered_df['Job Category'].isin(selected_job_categories)]\n",
    "    \n",
    "    filtered_df = filtered_df[filtered_df['HIGHEST QUALIFICATION'] == selected_tab]\n",
    "    \n",
    "    if selected_gender != 'ALL':\n",
    "        filtered_df = filtered_df[filtered_df['GENDER'] == selected_gender]\n",
    "    \n",
    "    fig_heatmap = create_heatmap(filtered_df, x_axis, y_axis, f'(Age Group {selected_tab})')\n",
    "    fig_age_distribution = create_age_distribution_pie(filtered_df)\n",
    "\n",
    "    a = round(filtered_df.loc[filtered_df['COURSE'] == '1101', 'GPA'].mean(), 2)\n",
    "    b = round(filtered_df.loc[filtered_df['COURSE'] == '2101', 'GPA'].mean(), 2)\n",
    "    c = round(filtered_df.loc[filtered_df['COURSE'] == '2102', 'GPA'].mean(), 2)\n",
    "    d = round(filtered_df.loc[filtered_df['COURSE'] == '5112', 'GPA'].mean(), 2)\n",
    "    e = round(filtered_df.loc[filtered_df['COURSE'] == '5113', 'GPA'].mean(), 2)\n",
    "\n",
    "    a = a if pd.notna(a) else \"N/A\"\n",
    "    b = b if pd.notna(b) else \"N/A\"\n",
    "    c = c if pd.notna(c) else \"N/A\"\n",
    "    d = d if pd.notna(d) else \"N/A\"\n",
    "    e = e if pd.notna(e) else \"N/A\"\n",
    "\n",
    "    Total_Students = filtered_df.shape[0]\n",
    "    \n",
    "    Overall_Gpa = round(filtered_df['GPA'].mean(), 2)\n",
    "    \n",
    "    return dcc.Graph(id='heatmap-graph', figure=fig_heatmap), a, b, c, d, e, Total_Students, Overall_Gpa, fig_age_distribution\n",
    "\n",
    "if __name__ == '__main__':\n",
    "    app.run_server(debug=True)"
   ]
  },
  {
   "cell_type": "code",
   "execution_count": null,
   "metadata": {},
   "outputs": [],
   "source": []
  }
 ],
 "metadata": {
  "kernelspec": {
   "display_name": "gpu_env",
   "language": "python",
   "name": "python3"
  },
  "language_info": {
   "codemirror_mode": {
    "name": "ipython",
    "version": 3
   },
   "file_extension": ".py",
   "mimetype": "text/x-python",
   "name": "python",
   "nbconvert_exporter": "python",
   "pygments_lexer": "ipython3",
   "version": "3.8.19"
  }
 },
 "nbformat": 4,
 "nbformat_minor": 2
}
