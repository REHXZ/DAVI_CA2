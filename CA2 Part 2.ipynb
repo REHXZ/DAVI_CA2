{
 "cells": [
  {
   "cell_type": "code",
   "execution_count": 192,
   "metadata": {},
   "outputs": [],
   "source": [
    "import dash\n",
    "import dash_bootstrap_components as dbc\n",
    "import dash_core_components as dcc\n",
    "import dash_html_components as html\n",
    "import plotly.express as px\n",
    "from dash.dependencies import Input, Output\n",
    "import pandas as pd\n",
    "import dash_daq as daq\n",
    "\n",
    "\n",
    "# Load the CSV file into a DataFrame\n",
    "df = pd.read_csv('Student Profiles Wrangled.csv')"
   ]
  },
  {
   "cell_type": "code",
   "execution_count": 193,
   "metadata": {},
   "outputs": [],
   "source": [
    "def categorize_gpa(row):\n",
    "    gpa = row['GPA']\n",
    "    if gpa < 1:\n",
    "        return 'Less Than 1'\n",
    "    elif gpa < 2 and gpa >= 1:\n",
    "        return '1 - 2'\n",
    "    elif gpa < 3 and gpa >= 2:\n",
    "        return '2 - 3'\n",
    "    elif gpa < 3.5 and gpa >= 3:\n",
    "        return '3 - 3.5'\n",
    "    else:\n",
    "        return 'More Than 3.5'\n",
    "\n",
    "df['GPA Category'] = df.apply(categorize_gpa, axis=1)"
   ]
  },
  {
   "cell_type": "code",
   "execution_count": 194,
   "metadata": {},
   "outputs": [],
   "source": [
    "import pandas as pd\n",
    "import re\n",
    "\n",
    "def categorize_job_title(title):\n",
    "    if pd.isna(title):\n",
    "        return 'Not Specified'\n",
    "    \n",
    "    title = str(title).lower()\n",
    "    \n",
    "    if re.search(r'hr|human resource|recruit|talent|people ops', title):\n",
    "        return 'Human Resources'\n",
    "    elif re.search(r'admin|secretary|receptionist|clerk|office', title):\n",
    "        return 'Administration'\n",
    "    elif re.search(r'manager|director|head|lead|supervisor|vice president', title):\n",
    "        return 'Management'\n",
    "    elif re.search(r'account|finance|payroll', title):\n",
    "        return 'Finance and Accounting'\n",
    "    elif re.search(r'client|sales|service|customer', title):\n",
    "        return 'Customer Service and Sales'\n",
    "    elif re.search(r'operation|logistics|supply|coordinator', title):\n",
    "        return 'Operations and Logistics'\n",
    "    elif re.search(r'market|pr|public relation|brand|communication', title):\n",
    "        return 'Marketing and Public Relations'\n",
    "    elif re.search(r'teacher|lecturer|trainer|education|learning', title):\n",
    "        return 'Education and Training'\n",
    "    elif re.search(r'it|tech|developer|engineer|analyst', title):\n",
    "        return 'Technical and IT'\n",
    "    else:\n",
    "        return 'Others'\n",
    "\n",
    "def add_job_category(df):\n",
    "    df['Job Category'] = df['DESIGNATION'].apply(categorize_job_title)\n",
    "    return df\n",
    "\n",
    "# Assuming your dataframe is called 'df'\n",
    "df = add_job_category(df)"
   ]
  },
  {
   "cell_type": "code",
   "execution_count": 195,
   "metadata": {},
   "outputs": [],
   "source": [
    "df = pd.read_csv('Student Profiles Wrangled Part 2.csv')"
   ]
  },
  {
   "cell_type": "code",
   "execution_count": 196,
   "metadata": {},
   "outputs": [],
   "source": [
    "df.rename(columns={'date_diff': 'Course Duration'}, inplace=True)"
   ]
  },
  {
   "cell_type": "code",
   "execution_count": 197,
   "metadata": {},
   "outputs": [
    {
     "data": {
      "text/plain": [
       "array([456, 455, 457, 270, 268, 274, 273,  58,  61,  51, 306,  56,   1,\n",
       "        60,  53, 181, 183, 180], dtype=int64)"
      ]
     },
     "execution_count": 197,
     "metadata": {},
     "output_type": "execute_result"
    }
   ],
   "source": [
    "df['Course Duration'].unique()"
   ]
  },
  {
   "cell_type": "markdown",
   "metadata": {},
   "source": [
    "# Plotly Sunburst"
   ]
  },
  {
   "cell_type": "code",
   "execution_count": 198,
   "metadata": {},
   "outputs": [
    {
     "data": {
      "application/vnd.plotly.v1+json": {
       "config": {
        "plotlyServerURL": "https://plot.ly"
       },
       "data": [
        {
         "branchvalues": "total",
         "customdata": [
          [
           2.5736842105263156,
           2.6545454545454543
          ],
          [
           2.6636363636363636,
           2.738613861386139
          ],
          [
           2.9761904761904763,
           2.988235294117647
          ],
          [
           2.7925925925925927,
           2.736
          ],
          [
           2.6785714285714284,
           2.707692307692308
          ],
          [
           2.7642857142857147,
           2.6545454545454543
          ],
          [
           2.8318181818181816,
           2.738613861386139
          ],
          [
           2.9714285714285715,
           2.988235294117647
          ],
          [
           2.6695652173913045,
           2.736
          ],
          [
           2.627272727272727,
           2.707692307692308
          ],
          [
           2.75,
           2.738613861386139
          ],
          [
           3.0500000000000003,
           2.988235294117647
          ],
          [
           4,
           2.707692307692308
          ],
          [
           2.6545454545454543,
           2.6545454545454543
          ],
          [
           2.738613861386139,
           2.738613861386139
          ],
          [
           2.988235294117647,
           2.988235294117647
          ],
          [
           2.736,
           2.736
          ],
          [
           2.707692307692308,
           2.707692307692308
          ]
         ],
         "domain": {
          "x": [
           0,
           1
          ],
          "y": [
           0,
           1
          ]
         },
         "hovertemplate": "<b>%{label}</b><br>Count: %{value}<br>Course GPA: %{customdata[1]:.2f}<br>Age Group GPA: %{customdata[0]:.2f}",
         "ids": [
          "Bachelor of Business Administration/25 to 40",
          "Certificate in Digital Marketing/25 to 40",
          "Certificate in HR Management/25 to 40",
          "Diploma in Business Administration/25 to 40",
          "Master of Business Administration/25 to 40",
          "Bachelor of Business Administration/40 and Above",
          "Certificate in Digital Marketing/40 and Above",
          "Certificate in HR Management/40 and Above",
          "Diploma in Business Administration/40 and Above",
          "Master of Business Administration/40 and Above",
          "Certificate in Digital Marketing/Below 25",
          "Certificate in HR Management/Below 25",
          "Master of Business Administration/Below 25",
          "Bachelor of Business Administration",
          "Certificate in Digital Marketing",
          "Certificate in HR Management",
          "Diploma in Business Administration",
          "Master of Business Administration"
         ],
         "insidetextorientation": "radial",
         "labels": [
          "25 to 40",
          "25 to 40",
          "25 to 40",
          "25 to 40",
          "25 to 40",
          "40 and Above",
          "40 and Above",
          "40 and Above",
          "40 and Above",
          "40 and Above",
          "Below 25",
          "Below 25",
          "Below 25",
          "Bachelor of Business Administration",
          "Certificate in Digital Marketing",
          "Certificate in HR Management",
          "Diploma in Business Administration",
          "Master of Business Administration"
         ],
         "marker": {
          "coloraxis": "coloraxis",
          "colors": [
           2.5736842105263156,
           2.6636363636363636,
           2.9761904761904763,
           2.7925925925925927,
           2.6785714285714284,
           2.7642857142857147,
           2.8318181818181816,
           2.9714285714285715,
           2.6695652173913045,
           2.627272727272727,
           2.75,
           3.0500000000000003,
           4,
           2.6545454545454543,
           2.738613861386139,
           2.988235294117647,
           2.736,
           2.707692307692308
          ]
         },
         "name": "",
         "parents": [
          "Bachelor of Business Administration",
          "Certificate in Digital Marketing",
          "Certificate in HR Management",
          "Diploma in Business Administration",
          "Master of Business Administration",
          "Bachelor of Business Administration",
          "Certificate in Digital Marketing",
          "Certificate in HR Management",
          "Diploma in Business Administration",
          "Master of Business Administration",
          "Certificate in Digital Marketing",
          "Certificate in HR Management",
          "Master of Business Administration",
          "",
          "",
          "",
          "",
          ""
         ],
         "textfont": {
          "size": 14
         },
         "type": "sunburst",
         "values": [
          19,
          55,
          21,
          27,
          14,
          14,
          44,
          7,
          23,
          11,
          2,
          6,
          1,
          33,
          101,
          34,
          50,
          26
         ]
        }
       ],
       "layout": {
        "coloraxis": {
         "colorbar": {
          "title": {
           "text": "Avg_GPA"
          }
         },
         "colorscale": [
          [
           0,
           "#440154"
          ],
          [
           0.1111111111111111,
           "#482878"
          ],
          [
           0.2222222222222222,
           "#3e4989"
          ],
          [
           0.3333333333333333,
           "#31688e"
          ],
          [
           0.4444444444444444,
           "#26828e"
          ],
          [
           0.5555555555555556,
           "#1f9e89"
          ],
          [
           0.6666666666666666,
           "#35b779"
          ],
          [
           0.7777777777777778,
           "#6ece58"
          ],
          [
           0.8888888888888888,
           "#b5de2b"
          ],
          [
           1,
           "#fde725"
          ]
         ]
        },
        "font": {
         "color": "black",
         "family": "Arial, sans-serif",
         "size": 16
        },
        "height": 1000,
        "legend": {
         "tracegroupgap": 0
        },
        "margin": {
         "b": 0,
         "l": 0,
         "r": 0,
         "t": 80
        },
        "paper_bgcolor": "white",
        "plot_bgcolor": "white",
        "template": {
         "data": {
          "bar": [
           {
            "error_x": {
             "color": "#2a3f5f"
            },
            "error_y": {
             "color": "#2a3f5f"
            },
            "marker": {
             "line": {
              "color": "#E5ECF6",
              "width": 0.5
             },
             "pattern": {
              "fillmode": "overlay",
              "size": 10,
              "solidity": 0.2
             }
            },
            "type": "bar"
           }
          ],
          "barpolar": [
           {
            "marker": {
             "line": {
              "color": "#E5ECF6",
              "width": 0.5
             },
             "pattern": {
              "fillmode": "overlay",
              "size": 10,
              "solidity": 0.2
             }
            },
            "type": "barpolar"
           }
          ],
          "carpet": [
           {
            "aaxis": {
             "endlinecolor": "#2a3f5f",
             "gridcolor": "white",
             "linecolor": "white",
             "minorgridcolor": "white",
             "startlinecolor": "#2a3f5f"
            },
            "baxis": {
             "endlinecolor": "#2a3f5f",
             "gridcolor": "white",
             "linecolor": "white",
             "minorgridcolor": "white",
             "startlinecolor": "#2a3f5f"
            },
            "type": "carpet"
           }
          ],
          "choropleth": [
           {
            "colorbar": {
             "outlinewidth": 0,
             "ticks": ""
            },
            "type": "choropleth"
           }
          ],
          "contour": [
           {
            "colorbar": {
             "outlinewidth": 0,
             "ticks": ""
            },
            "colorscale": [
             [
              0,
              "#0d0887"
             ],
             [
              0.1111111111111111,
              "#46039f"
             ],
             [
              0.2222222222222222,
              "#7201a8"
             ],
             [
              0.3333333333333333,
              "#9c179e"
             ],
             [
              0.4444444444444444,
              "#bd3786"
             ],
             [
              0.5555555555555556,
              "#d8576b"
             ],
             [
              0.6666666666666666,
              "#ed7953"
             ],
             [
              0.7777777777777778,
              "#fb9f3a"
             ],
             [
              0.8888888888888888,
              "#fdca26"
             ],
             [
              1,
              "#f0f921"
             ]
            ],
            "type": "contour"
           }
          ],
          "contourcarpet": [
           {
            "colorbar": {
             "outlinewidth": 0,
             "ticks": ""
            },
            "type": "contourcarpet"
           }
          ],
          "heatmap": [
           {
            "colorbar": {
             "outlinewidth": 0,
             "ticks": ""
            },
            "colorscale": [
             [
              0,
              "#0d0887"
             ],
             [
              0.1111111111111111,
              "#46039f"
             ],
             [
              0.2222222222222222,
              "#7201a8"
             ],
             [
              0.3333333333333333,
              "#9c179e"
             ],
             [
              0.4444444444444444,
              "#bd3786"
             ],
             [
              0.5555555555555556,
              "#d8576b"
             ],
             [
              0.6666666666666666,
              "#ed7953"
             ],
             [
              0.7777777777777778,
              "#fb9f3a"
             ],
             [
              0.8888888888888888,
              "#fdca26"
             ],
             [
              1,
              "#f0f921"
             ]
            ],
            "type": "heatmap"
           }
          ],
          "heatmapgl": [
           {
            "colorbar": {
             "outlinewidth": 0,
             "ticks": ""
            },
            "colorscale": [
             [
              0,
              "#0d0887"
             ],
             [
              0.1111111111111111,
              "#46039f"
             ],
             [
              0.2222222222222222,
              "#7201a8"
             ],
             [
              0.3333333333333333,
              "#9c179e"
             ],
             [
              0.4444444444444444,
              "#bd3786"
             ],
             [
              0.5555555555555556,
              "#d8576b"
             ],
             [
              0.6666666666666666,
              "#ed7953"
             ],
             [
              0.7777777777777778,
              "#fb9f3a"
             ],
             [
              0.8888888888888888,
              "#fdca26"
             ],
             [
              1,
              "#f0f921"
             ]
            ],
            "type": "heatmapgl"
           }
          ],
          "histogram": [
           {
            "marker": {
             "pattern": {
              "fillmode": "overlay",
              "size": 10,
              "solidity": 0.2
             }
            },
            "type": "histogram"
           }
          ],
          "histogram2d": [
           {
            "colorbar": {
             "outlinewidth": 0,
             "ticks": ""
            },
            "colorscale": [
             [
              0,
              "#0d0887"
             ],
             [
              0.1111111111111111,
              "#46039f"
             ],
             [
              0.2222222222222222,
              "#7201a8"
             ],
             [
              0.3333333333333333,
              "#9c179e"
             ],
             [
              0.4444444444444444,
              "#bd3786"
             ],
             [
              0.5555555555555556,
              "#d8576b"
             ],
             [
              0.6666666666666666,
              "#ed7953"
             ],
             [
              0.7777777777777778,
              "#fb9f3a"
             ],
             [
              0.8888888888888888,
              "#fdca26"
             ],
             [
              1,
              "#f0f921"
             ]
            ],
            "type": "histogram2d"
           }
          ],
          "histogram2dcontour": [
           {
            "colorbar": {
             "outlinewidth": 0,
             "ticks": ""
            },
            "colorscale": [
             [
              0,
              "#0d0887"
             ],
             [
              0.1111111111111111,
              "#46039f"
             ],
             [
              0.2222222222222222,
              "#7201a8"
             ],
             [
              0.3333333333333333,
              "#9c179e"
             ],
             [
              0.4444444444444444,
              "#bd3786"
             ],
             [
              0.5555555555555556,
              "#d8576b"
             ],
             [
              0.6666666666666666,
              "#ed7953"
             ],
             [
              0.7777777777777778,
              "#fb9f3a"
             ],
             [
              0.8888888888888888,
              "#fdca26"
             ],
             [
              1,
              "#f0f921"
             ]
            ],
            "type": "histogram2dcontour"
           }
          ],
          "mesh3d": [
           {
            "colorbar": {
             "outlinewidth": 0,
             "ticks": ""
            },
            "type": "mesh3d"
           }
          ],
          "parcoords": [
           {
            "line": {
             "colorbar": {
              "outlinewidth": 0,
              "ticks": ""
             }
            },
            "type": "parcoords"
           }
          ],
          "pie": [
           {
            "automargin": true,
            "type": "pie"
           }
          ],
          "scatter": [
           {
            "fillpattern": {
             "fillmode": "overlay",
             "size": 10,
             "solidity": 0.2
            },
            "type": "scatter"
           }
          ],
          "scatter3d": [
           {
            "line": {
             "colorbar": {
              "outlinewidth": 0,
              "ticks": ""
             }
            },
            "marker": {
             "colorbar": {
              "outlinewidth": 0,
              "ticks": ""
             }
            },
            "type": "scatter3d"
           }
          ],
          "scattercarpet": [
           {
            "marker": {
             "colorbar": {
              "outlinewidth": 0,
              "ticks": ""
             }
            },
            "type": "scattercarpet"
           }
          ],
          "scattergeo": [
           {
            "marker": {
             "colorbar": {
              "outlinewidth": 0,
              "ticks": ""
             }
            },
            "type": "scattergeo"
           }
          ],
          "scattergl": [
           {
            "marker": {
             "colorbar": {
              "outlinewidth": 0,
              "ticks": ""
             }
            },
            "type": "scattergl"
           }
          ],
          "scattermapbox": [
           {
            "marker": {
             "colorbar": {
              "outlinewidth": 0,
              "ticks": ""
             }
            },
            "type": "scattermapbox"
           }
          ],
          "scatterpolar": [
           {
            "marker": {
             "colorbar": {
              "outlinewidth": 0,
              "ticks": ""
             }
            },
            "type": "scatterpolar"
           }
          ],
          "scatterpolargl": [
           {
            "marker": {
             "colorbar": {
              "outlinewidth": 0,
              "ticks": ""
             }
            },
            "type": "scatterpolargl"
           }
          ],
          "scatterternary": [
           {
            "marker": {
             "colorbar": {
              "outlinewidth": 0,
              "ticks": ""
             }
            },
            "type": "scatterternary"
           }
          ],
          "surface": [
           {
            "colorbar": {
             "outlinewidth": 0,
             "ticks": ""
            },
            "colorscale": [
             [
              0,
              "#0d0887"
             ],
             [
              0.1111111111111111,
              "#46039f"
             ],
             [
              0.2222222222222222,
              "#7201a8"
             ],
             [
              0.3333333333333333,
              "#9c179e"
             ],
             [
              0.4444444444444444,
              "#bd3786"
             ],
             [
              0.5555555555555556,
              "#d8576b"
             ],
             [
              0.6666666666666666,
              "#ed7953"
             ],
             [
              0.7777777777777778,
              "#fb9f3a"
             ],
             [
              0.8888888888888888,
              "#fdca26"
             ],
             [
              1,
              "#f0f921"
             ]
            ],
            "type": "surface"
           }
          ],
          "table": [
           {
            "cells": {
             "fill": {
              "color": "#EBF0F8"
             },
             "line": {
              "color": "white"
             }
            },
            "header": {
             "fill": {
              "color": "#C8D4E3"
             },
             "line": {
              "color": "white"
             }
            },
            "type": "table"
           }
          ]
         },
         "layout": {
          "annotationdefaults": {
           "arrowcolor": "#2a3f5f",
           "arrowhead": 0,
           "arrowwidth": 1
          },
          "autotypenumbers": "strict",
          "coloraxis": {
           "colorbar": {
            "outlinewidth": 0,
            "ticks": ""
           }
          },
          "colorscale": {
           "diverging": [
            [
             0,
             "#8e0152"
            ],
            [
             0.1,
             "#c51b7d"
            ],
            [
             0.2,
             "#de77ae"
            ],
            [
             0.3,
             "#f1b6da"
            ],
            [
             0.4,
             "#fde0ef"
            ],
            [
             0.5,
             "#f7f7f7"
            ],
            [
             0.6,
             "#e6f5d0"
            ],
            [
             0.7,
             "#b8e186"
            ],
            [
             0.8,
             "#7fbc41"
            ],
            [
             0.9,
             "#4d9221"
            ],
            [
             1,
             "#276419"
            ]
           ],
           "sequential": [
            [
             0,
             "#0d0887"
            ],
            [
             0.1111111111111111,
             "#46039f"
            ],
            [
             0.2222222222222222,
             "#7201a8"
            ],
            [
             0.3333333333333333,
             "#9c179e"
            ],
            [
             0.4444444444444444,
             "#bd3786"
            ],
            [
             0.5555555555555556,
             "#d8576b"
            ],
            [
             0.6666666666666666,
             "#ed7953"
            ],
            [
             0.7777777777777778,
             "#fb9f3a"
            ],
            [
             0.8888888888888888,
             "#fdca26"
            ],
            [
             1,
             "#f0f921"
            ]
           ],
           "sequentialminus": [
            [
             0,
             "#0d0887"
            ],
            [
             0.1111111111111111,
             "#46039f"
            ],
            [
             0.2222222222222222,
             "#7201a8"
            ],
            [
             0.3333333333333333,
             "#9c179e"
            ],
            [
             0.4444444444444444,
             "#bd3786"
            ],
            [
             0.5555555555555556,
             "#d8576b"
            ],
            [
             0.6666666666666666,
             "#ed7953"
            ],
            [
             0.7777777777777778,
             "#fb9f3a"
            ],
            [
             0.8888888888888888,
             "#fdca26"
            ],
            [
             1,
             "#f0f921"
            ]
           ]
          },
          "colorway": [
           "#636efa",
           "#EF553B",
           "#00cc96",
           "#ab63fa",
           "#FFA15A",
           "#19d3f3",
           "#FF6692",
           "#B6E880",
           "#FF97FF",
           "#FECB52"
          ],
          "font": {
           "color": "#2a3f5f"
          },
          "geo": {
           "bgcolor": "white",
           "lakecolor": "white",
           "landcolor": "#E5ECF6",
           "showlakes": true,
           "showland": true,
           "subunitcolor": "white"
          },
          "hoverlabel": {
           "align": "left"
          },
          "hovermode": "closest",
          "mapbox": {
           "style": "light"
          },
          "paper_bgcolor": "white",
          "plot_bgcolor": "#E5ECF6",
          "polar": {
           "angularaxis": {
            "gridcolor": "white",
            "linecolor": "white",
            "ticks": ""
           },
           "bgcolor": "#E5ECF6",
           "radialaxis": {
            "gridcolor": "white",
            "linecolor": "white",
            "ticks": ""
           }
          },
          "scene": {
           "xaxis": {
            "backgroundcolor": "#E5ECF6",
            "gridcolor": "white",
            "gridwidth": 2,
            "linecolor": "white",
            "showbackground": true,
            "ticks": "",
            "zerolinecolor": "white"
           },
           "yaxis": {
            "backgroundcolor": "#E5ECF6",
            "gridcolor": "white",
            "gridwidth": 2,
            "linecolor": "white",
            "showbackground": true,
            "ticks": "",
            "zerolinecolor": "white"
           },
           "zaxis": {
            "backgroundcolor": "#E5ECF6",
            "gridcolor": "white",
            "gridwidth": 2,
            "linecolor": "white",
            "showbackground": true,
            "ticks": "",
            "zerolinecolor": "white"
           }
          },
          "shapedefaults": {
           "line": {
            "color": "#2a3f5f"
           }
          },
          "ternary": {
           "aaxis": {
            "gridcolor": "white",
            "linecolor": "white",
            "ticks": ""
           },
           "baxis": {
            "gridcolor": "white",
            "linecolor": "white",
            "ticks": ""
           },
           "bgcolor": "#E5ECF6",
           "caxis": {
            "gridcolor": "white",
            "linecolor": "white",
            "ticks": ""
           }
          },
          "title": {
           "x": 0.05
          },
          "xaxis": {
           "automargin": true,
           "gridcolor": "white",
           "linecolor": "white",
           "ticks": "",
           "title": {
            "standoff": 15
           },
           "zerolinecolor": "white",
           "zerolinewidth": 2
          },
          "yaxis": {
           "automargin": true,
           "gridcolor": "white",
           "linecolor": "white",
           "ticks": "",
           "title": {
            "standoff": 15
           },
           "zerolinecolor": "white",
           "zerolinewidth": 2
          }
         }
        },
        "title": {
         "font": {
          "color": "black",
          "family": "Arial, sans-serif",
          "size": 24
         },
         "text": "Course and Age with Average GPAs",
         "x": 0.45,
         "xanchor": "center",
         "y": 0.95,
         "yanchor": "top"
        },
        "width": 1000
       }
      }
     },
     "metadata": {},
     "output_type": "display_data"
    }
   ],
   "source": [
    "import pandas as pd\n",
    "import numpy as np\n",
    "import plotly.express as px\n",
    "\n",
    "# Drop rows with missing values in the relevant columns\n",
    "df.dropna(subset=['COURSE', 'Age Group', 'GPA'], inplace=True)\n",
    "\n",
    "# Filter data to include only the top 5 courses by student count\n",
    "top_courses = df['COURSE'].value_counts().nlargest(5).index\n",
    "df_filtered = df[df['COURSE'].isin(top_courses)]\n",
    "\n",
    "# Add a Count column for aggregation\n",
    "df_filtered['Count'] = 1\n",
    "\n",
    "# Group by course and age group and calculate average GPA and count\n",
    "df_grouped = df_filtered.groupby(['COURSE', 'Age Group']).agg(\n",
    "    Count=('Count', 'sum'),\n",
    "    Avg_GPA=('GPA', 'mean')\n",
    ").reset_index()\n",
    "\n",
    "# Calculate average GPA for each course\n",
    "course_gpa = df_filtered.groupby('COURSE')['GPA'].mean().reset_index(name='GPA_course')\n",
    "\n",
    "# Merge the average GPAs into the grouped dataframe\n",
    "df_grouped = df_grouped.merge(course_gpa, on='COURSE')\n",
    "\n",
    "# Remove any rows where Count is 0\n",
    "df_grouped = df_grouped[df_grouped['Count'] > 0]\n",
    "\n",
    "# Create the sunburst plot with a custom color scheme\n",
    "fig = px.sunburst(df_grouped, path=['COURSE', 'Age Group'], values='Count',\n",
    "                  color='Avg_GPA', \n",
    "                  color_continuous_scale='Viridis',\n",
    "                  hover_data={\n",
    "                      'Avg_GPA': ':.2f',\n",
    "                      'GPA_course': ':.2f'\n",
    "                  })\n",
    "\n",
    "# Update traces for better visibility\n",
    "fig.update_traces(\n",
    "    hovertemplate='<b>%{label}</b><br>' +\n",
    "                  'Count: %{value}<br>' +\n",
    "                  'Course GPA: %{customdata[1]:.2f}<br>' +\n",
    "                  'Age Group GPA: %{customdata[0]:.2f}',\n",
    "    insidetextorientation='radial',\n",
    "    textfont=dict(size=14)\n",
    ")\n",
    "\n",
    "# Update layout for better aesthetics and readability\n",
    "fig.update_layout(\n",
    "    title={\n",
    "        'text': 'Course and Age with Average GPAs',\n",
    "        'y':0.95,\n",
    "        'x':0.45,\n",
    "        'xanchor': 'center',\n",
    "        'yanchor': 'top'\n",
    "    },\n",
    "    title_font=dict(size=24, family='Arial, sans-serif', color='black'),\n",
    "    font=dict(family='Arial, sans-serif', size=16, color='black'),\n",
    "    margin=dict(t=80, l=0, r=0, b=0),\n",
    "    paper_bgcolor='white',\n",
    "    plot_bgcolor='white',\n",
    "    width=1000,  # Increase width\n",
    "    height=1000  # Increase height\n",
    ")\n",
    "# Show the plot\n",
    "fig.show()"
   ]
  },
  {
   "cell_type": "code",
   "execution_count": 206,
   "metadata": {},
   "outputs": [
    {
     "data": {
      "application/vnd.plotly.v1+json": {
       "config": {
        "plotlyServerURL": "https://plot.ly"
       },
       "data": [
        {
         "hovertemplate": "CITIZENSHIP_STATUS=L<br>COURSE FEE=%{marker.size}<br>Course Duration=%{y}<extra></extra>",
         "legendgroup": "L",
         "marker": {
          "color": "#636efa",
          "size": [
           1712,
           1712,
           1712,
           1212,
           1712,
           1712,
           1712,
           1712,
           1712,
           1712,
           1604,
           1604,
           1712,
           1604,
           1712,
           1604,
           1712,
           1604,
           1604,
           1712,
           1604,
           1712,
           1712,
           1712,
           1604,
           1712,
           1712,
           1712,
           1712,
           1712,
           1712,
           1604,
           1212,
           1212,
           1604,
           1712,
           1712,
           1712,
           1712,
           1712,
           2996,
           2996,
           2696,
           2996,
           2696,
           1496,
           1996,
           1496,
           2496,
           1996,
           1996,
           1996,
           2696,
           2996,
           2996,
           2696,
           2996,
           2996,
           2496,
           2996,
           2996,
           2696,
           2996,
           2996,
           2996,
           2696,
           2996,
           2996,
           1388,
           1415,
           1415,
           1415,
           1388,
           1388,
           1388,
           1495,
           1388,
           1388,
           1388,
           1388,
           1388,
           888,
           1495,
           1388,
           1388,
           1308,
           1495,
           1495,
           1415,
           1388,
           1388,
           1388,
           1388,
           1388,
           888,
           1495,
           1388,
           1388,
           1308,
           1495,
           1415,
           1388,
           1388,
           1388,
           1388,
           1388,
           1388,
           888,
           1495,
           1388,
           1388,
           1308,
           1495,
           1495,
           1415,
           1388,
           1388,
           1388,
           1388,
           1388,
           1388,
           1495,
           1388,
           1308,
           1495,
           1495,
           1415,
           1388,
           1388,
           1388,
           1388,
           1388,
           1388,
           1495,
           1495,
           1495,
           1415,
           1388,
           1388,
           1388,
           888,
           1388,
           1388,
           1308,
           1495,
           1415,
           1388,
           1388,
           1388,
           1388,
           5803,
           5803,
           5803,
           5803,
           5803,
           5803,
           5803,
           5803,
           5803,
           5803,
           5803,
           5803,
           5803,
           5803,
           5803,
           5803,
           5803,
           5803,
           5803,
           5803,
           5803,
           5803,
           5803,
           5803,
           5803,
           5803,
           5803,
           5803,
           5803,
           5803,
           5803,
           5803,
           5803,
           5803,
           5803,
           5803,
           5803,
           5803,
           5803,
           5803,
           5803,
           5803,
           5803,
           5803,
           5803,
           5803,
           5803,
           5803,
           5803,
           5803,
           5803,
           5803,
           5803,
           5803,
           5803
          ],
          "sizemode": "area",
          "sizeref": 14.5075,
          "symbol": "circle"
         },
         "mode": "markers",
         "name": "L",
         "orientation": "v",
         "showlegend": true,
         "type": "scatter",
         "x": [
          1712,
          1712,
          1712,
          1212,
          1712,
          1712,
          1712,
          1712,
          1712,
          1712,
          1604,
          1604,
          1712,
          1604,
          1712,
          1604,
          1712,
          1604,
          1604,
          1712,
          1604,
          1712,
          1712,
          1712,
          1604,
          1712,
          1712,
          1712,
          1712,
          1712,
          1712,
          1604,
          1212,
          1212,
          1604,
          1712,
          1712,
          1712,
          1712,
          1712,
          2996,
          2996,
          2696,
          2996,
          2696,
          1496,
          1996,
          1496,
          2496,
          1996,
          1996,
          1996,
          2696,
          2996,
          2996,
          2696,
          2996,
          2996,
          2496,
          2996,
          2996,
          2696,
          2996,
          2996,
          2996,
          2696,
          2996,
          2996,
          1388,
          1415,
          1415,
          1415,
          1388,
          1388,
          1388,
          1495,
          1388,
          1388,
          1388,
          1388,
          1388,
          888,
          1495,
          1388,
          1388,
          1308,
          1495,
          1495,
          1415,
          1388,
          1388,
          1388,
          1388,
          1388,
          888,
          1495,
          1388,
          1388,
          1308,
          1495,
          1415,
          1388,
          1388,
          1388,
          1388,
          1388,
          1388,
          888,
          1495,
          1388,
          1388,
          1308,
          1495,
          1495,
          1415,
          1388,
          1388,
          1388,
          1388,
          1388,
          1388,
          1495,
          1388,
          1308,
          1495,
          1495,
          1415,
          1388,
          1388,
          1388,
          1388,
          1388,
          1388,
          1495,
          1495,
          1495,
          1415,
          1388,
          1388,
          1388,
          888,
          1388,
          1388,
          1308,
          1495,
          1415,
          1388,
          1388,
          1388,
          1388,
          5803,
          5803,
          5803,
          5803,
          5803,
          5803,
          5803,
          5803,
          5803,
          5803,
          5803,
          5803,
          5803,
          5803,
          5803,
          5803,
          5803,
          5803,
          5803,
          5803,
          5803,
          5803,
          5803,
          5803,
          5803,
          5803,
          5803,
          5803,
          5803,
          5803,
          5803,
          5803,
          5803,
          5803,
          5803,
          5803,
          5803,
          5803,
          5803,
          5803,
          5803,
          5803,
          5803,
          5803,
          5803,
          5803,
          5803,
          5803,
          5803,
          5803,
          5803,
          5803,
          5803,
          5803,
          5803
         ],
         "xaxis": "x",
         "y": [
          456,
          456,
          456,
          456,
          456,
          456,
          456,
          456,
          455,
          455,
          455,
          457,
          457,
          457,
          457,
          457,
          455,
          455,
          457,
          457,
          457,
          457,
          457,
          457,
          457,
          457,
          457,
          457,
          457,
          457,
          457,
          456,
          456,
          456,
          456,
          456,
          457,
          457,
          457,
          457,
          270,
          270,
          268,
          268,
          268,
          268,
          268,
          268,
          268,
          270,
          270,
          270,
          274,
          274,
          274,
          274,
          274,
          274,
          274,
          273,
          273,
          273,
          273,
          58,
          58,
          58,
          58,
          58,
          61,
          61,
          61,
          61,
          61,
          61,
          61,
          61,
          61,
          61,
          61,
          51,
          51,
          51,
          51,
          51,
          51,
          51,
          51,
          51,
          51,
          51,
          306,
          306,
          306,
          306,
          306,
          306,
          306,
          306,
          306,
          306,
          306,
          306,
          306,
          306,
          306,
          306,
          306,
          306,
          306,
          56,
          56,
          56,
          56,
          56,
          56,
          56,
          56,
          56,
          1,
          1,
          1,
          1,
          1,
          1,
          1,
          1,
          1,
          1,
          1,
          60,
          60,
          60,
          60,
          60,
          60,
          60,
          60,
          60,
          60,
          60,
          60,
          60,
          58,
          58,
          58,
          58,
          58,
          53,
          53,
          53,
          181,
          181,
          181,
          181,
          181,
          181,
          183,
          183,
          183,
          183,
          183,
          183,
          183,
          181,
          181,
          181,
          181,
          181,
          181,
          181,
          181,
          183,
          183,
          183,
          183,
          183,
          183,
          183,
          180,
          180,
          180,
          181,
          181,
          181,
          183,
          183,
          183,
          183,
          183,
          183,
          183,
          181,
          181,
          181,
          181,
          181,
          181,
          181,
          181,
          183,
          183,
          183,
          183,
          180,
          180
         ],
         "yaxis": "y"
        },
        {
         "alignmentgroup": "True",
         "hovertemplate": "CITIZENSHIP_STATUS=L<br>Course Duration=%{y}<extra></extra>",
         "legendgroup": "L",
         "marker": {
          "color": "#636efa",
          "symbol": "circle"
         },
         "name": "L",
         "offsetgroup": "L",
         "scalegroup": "y",
         "showlegend": false,
         "type": "violin",
         "xaxis": "x2",
         "y": [
          456,
          456,
          456,
          456,
          456,
          456,
          456,
          456,
          455,
          455,
          455,
          457,
          457,
          457,
          457,
          457,
          455,
          455,
          457,
          457,
          457,
          457,
          457,
          457,
          457,
          457,
          457,
          457,
          457,
          457,
          457,
          456,
          456,
          456,
          456,
          456,
          457,
          457,
          457,
          457,
          270,
          270,
          268,
          268,
          268,
          268,
          268,
          268,
          268,
          270,
          270,
          270,
          274,
          274,
          274,
          274,
          274,
          274,
          274,
          273,
          273,
          273,
          273,
          58,
          58,
          58,
          58,
          58,
          61,
          61,
          61,
          61,
          61,
          61,
          61,
          61,
          61,
          61,
          61,
          51,
          51,
          51,
          51,
          51,
          51,
          51,
          51,
          51,
          51,
          51,
          306,
          306,
          306,
          306,
          306,
          306,
          306,
          306,
          306,
          306,
          306,
          306,
          306,
          306,
          306,
          306,
          306,
          306,
          306,
          56,
          56,
          56,
          56,
          56,
          56,
          56,
          56,
          56,
          1,
          1,
          1,
          1,
          1,
          1,
          1,
          1,
          1,
          1,
          1,
          60,
          60,
          60,
          60,
          60,
          60,
          60,
          60,
          60,
          60,
          60,
          60,
          60,
          58,
          58,
          58,
          58,
          58,
          53,
          53,
          53,
          181,
          181,
          181,
          181,
          181,
          181,
          183,
          183,
          183,
          183,
          183,
          183,
          183,
          181,
          181,
          181,
          181,
          181,
          181,
          181,
          181,
          183,
          183,
          183,
          183,
          183,
          183,
          183,
          180,
          180,
          180,
          181,
          181,
          181,
          183,
          183,
          183,
          183,
          183,
          183,
          183,
          181,
          181,
          181,
          181,
          181,
          181,
          181,
          181,
          183,
          183,
          183,
          183,
          180,
          180
         ],
         "yaxis": "y2"
        },
        {
         "hovertemplate": "<b>OLS trendline</b><br>Course Duration = -0.00640474 * COURSE FEE + 230.438<br>R<sup>2</sup>=0.006519<br><br>CITIZENSHIP_STATUS=L<br>COURSE FEE=%{x}<br>Course Duration=%{y} <b>(trend)</b><extra></extra>",
         "legendgroup": "L",
         "marker": {
          "color": "#636efa",
          "symbol": "circle"
         },
         "mode": "lines",
         "name": "L",
         "showlegend": false,
         "type": "scatter",
         "x": [
          888,
          888,
          888,
          888,
          1212,
          1212,
          1212,
          1308,
          1308,
          1308,
          1308,
          1308,
          1388,
          1388,
          1388,
          1388,
          1388,
          1388,
          1388,
          1388,
          1388,
          1388,
          1388,
          1388,
          1388,
          1388,
          1388,
          1388,
          1388,
          1388,
          1388,
          1388,
          1388,
          1388,
          1388,
          1388,
          1388,
          1388,
          1388,
          1388,
          1388,
          1388,
          1388,
          1388,
          1388,
          1388,
          1388,
          1388,
          1388,
          1388,
          1388,
          1388,
          1388,
          1388,
          1388,
          1388,
          1388,
          1388,
          1388,
          1388,
          1415,
          1415,
          1415,
          1415,
          1415,
          1415,
          1415,
          1415,
          1415,
          1495,
          1495,
          1495,
          1495,
          1495,
          1495,
          1495,
          1495,
          1495,
          1495,
          1495,
          1495,
          1495,
          1495,
          1495,
          1495,
          1496,
          1496,
          1604,
          1604,
          1604,
          1604,
          1604,
          1604,
          1604,
          1604,
          1604,
          1604,
          1712,
          1712,
          1712,
          1712,
          1712,
          1712,
          1712,
          1712,
          1712,
          1712,
          1712,
          1712,
          1712,
          1712,
          1712,
          1712,
          1712,
          1712,
          1712,
          1712,
          1712,
          1712,
          1712,
          1712,
          1712,
          1712,
          1712,
          1996,
          1996,
          1996,
          1996,
          2496,
          2496,
          2696,
          2696,
          2696,
          2696,
          2696,
          2696,
          2996,
          2996,
          2996,
          2996,
          2996,
          2996,
          2996,
          2996,
          2996,
          2996,
          2996,
          2996,
          2996,
          2996,
          5803,
          5803,
          5803,
          5803,
          5803,
          5803,
          5803,
          5803,
          5803,
          5803,
          5803,
          5803,
          5803,
          5803,
          5803,
          5803,
          5803,
          5803,
          5803,
          5803,
          5803,
          5803,
          5803,
          5803,
          5803,
          5803,
          5803,
          5803,
          5803,
          5803,
          5803,
          5803,
          5803,
          5803,
          5803,
          5803,
          5803,
          5803,
          5803,
          5803,
          5803,
          5803,
          5803,
          5803,
          5803,
          5803,
          5803,
          5803,
          5803,
          5803,
          5803,
          5803,
          5803,
          5803,
          5803
         ],
         "xaxis": "x",
         "y": [
          224.75097514338756,
          224.75097514338756,
          224.75097514338756,
          224.75097514338756,
          222.6758382132603,
          222.6758382132603,
          222.6758382132603,
          222.06098282655594,
          222.06098282655594,
          222.06098282655594,
          222.06098282655594,
          222.06098282655594,
          221.54860333763563,
          221.54860333763563,
          221.54860333763563,
          221.54860333763563,
          221.54860333763563,
          221.54860333763563,
          221.54860333763563,
          221.54860333763563,
          221.54860333763563,
          221.54860333763563,
          221.54860333763563,
          221.54860333763563,
          221.54860333763563,
          221.54860333763563,
          221.54860333763563,
          221.54860333763563,
          221.54860333763563,
          221.54860333763563,
          221.54860333763563,
          221.54860333763563,
          221.54860333763563,
          221.54860333763563,
          221.54860333763563,
          221.54860333763563,
          221.54860333763563,
          221.54860333763563,
          221.54860333763563,
          221.54860333763563,
          221.54860333763563,
          221.54860333763563,
          221.54860333763563,
          221.54860333763563,
          221.54860333763563,
          221.54860333763563,
          221.54860333763563,
          221.54860333763563,
          221.54860333763563,
          221.54860333763563,
          221.54860333763563,
          221.54860333763563,
          221.54860333763563,
          221.54860333763563,
          221.54860333763563,
          221.54860333763563,
          221.54860333763563,
          221.54860333763563,
          221.54860333763563,
          221.54860333763563,
          221.375675260125,
          221.375675260125,
          221.375675260125,
          221.375675260125,
          221.375675260125,
          221.375675260125,
          221.375675260125,
          221.375675260125,
          221.375675260125,
          220.86329577120472,
          220.86329577120472,
          220.86329577120472,
          220.86329577120472,
          220.86329577120472,
          220.86329577120472,
          220.86329577120472,
          220.86329577120472,
          220.86329577120472,
          220.86329577120472,
          220.86329577120472,
          220.86329577120472,
          220.86329577120472,
          220.86329577120472,
          220.86329577120472,
          220.86329577120472,
          220.8568910275932,
          220.8568910275932,
          220.1651787175508,
          220.1651787175508,
          220.1651787175508,
          220.1651787175508,
          220.1651787175508,
          220.1651787175508,
          220.1651787175508,
          220.1651787175508,
          220.1651787175508,
          220.1651787175508,
          219.47346640750837,
          219.47346640750837,
          219.47346640750837,
          219.47346640750837,
          219.47346640750837,
          219.47346640750837,
          219.47346640750837,
          219.47346640750837,
          219.47346640750837,
          219.47346640750837,
          219.47346640750837,
          219.47346640750837,
          219.47346640750837,
          219.47346640750837,
          219.47346640750837,
          219.47346640750837,
          219.47346640750837,
          219.47346640750837,
          219.47346640750837,
          219.47346640750837,
          219.47346640750837,
          219.47346640750837,
          219.47346640750837,
          219.47346640750837,
          219.47346640750837,
          219.47346640750837,
          219.47346640750837,
          217.65451922184127,
          217.65451922184127,
          217.65451922184127,
          217.65451922184127,
          214.45214741608933,
          214.45214741608933,
          213.17119869378854,
          213.17119869378854,
          213.17119869378854,
          213.17119869378854,
          213.17119869378854,
          213.17119869378854,
          211.2497756103374,
          211.2497756103374,
          211.2497756103374,
          211.2497756103374,
          211.2497756103374,
          211.2497756103374,
          211.2497756103374,
          211.2497756103374,
          211.2497756103374,
          211.2497756103374,
          211.2497756103374,
          211.2497756103374,
          211.2497756103374,
          211.2497756103374,
          193.271660292846,
          193.271660292846,
          193.271660292846,
          193.271660292846,
          193.271660292846,
          193.271660292846,
          193.271660292846,
          193.271660292846,
          193.271660292846,
          193.271660292846,
          193.271660292846,
          193.271660292846,
          193.271660292846,
          193.271660292846,
          193.271660292846,
          193.271660292846,
          193.271660292846,
          193.271660292846,
          193.271660292846,
          193.271660292846,
          193.271660292846,
          193.271660292846,
          193.271660292846,
          193.271660292846,
          193.271660292846,
          193.271660292846,
          193.271660292846,
          193.271660292846,
          193.271660292846,
          193.271660292846,
          193.271660292846,
          193.271660292846,
          193.271660292846,
          193.271660292846,
          193.271660292846,
          193.271660292846,
          193.271660292846,
          193.271660292846,
          193.271660292846,
          193.271660292846,
          193.271660292846,
          193.271660292846,
          193.271660292846,
          193.271660292846,
          193.271660292846,
          193.271660292846,
          193.271660292846,
          193.271660292846,
          193.271660292846,
          193.271660292846,
          193.271660292846,
          193.271660292846,
          193.271660292846,
          193.271660292846,
          193.271660292846
         ],
         "yaxis": "y"
        },
        {
         "hovertemplate": "CITIZENSHIP_STATUS=F<br>COURSE FEE=%{marker.size}<br>Course Duration=%{y}<extra></extra>",
         "legendgroup": "F",
         "marker": {
          "color": "#EF553B",
          "size": [
           1604,
           1712,
           1712,
           1712,
           1712,
           1212,
           1712,
           1712,
           1712,
           1712,
           2996,
           2996,
           2996,
           2996,
           2996,
           2996,
           1388,
           1495,
           888,
           1388,
           888,
           1388,
           1388,
           1308,
           1388,
           1388,
           1388,
           1495,
           1495,
           1388,
           1388,
           1388,
           1388,
           1388,
           1388,
           5803,
           5803,
           5803,
           5803
          ],
          "sizemode": "area",
          "sizeref": 14.5075,
          "symbol": "circle"
         },
         "mode": "markers",
         "name": "F",
         "orientation": "v",
         "showlegend": true,
         "type": "scatter",
         "x": [
          1604,
          1712,
          1712,
          1712,
          1712,
          1212,
          1712,
          1712,
          1712,
          1712,
          2996,
          2996,
          2996,
          2996,
          2996,
          2996,
          1388,
          1495,
          888,
          1388,
          888,
          1388,
          1388,
          1308,
          1388,
          1388,
          1388,
          1495,
          1495,
          1388,
          1388,
          1388,
          1388,
          1388,
          1388,
          5803,
          5803,
          5803,
          5803
         ],
         "xaxis": "x",
         "y": [
          456,
          456,
          455,
          455,
          455,
          457,
          457,
          457,
          457,
          457,
          274,
          274,
          273,
          58,
          58,
          58,
          306,
          306,
          1,
          1,
          60,
          60,
          60,
          60,
          60,
          60,
          60,
          60,
          58,
          58,
          58,
          58,
          53,
          53,
          53,
          183,
          183,
          181,
          183
         ],
         "yaxis": "y"
        },
        {
         "alignmentgroup": "True",
         "hovertemplate": "CITIZENSHIP_STATUS=F<br>Course Duration=%{y}<extra></extra>",
         "legendgroup": "F",
         "marker": {
          "color": "#EF553B",
          "symbol": "circle"
         },
         "name": "F",
         "offsetgroup": "F",
         "scalegroup": "y",
         "showlegend": false,
         "type": "violin",
         "xaxis": "x2",
         "y": [
          456,
          456,
          455,
          455,
          455,
          457,
          457,
          457,
          457,
          457,
          274,
          274,
          273,
          58,
          58,
          58,
          306,
          306,
          1,
          1,
          60,
          60,
          60,
          60,
          60,
          60,
          60,
          60,
          58,
          58,
          58,
          58,
          53,
          53,
          53,
          183,
          183,
          181,
          183
         ],
         "yaxis": "y2"
        },
        {
         "hovertemplate": "<b>OLS trendline</b><br>Course Duration = 0.00298287 * COURSE FEE + 192.91<br>R<sup>2</sup>=0.000571<br><br>CITIZENSHIP_STATUS=F<br>COURSE FEE=%{x}<br>Course Duration=%{y} <b>(trend)</b><extra></extra>",
         "legendgroup": "F",
         "marker": {
          "color": "#EF553B",
          "symbol": "circle"
         },
         "mode": "lines",
         "name": "F",
         "showlegend": false,
         "type": "scatter",
         "x": [
          888,
          888,
          1212,
          1308,
          1388,
          1388,
          1388,
          1388,
          1388,
          1388,
          1388,
          1388,
          1388,
          1388,
          1388,
          1388,
          1388,
          1495,
          1495,
          1495,
          1604,
          1712,
          1712,
          1712,
          1712,
          1712,
          1712,
          1712,
          1712,
          2996,
          2996,
          2996,
          2996,
          2996,
          2996,
          5803,
          5803,
          5803,
          5803
         ],
         "xaxis": "x",
         "y": [
          195.55874224644197,
          195.55874224644197,
          196.5251918463672,
          196.81154728338208,
          197.05017681422783,
          197.05017681422783,
          197.05017681422783,
          197.05017681422783,
          197.05017681422783,
          197.05017681422783,
          197.05017681422783,
          197.05017681422783,
          197.05017681422783,
          197.05017681422783,
          197.05017681422783,
          197.05017681422783,
          197.05017681422783,
          197.36934381173398,
          197.36934381173398,
          197.36934381173398,
          197.6944765475113,
          198.01662641415305,
          198.01662641415305,
          198.01662641415305,
          198.01662641415305,
          198.01662641415305,
          198.01662641415305,
          198.01662641415305,
          198.01662641415305,
          201.84663038422707,
          201.84663038422707,
          201.84663038422707,
          201.84663038422707,
          201.84663038422707,
          201.84663038422707,
          210.2195440477768,
          210.2195440477768,
          210.2195440477768,
          210.2195440477768
         ],
         "yaxis": "y"
        }
       ],
       "layout": {
        "legend": {
         "itemsizing": "constant",
         "title": {
          "text": "CITIZENSHIP_STATUS"
         },
         "tracegroupgap": 0
        },
        "margin": {
         "t": 60
        },
        "template": {
         "data": {
          "bar": [
           {
            "error_x": {
             "color": "#2a3f5f"
            },
            "error_y": {
             "color": "#2a3f5f"
            },
            "marker": {
             "line": {
              "color": "#E5ECF6",
              "width": 0.5
             },
             "pattern": {
              "fillmode": "overlay",
              "size": 10,
              "solidity": 0.2
             }
            },
            "type": "bar"
           }
          ],
          "barpolar": [
           {
            "marker": {
             "line": {
              "color": "#E5ECF6",
              "width": 0.5
             },
             "pattern": {
              "fillmode": "overlay",
              "size": 10,
              "solidity": 0.2
             }
            },
            "type": "barpolar"
           }
          ],
          "carpet": [
           {
            "aaxis": {
             "endlinecolor": "#2a3f5f",
             "gridcolor": "white",
             "linecolor": "white",
             "minorgridcolor": "white",
             "startlinecolor": "#2a3f5f"
            },
            "baxis": {
             "endlinecolor": "#2a3f5f",
             "gridcolor": "white",
             "linecolor": "white",
             "minorgridcolor": "white",
             "startlinecolor": "#2a3f5f"
            },
            "type": "carpet"
           }
          ],
          "choropleth": [
           {
            "colorbar": {
             "outlinewidth": 0,
             "ticks": ""
            },
            "type": "choropleth"
           }
          ],
          "contour": [
           {
            "colorbar": {
             "outlinewidth": 0,
             "ticks": ""
            },
            "colorscale": [
             [
              0,
              "#0d0887"
             ],
             [
              0.1111111111111111,
              "#46039f"
             ],
             [
              0.2222222222222222,
              "#7201a8"
             ],
             [
              0.3333333333333333,
              "#9c179e"
             ],
             [
              0.4444444444444444,
              "#bd3786"
             ],
             [
              0.5555555555555556,
              "#d8576b"
             ],
             [
              0.6666666666666666,
              "#ed7953"
             ],
             [
              0.7777777777777778,
              "#fb9f3a"
             ],
             [
              0.8888888888888888,
              "#fdca26"
             ],
             [
              1,
              "#f0f921"
             ]
            ],
            "type": "contour"
           }
          ],
          "contourcarpet": [
           {
            "colorbar": {
             "outlinewidth": 0,
             "ticks": ""
            },
            "type": "contourcarpet"
           }
          ],
          "heatmap": [
           {
            "colorbar": {
             "outlinewidth": 0,
             "ticks": ""
            },
            "colorscale": [
             [
              0,
              "#0d0887"
             ],
             [
              0.1111111111111111,
              "#46039f"
             ],
             [
              0.2222222222222222,
              "#7201a8"
             ],
             [
              0.3333333333333333,
              "#9c179e"
             ],
             [
              0.4444444444444444,
              "#bd3786"
             ],
             [
              0.5555555555555556,
              "#d8576b"
             ],
             [
              0.6666666666666666,
              "#ed7953"
             ],
             [
              0.7777777777777778,
              "#fb9f3a"
             ],
             [
              0.8888888888888888,
              "#fdca26"
             ],
             [
              1,
              "#f0f921"
             ]
            ],
            "type": "heatmap"
           }
          ],
          "heatmapgl": [
           {
            "colorbar": {
             "outlinewidth": 0,
             "ticks": ""
            },
            "colorscale": [
             [
              0,
              "#0d0887"
             ],
             [
              0.1111111111111111,
              "#46039f"
             ],
             [
              0.2222222222222222,
              "#7201a8"
             ],
             [
              0.3333333333333333,
              "#9c179e"
             ],
             [
              0.4444444444444444,
              "#bd3786"
             ],
             [
              0.5555555555555556,
              "#d8576b"
             ],
             [
              0.6666666666666666,
              "#ed7953"
             ],
             [
              0.7777777777777778,
              "#fb9f3a"
             ],
             [
              0.8888888888888888,
              "#fdca26"
             ],
             [
              1,
              "#f0f921"
             ]
            ],
            "type": "heatmapgl"
           }
          ],
          "histogram": [
           {
            "marker": {
             "pattern": {
              "fillmode": "overlay",
              "size": 10,
              "solidity": 0.2
             }
            },
            "type": "histogram"
           }
          ],
          "histogram2d": [
           {
            "colorbar": {
             "outlinewidth": 0,
             "ticks": ""
            },
            "colorscale": [
             [
              0,
              "#0d0887"
             ],
             [
              0.1111111111111111,
              "#46039f"
             ],
             [
              0.2222222222222222,
              "#7201a8"
             ],
             [
              0.3333333333333333,
              "#9c179e"
             ],
             [
              0.4444444444444444,
              "#bd3786"
             ],
             [
              0.5555555555555556,
              "#d8576b"
             ],
             [
              0.6666666666666666,
              "#ed7953"
             ],
             [
              0.7777777777777778,
              "#fb9f3a"
             ],
             [
              0.8888888888888888,
              "#fdca26"
             ],
             [
              1,
              "#f0f921"
             ]
            ],
            "type": "histogram2d"
           }
          ],
          "histogram2dcontour": [
           {
            "colorbar": {
             "outlinewidth": 0,
             "ticks": ""
            },
            "colorscale": [
             [
              0,
              "#0d0887"
             ],
             [
              0.1111111111111111,
              "#46039f"
             ],
             [
              0.2222222222222222,
              "#7201a8"
             ],
             [
              0.3333333333333333,
              "#9c179e"
             ],
             [
              0.4444444444444444,
              "#bd3786"
             ],
             [
              0.5555555555555556,
              "#d8576b"
             ],
             [
              0.6666666666666666,
              "#ed7953"
             ],
             [
              0.7777777777777778,
              "#fb9f3a"
             ],
             [
              0.8888888888888888,
              "#fdca26"
             ],
             [
              1,
              "#f0f921"
             ]
            ],
            "type": "histogram2dcontour"
           }
          ],
          "mesh3d": [
           {
            "colorbar": {
             "outlinewidth": 0,
             "ticks": ""
            },
            "type": "mesh3d"
           }
          ],
          "parcoords": [
           {
            "line": {
             "colorbar": {
              "outlinewidth": 0,
              "ticks": ""
             }
            },
            "type": "parcoords"
           }
          ],
          "pie": [
           {
            "automargin": true,
            "type": "pie"
           }
          ],
          "scatter": [
           {
            "fillpattern": {
             "fillmode": "overlay",
             "size": 10,
             "solidity": 0.2
            },
            "type": "scatter"
           }
          ],
          "scatter3d": [
           {
            "line": {
             "colorbar": {
              "outlinewidth": 0,
              "ticks": ""
             }
            },
            "marker": {
             "colorbar": {
              "outlinewidth": 0,
              "ticks": ""
             }
            },
            "type": "scatter3d"
           }
          ],
          "scattercarpet": [
           {
            "marker": {
             "colorbar": {
              "outlinewidth": 0,
              "ticks": ""
             }
            },
            "type": "scattercarpet"
           }
          ],
          "scattergeo": [
           {
            "marker": {
             "colorbar": {
              "outlinewidth": 0,
              "ticks": ""
             }
            },
            "type": "scattergeo"
           }
          ],
          "scattergl": [
           {
            "marker": {
             "colorbar": {
              "outlinewidth": 0,
              "ticks": ""
             }
            },
            "type": "scattergl"
           }
          ],
          "scattermapbox": [
           {
            "marker": {
             "colorbar": {
              "outlinewidth": 0,
              "ticks": ""
             }
            },
            "type": "scattermapbox"
           }
          ],
          "scatterpolar": [
           {
            "marker": {
             "colorbar": {
              "outlinewidth": 0,
              "ticks": ""
             }
            },
            "type": "scatterpolar"
           }
          ],
          "scatterpolargl": [
           {
            "marker": {
             "colorbar": {
              "outlinewidth": 0,
              "ticks": ""
             }
            },
            "type": "scatterpolargl"
           }
          ],
          "scatterternary": [
           {
            "marker": {
             "colorbar": {
              "outlinewidth": 0,
              "ticks": ""
             }
            },
            "type": "scatterternary"
           }
          ],
          "surface": [
           {
            "colorbar": {
             "outlinewidth": 0,
             "ticks": ""
            },
            "colorscale": [
             [
              0,
              "#0d0887"
             ],
             [
              0.1111111111111111,
              "#46039f"
             ],
             [
              0.2222222222222222,
              "#7201a8"
             ],
             [
              0.3333333333333333,
              "#9c179e"
             ],
             [
              0.4444444444444444,
              "#bd3786"
             ],
             [
              0.5555555555555556,
              "#d8576b"
             ],
             [
              0.6666666666666666,
              "#ed7953"
             ],
             [
              0.7777777777777778,
              "#fb9f3a"
             ],
             [
              0.8888888888888888,
              "#fdca26"
             ],
             [
              1,
              "#f0f921"
             ]
            ],
            "type": "surface"
           }
          ],
          "table": [
           {
            "cells": {
             "fill": {
              "color": "#EBF0F8"
             },
             "line": {
              "color": "white"
             }
            },
            "header": {
             "fill": {
              "color": "#C8D4E3"
             },
             "line": {
              "color": "white"
             }
            },
            "type": "table"
           }
          ]
         },
         "layout": {
          "annotationdefaults": {
           "arrowcolor": "#2a3f5f",
           "arrowhead": 0,
           "arrowwidth": 1
          },
          "autotypenumbers": "strict",
          "coloraxis": {
           "colorbar": {
            "outlinewidth": 0,
            "ticks": ""
           }
          },
          "colorscale": {
           "diverging": [
            [
             0,
             "#8e0152"
            ],
            [
             0.1,
             "#c51b7d"
            ],
            [
             0.2,
             "#de77ae"
            ],
            [
             0.3,
             "#f1b6da"
            ],
            [
             0.4,
             "#fde0ef"
            ],
            [
             0.5,
             "#f7f7f7"
            ],
            [
             0.6,
             "#e6f5d0"
            ],
            [
             0.7,
             "#b8e186"
            ],
            [
             0.8,
             "#7fbc41"
            ],
            [
             0.9,
             "#4d9221"
            ],
            [
             1,
             "#276419"
            ]
           ],
           "sequential": [
            [
             0,
             "#0d0887"
            ],
            [
             0.1111111111111111,
             "#46039f"
            ],
            [
             0.2222222222222222,
             "#7201a8"
            ],
            [
             0.3333333333333333,
             "#9c179e"
            ],
            [
             0.4444444444444444,
             "#bd3786"
            ],
            [
             0.5555555555555556,
             "#d8576b"
            ],
            [
             0.6666666666666666,
             "#ed7953"
            ],
            [
             0.7777777777777778,
             "#fb9f3a"
            ],
            [
             0.8888888888888888,
             "#fdca26"
            ],
            [
             1,
             "#f0f921"
            ]
           ],
           "sequentialminus": [
            [
             0,
             "#0d0887"
            ],
            [
             0.1111111111111111,
             "#46039f"
            ],
            [
             0.2222222222222222,
             "#7201a8"
            ],
            [
             0.3333333333333333,
             "#9c179e"
            ],
            [
             0.4444444444444444,
             "#bd3786"
            ],
            [
             0.5555555555555556,
             "#d8576b"
            ],
            [
             0.6666666666666666,
             "#ed7953"
            ],
            [
             0.7777777777777778,
             "#fb9f3a"
            ],
            [
             0.8888888888888888,
             "#fdca26"
            ],
            [
             1,
             "#f0f921"
            ]
           ]
          },
          "colorway": [
           "#636efa",
           "#EF553B",
           "#00cc96",
           "#ab63fa",
           "#FFA15A",
           "#19d3f3",
           "#FF6692",
           "#B6E880",
           "#FF97FF",
           "#FECB52"
          ],
          "font": {
           "color": "#2a3f5f"
          },
          "geo": {
           "bgcolor": "white",
           "lakecolor": "white",
           "landcolor": "#E5ECF6",
           "showlakes": true,
           "showland": true,
           "subunitcolor": "white"
          },
          "hoverlabel": {
           "align": "left"
          },
          "hovermode": "closest",
          "mapbox": {
           "style": "light"
          },
          "paper_bgcolor": "white",
          "plot_bgcolor": "#E5ECF6",
          "polar": {
           "angularaxis": {
            "gridcolor": "white",
            "linecolor": "white",
            "ticks": ""
           },
           "bgcolor": "#E5ECF6",
           "radialaxis": {
            "gridcolor": "white",
            "linecolor": "white",
            "ticks": ""
           }
          },
          "scene": {
           "xaxis": {
            "backgroundcolor": "#E5ECF6",
            "gridcolor": "white",
            "gridwidth": 2,
            "linecolor": "white",
            "showbackground": true,
            "ticks": "",
            "zerolinecolor": "white"
           },
           "yaxis": {
            "backgroundcolor": "#E5ECF6",
            "gridcolor": "white",
            "gridwidth": 2,
            "linecolor": "white",
            "showbackground": true,
            "ticks": "",
            "zerolinecolor": "white"
           },
           "zaxis": {
            "backgroundcolor": "#E5ECF6",
            "gridcolor": "white",
            "gridwidth": 2,
            "linecolor": "white",
            "showbackground": true,
            "ticks": "",
            "zerolinecolor": "white"
           }
          },
          "shapedefaults": {
           "line": {
            "color": "#2a3f5f"
           }
          },
          "ternary": {
           "aaxis": {
            "gridcolor": "white",
            "linecolor": "white",
            "ticks": ""
           },
           "baxis": {
            "gridcolor": "white",
            "linecolor": "white",
            "ticks": ""
           },
           "bgcolor": "#E5ECF6",
           "caxis": {
            "gridcolor": "white",
            "linecolor": "white",
            "ticks": ""
           }
          },
          "title": {
           "x": 0.05
          },
          "xaxis": {
           "automargin": true,
           "gridcolor": "white",
           "linecolor": "white",
           "ticks": "",
           "title": {
            "standoff": 15
           },
           "zerolinecolor": "white",
           "zerolinewidth": 2
          },
          "yaxis": {
           "automargin": true,
           "gridcolor": "white",
           "linecolor": "white",
           "ticks": "",
           "title": {
            "standoff": 15
           },
           "zerolinecolor": "white",
           "zerolinewidth": 2
          }
         }
        },
        "title": {
         "text": "Scatter 4"
        },
        "xaxis": {
         "anchor": "y",
         "domain": [
          0,
          0.7363
         ],
         "title": {
          "text": "GPA of Students"
         }
        },
        "xaxis2": {
         "anchor": "y2",
         "domain": [
          0.7413,
          1
         ],
         "matches": "x2",
         "showgrid": false,
         "showline": false,
         "showticklabels": false,
         "ticks": ""
        },
        "yaxis": {
         "anchor": "x",
         "domain": [
          0,
          1
         ],
         "title": {
          "text": "Course Duration"
         }
        },
        "yaxis2": {
         "anchor": "x2",
         "domain": [
          0,
          1
         ],
         "matches": "y",
         "showgrid": true,
         "showticklabels": false
        }
       }
      }
     },
     "metadata": {},
     "output_type": "display_data"
    }
   ],
   "source": [
    "fig2 = px.scatter(df, x=\"COURSE FEE\", y=\"Course Duration\", color=\"CITIZENSHIP_STATUS\",size='COURSE FEE',marginal_y=\"violin\", trendline=\"ols\")\n",
    "fig2.update_layout(title=\"Scatter 4\",xaxis_title=\"GPA of Students\",yaxis_title=\"Course Duration\")\n",
    "fig2.show()\n"
   ]
  },
  {
   "cell_type": "code",
   "execution_count": 200,
   "metadata": {},
   "outputs": [
    {
     "data": {
      "application/vnd.plotly.v1+json": {
       "config": {
        "plotlyServerURL": "https://plot.ly"
       },
       "data": [
        {
         "boxpoints": "all",
         "jitter": 0.3,
         "line": {
          "color": "#1a5276"
         },
         "marker": {
          "color": "#1a5276"
         },
         "name": "Certificate in Digital Marketing",
         "notched": true,
         "showlegend": false,
         "type": "box",
         "whiskerwidth": 0.2,
         "y": [
          31,
          47,
          50,
          35,
          31,
          38,
          34,
          43,
          31,
          34,
          32,
          54,
          30,
          55,
          28,
          54,
          30,
          35,
          40,
          47,
          53,
          63,
          24,
          46,
          32,
          32,
          36,
          36,
          36,
          33,
          51,
          37,
          25,
          50,
          45,
          44,
          33,
          40,
          50,
          46,
          31,
          38,
          40,
          54,
          31,
          41,
          61,
          56,
          53,
          41,
          44,
          32,
          36,
          30,
          36,
          34,
          43,
          39,
          30,
          30,
          42,
          40,
          51,
          40,
          41,
          59,
          52,
          47,
          37,
          42,
          40,
          50,
          39,
          31,
          56,
          50,
          31,
          46,
          35,
          40,
          45,
          40,
          32,
          42,
          40,
          33,
          57,
          40,
          30,
          59,
          59,
          40,
          41,
          45,
          42,
          37,
          34,
          32,
          42,
          37,
          39
         ]
        },
        {
         "boxpoints": "all",
         "jitter": 0.3,
         "line": {
          "color": "#154360"
         },
         "marker": {
          "color": "#154360"
         },
         "name": "Diploma in Business Administration",
         "notched": true,
         "showlegend": false,
         "type": "box",
         "whiskerwidth": 0.2,
         "y": [
          46,
          58,
          36,
          32,
          39,
          43,
          30,
          48,
          46,
          33,
          40,
          35,
          28,
          29,
          44,
          29,
          41,
          35,
          42,
          44,
          34,
          48,
          40,
          55,
          44,
          44,
          48,
          40,
          31,
          36,
          34,
          51,
          32,
          34,
          34,
          37,
          27,
          54,
          50,
          29,
          40,
          55,
          32,
          46,
          36,
          51,
          46,
          48,
          38,
          44
         ]
        },
        {
         "boxpoints": "all",
         "jitter": 0.3,
         "line": {
          "color": "#0f3c4d"
         },
         "marker": {
          "color": "#0f3c4d"
         },
         "name": "Certificate in HR Management",
         "notched": true,
         "showlegend": false,
         "type": "box",
         "whiskerwidth": 0.2,
         "y": [
          31,
          50,
          35,
          32,
          31,
          35,
          22,
          54,
          36,
          40,
          37,
          30,
          39,
          36,
          43,
          24,
          56,
          28,
          25,
          22,
          36,
          29,
          38,
          44,
          29,
          48,
          26,
          37,
          31,
          25,
          40,
          37,
          45,
          25
         ]
        },
        {
         "boxpoints": "all",
         "jitter": 0.3,
         "line": {
          "color": "#0b2c3a"
         },
         "marker": {
          "color": "#0b2c3a"
         },
         "name": "Bachelor of Business Administration",
         "notched": true,
         "showlegend": false,
         "type": "box",
         "whiskerwidth": 0.2,
         "y": [
          35,
          40,
          53,
          35,
          42,
          30,
          42,
          33,
          38,
          32,
          32,
          39,
          41,
          40,
          40,
          41,
          41,
          38,
          35,
          50,
          39,
          48,
          41,
          40,
          46,
          54,
          31,
          51,
          38,
          39,
          46,
          42,
          31
         ]
        },
        {
         "boxpoints": "all",
         "jitter": 0.3,
         "line": {
          "color": "#071f28"
         },
         "marker": {
          "color": "#071f28"
         },
         "name": "Master of Business Administration",
         "notched": true,
         "showlegend": false,
         "type": "box",
         "whiskerwidth": 0.2,
         "y": [
          50,
          42,
          35,
          25,
          33,
          45,
          40,
          40,
          32,
          47,
          33,
          31,
          31,
          32,
          38,
          27,
          42,
          44,
          44,
          33,
          38,
          51,
          41,
          34,
          42,
          41
         ]
        }
       ],
       "layout": {
        "font": {
         "size": 12
        },
        "margin": {
         "b": 150
        },
        "paper_bgcolor": "white",
        "plot_bgcolor": "white",
        "template": {
         "data": {
          "bar": [
           {
            "error_x": {
             "color": "#2a3f5f"
            },
            "error_y": {
             "color": "#2a3f5f"
            },
            "marker": {
             "line": {
              "color": "#E5ECF6",
              "width": 0.5
             },
             "pattern": {
              "fillmode": "overlay",
              "size": 10,
              "solidity": 0.2
             }
            },
            "type": "bar"
           }
          ],
          "barpolar": [
           {
            "marker": {
             "line": {
              "color": "#E5ECF6",
              "width": 0.5
             },
             "pattern": {
              "fillmode": "overlay",
              "size": 10,
              "solidity": 0.2
             }
            },
            "type": "barpolar"
           }
          ],
          "carpet": [
           {
            "aaxis": {
             "endlinecolor": "#2a3f5f",
             "gridcolor": "white",
             "linecolor": "white",
             "minorgridcolor": "white",
             "startlinecolor": "#2a3f5f"
            },
            "baxis": {
             "endlinecolor": "#2a3f5f",
             "gridcolor": "white",
             "linecolor": "white",
             "minorgridcolor": "white",
             "startlinecolor": "#2a3f5f"
            },
            "type": "carpet"
           }
          ],
          "choropleth": [
           {
            "colorbar": {
             "outlinewidth": 0,
             "ticks": ""
            },
            "type": "choropleth"
           }
          ],
          "contour": [
           {
            "colorbar": {
             "outlinewidth": 0,
             "ticks": ""
            },
            "colorscale": [
             [
              0,
              "#0d0887"
             ],
             [
              0.1111111111111111,
              "#46039f"
             ],
             [
              0.2222222222222222,
              "#7201a8"
             ],
             [
              0.3333333333333333,
              "#9c179e"
             ],
             [
              0.4444444444444444,
              "#bd3786"
             ],
             [
              0.5555555555555556,
              "#d8576b"
             ],
             [
              0.6666666666666666,
              "#ed7953"
             ],
             [
              0.7777777777777778,
              "#fb9f3a"
             ],
             [
              0.8888888888888888,
              "#fdca26"
             ],
             [
              1,
              "#f0f921"
             ]
            ],
            "type": "contour"
           }
          ],
          "contourcarpet": [
           {
            "colorbar": {
             "outlinewidth": 0,
             "ticks": ""
            },
            "type": "contourcarpet"
           }
          ],
          "heatmap": [
           {
            "colorbar": {
             "outlinewidth": 0,
             "ticks": ""
            },
            "colorscale": [
             [
              0,
              "#0d0887"
             ],
             [
              0.1111111111111111,
              "#46039f"
             ],
             [
              0.2222222222222222,
              "#7201a8"
             ],
             [
              0.3333333333333333,
              "#9c179e"
             ],
             [
              0.4444444444444444,
              "#bd3786"
             ],
             [
              0.5555555555555556,
              "#d8576b"
             ],
             [
              0.6666666666666666,
              "#ed7953"
             ],
             [
              0.7777777777777778,
              "#fb9f3a"
             ],
             [
              0.8888888888888888,
              "#fdca26"
             ],
             [
              1,
              "#f0f921"
             ]
            ],
            "type": "heatmap"
           }
          ],
          "heatmapgl": [
           {
            "colorbar": {
             "outlinewidth": 0,
             "ticks": ""
            },
            "colorscale": [
             [
              0,
              "#0d0887"
             ],
             [
              0.1111111111111111,
              "#46039f"
             ],
             [
              0.2222222222222222,
              "#7201a8"
             ],
             [
              0.3333333333333333,
              "#9c179e"
             ],
             [
              0.4444444444444444,
              "#bd3786"
             ],
             [
              0.5555555555555556,
              "#d8576b"
             ],
             [
              0.6666666666666666,
              "#ed7953"
             ],
             [
              0.7777777777777778,
              "#fb9f3a"
             ],
             [
              0.8888888888888888,
              "#fdca26"
             ],
             [
              1,
              "#f0f921"
             ]
            ],
            "type": "heatmapgl"
           }
          ],
          "histogram": [
           {
            "marker": {
             "pattern": {
              "fillmode": "overlay",
              "size": 10,
              "solidity": 0.2
             }
            },
            "type": "histogram"
           }
          ],
          "histogram2d": [
           {
            "colorbar": {
             "outlinewidth": 0,
             "ticks": ""
            },
            "colorscale": [
             [
              0,
              "#0d0887"
             ],
             [
              0.1111111111111111,
              "#46039f"
             ],
             [
              0.2222222222222222,
              "#7201a8"
             ],
             [
              0.3333333333333333,
              "#9c179e"
             ],
             [
              0.4444444444444444,
              "#bd3786"
             ],
             [
              0.5555555555555556,
              "#d8576b"
             ],
             [
              0.6666666666666666,
              "#ed7953"
             ],
             [
              0.7777777777777778,
              "#fb9f3a"
             ],
             [
              0.8888888888888888,
              "#fdca26"
             ],
             [
              1,
              "#f0f921"
             ]
            ],
            "type": "histogram2d"
           }
          ],
          "histogram2dcontour": [
           {
            "colorbar": {
             "outlinewidth": 0,
             "ticks": ""
            },
            "colorscale": [
             [
              0,
              "#0d0887"
             ],
             [
              0.1111111111111111,
              "#46039f"
             ],
             [
              0.2222222222222222,
              "#7201a8"
             ],
             [
              0.3333333333333333,
              "#9c179e"
             ],
             [
              0.4444444444444444,
              "#bd3786"
             ],
             [
              0.5555555555555556,
              "#d8576b"
             ],
             [
              0.6666666666666666,
              "#ed7953"
             ],
             [
              0.7777777777777778,
              "#fb9f3a"
             ],
             [
              0.8888888888888888,
              "#fdca26"
             ],
             [
              1,
              "#f0f921"
             ]
            ],
            "type": "histogram2dcontour"
           }
          ],
          "mesh3d": [
           {
            "colorbar": {
             "outlinewidth": 0,
             "ticks": ""
            },
            "type": "mesh3d"
           }
          ],
          "parcoords": [
           {
            "line": {
             "colorbar": {
              "outlinewidth": 0,
              "ticks": ""
             }
            },
            "type": "parcoords"
           }
          ],
          "pie": [
           {
            "automargin": true,
            "type": "pie"
           }
          ],
          "scatter": [
           {
            "fillpattern": {
             "fillmode": "overlay",
             "size": 10,
             "solidity": 0.2
            },
            "type": "scatter"
           }
          ],
          "scatter3d": [
           {
            "line": {
             "colorbar": {
              "outlinewidth": 0,
              "ticks": ""
             }
            },
            "marker": {
             "colorbar": {
              "outlinewidth": 0,
              "ticks": ""
             }
            },
            "type": "scatter3d"
           }
          ],
          "scattercarpet": [
           {
            "marker": {
             "colorbar": {
              "outlinewidth": 0,
              "ticks": ""
             }
            },
            "type": "scattercarpet"
           }
          ],
          "scattergeo": [
           {
            "marker": {
             "colorbar": {
              "outlinewidth": 0,
              "ticks": ""
             }
            },
            "type": "scattergeo"
           }
          ],
          "scattergl": [
           {
            "marker": {
             "colorbar": {
              "outlinewidth": 0,
              "ticks": ""
             }
            },
            "type": "scattergl"
           }
          ],
          "scattermapbox": [
           {
            "marker": {
             "colorbar": {
              "outlinewidth": 0,
              "ticks": ""
             }
            },
            "type": "scattermapbox"
           }
          ],
          "scatterpolar": [
           {
            "marker": {
             "colorbar": {
              "outlinewidth": 0,
              "ticks": ""
             }
            },
            "type": "scatterpolar"
           }
          ],
          "scatterpolargl": [
           {
            "marker": {
             "colorbar": {
              "outlinewidth": 0,
              "ticks": ""
             }
            },
            "type": "scatterpolargl"
           }
          ],
          "scatterternary": [
           {
            "marker": {
             "colorbar": {
              "outlinewidth": 0,
              "ticks": ""
             }
            },
            "type": "scatterternary"
           }
          ],
          "surface": [
           {
            "colorbar": {
             "outlinewidth": 0,
             "ticks": ""
            },
            "colorscale": [
             [
              0,
              "#0d0887"
             ],
             [
              0.1111111111111111,
              "#46039f"
             ],
             [
              0.2222222222222222,
              "#7201a8"
             ],
             [
              0.3333333333333333,
              "#9c179e"
             ],
             [
              0.4444444444444444,
              "#bd3786"
             ],
             [
              0.5555555555555556,
              "#d8576b"
             ],
             [
              0.6666666666666666,
              "#ed7953"
             ],
             [
              0.7777777777777778,
              "#fb9f3a"
             ],
             [
              0.8888888888888888,
              "#fdca26"
             ],
             [
              1,
              "#f0f921"
             ]
            ],
            "type": "surface"
           }
          ],
          "table": [
           {
            "cells": {
             "fill": {
              "color": "#EBF0F8"
             },
             "line": {
              "color": "white"
             }
            },
            "header": {
             "fill": {
              "color": "#C8D4E3"
             },
             "line": {
              "color": "white"
             }
            },
            "type": "table"
           }
          ]
         },
         "layout": {
          "annotationdefaults": {
           "arrowcolor": "#2a3f5f",
           "arrowhead": 0,
           "arrowwidth": 1
          },
          "autotypenumbers": "strict",
          "coloraxis": {
           "colorbar": {
            "outlinewidth": 0,
            "ticks": ""
           }
          },
          "colorscale": {
           "diverging": [
            [
             0,
             "#8e0152"
            ],
            [
             0.1,
             "#c51b7d"
            ],
            [
             0.2,
             "#de77ae"
            ],
            [
             0.3,
             "#f1b6da"
            ],
            [
             0.4,
             "#fde0ef"
            ],
            [
             0.5,
             "#f7f7f7"
            ],
            [
             0.6,
             "#e6f5d0"
            ],
            [
             0.7,
             "#b8e186"
            ],
            [
             0.8,
             "#7fbc41"
            ],
            [
             0.9,
             "#4d9221"
            ],
            [
             1,
             "#276419"
            ]
           ],
           "sequential": [
            [
             0,
             "#0d0887"
            ],
            [
             0.1111111111111111,
             "#46039f"
            ],
            [
             0.2222222222222222,
             "#7201a8"
            ],
            [
             0.3333333333333333,
             "#9c179e"
            ],
            [
             0.4444444444444444,
             "#bd3786"
            ],
            [
             0.5555555555555556,
             "#d8576b"
            ],
            [
             0.6666666666666666,
             "#ed7953"
            ],
            [
             0.7777777777777778,
             "#fb9f3a"
            ],
            [
             0.8888888888888888,
             "#fdca26"
            ],
            [
             1,
             "#f0f921"
            ]
           ],
           "sequentialminus": [
            [
             0,
             "#0d0887"
            ],
            [
             0.1111111111111111,
             "#46039f"
            ],
            [
             0.2222222222222222,
             "#7201a8"
            ],
            [
             0.3333333333333333,
             "#9c179e"
            ],
            [
             0.4444444444444444,
             "#bd3786"
            ],
            [
             0.5555555555555556,
             "#d8576b"
            ],
            [
             0.6666666666666666,
             "#ed7953"
            ],
            [
             0.7777777777777778,
             "#fb9f3a"
            ],
            [
             0.8888888888888888,
             "#fdca26"
            ],
            [
             1,
             "#f0f921"
            ]
           ]
          },
          "colorway": [
           "#636efa",
           "#EF553B",
           "#00cc96",
           "#ab63fa",
           "#FFA15A",
           "#19d3f3",
           "#FF6692",
           "#B6E880",
           "#FF97FF",
           "#FECB52"
          ],
          "font": {
           "color": "#2a3f5f"
          },
          "geo": {
           "bgcolor": "white",
           "lakecolor": "white",
           "landcolor": "#E5ECF6",
           "showlakes": true,
           "showland": true,
           "subunitcolor": "white"
          },
          "hoverlabel": {
           "align": "left"
          },
          "hovermode": "closest",
          "mapbox": {
           "style": "light"
          },
          "paper_bgcolor": "white",
          "plot_bgcolor": "#E5ECF6",
          "polar": {
           "angularaxis": {
            "gridcolor": "white",
            "linecolor": "white",
            "ticks": ""
           },
           "bgcolor": "#E5ECF6",
           "radialaxis": {
            "gridcolor": "white",
            "linecolor": "white",
            "ticks": ""
           }
          },
          "scene": {
           "xaxis": {
            "backgroundcolor": "#E5ECF6",
            "gridcolor": "white",
            "gridwidth": 2,
            "linecolor": "white",
            "showbackground": true,
            "ticks": "",
            "zerolinecolor": "white"
           },
           "yaxis": {
            "backgroundcolor": "#E5ECF6",
            "gridcolor": "white",
            "gridwidth": 2,
            "linecolor": "white",
            "showbackground": true,
            "ticks": "",
            "zerolinecolor": "white"
           },
           "zaxis": {
            "backgroundcolor": "#E5ECF6",
            "gridcolor": "white",
            "gridwidth": 2,
            "linecolor": "white",
            "showbackground": true,
            "ticks": "",
            "zerolinecolor": "white"
           }
          },
          "shapedefaults": {
           "line": {
            "color": "#2a3f5f"
           }
          },
          "ternary": {
           "aaxis": {
            "gridcolor": "white",
            "linecolor": "white",
            "ticks": ""
           },
           "baxis": {
            "gridcolor": "white",
            "linecolor": "white",
            "ticks": ""
           },
           "bgcolor": "#E5ECF6",
           "caxis": {
            "gridcolor": "white",
            "linecolor": "white",
            "ticks": ""
           }
          },
          "title": {
           "x": 0.05
          },
          "xaxis": {
           "automargin": true,
           "gridcolor": "white",
           "linecolor": "white",
           "ticks": "",
           "title": {
            "standoff": 15
           },
           "zerolinecolor": "white",
           "zerolinewidth": 2
          },
          "yaxis": {
           "automargin": true,
           "gridcolor": "white",
           "linecolor": "white",
           "ticks": "",
           "title": {
            "standoff": 15
           },
           "zerolinecolor": "white",
           "zerolinewidth": 2
          }
         }
        },
        "title": {
         "text": "Age Distribution by Course",
         "x": 0.5,
         "xanchor": "center"
        },
        "xaxis": {
         "tickangle": 0,
         "tickmode": "array",
         "ticktext": [
          "Certificate in<br>Digital<br>Marketing",
          "Diploma in<br>Business<br>Administration",
          "Certificate in<br>HR Management",
          "Bachelor of<br>Business<br>Administration",
          "Master of<br>Business<br>Administration"
         ],
         "tickvals": [
          0,
          1,
          2,
          3,
          4
         ],
         "title": {
          "text": "Course"
         }
        },
        "yaxis": {
         "gridcolor": "lightgrey",
         "showgrid": true,
         "title": {
          "text": "Age"
         },
         "zeroline": true,
         "zerolinecolor": "lightgrey"
        }
       }
      }
     },
     "metadata": {},
     "output_type": "display_data"
    }
   ],
   "source": [
    "import plotly.graph_objects as go\n",
    "import pandas as pd\n",
    "import textwrap\n",
    "\n",
    "def wrap_text(text, width=15):\n",
    "    return '<br>'.join(textwrap.wrap(text, width=width))\n",
    "\n",
    "# Assuming df is your DataFrame\n",
    "# If you don't have df defined, you'll need to create or load it first\n",
    "\n",
    "# Calculate the count of data points for each course\n",
    "count_by_course = df['COURSE'].value_counts().reset_index()\n",
    "count_by_course.columns = ['COURSE', 'Count']\n",
    "count_by_course = count_by_course.sort_values(by='Count', ascending=False)\n",
    "\n",
    "# Reorder the DataFrame based on sorted courses\n",
    "df['COURSE'] = pd.Categorical(df['COURSE'], categories=count_by_course['COURSE'], ordered=True)\n",
    "\n",
    "# Get sorted course labels\n",
    "course_labels = count_by_course['COURSE']\n",
    "\n",
    "# Create a darker color scale\n",
    "colors = ['#1a5276', '#154360', '#0f3c4d', '#0b2c3a', '#071f28', '#031016', '#000506', '#000000']\n",
    "\n",
    "# Create the box plot\n",
    "fig = go.Figure()\n",
    "\n",
    "for i, course in enumerate(course_labels):\n",
    "    course_data = df[df['COURSE'] == course]['Age']\n",
    "    \n",
    "    fig.add_trace(go.Box(\n",
    "        y=course_data,\n",
    "        name=course,\n",
    "        boxpoints='all',\n",
    "        jitter=0.3,\n",
    "        whiskerwidth=0.2,\n",
    "        marker_color=colors[i % len(colors)],\n",
    "        line_color=colors[i % len(colors)],\n",
    "        showlegend=False,\n",
    "        notched=True\n",
    "    ))\n",
    "\n",
    "# Wrap the course labels\n",
    "wrapped_labels = [wrap_text(label) for label in course_labels]\n",
    "\n",
    "# Update layout\n",
    "fig.update_layout(\n",
    "    title={\n",
    "        'text': \"Age Distribution by Course\",\n",
    "        'x': 0.5,\n",
    "        'xanchor': 'center'\n",
    "    },\n",
    "    xaxis=dict(\n",
    "        title=\"Course\",\n",
    "        tickmode='array',\n",
    "        tickvals=list(range(len(course_labels))),\n",
    "        ticktext=wrapped_labels,\n",
    "        tickangle=0\n",
    "    ),\n",
    "    yaxis=dict(\n",
    "        title=\"Age\"\n",
    "    ),\n",
    "    font=dict(\n",
    "        size=12\n",
    "    ),\n",
    "    plot_bgcolor='white',\n",
    "    paper_bgcolor='white',\n",
    "    margin=dict(b=150)  # Increase bottom margin to accommodate wrapped labels\n",
    ")\n",
    "\n",
    "# Update the x-axis to show all labels\n",
    "fig.update_xaxes(tickangle=0, tickmode='array', tickvals=list(range(len(course_labels))), ticktext=wrapped_labels)\n",
    "\n",
    "# Update y-axis to have a white background with light grey gridlines\n",
    "fig.update_yaxes(\n",
    "    showgrid=True,\n",
    "    gridcolor='lightgrey',\n",
    "    zeroline=True,\n",
    "    zerolinecolor='lightgrey'\n",
    ")\n",
    "\n",
    "# Return the figure object\n",
    "fig.show()"
   ]
  },
  {
   "cell_type": "code",
   "execution_count": 201,
   "metadata": {},
   "outputs": [
    {
     "data": {
      "application/vnd.plotly.v1+json": {
       "config": {
        "plotlyServerURL": "https://plot.ly"
       },
       "data": [
        {
         "alignmentgroup": "True",
         "boxpoints": "all",
         "hovertemplate": "COURSE FUNDING=Subsidiesed<br>Age=%{y}<extra></extra>",
         "jitter": 0.5,
         "legendgroup": "Subsidiesed",
         "marker": {
          "color": "#636efa"
         },
         "name": "Subsidiesed",
         "notched": false,
         "offsetgroup": "Subsidiesed",
         "orientation": "v",
         "showlegend": true,
         "type": "box",
         "x0": " ",
         "xaxis": "x",
         "y": [
          46,
          32,
          39,
          48,
          46,
          35,
          44,
          41,
          44,
          55,
          34,
          32,
          54,
          50,
          40,
          32,
          46,
          38,
          31,
          36,
          40,
          37,
          30,
          36,
          29,
          31,
          47,
          50,
          35,
          38,
          34,
          30,
          46,
          36,
          33,
          51,
          37,
          50,
          45,
          33,
          40,
          46,
          31,
          40,
          31,
          41,
          56,
          30,
          36,
          43,
          51,
          40,
          41,
          56,
          31,
          45,
          42,
          57,
          40,
          42,
          37,
          32
         ],
         "y0": " ",
         "yaxis": "y"
        },
        {
         "alignmentgroup": "True",
         "boxpoints": "all",
         "hovertemplate": "COURSE FUNDING=Individual<br>Age=%{y}<extra></extra>",
         "jitter": 0.5,
         "legendgroup": "Individual",
         "marker": {
          "color": "#EF553B"
         },
         "name": "Individual",
         "notched": false,
         "offsetgroup": "Individual",
         "orientation": "v",
         "showlegend": true,
         "type": "box",
         "x0": " ",
         "xaxis": "x2",
         "y": [
          58,
          30,
          33,
          40,
          42,
          34,
          48,
          44,
          48,
          31,
          34,
          27,
          29,
          51,
          46,
          48,
          44,
          50,
          32,
          35,
          22,
          54,
          39,
          36,
          24,
          56,
          25,
          22,
          44,
          48,
          26,
          31,
          25,
          37,
          45,
          25,
          31,
          34,
          32,
          55,
          28,
          30,
          40,
          47,
          53,
          32,
          44,
          50,
          38,
          54,
          61,
          41,
          44,
          32,
          36,
          34,
          30,
          30,
          40,
          52,
          47,
          37,
          42,
          50,
          50,
          35,
          40,
          40,
          40,
          41,
          45,
          34,
          42,
          39,
          35,
          40,
          53,
          35,
          42,
          30,
          42,
          33,
          38,
          32,
          32,
          39,
          41,
          40,
          40,
          41,
          41,
          38,
          35,
          50,
          39,
          48,
          41,
          40,
          46,
          54,
          31,
          51,
          38,
          39,
          46,
          42,
          31,
          50,
          42,
          35,
          25,
          33,
          45,
          40,
          40,
          32,
          47,
          33,
          31,
          31,
          32,
          38,
          27,
          42,
          44,
          44,
          33,
          38,
          51,
          41,
          34,
          42,
          41
         ],
         "y0": " ",
         "yaxis": "y2"
        },
        {
         "alignmentgroup": "True",
         "boxpoints": "all",
         "hovertemplate": "COURSE FUNDING=Sponsored<br>Age=%{y}<extra></extra>",
         "jitter": 0.5,
         "legendgroup": "Sponsored",
         "marker": {
          "color": "#00cc96"
         },
         "name": "Sponsored",
         "notched": false,
         "offsetgroup": "Sponsored",
         "orientation": "v",
         "showlegend": true,
         "type": "box",
         "x0": " ",
         "xaxis": "x3",
         "y": [
          36,
          43,
          28,
          29,
          29,
          35,
          40,
          44,
          40,
          36,
          51,
          34,
          37,
          55,
          36,
          35,
          31,
          43,
          28,
          38,
          29,
          37,
          40,
          43,
          31,
          54,
          54,
          35,
          63,
          24,
          32,
          36,
          36,
          25,
          53,
          39,
          42,
          59,
          40,
          39,
          31,
          46,
          40,
          32,
          33,
          30,
          59,
          59,
          37
         ],
         "y0": " ",
         "yaxis": "y3"
        }
       ],
       "layout": {
        "annotations": [
         {
          "font": {},
          "showarrow": false,
          "text": "COURSE FUNDING=Subsidiesed",
          "x": 0.15999999999999998,
          "xanchor": "center",
          "xref": "paper",
          "y": 1,
          "yanchor": "bottom",
          "yref": "paper"
         },
         {
          "font": {},
          "showarrow": false,
          "text": "COURSE FUNDING=Individual",
          "x": 0.49999999999999994,
          "xanchor": "center",
          "xref": "paper",
          "y": 1,
          "yanchor": "bottom",
          "yref": "paper"
         },
         {
          "font": {},
          "showarrow": false,
          "text": "COURSE FUNDING=Sponsored",
          "x": 0.8399999999999999,
          "xanchor": "center",
          "xref": "paper",
          "y": 1,
          "yanchor": "bottom",
          "yref": "paper"
         }
        ],
        "boxmode": "overlay",
        "legend": {
         "title": {
          "text": "COURSE FUNDING"
         },
         "tracegroupgap": 0
        },
        "margin": {
         "t": 60
        },
        "template": {
         "data": {
          "bar": [
           {
            "error_x": {
             "color": "#2a3f5f"
            },
            "error_y": {
             "color": "#2a3f5f"
            },
            "marker": {
             "line": {
              "color": "#E5ECF6",
              "width": 0.5
             },
             "pattern": {
              "fillmode": "overlay",
              "size": 10,
              "solidity": 0.2
             }
            },
            "type": "bar"
           }
          ],
          "barpolar": [
           {
            "marker": {
             "line": {
              "color": "#E5ECF6",
              "width": 0.5
             },
             "pattern": {
              "fillmode": "overlay",
              "size": 10,
              "solidity": 0.2
             }
            },
            "type": "barpolar"
           }
          ],
          "carpet": [
           {
            "aaxis": {
             "endlinecolor": "#2a3f5f",
             "gridcolor": "white",
             "linecolor": "white",
             "minorgridcolor": "white",
             "startlinecolor": "#2a3f5f"
            },
            "baxis": {
             "endlinecolor": "#2a3f5f",
             "gridcolor": "white",
             "linecolor": "white",
             "minorgridcolor": "white",
             "startlinecolor": "#2a3f5f"
            },
            "type": "carpet"
           }
          ],
          "choropleth": [
           {
            "colorbar": {
             "outlinewidth": 0,
             "ticks": ""
            },
            "type": "choropleth"
           }
          ],
          "contour": [
           {
            "colorbar": {
             "outlinewidth": 0,
             "ticks": ""
            },
            "colorscale": [
             [
              0,
              "#0d0887"
             ],
             [
              0.1111111111111111,
              "#46039f"
             ],
             [
              0.2222222222222222,
              "#7201a8"
             ],
             [
              0.3333333333333333,
              "#9c179e"
             ],
             [
              0.4444444444444444,
              "#bd3786"
             ],
             [
              0.5555555555555556,
              "#d8576b"
             ],
             [
              0.6666666666666666,
              "#ed7953"
             ],
             [
              0.7777777777777778,
              "#fb9f3a"
             ],
             [
              0.8888888888888888,
              "#fdca26"
             ],
             [
              1,
              "#f0f921"
             ]
            ],
            "type": "contour"
           }
          ],
          "contourcarpet": [
           {
            "colorbar": {
             "outlinewidth": 0,
             "ticks": ""
            },
            "type": "contourcarpet"
           }
          ],
          "heatmap": [
           {
            "colorbar": {
             "outlinewidth": 0,
             "ticks": ""
            },
            "colorscale": [
             [
              0,
              "#0d0887"
             ],
             [
              0.1111111111111111,
              "#46039f"
             ],
             [
              0.2222222222222222,
              "#7201a8"
             ],
             [
              0.3333333333333333,
              "#9c179e"
             ],
             [
              0.4444444444444444,
              "#bd3786"
             ],
             [
              0.5555555555555556,
              "#d8576b"
             ],
             [
              0.6666666666666666,
              "#ed7953"
             ],
             [
              0.7777777777777778,
              "#fb9f3a"
             ],
             [
              0.8888888888888888,
              "#fdca26"
             ],
             [
              1,
              "#f0f921"
             ]
            ],
            "type": "heatmap"
           }
          ],
          "heatmapgl": [
           {
            "colorbar": {
             "outlinewidth": 0,
             "ticks": ""
            },
            "colorscale": [
             [
              0,
              "#0d0887"
             ],
             [
              0.1111111111111111,
              "#46039f"
             ],
             [
              0.2222222222222222,
              "#7201a8"
             ],
             [
              0.3333333333333333,
              "#9c179e"
             ],
             [
              0.4444444444444444,
              "#bd3786"
             ],
             [
              0.5555555555555556,
              "#d8576b"
             ],
             [
              0.6666666666666666,
              "#ed7953"
             ],
             [
              0.7777777777777778,
              "#fb9f3a"
             ],
             [
              0.8888888888888888,
              "#fdca26"
             ],
             [
              1,
              "#f0f921"
             ]
            ],
            "type": "heatmapgl"
           }
          ],
          "histogram": [
           {
            "marker": {
             "pattern": {
              "fillmode": "overlay",
              "size": 10,
              "solidity": 0.2
             }
            },
            "type": "histogram"
           }
          ],
          "histogram2d": [
           {
            "colorbar": {
             "outlinewidth": 0,
             "ticks": ""
            },
            "colorscale": [
             [
              0,
              "#0d0887"
             ],
             [
              0.1111111111111111,
              "#46039f"
             ],
             [
              0.2222222222222222,
              "#7201a8"
             ],
             [
              0.3333333333333333,
              "#9c179e"
             ],
             [
              0.4444444444444444,
              "#bd3786"
             ],
             [
              0.5555555555555556,
              "#d8576b"
             ],
             [
              0.6666666666666666,
              "#ed7953"
             ],
             [
              0.7777777777777778,
              "#fb9f3a"
             ],
             [
              0.8888888888888888,
              "#fdca26"
             ],
             [
              1,
              "#f0f921"
             ]
            ],
            "type": "histogram2d"
           }
          ],
          "histogram2dcontour": [
           {
            "colorbar": {
             "outlinewidth": 0,
             "ticks": ""
            },
            "colorscale": [
             [
              0,
              "#0d0887"
             ],
             [
              0.1111111111111111,
              "#46039f"
             ],
             [
              0.2222222222222222,
              "#7201a8"
             ],
             [
              0.3333333333333333,
              "#9c179e"
             ],
             [
              0.4444444444444444,
              "#bd3786"
             ],
             [
              0.5555555555555556,
              "#d8576b"
             ],
             [
              0.6666666666666666,
              "#ed7953"
             ],
             [
              0.7777777777777778,
              "#fb9f3a"
             ],
             [
              0.8888888888888888,
              "#fdca26"
             ],
             [
              1,
              "#f0f921"
             ]
            ],
            "type": "histogram2dcontour"
           }
          ],
          "mesh3d": [
           {
            "colorbar": {
             "outlinewidth": 0,
             "ticks": ""
            },
            "type": "mesh3d"
           }
          ],
          "parcoords": [
           {
            "line": {
             "colorbar": {
              "outlinewidth": 0,
              "ticks": ""
             }
            },
            "type": "parcoords"
           }
          ],
          "pie": [
           {
            "automargin": true,
            "type": "pie"
           }
          ],
          "scatter": [
           {
            "fillpattern": {
             "fillmode": "overlay",
             "size": 10,
             "solidity": 0.2
            },
            "type": "scatter"
           }
          ],
          "scatter3d": [
           {
            "line": {
             "colorbar": {
              "outlinewidth": 0,
              "ticks": ""
             }
            },
            "marker": {
             "colorbar": {
              "outlinewidth": 0,
              "ticks": ""
             }
            },
            "type": "scatter3d"
           }
          ],
          "scattercarpet": [
           {
            "marker": {
             "colorbar": {
              "outlinewidth": 0,
              "ticks": ""
             }
            },
            "type": "scattercarpet"
           }
          ],
          "scattergeo": [
           {
            "marker": {
             "colorbar": {
              "outlinewidth": 0,
              "ticks": ""
             }
            },
            "type": "scattergeo"
           }
          ],
          "scattergl": [
           {
            "marker": {
             "colorbar": {
              "outlinewidth": 0,
              "ticks": ""
             }
            },
            "type": "scattergl"
           }
          ],
          "scattermapbox": [
           {
            "marker": {
             "colorbar": {
              "outlinewidth": 0,
              "ticks": ""
             }
            },
            "type": "scattermapbox"
           }
          ],
          "scatterpolar": [
           {
            "marker": {
             "colorbar": {
              "outlinewidth": 0,
              "ticks": ""
             }
            },
            "type": "scatterpolar"
           }
          ],
          "scatterpolargl": [
           {
            "marker": {
             "colorbar": {
              "outlinewidth": 0,
              "ticks": ""
             }
            },
            "type": "scatterpolargl"
           }
          ],
          "scatterternary": [
           {
            "marker": {
             "colorbar": {
              "outlinewidth": 0,
              "ticks": ""
             }
            },
            "type": "scatterternary"
           }
          ],
          "surface": [
           {
            "colorbar": {
             "outlinewidth": 0,
             "ticks": ""
            },
            "colorscale": [
             [
              0,
              "#0d0887"
             ],
             [
              0.1111111111111111,
              "#46039f"
             ],
             [
              0.2222222222222222,
              "#7201a8"
             ],
             [
              0.3333333333333333,
              "#9c179e"
             ],
             [
              0.4444444444444444,
              "#bd3786"
             ],
             [
              0.5555555555555556,
              "#d8576b"
             ],
             [
              0.6666666666666666,
              "#ed7953"
             ],
             [
              0.7777777777777778,
              "#fb9f3a"
             ],
             [
              0.8888888888888888,
              "#fdca26"
             ],
             [
              1,
              "#f0f921"
             ]
            ],
            "type": "surface"
           }
          ],
          "table": [
           {
            "cells": {
             "fill": {
              "color": "#EBF0F8"
             },
             "line": {
              "color": "white"
             }
            },
            "header": {
             "fill": {
              "color": "#C8D4E3"
             },
             "line": {
              "color": "white"
             }
            },
            "type": "table"
           }
          ]
         },
         "layout": {
          "annotationdefaults": {
           "arrowcolor": "#2a3f5f",
           "arrowhead": 0,
           "arrowwidth": 1
          },
          "autotypenumbers": "strict",
          "coloraxis": {
           "colorbar": {
            "outlinewidth": 0,
            "ticks": ""
           }
          },
          "colorscale": {
           "diverging": [
            [
             0,
             "#8e0152"
            ],
            [
             0.1,
             "#c51b7d"
            ],
            [
             0.2,
             "#de77ae"
            ],
            [
             0.3,
             "#f1b6da"
            ],
            [
             0.4,
             "#fde0ef"
            ],
            [
             0.5,
             "#f7f7f7"
            ],
            [
             0.6,
             "#e6f5d0"
            ],
            [
             0.7,
             "#b8e186"
            ],
            [
             0.8,
             "#7fbc41"
            ],
            [
             0.9,
             "#4d9221"
            ],
            [
             1,
             "#276419"
            ]
           ],
           "sequential": [
            [
             0,
             "#0d0887"
            ],
            [
             0.1111111111111111,
             "#46039f"
            ],
            [
             0.2222222222222222,
             "#7201a8"
            ],
            [
             0.3333333333333333,
             "#9c179e"
            ],
            [
             0.4444444444444444,
             "#bd3786"
            ],
            [
             0.5555555555555556,
             "#d8576b"
            ],
            [
             0.6666666666666666,
             "#ed7953"
            ],
            [
             0.7777777777777778,
             "#fb9f3a"
            ],
            [
             0.8888888888888888,
             "#fdca26"
            ],
            [
             1,
             "#f0f921"
            ]
           ],
           "sequentialminus": [
            [
             0,
             "#0d0887"
            ],
            [
             0.1111111111111111,
             "#46039f"
            ],
            [
             0.2222222222222222,
             "#7201a8"
            ],
            [
             0.3333333333333333,
             "#9c179e"
            ],
            [
             0.4444444444444444,
             "#bd3786"
            ],
            [
             0.5555555555555556,
             "#d8576b"
            ],
            [
             0.6666666666666666,
             "#ed7953"
            ],
            [
             0.7777777777777778,
             "#fb9f3a"
            ],
            [
             0.8888888888888888,
             "#fdca26"
            ],
            [
             1,
             "#f0f921"
            ]
           ]
          },
          "colorway": [
           "#636efa",
           "#EF553B",
           "#00cc96",
           "#ab63fa",
           "#FFA15A",
           "#19d3f3",
           "#FF6692",
           "#B6E880",
           "#FF97FF",
           "#FECB52"
          ],
          "font": {
           "color": "#2a3f5f"
          },
          "geo": {
           "bgcolor": "white",
           "lakecolor": "white",
           "landcolor": "#E5ECF6",
           "showlakes": true,
           "showland": true,
           "subunitcolor": "white"
          },
          "hoverlabel": {
           "align": "left"
          },
          "hovermode": "closest",
          "mapbox": {
           "style": "light"
          },
          "paper_bgcolor": "white",
          "plot_bgcolor": "#E5ECF6",
          "polar": {
           "angularaxis": {
            "gridcolor": "white",
            "linecolor": "white",
            "ticks": ""
           },
           "bgcolor": "#E5ECF6",
           "radialaxis": {
            "gridcolor": "white",
            "linecolor": "white",
            "ticks": ""
           }
          },
          "scene": {
           "xaxis": {
            "backgroundcolor": "#E5ECF6",
            "gridcolor": "white",
            "gridwidth": 2,
            "linecolor": "white",
            "showbackground": true,
            "ticks": "",
            "zerolinecolor": "white"
           },
           "yaxis": {
            "backgroundcolor": "#E5ECF6",
            "gridcolor": "white",
            "gridwidth": 2,
            "linecolor": "white",
            "showbackground": true,
            "ticks": "",
            "zerolinecolor": "white"
           },
           "zaxis": {
            "backgroundcolor": "#E5ECF6",
            "gridcolor": "white",
            "gridwidth": 2,
            "linecolor": "white",
            "showbackground": true,
            "ticks": "",
            "zerolinecolor": "white"
           }
          },
          "shapedefaults": {
           "line": {
            "color": "#2a3f5f"
           }
          },
          "ternary": {
           "aaxis": {
            "gridcolor": "white",
            "linecolor": "white",
            "ticks": ""
           },
           "baxis": {
            "gridcolor": "white",
            "linecolor": "white",
            "ticks": ""
           },
           "bgcolor": "#E5ECF6",
           "caxis": {
            "gridcolor": "white",
            "linecolor": "white",
            "ticks": ""
           }
          },
          "title": {
           "x": 0.05
          },
          "xaxis": {
           "automargin": true,
           "gridcolor": "white",
           "linecolor": "white",
           "ticks": "",
           "title": {
            "standoff": 15
           },
           "zerolinecolor": "white",
           "zerolinewidth": 2
          },
          "yaxis": {
           "automargin": true,
           "gridcolor": "white",
           "linecolor": "white",
           "ticks": "",
           "title": {
            "standoff": 15
           },
           "zerolinecolor": "white",
           "zerolinewidth": 2
          }
         }
        },
        "xaxis": {
         "anchor": "y",
         "domain": [
          0,
          0.31999999999999995
         ]
        },
        "xaxis2": {
         "anchor": "y2",
         "domain": [
          0.33999999999999997,
          0.6599999999999999
         ],
         "matches": "x"
        },
        "xaxis3": {
         "anchor": "y3",
         "domain": [
          0.6799999999999999,
          0.9999999999999999
         ],
         "matches": "x"
        },
        "yaxis": {
         "anchor": "x",
         "domain": [
          0,
          1
         ],
         "title": {
          "text": "Age"
         }
        },
        "yaxis2": {
         "anchor": "x2",
         "domain": [
          0,
          1
         ],
         "matches": "y",
         "showticklabels": false
        },
        "yaxis3": {
         "anchor": "x3",
         "domain": [
          0,
          1
         ],
         "matches": "y",
         "showticklabels": false
        }
       }
      }
     },
     "metadata": {},
     "output_type": "display_data"
    }
   ],
   "source": [
    "fig = px.box(df, y=\"Age\", facet_col=\"COURSE FUNDING\", color=\"COURSE FUNDING\",\n",
    "             boxmode=\"overlay\", points='all')\n",
    "\n",
    "fig.update_traces( jitter=0.5, col=1)\n",
    "fig.update_traces( jitter=0.5, col=2)\n",
    "fig.update_traces( jitter=0.5, col=3)\n",
    "fig.update_traces( jitter=0.5, col=3)\n",
    "\n",
    "fig.show()"
   ]
  },
  {
   "cell_type": "code",
   "execution_count": 202,
   "metadata": {},
   "outputs": [
    {
     "data": {
      "application/vnd.plotly.v1+json": {
       "config": {
        "plotlyServerURL": "https://plot.ly"
       },
       "data": [
        {
         "alignmentgroup": "True",
         "bingroup": "x",
         "hovertemplate": "COURSE FUNDING=Subsidiesed<br>COMPLETION DATE=%{x}<br>count=%{y}<extra></extra>",
         "legendgroup": "Subsidiesed",
         "marker": {
          "color": "#636efa",
          "pattern": {
           "shape": ""
          }
         },
         "name": "Subsidiesed",
         "offsetgroup": "Subsidiesed",
         "orientation": "v",
         "showlegend": true,
         "texttemplate": "%{value}",
         "type": "histogram",
         "x": [
          "2021-04-06",
          "2021-06-09",
          "2021-06-09",
          "2021-10-05",
          "2021-10-05",
          "2021-11-30",
          "2022-02-02",
          "2022-02-02",
          "2020-04-07",
          "2020-06-06",
          "2020-10-08",
          "2020-10-08",
          "2020-10-08",
          "2020-10-08",
          "2020-10-08",
          "2020-12-09",
          "2020-12-09",
          "2021-02-04",
          "2021-03-05",
          "2021-06-23",
          "2021-08-13",
          "2021-08-13",
          "2021-08-13",
          "2020-01-23",
          "2020-05-04",
          "2020-09-21",
          "2020-09-21",
          "2020-09-21",
          "2020-09-21",
          "2020-09-21",
          "2020-09-21",
          "2020-11-20",
          "2020-11-23",
          "2020-11-23",
          "2020-11-23",
          "2020-11-23",
          "2020-11-23",
          "2020-11-23",
          "2020-11-23",
          "2020-11-23",
          "2020-11-23",
          "2020-11-23",
          "2020-11-23",
          "2020-11-23",
          "2019-04-15",
          "2019-04-15",
          "2019-04-15",
          "2019-05-07",
          "2019-05-07",
          "2019-05-07",
          "2019-05-07",
          "2019-05-07",
          "2019-05-07",
          "2019-09-20",
          "2019-09-20",
          "2019-09-20",
          "2019-09-20",
          "2019-11-22",
          "2019-11-22",
          "2019-11-22",
          "2020-01-17",
          "2020-01-17"
         ],
         "xaxis": "x",
         "yaxis": "y"
        },
        {
         "alignmentgroup": "True",
         "boxpoints": "all",
         "fillcolor": "rgba(255,255,255,0)",
         "hoveron": "points",
         "hovertemplate": "COURSE FUNDING=Subsidiesed<br>COMPLETION DATE=%{x}<extra></extra>",
         "jitter": 0,
         "legendgroup": "Subsidiesed",
         "line": {
          "color": "rgba(255,255,255,0)"
         },
         "marker": {
          "color": "#636efa",
          "symbol": "line-ns-open"
         },
         "name": "Subsidiesed",
         "offsetgroup": "Subsidiesed",
         "showlegend": false,
         "type": "box",
         "x": [
          "2021-04-06",
          "2021-06-09",
          "2021-06-09",
          "2021-10-05",
          "2021-10-05",
          "2021-11-30",
          "2022-02-02",
          "2022-02-02",
          "2020-04-07",
          "2020-06-06",
          "2020-10-08",
          "2020-10-08",
          "2020-10-08",
          "2020-10-08",
          "2020-10-08",
          "2020-12-09",
          "2020-12-09",
          "2021-02-04",
          "2021-03-05",
          "2021-06-23",
          "2021-08-13",
          "2021-08-13",
          "2021-08-13",
          "2020-01-23",
          "2020-05-04",
          "2020-09-21",
          "2020-09-21",
          "2020-09-21",
          "2020-09-21",
          "2020-09-21",
          "2020-09-21",
          "2020-11-20",
          "2020-11-23",
          "2020-11-23",
          "2020-11-23",
          "2020-11-23",
          "2020-11-23",
          "2020-11-23",
          "2020-11-23",
          "2020-11-23",
          "2020-11-23",
          "2020-11-23",
          "2020-11-23",
          "2020-11-23",
          "2019-04-15",
          "2019-04-15",
          "2019-04-15",
          "2019-05-07",
          "2019-05-07",
          "2019-05-07",
          "2019-05-07",
          "2019-05-07",
          "2019-05-07",
          "2019-09-20",
          "2019-09-20",
          "2019-09-20",
          "2019-09-20",
          "2019-11-22",
          "2019-11-22",
          "2019-11-22",
          "2020-01-17",
          "2020-01-17"
         ],
         "xaxis": "x2",
         "yaxis": "y2"
        },
        {
         "alignmentgroup": "True",
         "bingroup": "x",
         "hovertemplate": "COURSE FUNDING=Individual<br>COMPLETION DATE=%{x}<br>count=%{y}<extra></extra>",
         "legendgroup": "Individual",
         "marker": {
          "color": "#EF553B",
          "pattern": {
           "shape": ""
          }
         },
         "name": "Individual",
         "offsetgroup": "Individual",
         "orientation": "v",
         "showlegend": true,
         "texttemplate": "%{value}",
         "type": "histogram",
         "x": [
          "2021-04-06",
          "2021-06-09",
          "2021-10-05",
          "2021-11-30",
          "2020-04-07",
          "2020-04-07",
          "2020-04-07",
          "2020-06-06",
          "2020-06-06",
          "2020-08-06",
          "2020-10-08",
          "2020-10-08",
          "2020-10-08",
          "2020-12-09",
          "2021-02-04",
          "2021-02-04",
          "2021-02-04",
          "2021-03-05",
          "2021-06-23",
          "2021-06-23",
          "2021-06-23",
          "2021-06-23",
          "2019-12-03",
          "2019-12-03",
          "2020-01-23",
          "2020-01-23",
          "2020-01-23",
          "2020-01-23",
          "2020-05-04",
          "2020-05-04",
          "2019-11-25",
          "2019-11-25",
          "2019-11-25",
          "2019-11-25",
          "2019-11-25",
          "2019-11-25",
          "2020-09-21",
          "2020-09-21",
          "2020-09-21",
          "2020-11-20",
          "2020-11-20",
          "2020-11-20",
          "2020-11-20",
          "2020-11-20",
          "2020-11-20",
          "2020-11-23",
          "2020-11-23",
          "2020-11-23",
          "2020-11-23",
          "2019-04-15",
          "2019-04-15",
          "2019-04-15",
          "2019-04-15",
          "2019-04-15",
          "2019-05-07",
          "2019-05-07",
          "2019-05-07",
          "2019-05-07",
          "2019-05-07",
          "2019-09-20",
          "2019-09-20",
          "2019-09-20",
          "2019-09-20",
          "2019-09-20",
          "2019-09-20",
          "2019-09-20",
          "2019-09-20",
          "2019-09-20",
          "2019-11-22",
          "2019-11-22",
          "2019-11-22",
          "2020-01-17",
          "2020-01-17",
          "2020-01-17",
          "2021-04-29",
          "2021-04-29",
          "2021-04-29",
          "2021-04-29",
          "2021-04-29",
          "2021-04-29",
          "2021-02-20",
          "2021-02-20",
          "2021-02-20",
          "2021-02-20",
          "2020-09-19",
          "2020-09-19",
          "2020-09-19",
          "2020-07-09",
          "2020-07-09",
          "2020-03-19",
          "2020-03-19",
          "2020-03-19",
          "2020-03-19",
          "2020-03-19",
          "2020-03-19",
          "2020-01-04",
          "2020-01-04",
          "2020-01-04",
          "2020-01-04",
          "2020-01-04",
          "2020-01-04",
          "2019-09-07",
          "2019-09-07",
          "2019-09-07",
          "2019-07-03",
          "2019-07-03",
          "2019-07-03",
          "2021-04-29",
          "2021-04-29",
          "2021-04-29",
          "2021-04-29",
          "2021-02-20",
          "2021-02-20",
          "2021-02-20",
          "2021-02-20",
          "2021-02-20",
          "2020-09-19",
          "2020-09-19",
          "2020-09-19",
          "2020-07-09",
          "2020-07-09",
          "2020-07-09",
          "2020-07-09",
          "2020-07-09",
          "2020-07-09",
          "2020-03-19",
          "2020-03-19",
          "2020-01-04",
          "2020-01-04",
          "2020-01-04",
          "2019-09-07",
          "2019-07-03",
          "2019-07-03"
         ],
         "xaxis": "x",
         "yaxis": "y"
        },
        {
         "alignmentgroup": "True",
         "boxpoints": "all",
         "fillcolor": "rgba(255,255,255,0)",
         "hoveron": "points",
         "hovertemplate": "COURSE FUNDING=Individual<br>COMPLETION DATE=%{x}<extra></extra>",
         "jitter": 0,
         "legendgroup": "Individual",
         "line": {
          "color": "rgba(255,255,255,0)"
         },
         "marker": {
          "color": "#EF553B",
          "symbol": "line-ns-open"
         },
         "name": "Individual",
         "offsetgroup": "Individual",
         "showlegend": false,
         "type": "box",
         "x": [
          "2021-04-06",
          "2021-06-09",
          "2021-10-05",
          "2021-11-30",
          "2020-04-07",
          "2020-04-07",
          "2020-04-07",
          "2020-06-06",
          "2020-06-06",
          "2020-08-06",
          "2020-10-08",
          "2020-10-08",
          "2020-10-08",
          "2020-12-09",
          "2021-02-04",
          "2021-02-04",
          "2021-02-04",
          "2021-03-05",
          "2021-06-23",
          "2021-06-23",
          "2021-06-23",
          "2021-06-23",
          "2019-12-03",
          "2019-12-03",
          "2020-01-23",
          "2020-01-23",
          "2020-01-23",
          "2020-01-23",
          "2020-05-04",
          "2020-05-04",
          "2019-11-25",
          "2019-11-25",
          "2019-11-25",
          "2019-11-25",
          "2019-11-25",
          "2019-11-25",
          "2020-09-21",
          "2020-09-21",
          "2020-09-21",
          "2020-11-20",
          "2020-11-20",
          "2020-11-20",
          "2020-11-20",
          "2020-11-20",
          "2020-11-20",
          "2020-11-23",
          "2020-11-23",
          "2020-11-23",
          "2020-11-23",
          "2019-04-15",
          "2019-04-15",
          "2019-04-15",
          "2019-04-15",
          "2019-04-15",
          "2019-05-07",
          "2019-05-07",
          "2019-05-07",
          "2019-05-07",
          "2019-05-07",
          "2019-09-20",
          "2019-09-20",
          "2019-09-20",
          "2019-09-20",
          "2019-09-20",
          "2019-09-20",
          "2019-09-20",
          "2019-09-20",
          "2019-09-20",
          "2019-11-22",
          "2019-11-22",
          "2019-11-22",
          "2020-01-17",
          "2020-01-17",
          "2020-01-17",
          "2021-04-29",
          "2021-04-29",
          "2021-04-29",
          "2021-04-29",
          "2021-04-29",
          "2021-04-29",
          "2021-02-20",
          "2021-02-20",
          "2021-02-20",
          "2021-02-20",
          "2020-09-19",
          "2020-09-19",
          "2020-09-19",
          "2020-07-09",
          "2020-07-09",
          "2020-03-19",
          "2020-03-19",
          "2020-03-19",
          "2020-03-19",
          "2020-03-19",
          "2020-03-19",
          "2020-01-04",
          "2020-01-04",
          "2020-01-04",
          "2020-01-04",
          "2020-01-04",
          "2020-01-04",
          "2019-09-07",
          "2019-09-07",
          "2019-09-07",
          "2019-07-03",
          "2019-07-03",
          "2019-07-03",
          "2021-04-29",
          "2021-04-29",
          "2021-04-29",
          "2021-04-29",
          "2021-02-20",
          "2021-02-20",
          "2021-02-20",
          "2021-02-20",
          "2021-02-20",
          "2020-09-19",
          "2020-09-19",
          "2020-09-19",
          "2020-07-09",
          "2020-07-09",
          "2020-07-09",
          "2020-07-09",
          "2020-07-09",
          "2020-07-09",
          "2020-03-19",
          "2020-03-19",
          "2020-01-04",
          "2020-01-04",
          "2020-01-04",
          "2019-09-07",
          "2019-07-03",
          "2019-07-03"
         ],
         "xaxis": "x2",
         "yaxis": "y2"
        },
        {
         "alignmentgroup": "True",
         "bingroup": "x",
         "hovertemplate": "COURSE FUNDING=Sponsored<br>COMPLETION DATE=%{x}<br>count=%{y}<extra></extra>",
         "legendgroup": "Sponsored",
         "marker": {
          "color": "#00cc96",
          "pattern": {
           "shape": ""
          }
         },
         "name": "Sponsored",
         "offsetgroup": "Sponsored",
         "orientation": "v",
         "showlegend": true,
         "texttemplate": "%{value}",
         "type": "histogram",
         "x": [
          "2021-04-06",
          "2021-06-09",
          "2021-11-30",
          "2022-02-02",
          "2022-02-02",
          "2022-02-02",
          "2020-04-07",
          "2020-06-06",
          "2020-08-06",
          "2020-10-08",
          "2020-10-08",
          "2020-10-08",
          "2020-10-08",
          "2020-12-09",
          "2020-12-09",
          "2021-06-23",
          "2021-06-23",
          "2020-01-23",
          "2020-01-23",
          "2020-05-04",
          "2020-05-04",
          "2019-11-25",
          "2019-11-25",
          "2020-09-21",
          "2020-09-21",
          "2020-11-20",
          "2020-11-20",
          "2020-11-20",
          "2020-11-20",
          "2020-11-23",
          "2020-11-23",
          "2020-11-23",
          "2020-11-23",
          "2020-11-23",
          "2019-04-15",
          "2019-05-07",
          "2019-05-07",
          "2019-09-20",
          "2019-09-20",
          "2019-09-20",
          "2019-09-20",
          "2019-09-20",
          "2019-09-20",
          "2019-09-20",
          "2019-09-20",
          "2019-11-22",
          "2019-11-22",
          "2019-11-22",
          "2020-01-17"
         ],
         "xaxis": "x",
         "yaxis": "y"
        },
        {
         "alignmentgroup": "True",
         "boxpoints": "all",
         "fillcolor": "rgba(255,255,255,0)",
         "hoveron": "points",
         "hovertemplate": "COURSE FUNDING=Sponsored<br>COMPLETION DATE=%{x}<extra></extra>",
         "jitter": 0,
         "legendgroup": "Sponsored",
         "line": {
          "color": "rgba(255,255,255,0)"
         },
         "marker": {
          "color": "#00cc96",
          "symbol": "line-ns-open"
         },
         "name": "Sponsored",
         "offsetgroup": "Sponsored",
         "showlegend": false,
         "type": "box",
         "x": [
          "2021-04-06",
          "2021-06-09",
          "2021-11-30",
          "2022-02-02",
          "2022-02-02",
          "2022-02-02",
          "2020-04-07",
          "2020-06-06",
          "2020-08-06",
          "2020-10-08",
          "2020-10-08",
          "2020-10-08",
          "2020-10-08",
          "2020-12-09",
          "2020-12-09",
          "2021-06-23",
          "2021-06-23",
          "2020-01-23",
          "2020-01-23",
          "2020-05-04",
          "2020-05-04",
          "2019-11-25",
          "2019-11-25",
          "2020-09-21",
          "2020-09-21",
          "2020-11-20",
          "2020-11-20",
          "2020-11-20",
          "2020-11-20",
          "2020-11-23",
          "2020-11-23",
          "2020-11-23",
          "2020-11-23",
          "2020-11-23",
          "2019-04-15",
          "2019-05-07",
          "2019-05-07",
          "2019-09-20",
          "2019-09-20",
          "2019-09-20",
          "2019-09-20",
          "2019-09-20",
          "2019-09-20",
          "2019-09-20",
          "2019-09-20",
          "2019-11-22",
          "2019-11-22",
          "2019-11-22",
          "2020-01-17"
         ],
         "xaxis": "x2",
         "yaxis": "y2"
        }
       ],
       "layout": {
        "barmode": "relative",
        "legend": {
         "title": {
          "text": "COURSE FUNDING"
         },
         "tracegroupgap": 0
        },
        "margin": {
         "t": 60
        },
        "template": {
         "data": {
          "bar": [
           {
            "error_x": {
             "color": "#2a3f5f"
            },
            "error_y": {
             "color": "#2a3f5f"
            },
            "marker": {
             "line": {
              "color": "#E5ECF6",
              "width": 0.5
             },
             "pattern": {
              "fillmode": "overlay",
              "size": 10,
              "solidity": 0.2
             }
            },
            "type": "bar"
           }
          ],
          "barpolar": [
           {
            "marker": {
             "line": {
              "color": "#E5ECF6",
              "width": 0.5
             },
             "pattern": {
              "fillmode": "overlay",
              "size": 10,
              "solidity": 0.2
             }
            },
            "type": "barpolar"
           }
          ],
          "carpet": [
           {
            "aaxis": {
             "endlinecolor": "#2a3f5f",
             "gridcolor": "white",
             "linecolor": "white",
             "minorgridcolor": "white",
             "startlinecolor": "#2a3f5f"
            },
            "baxis": {
             "endlinecolor": "#2a3f5f",
             "gridcolor": "white",
             "linecolor": "white",
             "minorgridcolor": "white",
             "startlinecolor": "#2a3f5f"
            },
            "type": "carpet"
           }
          ],
          "choropleth": [
           {
            "colorbar": {
             "outlinewidth": 0,
             "ticks": ""
            },
            "type": "choropleth"
           }
          ],
          "contour": [
           {
            "colorbar": {
             "outlinewidth": 0,
             "ticks": ""
            },
            "colorscale": [
             [
              0,
              "#0d0887"
             ],
             [
              0.1111111111111111,
              "#46039f"
             ],
             [
              0.2222222222222222,
              "#7201a8"
             ],
             [
              0.3333333333333333,
              "#9c179e"
             ],
             [
              0.4444444444444444,
              "#bd3786"
             ],
             [
              0.5555555555555556,
              "#d8576b"
             ],
             [
              0.6666666666666666,
              "#ed7953"
             ],
             [
              0.7777777777777778,
              "#fb9f3a"
             ],
             [
              0.8888888888888888,
              "#fdca26"
             ],
             [
              1,
              "#f0f921"
             ]
            ],
            "type": "contour"
           }
          ],
          "contourcarpet": [
           {
            "colorbar": {
             "outlinewidth": 0,
             "ticks": ""
            },
            "type": "contourcarpet"
           }
          ],
          "heatmap": [
           {
            "colorbar": {
             "outlinewidth": 0,
             "ticks": ""
            },
            "colorscale": [
             [
              0,
              "#0d0887"
             ],
             [
              0.1111111111111111,
              "#46039f"
             ],
             [
              0.2222222222222222,
              "#7201a8"
             ],
             [
              0.3333333333333333,
              "#9c179e"
             ],
             [
              0.4444444444444444,
              "#bd3786"
             ],
             [
              0.5555555555555556,
              "#d8576b"
             ],
             [
              0.6666666666666666,
              "#ed7953"
             ],
             [
              0.7777777777777778,
              "#fb9f3a"
             ],
             [
              0.8888888888888888,
              "#fdca26"
             ],
             [
              1,
              "#f0f921"
             ]
            ],
            "type": "heatmap"
           }
          ],
          "heatmapgl": [
           {
            "colorbar": {
             "outlinewidth": 0,
             "ticks": ""
            },
            "colorscale": [
             [
              0,
              "#0d0887"
             ],
             [
              0.1111111111111111,
              "#46039f"
             ],
             [
              0.2222222222222222,
              "#7201a8"
             ],
             [
              0.3333333333333333,
              "#9c179e"
             ],
             [
              0.4444444444444444,
              "#bd3786"
             ],
             [
              0.5555555555555556,
              "#d8576b"
             ],
             [
              0.6666666666666666,
              "#ed7953"
             ],
             [
              0.7777777777777778,
              "#fb9f3a"
             ],
             [
              0.8888888888888888,
              "#fdca26"
             ],
             [
              1,
              "#f0f921"
             ]
            ],
            "type": "heatmapgl"
           }
          ],
          "histogram": [
           {
            "marker": {
             "pattern": {
              "fillmode": "overlay",
              "size": 10,
              "solidity": 0.2
             }
            },
            "type": "histogram"
           }
          ],
          "histogram2d": [
           {
            "colorbar": {
             "outlinewidth": 0,
             "ticks": ""
            },
            "colorscale": [
             [
              0,
              "#0d0887"
             ],
             [
              0.1111111111111111,
              "#46039f"
             ],
             [
              0.2222222222222222,
              "#7201a8"
             ],
             [
              0.3333333333333333,
              "#9c179e"
             ],
             [
              0.4444444444444444,
              "#bd3786"
             ],
             [
              0.5555555555555556,
              "#d8576b"
             ],
             [
              0.6666666666666666,
              "#ed7953"
             ],
             [
              0.7777777777777778,
              "#fb9f3a"
             ],
             [
              0.8888888888888888,
              "#fdca26"
             ],
             [
              1,
              "#f0f921"
             ]
            ],
            "type": "histogram2d"
           }
          ],
          "histogram2dcontour": [
           {
            "colorbar": {
             "outlinewidth": 0,
             "ticks": ""
            },
            "colorscale": [
             [
              0,
              "#0d0887"
             ],
             [
              0.1111111111111111,
              "#46039f"
             ],
             [
              0.2222222222222222,
              "#7201a8"
             ],
             [
              0.3333333333333333,
              "#9c179e"
             ],
             [
              0.4444444444444444,
              "#bd3786"
             ],
             [
              0.5555555555555556,
              "#d8576b"
             ],
             [
              0.6666666666666666,
              "#ed7953"
             ],
             [
              0.7777777777777778,
              "#fb9f3a"
             ],
             [
              0.8888888888888888,
              "#fdca26"
             ],
             [
              1,
              "#f0f921"
             ]
            ],
            "type": "histogram2dcontour"
           }
          ],
          "mesh3d": [
           {
            "colorbar": {
             "outlinewidth": 0,
             "ticks": ""
            },
            "type": "mesh3d"
           }
          ],
          "parcoords": [
           {
            "line": {
             "colorbar": {
              "outlinewidth": 0,
              "ticks": ""
             }
            },
            "type": "parcoords"
           }
          ],
          "pie": [
           {
            "automargin": true,
            "type": "pie"
           }
          ],
          "scatter": [
           {
            "fillpattern": {
             "fillmode": "overlay",
             "size": 10,
             "solidity": 0.2
            },
            "type": "scatter"
           }
          ],
          "scatter3d": [
           {
            "line": {
             "colorbar": {
              "outlinewidth": 0,
              "ticks": ""
             }
            },
            "marker": {
             "colorbar": {
              "outlinewidth": 0,
              "ticks": ""
             }
            },
            "type": "scatter3d"
           }
          ],
          "scattercarpet": [
           {
            "marker": {
             "colorbar": {
              "outlinewidth": 0,
              "ticks": ""
             }
            },
            "type": "scattercarpet"
           }
          ],
          "scattergeo": [
           {
            "marker": {
             "colorbar": {
              "outlinewidth": 0,
              "ticks": ""
             }
            },
            "type": "scattergeo"
           }
          ],
          "scattergl": [
           {
            "marker": {
             "colorbar": {
              "outlinewidth": 0,
              "ticks": ""
             }
            },
            "type": "scattergl"
           }
          ],
          "scattermapbox": [
           {
            "marker": {
             "colorbar": {
              "outlinewidth": 0,
              "ticks": ""
             }
            },
            "type": "scattermapbox"
           }
          ],
          "scatterpolar": [
           {
            "marker": {
             "colorbar": {
              "outlinewidth": 0,
              "ticks": ""
             }
            },
            "type": "scatterpolar"
           }
          ],
          "scatterpolargl": [
           {
            "marker": {
             "colorbar": {
              "outlinewidth": 0,
              "ticks": ""
             }
            },
            "type": "scatterpolargl"
           }
          ],
          "scatterternary": [
           {
            "marker": {
             "colorbar": {
              "outlinewidth": 0,
              "ticks": ""
             }
            },
            "type": "scatterternary"
           }
          ],
          "surface": [
           {
            "colorbar": {
             "outlinewidth": 0,
             "ticks": ""
            },
            "colorscale": [
             [
              0,
              "#0d0887"
             ],
             [
              0.1111111111111111,
              "#46039f"
             ],
             [
              0.2222222222222222,
              "#7201a8"
             ],
             [
              0.3333333333333333,
              "#9c179e"
             ],
             [
              0.4444444444444444,
              "#bd3786"
             ],
             [
              0.5555555555555556,
              "#d8576b"
             ],
             [
              0.6666666666666666,
              "#ed7953"
             ],
             [
              0.7777777777777778,
              "#fb9f3a"
             ],
             [
              0.8888888888888888,
              "#fdca26"
             ],
             [
              1,
              "#f0f921"
             ]
            ],
            "type": "surface"
           }
          ],
          "table": [
           {
            "cells": {
             "fill": {
              "color": "#EBF0F8"
             },
             "line": {
              "color": "white"
             }
            },
            "header": {
             "fill": {
              "color": "#C8D4E3"
             },
             "line": {
              "color": "white"
             }
            },
            "type": "table"
           }
          ]
         },
         "layout": {
          "annotationdefaults": {
           "arrowcolor": "#2a3f5f",
           "arrowhead": 0,
           "arrowwidth": 1
          },
          "autotypenumbers": "strict",
          "coloraxis": {
           "colorbar": {
            "outlinewidth": 0,
            "ticks": ""
           }
          },
          "colorscale": {
           "diverging": [
            [
             0,
             "#8e0152"
            ],
            [
             0.1,
             "#c51b7d"
            ],
            [
             0.2,
             "#de77ae"
            ],
            [
             0.3,
             "#f1b6da"
            ],
            [
             0.4,
             "#fde0ef"
            ],
            [
             0.5,
             "#f7f7f7"
            ],
            [
             0.6,
             "#e6f5d0"
            ],
            [
             0.7,
             "#b8e186"
            ],
            [
             0.8,
             "#7fbc41"
            ],
            [
             0.9,
             "#4d9221"
            ],
            [
             1,
             "#276419"
            ]
           ],
           "sequential": [
            [
             0,
             "#0d0887"
            ],
            [
             0.1111111111111111,
             "#46039f"
            ],
            [
             0.2222222222222222,
             "#7201a8"
            ],
            [
             0.3333333333333333,
             "#9c179e"
            ],
            [
             0.4444444444444444,
             "#bd3786"
            ],
            [
             0.5555555555555556,
             "#d8576b"
            ],
            [
             0.6666666666666666,
             "#ed7953"
            ],
            [
             0.7777777777777778,
             "#fb9f3a"
            ],
            [
             0.8888888888888888,
             "#fdca26"
            ],
            [
             1,
             "#f0f921"
            ]
           ],
           "sequentialminus": [
            [
             0,
             "#0d0887"
            ],
            [
             0.1111111111111111,
             "#46039f"
            ],
            [
             0.2222222222222222,
             "#7201a8"
            ],
            [
             0.3333333333333333,
             "#9c179e"
            ],
            [
             0.4444444444444444,
             "#bd3786"
            ],
            [
             0.5555555555555556,
             "#d8576b"
            ],
            [
             0.6666666666666666,
             "#ed7953"
            ],
            [
             0.7777777777777778,
             "#fb9f3a"
            ],
            [
             0.8888888888888888,
             "#fdca26"
            ],
            [
             1,
             "#f0f921"
            ]
           ]
          },
          "colorway": [
           "#636efa",
           "#EF553B",
           "#00cc96",
           "#ab63fa",
           "#FFA15A",
           "#19d3f3",
           "#FF6692",
           "#B6E880",
           "#FF97FF",
           "#FECB52"
          ],
          "font": {
           "color": "#2a3f5f"
          },
          "geo": {
           "bgcolor": "white",
           "lakecolor": "white",
           "landcolor": "#E5ECF6",
           "showlakes": true,
           "showland": true,
           "subunitcolor": "white"
          },
          "hoverlabel": {
           "align": "left"
          },
          "hovermode": "closest",
          "mapbox": {
           "style": "light"
          },
          "paper_bgcolor": "white",
          "plot_bgcolor": "#E5ECF6",
          "polar": {
           "angularaxis": {
            "gridcolor": "white",
            "linecolor": "white",
            "ticks": ""
           },
           "bgcolor": "#E5ECF6",
           "radialaxis": {
            "gridcolor": "white",
            "linecolor": "white",
            "ticks": ""
           }
          },
          "scene": {
           "xaxis": {
            "backgroundcolor": "#E5ECF6",
            "gridcolor": "white",
            "gridwidth": 2,
            "linecolor": "white",
            "showbackground": true,
            "ticks": "",
            "zerolinecolor": "white"
           },
           "yaxis": {
            "backgroundcolor": "#E5ECF6",
            "gridcolor": "white",
            "gridwidth": 2,
            "linecolor": "white",
            "showbackground": true,
            "ticks": "",
            "zerolinecolor": "white"
           },
           "zaxis": {
            "backgroundcolor": "#E5ECF6",
            "gridcolor": "white",
            "gridwidth": 2,
            "linecolor": "white",
            "showbackground": true,
            "ticks": "",
            "zerolinecolor": "white"
           }
          },
          "shapedefaults": {
           "line": {
            "color": "#2a3f5f"
           }
          },
          "ternary": {
           "aaxis": {
            "gridcolor": "white",
            "linecolor": "white",
            "ticks": ""
           },
           "baxis": {
            "gridcolor": "white",
            "linecolor": "white",
            "ticks": ""
           },
           "bgcolor": "#E5ECF6",
           "caxis": {
            "gridcolor": "white",
            "linecolor": "white",
            "ticks": ""
           }
          },
          "title": {
           "x": 0.05
          },
          "xaxis": {
           "automargin": true,
           "gridcolor": "white",
           "linecolor": "white",
           "ticks": "",
           "title": {
            "standoff": 15
           },
           "zerolinecolor": "white",
           "zerolinewidth": 2
          },
          "yaxis": {
           "automargin": true,
           "gridcolor": "white",
           "linecolor": "white",
           "ticks": "",
           "title": {
            "standoff": 15
           },
           "zerolinecolor": "white",
           "zerolinewidth": 2
          }
         }
        },
        "xaxis": {
         "anchor": "y",
         "domain": [
          0,
          1
         ],
         "title": {
          "text": "COMPLETION DATE"
         }
        },
        "xaxis2": {
         "anchor": "y2",
         "domain": [
          0,
          1
         ],
         "matches": "x",
         "showgrid": true,
         "showticklabels": false
        },
        "yaxis": {
         "anchor": "x",
         "domain": [
          0,
          0.7326
         ],
         "title": {
          "text": "count"
         }
        },
        "yaxis2": {
         "anchor": "x2",
         "domain": [
          0.7426,
          1
         ],
         "matches": "y2",
         "showgrid": false,
         "showline": false,
         "showticklabels": false,
         "ticks": ""
        }
       }
      }
     },
     "metadata": {},
     "output_type": "display_data"
    }
   ],
   "source": [
    "import plotly.express as px\n",
    "fig = px.histogram(df, x='COMPLETION DATE',color=\"COURSE FUNDING\",marginal=\"rug\",text_auto=True)\n",
    "\n",
    "fig.show()"
   ]
  },
  {
   "cell_type": "code",
   "execution_count": 203,
   "metadata": {},
   "outputs": [
    {
     "data": {
      "text/html": [
       "\n",
       "        <iframe\n",
       "            width=\"100%\"\n",
       "            height=\"650\"\n",
       "            src=\"http://127.0.0.1:8123/\"\n",
       "            frameborder=\"0\"\n",
       "            allowfullscreen\n",
       "            \n",
       "        ></iframe>\n",
       "        "
      ],
      "text/plain": [
       "<IPython.lib.display.IFrame at 0x27f1495a880>"
      ]
     },
     "metadata": {},
     "output_type": "display_data"
    }
   ],
   "source": [
    "import dash\n",
    "import dash_bootstrap_components as dbc\n",
    "from dash import dcc, html\n",
    "from dash.dependencies import Input, Output\n",
    "import plotly.graph_objects as go\n",
    "import pandas as pd\n",
    "import numpy as np\n",
    "app = dash.Dash(__name__, external_stylesheets=[dbc.themes.FLATLY])\n",
    "\n",
    "colors = {\n",
    "    'background': '#f8f9fa',\n",
    "    'text': '#2c3e50',\n",
    "    'primary': '#3498db',\n",
    "    'secondary': '#2ecc71',\n",
    "    'accent': '#e74c3c'\n",
    "}\n",
    "\n",
    "# Assume df is your DataFrame\n",
    "# Make sure to load your data into df before this point\n",
    "\n",
    "def wrap_text_every_second_space(text):\n",
    "    words = text.split(' ')\n",
    "    return ' '.join([f'{words[i]} {words[i+1]}<br>' if i+1 < len(words) else words[i] for i in range(0, len(words), 2)]).strip()\n",
    "\n",
    "def wrap_text_every_second_space_2(text):\n",
    "    words = text.split()\n",
    "    return '<br>'.join(words)\n",
    "\n",
    "def create_heatmap(df, x_axis, y_axis, title_suffix=''):\n",
    "    heatmap_data = pd.crosstab(df[y_axis], df[x_axis])\n",
    "    fig_heatmap = go.Figure(data=go.Heatmap(\n",
    "        z=heatmap_data.values,\n",
    "        x=heatmap_data.columns,\n",
    "        y=heatmap_data.index,\n",
    "        colorscale='Blues',\n",
    "        text=heatmap_data.values,\n",
    "        texttemplate='%{text}',\n",
    "        colorbar=dict(title='Count')\n",
    "    ))\n",
    "\n",
    "    fig_heatmap.update_layout(\n",
    "        title=dict(text=f'{y_axis} vs {x_axis} {title_suffix}', x=0.5, xanchor='center', yanchor='top'),\n",
    "        xaxis_title=x_axis,\n",
    "        yaxis_title=y_axis,\n",
    "        xaxis=dict(\n",
    "            tickmode='array',\n",
    "            tickvals=list(range(len(heatmap_data.columns))),\n",
    "            ticktext=[wrap_text_every_second_space(label) for label in heatmap_data.columns],\n",
    "            tickangle=0\n",
    "        ),\n",
    "        plot_bgcolor='#ffffff',\n",
    "        paper_bgcolor='#ffffff',\n",
    "        font_color='#000000',\n",
    "        title_font_size=12,\n",
    "        legend_title_font_size=14,\n",
    "        legend_font_size=12,\n",
    "        margin=dict(l=40, r=40, t=40, b=40),\n",
    "        height=400\n",
    "    )\n",
    "\n",
    "    return fig_heatmap\n",
    "    \n",
    "def create_age_distribution_pie(df):\n",
    "    age_counts = df['COURSE FUNDING'].value_counts()\n",
    "    blue_colors = px.colors.sequential.Blues[::-2]  # Reverse the color scale\n",
    "    fig = go.Figure(data=[go.Pie(\n",
    "        labels=age_counts.index, \n",
    "        values=age_counts.values, \n",
    "        hole=0.4,\n",
    "        marker=dict(colors=blue_colors)\n",
    "    )])\n",
    "    fig.update_layout(\n",
    "        legend=dict(\n",
    "            orientation=\"h\",\n",
    "            yanchor=\"top\",\n",
    "            y=0.001,\n",
    "            xanchor=\"center\",\n",
    "            x=0.5,\n",
    "            font=dict(size=12)\n",
    "        ),\n",
    "        margin=dict(l=20, r=20, t=0, b=20),\n",
    "        height=400,\n",
    "        autosize=True\n",
    "    )\n",
    "    return fig\n",
    "\n",
    "def create_nationality_histogram(df):\n",
    "    # Calculate the total counts per COURSE and sort them\n",
    "    total_counts = df['COURSE'].value_counts().reset_index()\n",
    "    total_counts.columns = ['COURSE', 'counts']\n",
    "    total_counts = total_counts.sort_values(by='counts', ascending=False)\n",
    "    \n",
    "    # Assign gradient colors\n",
    "    blue_colors = px.colors.sequential.Blues[::-1]\n",
    "    \n",
    "    # Merge sorted counts back with the original dataframe\n",
    "    df = df.merge(total_counts[['COURSE', 'counts']], on='COURSE')\n",
    "    \n",
    "    # Reorder courses in the dataframe according to sorted counts\n",
    "    df['COURSE'] = pd.Categorical(df['COURSE'], categories=total_counts['COURSE'], ordered=True)\n",
    "    \n",
    "    fig = px.histogram(\n",
    "        df, \n",
    "        x=\"COURSE\",\n",
    "        color='COURSE',\n",
    "        category_orders={'COURSE': total_counts['COURSE'].tolist()},\n",
    "        color_discrete_sequence=blue_colors\n",
    "    )\n",
    "    \n",
    "    fig.update_layout(\n",
    "        showlegend=False,\n",
    "        title=\"Gender Distribution by Course\",\n",
    "        xaxis_title=\"Course\",\n",
    "        yaxis_title=\"Count\",\n",
    "        height=400,\n",
    "        margin=dict(l=40, r=40, t=40, b=40),\n",
    "        plot_bgcolor='#ffffff',\n",
    "        paper_bgcolor='#ffffff',\n",
    "        xaxis=dict(\n",
    "            tickmode='array',\n",
    "            tickvals=list(range(len(df['COURSE'].unique()))),\n",
    "            ticktext=[wrap_text_every_second_space_2(label) for label in df['COURSE'].unique()],\n",
    "            tickangle=0\n",
    "        )\n",
    "    )\n",
    "    \n",
    "    return fig\n",
    "\n",
    "\n",
    "\n",
    "age_groups = df['Age Group'].unique()\n",
    "categorical_columns = df.select_dtypes(include=['object', 'category']).columns.tolist()\n",
    "categorical_columns = [col for col in categorical_columns if col not in [\n",
    "    'STUDENT ID', 'NAME OF QUALIFICATION AND INSTITUTION', 'DATE ATTAINED HIGHEST QUALIFICATION',\n",
    "    'DESIGNATION', 'INTAKE NO', 'COMMENCEMENT DATE', 'FULL-TIME OR PART-TIME', 'COURSE FUNDING',\n",
    "    'PAYMENT MODE', 'DOB', 'COMPLETION DATE', 'SALUTATION', 'HIGHEST QUALIFICATION'\n",
    "]]\n",
    "\n",
    "app.layout = dbc.Container([\n",
    "    dbc.Row([\n",
    "        dbc.Col([\n",
    "            html.H1(\"Rejey DAVI Dashboard\", className=\"display-4 text-primary mb-4\")\n",
    "        ], width=12, className='text-center')\n",
    "    ]),\n",
    "\n",
    "    dbc.Row([\n",
    "        dbc.Col([\n",
    "            dbc.Card([\n",
    "                dbc.CardBody([\n",
    "                    html.H4(\"Filters\", className=\"card-title mb-4\", style={'text-align': 'center','text-decoration': 'underline'}),\n",
    "                    html.H6(\"X axis\", className='text-muted mt-4'),\n",
    "                    dcc.Dropdown(\n",
    "                        id='x-axis',\n",
    "                        options=[{'label': cat, 'value': cat} for cat in categorical_columns],\n",
    "                        value='COURSE',\n",
    "                        style={'color': colors['text']},\n",
    "                        className=\"mb-3\"\n",
    "                    ),\n",
    "                    html.H6(\"Y axis\", className='text-muted mt-4'),\n",
    "                    dcc.Dropdown(\n",
    "                        id='y-axis',\n",
    "                        options=[{'label': cat, 'value': cat} for cat in categorical_columns],\n",
    "                        value='Job Category',\n",
    "                        style={'color': colors['text']},\n",
    "                        className=\"mb-3\"\n",
    "                    ),\n",
    "                    html.H6(\"Job Category\", className=\"text-muted\"),\n",
    "                    dcc.Dropdown(\n",
    "                        id='Job-category',\n",
    "                        options=[{'label': 'All Data', 'value': 'ALL'}] + [{'label': category, 'value': category} for category in df['Job Category'].unique()],\n",
    "                        value='ALL',\n",
    "                        multi=True,\n",
    "                        style={'color': colors['text']},\n",
    "                        className=\"mb-3\"\n",
    "                    ),\n",
    "                    html.H6(\"Nationality\", className='text-muted mt-4'),\n",
    "                    dcc.Dropdown(\n",
    "                        id='radio-buttons',\n",
    "                        options=[{'label': 'All Data', 'value': 'ALL'}] + [{'label': nat, 'value': nat} for nat in df['NATIONALITY'].unique()],\n",
    "                        value='ALL',\n",
    "                        style={'color': colors['text']},\n",
    "                        className=\"mb-3\"\n",
    "                    ),\n",
    "                    html.H6(\"Gender\", className='text-muted mt-4'),\n",
    "                    dbc.RadioItems(\n",
    "                        id='Gender',\n",
    "                        options=[\n",
    "                            {'label': 'All', 'value': 'ALL'},\n",
    "                            {'label': 'Male', 'value': 'M'},\n",
    "                            {'label': 'Female', 'value': 'F'}\n",
    "                        ],\n",
    "                        value='ALL',\n",
    "                        inline=True,\n",
    "                        className=\"mb-3\"\n",
    "                    )\n",
    "                ])\n",
    "            ], className=\"shadow-sm\", style={'border-radius': '10px','height':'95.5%'})\n",
    "        ], width=3),\n",
    "\n",
    "        dbc.Col([\n",
    "            dbc.Card([\n",
    "                dbc.CardBody([\n",
    "                    dcc.Tabs(id='heatmap-tabs', value=age_groups[0], children=[\n",
    "                        dcc.Tab(label=group, value=group) for group in age_groups\n",
    "                    ]),\n",
    "                    html.Div(id='heatmap-container')\n",
    "                ])\n",
    "            ], className=\"mb-4\"),\n",
    "        ], width=9)\n",
    "    ]),\n",
    "\n",
    "    dbc.Row([\n",
    "        dbc.Col([\n",
    "            dbc.Card([\n",
    "                dbc.CardBody([\n",
    "                    html.H4(\"Summary\", className=\"card-title mb-4\", style={'text-align': 'center', 'text-decoration': 'underline','font-weight':'bold'}),\n",
    "                    dbc.Row(\n",
    "                        [\n",
    "                            dbc.Col(html.H5(\"Total Students\", className=\"card-title mb-2\", style={'text-align': 'left','font-weight':'bold'}), width=\"auto\"),\n",
    "                            dbc.Col(html.H6(\n",
    "                                html.H4(id='Total_Students', style={'text-align': 'right'})\n",
    "                            ), width=\"auto\", style={'text-align': 'right'})\n",
    "                        ],\n",
    "                        className=\"d-flex justify-content-between\"\n",
    "                    ),\n",
    "                    html.Hr(),\n",
    "                    dbc.Row(\n",
    "                        [\n",
    "                            dbc.Col(html.H5(\"Overall GPA\", className=\"card-title mt-2 mb-2\", style={'text-align': 'left','font-weight':'bold'}), width=\"auto\"),\n",
    "                            dbc.Col(html.H6(\n",
    "                                html.H4(id='Overall_Gpa',className='mt-2', style={'text-align': 'right'})\n",
    "                            ), width=\"auto\", style={'text-align': 'right'})\n",
    "                        ],\n",
    "                        className=\"d-flex justify-content-between\"\n",
    "                    ),\n",
    "                    html.Hr(),\n",
    "                    dbc.Row(\n",
    "                        [\n",
    "                            dbc.Col(html.H5(\"Course\", className=\"card-title mt-2 mb-4\", style={'text-align': 'left','font-weight':'bold'}), width=\"auto\"),\n",
    "                            dbc.Col(html.H5(\"Average GPA\", className=\"card-title mt-2 mb-4\", style={'text-align': 'right','font-weight':'bold'}), width=\"auto\")\n",
    "                        ],\n",
    "                        className=\"d-flex justify-content-between\"\n",
    "                    ),\n",
    "                    *[dbc.Row(\n",
    "                        [\n",
    "                            dbc.Col(html.H6(id=f'{i}-course', style={'text-align': 'left'}),className='mb-2', width=\"auto\"),\n",
    "                            dbc.Col(html.H6(id=f'{i}-gpa', style={'text-align': 'right'}), width=\"auto\",className='mb-2', style={'text-align': 'right'})\n",
    "                        ],\n",
    "                        className=\"d-flex justify-content-between\"\n",
    "                    ) for i in range(1, 6)]\n",
    "                ])\n",
    "            ], className=\"mb-4\")\n",
    "        ], width=3),\n",
    "\n",
    "        dbc.Col([\n",
    "            dbc.Card([\n",
    "                dbc.CardBody([\n",
    "                    html.H5(\"Sponosrship Distribution\", className=\"card-title mb-2\", style={'text-align': 'center', 'text-decoration': 'underline','font-weight':'bold'}),\n",
    "                    dcc.Graph(id='age-distribution-pie', config={'displayModeBar': False})\n",
    "                ])\n",
    "            ], className=\"mb-3\", style={'height': '95.5%'})\n",
    "        ], width=3),\n",
    "\n",
    "        dbc.Col([\n",
    "            dbc.Card([\n",
    "                dbc.CardBody([\n",
    "                    html.H5(\"Distribution in Courses\", className=\"card-title mb-2\", style={'text-align': 'center', 'text-decoration': 'underline','font-weight':'bold'}),\n",
    "                    dcc.Graph(id='nationality-histogram')\n",
    "                ])\n",
    "            ], className=\"mb-3\")\n",
    "        ], width=6)\n",
    "    ])\n",
    "], fluid=True)\n",
    "\n",
    "@app.callback(\n",
    "    Output('heatmap-container', 'children'),\n",
    "    [Output(f'{i}-gpa', 'children') for i in range(1, 6)],\n",
    "    [Output(f'{i}-course', 'children') for i in range(1, 6)],\n",
    "    Output('Total_Students', 'children'),\n",
    "    Output('Overall_Gpa', 'children'),\n",
    "    Output('age-distribution-pie', 'figure'),\n",
    "    Output('nationality-histogram', 'figure'),\n",
    "    Input('radio-buttons', 'value'),\n",
    "    Input('Job-category', 'value'),\n",
    "    Input('Gender', 'value'),\n",
    "    Input('heatmap-tabs', 'value'),\n",
    "    Input('x-axis', 'value'),\n",
    "    Input('y-axis', 'value')\n",
    ")\n",
    "def update_graphs(selected_nationality, selected_job_categories, selected_gender, selected_tab, x_axis, y_axis):\n",
    "    filtered_df = df\n",
    "\n",
    "    filtered_df = filtered_df[filtered_df['Age Group'] == selected_tab]\n",
    "\n",
    "    if selected_nationality != 'ALL':\n",
    "        filtered_df = filtered_df[filtered_df['NATIONALITY'] == selected_nationality]\n",
    "    \n",
    "    if selected_job_categories != 'ALL':\n",
    "        filtered_df = filtered_df[filtered_df['Job Category'].isin(selected_job_categories)]\n",
    "        \n",
    "    if selected_gender != 'ALL':\n",
    "        filtered_df = filtered_df[filtered_df['GENDER'] == selected_gender]\n",
    "    \n",
    "    fig_heatmap = create_heatmap(filtered_df, x_axis, y_axis, f'(Age Group {selected_tab})')\n",
    "    fig_age_distribution = create_age_distribution_pie(filtered_df)\n",
    "    fig_nationality_histogram = create_nationality_histogram(filtered_df)\n",
    "\n",
    "    short_forms_code = {\n",
    "        1101: 'Diploma in Business Administration',\n",
    "        2101: 'Certificate in HR Management',\n",
    "        2102: 'Certificate in Digital Marketing',\n",
    "        5112: 'Bachelor of Business Administration',\n",
    "        5113: 'Master of Business Administration'\n",
    "    }\n",
    "\n",
    "    gpa_values = []\n",
    "    courses = list(short_forms_code.values())\n",
    "    for course in courses:\n",
    "        gpa = round(filtered_df.loc[filtered_df['COURSE'] == course, 'GPA'].mean(), 2)\n",
    "        gpa_values.append(gpa if pd.notna(gpa) else \"N/A\")\n",
    "\n",
    "    # Find the highest and lowest GPAs\n",
    "    numeric_gpas = [gpa for gpa in gpa_values if isinstance(gpa, (int, float))]\n",
    "    max_gpa = max(numeric_gpas) if numeric_gpas else None\n",
    "    min_gpa = min(numeric_gpas) if numeric_gpas else None\n",
    "\n",
    "    # Create styled GPA and course outputs\n",
    "    styled_gpas = []\n",
    "    styled_courses = []\n",
    "    for gpa, course in zip(gpa_values, courses):\n",
    "        if gpa == \"N/A\":\n",
    "            styled_gpas.append(html.Span(\"N/A\"))\n",
    "            styled_courses.append(html.Span(course))\n",
    "        elif gpa == max_gpa:\n",
    "            style = {'color': 'green', 'font-weight': 'bold'}\n",
    "            styled_gpas.append(html.Span(gpa, style=style))\n",
    "            styled_courses.append(html.Span(course, style=style))\n",
    "        elif gpa == min_gpa:\n",
    "            style = {'color': 'red', 'font-weight': 'bold'}\n",
    "            styled_gpas.append(html.Span(gpa, style=style))\n",
    "            styled_courses.append(html.Span(course, style=style))\n",
    "        else:\n",
    "            styled_gpas.append(html.Span(gpa))\n",
    "            styled_courses.append(html.Span(course))\n",
    "\n",
    "    Total_Students = filtered_df.shape[0]\n",
    "    \n",
    "    Overall_Gpa = round(filtered_df['GPA'].mean(), 2)\n",
    "    \n",
    "    return (\n",
    "        dcc.Graph(id='heatmap-graph', figure=fig_heatmap),\n",
    "        *styled_gpas,\n",
    "        *styled_courses,\n",
    "        Total_Students,\n",
    "        Overall_Gpa,\n",
    "        fig_age_distribution,\n",
    "        fig_nationality_histogram\n",
    "    )\n",
    "\n",
    "if __name__ == '__main__':\n",
    "    app.run_server(port=8123)"
   ]
  },
  {
   "cell_type": "code",
   "execution_count": null,
   "metadata": {},
   "outputs": [],
   "source": []
  }
 ],
 "metadata": {
  "kernelspec": {
   "display_name": "gpu_env",
   "language": "python",
   "name": "python3"
  },
  "language_info": {
   "codemirror_mode": {
    "name": "ipython",
    "version": 3
   },
   "file_extension": ".py",
   "mimetype": "text/x-python",
   "name": "python",
   "nbconvert_exporter": "python",
   "pygments_lexer": "ipython3",
   "version": "3.8.19"
  }
 },
 "nbformat": 4,
 "nbformat_minor": 2
}
