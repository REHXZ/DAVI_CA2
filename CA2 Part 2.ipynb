{
 "cells": [
  {
   "cell_type": "code",
   "execution_count": 2,
   "metadata": {},
   "outputs": [],
   "source": [
    "import pandas as pd\n",
    "import plotly.express as px\n",
    "from dash import Dash, dcc, html, Input, Output\n",
    "import plotly.express as px\n",
    "import pandas as pd\n",
    "\n",
    "# Load the CSV file into a DataFrame\n",
    "df = pd.read_csv('Student Profiles Wrangled.csv')"
   ]
  },
  {
   "cell_type": "code",
   "execution_count": 3,
   "metadata": {},
   "outputs": [],
   "source": [
    "def categorize_gpa(row):\n",
    "    gpa = row['GPA']\n",
    "    if gpa < 1:\n",
    "        return 'Less Than 1'\n",
    "    elif gpa < 2 and gpa >= 1:\n",
    "        return '1 - 2'\n",
    "    elif gpa < 3 and gpa >= 2:\n",
    "        return '2 - 3'\n",
    "    elif gpa < 3.5 and gpa >= 3:\n",
    "        return '3 - 3.5'\n",
    "    else:\n",
    "        return 'More Than 3.5'\n",
    "\n",
    "df['GPA Category'] = df.apply(categorize_gpa, axis=1)"
   ]
  },
  {
   "cell_type": "markdown",
   "metadata": {},
   "source": [
    "# Plotly Sunburst"
   ]
  },
  {
   "cell_type": "code",
   "execution_count": 166,
   "metadata": {},
   "outputs": [
    {
     "data": {
      "application/vnd.plotly.v1+json": {
       "config": {
        "plotlyServerURL": "https://plot.ly"
       },
       "data": [
        {
         "branchvalues": "total",
         "customdata": [
          [
           2.8823529411764706,
           2.736
          ],
          [
           3.0941176470588236,
           2.988235294117647
          ],
          [
           2.709375,
           2.741414141414141
          ],
          [
           2.6333333333333333,
           2.6545454545454543
          ],
          [
           2.8454545454545457,
           2.707692307692308
          ],
          [
           2.6606060606060606,
           2.736
          ],
          [
           2.8823529411764706,
           2.988235294117647
          ],
          [
           2.7567164179104475,
           2.741414141414141
          ],
          [
           2.6625,
           2.6545454545454543
          ],
          [
           2.606666666666667,
           2.707692307692308
          ],
          [
           2.736,
           2.736
          ],
          [
           2.988235294117647,
           2.988235294117647
          ],
          [
           2.741414141414141,
           2.741414141414141
          ],
          [
           2.6545454545454548,
           2.6545454545454543
          ],
          [
           2.707692307692308,
           2.707692307692308
          ]
         ],
         "domain": {
          "x": [
           0,
           1
          ],
          "y": [
           0,
           1
          ]
         },
         "hovertemplate": "<b>%{label}</b><br>Count: %{value}<br>Course GPA: %{customdata[1]:.2f}<br>Age Group GPA: %{customdata[0]:.2f}",
         "ids": [
          "1101/Millenial",
          "2101/Millenial",
          "2102/Millenial",
          "5112/Millenial",
          "5113/Millenial",
          "1101/Middle Aged",
          "2101/Middle Aged",
          "2102/Middle Aged",
          "5112/Middle Aged",
          "5113/Middle Aged",
          "1101",
          "2101",
          "2102",
          "5112",
          "5113"
         ],
         "labels": [
          "Millenial",
          "Millenial",
          "Millenial",
          "Millenial",
          "Millenial",
          "Middle Aged",
          "Middle Aged",
          "Middle Aged",
          "Middle Aged",
          "Middle Aged",
          "1101",
          "2101",
          "2102",
          "5112",
          "5113"
         ],
         "marker": {
          "coloraxis": "coloraxis",
          "colors": [
           2.8823529411764706,
           3.0941176470588236,
           2.709375,
           2.6333333333333333,
           2.8454545454545457,
           2.6606060606060606,
           2.8823529411764706,
           2.7567164179104475,
           2.6625,
           2.606666666666667,
           2.736,
           2.988235294117647,
           2.741414141414141,
           2.6545454545454548,
           2.707692307692308
          ]
         },
         "name": "",
         "parents": [
          "1101",
          "2101",
          "2102",
          "5112",
          "5113",
          "1101",
          "2101",
          "2102",
          "5112",
          "5113",
          "",
          "",
          "",
          "",
          ""
         ],
         "type": "sunburst",
         "values": [
          17,
          17,
          32,
          9,
          11,
          33,
          17,
          67,
          24,
          15,
          50,
          34,
          99,
          33,
          26
         ]
        }
       ],
       "layout": {
        "coloraxis": {
         "colorbar": {
          "title": {
           "text": "Avg_GPA"
          }
         },
         "colorscale": [
          [
           0,
           "#0d0887"
          ],
          [
           0.1111111111111111,
           "#46039f"
          ],
          [
           0.2222222222222222,
           "#7201a8"
          ],
          [
           0.3333333333333333,
           "#9c179e"
          ],
          [
           0.4444444444444444,
           "#bd3786"
          ],
          [
           0.5555555555555556,
           "#d8576b"
          ],
          [
           0.6666666666666666,
           "#ed7953"
          ],
          [
           0.7777777777777778,
           "#fb9f3a"
          ],
          [
           0.8888888888888888,
           "#fdca26"
          ],
          [
           1,
           "#f0f921"
          ]
         ]
        },
        "font": {
         "color": "black",
         "family": "Arial, sans-serif",
         "size": 16
        },
        "legend": {
         "tracegroupgap": 0
        },
        "margin": {
         "b": 10,
         "l": 0,
         "r": 0,
         "t": 40
        },
        "paper_bgcolor": "white",
        "plot_bgcolor": "white",
        "template": {
         "data": {
          "bar": [
           {
            "error_x": {
             "color": "#2a3f5f"
            },
            "error_y": {
             "color": "#2a3f5f"
            },
            "marker": {
             "line": {
              "color": "#E5ECF6",
              "width": 0.5
             },
             "pattern": {
              "fillmode": "overlay",
              "size": 10,
              "solidity": 0.2
             }
            },
            "type": "bar"
           }
          ],
          "barpolar": [
           {
            "marker": {
             "line": {
              "color": "#E5ECF6",
              "width": 0.5
             },
             "pattern": {
              "fillmode": "overlay",
              "size": 10,
              "solidity": 0.2
             }
            },
            "type": "barpolar"
           }
          ],
          "carpet": [
           {
            "aaxis": {
             "endlinecolor": "#2a3f5f",
             "gridcolor": "white",
             "linecolor": "white",
             "minorgridcolor": "white",
             "startlinecolor": "#2a3f5f"
            },
            "baxis": {
             "endlinecolor": "#2a3f5f",
             "gridcolor": "white",
             "linecolor": "white",
             "minorgridcolor": "white",
             "startlinecolor": "#2a3f5f"
            },
            "type": "carpet"
           }
          ],
          "choropleth": [
           {
            "colorbar": {
             "outlinewidth": 0,
             "ticks": ""
            },
            "type": "choropleth"
           }
          ],
          "contour": [
           {
            "colorbar": {
             "outlinewidth": 0,
             "ticks": ""
            },
            "colorscale": [
             [
              0,
              "#0d0887"
             ],
             [
              0.1111111111111111,
              "#46039f"
             ],
             [
              0.2222222222222222,
              "#7201a8"
             ],
             [
              0.3333333333333333,
              "#9c179e"
             ],
             [
              0.4444444444444444,
              "#bd3786"
             ],
             [
              0.5555555555555556,
              "#d8576b"
             ],
             [
              0.6666666666666666,
              "#ed7953"
             ],
             [
              0.7777777777777778,
              "#fb9f3a"
             ],
             [
              0.8888888888888888,
              "#fdca26"
             ],
             [
              1,
              "#f0f921"
             ]
            ],
            "type": "contour"
           }
          ],
          "contourcarpet": [
           {
            "colorbar": {
             "outlinewidth": 0,
             "ticks": ""
            },
            "type": "contourcarpet"
           }
          ],
          "heatmap": [
           {
            "colorbar": {
             "outlinewidth": 0,
             "ticks": ""
            },
            "colorscale": [
             [
              0,
              "#0d0887"
             ],
             [
              0.1111111111111111,
              "#46039f"
             ],
             [
              0.2222222222222222,
              "#7201a8"
             ],
             [
              0.3333333333333333,
              "#9c179e"
             ],
             [
              0.4444444444444444,
              "#bd3786"
             ],
             [
              0.5555555555555556,
              "#d8576b"
             ],
             [
              0.6666666666666666,
              "#ed7953"
             ],
             [
              0.7777777777777778,
              "#fb9f3a"
             ],
             [
              0.8888888888888888,
              "#fdca26"
             ],
             [
              1,
              "#f0f921"
             ]
            ],
            "type": "heatmap"
           }
          ],
          "heatmapgl": [
           {
            "colorbar": {
             "outlinewidth": 0,
             "ticks": ""
            },
            "colorscale": [
             [
              0,
              "#0d0887"
             ],
             [
              0.1111111111111111,
              "#46039f"
             ],
             [
              0.2222222222222222,
              "#7201a8"
             ],
             [
              0.3333333333333333,
              "#9c179e"
             ],
             [
              0.4444444444444444,
              "#bd3786"
             ],
             [
              0.5555555555555556,
              "#d8576b"
             ],
             [
              0.6666666666666666,
              "#ed7953"
             ],
             [
              0.7777777777777778,
              "#fb9f3a"
             ],
             [
              0.8888888888888888,
              "#fdca26"
             ],
             [
              1,
              "#f0f921"
             ]
            ],
            "type": "heatmapgl"
           }
          ],
          "histogram": [
           {
            "marker": {
             "pattern": {
              "fillmode": "overlay",
              "size": 10,
              "solidity": 0.2
             }
            },
            "type": "histogram"
           }
          ],
          "histogram2d": [
           {
            "colorbar": {
             "outlinewidth": 0,
             "ticks": ""
            },
            "colorscale": [
             [
              0,
              "#0d0887"
             ],
             [
              0.1111111111111111,
              "#46039f"
             ],
             [
              0.2222222222222222,
              "#7201a8"
             ],
             [
              0.3333333333333333,
              "#9c179e"
             ],
             [
              0.4444444444444444,
              "#bd3786"
             ],
             [
              0.5555555555555556,
              "#d8576b"
             ],
             [
              0.6666666666666666,
              "#ed7953"
             ],
             [
              0.7777777777777778,
              "#fb9f3a"
             ],
             [
              0.8888888888888888,
              "#fdca26"
             ],
             [
              1,
              "#f0f921"
             ]
            ],
            "type": "histogram2d"
           }
          ],
          "histogram2dcontour": [
           {
            "colorbar": {
             "outlinewidth": 0,
             "ticks": ""
            },
            "colorscale": [
             [
              0,
              "#0d0887"
             ],
             [
              0.1111111111111111,
              "#46039f"
             ],
             [
              0.2222222222222222,
              "#7201a8"
             ],
             [
              0.3333333333333333,
              "#9c179e"
             ],
             [
              0.4444444444444444,
              "#bd3786"
             ],
             [
              0.5555555555555556,
              "#d8576b"
             ],
             [
              0.6666666666666666,
              "#ed7953"
             ],
             [
              0.7777777777777778,
              "#fb9f3a"
             ],
             [
              0.8888888888888888,
              "#fdca26"
             ],
             [
              1,
              "#f0f921"
             ]
            ],
            "type": "histogram2dcontour"
           }
          ],
          "mesh3d": [
           {
            "colorbar": {
             "outlinewidth": 0,
             "ticks": ""
            },
            "type": "mesh3d"
           }
          ],
          "parcoords": [
           {
            "line": {
             "colorbar": {
              "outlinewidth": 0,
              "ticks": ""
             }
            },
            "type": "parcoords"
           }
          ],
          "pie": [
           {
            "automargin": true,
            "type": "pie"
           }
          ],
          "scatter": [
           {
            "fillpattern": {
             "fillmode": "overlay",
             "size": 10,
             "solidity": 0.2
            },
            "type": "scatter"
           }
          ],
          "scatter3d": [
           {
            "line": {
             "colorbar": {
              "outlinewidth": 0,
              "ticks": ""
             }
            },
            "marker": {
             "colorbar": {
              "outlinewidth": 0,
              "ticks": ""
             }
            },
            "type": "scatter3d"
           }
          ],
          "scattercarpet": [
           {
            "marker": {
             "colorbar": {
              "outlinewidth": 0,
              "ticks": ""
             }
            },
            "type": "scattercarpet"
           }
          ],
          "scattergeo": [
           {
            "marker": {
             "colorbar": {
              "outlinewidth": 0,
              "ticks": ""
             }
            },
            "type": "scattergeo"
           }
          ],
          "scattergl": [
           {
            "marker": {
             "colorbar": {
              "outlinewidth": 0,
              "ticks": ""
             }
            },
            "type": "scattergl"
           }
          ],
          "scattermapbox": [
           {
            "marker": {
             "colorbar": {
              "outlinewidth": 0,
              "ticks": ""
             }
            },
            "type": "scattermapbox"
           }
          ],
          "scatterpolar": [
           {
            "marker": {
             "colorbar": {
              "outlinewidth": 0,
              "ticks": ""
             }
            },
            "type": "scatterpolar"
           }
          ],
          "scatterpolargl": [
           {
            "marker": {
             "colorbar": {
              "outlinewidth": 0,
              "ticks": ""
             }
            },
            "type": "scatterpolargl"
           }
          ],
          "scatterternary": [
           {
            "marker": {
             "colorbar": {
              "outlinewidth": 0,
              "ticks": ""
             }
            },
            "type": "scatterternary"
           }
          ],
          "surface": [
           {
            "colorbar": {
             "outlinewidth": 0,
             "ticks": ""
            },
            "colorscale": [
             [
              0,
              "#0d0887"
             ],
             [
              0.1111111111111111,
              "#46039f"
             ],
             [
              0.2222222222222222,
              "#7201a8"
             ],
             [
              0.3333333333333333,
              "#9c179e"
             ],
             [
              0.4444444444444444,
              "#bd3786"
             ],
             [
              0.5555555555555556,
              "#d8576b"
             ],
             [
              0.6666666666666666,
              "#ed7953"
             ],
             [
              0.7777777777777778,
              "#fb9f3a"
             ],
             [
              0.8888888888888888,
              "#fdca26"
             ],
             [
              1,
              "#f0f921"
             ]
            ],
            "type": "surface"
           }
          ],
          "table": [
           {
            "cells": {
             "fill": {
              "color": "#EBF0F8"
             },
             "line": {
              "color": "white"
             }
            },
            "header": {
             "fill": {
              "color": "#C8D4E3"
             },
             "line": {
              "color": "white"
             }
            },
            "type": "table"
           }
          ]
         },
         "layout": {
          "annotationdefaults": {
           "arrowcolor": "#2a3f5f",
           "arrowhead": 0,
           "arrowwidth": 1
          },
          "autotypenumbers": "strict",
          "coloraxis": {
           "colorbar": {
            "outlinewidth": 0,
            "ticks": ""
           }
          },
          "colorscale": {
           "diverging": [
            [
             0,
             "#8e0152"
            ],
            [
             0.1,
             "#c51b7d"
            ],
            [
             0.2,
             "#de77ae"
            ],
            [
             0.3,
             "#f1b6da"
            ],
            [
             0.4,
             "#fde0ef"
            ],
            [
             0.5,
             "#f7f7f7"
            ],
            [
             0.6,
             "#e6f5d0"
            ],
            [
             0.7,
             "#b8e186"
            ],
            [
             0.8,
             "#7fbc41"
            ],
            [
             0.9,
             "#4d9221"
            ],
            [
             1,
             "#276419"
            ]
           ],
           "sequential": [
            [
             0,
             "#0d0887"
            ],
            [
             0.1111111111111111,
             "#46039f"
            ],
            [
             0.2222222222222222,
             "#7201a8"
            ],
            [
             0.3333333333333333,
             "#9c179e"
            ],
            [
             0.4444444444444444,
             "#bd3786"
            ],
            [
             0.5555555555555556,
             "#d8576b"
            ],
            [
             0.6666666666666666,
             "#ed7953"
            ],
            [
             0.7777777777777778,
             "#fb9f3a"
            ],
            [
             0.8888888888888888,
             "#fdca26"
            ],
            [
             1,
             "#f0f921"
            ]
           ],
           "sequentialminus": [
            [
             0,
             "#0d0887"
            ],
            [
             0.1111111111111111,
             "#46039f"
            ],
            [
             0.2222222222222222,
             "#7201a8"
            ],
            [
             0.3333333333333333,
             "#9c179e"
            ],
            [
             0.4444444444444444,
             "#bd3786"
            ],
            [
             0.5555555555555556,
             "#d8576b"
            ],
            [
             0.6666666666666666,
             "#ed7953"
            ],
            [
             0.7777777777777778,
             "#fb9f3a"
            ],
            [
             0.8888888888888888,
             "#fdca26"
            ],
            [
             1,
             "#f0f921"
            ]
           ]
          },
          "colorway": [
           "#636efa",
           "#EF553B",
           "#00cc96",
           "#ab63fa",
           "#FFA15A",
           "#19d3f3",
           "#FF6692",
           "#B6E880",
           "#FF97FF",
           "#FECB52"
          ],
          "font": {
           "color": "#2a3f5f"
          },
          "geo": {
           "bgcolor": "white",
           "lakecolor": "white",
           "landcolor": "#E5ECF6",
           "showlakes": true,
           "showland": true,
           "subunitcolor": "white"
          },
          "hoverlabel": {
           "align": "left"
          },
          "hovermode": "closest",
          "mapbox": {
           "style": "light"
          },
          "paper_bgcolor": "white",
          "plot_bgcolor": "#E5ECF6",
          "polar": {
           "angularaxis": {
            "gridcolor": "white",
            "linecolor": "white",
            "ticks": ""
           },
           "bgcolor": "#E5ECF6",
           "radialaxis": {
            "gridcolor": "white",
            "linecolor": "white",
            "ticks": ""
           }
          },
          "scene": {
           "xaxis": {
            "backgroundcolor": "#E5ECF6",
            "gridcolor": "white",
            "gridwidth": 2,
            "linecolor": "white",
            "showbackground": true,
            "ticks": "",
            "zerolinecolor": "white"
           },
           "yaxis": {
            "backgroundcolor": "#E5ECF6",
            "gridcolor": "white",
            "gridwidth": 2,
            "linecolor": "white",
            "showbackground": true,
            "ticks": "",
            "zerolinecolor": "white"
           },
           "zaxis": {
            "backgroundcolor": "#E5ECF6",
            "gridcolor": "white",
            "gridwidth": 2,
            "linecolor": "white",
            "showbackground": true,
            "ticks": "",
            "zerolinecolor": "white"
           }
          },
          "shapedefaults": {
           "line": {
            "color": "#2a3f5f"
           }
          },
          "ternary": {
           "aaxis": {
            "gridcolor": "white",
            "linecolor": "white",
            "ticks": ""
           },
           "baxis": {
            "gridcolor": "white",
            "linecolor": "white",
            "ticks": ""
           },
           "bgcolor": "#E5ECF6",
           "caxis": {
            "gridcolor": "white",
            "linecolor": "white",
            "ticks": ""
           }
          },
          "title": {
           "x": 0.05
          },
          "xaxis": {
           "automargin": true,
           "gridcolor": "white",
           "linecolor": "white",
           "ticks": "",
           "title": {
            "standoff": 15
           },
           "zerolinecolor": "white",
           "zerolinewidth": 2
          },
          "yaxis": {
           "automargin": true,
           "gridcolor": "white",
           "linecolor": "white",
           "ticks": "",
           "title": {
            "standoff": 15
           },
           "zerolinecolor": "white",
           "zerolinewidth": 2
          }
         }
        },
        "title": {
         "font": {
          "color": "black",
          "family": "Arial, sans-serif",
          "size": 24
         },
         "text": "Course and Age with Average GPAs",
         "x": 0.5,
         "xanchor": "center",
         "y": 0.975,
         "yanchor": "top"
        }
       }
      }
     },
     "metadata": {},
     "output_type": "display_data"
    }
   ],
   "source": [
    "# Prepare the data for the sunburst plot\n",
    "# Create simplified age groups\n",
    "df['Age Group'] = pd.cut(df['Age'], bins=[18, 35, 60], labels=['Millenial', 'Middle Aged'])\n",
    "\n",
    "# Drop rows with missing values in the relevant columns\n",
    "df.dropna(subset=['COURSE', 'Age Group', 'GPA'], inplace=True)\n",
    "\n",
    "# Filter data to include only the top 5 courses by student count\n",
    "top_courses = df['COURSE'].value_counts().nlargest(5).index\n",
    "df_filtered = df[df['COURSE'].isin(top_courses)]\n",
    "\n",
    "# Add a Count column for aggregation\n",
    "df_filtered['Count'] = 1\n",
    "\n",
    "# Group by course and age group and calculate average GPA and count\n",
    "df_grouped = df_filtered.groupby(['COURSE', 'Age Group']).agg(\n",
    "    Count=('Count', 'sum'),\n",
    "    Avg_GPA=('GPA', 'mean')\n",
    ").reset_index()\n",
    "\n",
    "# Calculate average GPA for each level\n",
    "course_gpa = df_filtered.groupby('COURSE')['GPA'].mean().reset_index(name='GPA_course')\n",
    "\n",
    "# Merge the average GPAs into the grouped dataframe\n",
    "df_grouped = df_grouped.merge(course_gpa, on='COURSE')\n",
    "\n",
    "# Create the sunburst plot\n",
    "fig = px.sunburst(df_grouped, path=['COURSE', 'Age Group'], values='Count',\n",
    "                  color='Avg_GPA', \n",
    "                  hover_data={\n",
    "                      'Avg_GPA': ':.2f',\n",
    "                      'GPA_course': ':.2f'\n",
    "                  })\n",
    "\n",
    "# Update hover template to show average GPAs for each level\n",
    "fig.update_traces(\n",
    "    hovertemplate='<b>%{label}</b><br>' +\n",
    "                  'Count: %{value}<br>' +\n",
    "                  'Course GPA: %{customdata[1]:.2f}<br>' +\n",
    "                  'Age Group GPA: %{customdata[0]:.2f}'\n",
    ")\n",
    "\n",
    "# Update layout for better aesthetics and readability\n",
    "fig.update_layout(\n",
    "    title={\n",
    "        'text': 'Course and Age with Average GPAs',\n",
    "        'y':0.975,\n",
    "        'x':0.5,\n",
    "        'xanchor': 'center',\n",
    "        'yanchor': 'top'\n",
    "    },\n",
    "    title_font=dict(size=24, family='Arial, sans-serif', color='black'),\n",
    "    font=dict(family='Arial, sans-serif', size=16, color='black'),\n",
    "    margin=dict(t=40, l=0, r=0, b=10),\n",
    "    paper_bgcolor='white',\n",
    "    plot_bgcolor='white'\n",
    ")\n",
    "\n",
    "# Show the plot\n",
    "fig.show()"
   ]
  },
  {
   "cell_type": "code",
   "execution_count": 4,
   "metadata": {},
   "outputs": [
    {
     "data": {
      "text/html": [
       "\n",
       "        <iframe\n",
       "            width=\"100%\"\n",
       "            height=\"650\"\n",
       "            src=\"http://127.0.0.1:8050/\"\n",
       "            frameborder=\"0\"\n",
       "            allowfullscreen\n",
       "            \n",
       "        ></iframe>\n",
       "        "
      ],
      "text/plain": [
       "<IPython.lib.display.IFrame at 0x27d03f35f70>"
      ]
     },
     "metadata": {},
     "output_type": "display_data"
    }
   ],
   "source": [
    "app = Dash(__name__)\n",
    "\n",
    "colors = {\n",
    "    'background': '#111111',\n",
    "    'text': '#7FDBFF'\n",
    "}\n",
    "\n",
    "# Create initial figures\n",
    "fig_bar = px.bar(df, x=\"COURSE\", y=\"GPA\", color=\"GENDER\", barmode=\"group\")\n",
    "fig_pie_1 = px.pie(df, values='GPA', names='COURSE', title='Course Distribution')\n",
    "fig_pie_2 = px.pie(df, values='GPA', names='NATIONALITY', title='Nationality Distribution')\n",
    "\n",
    "# Update layout for all figures\n",
    "fig_bar.update_layout(plot_bgcolor=colors['background'], paper_bgcolor=colors['background'], font_color=colors['text'])\n",
    "fig_pie_1.update_layout(plot_bgcolor=colors['background'], paper_bgcolor=colors['background'], font_color=colors['text'])\n",
    "fig_pie_2.update_layout(plot_bgcolor=colors['background'], paper_bgcolor=colors['background'], font_color=colors['text'])\n",
    "\n",
    "app.layout = html.Div(style={'backgroundColor': colors['background']}, children=[\n",
    "    html.H1(\n",
    "        children='DAVI CA2 DashBoard',\n",
    "        style={\n",
    "            'backgroundColor': '#444444',\n",
    "            'textAlign': 'center',\n",
    "            'color': colors['text'],\n",
    "            'padding': '10px'\n",
    "        }\n",
    "    ),\n",
    "    \n",
    "    html.Div(style={\n",
    "        'display': 'flex',\n",
    "        'padding': '10px'\n",
    "    }, children=[\n",
    "        # Sidebar with radio buttons\n",
    "        html.Div(style={\n",
    "            'backgroundColor': '#444444',\n",
    "            'padding': '10px',\n",
    "            'borderRadius': '5px',\n",
    "            'width': '20%',\n",
    "            'marginRight': '10px',\n",
    "            'textAlign': 'center'\n",
    "        }, children=[\n",
    "            html.H3(\n",
    "                children='Filter by Nationality',\n",
    "                style={'color': colors['text']}\n",
    "            ),\n",
    "            dcc.RadioItems(\n",
    "                id='radio-buttons',\n",
    "                options=[{'label': 'All Data', 'value': 'ALL'}] + \n",
    "                        [{'label': nat, 'value': nat} for nat in df['NATIONALITY'].unique()],\n",
    "                value='ALL',\n",
    "                style={'color': colors['text']}\n",
    "            )\n",
    "        ]),\n",
    "        \n",
    "        # Two horizontal cards\n",
    "        html.Div(style={\n",
    "            'display': 'flex',\n",
    "            'flexDirection': 'column',\n",
    "            'width': '75%'\n",
    "        }, children=[\n",
    "            # First horizontal card\n",
    "            html.Div(style={\n",
    "                'backgroundColor': '#444444',\n",
    "                'padding': '10px',\n",
    "                'borderRadius': '5px',\n",
    "                'marginBottom': '10px',\n",
    "                'textAlign': 'center'\n",
    "            }, children=[\n",
    "                dcc.Graph(\n",
    "                    id='example-graph-1',\n",
    "                    figure=fig_bar\n",
    "                )\n",
    "            ]),\n",
    "            \n",
    "            # Second horizontal card split into two pie charts\n",
    "            html.Div(style={\n",
    "                'backgroundColor': '#444444',\n",
    "                'padding': '10px',\n",
    "                'borderRadius': '5px',\n",
    "                'textAlign': 'center',\n",
    "                'display': 'flex',\n",
    "                'justifyContent': 'space-around'\n",
    "            }, children=[\n",
    "                html.Div(style={'width': '45%'}, children=[\n",
    "                    dcc.Graph(\n",
    "                        id='example-pie-1',\n",
    "                        figure=fig_pie_1\n",
    "                    )\n",
    "                ]),\n",
    "                html.Div(style={'width': '45%'}, children=[\n",
    "                    dcc.Graph(\n",
    "                        id='example-pie-2',\n",
    "                        figure=fig_pie_2\n",
    "                    )\n",
    "                ])\n",
    "            ])\n",
    "        ])\n",
    "    ])\n",
    "])\n",
    "\n",
    "# Define callback to update graphs\n",
    "@app.callback(\n",
    "    Output('example-graph-1', 'figure'),\n",
    "    Output('example-pie-1', 'figure'),\n",
    "    Output('example-pie-2', 'figure'),\n",
    "    Input('radio-buttons', 'value')\n",
    ")\n",
    "def update_graphs(selected_value):\n",
    "    if selected_value != 'ALL':\n",
    "        filtered_df = df[df['NATIONALITY'] == selected_value]\n",
    "    else:\n",
    "        filtered_df = df\n",
    "\n",
    "    fig_bar = px.bar(filtered_df, x=\"COURSE\", y=\"GPA\", color=\"GENDER\", barmode=\"group\")\n",
    "    fig_pie_1 = px.pie(filtered_df, values='GPA', names='COURSE', title='Course Distribution')\n",
    "    fig_pie_2 = px.pie(filtered_df, values='GPA', names='NATIONALITY', title='Nationality Distribution')\n",
    "\n",
    "    fig_bar.update_layout(plot_bgcolor=colors['background'], paper_bgcolor=colors['background'], font_color=colors['text'])\n",
    "    fig_pie_1.update_layout(plot_bgcolor=colors['background'], paper_bgcolor=colors['background'], font_color=colors['text'])\n",
    "    fig_pie_2.update_layout(plot_bgcolor=colors['background'], paper_bgcolor=colors['background'], font_color=colors['text'])\n",
    "\n",
    "    return fig_bar, fig_pie_1, fig_pie_2\n",
    "\n",
    "if __name__ == '__main__':\n",
    "    app.run(debug=True)"
   ]
  },
  {
   "cell_type": "code",
   "execution_count": 5,
   "metadata": {},
   "outputs": [
    {
     "data": {
      "text/html": [
       "\n",
       "        <iframe\n",
       "            width=\"100%\"\n",
       "            height=\"650\"\n",
       "            src=\"http://127.0.0.1:8050/\"\n",
       "            frameborder=\"0\"\n",
       "            allowfullscreen\n",
       "            \n",
       "        ></iframe>\n",
       "        "
      ],
      "text/plain": [
       "<IPython.lib.display.IFrame at 0x27d042f8c40>"
      ]
     },
     "metadata": {},
     "output_type": "display_data"
    }
   ],
   "source": [
    "import dash\n",
    "from dash import dcc, html\n",
    "from dash.dependencies import Input, Output\n",
    "import plotly.express as px\n",
    "import dash_bootstrap_components as dbc\n",
    "\n",
    "# Assuming you have already imported your data as 'df'\n",
    "\n",
    "app = dash.Dash(__name__, external_stylesheets=[dbc.themes.DARKLY])\n",
    "\n",
    "colors = {\n",
    "    'background': '#111111',\n",
    "    'text': '#7FDBFF'\n",
    "}\n",
    "\n",
    "# Create initial figures\n",
    "fig_bar = px.bar(df, x=\"COURSE\", y=\"GPA\", color=\"GENDER\", barmode=\"group\")\n",
    "fig_pie_1 = px.pie(df, values='GPA', names='COURSE', title='Course Distribution')\n",
    "fig_pie_2 = px.pie(df, values='GPA', names='NATIONALITY', title='Nationality Distribution')\n",
    "\n",
    "# Update layout for all figures\n",
    "for fig in [fig_bar, fig_pie_1, fig_pie_2]:\n",
    "    fig.update_layout(\n",
    "        plot_bgcolor=colors['background'],\n",
    "        paper_bgcolor=colors['background'],\n",
    "        font_color=colors['text']\n",
    "    )\n",
    "\n",
    "app.layout = dbc.Container([\n",
    "    dbc.Row([\n",
    "        dbc.Col(html.H1(\"DAVI CA2 DashBoard\", className=\"text-center mb-4\"), width=12)\n",
    "    ]),\n",
    "    \n",
    "    dbc.Row([\n",
    "        # Sidebar with radio buttons\n",
    "        dbc.Col([\n",
    "            dbc.Card([\n",
    "                dbc.CardHeader(html.H3(\"Filter by Nationality\", className=\"text-center\")),\n",
    "                dbc.CardBody([\n",
    "                    dcc.RadioItems(\n",
    "                        id='radio-buttons',\n",
    "                        options=[{'label': 'All Data', 'value': 'ALL'}] + \n",
    "                                [{'label': nat, 'value': nat} for nat in df['NATIONALITY'].unique()],\n",
    "                        value='ALL',\n",
    "                        className=\"mb-2\"\n",
    "                    )\n",
    "                ])\n",
    "            ])\n",
    "        ], width=3),\n",
    "        \n",
    "        # Main content area\n",
    "        dbc.Col([\n",
    "            dbc.Card([\n",
    "                dbc.CardBody([\n",
    "                    dcc.Graph(id='example-graph-1', figure=fig_bar)\n",
    "                ])\n",
    "            ], className=\"mb-4\"),\n",
    "            \n",
    "            dbc.Row([\n",
    "                dbc.Col([\n",
    "                    dbc.Card([\n",
    "                        dbc.CardBody([\n",
    "                            dcc.Graph(id='example-pie-1', figure=fig_pie_1)\n",
    "                        ])\n",
    "                    ])\n",
    "                ], width=6),\n",
    "                dbc.Col([\n",
    "                    dbc.Card([\n",
    "                        dbc.CardBody([\n",
    "                            dcc.Graph(id='example-pie-2', figure=fig_pie_2)\n",
    "                        ])\n",
    "                    ])\n",
    "                ], width=6)\n",
    "            ])\n",
    "        ], width=9)\n",
    "    ])\n",
    "], fluid=True, style={'backgroundColor': colors['background']})\n",
    "\n",
    "# Define callback to update graphs\n",
    "@app.callback(\n",
    "    Output('example-graph-1', 'figure'),\n",
    "    Output('example-pie-1', 'figure'),\n",
    "    Output('example-pie-2', 'figure'),\n",
    "    Input('radio-buttons', 'value')\n",
    ")\n",
    "def update_graphs(selected_value):\n",
    "    if selected_value != 'ALL':\n",
    "        filtered_df = df[df['NATIONALITY'] == selected_value]\n",
    "    else:\n",
    "        filtered_df = df\n",
    "\n",
    "    fig_bar = px.bar(filtered_df, x=\"COURSE\", y=\"GPA\", color=\"GENDER\", barmode=\"group\")\n",
    "    fig_pie_1 = px.pie(filtered_df, values='GPA', names='COURSE', title='Course Distribution')\n",
    "    fig_pie_2 = px.pie(filtered_df, values='GPA', names='NATIONALITY', title='Nationality Distribution')\n",
    "\n",
    "    for fig in [fig_bar, fig_pie_1, fig_pie_2]:\n",
    "        fig.update_layout(\n",
    "            plot_bgcolor=colors['background'],\n",
    "            paper_bgcolor=colors['background'],\n",
    "            font_color=colors['text']\n",
    "        )\n",
    "\n",
    "    return fig_bar, fig_pie_1, fig_pie_2\n",
    "\n",
    "if __name__ == '__main__':\n",
    "    app.run_server(debug=True)"
   ]
  },
  {
   "cell_type": "code",
   "execution_count": null,
   "metadata": {},
   "outputs": [
    {
     "data": {
      "text/html": [
       "\n",
       "        <iframe\n",
       "            width=\"100%\"\n",
       "            height=\"650\"\n",
       "            src=\"http://127.0.0.1:8053/\"\n",
       "            frameborder=\"0\"\n",
       "            allowfullscreen\n",
       "            \n",
       "        ></iframe>\n",
       "        "
      ],
      "text/plain": [
       "<IPython.lib.display.IFrame at 0x258b28a5040>"
      ]
     },
     "metadata": {},
     "output_type": "display_data"
    },
    {
     "name": "stdout",
     "output_type": "stream",
     "text": [
      "---------------------------------------------------------------------------\n",
      "ValueError                                Traceback (most recent call last)\n",
      "Cell In[135], line 118, in update_graphs(selected_value='ALL')\n",
      "    115 else:\n",
      "    116     filtered_df = df\n",
      "--> 118 fig_bar = px.bar(filtered_df, x=\"Fruit\", y=\"Amount\", color=\"City\", barmode=\"group\")\n",
      "        fig_bar = Figure({\n",
      "    'data': [{'alignmentgroup': 'True',\n",
      "              'hovertemplate': 'COURSE=%{x}<br>index=%{y}<extra></extra>',\n",
      "              'legendgroup': '',\n",
      "              'marker': {'color': '#636efa', 'pattern': {'shape': ''}},\n",
      "              'name': '',\n",
      "              'offsetgroup': '',\n",
      "              'orientation': 'h',\n",
      "              'showlegend': False,\n",
      "              'textposition': 'auto',\n",
      "              'type': 'bar',\n",
      "              'x': array([1101, 1101, 1101, ..., 5113, 5113, 5113], dtype=int64),\n",
      "              'xaxis': 'x',\n",
      "              'y': array([  0,   1,   2, ..., 241, 242, 243], dtype=int64),\n",
      "              'yaxis': 'y'}],\n",
      "    'layout': {'barmode': 'group',\n",
      "               'font': {'color': '#7FDBFF'},\n",
      "               'legend': {'tracegroupgap': 0},\n",
      "               'margin': {'t': 60},\n",
      "               'paper_bgcolor': '#111111',\n",
      "               'plot_bgcolor': '#111111',\n",
      "               'template': '...',\n",
      "               'xaxis': {'anchor': 'y', 'domain': [0.0, 1.0], 'title': {'text': 'COURSE'}},\n",
      "               'yaxis': {'anchor': 'x', 'domain': [0.0, 1.0], 'title': {'text': 'index'}}}\n",
      "})\n",
      "        filtered_df =             STUDENT ID SALUTATION GENDER         NATIONALITY         DOB  \\\n",
      "0    2020/1101-013/001         Ms      F         Singaporean  1978-04-03   \n",
      "1    2020/1101-013/002         Ms      F         Singaporean  1966-03-23   \n",
      "2    2020/1101-013/003         Ms      F         Singaporean  1988-04-12   \n",
      "3    2020/1101-014/004         Ms      F         Singaporean  1991-11-27   \n",
      "4    2020/1101-014/005         Ms      F         Singaporean  1985-04-23   \n",
      "..                 ...        ...    ...                 ...         ...   \n",
      "239  2019/5113-007/005         Ms      F         Singaporean  1973-01-10   \n",
      "240  2019/5113-007/006         Ms      F  Permanent Resident  1982-09-30   \n",
      "241  2019/5113-006/003         Ms      F         Singaporean  1990-06-03   \n",
      "242  2019/5113-005/001         Ms      F         Singaporean  1981-11-14   \n",
      "243  2019/5113-005/002         Ms      F         Singaporean  1983-01-28   \n",
      "\n",
      "    HIGHEST QUALIFICATION              NAME OF QUALIFICATION AND INSTITUTION  \\\n",
      "0             Certificate                  Certificate in Office Skills, ITE   \n",
      "1             Certificate  WSQ Higher Certificate in Human Resources, WPL...   \n",
      "2             Certificate              Nitec in Service Skills (Office), ITE   \n",
      "3                  Degree  Bachelor Science (Facilities & Events Manageme...   \n",
      "4                 Diploma  Diploma in Procurement and Supply Management, ...   \n",
      "..                    ...                                                ...   \n",
      "239                Degree  Bachelor of Commerce (Accounting and Finance)/...   \n",
      "240                Degree  Bachelor of Economics (Accounting)/\\nUniversit...   \n",
      "241                Degree  Bachelor of Science in Hotel Administration (H...   \n",
      "242                Degree  Bachelor of Arts with Second Class Honours (Lo...   \n",
      "243                Degree  Bachelor of Business (Business Administration)...   \n",
      "\n",
      "    DATE ATTAINED HIGHEST QUALIFICATION                          DESIGNATION  \\\n",
      "0                            2016-11-06       Snr Associate, Client Services   \n",
      "1                            2018-02-06                        Admin Officer   \n",
      "2                            2016-11-06                      Admin Assistant   \n",
      "3                            2017-06-10                     HR Administrator   \n",
      "4                            2016-08-10                 Purchasing Executive   \n",
      "..                                  ...                                  ...   \n",
      "239                          2017-11-05          Head, Registry & Corp Admin   \n",
      "240                          2016-05-05                      Finance Officer   \n",
      "241                          2015-06-08                         HR Assistant   \n",
      "242                          2014-08-04          Household Goods Coordinator   \n",
      "243                          2016-10-04  Assistant Director, Human Resources   \n",
      "\n",
      "    INTAKE NO  ... REGISTRATION FEE   PAYMENT MODE COURSE FEE  GPA  \\\n",
      "0        13th  ...              107           NETS       1712  3.0   \n",
      "1        13th  ...              107           NETS       1712  2.5   \n",
      "2        13th  ...              107  Bank Transfer       1712  2.0   \n",
      "3        14th  ...              107           NETS       1212  2.5   \n",
      "4        14th  ...              107           NETS       1712  2.4   \n",
      "..        ...  ...              ...            ...        ...  ...   \n",
      "239       7th  ...              107  Bank Transfer       5803  2.9   \n",
      "240       7th  ...              107  Bank Transfer       5803  2.0   \n",
      "241       6th  ...              107  Bank Transfer       5803  2.8   \n",
      "242       5th  ...              107  Bank Transfer       5803  1.9   \n",
      "243       5th  ...              107  Bank Transfer       5803  2.9   \n",
      "\n",
      "     CITIZENSHIP_STATUS date_diff  COURSE  Age GPA Category    Age Group  \n",
      "0                     L       456    1101   46      3 - 3.5  Middle Aged  \n",
      "1                     L       456    1101   58        2 - 3  Middle Aged  \n",
      "2                     L       456    1101   36        2 - 3  Middle Aged  \n",
      "3                     L       456    1101   32        2 - 3    Millenial  \n",
      "4                     L       456    1101   39        2 - 3  Middle Aged  \n",
      "..                  ...       ...     ...  ...          ...          ...  \n",
      "239                   L       183    5113   51        2 - 3  Middle Aged  \n",
      "240                   L       183    5113   41        2 - 3  Middle Aged  \n",
      "241                   L       183    5113   34        2 - 3    Millenial  \n",
      "242                   L       180    5113   42        1 - 2  Middle Aged  \n",
      "243                   L       180    5113   41        2 - 3  Middle Aged  \n",
      "\n",
      "[242 rows x 24 columns]\n",
      "        px = <module 'plotly.express' from 'c:\\\\Users\\\\REHXX\\\\anaconda3\\\\envs\\\\gpu_env\\\\lib\\\\site-packages\\\\plotly\\\\express\\\\__init__.py'>\n",
      "    119 fig_pie_1 = px.pie(filtered_df, values='Amount', names='Fruit', title='Fruit Distribution')\n",
      "    120 fig_pie_2 = px.pie(filtered_df, values='Amount', names='City', title='City Distribution')\n",
      "\n",
      "File c:\\Users\\REHXX\\anaconda3\\envs\\gpu_env\\lib\\site-packages\\plotly\\express\\_chart_types.py:373, in bar(\n",
      "    data_frame=            STUDENT ID SALUTATION GENDER        ...    2 - 3  Middle Aged  \n",
      "\n",
      "[242 rows x 24 columns],\n",
      "    x='Fruit',\n",
      "    y='Amount',\n",
      "    color='City',\n",
      "    pattern_shape=None,\n",
      "    facet_row=None,\n",
      "    facet_col=None,\n",
      "    facet_col_wrap=0,\n",
      "    facet_row_spacing=None,\n",
      "    facet_col_spacing=None,\n",
      "    hover_name=None,\n",
      "    hover_data=None,\n",
      "    custom_data=None,\n",
      "    text=None,\n",
      "    base=None,\n",
      "    error_x=None,\n",
      "    error_x_minus=None,\n",
      "    error_y=None,\n",
      "    error_y_minus=None,\n",
      "    animation_frame=None,\n",
      "    animation_group=None,\n",
      "    category_orders=None,\n",
      "    labels=None,\n",
      "    color_discrete_sequence=None,\n",
      "    color_discrete_map=None,\n",
      "    color_continuous_scale=None,\n",
      "    pattern_shape_sequence=None,\n",
      "    pattern_shape_map=None,\n",
      "    range_color=None,\n",
      "    color_continuous_midpoint=None,\n",
      "    opacity=None,\n",
      "    orientation=None,\n",
      "    barmode='group',\n",
      "    log_x=False,\n",
      "    log_y=False,\n",
      "    range_x=None,\n",
      "    range_y=None,\n",
      "    text_auto=False,\n",
      "    title=None,\n",
      "    template=None,\n",
      "    width=None,\n",
      "    height=None\n",
      ")\n",
      "    325 def bar(\n",
      "    326     data_frame=None,\n",
      "    327     x=None,\n",
      "   (...)\n",
      "    367     height=None,\n",
      "    368 ) -> go.Figure:\n",
      "    369     \"\"\"\n",
      "    370     In a bar plot, each row of `data_frame` is represented as a rectangular\n",
      "    371     mark.\n",
      "    372     \"\"\"\n",
      "--> 373     return make_figure(\n",
      "        go = <module 'plotly.graph_objs' from 'c:\\\\Users\\\\REHXX\\\\anaconda3\\\\envs\\\\gpu_env\\\\lib\\\\site-packages\\\\plotly\\\\graph_objs\\\\__init__.py'>\n",
      "        barmode = 'group'\n",
      "    374         args=locals(),\n",
      "    375         constructor=go.Bar,\n",
      "    376         trace_patch=dict(textposition=\"auto\"),\n",
      "    377         layout_patch=dict(barmode=barmode),\n",
      "    378     )\n",
      "\n",
      "File c:\\Users\\REHXX\\anaconda3\\envs\\gpu_env\\lib\\site-packages\\plotly\\express\\_core.py:2090, in make_figure(\n",
      "    args={'animation_frame': None, 'animation_group': None, 'barmode': 'group', 'base': None, 'category_orders': None, 'color': 'City', 'color_continuous_midpoint': None, 'color_continuous_scale': None, 'color_discrete_map': None, 'color_discrete_sequence': None, ...},\n",
      "    constructor=<class 'plotly.graph_objs._bar.Bar'>,\n",
      "    trace_patch={'textposition': 'auto'},\n",
      "    layout_patch={'barmode': 'group'}\n",
      ")\n",
      "   2087 layout_patch = layout_patch or {}\n",
      "   2088 apply_default_cascade(args)\n",
      "-> 2090 args = build_dataframe(args, constructor)\n",
      "        args = {'data_frame':             STUDENT ID SALUTATION GENDER         NATIONALITY         DOB  \\\n",
      "0    2020/1101-013/001         Ms      F         Singaporean  1978-04-03   \n",
      "1    2020/1101-013/002         Ms      F         Singaporean  1966-03-23   \n",
      "2    2020/1101-013/003         Ms      F         Singaporean  1988-04-12   \n",
      "3    2020/1101-014/004         Ms      F         Singaporean  1991-11-27   \n",
      "4    2020/1101-014/005         Ms      F         Singaporean  1985-04-23   \n",
      "..                 ...        ...    ...                 ...         ...   \n",
      "239  2019/5113-007/005         Ms      F         Singaporean  1973-01-10   \n",
      "240  2019/5113-007/006         Ms      F  Permanent Resident  1982-09-30   \n",
      "241  2019/5113-006/003         Ms      F         Singaporean  1990-06-03   \n",
      "242  2019/5113-005/001         Ms      F         Singaporean  1981-11-14   \n",
      "243  2019/5113-005/002         Ms      F         Singaporean  1983-01-28   \n",
      "\n",
      "    HIGHEST QUALIFICATION              NAME OF QUALIFICATION AND INSTITUTION  \\\n",
      "0             Certificate                  Certificate in Office Skills, ITE   \n",
      "1             Certificate  WSQ Higher Certificate in Human Resources, WPL...   \n",
      "2             Certificate              Nitec in Service Skills (Office), ITE   \n",
      "3                  Degree  Bachelor Science (Facilities & Events Manageme...   \n",
      "4                 Diploma  Diploma in Procurement and Supply Management, ...   \n",
      "..                    ...                                                ...   \n",
      "239                Degree  Bachelor of Commerce (Accounting and Finance)/...   \n",
      "240                Degree  Bachelor of Economics (Accounting)/\\nUniversit...   \n",
      "241                Degree  Bachelor of Science in Hotel Administration (H...   \n",
      "242                Degree  Bachelor of Arts with Second Class Honours (Lo...   \n",
      "243                Degree  Bachelor of Business (Business Administration)...   \n",
      "\n",
      "    DATE ATTAINED HIGHEST QUALIFICATION                          DESIGNATION  \\\n",
      "0                            2016-11-06       Snr Associate, Client Services   \n",
      "1                            2018-02-06                        Admin Officer   \n",
      "2                            2016-11-06                      Admin Assistant   \n",
      "3                            2017-06-10                     HR Administrator   \n",
      "4                            2016-08-10                 Purchasing Executive   \n",
      "..                                  ...                                  ...   \n",
      "239                          2017-11-05          Head, Registry & Corp Admin   \n",
      "240                          2016-05-05                      Finance Officer   \n",
      "241                          2015-06-08                         HR Assistant   \n",
      "242                          2014-08-04          Household Goods Coordinator   \n",
      "243                          2016-10-04  Assistant Director, Human Resources   \n",
      "\n",
      "    INTAKE NO  ... REGISTRATION FEE   PAYMENT MODE COURSE FEE  GPA  \\\n",
      "0        13th  ...              107           NETS       1712  3.0   \n",
      "1        13th  ...              107           NETS       1712  2.5   \n",
      "2        13th  ...              107  Bank Transfer       1712  2.0   \n",
      "3        14th  ...              107           NETS       1212  2.5   \n",
      "4        14th  ...              107           NETS       1712  2.4   \n",
      "..        ...  ...              ...            ...        ...  ...   \n",
      "239       7th  ...              107  Bank Transfer       5803  2.9   \n",
      "240       7th  ...              107  Bank Transfer       5803  2.0   \n",
      "241       6th  ...              107  Bank Transfer       5803  2.8   \n",
      "242       5th  ...              107  Bank Transfer       5803  1.9   \n",
      "243       5th  ...              107  Bank Transfer       5803  2.9   \n",
      "\n",
      "     CITIZENSHIP_STATUS date_diff  COURSE  Age GPA Category    Age Group  \n",
      "0                     L       456    1101   46      3 - 3.5  Middle Aged  \n",
      "1                     L       456    1101   58        2 - 3  Middle Aged  \n",
      "2                     L       456    1101   36        2 - 3  Middle Aged  \n",
      "3                     L       456    1101   32        2 - 3    Millenial  \n",
      "4                     L       456    1101   39        2 - 3  Middle Aged  \n",
      "..                  ...       ...     ...  ...          ...          ...  \n",
      "239                   L       183    5113   51        2 - 3  Middle Aged  \n",
      "240                   L       183    5113   41        2 - 3  Middle Aged  \n",
      "241                   L       183    5113   34        2 - 3    Millenial  \n",
      "242                   L       180    5113   42        1 - 2  Middle Aged  \n",
      "243                   L       180    5113   41        2 - 3  Middle Aged  \n",
      "\n",
      "[242 rows x 24 columns], 'x': 'Fruit', 'y': 'Amount', 'color': 'City', 'pattern_shape': None, 'facet_row': None, 'facet_col': None, 'facet_col_wrap': 0, 'facet_row_spacing': None, 'facet_col_spacing': None, 'hover_name': None, 'hover_data': None, 'custom_data': None, 'text': None, 'base': None, 'error_x': None, 'error_x_minus': None, 'error_y': None, 'error_y_minus': None, 'animation_frame': None, 'animation_group': None, 'category_orders': None, 'labels': None, 'color_discrete_sequence': None, 'color_discrete_map': None, 'color_continuous_scale': None, 'pattern_shape_sequence': None, 'pattern_shape_map': None, 'range_color': None, 'color_continuous_midpoint': None, 'opacity': None, 'orientation': None, 'barmode': 'group', 'log_x': False, 'log_y': False, 'range_x': None, 'range_y': None, 'text_auto': False, 'title': None, 'template': None, 'width': None, 'height': None}\n",
      "        constructor = <class 'plotly.graph_objs._bar.Bar'>\n",
      "   2091 if constructor in [go.Treemap, go.Sunburst, go.Icicle] and args[\"path\"] is not None:\n",
      "   2092     args = process_dataframe_hierarchy(args)\n",
      "\n",
      "File c:\\Users\\REHXX\\anaconda3\\envs\\gpu_env\\lib\\site-packages\\plotly\\express\\_core.py:1492, in build_dataframe(\n",
      "    args={'animation_frame': None, 'animation_group': None, 'barmode': 'group', 'base': None, 'category_orders': None, 'color': 'City', 'color_continuous_midpoint': None, 'color_continuous_scale': None, 'color_discrete_map': None, 'color_discrete_sequence': None, ...},\n",
      "    constructor=<class 'plotly.graph_objs._bar.Bar'>\n",
      ")\n",
      "   1489     args[\"color\"] = None\n",
      "   1490 # now that things have been prepped, we do the systematic rewriting of `args`\n",
      "-> 1492 df_output, wide_id_vars = process_args_into_dataframe(\n",
      "        args = {'data_frame':             STUDENT ID SALUTATION GENDER         NATIONALITY         DOB  \\\n",
      "0    2020/1101-013/001         Ms      F         Singaporean  1978-04-03   \n",
      "1    2020/1101-013/002         Ms      F         Singaporean  1966-03-23   \n",
      "2    2020/1101-013/003         Ms      F         Singaporean  1988-04-12   \n",
      "3    2020/1101-014/004         Ms      F         Singaporean  1991-11-27   \n",
      "4    2020/1101-014/005         Ms      F         Singaporean  1985-04-23   \n",
      "..                 ...        ...    ...                 ...         ...   \n",
      "239  2019/5113-007/005         Ms      F         Singaporean  1973-01-10   \n",
      "240  2019/5113-007/006         Ms      F  Permanent Resident  1982-09-30   \n",
      "241  2019/5113-006/003         Ms      F         Singaporean  1990-06-03   \n",
      "242  2019/5113-005/001         Ms      F         Singaporean  1981-11-14   \n",
      "243  2019/5113-005/002         Ms      F         Singaporean  1983-01-28   \n",
      "\n",
      "    HIGHEST QUALIFICATION              NAME OF QUALIFICATION AND INSTITUTION  \\\n",
      "0             Certificate                  Certificate in Office Skills, ITE   \n",
      "1             Certificate  WSQ Higher Certificate in Human Resources, WPL...   \n",
      "2             Certificate              Nitec in Service Skills (Office), ITE   \n",
      "3                  Degree  Bachelor Science (Facilities & Events Manageme...   \n",
      "4                 Diploma  Diploma in Procurement and Supply Management, ...   \n",
      "..                    ...                                                ...   \n",
      "239                Degree  Bachelor of Commerce (Accounting and Finance)/...   \n",
      "240                Degree  Bachelor of Economics (Accounting)/\\nUniversit...   \n",
      "241                Degree  Bachelor of Science in Hotel Administration (H...   \n",
      "242                Degree  Bachelor of Arts with Second Class Honours (Lo...   \n",
      "243                Degree  Bachelor of Business (Business Administration)...   \n",
      "\n",
      "    DATE ATTAINED HIGHEST QUALIFICATION                          DESIGNATION  \\\n",
      "0                            2016-11-06       Snr Associate, Client Services   \n",
      "1                            2018-02-06                        Admin Officer   \n",
      "2                            2016-11-06                      Admin Assistant   \n",
      "3                            2017-06-10                     HR Administrator   \n",
      "4                            2016-08-10                 Purchasing Executive   \n",
      "..                                  ...                                  ...   \n",
      "239                          2017-11-05          Head, Registry & Corp Admin   \n",
      "240                          2016-05-05                      Finance Officer   \n",
      "241                          2015-06-08                         HR Assistant   \n",
      "242                          2014-08-04          Household Goods Coordinator   \n",
      "243                          2016-10-04  Assistant Director, Human Resources   \n",
      "\n",
      "    INTAKE NO  ... REGISTRATION FEE   PAYMENT MODE COURSE FEE  GPA  \\\n",
      "0        13th  ...              107           NETS       1712  3.0   \n",
      "1        13th  ...              107           NETS       1712  2.5   \n",
      "2        13th  ...              107  Bank Transfer       1712  2.0   \n",
      "3        14th  ...              107           NETS       1212  2.5   \n",
      "4        14th  ...              107           NETS       1712  2.4   \n",
      "..        ...  ...              ...            ...        ...  ...   \n",
      "239       7th  ...              107  Bank Transfer       5803  2.9   \n",
      "240       7th  ...              107  Bank Transfer       5803  2.0   \n",
      "241       6th  ...              107  Bank Transfer       5803  2.8   \n",
      "242       5th  ...              107  Bank Transfer       5803  1.9   \n",
      "243       5th  ...              107  Bank Transfer       5803  2.9   \n",
      "\n",
      "     CITIZENSHIP_STATUS date_diff  COURSE  Age GPA Category    Age Group  \n",
      "0                     L       456    1101   46      3 - 3.5  Middle Aged  \n",
      "1                     L       456    1101   58        2 - 3  Middle Aged  \n",
      "2                     L       456    1101   36        2 - 3  Middle Aged  \n",
      "3                     L       456    1101   32        2 - 3    Millenial  \n",
      "4                     L       456    1101   39        2 - 3  Middle Aged  \n",
      "..                  ...       ...     ...  ...          ...          ...  \n",
      "239                   L       183    5113   51        2 - 3  Middle Aged  \n",
      "240                   L       183    5113   41        2 - 3  Middle Aged  \n",
      "241                   L       183    5113   34        2 - 3    Millenial  \n",
      "242                   L       180    5113   42        1 - 2  Middle Aged  \n",
      "243                   L       180    5113   41        2 - 3  Middle Aged  \n",
      "\n",
      "[242 rows x 24 columns], 'x': 'Fruit', 'y': 'Amount', 'color': 'City', 'pattern_shape': None, 'facet_row': None, 'facet_col': None, 'facet_col_wrap': 0, 'facet_row_spacing': None, 'facet_col_spacing': None, 'hover_name': None, 'hover_data': None, 'custom_data': None, 'text': None, 'base': None, 'error_x': None, 'error_x_minus': None, 'error_y': None, 'error_y_minus': None, 'animation_frame': None, 'animation_group': None, 'category_orders': None, 'labels': None, 'color_discrete_sequence': None, 'color_discrete_map': None, 'color_continuous_scale': None, 'pattern_shape_sequence': None, 'pattern_shape_map': None, 'range_color': None, 'color_continuous_midpoint': None, 'opacity': None, 'orientation': None, 'barmode': 'group', 'log_x': False, 'log_y': False, 'range_x': None, 'range_y': None, 'text_auto': False, 'title': None, 'template': None, 'width': None, 'height': None}\n",
      "        wide_mode = False\n",
      "        var_name = None\n",
      "        value_name = None\n",
      "   1493     args, wide_mode, var_name, value_name\n",
      "   1494 )\n",
      "   1496 # now that `df_output` exists and `args` contains only references, we complete\n",
      "   1497 # the special-case and wide-mode handling by further rewriting args and/or mutating\n",
      "   1498 # df_output\n",
      "   1500 count_name = _escape_col_name(df_output, \"count\", [var_name, value_name])\n",
      "\n",
      "File c:\\Users\\REHXX\\anaconda3\\envs\\gpu_env\\lib\\site-packages\\plotly\\express\\_core.py:1213, in process_args_into_dataframe(\n",
      "    args={'animation_frame': None, 'animation_group': None, 'barmode': 'group', 'base': None, 'category_orders': None, 'color': 'City', 'color_continuous_midpoint': None, 'color_continuous_scale': None, 'color_discrete_map': None, 'color_discrete_sequence': None, ...},\n",
      "    wide_mode=False,\n",
      "    var_name=None,\n",
      "    value_name=None\n",
      ")\n",
      "   1211         if argument == \"index\":\n",
      "   1212             err_msg += \"\\n To use the index, pass it in directly as `df.index`.\"\n",
      "-> 1213         raise ValueError(err_msg)\n",
      "        err_msg = \"Value of 'x' is not the name of a column in 'data_frame'. Expected one of ['STUDENT ID', 'SALUTATION', 'GENDER', 'NATIONALITY', 'DOB', 'HIGHEST QUALIFICATION', 'NAME OF QUALIFICATION AND INSTITUTION', 'DATE ATTAINED HIGHEST QUALIFICATION', 'DESIGNATION', 'INTAKE NO', 'COMMENCEMENT DATE', 'COMPLETION DATE', 'FULL-TIME OR PART-TIME', 'COURSE FUNDING', 'REGISTRATION FEE', 'PAYMENT MODE', 'COURSE FEE', 'GPA', 'CITIZENSHIP_STATUS', 'date_diff', 'COURSE', 'Age', 'GPA Category', 'Age Group'] but received: Fruit\"\n",
      "   1214 elif length and len(df_input[argument]) != length:\n",
      "   1215     raise ValueError(\n",
      "   1216         \"All arguments should have the same length. \"\n",
      "   1217         \"The length of column argument `df[%s]` is %d, whereas the \"\n",
      "   (...)\n",
      "   1224         )\n",
      "   1225     )\n",
      "\n",
      "ValueError: Value of 'x' is not the name of a column in 'data_frame'. Expected one of ['STUDENT ID', 'SALUTATION', 'GENDER', 'NATIONALITY', 'DOB', 'HIGHEST QUALIFICATION', 'NAME OF QUALIFICATION AND INSTITUTION', 'DATE ATTAINED HIGHEST QUALIFICATION', 'DESIGNATION', 'INTAKE NO', 'COMMENCEMENT DATE', 'COMPLETION DATE', 'FULL-TIME OR PART-TIME', 'COURSE FUNDING', 'REGISTRATION FEE', 'PAYMENT MODE', 'COURSE FEE', 'GPA', 'CITIZENSHIP_STATUS', 'date_diff', 'COURSE', 'Age', 'GPA Category', 'Age Group'] but received: Fruit\n",
      "\n",
      "---------------------------------------------------------------------------\n",
      "KeyError                                  Traceback (most recent call last)\n",
      "Cell In[136], line 61, in plot_countries_by_population(year='2010')\n",
      "     56 @app.callback(Output('population_chart', 'figure'),\n",
      "     57               Input('year_dropdown', 'value'))\n",
      "     58 \n",
      "     59 def plot_countries_by_population(year):\n",
      "     60     fig = go.Figure()\n",
      "---> 61     year_df = df[['COURSE', year]].sort_values(year, ascending=False)[:20]\n",
      "        year = '2010'\n",
      "        df =             STUDENT ID SALUTATION GENDER         NATIONALITY         DOB  \\\n",
      "0    2020/1101-013/001         Ms      F         Singaporean  1978-04-03   \n",
      "1    2020/1101-013/002         Ms      F         Singaporean  1966-03-23   \n",
      "2    2020/1101-013/003         Ms      F         Singaporean  1988-04-12   \n",
      "3    2020/1101-014/004         Ms      F         Singaporean  1991-11-27   \n",
      "4    2020/1101-014/005         Ms      F         Singaporean  1985-04-23   \n",
      "..                 ...        ...    ...                 ...         ...   \n",
      "239  2019/5113-007/005         Ms      F         Singaporean  1973-01-10   \n",
      "240  2019/5113-007/006         Ms      F  Permanent Resident  1982-09-30   \n",
      "241  2019/5113-006/003         Ms      F         Singaporean  1990-06-03   \n",
      "242  2019/5113-005/001         Ms      F         Singaporean  1981-11-14   \n",
      "243  2019/5113-005/002         Ms      F         Singaporean  1983-01-28   \n",
      "\n",
      "    HIGHEST QUALIFICATION              NAME OF QUALIFICATION AND INSTITUTION  \\\n",
      "0             Certificate                  Certificate in Office Skills, ITE   \n",
      "1             Certificate  WSQ Higher Certificate in Human Resources, WPL...   \n",
      "2             Certificate              Nitec in Service Skills (Office), ITE   \n",
      "3                  Degree  Bachelor Science (Facilities & Events Manageme...   \n",
      "4                 Diploma  Diploma in Procurement and Supply Management, ...   \n",
      "..                    ...                                                ...   \n",
      "239                Degree  Bachelor of Commerce (Accounting and Finance)/...   \n",
      "240                Degree  Bachelor of Economics (Accounting)/\\nUniversit...   \n",
      "241                Degree  Bachelor of Science in Hotel Administration (H...   \n",
      "242                Degree  Bachelor of Arts with Second Class Honours (Lo...   \n",
      "243                Degree  Bachelor of Business (Business Administration)...   \n",
      "\n",
      "    DATE ATTAINED HIGHEST QUALIFICATION                          DESIGNATION  \\\n",
      "0                            2016-11-06       Snr Associate, Client Services   \n",
      "1                            2018-02-06                        Admin Officer   \n",
      "2                            2016-11-06                      Admin Assistant   \n",
      "3                            2017-06-10                     HR Administrator   \n",
      "4                            2016-08-10                 Purchasing Executive   \n",
      "..                                  ...                                  ...   \n",
      "239                          2017-11-05          Head, Registry & Corp Admin   \n",
      "240                          2016-05-05                      Finance Officer   \n",
      "241                          2015-06-08                         HR Assistant   \n",
      "242                          2014-08-04          Household Goods Coordinator   \n",
      "243                          2016-10-04  Assistant Director, Human Resources   \n",
      "\n",
      "    INTAKE NO  ... REGISTRATION FEE   PAYMENT MODE COURSE FEE  GPA  \\\n",
      "0        13th  ...              107           NETS       1712  3.0   \n",
      "1        13th  ...              107           NETS       1712  2.5   \n",
      "2        13th  ...              107  Bank Transfer       1712  2.0   \n",
      "3        14th  ...              107           NETS       1212  2.5   \n",
      "4        14th  ...              107           NETS       1712  2.4   \n",
      "..        ...  ...              ...            ...        ...  ...   \n",
      "239       7th  ...              107  Bank Transfer       5803  2.9   \n",
      "240       7th  ...              107  Bank Transfer       5803  2.0   \n",
      "241       6th  ...              107  Bank Transfer       5803  2.8   \n",
      "242       5th  ...              107  Bank Transfer       5803  1.9   \n",
      "243       5th  ...              107  Bank Transfer       5803  2.9   \n",
      "\n",
      "     CITIZENSHIP_STATUS date_diff  COURSE  Age GPA Category    Age Group  \n",
      "0                     L       456    1101   46      3 - 3.5  Middle Aged  \n",
      "1                     L       456    1101   58        2 - 3  Middle Aged  \n",
      "2                     L       456    1101   36        2 - 3  Middle Aged  \n",
      "3                     L       456    1101   32        2 - 3    Millenial  \n",
      "4                     L       456    1101   39        2 - 3  Middle Aged  \n",
      "..                  ...       ...     ...  ...          ...          ...  \n",
      "239                   L       183    5113   51        2 - 3  Middle Aged  \n",
      "240                   L       183    5113   41        2 - 3  Middle Aged  \n",
      "241                   L       183    5113   34        2 - 3    Millenial  \n",
      "242                   L       180    5113   42        1 - 2  Middle Aged  \n",
      "243                   L       180    5113   41        2 - 3  Middle Aged  \n",
      "\n",
      "[242 rows x 24 columns]\n",
      "        ['COURSE', year] = ['COURSE', '2010']\n",
      "     62     fig.add_bar(x=year_df['Country Name'],\n",
      "     63                 y=year_df[year])\n",
      "     64     fig.layout.title = f'Top twenty countries by population - {year}'\n",
      "\n",
      "File c:\\Users\\REHXX\\anaconda3\\envs\\gpu_env\\lib\\site-packages\\pandas\\core\\frame.py:3767, in DataFrame.__getitem__(\n",
      "    self=            STUDENT ID SALUTATION GENDER        ...    2 - 3  Middle Aged  \n",
      "\n",
      "[242 rows x 24 columns],\n",
      "    key=['COURSE', '2010']\n",
      ")\n",
      "   3765     if is_iterator(key):\n",
      "   3766         key = list(key)\n",
      "-> 3767     indexer = self.columns._get_indexer_strict(key, \"columns\")[1]\n",
      "        key = ['COURSE', '2010']\n",
      "        self =             STUDENT ID SALUTATION GENDER         NATIONALITY         DOB  \\\n",
      "0    2020/1101-013/001         Ms      F         Singaporean  1978-04-03   \n",
      "1    2020/1101-013/002         Ms      F         Singaporean  1966-03-23   \n",
      "2    2020/1101-013/003         Ms      F         Singaporean  1988-04-12   \n",
      "3    2020/1101-014/004         Ms      F         Singaporean  1991-11-27   \n",
      "4    2020/1101-014/005         Ms      F         Singaporean  1985-04-23   \n",
      "..                 ...        ...    ...                 ...         ...   \n",
      "239  2019/5113-007/005         Ms      F         Singaporean  1973-01-10   \n",
      "240  2019/5113-007/006         Ms      F  Permanent Resident  1982-09-30   \n",
      "241  2019/5113-006/003         Ms      F         Singaporean  1990-06-03   \n",
      "242  2019/5113-005/001         Ms      F         Singaporean  1981-11-14   \n",
      "243  2019/5113-005/002         Ms      F         Singaporean  1983-01-28   \n",
      "\n",
      "    HIGHEST QUALIFICATION              NAME OF QUALIFICATION AND INSTITUTION  \\\n",
      "0             Certificate                  Certificate in Office Skills, ITE   \n",
      "1             Certificate  WSQ Higher Certificate in Human Resources, WPL...   \n",
      "2             Certificate              Nitec in Service Skills (Office), ITE   \n",
      "3                  Degree  Bachelor Science (Facilities & Events Manageme...   \n",
      "4                 Diploma  Diploma in Procurement and Supply Management, ...   \n",
      "..                    ...                                                ...   \n",
      "239                Degree  Bachelor of Commerce (Accounting and Finance)/...   \n",
      "240                Degree  Bachelor of Economics (Accounting)/\\nUniversit...   \n",
      "241                Degree  Bachelor of Science in Hotel Administration (H...   \n",
      "242                Degree  Bachelor of Arts with Second Class Honours (Lo...   \n",
      "243                Degree  Bachelor of Business (Business Administration)...   \n",
      "\n",
      "    DATE ATTAINED HIGHEST QUALIFICATION                          DESIGNATION  \\\n",
      "0                            2016-11-06       Snr Associate, Client Services   \n",
      "1                            2018-02-06                        Admin Officer   \n",
      "2                            2016-11-06                      Admin Assistant   \n",
      "3                            2017-06-10                     HR Administrator   \n",
      "4                            2016-08-10                 Purchasing Executive   \n",
      "..                                  ...                                  ...   \n",
      "239                          2017-11-05          Head, Registry & Corp Admin   \n",
      "240                          2016-05-05                      Finance Officer   \n",
      "241                          2015-06-08                         HR Assistant   \n",
      "242                          2014-08-04          Household Goods Coordinator   \n",
      "243                          2016-10-04  Assistant Director, Human Resources   \n",
      "\n",
      "    INTAKE NO  ... REGISTRATION FEE   PAYMENT MODE COURSE FEE  GPA  \\\n",
      "0        13th  ...              107           NETS       1712  3.0   \n",
      "1        13th  ...              107           NETS       1712  2.5   \n",
      "2        13th  ...              107  Bank Transfer       1712  2.0   \n",
      "3        14th  ...              107           NETS       1212  2.5   \n",
      "4        14th  ...              107           NETS       1712  2.4   \n",
      "..        ...  ...              ...            ...        ...  ...   \n",
      "239       7th  ...              107  Bank Transfer       5803  2.9   \n",
      "240       7th  ...              107  Bank Transfer       5803  2.0   \n",
      "241       6th  ...              107  Bank Transfer       5803  2.8   \n",
      "242       5th  ...              107  Bank Transfer       5803  1.9   \n",
      "243       5th  ...              107  Bank Transfer       5803  2.9   \n",
      "\n",
      "     CITIZENSHIP_STATUS date_diff  COURSE  Age GPA Category    Age Group  \n",
      "0                     L       456    1101   46      3 - 3.5  Middle Aged  \n",
      "1                     L       456    1101   58        2 - 3  Middle Aged  \n",
      "2                     L       456    1101   36        2 - 3  Middle Aged  \n",
      "3                     L       456    1101   32        2 - 3    Millenial  \n",
      "4                     L       456    1101   39        2 - 3  Middle Aged  \n",
      "..                  ...       ...     ...  ...          ...          ...  \n",
      "239                   L       183    5113   51        2 - 3  Middle Aged  \n",
      "240                   L       183    5113   41        2 - 3  Middle Aged  \n",
      "241                   L       183    5113   34        2 - 3    Millenial  \n",
      "242                   L       180    5113   42        1 - 2  Middle Aged  \n",
      "243                   L       180    5113   41        2 - 3  Middle Aged  \n",
      "\n",
      "[242 rows x 24 columns]\n",
      "   3769 # take() does not accept boolean indexers\n",
      "   3770 if getattr(indexer, \"dtype\", None) == bool:\n",
      "\n",
      "File c:\\Users\\REHXX\\anaconda3\\envs\\gpu_env\\lib\\site-packages\\pandas\\core\\indexes\\base.py:5877, in Index._get_indexer_strict(\n",
      "    self=Index(['STUDENT ID', 'SALUTATION', 'GENDER', 'NA...PA Category', 'Age Group'],\n",
      "      dtype='object'),\n",
      "    key=['COURSE', '2010'],\n",
      "    axis_name='columns'\n",
      ")\n",
      "   5874 else:\n",
      "   5875     keyarr, indexer, new_indexer = self._reindex_non_unique(keyarr)\n",
      "-> 5877 self._raise_if_missing(keyarr, indexer, axis_name)\n",
      "        keyarr = Index(['COURSE', '2010'], dtype='object')\n",
      "        self = Index(['STUDENT ID', 'SALUTATION', 'GENDER', 'NATIONALITY', 'DOB',\n",
      "       'HIGHEST QUALIFICATION', 'NAME OF QUALIFICATION AND INSTITUTION',\n",
      "       'DATE ATTAINED HIGHEST QUALIFICATION', 'DESIGNATION', 'INTAKE NO',\n",
      "       'COMMENCEMENT DATE', 'COMPLETION DATE', 'FULL-TIME OR PART-TIME',\n",
      "       'COURSE FUNDING', 'REGISTRATION FEE', 'PAYMENT MODE', 'COURSE FEE',\n",
      "       'GPA', 'CITIZENSHIP_STATUS', 'date_diff', 'COURSE', 'Age',\n",
      "       'GPA Category', 'Age Group'],\n",
      "      dtype='object')\n",
      "        indexer = array([20, -1], dtype=int64)\n",
      "        axis_name = 'columns'\n",
      "   5879 keyarr = self.take(indexer)\n",
      "   5880 if isinstance(key, Index):\n",
      "   5881     # GH 42790 - Preserve name from an Index\n",
      "\n",
      "File c:\\Users\\REHXX\\anaconda3\\envs\\gpu_env\\lib\\site-packages\\pandas\\core\\indexes\\base.py:5941, in Index._raise_if_missing(\n",
      "    self=Index(['STUDENT ID', 'SALUTATION', 'GENDER', 'NA...PA Category', 'Age Group'],\n",
      "      dtype='object'),\n",
      "    key=Index(['COURSE', '2010'], dtype='object'),\n",
      "    indexer=array([20, -1], dtype=int64),\n",
      "    axis_name='columns'\n",
      ")\n",
      "   5938     raise KeyError(f\"None of [{key}] are in the [{axis_name}]\")\n",
      "   5940 not_found = list(ensure_index(key)[missing_mask.nonzero()[0]].unique())\n",
      "-> 5941 raise KeyError(f\"{not_found} not in index\")\n",
      "\n",
      "KeyError: \"['2010'] not in index\"\n",
      "\n",
      "---------------------------------------------------------------------------\n",
      "KeyError                                  Traceback (most recent call last)\n",
      "Cell In[136], line 61, in plot_countries_by_population(year=None)\n",
      "     56 @app.callback(Output('population_chart', 'figure'),\n",
      "     57               Input('year_dropdown', 'value'))\n",
      "     58 \n",
      "     59 def plot_countries_by_population(year):\n",
      "     60     fig = go.Figure()\n",
      "---> 61     year_df = df[['COURSE', year]].sort_values(year, ascending=False)[:20]\n",
      "        year = None\n",
      "        df =             STUDENT ID SALUTATION GENDER         NATIONALITY         DOB  \\\n",
      "0    2020/1101-013/001         Ms      F         Singaporean  1978-04-03   \n",
      "1    2020/1101-013/002         Ms      F         Singaporean  1966-03-23   \n",
      "2    2020/1101-013/003         Ms      F         Singaporean  1988-04-12   \n",
      "3    2020/1101-014/004         Ms      F         Singaporean  1991-11-27   \n",
      "4    2020/1101-014/005         Ms      F         Singaporean  1985-04-23   \n",
      "..                 ...        ...    ...                 ...         ...   \n",
      "239  2019/5113-007/005         Ms      F         Singaporean  1973-01-10   \n",
      "240  2019/5113-007/006         Ms      F  Permanent Resident  1982-09-30   \n",
      "241  2019/5113-006/003         Ms      F         Singaporean  1990-06-03   \n",
      "242  2019/5113-005/001         Ms      F         Singaporean  1981-11-14   \n",
      "243  2019/5113-005/002         Ms      F         Singaporean  1983-01-28   \n",
      "\n",
      "    HIGHEST QUALIFICATION              NAME OF QUALIFICATION AND INSTITUTION  \\\n",
      "0             Certificate                  Certificate in Office Skills, ITE   \n",
      "1             Certificate  WSQ Higher Certificate in Human Resources, WPL...   \n",
      "2             Certificate              Nitec in Service Skills (Office), ITE   \n",
      "3                  Degree  Bachelor Science (Facilities & Events Manageme...   \n",
      "4                 Diploma  Diploma in Procurement and Supply Management, ...   \n",
      "..                    ...                                                ...   \n",
      "239                Degree  Bachelor of Commerce (Accounting and Finance)/...   \n",
      "240                Degree  Bachelor of Economics (Accounting)/\\nUniversit...   \n",
      "241                Degree  Bachelor of Science in Hotel Administration (H...   \n",
      "242                Degree  Bachelor of Arts with Second Class Honours (Lo...   \n",
      "243                Degree  Bachelor of Business (Business Administration)...   \n",
      "\n",
      "    DATE ATTAINED HIGHEST QUALIFICATION                          DESIGNATION  \\\n",
      "0                            2016-11-06       Snr Associate, Client Services   \n",
      "1                            2018-02-06                        Admin Officer   \n",
      "2                            2016-11-06                      Admin Assistant   \n",
      "3                            2017-06-10                     HR Administrator   \n",
      "4                            2016-08-10                 Purchasing Executive   \n",
      "..                                  ...                                  ...   \n",
      "239                          2017-11-05          Head, Registry & Corp Admin   \n",
      "240                          2016-05-05                      Finance Officer   \n",
      "241                          2015-06-08                         HR Assistant   \n",
      "242                          2014-08-04          Household Goods Coordinator   \n",
      "243                          2016-10-04  Assistant Director, Human Resources   \n",
      "\n",
      "    INTAKE NO  ... REGISTRATION FEE   PAYMENT MODE COURSE FEE  GPA  \\\n",
      "0        13th  ...              107           NETS       1712  3.0   \n",
      "1        13th  ...              107           NETS       1712  2.5   \n",
      "2        13th  ...              107  Bank Transfer       1712  2.0   \n",
      "3        14th  ...              107           NETS       1212  2.5   \n",
      "4        14th  ...              107           NETS       1712  2.4   \n",
      "..        ...  ...              ...            ...        ...  ...   \n",
      "239       7th  ...              107  Bank Transfer       5803  2.9   \n",
      "240       7th  ...              107  Bank Transfer       5803  2.0   \n",
      "241       6th  ...              107  Bank Transfer       5803  2.8   \n",
      "242       5th  ...              107  Bank Transfer       5803  1.9   \n",
      "243       5th  ...              107  Bank Transfer       5803  2.9   \n",
      "\n",
      "     CITIZENSHIP_STATUS date_diff  COURSE  Age GPA Category    Age Group  \n",
      "0                     L       456    1101   46      3 - 3.5  Middle Aged  \n",
      "1                     L       456    1101   58        2 - 3  Middle Aged  \n",
      "2                     L       456    1101   36        2 - 3  Middle Aged  \n",
      "3                     L       456    1101   32        2 - 3    Millenial  \n",
      "4                     L       456    1101   39        2 - 3  Middle Aged  \n",
      "..                  ...       ...     ...  ...          ...          ...  \n",
      "239                   L       183    5113   51        2 - 3  Middle Aged  \n",
      "240                   L       183    5113   41        2 - 3  Middle Aged  \n",
      "241                   L       183    5113   34        2 - 3    Millenial  \n",
      "242                   L       180    5113   42        1 - 2  Middle Aged  \n",
      "243                   L       180    5113   41        2 - 3  Middle Aged  \n",
      "\n",
      "[242 rows x 24 columns]\n",
      "        ['COURSE', year] = ['COURSE', None]\n",
      "     62     fig.add_bar(x=year_df['Country Name'],\n",
      "     63                 y=year_df[year])\n",
      "     64     fig.layout.title = f'Top twenty countries by population - {year}'\n",
      "\n",
      "File c:\\Users\\REHXX\\anaconda3\\envs\\gpu_env\\lib\\site-packages\\pandas\\core\\frame.py:3767, in DataFrame.__getitem__(\n",
      "    self=            STUDENT ID SALUTATION GENDER        ...    2 - 3  Middle Aged  \n",
      "\n",
      "[242 rows x 24 columns],\n",
      "    key=['COURSE', None]\n",
      ")\n",
      "   3765     if is_iterator(key):\n",
      "   3766         key = list(key)\n",
      "-> 3767     indexer = self.columns._get_indexer_strict(key, \"columns\")[1]\n",
      "        key = ['COURSE', None]\n",
      "        self =             STUDENT ID SALUTATION GENDER         NATIONALITY         DOB  \\\n",
      "0    2020/1101-013/001         Ms      F         Singaporean  1978-04-03   \n",
      "1    2020/1101-013/002         Ms      F         Singaporean  1966-03-23   \n",
      "2    2020/1101-013/003         Ms      F         Singaporean  1988-04-12   \n",
      "3    2020/1101-014/004         Ms      F         Singaporean  1991-11-27   \n",
      "4    2020/1101-014/005         Ms      F         Singaporean  1985-04-23   \n",
      "..                 ...        ...    ...                 ...         ...   \n",
      "239  2019/5113-007/005         Ms      F         Singaporean  1973-01-10   \n",
      "240  2019/5113-007/006         Ms      F  Permanent Resident  1982-09-30   \n",
      "241  2019/5113-006/003         Ms      F         Singaporean  1990-06-03   \n",
      "242  2019/5113-005/001         Ms      F         Singaporean  1981-11-14   \n",
      "243  2019/5113-005/002         Ms      F         Singaporean  1983-01-28   \n",
      "\n",
      "    HIGHEST QUALIFICATION              NAME OF QUALIFICATION AND INSTITUTION  \\\n",
      "0             Certificate                  Certificate in Office Skills, ITE   \n",
      "1             Certificate  WSQ Higher Certificate in Human Resources, WPL...   \n",
      "2             Certificate              Nitec in Service Skills (Office), ITE   \n",
      "3                  Degree  Bachelor Science (Facilities & Events Manageme...   \n",
      "4                 Diploma  Diploma in Procurement and Supply Management, ...   \n",
      "..                    ...                                                ...   \n",
      "239                Degree  Bachelor of Commerce (Accounting and Finance)/...   \n",
      "240                Degree  Bachelor of Economics (Accounting)/\\nUniversit...   \n",
      "241                Degree  Bachelor of Science in Hotel Administration (H...   \n",
      "242                Degree  Bachelor of Arts with Second Class Honours (Lo...   \n",
      "243                Degree  Bachelor of Business (Business Administration)...   \n",
      "\n",
      "    DATE ATTAINED HIGHEST QUALIFICATION                          DESIGNATION  \\\n",
      "0                            2016-11-06       Snr Associate, Client Services   \n",
      "1                            2018-02-06                        Admin Officer   \n",
      "2                            2016-11-06                      Admin Assistant   \n",
      "3                            2017-06-10                     HR Administrator   \n",
      "4                            2016-08-10                 Purchasing Executive   \n",
      "..                                  ...                                  ...   \n",
      "239                          2017-11-05          Head, Registry & Corp Admin   \n",
      "240                          2016-05-05                      Finance Officer   \n",
      "241                          2015-06-08                         HR Assistant   \n",
      "242                          2014-08-04          Household Goods Coordinator   \n",
      "243                          2016-10-04  Assistant Director, Human Resources   \n",
      "\n",
      "    INTAKE NO  ... REGISTRATION FEE   PAYMENT MODE COURSE FEE  GPA  \\\n",
      "0        13th  ...              107           NETS       1712  3.0   \n",
      "1        13th  ...              107           NETS       1712  2.5   \n",
      "2        13th  ...              107  Bank Transfer       1712  2.0   \n",
      "3        14th  ...              107           NETS       1212  2.5   \n",
      "4        14th  ...              107           NETS       1712  2.4   \n",
      "..        ...  ...              ...            ...        ...  ...   \n",
      "239       7th  ...              107  Bank Transfer       5803  2.9   \n",
      "240       7th  ...              107  Bank Transfer       5803  2.0   \n",
      "241       6th  ...              107  Bank Transfer       5803  2.8   \n",
      "242       5th  ...              107  Bank Transfer       5803  1.9   \n",
      "243       5th  ...              107  Bank Transfer       5803  2.9   \n",
      "\n",
      "     CITIZENSHIP_STATUS date_diff  COURSE  Age GPA Category    Age Group  \n",
      "0                     L       456    1101   46      3 - 3.5  Middle Aged  \n",
      "1                     L       456    1101   58        2 - 3  Middle Aged  \n",
      "2                     L       456    1101   36        2 - 3  Middle Aged  \n",
      "3                     L       456    1101   32        2 - 3    Millenial  \n",
      "4                     L       456    1101   39        2 - 3  Middle Aged  \n",
      "..                  ...       ...     ...  ...          ...          ...  \n",
      "239                   L       183    5113   51        2 - 3  Middle Aged  \n",
      "240                   L       183    5113   41        2 - 3  Middle Aged  \n",
      "241                   L       183    5113   34        2 - 3    Millenial  \n",
      "242                   L       180    5113   42        1 - 2  Middle Aged  \n",
      "243                   L       180    5113   41        2 - 3  Middle Aged  \n",
      "\n",
      "[242 rows x 24 columns]\n",
      "   3769 # take() does not accept boolean indexers\n",
      "   3770 if getattr(indexer, \"dtype\", None) == bool:\n",
      "\n",
      "File c:\\Users\\REHXX\\anaconda3\\envs\\gpu_env\\lib\\site-packages\\pandas\\core\\indexes\\base.py:5877, in Index._get_indexer_strict(\n",
      "    self=Index(['STUDENT ID', 'SALUTATION', 'GENDER', 'NA...PA Category', 'Age Group'],\n",
      "      dtype='object'),\n",
      "    key=['COURSE', None],\n",
      "    axis_name='columns'\n",
      ")\n",
      "   5874 else:\n",
      "   5875     keyarr, indexer, new_indexer = self._reindex_non_unique(keyarr)\n",
      "-> 5877 self._raise_if_missing(keyarr, indexer, axis_name)\n",
      "        keyarr = Index(['COURSE', None], dtype='object')\n",
      "        self = Index(['STUDENT ID', 'SALUTATION', 'GENDER', 'NATIONALITY', 'DOB',\n",
      "       'HIGHEST QUALIFICATION', 'NAME OF QUALIFICATION AND INSTITUTION',\n",
      "       'DATE ATTAINED HIGHEST QUALIFICATION', 'DESIGNATION', 'INTAKE NO',\n",
      "       'COMMENCEMENT DATE', 'COMPLETION DATE', 'FULL-TIME OR PART-TIME',\n",
      "       'COURSE FUNDING', 'REGISTRATION FEE', 'PAYMENT MODE', 'COURSE FEE',\n",
      "       'GPA', 'CITIZENSHIP_STATUS', 'date_diff', 'COURSE', 'Age',\n",
      "       'GPA Category', 'Age Group'],\n",
      "      dtype='object')\n",
      "        indexer = array([20, -1], dtype=int64)\n",
      "        axis_name = 'columns'\n",
      "   5879 keyarr = self.take(indexer)\n",
      "   5880 if isinstance(key, Index):\n",
      "   5881     # GH 42790 - Preserve name from an Index\n",
      "\n",
      "File c:\\Users\\REHXX\\anaconda3\\envs\\gpu_env\\lib\\site-packages\\pandas\\core\\indexes\\base.py:5941, in Index._raise_if_missing(\n",
      "    self=Index(['STUDENT ID', 'SALUTATION', 'GENDER', 'NA...PA Category', 'Age Group'],\n",
      "      dtype='object'),\n",
      "    key=Index(['COURSE', None], dtype='object'),\n",
      "    indexer=array([20, -1], dtype=int64),\n",
      "    axis_name='columns'\n",
      ")\n",
      "   5938     raise KeyError(f\"None of [{key}] are in the [{axis_name}]\")\n",
      "   5940 not_found = list(ensure_index(key)[missing_mask.nonzero()[0]].unique())\n",
      "-> 5941 raise KeyError(f\"{not_found} not in index\")\n",
      "\n",
      "KeyError: '[None] not in index'\n",
      "\n"
     ]
    }
   ],
   "source": [
    "#Dash-barchart and dropdown menu\n",
    "import dash\n",
    "from dash import html, dcc\n",
    "import dash_bootstrap_components as dbc\n",
    "from dash.dependencies import Output, Input\n",
    "from dash.exceptions import PreventUpdate\n",
    "import plotly.graph_objects as go\n",
    "import plotly.express as px\n",
    "import pandas as pd\n",
    " \n",
    "app = dash.Dash(__name__, external_stylesheets=[dbc.themes.BOOTSTRAP])\n",
    "# default theme is BOOTSTRAP. Refer to https://dash-bootstrap-components.opensource.faculty.ai/docs/themes/\n",
    " \n",
    "poverty_data = pd.read_csv('PovStatsData.csv')\n",
    "poverty = pd.read_csv('poverty.csv', low_memory=False)\n",
    "\n",
    "colors = {\n",
    "    'background': '#111111',\n",
    "    'text': '#7FDBFF'\n",
    "}\n",
    "\n",
    " \n",
    "app.layout = html.Div([\n",
    "    html.H1(children='Poverty And Equity Database', style={'textAlign': 'center'}),\n",
    "    html.H2('The World Bank'),\n",
    "    dcc.Dropdown(id='country',\n",
    "                 options=[{'label': country, 'value': country}\n",
    "                          for country in poverty_data['Country Name'].unique()]),\n",
    "    html.Br(),\n",
    "    html.Div(id='report'),\n",
    "    html.Br(),\n",
    "    dcc.Dropdown(id='year_dropdown',\n",
    "                 value='2010',\n",
    "                 options=[{'label': year, 'value': str(year)}\n",
    "                          for year in df['COURSE'].unique()]),\n",
    "    dcc.Graph(id='population_chart'),\n",
    " \n",
    "    html.Br(),\n",
    "])\n",
    " \n",
    " \n",
    "@app.callback(Output('report', 'children'),\n",
    "              Input('country', 'value'))\n",
    "def display_country_report(country):\n",
    "    if country is None:\n",
    "        return ''\n",
    " \n",
    "    filtered_df = poverty_data[(poverty_data['Country Name']==country) &\n",
    "                               (poverty_data['Indicator Name']=='Population, total')]\n",
    "    population = filtered_df.loc[:, '2010'].values[0]\n",
    " \n",
    "    return [html.H3(country),\n",
    "            f'The population of {country} in 2010 was {population:,.0f}.']\n",
    " \n",
    " \n",
    "@app.callback(Output('population_chart', 'figure'),\n",
    "              Input('year_dropdown', 'value'))\n",
    "\n",
    "def plot_countries_by_population(year):\n",
    "    fig = go.Figure()\n",
    "    year_df = df[['COURSE', year]].sort_values(year, ascending=False)[:20]\n",
    "    fig.add_bar(x=year_df['Country Name'],\n",
    "                y=year_df[year])\n",
    "    fig.layout.title = f'Top twenty countries by population - {year}'\n",
    "    return fig\n",
    " \n",
    " \n",
    "if __name__ == '__main__':\n",
    "    app.run(debug=True, port=8053) #  app.run_server(debug=True, port=8051) # or whatever you choose"
   ]
  },
  {
   "cell_type": "code",
   "execution_count": null,
   "metadata": {},
   "outputs": [],
   "source": []
  }
 ],
 "metadata": {
  "kernelspec": {
   "display_name": "gpu_env",
   "language": "python",
   "name": "python3"
  },
  "language_info": {
   "codemirror_mode": {
    "name": "ipython",
    "version": 3
   },
   "file_extension": ".py",
   "mimetype": "text/x-python",
   "name": "python",
   "nbconvert_exporter": "python",
   "pygments_lexer": "ipython3",
   "version": "3.8.19"
  }
 },
 "nbformat": 4,
 "nbformat_minor": 2
}
