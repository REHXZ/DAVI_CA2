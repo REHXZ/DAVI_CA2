{
 "cells": [
  {
   "cell_type": "code",
   "execution_count": 185,
   "metadata": {},
   "outputs": [],
   "source": [
    "import dash\n",
    "import dash_bootstrap_components as dbc\n",
    "import dash_core_components as dcc\n",
    "import dash_html_components as html\n",
    "import plotly.express as px\n",
    "from dash.dependencies import Input, Output\n",
    "import pandas as pd\n",
    "import dash_daq as daq"
   ]
  },
  {
   "cell_type": "code",
   "execution_count": 186,
   "metadata": {},
   "outputs": [],
   "source": [
    "df = pd.read_csv('Student Profiles Wrangled Part 2.csv')"
   ]
  },
  {
   "cell_type": "code",
   "execution_count": 187,
   "metadata": {},
   "outputs": [],
   "source": [
    "df.rename(columns={'date_diff': 'Course Duration'}, inplace=True)"
   ]
  },
  {
   "cell_type": "markdown",
   "metadata": {},
   "source": [
    "# Plotly Express Sunburst distribution of Course and their Age Groups"
   ]
  },
  {
   "cell_type": "markdown",
   "metadata": {},
   "source": [
    "This plot shows the distribution of courses and their age groups, as well as the average GPA of each student.\n",
    "\n",
    "From the sunburst chart, we can see that more than 50% of students are enrolled in the Certificate in Digital Marketing and Diploma in Business Administration programs, with an average GPA of 2.74.\n",
    "\n",
    "Students pursuing a Certificate in HR Management perform better overall, having the highest average GPA of 2.99. Those under 25 in this program score an even higher average GPA of 3.05.\n",
    "\n",
    "An outlier is present in the Master of Business Administration course, where a student under 25 has a perfect GPA of 4.0, compared to the course average of 2.71.\n"
   ]
  },
  {
   "cell_type": "code",
   "execution_count": 188,
   "metadata": {},
   "outputs": [
    {
     "data": {
      "application/vnd.plotly.v1+json": {
       "config": {
        "plotlyServerURL": "https://plot.ly"
       },
       "data": [
        {
         "branchvalues": "total",
         "customdata": [
          [
           2.5736842105263156,
           2.6545454545454543
          ],
          [
           2.6636363636363636,
           2.738613861386139
          ],
          [
           2.9761904761904763,
           2.988235294117647
          ],
          [
           2.7925925925925927,
           2.736
          ],
          [
           2.6785714285714284,
           2.707692307692308
          ],
          [
           2.7642857142857147,
           2.6545454545454543
          ],
          [
           2.8318181818181816,
           2.738613861386139
          ],
          [
           2.9714285714285715,
           2.988235294117647
          ],
          [
           2.6695652173913045,
           2.736
          ],
          [
           2.627272727272727,
           2.707692307692308
          ],
          [
           2.75,
           2.738613861386139
          ],
          [
           3.0500000000000003,
           2.988235294117647
          ],
          [
           4,
           2.707692307692308
          ],
          [
           2.6545454545454543,
           2.6545454545454543
          ],
          [
           2.738613861386139,
           2.738613861386139
          ],
          [
           2.988235294117647,
           2.988235294117647
          ],
          [
           2.736,
           2.736
          ],
          [
           2.707692307692308,
           2.707692307692308
          ]
         ],
         "domain": {
          "x": [
           0,
           1
          ],
          "y": [
           0,
           1
          ]
         },
         "hovertemplate": "<b>%{label}</b><br>Count: %{value}<br>Course GPA: %{customdata[1]:.2f}<br>Age Group GPA: %{customdata[0]:.2f}",
         "ids": [
          "Bachelor of Business Administration/25 to 40",
          "Certificate in Digital Marketing/25 to 40",
          "Certificate in HR Management/25 to 40",
          "Diploma in Business Administration/25 to 40",
          "Master of Business Administration/25 to 40",
          "Bachelor of Business Administration/40 and Above",
          "Certificate in Digital Marketing/40 and Above",
          "Certificate in HR Management/40 and Above",
          "Diploma in Business Administration/40 and Above",
          "Master of Business Administration/40 and Above",
          "Certificate in Digital Marketing/Below 25",
          "Certificate in HR Management/Below 25",
          "Master of Business Administration/Below 25",
          "Bachelor of Business Administration",
          "Certificate in Digital Marketing",
          "Certificate in HR Management",
          "Diploma in Business Administration",
          "Master of Business Administration"
         ],
         "insidetextorientation": "radial",
         "labels": [
          "25 to 40",
          "25 to 40",
          "25 to 40",
          "25 to 40",
          "25 to 40",
          "40 and Above",
          "40 and Above",
          "40 and Above",
          "40 and Above",
          "40 and Above",
          "Below 25",
          "Below 25",
          "Below 25",
          "Bachelor of Business Administration",
          "Certificate in Digital Marketing",
          "Certificate in HR Management",
          "Diploma in Business Administration",
          "Master of Business Administration"
         ],
         "marker": {
          "coloraxis": "coloraxis",
          "colors": [
           2.5736842105263156,
           2.6636363636363636,
           2.9761904761904763,
           2.7925925925925927,
           2.6785714285714284,
           2.7642857142857147,
           2.8318181818181816,
           2.9714285714285715,
           2.6695652173913045,
           2.627272727272727,
           2.75,
           3.0500000000000003,
           4,
           2.6545454545454543,
           2.738613861386139,
           2.988235294117647,
           2.736,
           2.707692307692308
          ]
         },
         "name": "",
         "parents": [
          "Bachelor of Business Administration",
          "Certificate in Digital Marketing",
          "Certificate in HR Management",
          "Diploma in Business Administration",
          "Master of Business Administration",
          "Bachelor of Business Administration",
          "Certificate in Digital Marketing",
          "Certificate in HR Management",
          "Diploma in Business Administration",
          "Master of Business Administration",
          "Certificate in Digital Marketing",
          "Certificate in HR Management",
          "Master of Business Administration",
          "",
          "",
          "",
          "",
          ""
         ],
         "textfont": {
          "size": 14
         },
         "type": "sunburst",
         "values": [
          19,
          55,
          21,
          27,
          14,
          14,
          44,
          7,
          23,
          11,
          2,
          6,
          1,
          33,
          101,
          34,
          50,
          26
         ]
        }
       ],
       "layout": {
        "coloraxis": {
         "colorbar": {
          "title": {
           "text": "Avg_GPA"
          }
         },
         "colorscale": [
          [
           0,
           "rgb(2,56,88)"
          ],
          [
           0.125,
           "rgb(4,90,141)"
          ],
          [
           0.25,
           "rgb(5,112,176)"
          ],
          [
           0.375,
           "rgb(54,144,192)"
          ],
          [
           0.5,
           "rgb(116,169,207)"
          ],
          [
           0.625,
           "rgb(166,189,219)"
          ],
          [
           0.75,
           "rgb(208,209,230)"
          ],
          [
           0.875,
           "rgb(236,231,242)"
          ],
          [
           1,
           "rgb(255,247,251)"
          ]
         ]
        },
        "font": {
         "color": "black",
         "family": "Arial, sans-serif",
         "size": 16
        },
        "height": 1000,
        "legend": {
         "tracegroupgap": 0
        },
        "margin": {
         "b": 0,
         "l": 20,
         "r": 0,
         "t": 20
        },
        "template": {
         "data": {
          "bar": [
           {
            "error_x": {
             "color": "#2a3f5f"
            },
            "error_y": {
             "color": "#2a3f5f"
            },
            "marker": {
             "line": {
              "color": "#E5ECF6",
              "width": 0.5
             },
             "pattern": {
              "fillmode": "overlay",
              "size": 10,
              "solidity": 0.2
             }
            },
            "type": "bar"
           }
          ],
          "barpolar": [
           {
            "marker": {
             "line": {
              "color": "#E5ECF6",
              "width": 0.5
             },
             "pattern": {
              "fillmode": "overlay",
              "size": 10,
              "solidity": 0.2
             }
            },
            "type": "barpolar"
           }
          ],
          "carpet": [
           {
            "aaxis": {
             "endlinecolor": "#2a3f5f",
             "gridcolor": "white",
             "linecolor": "white",
             "minorgridcolor": "white",
             "startlinecolor": "#2a3f5f"
            },
            "baxis": {
             "endlinecolor": "#2a3f5f",
             "gridcolor": "white",
             "linecolor": "white",
             "minorgridcolor": "white",
             "startlinecolor": "#2a3f5f"
            },
            "type": "carpet"
           }
          ],
          "choropleth": [
           {
            "colorbar": {
             "outlinewidth": 0,
             "ticks": ""
            },
            "type": "choropleth"
           }
          ],
          "contour": [
           {
            "colorbar": {
             "outlinewidth": 0,
             "ticks": ""
            },
            "colorscale": [
             [
              0,
              "#0d0887"
             ],
             [
              0.1111111111111111,
              "#46039f"
             ],
             [
              0.2222222222222222,
              "#7201a8"
             ],
             [
              0.3333333333333333,
              "#9c179e"
             ],
             [
              0.4444444444444444,
              "#bd3786"
             ],
             [
              0.5555555555555556,
              "#d8576b"
             ],
             [
              0.6666666666666666,
              "#ed7953"
             ],
             [
              0.7777777777777778,
              "#fb9f3a"
             ],
             [
              0.8888888888888888,
              "#fdca26"
             ],
             [
              1,
              "#f0f921"
             ]
            ],
            "type": "contour"
           }
          ],
          "contourcarpet": [
           {
            "colorbar": {
             "outlinewidth": 0,
             "ticks": ""
            },
            "type": "contourcarpet"
           }
          ],
          "heatmap": [
           {
            "colorbar": {
             "outlinewidth": 0,
             "ticks": ""
            },
            "colorscale": [
             [
              0,
              "#0d0887"
             ],
             [
              0.1111111111111111,
              "#46039f"
             ],
             [
              0.2222222222222222,
              "#7201a8"
             ],
             [
              0.3333333333333333,
              "#9c179e"
             ],
             [
              0.4444444444444444,
              "#bd3786"
             ],
             [
              0.5555555555555556,
              "#d8576b"
             ],
             [
              0.6666666666666666,
              "#ed7953"
             ],
             [
              0.7777777777777778,
              "#fb9f3a"
             ],
             [
              0.8888888888888888,
              "#fdca26"
             ],
             [
              1,
              "#f0f921"
             ]
            ],
            "type": "heatmap"
           }
          ],
          "heatmapgl": [
           {
            "colorbar": {
             "outlinewidth": 0,
             "ticks": ""
            },
            "colorscale": [
             [
              0,
              "#0d0887"
             ],
             [
              0.1111111111111111,
              "#46039f"
             ],
             [
              0.2222222222222222,
              "#7201a8"
             ],
             [
              0.3333333333333333,
              "#9c179e"
             ],
             [
              0.4444444444444444,
              "#bd3786"
             ],
             [
              0.5555555555555556,
              "#d8576b"
             ],
             [
              0.6666666666666666,
              "#ed7953"
             ],
             [
              0.7777777777777778,
              "#fb9f3a"
             ],
             [
              0.8888888888888888,
              "#fdca26"
             ],
             [
              1,
              "#f0f921"
             ]
            ],
            "type": "heatmapgl"
           }
          ],
          "histogram": [
           {
            "marker": {
             "pattern": {
              "fillmode": "overlay",
              "size": 10,
              "solidity": 0.2
             }
            },
            "type": "histogram"
           }
          ],
          "histogram2d": [
           {
            "colorbar": {
             "outlinewidth": 0,
             "ticks": ""
            },
            "colorscale": [
             [
              0,
              "#0d0887"
             ],
             [
              0.1111111111111111,
              "#46039f"
             ],
             [
              0.2222222222222222,
              "#7201a8"
             ],
             [
              0.3333333333333333,
              "#9c179e"
             ],
             [
              0.4444444444444444,
              "#bd3786"
             ],
             [
              0.5555555555555556,
              "#d8576b"
             ],
             [
              0.6666666666666666,
              "#ed7953"
             ],
             [
              0.7777777777777778,
              "#fb9f3a"
             ],
             [
              0.8888888888888888,
              "#fdca26"
             ],
             [
              1,
              "#f0f921"
             ]
            ],
            "type": "histogram2d"
           }
          ],
          "histogram2dcontour": [
           {
            "colorbar": {
             "outlinewidth": 0,
             "ticks": ""
            },
            "colorscale": [
             [
              0,
              "#0d0887"
             ],
             [
              0.1111111111111111,
              "#46039f"
             ],
             [
              0.2222222222222222,
              "#7201a8"
             ],
             [
              0.3333333333333333,
              "#9c179e"
             ],
             [
              0.4444444444444444,
              "#bd3786"
             ],
             [
              0.5555555555555556,
              "#d8576b"
             ],
             [
              0.6666666666666666,
              "#ed7953"
             ],
             [
              0.7777777777777778,
              "#fb9f3a"
             ],
             [
              0.8888888888888888,
              "#fdca26"
             ],
             [
              1,
              "#f0f921"
             ]
            ],
            "type": "histogram2dcontour"
           }
          ],
          "mesh3d": [
           {
            "colorbar": {
             "outlinewidth": 0,
             "ticks": ""
            },
            "type": "mesh3d"
           }
          ],
          "parcoords": [
           {
            "line": {
             "colorbar": {
              "outlinewidth": 0,
              "ticks": ""
             }
            },
            "type": "parcoords"
           }
          ],
          "pie": [
           {
            "automargin": true,
            "type": "pie"
           }
          ],
          "scatter": [
           {
            "fillpattern": {
             "fillmode": "overlay",
             "size": 10,
             "solidity": 0.2
            },
            "type": "scatter"
           }
          ],
          "scatter3d": [
           {
            "line": {
             "colorbar": {
              "outlinewidth": 0,
              "ticks": ""
             }
            },
            "marker": {
             "colorbar": {
              "outlinewidth": 0,
              "ticks": ""
             }
            },
            "type": "scatter3d"
           }
          ],
          "scattercarpet": [
           {
            "marker": {
             "colorbar": {
              "outlinewidth": 0,
              "ticks": ""
             }
            },
            "type": "scattercarpet"
           }
          ],
          "scattergeo": [
           {
            "marker": {
             "colorbar": {
              "outlinewidth": 0,
              "ticks": ""
             }
            },
            "type": "scattergeo"
           }
          ],
          "scattergl": [
           {
            "marker": {
             "colorbar": {
              "outlinewidth": 0,
              "ticks": ""
             }
            },
            "type": "scattergl"
           }
          ],
          "scattermapbox": [
           {
            "marker": {
             "colorbar": {
              "outlinewidth": 0,
              "ticks": ""
             }
            },
            "type": "scattermapbox"
           }
          ],
          "scatterpolar": [
           {
            "marker": {
             "colorbar": {
              "outlinewidth": 0,
              "ticks": ""
             }
            },
            "type": "scatterpolar"
           }
          ],
          "scatterpolargl": [
           {
            "marker": {
             "colorbar": {
              "outlinewidth": 0,
              "ticks": ""
             }
            },
            "type": "scatterpolargl"
           }
          ],
          "scatterternary": [
           {
            "marker": {
             "colorbar": {
              "outlinewidth": 0,
              "ticks": ""
             }
            },
            "type": "scatterternary"
           }
          ],
          "surface": [
           {
            "colorbar": {
             "outlinewidth": 0,
             "ticks": ""
            },
            "colorscale": [
             [
              0,
              "#0d0887"
             ],
             [
              0.1111111111111111,
              "#46039f"
             ],
             [
              0.2222222222222222,
              "#7201a8"
             ],
             [
              0.3333333333333333,
              "#9c179e"
             ],
             [
              0.4444444444444444,
              "#bd3786"
             ],
             [
              0.5555555555555556,
              "#d8576b"
             ],
             [
              0.6666666666666666,
              "#ed7953"
             ],
             [
              0.7777777777777778,
              "#fb9f3a"
             ],
             [
              0.8888888888888888,
              "#fdca26"
             ],
             [
              1,
              "#f0f921"
             ]
            ],
            "type": "surface"
           }
          ],
          "table": [
           {
            "cells": {
             "fill": {
              "color": "#EBF0F8"
             },
             "line": {
              "color": "white"
             }
            },
            "header": {
             "fill": {
              "color": "#C8D4E3"
             },
             "line": {
              "color": "white"
             }
            },
            "type": "table"
           }
          ]
         },
         "layout": {
          "annotationdefaults": {
           "arrowcolor": "#2a3f5f",
           "arrowhead": 0,
           "arrowwidth": 1
          },
          "autotypenumbers": "strict",
          "coloraxis": {
           "colorbar": {
            "outlinewidth": 0,
            "ticks": ""
           }
          },
          "colorscale": {
           "diverging": [
            [
             0,
             "#8e0152"
            ],
            [
             0.1,
             "#c51b7d"
            ],
            [
             0.2,
             "#de77ae"
            ],
            [
             0.3,
             "#f1b6da"
            ],
            [
             0.4,
             "#fde0ef"
            ],
            [
             0.5,
             "#f7f7f7"
            ],
            [
             0.6,
             "#e6f5d0"
            ],
            [
             0.7,
             "#b8e186"
            ],
            [
             0.8,
             "#7fbc41"
            ],
            [
             0.9,
             "#4d9221"
            ],
            [
             1,
             "#276419"
            ]
           ],
           "sequential": [
            [
             0,
             "#0d0887"
            ],
            [
             0.1111111111111111,
             "#46039f"
            ],
            [
             0.2222222222222222,
             "#7201a8"
            ],
            [
             0.3333333333333333,
             "#9c179e"
            ],
            [
             0.4444444444444444,
             "#bd3786"
            ],
            [
             0.5555555555555556,
             "#d8576b"
            ],
            [
             0.6666666666666666,
             "#ed7953"
            ],
            [
             0.7777777777777778,
             "#fb9f3a"
            ],
            [
             0.8888888888888888,
             "#fdca26"
            ],
            [
             1,
             "#f0f921"
            ]
           ],
           "sequentialminus": [
            [
             0,
             "#0d0887"
            ],
            [
             0.1111111111111111,
             "#46039f"
            ],
            [
             0.2222222222222222,
             "#7201a8"
            ],
            [
             0.3333333333333333,
             "#9c179e"
            ],
            [
             0.4444444444444444,
             "#bd3786"
            ],
            [
             0.5555555555555556,
             "#d8576b"
            ],
            [
             0.6666666666666666,
             "#ed7953"
            ],
            [
             0.7777777777777778,
             "#fb9f3a"
            ],
            [
             0.8888888888888888,
             "#fdca26"
            ],
            [
             1,
             "#f0f921"
            ]
           ]
          },
          "colorway": [
           "#636efa",
           "#EF553B",
           "#00cc96",
           "#ab63fa",
           "#FFA15A",
           "#19d3f3",
           "#FF6692",
           "#B6E880",
           "#FF97FF",
           "#FECB52"
          ],
          "font": {
           "color": "#2a3f5f"
          },
          "geo": {
           "bgcolor": "white",
           "lakecolor": "white",
           "landcolor": "#E5ECF6",
           "showlakes": true,
           "showland": true,
           "subunitcolor": "white"
          },
          "hoverlabel": {
           "align": "left"
          },
          "hovermode": "closest",
          "mapbox": {
           "style": "light"
          },
          "paper_bgcolor": "white",
          "plot_bgcolor": "#E5ECF6",
          "polar": {
           "angularaxis": {
            "gridcolor": "white",
            "linecolor": "white",
            "ticks": ""
           },
           "bgcolor": "#E5ECF6",
           "radialaxis": {
            "gridcolor": "white",
            "linecolor": "white",
            "ticks": ""
           }
          },
          "scene": {
           "xaxis": {
            "backgroundcolor": "#E5ECF6",
            "gridcolor": "white",
            "gridwidth": 2,
            "linecolor": "white",
            "showbackground": true,
            "ticks": "",
            "zerolinecolor": "white"
           },
           "yaxis": {
            "backgroundcolor": "#E5ECF6",
            "gridcolor": "white",
            "gridwidth": 2,
            "linecolor": "white",
            "showbackground": true,
            "ticks": "",
            "zerolinecolor": "white"
           },
           "zaxis": {
            "backgroundcolor": "#E5ECF6",
            "gridcolor": "white",
            "gridwidth": 2,
            "linecolor": "white",
            "showbackground": true,
            "ticks": "",
            "zerolinecolor": "white"
           }
          },
          "shapedefaults": {
           "line": {
            "color": "#2a3f5f"
           }
          },
          "ternary": {
           "aaxis": {
            "gridcolor": "white",
            "linecolor": "white",
            "ticks": ""
           },
           "baxis": {
            "gridcolor": "white",
            "linecolor": "white",
            "ticks": ""
           },
           "bgcolor": "#E5ECF6",
           "caxis": {
            "gridcolor": "white",
            "linecolor": "white",
            "ticks": ""
           }
          },
          "title": {
           "x": 0.05
          },
          "xaxis": {
           "automargin": true,
           "gridcolor": "white",
           "linecolor": "white",
           "ticks": "",
           "title": {
            "standoff": 15
           },
           "zerolinecolor": "white",
           "zerolinewidth": 2
          },
          "yaxis": {
           "automargin": true,
           "gridcolor": "white",
           "linecolor": "white",
           "ticks": "",
           "title": {
            "standoff": 15
           },
           "zerolinecolor": "white",
           "zerolinewidth": 2
          }
         }
        },
        "title": {
         "font": {
          "color": "black",
          "family": "Arial, sans-serif",
          "size": 24
         },
         "text": "Course and Age with Average GPAs",
         "x": 0.45,
         "xanchor": "center",
         "y": 0.95,
         "yanchor": "top"
        },
        "width": 1000
       }
      }
     },
     "metadata": {},
     "output_type": "display_data"
    }
   ],
   "source": [
    "import pandas as pd\n",
    "import numpy as np\n",
    "import plotly.express as px\n",
    "\n",
    "# Drop rows with missing values in the relevant columns\n",
    "df.dropna(subset=['COURSE', 'Age Group', 'GPA'], inplace=True)\n",
    "\n",
    "# Filter data to include only the top 5 courses by student count\n",
    "top_courses = df['COURSE'].value_counts().nlargest(5).index\n",
    "df_filtered = df[df['COURSE'].isin(top_courses)]\n",
    "\n",
    "# Add a Count column for aggregation\n",
    "df_filtered['Count'] = 1\n",
    "\n",
    "# Group by course and age group and calculate average GPA and count\n",
    "df_grouped = df_filtered.groupby(['COURSE', 'Age Group']).agg(\n",
    "    Count=('Count', 'sum'),\n",
    "    Avg_GPA=('GPA', 'mean')\n",
    ").reset_index()\n",
    "\n",
    "# Calculate average GPA for each course\n",
    "course_gpa = df_filtered.groupby('COURSE')['GPA'].mean().reset_index(name='GPA_course')\n",
    "\n",
    "# Merge the average GPAs into the grouped dataframe\n",
    "df_grouped = df_grouped.merge(course_gpa, on='COURSE')\n",
    "\n",
    "# Remove any rows where Count is 0\n",
    "df_grouped = df_grouped[df_grouped['Count'] > 0]\n",
    "\n",
    "# Create the sunburst plot with a custom color scheme\n",
    "fig = px.sunburst(df_grouped, path=['COURSE', 'Age Group'], values='Count',\n",
    "                  color='Avg_GPA', \n",
    "                  color_continuous_scale='PuBu_r',\n",
    "                  hover_data={\n",
    "                      'Avg_GPA': ':.2f',\n",
    "                      'GPA_course': ':.2f'\n",
    "                  })\n",
    "\n",
    "# Update traces for better visibility\n",
    "fig.update_traces(\n",
    "    hovertemplate='<b>%{label}</b><br>' +\n",
    "                  'Count: %{value}<br>' +\n",
    "                  'Course GPA: %{customdata[1]:.2f}<br>' +\n",
    "                  'Age Group GPA: %{customdata[0]:.2f}',\n",
    "    insidetextorientation='radial',\n",
    "    textfont=dict(size=14)\n",
    ")\n",
    "\n",
    "# Update layout for better aesthetics and readability\n",
    "fig.update_layout(\n",
    "    title={\n",
    "        'text': 'Course and Age with Average GPAs',\n",
    "        'y':0.95,\n",
    "        'x':0.45,\n",
    "        'xanchor': 'center',\n",
    "        'yanchor': 'top'\n",
    "    },\n",
    "    title_font=dict(size=24, family='Arial, sans-serif', color='black'),\n",
    "    font=dict(family='Arial, sans-serif', size=16, color='black'),\n",
    "    margin=dict(t=20, l=20, r=0, b=0),\n",
    "    width=1000,  # Increase width\n",
    "    height=1000  # Increase height\n",
    ")\n",
    "# Show the plot\n",
    "fig.show()"
   ]
  },
  {
   "cell_type": "markdown",
   "metadata": {},
   "source": [
    "## Plotly Graph Object Age Distribution by Course Funding \n",
    "\n",
    "This graph shows the distribution of age against course funding for the students, highlighting how many students are being sponsored or have subsidies.\n",
    "\n",
    "For all three categories, students aged 40 are the most densely represented. Sponsored students tend to be the youngest on average, while Individual and Subsidized students share the same median age.\n",
    "\n",
    "The data reveals that the Individual category has the most students, primarily clustered between ages 30 and 40. Subsidized students are mostly around ages 30 to 35, and Sponsored students are also mainly between ages 30 and 35.\n",
    "\n",
    "Outliers are present in all three funding groups, mostly at higher ages, with the Individual category having the most overall.\n"
   ]
  },
  {
   "cell_type": "code",
   "execution_count": 189,
   "metadata": {},
   "outputs": [
    {
     "data": {
      "application/vnd.plotly.v1+json": {
       "config": {
        "plotlyServerURL": "https://plot.ly"
       },
       "data": [
        {
         "boxpoints": "all",
         "jitter": 0.3,
         "line": {
          "color": "#1a5276"
         },
         "marker": {
          "color": "#1a5276"
         },
         "name": "Individual",
         "notched": true,
         "showlegend": false,
         "type": "box",
         "whiskerwidth": 0.2,
         "y": [
          58,
          30,
          33,
          40,
          42,
          34,
          48,
          44,
          48,
          31,
          34,
          27,
          29,
          51,
          46,
          48,
          44,
          50,
          32,
          35,
          22,
          54,
          39,
          36,
          24,
          56,
          25,
          22,
          44,
          48,
          26,
          31,
          25,
          37,
          45,
          25,
          31,
          34,
          32,
          55,
          28,
          30,
          40,
          47,
          53,
          32,
          44,
          50,
          38,
          54,
          61,
          41,
          44,
          32,
          36,
          34,
          30,
          30,
          40,
          52,
          47,
          37,
          42,
          50,
          50,
          35,
          40,
          40,
          40,
          41,
          45,
          34,
          42,
          39,
          35,
          40,
          53,
          35,
          42,
          30,
          42,
          33,
          38,
          32,
          32,
          39,
          41,
          40,
          40,
          41,
          41,
          38,
          35,
          50,
          39,
          48,
          41,
          40,
          46,
          54,
          31,
          51,
          38,
          39,
          46,
          42,
          31,
          50,
          42,
          35,
          25,
          33,
          45,
          40,
          40,
          32,
          47,
          33,
          31,
          31,
          32,
          38,
          27,
          42,
          44,
          44,
          33,
          38,
          51,
          41,
          34,
          42,
          41
         ]
        },
        {
         "boxpoints": "all",
         "jitter": 0.3,
         "line": {
          "color": "#154360"
         },
         "marker": {
          "color": "#154360"
         },
         "name": "Subsidiesed",
         "notched": true,
         "showlegend": false,
         "type": "box",
         "whiskerwidth": 0.2,
         "y": [
          46,
          32,
          39,
          48,
          46,
          35,
          44,
          41,
          44,
          55,
          34,
          32,
          54,
          50,
          40,
          32,
          46,
          38,
          31,
          36,
          40,
          37,
          30,
          36,
          29,
          31,
          47,
          50,
          35,
          38,
          34,
          30,
          46,
          36,
          33,
          51,
          37,
          50,
          45,
          33,
          40,
          46,
          31,
          40,
          31,
          41,
          56,
          30,
          36,
          43,
          51,
          40,
          41,
          56,
          31,
          45,
          42,
          57,
          40,
          42,
          37,
          32
         ]
        },
        {
         "boxpoints": "all",
         "jitter": 0.3,
         "line": {
          "color": "#0f3c4d"
         },
         "marker": {
          "color": "#0f3c4d"
         },
         "name": "Sponsored",
         "notched": true,
         "showlegend": false,
         "type": "box",
         "whiskerwidth": 0.2,
         "y": [
          36,
          43,
          28,
          29,
          29,
          35,
          40,
          44,
          40,
          36,
          51,
          34,
          37,
          55,
          36,
          35,
          31,
          43,
          28,
          38,
          29,
          37,
          40,
          43,
          31,
          54,
          54,
          35,
          63,
          24,
          32,
          36,
          36,
          25,
          53,
          39,
          42,
          59,
          40,
          39,
          31,
          46,
          40,
          32,
          33,
          30,
          59,
          59,
          37
         ]
        }
       ],
       "layout": {
        "font": {
         "size": 12
        },
        "margin": {
         "b": 150
        },
        "paper_bgcolor": "white",
        "plot_bgcolor": "white",
        "template": {
         "data": {
          "bar": [
           {
            "error_x": {
             "color": "#2a3f5f"
            },
            "error_y": {
             "color": "#2a3f5f"
            },
            "marker": {
             "line": {
              "color": "#E5ECF6",
              "width": 0.5
             },
             "pattern": {
              "fillmode": "overlay",
              "size": 10,
              "solidity": 0.2
             }
            },
            "type": "bar"
           }
          ],
          "barpolar": [
           {
            "marker": {
             "line": {
              "color": "#E5ECF6",
              "width": 0.5
             },
             "pattern": {
              "fillmode": "overlay",
              "size": 10,
              "solidity": 0.2
             }
            },
            "type": "barpolar"
           }
          ],
          "carpet": [
           {
            "aaxis": {
             "endlinecolor": "#2a3f5f",
             "gridcolor": "white",
             "linecolor": "white",
             "minorgridcolor": "white",
             "startlinecolor": "#2a3f5f"
            },
            "baxis": {
             "endlinecolor": "#2a3f5f",
             "gridcolor": "white",
             "linecolor": "white",
             "minorgridcolor": "white",
             "startlinecolor": "#2a3f5f"
            },
            "type": "carpet"
           }
          ],
          "choropleth": [
           {
            "colorbar": {
             "outlinewidth": 0,
             "ticks": ""
            },
            "type": "choropleth"
           }
          ],
          "contour": [
           {
            "colorbar": {
             "outlinewidth": 0,
             "ticks": ""
            },
            "colorscale": [
             [
              0,
              "#0d0887"
             ],
             [
              0.1111111111111111,
              "#46039f"
             ],
             [
              0.2222222222222222,
              "#7201a8"
             ],
             [
              0.3333333333333333,
              "#9c179e"
             ],
             [
              0.4444444444444444,
              "#bd3786"
             ],
             [
              0.5555555555555556,
              "#d8576b"
             ],
             [
              0.6666666666666666,
              "#ed7953"
             ],
             [
              0.7777777777777778,
              "#fb9f3a"
             ],
             [
              0.8888888888888888,
              "#fdca26"
             ],
             [
              1,
              "#f0f921"
             ]
            ],
            "type": "contour"
           }
          ],
          "contourcarpet": [
           {
            "colorbar": {
             "outlinewidth": 0,
             "ticks": ""
            },
            "type": "contourcarpet"
           }
          ],
          "heatmap": [
           {
            "colorbar": {
             "outlinewidth": 0,
             "ticks": ""
            },
            "colorscale": [
             [
              0,
              "#0d0887"
             ],
             [
              0.1111111111111111,
              "#46039f"
             ],
             [
              0.2222222222222222,
              "#7201a8"
             ],
             [
              0.3333333333333333,
              "#9c179e"
             ],
             [
              0.4444444444444444,
              "#bd3786"
             ],
             [
              0.5555555555555556,
              "#d8576b"
             ],
             [
              0.6666666666666666,
              "#ed7953"
             ],
             [
              0.7777777777777778,
              "#fb9f3a"
             ],
             [
              0.8888888888888888,
              "#fdca26"
             ],
             [
              1,
              "#f0f921"
             ]
            ],
            "type": "heatmap"
           }
          ],
          "heatmapgl": [
           {
            "colorbar": {
             "outlinewidth": 0,
             "ticks": ""
            },
            "colorscale": [
             [
              0,
              "#0d0887"
             ],
             [
              0.1111111111111111,
              "#46039f"
             ],
             [
              0.2222222222222222,
              "#7201a8"
             ],
             [
              0.3333333333333333,
              "#9c179e"
             ],
             [
              0.4444444444444444,
              "#bd3786"
             ],
             [
              0.5555555555555556,
              "#d8576b"
             ],
             [
              0.6666666666666666,
              "#ed7953"
             ],
             [
              0.7777777777777778,
              "#fb9f3a"
             ],
             [
              0.8888888888888888,
              "#fdca26"
             ],
             [
              1,
              "#f0f921"
             ]
            ],
            "type": "heatmapgl"
           }
          ],
          "histogram": [
           {
            "marker": {
             "pattern": {
              "fillmode": "overlay",
              "size": 10,
              "solidity": 0.2
             }
            },
            "type": "histogram"
           }
          ],
          "histogram2d": [
           {
            "colorbar": {
             "outlinewidth": 0,
             "ticks": ""
            },
            "colorscale": [
             [
              0,
              "#0d0887"
             ],
             [
              0.1111111111111111,
              "#46039f"
             ],
             [
              0.2222222222222222,
              "#7201a8"
             ],
             [
              0.3333333333333333,
              "#9c179e"
             ],
             [
              0.4444444444444444,
              "#bd3786"
             ],
             [
              0.5555555555555556,
              "#d8576b"
             ],
             [
              0.6666666666666666,
              "#ed7953"
             ],
             [
              0.7777777777777778,
              "#fb9f3a"
             ],
             [
              0.8888888888888888,
              "#fdca26"
             ],
             [
              1,
              "#f0f921"
             ]
            ],
            "type": "histogram2d"
           }
          ],
          "histogram2dcontour": [
           {
            "colorbar": {
             "outlinewidth": 0,
             "ticks": ""
            },
            "colorscale": [
             [
              0,
              "#0d0887"
             ],
             [
              0.1111111111111111,
              "#46039f"
             ],
             [
              0.2222222222222222,
              "#7201a8"
             ],
             [
              0.3333333333333333,
              "#9c179e"
             ],
             [
              0.4444444444444444,
              "#bd3786"
             ],
             [
              0.5555555555555556,
              "#d8576b"
             ],
             [
              0.6666666666666666,
              "#ed7953"
             ],
             [
              0.7777777777777778,
              "#fb9f3a"
             ],
             [
              0.8888888888888888,
              "#fdca26"
             ],
             [
              1,
              "#f0f921"
             ]
            ],
            "type": "histogram2dcontour"
           }
          ],
          "mesh3d": [
           {
            "colorbar": {
             "outlinewidth": 0,
             "ticks": ""
            },
            "type": "mesh3d"
           }
          ],
          "parcoords": [
           {
            "line": {
             "colorbar": {
              "outlinewidth": 0,
              "ticks": ""
             }
            },
            "type": "parcoords"
           }
          ],
          "pie": [
           {
            "automargin": true,
            "type": "pie"
           }
          ],
          "scatter": [
           {
            "fillpattern": {
             "fillmode": "overlay",
             "size": 10,
             "solidity": 0.2
            },
            "type": "scatter"
           }
          ],
          "scatter3d": [
           {
            "line": {
             "colorbar": {
              "outlinewidth": 0,
              "ticks": ""
             }
            },
            "marker": {
             "colorbar": {
              "outlinewidth": 0,
              "ticks": ""
             }
            },
            "type": "scatter3d"
           }
          ],
          "scattercarpet": [
           {
            "marker": {
             "colorbar": {
              "outlinewidth": 0,
              "ticks": ""
             }
            },
            "type": "scattercarpet"
           }
          ],
          "scattergeo": [
           {
            "marker": {
             "colorbar": {
              "outlinewidth": 0,
              "ticks": ""
             }
            },
            "type": "scattergeo"
           }
          ],
          "scattergl": [
           {
            "marker": {
             "colorbar": {
              "outlinewidth": 0,
              "ticks": ""
             }
            },
            "type": "scattergl"
           }
          ],
          "scattermapbox": [
           {
            "marker": {
             "colorbar": {
              "outlinewidth": 0,
              "ticks": ""
             }
            },
            "type": "scattermapbox"
           }
          ],
          "scatterpolar": [
           {
            "marker": {
             "colorbar": {
              "outlinewidth": 0,
              "ticks": ""
             }
            },
            "type": "scatterpolar"
           }
          ],
          "scatterpolargl": [
           {
            "marker": {
             "colorbar": {
              "outlinewidth": 0,
              "ticks": ""
             }
            },
            "type": "scatterpolargl"
           }
          ],
          "scatterternary": [
           {
            "marker": {
             "colorbar": {
              "outlinewidth": 0,
              "ticks": ""
             }
            },
            "type": "scatterternary"
           }
          ],
          "surface": [
           {
            "colorbar": {
             "outlinewidth": 0,
             "ticks": ""
            },
            "colorscale": [
             [
              0,
              "#0d0887"
             ],
             [
              0.1111111111111111,
              "#46039f"
             ],
             [
              0.2222222222222222,
              "#7201a8"
             ],
             [
              0.3333333333333333,
              "#9c179e"
             ],
             [
              0.4444444444444444,
              "#bd3786"
             ],
             [
              0.5555555555555556,
              "#d8576b"
             ],
             [
              0.6666666666666666,
              "#ed7953"
             ],
             [
              0.7777777777777778,
              "#fb9f3a"
             ],
             [
              0.8888888888888888,
              "#fdca26"
             ],
             [
              1,
              "#f0f921"
             ]
            ],
            "type": "surface"
           }
          ],
          "table": [
           {
            "cells": {
             "fill": {
              "color": "#EBF0F8"
             },
             "line": {
              "color": "white"
             }
            },
            "header": {
             "fill": {
              "color": "#C8D4E3"
             },
             "line": {
              "color": "white"
             }
            },
            "type": "table"
           }
          ]
         },
         "layout": {
          "annotationdefaults": {
           "arrowcolor": "#2a3f5f",
           "arrowhead": 0,
           "arrowwidth": 1
          },
          "autotypenumbers": "strict",
          "coloraxis": {
           "colorbar": {
            "outlinewidth": 0,
            "ticks": ""
           }
          },
          "colorscale": {
           "diverging": [
            [
             0,
             "#8e0152"
            ],
            [
             0.1,
             "#c51b7d"
            ],
            [
             0.2,
             "#de77ae"
            ],
            [
             0.3,
             "#f1b6da"
            ],
            [
             0.4,
             "#fde0ef"
            ],
            [
             0.5,
             "#f7f7f7"
            ],
            [
             0.6,
             "#e6f5d0"
            ],
            [
             0.7,
             "#b8e186"
            ],
            [
             0.8,
             "#7fbc41"
            ],
            [
             0.9,
             "#4d9221"
            ],
            [
             1,
             "#276419"
            ]
           ],
           "sequential": [
            [
             0,
             "#0d0887"
            ],
            [
             0.1111111111111111,
             "#46039f"
            ],
            [
             0.2222222222222222,
             "#7201a8"
            ],
            [
             0.3333333333333333,
             "#9c179e"
            ],
            [
             0.4444444444444444,
             "#bd3786"
            ],
            [
             0.5555555555555556,
             "#d8576b"
            ],
            [
             0.6666666666666666,
             "#ed7953"
            ],
            [
             0.7777777777777778,
             "#fb9f3a"
            ],
            [
             0.8888888888888888,
             "#fdca26"
            ],
            [
             1,
             "#f0f921"
            ]
           ],
           "sequentialminus": [
            [
             0,
             "#0d0887"
            ],
            [
             0.1111111111111111,
             "#46039f"
            ],
            [
             0.2222222222222222,
             "#7201a8"
            ],
            [
             0.3333333333333333,
             "#9c179e"
            ],
            [
             0.4444444444444444,
             "#bd3786"
            ],
            [
             0.5555555555555556,
             "#d8576b"
            ],
            [
             0.6666666666666666,
             "#ed7953"
            ],
            [
             0.7777777777777778,
             "#fb9f3a"
            ],
            [
             0.8888888888888888,
             "#fdca26"
            ],
            [
             1,
             "#f0f921"
            ]
           ]
          },
          "colorway": [
           "#636efa",
           "#EF553B",
           "#00cc96",
           "#ab63fa",
           "#FFA15A",
           "#19d3f3",
           "#FF6692",
           "#B6E880",
           "#FF97FF",
           "#FECB52"
          ],
          "font": {
           "color": "#2a3f5f"
          },
          "geo": {
           "bgcolor": "white",
           "lakecolor": "white",
           "landcolor": "#E5ECF6",
           "showlakes": true,
           "showland": true,
           "subunitcolor": "white"
          },
          "hoverlabel": {
           "align": "left"
          },
          "hovermode": "closest",
          "mapbox": {
           "style": "light"
          },
          "paper_bgcolor": "white",
          "plot_bgcolor": "#E5ECF6",
          "polar": {
           "angularaxis": {
            "gridcolor": "white",
            "linecolor": "white",
            "ticks": ""
           },
           "bgcolor": "#E5ECF6",
           "radialaxis": {
            "gridcolor": "white",
            "linecolor": "white",
            "ticks": ""
           }
          },
          "scene": {
           "xaxis": {
            "backgroundcolor": "#E5ECF6",
            "gridcolor": "white",
            "gridwidth": 2,
            "linecolor": "white",
            "showbackground": true,
            "ticks": "",
            "zerolinecolor": "white"
           },
           "yaxis": {
            "backgroundcolor": "#E5ECF6",
            "gridcolor": "white",
            "gridwidth": 2,
            "linecolor": "white",
            "showbackground": true,
            "ticks": "",
            "zerolinecolor": "white"
           },
           "zaxis": {
            "backgroundcolor": "#E5ECF6",
            "gridcolor": "white",
            "gridwidth": 2,
            "linecolor": "white",
            "showbackground": true,
            "ticks": "",
            "zerolinecolor": "white"
           }
          },
          "shapedefaults": {
           "line": {
            "color": "#2a3f5f"
           }
          },
          "ternary": {
           "aaxis": {
            "gridcolor": "white",
            "linecolor": "white",
            "ticks": ""
           },
           "baxis": {
            "gridcolor": "white",
            "linecolor": "white",
            "ticks": ""
           },
           "bgcolor": "#E5ECF6",
           "caxis": {
            "gridcolor": "white",
            "linecolor": "white",
            "ticks": ""
           }
          },
          "title": {
           "x": 0.05
          },
          "xaxis": {
           "automargin": true,
           "gridcolor": "white",
           "linecolor": "white",
           "ticks": "",
           "title": {
            "standoff": 15
           },
           "zerolinecolor": "white",
           "zerolinewidth": 2
          },
          "yaxis": {
           "automargin": true,
           "gridcolor": "white",
           "linecolor": "white",
           "ticks": "",
           "title": {
            "standoff": 15
           },
           "zerolinecolor": "white",
           "zerolinewidth": 2
          }
         }
        },
        "title": {
         "text": "Age Distribution by Course Funding",
         "x": 0.5,
         "xanchor": "center"
        },
        "xaxis": {
         "tickangle": 0,
         "tickmode": "array",
         "ticktext": [
          "Individual",
          "Subsidiesed",
          "Sponsored"
         ],
         "tickvals": [
          0,
          1,
          2
         ],
         "title": {
          "text": "Course Funding"
         }
        },
        "yaxis": {
         "gridcolor": "lightgrey",
         "showgrid": true,
         "title": {
          "text": "Age"
         },
         "zeroline": true,
         "zerolinecolor": "lightgrey"
        }
       }
      }
     },
     "metadata": {},
     "output_type": "display_data"
    }
   ],
   "source": [
    "import plotly.graph_objects as go\n",
    "import pandas as pd\n",
    "import textwrap\n",
    "\n",
    "def wrap_text(text, width=15):\n",
    "    return '<br>'.join(textwrap.wrap(text, width=width))\n",
    "\n",
    "# Assuming df is your DataFrame\n",
    "# If you don't have df defined, you'll need to create or load it first\n",
    "\n",
    "# Calculate the count of data points for each course funding\n",
    "count_by_course_funding = df['COURSE FUNDING'].value_counts().reset_index()\n",
    "count_by_course_funding.columns = ['COURSE FUNDING', 'Count']\n",
    "count_by_course_funding = count_by_course_funding.sort_values(by='Count', ascending=False)\n",
    "\n",
    "# Reorder the DataFrame based on sorted course funding\n",
    "df['COURSE FUNDING'] = pd.Categorical(df['COURSE FUNDING'], categories=count_by_course_funding['COURSE FUNDING'], ordered=True)\n",
    "\n",
    "# Get sorted course funding labels\n",
    "course_funding_labels = count_by_course_funding['COURSE FUNDING']\n",
    "\n",
    "# Create a darker color scale\n",
    "colors = ['#1a5276', '#154360', '#0f3c4d', '#0b2c3a', '#071f28', '#031016', '#000506', '#000000']\n",
    "\n",
    "# Create the box plot\n",
    "fig = go.Figure()\n",
    "\n",
    "for i, course_funding in enumerate(course_funding_labels):\n",
    "    course_funding_data = df[df['COURSE FUNDING'] == course_funding]['Age']\n",
    "    \n",
    "    fig.add_trace(go.Box(\n",
    "        y=course_funding_data,\n",
    "        name=course_funding,\n",
    "        boxpoints='all',\n",
    "        jitter=0.3,\n",
    "        whiskerwidth=0.2,\n",
    "        marker_color=colors[i % len(colors)],\n",
    "        line_color=colors[i % len(colors)],\n",
    "        showlegend=False,\n",
    "        notched=True\n",
    "    ))\n",
    "\n",
    "# Wrap the course funding labels\n",
    "wrapped_labels = [wrap_text(label) for label in course_funding_labels]\n",
    "\n",
    "# Update layout\n",
    "fig.update_layout(\n",
    "    title={\n",
    "        'text': \"Age Distribution by Course Funding\",\n",
    "        'x': 0.5,\n",
    "        'xanchor': 'center'\n",
    "    },\n",
    "    xaxis=dict(\n",
    "        title=\"Course Funding\",\n",
    "        tickmode='array',\n",
    "        tickvals=list(range(len(course_funding_labels))),\n",
    "        ticktext=wrapped_labels,\n",
    "        tickangle=0\n",
    "    ),\n",
    "    yaxis=dict(\n",
    "        title=\"Age\"\n",
    "    ),\n",
    "    font=dict(\n",
    "        size=12\n",
    "    ),\n",
    "    plot_bgcolor='white',\n",
    "    paper_bgcolor='white',\n",
    "    margin=dict(b=150)  # Increase bottom margin to accommodate wrapped labels\n",
    ")\n",
    "\n",
    "# Update the x-axis to show all labels\n",
    "fig.update_xaxes(tickangle=0, tickmode='array', tickvals=list(range(len(course_funding_labels))), ticktext=wrapped_labels)\n",
    "\n",
    "# Update y-axis to have a white background with light grey gridlines\n",
    "fig.update_yaxes(\n",
    "    showgrid=True,\n",
    "    gridcolor='lightgrey',\n",
    "    zeroline=True,\n",
    "    zerolinecolor='lightgrey'\n",
    ")\n",
    "\n",
    "# Return the figure object\n",
    "fig.show()\n"
   ]
  },
  {
   "cell_type": "markdown",
   "metadata": {},
   "source": [
    "# Plotly DashBoard"
   ]
  },
  {
   "cell_type": "markdown",
   "metadata": {},
   "source": [
    "## Relationship between Course Funding and Courses over Age Group 25 to 40\n",
    "\n",
    "This analysis examines the relationship between course funding and courses for students aged 25 to 40.\n",
    "\n",
    "### Key Insights\n",
    "\n",
    "- **Course Enrollment**: The majority of students are enrolled in the Certificate in Digital Marketing course, with a count of 55 students. The courses with the lowest enrollment are the Bachelor of Business Administration and the Master of Business Administration.\n",
    "- **Funding Sources**: The heatmap shows that individual funding is the most common source for students aged 25-40. Sponsored and subsidized funding each account for roughly 25% of the students.\n",
    "- **Nationality and Funding**: The data indicates that permanent residents and foreigners do not typically apply for subsidized funding, which is mostly utilized by Singaporeans. This suggests that the majority of students aged 25-40 are Singaporeans, with the smallest group being foreigners at 14 students.\n",
    "\n",
    "### Course Popularity\n",
    "\n",
    "- The most popular course for students aged 25-40 is the Certificate in Digital Marketing, while the least popular is the Certificate in HR Management.\n",
    "- The graph also shows the distribution of students by course funding for ages 25-40. Individual funding is the predominant method, with sponsored and subsidized funding making up about 25% each.\n",
    "\n",
    "### Enrollment and Funding Factors\n",
    "\n",
    "- The most populated course, based on the filters applied, is the Diploma in Business Administration. The least populated courses are the Master of Business Administration and the Bachelor of Business Administration. One reason for this is that SkillsFuture Credits (SFC) can only be used for undergraduate courses offered by the Ministry of Education (MOE). These courses do not receive subsidies or sponsorships, leading to lower enrollment.\n",
    "\n",
    "This comprehensive analysis provides a clear picture of the course funding landscape and student demographics for the age group 25-40.\n"
   ]
  },
  {
   "cell_type": "code",
   "execution_count": 190,
   "metadata": {},
   "outputs": [
    {
     "data": {
      "text/html": [
       "\n",
       "        <iframe\n",
       "            width=\"100%\"\n",
       "            height=\"650\"\n",
       "            src=\"http://127.0.0.1:8123/\"\n",
       "            frameborder=\"0\"\n",
       "            allowfullscreen\n",
       "            \n",
       "        ></iframe>\n",
       "        "
      ],
      "text/plain": [
       "<IPython.lib.display.IFrame at 0x2187a7c07f0>"
      ]
     },
     "metadata": {},
     "output_type": "display_data"
    }
   ],
   "source": [
    "import dash\n",
    "import dash_bootstrap_components as dbc\n",
    "from dash import dcc, html\n",
    "from dash.dependencies import Input, Output\n",
    "import plotly.graph_objects as go\n",
    "import pandas as pd\n",
    "import numpy as np\n",
    "app = dash.Dash(__name__, external_stylesheets=[dbc.themes.FLATLY])\n",
    "\n",
    "colors = {\n",
    "    'background': '#f8f9fa',\n",
    "    'text': '#2c3e50',\n",
    "    'primary': '#3498db',\n",
    "    'secondary': '#2ecc71',\n",
    "    'accent': '#e74c3c'\n",
    "}\n",
    "\n",
    "# Assume df is your DataFrame\n",
    "# Make sure to load your data into df before this point\n",
    "\n",
    "def wrap_text_every_second_space(text):\n",
    "    words = text.split(' ')\n",
    "    return ' '.join([f'{words[i]} {words[i+1]}<br>' if i+1 < len(words) else words[i] for i in range(0, len(words), 2)]).strip()\n",
    "\n",
    "def wrap_text_every_second_space_2(text):\n",
    "    words = text.split()\n",
    "    return '<br>'.join(words)\n",
    "\n",
    "def create_heatmap(df, x_axis, y_axis, title_suffix=''):\n",
    "    heatmap_data = pd.crosstab(df[y_axis], df[x_axis])\n",
    "    fig_heatmap = go.Figure(data=go.Heatmap(\n",
    "        z=heatmap_data.values,\n",
    "        x=heatmap_data.columns,\n",
    "        y=heatmap_data.index,\n",
    "        colorscale='Blues',\n",
    "        text=heatmap_data.values,\n",
    "        texttemplate='%{text}',\n",
    "        colorbar=dict(title='Count')\n",
    "    ))\n",
    "\n",
    "    fig_heatmap.update_layout(\n",
    "        title=dict(text=f'{y_axis} vs {x_axis} {title_suffix}', x=0.5, xanchor='center', yanchor='top'),\n",
    "        xaxis_title=x_axis,\n",
    "        yaxis_title=y_axis,\n",
    "        xaxis=dict(\n",
    "            tickmode='array',\n",
    "            tickvals=list(range(len(heatmap_data.columns))),\n",
    "            ticktext=[wrap_text_every_second_space(label) for label in heatmap_data.columns],\n",
    "            tickangle=0\n",
    "        ),\n",
    "        plot_bgcolor='#ffffff',\n",
    "        paper_bgcolor='#ffffff',\n",
    "        font_color='#000000',\n",
    "        title_font_size=12,\n",
    "        legend_title_font_size=14,\n",
    "        legend_font_size=12,\n",
    "        margin=dict(l=40, r=40, t=40, b=40),\n",
    "        height=400\n",
    "    )\n",
    "\n",
    "    return fig_heatmap\n",
    "    \n",
    "def create_age_distribution_pie(df):\n",
    "    age_counts = df['COURSE FUNDING'].value_counts()\n",
    "    blue_colors = px.colors.sequential.Blues[::-2]  # Reverse the color scale\n",
    "    fig = go.Figure(data=[go.Pie(\n",
    "        labels=age_counts.index, \n",
    "        values=age_counts.values, \n",
    "        hole=0.4,\n",
    "        marker=dict(colors=blue_colors)\n",
    "    )])\n",
    "    fig.update_layout(\n",
    "        legend=dict(\n",
    "            orientation=\"h\",\n",
    "            yanchor=\"top\",\n",
    "            y=0.01,\n",
    "            xanchor=\"center\",\n",
    "            x=0.5,\n",
    "            font=dict(size=12)\n",
    "        ),\n",
    "        margin=dict(l=20, r=20, t=0, b=20),\n",
    "        height=400,\n",
    "        autosize=True\n",
    "    )\n",
    "    return fig\n",
    "\n",
    "def create_nationality_histogram(df):\n",
    "    # Calculate the total counts per COURSE and sort them\n",
    "    total_counts = df['COURSE'].value_counts().reset_index()\n",
    "    total_counts.columns = ['COURSE', 'counts']\n",
    "    total_counts = total_counts.sort_values(by='counts', ascending=False)\n",
    "    \n",
    "    # Assign gradient colors\n",
    "    blue_colors = px.colors.sequential.Blues[::-1]\n",
    "    \n",
    "    # Merge sorted counts back with the original dataframe\n",
    "    df = df.merge(total_counts[['COURSE', 'counts']], on='COURSE')\n",
    "    \n",
    "    # Reorder courses in the dataframe according to sorted counts\n",
    "    df['COURSE'] = pd.Categorical(df['COURSE'], categories=total_counts['COURSE'], ordered=True)\n",
    "    \n",
    "    fig = px.histogram(\n",
    "        df, \n",
    "        x=\"COURSE\",\n",
    "        color='COURSE',\n",
    "        category_orders={'COURSE': total_counts['COURSE'].tolist()},\n",
    "        color_discrete_sequence=blue_colors\n",
    "    )\n",
    "    \n",
    "    fig.update_layout(\n",
    "        showlegend=False,\n",
    "        title=\"Distribution by Course\",\n",
    "        xaxis_title=\"Course\",\n",
    "        yaxis_title=\"Count\",\n",
    "        height=400,\n",
    "        margin=dict(l=40, r=40, t=40, b=40),\n",
    "        plot_bgcolor='#ffffff',\n",
    "        paper_bgcolor='#ffffff',\n",
    "        xaxis=dict(\n",
    "            tickmode='array',\n",
    "            tickvals=list(range(len(df['COURSE'].unique()))),\n",
    "            ticktext=[wrap_text_every_second_space_2(label) for label in df['COURSE'].unique()],\n",
    "            tickangle=0\n",
    "        )\n",
    "    )\n",
    "    \n",
    "    return fig\n",
    "\n",
    "\n",
    "\n",
    "age_groups = df['Age Group'].unique()\n",
    "categorical_columns = df.select_dtypes(include=['object', 'category']).columns.tolist()\n",
    "categorical_columns = [col for col in categorical_columns if col not in [\n",
    "    'STUDENT ID', 'NAME OF QUALIFICATION AND INSTITUTION', 'DATE ATTAINED HIGHEST QUALIFICATION',\n",
    "    'DESIGNATION', 'INTAKE NO', 'COMMENCEMENT DATE', 'FULL-TIME OR PART-TIME',\n",
    "    'PAYMENT MODE', 'DOB', 'COMPLETION DATE', 'SALUTATION', 'HIGHEST QUALIFICATION'\n",
    "]]\n",
    "\n",
    "app.layout = dbc.Container([\n",
    "    dbc.Row([\n",
    "        dbc.Col([\n",
    "            html.H1(\"Rejey DAVI Dashboard\", className=\"display-4 text-primary mb-4\")\n",
    "        ], width=12, className='text-center')\n",
    "    ]),\n",
    "\n",
    "    dbc.Row([\n",
    "        dbc.Col([\n",
    "            dbc.Card([\n",
    "                dbc.CardBody([\n",
    "                    html.H4(\"Filters\", className=\"card-title mb-4\", style={'text-align': 'center','text-decoration': 'underline'}),\n",
    "                    html.H6(\"X axis\", className='text-muted mt-4'),\n",
    "                    dcc.Dropdown(\n",
    "                        id='x-axis',\n",
    "                        options=[{'label': cat, 'value': cat} for cat in categorical_columns],\n",
    "                        value='COURSE',\n",
    "                        style={'color': colors['text']},\n",
    "                        className=\"mb-3\"\n",
    "                    ),\n",
    "                    html.H6(\"Y axis\", className='text-muted mt-4'),\n",
    "                    dcc.Dropdown(\n",
    "                        id='y-axis',\n",
    "                        options=[{'label': cat, 'value': cat} for cat in categorical_columns],\n",
    "                        value='Job Category',\n",
    "                        style={'color': colors['text']},\n",
    "                        className=\"mb-3\"\n",
    "                    ),\n",
    "                    html.H6(\"Job Category\", className=\"text-muted\"),\n",
    "                    dcc.Dropdown(\n",
    "                        id='Job-category',\n",
    "                        options=[{'label': 'All Data', 'value': 'ALL'}] + [{'label': category, 'value': category} for category in df['Job Category'].unique()],\n",
    "                        value='ALL',\n",
    "                        multi=True,\n",
    "                        style={'color': colors['text']},\n",
    "                        className=\"mb-3\"\n",
    "                    ),\n",
    "                    html.H6(\"Nationality\", className='text-muted mt-4'),\n",
    "                    dcc.Dropdown(\n",
    "                        id='radio-buttons',\n",
    "                        options=[{'label': 'All Data', 'value': 'ALL'}] + [{'label': nat, 'value': nat} for nat in df['NATIONALITY'].unique()],\n",
    "                        value='ALL',\n",
    "                        style={'color': colors['text']},\n",
    "                        className=\"mb-3\"\n",
    "                    ),\n",
    "                    html.H6(\"Gender\", className='text-muted mt-4'),\n",
    "                    dbc.RadioItems(\n",
    "                        id='Gender',\n",
    "                        options=[\n",
    "                            {'label': 'All', 'value': 'ALL'},\n",
    "                            {'label': 'Male', 'value': 'M'},\n",
    "                            {'label': 'Female', 'value': 'F'}\n",
    "                        ],\n",
    "                        value='ALL',\n",
    "                        inline=True,\n",
    "                        className=\"mb-3\"\n",
    "                    )\n",
    "                ])\n",
    "            ], className=\"shadow-sm\", style={'border-radius': '10px','height':'95.5%'})\n",
    "        ], width=3),\n",
    "\n",
    "        dbc.Col([\n",
    "            dbc.Card([\n",
    "                dbc.CardBody([\n",
    "                    dcc.Tabs(id='heatmap-tabs', value=age_groups[0], children=[\n",
    "                        dcc.Tab(label=group, value=group) for group in age_groups\n",
    "                    ]),\n",
    "                    html.Div(id='heatmap-container')\n",
    "                ])\n",
    "            ], className=\"mb-4\"),\n",
    "        ], width=9)\n",
    "    ]),\n",
    "\n",
    "    dbc.Row([\n",
    "        dbc.Col([\n",
    "            dbc.Card([\n",
    "                dbc.CardBody([\n",
    "                    html.H4(\"Summary\", className=\"card-title mb-4\", style={'text-align': 'center', 'text-decoration': 'underline','font-weight':'bold'}),\n",
    "                    dbc.Row(\n",
    "                        [\n",
    "                            dbc.Col(html.H5(\"Total Students\", className=\"card-title mb-2\", style={'text-align': 'left','font-weight':'bold'}), width=\"auto\"),\n",
    "                            dbc.Col(html.H6(\n",
    "                                html.H4(id='Total_Students', style={'text-align': 'right'})\n",
    "                            ), width=\"auto\", style={'text-align': 'right'})\n",
    "                        ],\n",
    "                        className=\"d-flex justify-content-between\"\n",
    "                    ),\n",
    "                    html.Hr(),\n",
    "                    dbc.Row(\n",
    "                        [\n",
    "                            dbc.Col(html.H5(\"Overall GPA\", className=\"card-title mt-2 mb-2\", style={'text-align': 'left','font-weight':'bold'}), width=\"auto\"),\n",
    "                            dbc.Col(html.H6(\n",
    "                                html.H4(id='Overall_Gpa',className='mt-2', style={'text-align': 'right'})\n",
    "                            ), width=\"auto\", style={'text-align': 'right'})\n",
    "                        ],\n",
    "                        className=\"d-flex justify-content-between\"\n",
    "                    ),\n",
    "                    html.Hr(),\n",
    "                    dbc.Row(\n",
    "                        [\n",
    "                            dbc.Col(html.H5(\"Course\", className=\"card-title mt-2 mb-4\", style={'text-align': 'left','font-weight':'bold'}), width=\"auto\"),\n",
    "                            dbc.Col(html.H5(\"Average GPA\", className=\"card-title mt-2 mb-4\", style={'text-align': 'right','font-weight':'bold'}), width=\"auto\")\n",
    "                        ],\n",
    "                        className=\"d-flex justify-content-between\"\n",
    "                    ),\n",
    "                    *[dbc.Row(\n",
    "                        [\n",
    "                            dbc.Col(html.H6(id=f'{i}-course', style={'text-align': 'left'}),className='mb-2', width=\"auto\"),\n",
    "                            dbc.Col(html.H6(id=f'{i}-gpa', style={'text-align': 'right'}), width=\"auto\",className='mb-2', style={'text-align': 'right'})\n",
    "                        ],\n",
    "                        className=\"d-flex justify-content-between\"\n",
    "                    ) for i in range(1, 6)]\n",
    "                ])\n",
    "            ], className=\"mb-4\")\n",
    "        ], width=3),\n",
    "\n",
    "        dbc.Col([\n",
    "            dbc.Card([\n",
    "                dbc.CardBody([\n",
    "                    html.H5(\"Sponosrship Distribution\", className=\"card-title mb-2\", style={'text-align': 'center', 'text-decoration': 'underline','font-weight':'bold'}),\n",
    "                    dcc.Graph(id='age-distribution-pie', config={'displayModeBar': False})\n",
    "                ])\n",
    "            ], className=\"mb-3\", style={'height': '95.5%'})\n",
    "        ], width=3),\n",
    "\n",
    "        dbc.Col([\n",
    "            dbc.Card([\n",
    "                dbc.CardBody([\n",
    "                    html.H5(\"Distribution in Courses\", className=\"card-title mb-2\", style={'text-align': 'center', 'text-decoration': 'underline','font-weight':'bold'}),\n",
    "                    dcc.Graph(id='nationality-histogram')\n",
    "                ])\n",
    "            ], className=\"mb-3\")\n",
    "        ], width=6)\n",
    "    ])\n",
    "], fluid=True)\n",
    "\n",
    "@app.callback(\n",
    "    Output('heatmap-container', 'children'),\n",
    "    [Output(f'{i}-gpa', 'children') for i in range(1, 6)],\n",
    "    [Output(f'{i}-course', 'children') for i in range(1, 6)],\n",
    "    Output('Total_Students', 'children'),\n",
    "    Output('Overall_Gpa', 'children'),\n",
    "    Output('age-distribution-pie', 'figure'),\n",
    "    Output('nationality-histogram', 'figure'),\n",
    "    Input('radio-buttons', 'value'),\n",
    "    Input('Job-category', 'value'),\n",
    "    Input('Gender', 'value'),\n",
    "    Input('heatmap-tabs', 'value'),\n",
    "    Input('x-axis', 'value'),\n",
    "    Input('y-axis', 'value')\n",
    ")\n",
    "def update_graphs(selected_nationality, selected_job_categories, selected_gender, selected_tab, x_axis, y_axis):\n",
    "    filtered_df = df\n",
    "\n",
    "    filtered_df = filtered_df[filtered_df['Age Group'] == selected_tab]\n",
    "\n",
    "    if selected_nationality != 'ALL':\n",
    "        filtered_df = filtered_df[filtered_df['NATIONALITY'] == selected_nationality]\n",
    "    \n",
    "    if selected_job_categories != 'ALL':\n",
    "        filtered_df = filtered_df[filtered_df['Job Category'].isin(selected_job_categories)]\n",
    "        \n",
    "    if selected_gender != 'ALL':\n",
    "        filtered_df = filtered_df[filtered_df['GENDER'] == selected_gender]\n",
    "    \n",
    "    fig_heatmap = create_heatmap(filtered_df, x_axis, y_axis, f'(Age Group {selected_tab})')\n",
    "    fig_age_distribution = create_age_distribution_pie(filtered_df)\n",
    "    fig_nationality_histogram = create_nationality_histogram(filtered_df)\n",
    "\n",
    "    short_forms_code = {\n",
    "        1101: 'Diploma in Business Administration',\n",
    "        2101: 'Certificate in HR Management',\n",
    "        2102: 'Certificate in Digital Marketing',\n",
    "        5112: 'Bachelor of Business Administration',\n",
    "        5113: 'Master of Business Administration'\n",
    "    }\n",
    "\n",
    "    gpa_values = []\n",
    "    courses = list(short_forms_code.values())\n",
    "    for course in courses:\n",
    "        gpa = round(filtered_df.loc[filtered_df['COURSE'] == course, 'GPA'].mean(), 2)\n",
    "        gpa_values.append(gpa if pd.notna(gpa) else \"N/A\")\n",
    "\n",
    "    # Find the highest and lowest GPAs\n",
    "    numeric_gpas = [gpa for gpa in gpa_values if isinstance(gpa, (int, float))]\n",
    "    max_gpa = max(numeric_gpas) if numeric_gpas else None\n",
    "    min_gpa = min(numeric_gpas) if numeric_gpas else None\n",
    "\n",
    "    # Create styled GPA and course outputs\n",
    "    styled_gpas = []\n",
    "    styled_courses = []\n",
    "    for gpa, course in zip(gpa_values, courses):\n",
    "        if gpa == \"N/A\":\n",
    "            styled_gpas.append(html.Span(\"N/A\"))\n",
    "            styled_courses.append(html.Span(course))\n",
    "        elif gpa == max_gpa:\n",
    "            style = {'color': 'green', 'font-weight': 'bold'}\n",
    "            styled_gpas.append(html.Span(gpa, style=style))\n",
    "            styled_courses.append(html.Span(course, style=style))\n",
    "        elif gpa == min_gpa:\n",
    "            style = {'color': 'red', 'font-weight': 'bold'}\n",
    "            styled_gpas.append(html.Span(gpa, style=style))\n",
    "            styled_courses.append(html.Span(course, style=style))\n",
    "        else:\n",
    "            styled_gpas.append(html.Span(gpa))\n",
    "            styled_courses.append(html.Span(course))\n",
    "\n",
    "    Total_Students = filtered_df.shape[0]\n",
    "    \n",
    "    Overall_Gpa = round(filtered_df['GPA'].mean(), 2)\n",
    "    \n",
    "    return (\n",
    "        dcc.Graph(id='heatmap-graph', figure=fig_heatmap),\n",
    "        *styled_gpas,\n",
    "        *styled_courses,\n",
    "        Total_Students,\n",
    "        Overall_Gpa,\n",
    "        fig_age_distribution,\n",
    "        fig_nationality_histogram\n",
    "    )\n",
    "\n",
    "if __name__ == '__main__':\n",
    "    app.run_server(port=8123)"
   ]
  },
  {
   "cell_type": "code",
   "execution_count": null,
   "metadata": {},
   "outputs": [],
   "source": []
  }
 ],
 "metadata": {
  "kernelspec": {
   "display_name": "gpu_env",
   "language": "python",
   "name": "python3"
  },
  "language_info": {
   "codemirror_mode": {
    "name": "ipython",
    "version": 3
   },
   "file_extension": ".py",
   "mimetype": "text/x-python",
   "name": "python",
   "nbconvert_exporter": "python",
   "pygments_lexer": "ipython3",
   "version": "3.8.19"
  }
 },
 "nbformat": 4,
 "nbformat_minor": 2
}
